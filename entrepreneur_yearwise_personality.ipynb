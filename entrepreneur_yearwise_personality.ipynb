{
 "cells": [
  {
   "cell_type": "code",
   "execution_count": 3,
   "metadata": {},
   "outputs": [],
   "source": [
    "%load_ext autoreload\n",
    "%autoreload 2\n",
    "import pandas as pd\n",
    "import numpy as np\n",
    "import json\n",
    "from helpers import *\n",
    "import seaborn as sns\n",
    "import matplotlib.pyplot as plt\n",
    "plt.style.use('ggplot')"
   ]
  },
  {
   "cell_type": "code",
   "execution_count": 2,
   "metadata": {},
   "outputs": [],
   "source": [
    "speakers = pd.read_parquet('data/speaker_attributes.parquet')"
   ]
  },
  {
   "cell_type": "code",
   "execution_count": 3,
   "metadata": {},
   "outputs": [
    {
     "data": {
      "text/html": [
       "<div>\n",
       "<style scoped>\n",
       "    .dataframe tbody tr th:only-of-type {\n",
       "        vertical-align: middle;\n",
       "    }\n",
       "\n",
       "    .dataframe tbody tr th {\n",
       "        vertical-align: top;\n",
       "    }\n",
       "\n",
       "    .dataframe thead th {\n",
       "        text-align: right;\n",
       "    }\n",
       "</style>\n",
       "<table border=\"1\" class=\"dataframe\">\n",
       "  <thead>\n",
       "    <tr style=\"text-align: right;\">\n",
       "      <th></th>\n",
       "      <th>aliases</th>\n",
       "      <th>date_of_birth</th>\n",
       "      <th>nationality</th>\n",
       "      <th>gender</th>\n",
       "      <th>lastrevid</th>\n",
       "      <th>ethnic_group</th>\n",
       "      <th>US_congress_bio_ID</th>\n",
       "      <th>occupation</th>\n",
       "      <th>party</th>\n",
       "      <th>academic_degree</th>\n",
       "      <th>id</th>\n",
       "      <th>label</th>\n",
       "      <th>candidacy</th>\n",
       "      <th>type</th>\n",
       "      <th>religion</th>\n",
       "    </tr>\n",
       "  </thead>\n",
       "  <tbody>\n",
       "    <tr>\n",
       "      <th>0</th>\n",
       "      <td>[Washington, President Washington, G. Washingt...</td>\n",
       "      <td>[+1732-02-22T00:00:00Z]</td>\n",
       "      <td>[Q161885, Q30]</td>\n",
       "      <td>[Q6581097]</td>\n",
       "      <td>1395141751</td>\n",
       "      <td>None</td>\n",
       "      <td>W000178</td>\n",
       "      <td>[Q82955, Q189290, Q131512, Q1734662, Q294126, ...</td>\n",
       "      <td>[Q327591]</td>\n",
       "      <td>None</td>\n",
       "      <td>Q23</td>\n",
       "      <td>George Washington</td>\n",
       "      <td>[Q698073, Q697949]</td>\n",
       "      <td>item</td>\n",
       "      <td>[Q682443]</td>\n",
       "    </tr>\n",
       "    <tr>\n",
       "      <th>1</th>\n",
       "      <td>[Douglas Noel Adams, Douglas Noël Adams, Dougl...</td>\n",
       "      <td>[+1952-03-11T00:00:00Z]</td>\n",
       "      <td>[Q145]</td>\n",
       "      <td>[Q6581097]</td>\n",
       "      <td>1395737157</td>\n",
       "      <td>[Q7994501]</td>\n",
       "      <td>None</td>\n",
       "      <td>[Q214917, Q28389, Q6625963, Q4853732, Q1884422...</td>\n",
       "      <td>None</td>\n",
       "      <td>None</td>\n",
       "      <td>Q42</td>\n",
       "      <td>Douglas Adams</td>\n",
       "      <td>None</td>\n",
       "      <td>item</td>\n",
       "      <td>None</td>\n",
       "    </tr>\n",
       "    <tr>\n",
       "      <th>2</th>\n",
       "      <td>[Paul Marie Ghislain Otlet, Paul Marie Otlet]</td>\n",
       "      <td>[+1868-08-23T00:00:00Z]</td>\n",
       "      <td>[Q31]</td>\n",
       "      <td>[Q6581097]</td>\n",
       "      <td>1380367296</td>\n",
       "      <td>None</td>\n",
       "      <td>None</td>\n",
       "      <td>[Q36180, Q40348, Q182436, Q1265807, Q205375, Q...</td>\n",
       "      <td>None</td>\n",
       "      <td>None</td>\n",
       "      <td>Q1868</td>\n",
       "      <td>Paul Otlet</td>\n",
       "      <td>None</td>\n",
       "      <td>item</td>\n",
       "      <td>None</td>\n",
       "    </tr>\n",
       "    <tr>\n",
       "      <th>3</th>\n",
       "      <td>[George Walker Bush, Bush Jr., Dubya, GWB, Bus...</td>\n",
       "      <td>[+1946-07-06T00:00:00Z]</td>\n",
       "      <td>[Q30]</td>\n",
       "      <td>[Q6581097]</td>\n",
       "      <td>1395142029</td>\n",
       "      <td>None</td>\n",
       "      <td>None</td>\n",
       "      <td>[Q82955, Q15982858, Q18814623, Q1028181, Q1408...</td>\n",
       "      <td>[Q29468]</td>\n",
       "      <td>None</td>\n",
       "      <td>Q207</td>\n",
       "      <td>George W. Bush</td>\n",
       "      <td>[Q327959, Q464075, Q3586276, Q4450587]</td>\n",
       "      <td>item</td>\n",
       "      <td>[Q329646, Q682443, Q33203]</td>\n",
       "    </tr>\n",
       "    <tr>\n",
       "      <th>4</th>\n",
       "      <td>[Velázquez, Diego Rodríguez de Silva y Velázqu...</td>\n",
       "      <td>[+1599-06-06T00:00:00Z]</td>\n",
       "      <td>[Q29]</td>\n",
       "      <td>[Q6581097]</td>\n",
       "      <td>1391704596</td>\n",
       "      <td>None</td>\n",
       "      <td>None</td>\n",
       "      <td>[Q1028181]</td>\n",
       "      <td>None</td>\n",
       "      <td>None</td>\n",
       "      <td>Q297</td>\n",
       "      <td>Diego Velázquez</td>\n",
       "      <td>None</td>\n",
       "      <td>item</td>\n",
       "      <td>None</td>\n",
       "    </tr>\n",
       "  </tbody>\n",
       "</table>\n",
       "</div>"
      ],
      "text/plain": [
       "                                             aliases            date_of_birth  \\\n",
       "0  [Washington, President Washington, G. Washingt...  [+1732-02-22T00:00:00Z]   \n",
       "1  [Douglas Noel Adams, Douglas Noël Adams, Dougl...  [+1952-03-11T00:00:00Z]   \n",
       "2      [Paul Marie Ghislain Otlet, Paul Marie Otlet]  [+1868-08-23T00:00:00Z]   \n",
       "3  [George Walker Bush, Bush Jr., Dubya, GWB, Bus...  [+1946-07-06T00:00:00Z]   \n",
       "4  [Velázquez, Diego Rodríguez de Silva y Velázqu...  [+1599-06-06T00:00:00Z]   \n",
       "\n",
       "      nationality      gender   lastrevid ethnic_group US_congress_bio_ID  \\\n",
       "0  [Q161885, Q30]  [Q6581097]  1395141751         None            W000178   \n",
       "1          [Q145]  [Q6581097]  1395737157   [Q7994501]               None   \n",
       "2           [Q31]  [Q6581097]  1380367296         None               None   \n",
       "3           [Q30]  [Q6581097]  1395142029         None               None   \n",
       "4           [Q29]  [Q6581097]  1391704596         None               None   \n",
       "\n",
       "                                          occupation      party  \\\n",
       "0  [Q82955, Q189290, Q131512, Q1734662, Q294126, ...  [Q327591]   \n",
       "1  [Q214917, Q28389, Q6625963, Q4853732, Q1884422...       None   \n",
       "2  [Q36180, Q40348, Q182436, Q1265807, Q205375, Q...       None   \n",
       "3  [Q82955, Q15982858, Q18814623, Q1028181, Q1408...   [Q29468]   \n",
       "4                                         [Q1028181]       None   \n",
       "\n",
       "  academic_degree     id              label  \\\n",
       "0            None    Q23  George Washington   \n",
       "1            None    Q42      Douglas Adams   \n",
       "2            None  Q1868         Paul Otlet   \n",
       "3            None   Q207     George W. Bush   \n",
       "4            None   Q297    Diego Velázquez   \n",
       "\n",
       "                                candidacy  type                    religion  \n",
       "0                      [Q698073, Q697949]  item                   [Q682443]  \n",
       "1                                    None  item                        None  \n",
       "2                                    None  item                        None  \n",
       "3  [Q327959, Q464075, Q3586276, Q4450587]  item  [Q329646, Q682443, Q33203]  \n",
       "4                                    None  item                        None  "
      ]
     },
     "execution_count": 3,
     "metadata": {},
     "output_type": "execute_result"
    }
   ],
   "source": [
    "speakers.head()"
   ]
  },
  {
   "cell_type": "code",
   "execution_count": 4,
   "metadata": {},
   "outputs": [],
   "source": [
    "CEO_QID = 'Q6581097'\n",
    "ENTREPRENEUR_QID = 'Q131524'\n",
    "ARTIST_QID = 'Q483501'\n",
    "ceo_speakers = speakers[speakers.occupation.apply(lambda g: CEO_QID in g if g is not None else False)]\n",
    "artist_speakers = speakers[speakers.occupation.apply(lambda g: ARTIST_QID in g if g is not None else False)]\n",
    "entrepreneur_speakers = speakers[speakers.occupation.apply(lambda g: ENTREPRENEUR_QID in g if g is not None else False)]"
   ]
  },
  {
   "cell_type": "code",
   "execution_count": 5,
   "metadata": {},
   "outputs": [],
   "source": [
    "# extracting count of significant quotes for all the speakers in quotebank\n",
    "with open('data/signi-quote-count-combined_1636253317430.json') as f:\n",
    "    signi_quote_count_dict = json.load(f)"
   ]
  },
  {
   "cell_type": "code",
   "execution_count": 6,
   "metadata": {},
   "outputs": [
    {
     "data": {
      "text/plain": [
       "624492"
      ]
     },
     "execution_count": 6,
     "metadata": {},
     "output_type": "execute_result"
    }
   ],
   "source": [
    "len(signi_quote_count_dict)"
   ]
  },
  {
   "cell_type": "code",
   "execution_count": 7,
   "metadata": {},
   "outputs": [],
   "source": [
    "signi_quote_count_df = pd.Series(signi_quote_count_dict, name='signi_quote_count')"
   ]
  },
  {
   "cell_type": "code",
   "execution_count": 8,
   "metadata": {},
   "outputs": [],
   "source": [
    "signi_entrepreneur_speakers = entrepreneur_speakers.merge(signi_quote_count_df, left_on='id', right_index=True, how='inner')\n",
    "signi_entrepreneur_speakers = signi_entrepreneur_speakers.sort_values(by=['signi_quote_count'], ascending=False).iloc[:100]"
   ]
  },
  {
   "cell_type": "code",
   "execution_count": 9,
   "metadata": {},
   "outputs": [
    {
     "data": {
      "text/html": [
       "<div>\n",
       "<style scoped>\n",
       "    .dataframe tbody tr th:only-of-type {\n",
       "        vertical-align: middle;\n",
       "    }\n",
       "\n",
       "    .dataframe tbody tr th {\n",
       "        vertical-align: top;\n",
       "    }\n",
       "\n",
       "    .dataframe thead th {\n",
       "        text-align: right;\n",
       "    }\n",
       "</style>\n",
       "<table border=\"1\" class=\"dataframe\">\n",
       "  <thead>\n",
       "    <tr style=\"text-align: right;\">\n",
       "      <th></th>\n",
       "      <th>aliases</th>\n",
       "      <th>date_of_birth</th>\n",
       "      <th>nationality</th>\n",
       "      <th>gender</th>\n",
       "      <th>lastrevid</th>\n",
       "      <th>ethnic_group</th>\n",
       "      <th>US_congress_bio_ID</th>\n",
       "      <th>occupation</th>\n",
       "      <th>party</th>\n",
       "      <th>academic_degree</th>\n",
       "      <th>id</th>\n",
       "      <th>label</th>\n",
       "      <th>candidacy</th>\n",
       "      <th>type</th>\n",
       "      <th>religion</th>\n",
       "      <th>signi_quote_count</th>\n",
       "    </tr>\n",
       "  </thead>\n",
       "  <tbody>\n",
       "    <tr>\n",
       "      <th>2267061</th>\n",
       "      <td>[Donald John Trump, Donald J. Trump, Trump, Th...</td>\n",
       "      <td>[+1946-06-14T00:00:00Z]</td>\n",
       "      <td>[Q30]</td>\n",
       "      <td>[Q6581097]</td>\n",
       "      <td>1395141850</td>\n",
       "      <td>None</td>\n",
       "      <td>None</td>\n",
       "      <td>[Q911554, Q557880, Q3427922, Q15980158, Q13152...</td>\n",
       "      <td>[Q29468, Q1897793, Q29552, Q29468, Q29468]</td>\n",
       "      <td>[Q787674]</td>\n",
       "      <td>Q22686</td>\n",
       "      <td>Donald Trump</td>\n",
       "      <td>[Q699872, Q22923830, Q38051523]</td>\n",
       "      <td>item</td>\n",
       "      <td>[Q178169]</td>\n",
       "      <td>201293</td>\n",
       "    </tr>\n",
       "    <tr>\n",
       "      <th>7938171</th>\n",
       "      <td>[Elon Reeve Musk, Elon R. Musk, Elon R Musk]</td>\n",
       "      <td>[+1971-06-28T00:00:00Z]</td>\n",
       "      <td>[Q258, Q16, Q30]</td>\n",
       "      <td>[Q6581097]</td>\n",
       "      <td>1395054202</td>\n",
       "      <td>None</td>\n",
       "      <td>None</td>\n",
       "      <td>[Q15895020, Q205375, Q5482740, Q81096, Q131524...</td>\n",
       "      <td>None</td>\n",
       "      <td>None</td>\n",
       "      <td>Q317521</td>\n",
       "      <td>Elon Musk</td>\n",
       "      <td>None</td>\n",
       "      <td>item</td>\n",
       "      <td>[Q288928]</td>\n",
       "      <td>21644</td>\n",
       "    </tr>\n",
       "    <tr>\n",
       "      <th>4560262</th>\n",
       "      <td>[Malcolm Bligh Turnbull]</td>\n",
       "      <td>[+1954-10-24T00:00:00Z]</td>\n",
       "      <td>[Q408]</td>\n",
       "      <td>[Q6581097]</td>\n",
       "      <td>1388042865</td>\n",
       "      <td>None</td>\n",
       "      <td>None</td>\n",
       "      <td>[Q1930187, Q82955, Q131524, Q40348, Q2883465]</td>\n",
       "      <td>[Q241149]</td>\n",
       "      <td>None</td>\n",
       "      <td>Q927550</td>\n",
       "      <td>Malcolm Turnbull</td>\n",
       "      <td>None</td>\n",
       "      <td>item</td>\n",
       "      <td>[Q1841]</td>\n",
       "      <td>17720</td>\n",
       "    </tr>\n",
       "    <tr>\n",
       "      <th>4529756</th>\n",
       "      <td>[Mark Elliott Zuckerberg, Zuck, Zuckerberg, Ma...</td>\n",
       "      <td>[+1984-05-14T00:00:00Z]</td>\n",
       "      <td>[Q30]</td>\n",
       "      <td>[Q6581097]</td>\n",
       "      <td>1391311625</td>\n",
       "      <td>[Q7325]</td>\n",
       "      <td>None</td>\n",
       "      <td>[Q5482740, Q131524, Q82594, Q15472169, Q484876]</td>\n",
       "      <td>None</td>\n",
       "      <td>None</td>\n",
       "      <td>Q36215</td>\n",
       "      <td>Mark Zuckerberg</td>\n",
       "      <td>None</td>\n",
       "      <td>item</td>\n",
       "      <td>[Q7066, Q9268]</td>\n",
       "      <td>16025</td>\n",
       "    </tr>\n",
       "    <tr>\n",
       "      <th>1142938</th>\n",
       "      <td>[Kim Kardashian West, KiKi, Keeks, Kim K, Kimb...</td>\n",
       "      <td>[+1980-10-21T00:00:00Z]</td>\n",
       "      <td>[Q30]</td>\n",
       "      <td>[Q6581072]</td>\n",
       "      <td>1395690668</td>\n",
       "      <td>[Q2325516, Q1058496, Q1344183, Q1075293, Q3476...</td>\n",
       "      <td>None</td>\n",
       "      <td>[Q3501317, Q512314, Q4610556, Q8246794, Q13152...</td>\n",
       "      <td>[Q29552]</td>\n",
       "      <td>None</td>\n",
       "      <td>Q186304</td>\n",
       "      <td>Kim Kardashian</td>\n",
       "      <td>None</td>\n",
       "      <td>item</td>\n",
       "      <td>[Q5043]</td>\n",
       "      <td>10875</td>\n",
       "    </tr>\n",
       "  </tbody>\n",
       "</table>\n",
       "</div>"
      ],
      "text/plain": [
       "                                                   aliases  \\\n",
       "2267061  [Donald John Trump, Donald J. Trump, Trump, Th...   \n",
       "7938171       [Elon Reeve Musk, Elon R. Musk, Elon R Musk]   \n",
       "4560262                           [Malcolm Bligh Turnbull]   \n",
       "4529756  [Mark Elliott Zuckerberg, Zuck, Zuckerberg, Ma...   \n",
       "1142938  [Kim Kardashian West, KiKi, Keeks, Kim K, Kimb...   \n",
       "\n",
       "                   date_of_birth       nationality      gender   lastrevid  \\\n",
       "2267061  [+1946-06-14T00:00:00Z]             [Q30]  [Q6581097]  1395141850   \n",
       "7938171  [+1971-06-28T00:00:00Z]  [Q258, Q16, Q30]  [Q6581097]  1395054202   \n",
       "4560262  [+1954-10-24T00:00:00Z]            [Q408]  [Q6581097]  1388042865   \n",
       "4529756  [+1984-05-14T00:00:00Z]             [Q30]  [Q6581097]  1391311625   \n",
       "1142938  [+1980-10-21T00:00:00Z]             [Q30]  [Q6581072]  1395690668   \n",
       "\n",
       "                                              ethnic_group US_congress_bio_ID  \\\n",
       "2267061                                               None               None   \n",
       "7938171                                               None               None   \n",
       "4560262                                               None               None   \n",
       "4529756                                            [Q7325]               None   \n",
       "1142938  [Q2325516, Q1058496, Q1344183, Q1075293, Q3476...               None   \n",
       "\n",
       "                                                occupation  \\\n",
       "2267061  [Q911554, Q557880, Q3427922, Q15980158, Q13152...   \n",
       "7938171  [Q15895020, Q205375, Q5482740, Q81096, Q131524...   \n",
       "4560262      [Q1930187, Q82955, Q131524, Q40348, Q2883465]   \n",
       "4529756    [Q5482740, Q131524, Q82594, Q15472169, Q484876]   \n",
       "1142938  [Q3501317, Q512314, Q4610556, Q8246794, Q13152...   \n",
       "\n",
       "                                              party academic_degree       id  \\\n",
       "2267061  [Q29468, Q1897793, Q29552, Q29468, Q29468]       [Q787674]   Q22686   \n",
       "7938171                                        None            None  Q317521   \n",
       "4560262                                   [Q241149]            None  Q927550   \n",
       "4529756                                        None            None   Q36215   \n",
       "1142938                                    [Q29552]            None  Q186304   \n",
       "\n",
       "                    label                        candidacy  type  \\\n",
       "2267061      Donald Trump  [Q699872, Q22923830, Q38051523]  item   \n",
       "7938171         Elon Musk                             None  item   \n",
       "4560262  Malcolm Turnbull                             None  item   \n",
       "4529756   Mark Zuckerberg                             None  item   \n",
       "1142938    Kim Kardashian                             None  item   \n",
       "\n",
       "               religion  signi_quote_count  \n",
       "2267061       [Q178169]             201293  \n",
       "7938171       [Q288928]              21644  \n",
       "4560262         [Q1841]              17720  \n",
       "4529756  [Q7066, Q9268]              16025  \n",
       "1142938         [Q5043]              10875  "
      ]
     },
     "execution_count": 9,
     "metadata": {},
     "output_type": "execute_result"
    }
   ],
   "source": [
    "signi_entrepreneur_speakers.head()"
   ]
  },
  {
   "cell_type": "code",
   "execution_count": 10,
   "metadata": {},
   "outputs": [
    {
     "data": {
      "text/plain": [
       "100"
      ]
     },
     "execution_count": 10,
     "metadata": {},
     "output_type": "execute_result"
    }
   ],
   "source": [
    "len(signi_entrepreneur_speakers.id.to_list())"
   ]
  },
  {
   "cell_type": "code",
   "execution_count": 39,
   "metadata": {},
   "outputs": [
    {
     "name": "stderr",
     "output_type": "stream",
     "text": [
      "Processing year 2019: 3397it [17:09,  3.30it/s]\n"
     ]
    },
    {
     "name": "stdout",
     "output_type": "stream",
     "text": [
      "\n",
      "File data/quotebank/quotes-2019.json.bz2 processed in 1029.7s\n",
      "\n"
     ]
    },
    {
     "name": "stderr",
     "output_type": "stream",
     "text": [
      "Processing year 2020: 793it [04:01,  3.28it/s]"
     ]
    },
    {
     "name": "stdout",
     "output_type": "stream",
     "text": [
      "\n",
      "File data/quotebank/quotes-2020.json.bz2 processed in 241.6s\n",
      "\n",
      "\n",
      "\n",
      "Output file names:\n",
      "data/entrepreneur-speaker-quotes-2019_1639068384882.json\n",
      "data/entrepreneur-speaker-quotes-2020_1639068626708.json\n"
     ]
    },
    {
     "name": "stderr",
     "output_type": "stream",
     "text": [
      "\n"
     ]
    }
   ],
   "source": [
    "# retrieves the quotes for the significant top hundred speakers\n",
    "from functools import partial\n",
    "years = [2015, 2016, 2017, 2018, 2019, 2020]\n",
    "speaker_qids = signi_entrepreneur_speakers.id.to_list()\n",
    "output_list = []\n",
    "\n",
    "for year in years:\n",
    "    path_to_input = PATTERN_INPUT.format(year)\n",
    "    \n",
    "    # Process quote file\n",
    "    output_name = process_compressed_json_file(path_to_input, 'data/entrepreneur-speaker-quotes', year, partial(check_if_speaker_quote, speakers=speaker_qids))\n",
    "    \n",
    "    output_list.append(output_name)\n",
    "\n",
    "print('\\n\\nOutput file names:')\n",
    "for file_name in output_list:\n",
    "    print(file_name)"
   ]
  },
  {
   "cell_type": "code",
   "execution_count": 11,
   "metadata": {},
   "outputs": [
    {
     "name": "stdout",
     "output_type": "stream",
     "text": [
      "['data/entrepreneur-speaker-quotes-2015_1639058393619.json', 'data/entrepreneur-speaker-quotes-2016_1639059086240.json', 'data/entrepreneur-speaker-quotes-2017_1639060611970.json', 'data/entrepreneur-speaker-quotes-2018_1639061980207.json', 'data/entrepreneur-speaker-quotes-2019_1639068384882.json', 'data/entrepreneur-speaker-quotes-2020_1639068626708.json']\n"
     ]
    }
   ],
   "source": [
    "output_list = ['data/entrepreneur-speaker-quotes-2015_1639058393619.json', 'data/entrepreneur-speaker-quotes-2016_1639059086240.json', 'data/entrepreneur-speaker-quotes-2017_1639060611970.json', 'data/entrepreneur-speaker-quotes-2018_1639061980207.json', 'data/entrepreneur-speaker-quotes-2019_1639068384882.json', 'data/entrepreneur-speaker-quotes-2020_1639068626708.json']\n",
    "print(output_list)"
   ]
  },
  {
   "cell_type": "code",
   "execution_count": 12,
   "metadata": {},
   "outputs": [],
   "source": [
    "output_list_2018 = ['data/entrepreneur-speaker-quotes-2020_1639068626708.json']"
   ]
  },
  {
   "cell_type": "code",
   "execution_count": 13,
   "metadata": {},
   "outputs": [],
   "source": [
    "entrepreneur_combined_2015 = combine_quotes_files(['data/entrepreneur-speaker-quotes-2015_1639058393619.json'])\n",
    "entrepreneur_combined_2016 = combine_quotes_files(['data/entrepreneur-speaker-quotes-2016_1639059086240.json'])\n",
    "entrepreneur_combined_2017 = combine_quotes_files(['data/entrepreneur-speaker-quotes-2017_1639060611970.json'])\n",
    "entrepreneur_combined_2018 = combine_quotes_files(['data/entrepreneur-speaker-quotes-2018_1639061980207.json'])\n",
    "entrepreneur_combined_2019 = combine_quotes_files(['data/entrepreneur-speaker-quotes-2019_1639068384882.json'])\n",
    "entrepreneur_combined_2020 = combine_quotes_files(['data/entrepreneur-speaker-quotes-2020_1639068626708.json'])"
   ]
  },
  {
   "cell_type": "code",
   "execution_count": 14,
   "metadata": {},
   "outputs": [
    {
     "data": {
      "text/plain": [
       "100"
      ]
     },
     "execution_count": 14,
     "metadata": {},
     "output_type": "execute_result"
    }
   ],
   "source": [
    "len(entrepreneur_combined_2020)"
   ]
  },
  {
   "cell_type": "code",
   "execution_count": 15,
   "metadata": {},
   "outputs": [],
   "source": [
    "entrepreneur_quotes_2015, filtered_quotes_2015 = filter_quotes(entrepreneur_combined_2015)\n",
    "entrepreneur_quotes_2016, filtered_quotes_2016 = filter_quotes(entrepreneur_combined_2016)\n",
    "entrepreneur_quotes_2017, filtered_quotes_2017 = filter_quotes(entrepreneur_combined_2017)\n",
    "entrepreneur_quotes_2018, filtered_quotes_2018 = filter_quotes(entrepreneur_combined_2018)\n",
    "entrepreneur_quotes_2019, filtered_quotes_2019 = filter_quotes(entrepreneur_combined_2019)\n",
    "entrepreneur_quotes_2020, filtered_quotes_2020 = filter_quotes(entrepreneur_combined_2020)"
   ]
  },
  {
   "cell_type": "code",
   "execution_count": 16,
   "metadata": {},
   "outputs": [
    {
     "data": {
      "text/plain": [
       "[{'quotation': 'total and complete shutdown (http://www.marketwatch.com/story/trump-calls-for-complete-shutdown-of-muslims-entering-us-2015-12-07)',\n",
       "  'proba': '0.8537'},\n",
       " {'quotation': 'The latest book on Hillary -- Wow, a really tough one! http://www.amazon.com/dp/151070678X\\xa0 @RogerJStoneJr.',\n",
       "  'proba': '0.8819'},\n",
       " {'quotation': \"become president of the US ”.Net anyahu had on Wednesday confirmed he would meet the frontrunner for the Republican presidential nomination to succeed Barack Obama in the White House despite an international outcry... Recent related news World' Trump cancels Israel visit after uproar over his comments GOP presidential front-runner Donald Trump canceled plans Thursday to visit Israel, a trip for which even Prime Minister Benjamin Netanyahu -- widely seen as an... * By The Canadian Press * WASHINGTON -- The Associated Press has learned that Republican presidential candidate Donald Trump plans to visit the majority-Muslim... CJME 2 days ago-World You Might Like ISRAEL's Occupation Is Morally Indefensible Twitter Sarah Kate RT @J_indetroit: Trump @realDonaldTrump cancels his visit to Israel after public criticism from Netanyahu. Good. https://t.co/hhxiFJNmW8\\xa0 1 minute ago News Now Trump cancels Israel visit after uproar over his comments::\",\n",
       "  'proba': '0.8573'},\n",
       " {'quotation': 'the for & shy; got & shy; ten people of the Re & shy; pub & shy; lic.',\n",
       "  'proba': '0.8474'},\n",
       " {'quotation': '[ He is ] a maniac.', 'proba': '0.805'}]"
      ]
     },
     "execution_count": 16,
     "metadata": {},
     "output_type": "execute_result"
    }
   ],
   "source": [
    "filtered_quotes_2015[:5]"
   ]
  },
  {
   "cell_type": "code",
   "execution_count": 17,
   "metadata": {},
   "outputs": [],
   "source": [
    "entrepreneur_quotes_2015_concat = concatenate_quotes(entrepreneur_quotes_2015)\n",
    "entrepreneur_quotes_2016_concat = concatenate_quotes(entrepreneur_quotes_2016)\n",
    "entrepreneur_quotes_2017_concat = concatenate_quotes(entrepreneur_quotes_2017)\n",
    "entrepreneur_quotes_2018_concat = concatenate_quotes(entrepreneur_quotes_2018)\n",
    "entrepreneur_quotes_2019_concat = concatenate_quotes(entrepreneur_quotes_2019)\n",
    "entrepreneur_quotes_2020_concat = concatenate_quotes(entrepreneur_quotes_2020)"
   ]
  },
  {
   "cell_type": "code",
   "execution_count": 35,
   "metadata": {},
   "outputs": [
    {
     "data": {
      "text/plain": [
       "'data/entrepreneur_quotes_concated_1639070500793.json'"
      ]
     },
     "execution_count": 35,
     "metadata": {},
     "output_type": "execute_result"
    }
   ],
   "source": [
    "write_json_to_file('data/entrepreneur_quotes_2018_concated', entrepreneur_quotes_2015_concat)\n",
    "write_json_to_file('data/entrepreneur_quotes_2019_concated', entrepreneur_quotes_2016_concat)\n",
    "write_json_to_file('data/entrepreneur_quotes_2020_concated', entrepreneur_quotes_2017_concat)\n",
    "write_json_to_file('data/entrepreneur_quotes_2018_concated', entrepreneur_quotes_2018_concat)\n",
    "write_json_to_file('data/entrepreneur_quotes_2019_concated', entrepreneur_quotes_2019_concat)\n",
    "write_json_to_file('data/entrepreneur_quotes_2020_concated', entrepreneur_quotes_2020_concat)"
   ]
  },
  {
   "cell_type": "code",
   "execution_count": 18,
   "metadata": {},
   "outputs": [],
   "source": [
    "entrepreneur_quotes_2015_df = pd.Series(entrepreneur_quotes_2015_concat, name='quotations')\n",
    "entrepreneur_quotes_2016_df = pd.Series(entrepreneur_quotes_2016_concat, name='quotations')\n",
    "entrepreneur_quotes_2017_df = pd.Series(entrepreneur_quotes_2017_concat, name='quotations')\n",
    "entrepreneur_quotes_2018_df = pd.Series(entrepreneur_quotes_2018_concat, name='quotations')\n",
    "entrepreneur_quotes_2019_df = pd.Series(entrepreneur_quotes_2019_concat, name='quotations')\n",
    "entrepreneur_quotes_2020_df = pd.Series(entrepreneur_quotes_2020_concat, name='quotations')"
   ]
  },
  {
   "cell_type": "code",
   "execution_count": 19,
   "metadata": {},
   "outputs": [
    {
     "data": {
      "text/plain": [
       "Q22686      I would repeal and replace the big lie, Obama...\n",
       "Q439729     Today, we are saddened to learn that a Louisi...\n",
       "Q11702      At the outset of these talks, the Obama admin...\n",
       "Q887766     I'm an old man and my ratio is 1 & frac12; to...\n",
       "Q5284       That should be good news, especially for the ...\n",
       "Name: quotations, dtype: object"
      ]
     },
     "execution_count": 19,
     "metadata": {},
     "output_type": "execute_result"
    }
   ],
   "source": [
    "entrepreneur_quotes_2015_df.head()"
   ]
  },
  {
   "cell_type": "code",
   "execution_count": 20,
   "metadata": {},
   "outputs": [],
   "source": [
    "entrepreneur_2015_df = signi_entrepreneur_speakers.merge(entrepreneur_quotes_2015_df, left_on='id', right_index=True, how='inner')\n",
    "entrepreneur_2016_df = signi_entrepreneur_speakers.merge(entrepreneur_quotes_2016_df, left_on='id', right_index=True, how='inner')\n",
    "entrepreneur_2017_df = signi_entrepreneur_speakers.merge(entrepreneur_quotes_2017_df, left_on='id', right_index=True, how='inner')\n",
    "entrepreneur_2018_df = signi_entrepreneur_speakers.merge(entrepreneur_quotes_2018_df, left_on='id', right_index=True, how='inner')\n",
    "entrepreneur_2019_df = signi_entrepreneur_speakers.merge(entrepreneur_quotes_2019_df, left_on='id', right_index=True, how='inner')\n",
    "entrepreneur_2020_df = signi_entrepreneur_speakers.merge(entrepreneur_quotes_2020_df, left_on='id', right_index=True, how='inner')"
   ]
  },
  {
   "cell_type": "code",
   "execution_count": 21,
   "metadata": {},
   "outputs": [
    {
     "data": {
      "text/plain": [
       "\" The result in Singapore came as a surprise for us all -- and the danger of a result like that is to misjudge your own level of performance. But within the team, our focus since finishing first and third has been on the painful moments of the Singapore weekend -- why we struggled in the long runs on Friday and our lack of performance over one lap in qualifying -- to learn as much as possible for the rest of the season. We have deepened our understanding of those problems and we will take that learning with us into the final races. The last race was a strong reminder that sport always has the power to surprise and defy all predictions. We have been on the receiving end of those bad moments before, and we know that they can happen as easily to us as anybody else. The result in Singapore doesn't change anything in terms of how we approach the final six races, beginning this weekend in Malaysia. We will need to be at the top of our game on every track if we want to maintain our lead in both championships to the end of the season. The first challenge, of course, is Malaysia. This will be a weekend with great resonance for us: we have a very close relationship with the country, thanks to our friends at PETRONAS, and the race has given us many moments of drama and glory over the years. Our record there in recent seasons has been mixed but the fundamental characteristics of the circuit, with its sweeping corners and long straights, should mean the car is well-suited to the circuit. The weather conditions are challenging for the cars, the tyres, the drivers and the team personnel and can often complicate the overall picture; good reliability will be crucial in every aspect of our operations. But it goes without saying that our target is to deliver a winning performance to mark the final Grand Prix at Sepang -- and to build on the good momentum we have enjoyed since the summer break. That was a fantastic drive from Lewis to finish off a perfect weekend from him. It was a great result for the championship and a faultless performance. He defended well on the opening lap then it was a battle lap by lap to stretch out the gap to Sebastian. After the pit stop, we saw a small blister on one of his rear tyres and we had some question marks about whether they would last to the finish. Then the Safety Car came out and made the decision easier for us. We had a discussion about which tyres to fit - we didn't have a new set of UltraSoft remaining, and the team on the pit wall knew that the Soft would be the better tyre over the stint-if we could defend in those first laps after the restart. As Lewis showed, it was the right decision, and he delivered a great win. From Valtteri's side, we struggled with his car this weekend, and especially in traction as you could see on the TV pictures at the restart. We need to find out what happened there - and likewise, he will be the first to be self-critical about losing the positions after the restart. Now we move on to Monza. Ferrari were very strong here and we can expect exactly the same at their home race. Our job is to keep pushing, keep bringing performance to the car and to make sure we deliver all of our potential at every race from here to the end of the season. Mixed emotions after qualifying today. Valtteri did the perfect job this afternoon - he built up his performance through the session and his second pole position is a good reward. He has lost out on positions by tiny margins this year, so it's great to see him claim pole by a few hundredths this time round. As for Lewis, we knew he had a bit of a mountain to climb with the grid penalty for the gearbox change. His pace in Q2 on the super soft tyre showed that he is in good shape for tomorrow-but unfortunately he lost some time in Turn 1 on his final lap and that meant he finished the session P3. But he will start the race on the super soft tyre, so he has options for the race. I think all the pieces are in place for a really exciting Grand Prix, with a chance that the weather could mix things up as well. In motorsport, like in every other area, we want to be the benchmark in the premium segment and also explore innovative new projects. With Formula 1 and Formula E, we have achieved exactly this balance. Formula E is like an exciting start-up venture-it offers a brand new format, combining racing with a strong event character, in order to promote current and future technologies. Electrification is happening in the road car world and Formula E offers manufacturers an interesting platform to bring this technology to a new audience - and to do so with a completely new kind of racing, different to any other series. Lewis has delivered some consummate performances this year, in China, Canada and Silverstone in particular. The win in front of his home crowd was emotionally charged and I am sure he is carrying that energy with him right now. As we see almost each weekend, he is equalling and matching new records in our sport's hist\""
      ]
     },
     "execution_count": 21,
     "metadata": {},
     "output_type": "execute_result"
    }
   ],
   "source": [
    "entrepreneur_2017_df.iloc[6]['quotations']"
   ]
  },
  {
   "cell_type": "code",
   "execution_count": 22,
   "metadata": {},
   "outputs": [],
   "source": [
    "entrepreneur_2015_df[['id', 'quotations']].to_csv('data/entrepreneur_quotes_2015.csv', index=False)\n",
    "entrepreneur_2016_df[['id', 'quotations']].to_csv('data/entrepreneur_quotes_2016.csv', index=False)\n",
    "entrepreneur_2017_df[['id', 'quotations']].to_csv('data/entrepreneur_quotes_2017.csv', index=False)\n",
    "entrepreneur_2018_df[['id', 'quotations']].to_csv('data/entrepreneur_quotes_2018.csv', index=False)\n",
    "entrepreneur_2019_df[['id', 'quotations']].to_csv('data/entrepreneur_quotes_2019.csv', index=False)\n",
    "entrepreneur_2020_df[['id', 'quotations']].to_csv('data/entrepreneur_quotes_2020.csv', index=False)"
   ]
  },
  {
   "cell_type": "code",
   "execution_count": 4,
   "metadata": {},
   "outputs": [],
   "source": [
    "entrepreneur_2015_quotes_liwc = pd.read_csv('data/entrepreneur_quotes_2015_liwc.csv')\n",
    "entrepreneur_2016_quotes_liwc = pd.read_csv('data/entrepreneur_quotes_2016_liwc.csv')\n",
    "entrepreneur_2017_quotes_liwc = pd.read_csv('data/entrepreneur_quotes_2017_liwc.csv')\n",
    "entrepreneur_2018_quotes_liwc = pd.read_csv('data/entrepreneur_quotes_2018_liwc.csv')\n",
    "entrepreneur_2019_quotes_liwc = pd.read_csv('data/entrepreneur_quotes_2019_liwc.csv')\n",
    "entrepreneur_2020_quotes_liwc = pd.read_csv('data/entrepreneur_quotes_2020_liwc.csv')"
   ]
  },
  {
   "cell_type": "code",
   "execution_count": 5,
   "metadata": {},
   "outputs": [
    {
     "data": {
      "text/html": [
       "<div>\n",
       "<style scoped>\n",
       "    .dataframe tbody tr th:only-of-type {\n",
       "        vertical-align: middle;\n",
       "    }\n",
       "\n",
       "    .dataframe tbody tr th {\n",
       "        vertical-align: top;\n",
       "    }\n",
       "\n",
       "    .dataframe thead th {\n",
       "        text-align: right;\n",
       "    }\n",
       "</style>\n",
       "<table border=\"1\" class=\"dataframe\">\n",
       "  <thead>\n",
       "    <tr style=\"text-align: right;\">\n",
       "      <th></th>\n",
       "      <th>Source (A)</th>\n",
       "      <th>Source (B)</th>\n",
       "      <th>WC</th>\n",
       "      <th>WPS</th>\n",
       "      <th>Sixltr</th>\n",
       "      <th>Dic</th>\n",
       "      <th>Pronoun</th>\n",
       "      <th>I</th>\n",
       "      <th>We</th>\n",
       "      <th>Self</th>\n",
       "      <th>...</th>\n",
       "      <th>Comma</th>\n",
       "      <th>Colon</th>\n",
       "      <th>SemiC</th>\n",
       "      <th>QMark</th>\n",
       "      <th>Exclam</th>\n",
       "      <th>Dash</th>\n",
       "      <th>Quote</th>\n",
       "      <th>Apostro</th>\n",
       "      <th>Parenth</th>\n",
       "      <th>OtherP</th>\n",
       "    </tr>\n",
       "  </thead>\n",
       "  <tbody>\n",
       "    <tr>\n",
       "      <th>0</th>\n",
       "      <td>Q22686</td>\n",
       "      <td>We will not stand idly by as this crisis amon...</td>\n",
       "      <td>819</td>\n",
       "      <td>25.59</td>\n",
       "      <td>26.25</td>\n",
       "      <td>57.14</td>\n",
       "      <td>2.69</td>\n",
       "      <td>0.00</td>\n",
       "      <td>0.98</td>\n",
       "      <td>0.98</td>\n",
       "      <td>...</td>\n",
       "      <td>5.74</td>\n",
       "      <td>0.00</td>\n",
       "      <td>0.0</td>\n",
       "      <td>0.00</td>\n",
       "      <td>0.00</td>\n",
       "      <td>2.44</td>\n",
       "      <td>0.0</td>\n",
       "      <td>1.47</td>\n",
       "      <td>0.24</td>\n",
       "      <td>0.37</td>\n",
       "    </tr>\n",
       "    <tr>\n",
       "      <th>1</th>\n",
       "      <td>Q317521</td>\n",
       "      <td>I think it would make sense for us to close-l...</td>\n",
       "      <td>897</td>\n",
       "      <td>16.02</td>\n",
       "      <td>17.84</td>\n",
       "      <td>70.68</td>\n",
       "      <td>8.81</td>\n",
       "      <td>1.23</td>\n",
       "      <td>2.56</td>\n",
       "      <td>3.79</td>\n",
       "      <td>...</td>\n",
       "      <td>4.91</td>\n",
       "      <td>0.00</td>\n",
       "      <td>0.0</td>\n",
       "      <td>0.11</td>\n",
       "      <td>0.00</td>\n",
       "      <td>1.78</td>\n",
       "      <td>0.0</td>\n",
       "      <td>3.68</td>\n",
       "      <td>0.00</td>\n",
       "      <td>1.00</td>\n",
       "    </tr>\n",
       "    <tr>\n",
       "      <th>2</th>\n",
       "      <td>Q927550</td>\n",
       "      <td>How much of our country has to burn, how many...</td>\n",
       "      <td>850</td>\n",
       "      <td>25.76</td>\n",
       "      <td>23.41</td>\n",
       "      <td>64.47</td>\n",
       "      <td>5.65</td>\n",
       "      <td>0.35</td>\n",
       "      <td>2.47</td>\n",
       "      <td>2.82</td>\n",
       "      <td>...</td>\n",
       "      <td>5.65</td>\n",
       "      <td>0.12</td>\n",
       "      <td>0.0</td>\n",
       "      <td>1.18</td>\n",
       "      <td>0.00</td>\n",
       "      <td>2.94</td>\n",
       "      <td>0.0</td>\n",
       "      <td>0.71</td>\n",
       "      <td>0.47</td>\n",
       "      <td>0.24</td>\n",
       "    </tr>\n",
       "    <tr>\n",
       "      <th>3</th>\n",
       "      <td>Q36215</td>\n",
       "      <td>There are other ways that technology can help...</td>\n",
       "      <td>848</td>\n",
       "      <td>24.23</td>\n",
       "      <td>23.00</td>\n",
       "      <td>68.40</td>\n",
       "      <td>9.43</td>\n",
       "      <td>1.77</td>\n",
       "      <td>3.42</td>\n",
       "      <td>5.19</td>\n",
       "      <td>...</td>\n",
       "      <td>4.25</td>\n",
       "      <td>0.00</td>\n",
       "      <td>0.0</td>\n",
       "      <td>0.00</td>\n",
       "      <td>0.12</td>\n",
       "      <td>2.12</td>\n",
       "      <td>0.0</td>\n",
       "      <td>3.66</td>\n",
       "      <td>0.24</td>\n",
       "      <td>0.00</td>\n",
       "    </tr>\n",
       "    <tr>\n",
       "      <th>4</th>\n",
       "      <td>Q186304</td>\n",
       "      <td>. @taylorswift13 has chosen to reignite an ol...</td>\n",
       "      <td>938</td>\n",
       "      <td>19.96</td>\n",
       "      <td>15.03</td>\n",
       "      <td>75.69</td>\n",
       "      <td>14.82</td>\n",
       "      <td>6.61</td>\n",
       "      <td>0.85</td>\n",
       "      <td>7.46</td>\n",
       "      <td>...</td>\n",
       "      <td>3.84</td>\n",
       "      <td>0.00</td>\n",
       "      <td>0.0</td>\n",
       "      <td>0.43</td>\n",
       "      <td>0.64</td>\n",
       "      <td>0.53</td>\n",
       "      <td>0.0</td>\n",
       "      <td>3.20</td>\n",
       "      <td>0.21</td>\n",
       "      <td>1.92</td>\n",
       "    </tr>\n",
       "  </tbody>\n",
       "</table>\n",
       "<p>5 rows × 86 columns</p>\n",
       "</div>"
      ],
      "text/plain": [
       "  Source (A)                                         Source (B)   WC    WPS  \\\n",
       "0     Q22686   We will not stand idly by as this crisis amon...  819  25.59   \n",
       "1    Q317521   I think it would make sense for us to close-l...  897  16.02   \n",
       "2    Q927550   How much of our country has to burn, how many...  850  25.76   \n",
       "3     Q36215   There are other ways that technology can help...  848  24.23   \n",
       "4    Q186304   . @taylorswift13 has chosen to reignite an ol...  938  19.96   \n",
       "\n",
       "   Sixltr    Dic  Pronoun     I    We  Self  ...  Comma  Colon  SemiC  QMark  \\\n",
       "0   26.25  57.14     2.69  0.00  0.98  0.98  ...   5.74   0.00    0.0   0.00   \n",
       "1   17.84  70.68     8.81  1.23  2.56  3.79  ...   4.91   0.00    0.0   0.11   \n",
       "2   23.41  64.47     5.65  0.35  2.47  2.82  ...   5.65   0.12    0.0   1.18   \n",
       "3   23.00  68.40     9.43  1.77  3.42  5.19  ...   4.25   0.00    0.0   0.00   \n",
       "4   15.03  75.69    14.82  6.61  0.85  7.46  ...   3.84   0.00    0.0   0.43   \n",
       "\n",
       "   Exclam  Dash  Quote  Apostro  Parenth  OtherP  \n",
       "0    0.00  2.44    0.0     1.47     0.24    0.37  \n",
       "1    0.00  1.78    0.0     3.68     0.00    1.00  \n",
       "2    0.00  2.94    0.0     0.71     0.47    0.24  \n",
       "3    0.12  2.12    0.0     3.66     0.24    0.00  \n",
       "4    0.64  0.53    0.0     3.20     0.21    1.92  \n",
       "\n",
       "[5 rows x 86 columns]"
      ]
     },
     "execution_count": 5,
     "metadata": {},
     "output_type": "execute_result"
    }
   ],
   "source": [
    "entrepreneur_2020_quotes_liwc.head()"
   ]
  },
  {
   "cell_type": "code",
   "execution_count": 6,
   "metadata": {},
   "outputs": [],
   "source": [
    "entrepreneur_2015_personality = predict_personality(entrepreneur_2015_quotes_liwc)\n",
    "entrepreneur_2016_personality = predict_personality(entrepreneur_2016_quotes_liwc)\n",
    "entrepreneur_2017_personality = predict_personality(entrepreneur_2017_quotes_liwc)\n",
    "entrepreneur_2018_personality = predict_personality(entrepreneur_2018_quotes_liwc)\n",
    "entrepreneur_2019_personality = predict_personality(entrepreneur_2019_quotes_liwc)\n",
    "entrepreneur_2020_personality = predict_personality(entrepreneur_2020_quotes_liwc)"
   ]
  },
  {
   "cell_type": "code",
   "execution_count": 7,
   "metadata": {},
   "outputs": [],
   "source": [
    "overall_entrepreneur_2015_personality = entrepreneur_2015_personality.median(axis=0)\n",
    "overall_entrepreneur_2016_personality = entrepreneur_2016_personality.median(axis=0)\n",
    "overall_entrepreneur_2017_personality = entrepreneur_2017_personality.median(axis=0)\n",
    "overall_entrepreneur_2018_personality = entrepreneur_2018_personality.median(axis=0)\n",
    "overall_entrepreneur_2019_personality = entrepreneur_2019_personality.median(axis=0)\n",
    "overall_entrepreneur_2020_personality = entrepreneur_2020_personality.median(axis=0)"
   ]
  },
  {
   "cell_type": "code",
   "execution_count": 31,
   "metadata": {},
   "outputs": [],
   "source": [
    "# overall_entrepreneur_2020_personality"
   ]
  },
  {
   "cell_type": "code",
   "execution_count": 8,
   "metadata": {},
   "outputs": [],
   "source": [
    "overall_personality = pd.DataFrame([overall_entrepreneur_2015_personality, overall_entrepreneur_2016_personality, overall_entrepreneur_2017_personality, overall_entrepreneur_2018_personality, overall_entrepreneur_2019_personality, overall_entrepreneur_2020_personality], index=['2015', '2016', '2017', '2018', '2019', '2020'])"
   ]
  },
  {
   "cell_type": "code",
   "execution_count": 9,
   "metadata": {},
   "outputs": [
    {
     "data": {
      "text/html": [
       "<div>\n",
       "<style scoped>\n",
       "    .dataframe tbody tr th:only-of-type {\n",
       "        vertical-align: middle;\n",
       "    }\n",
       "\n",
       "    .dataframe tbody tr th {\n",
       "        vertical-align: top;\n",
       "    }\n",
       "\n",
       "    .dataframe thead th {\n",
       "        text-align: right;\n",
       "    }\n",
       "</style>\n",
       "<table border=\"1\" class=\"dataframe\">\n",
       "  <thead>\n",
       "    <tr style=\"text-align: right;\">\n",
       "      <th></th>\n",
       "      <th>neuroticism</th>\n",
       "      <th>anxiety</th>\n",
       "      <th>hostility</th>\n",
       "      <th>depression</th>\n",
       "      <th>self_consciousness</th>\n",
       "      <th>immoderation</th>\n",
       "      <th>vulnerability</th>\n",
       "      <th>extraversion</th>\n",
       "      <th>friendliness</th>\n",
       "      <th>gregariousness</th>\n",
       "      <th>...</th>\n",
       "      <th>cooperation</th>\n",
       "      <th>modesty</th>\n",
       "      <th>sympathy</th>\n",
       "      <th>conscientiousness</th>\n",
       "      <th>self_efficacy</th>\n",
       "      <th>orderliness</th>\n",
       "      <th>dutifulness</th>\n",
       "      <th>achievement_striving</th>\n",
       "      <th>self_discipline</th>\n",
       "      <th>cautiousness</th>\n",
       "    </tr>\n",
       "  </thead>\n",
       "  <tbody>\n",
       "    <tr>\n",
       "      <th>2015</th>\n",
       "      <td>0.670127</td>\n",
       "      <td>0.378993</td>\n",
       "      <td>1.759784</td>\n",
       "      <td>-0.361482</td>\n",
       "      <td>0.219605</td>\n",
       "      <td>-0.452892</td>\n",
       "      <td>0.339296</td>\n",
       "      <td>2.835270</td>\n",
       "      <td>4.790725</td>\n",
       "      <td>5.220558</td>\n",
       "      <td>...</td>\n",
       "      <td>3.020803</td>\n",
       "      <td>1.135507</td>\n",
       "      <td>1.844296</td>\n",
       "      <td>-0.814624</td>\n",
       "      <td>1.942061</td>\n",
       "      <td>0.939984</td>\n",
       "      <td>1.554346</td>\n",
       "      <td>-0.511502</td>\n",
       "      <td>-0.837139</td>\n",
       "      <td>0.507795</td>\n",
       "    </tr>\n",
       "    <tr>\n",
       "      <th>2016</th>\n",
       "      <td>0.734932</td>\n",
       "      <td>0.430521</td>\n",
       "      <td>1.780012</td>\n",
       "      <td>-0.249725</td>\n",
       "      <td>0.181535</td>\n",
       "      <td>-0.402632</td>\n",
       "      <td>0.432067</td>\n",
       "      <td>2.933562</td>\n",
       "      <td>4.752020</td>\n",
       "      <td>5.281483</td>\n",
       "      <td>...</td>\n",
       "      <td>2.961223</td>\n",
       "      <td>1.120461</td>\n",
       "      <td>1.857935</td>\n",
       "      <td>-0.882433</td>\n",
       "      <td>1.911088</td>\n",
       "      <td>0.960806</td>\n",
       "      <td>1.425147</td>\n",
       "      <td>-0.521210</td>\n",
       "      <td>-0.871688</td>\n",
       "      <td>0.441194</td>\n",
       "    </tr>\n",
       "    <tr>\n",
       "      <th>2017</th>\n",
       "      <td>0.722367</td>\n",
       "      <td>0.416488</td>\n",
       "      <td>1.795438</td>\n",
       "      <td>-0.394141</td>\n",
       "      <td>0.147070</td>\n",
       "      <td>-0.447285</td>\n",
       "      <td>0.361903</td>\n",
       "      <td>2.907575</td>\n",
       "      <td>4.756470</td>\n",
       "      <td>5.241065</td>\n",
       "      <td>...</td>\n",
       "      <td>3.046590</td>\n",
       "      <td>1.104609</td>\n",
       "      <td>1.886939</td>\n",
       "      <td>-0.816150</td>\n",
       "      <td>1.951522</td>\n",
       "      <td>0.918631</td>\n",
       "      <td>1.467139</td>\n",
       "      <td>-0.495100</td>\n",
       "      <td>-0.878053</td>\n",
       "      <td>0.483195</td>\n",
       "    </tr>\n",
       "    <tr>\n",
       "      <th>2018</th>\n",
       "      <td>0.761316</td>\n",
       "      <td>0.404143</td>\n",
       "      <td>1.745337</td>\n",
       "      <td>-0.312202</td>\n",
       "      <td>0.189661</td>\n",
       "      <td>-0.413752</td>\n",
       "      <td>0.431621</td>\n",
       "      <td>2.824153</td>\n",
       "      <td>4.780696</td>\n",
       "      <td>5.404586</td>\n",
       "      <td>...</td>\n",
       "      <td>3.045863</td>\n",
       "      <td>1.119460</td>\n",
       "      <td>1.822879</td>\n",
       "      <td>-0.846039</td>\n",
       "      <td>1.967610</td>\n",
       "      <td>1.008612</td>\n",
       "      <td>1.553193</td>\n",
       "      <td>-0.482360</td>\n",
       "      <td>-0.792524</td>\n",
       "      <td>0.504282</td>\n",
       "    </tr>\n",
       "    <tr>\n",
       "      <th>2019</th>\n",
       "      <td>0.706902</td>\n",
       "      <td>0.513089</td>\n",
       "      <td>1.830534</td>\n",
       "      <td>-0.201088</td>\n",
       "      <td>0.282404</td>\n",
       "      <td>-0.333110</td>\n",
       "      <td>0.437160</td>\n",
       "      <td>2.910880</td>\n",
       "      <td>4.594818</td>\n",
       "      <td>5.408706</td>\n",
       "      <td>...</td>\n",
       "      <td>2.744314</td>\n",
       "      <td>1.127938</td>\n",
       "      <td>1.794108</td>\n",
       "      <td>-0.847709</td>\n",
       "      <td>1.788789</td>\n",
       "      <td>0.923925</td>\n",
       "      <td>1.444477</td>\n",
       "      <td>-0.646611</td>\n",
       "      <td>-0.880033</td>\n",
       "      <td>0.395530</td>\n",
       "    </tr>\n",
       "    <tr>\n",
       "      <th>2020</th>\n",
       "      <td>0.824801</td>\n",
       "      <td>0.609525</td>\n",
       "      <td>1.852762</td>\n",
       "      <td>-0.246164</td>\n",
       "      <td>0.289639</td>\n",
       "      <td>-0.319602</td>\n",
       "      <td>0.445148</td>\n",
       "      <td>2.914685</td>\n",
       "      <td>4.667934</td>\n",
       "      <td>5.258445</td>\n",
       "      <td>...</td>\n",
       "      <td>2.970106</td>\n",
       "      <td>1.105701</td>\n",
       "      <td>1.816074</td>\n",
       "      <td>-0.961662</td>\n",
       "      <td>1.839418</td>\n",
       "      <td>0.976826</td>\n",
       "      <td>1.479947</td>\n",
       "      <td>-0.631980</td>\n",
       "      <td>-0.867648</td>\n",
       "      <td>0.407301</td>\n",
       "    </tr>\n",
       "  </tbody>\n",
       "</table>\n",
       "<p>6 rows × 35 columns</p>\n",
       "</div>"
      ],
      "text/plain": [
       "      neuroticism   anxiety  hostility  depression  self_consciousness  \\\n",
       "2015     0.670127  0.378993   1.759784   -0.361482            0.219605   \n",
       "2016     0.734932  0.430521   1.780012   -0.249725            0.181535   \n",
       "2017     0.722367  0.416488   1.795438   -0.394141            0.147070   \n",
       "2018     0.761316  0.404143   1.745337   -0.312202            0.189661   \n",
       "2019     0.706902  0.513089   1.830534   -0.201088            0.282404   \n",
       "2020     0.824801  0.609525   1.852762   -0.246164            0.289639   \n",
       "\n",
       "      immoderation  vulnerability  extraversion  friendliness  gregariousness  \\\n",
       "2015     -0.452892       0.339296      2.835270      4.790725        5.220558   \n",
       "2016     -0.402632       0.432067      2.933562      4.752020        5.281483   \n",
       "2017     -0.447285       0.361903      2.907575      4.756470        5.241065   \n",
       "2018     -0.413752       0.431621      2.824153      4.780696        5.404586   \n",
       "2019     -0.333110       0.437160      2.910880      4.594818        5.408706   \n",
       "2020     -0.319602       0.445148      2.914685      4.667934        5.258445   \n",
       "\n",
       "      ...  cooperation   modesty  sympathy  conscientiousness  self_efficacy  \\\n",
       "2015  ...     3.020803  1.135507  1.844296          -0.814624       1.942061   \n",
       "2016  ...     2.961223  1.120461  1.857935          -0.882433       1.911088   \n",
       "2017  ...     3.046590  1.104609  1.886939          -0.816150       1.951522   \n",
       "2018  ...     3.045863  1.119460  1.822879          -0.846039       1.967610   \n",
       "2019  ...     2.744314  1.127938  1.794108          -0.847709       1.788789   \n",
       "2020  ...     2.970106  1.105701  1.816074          -0.961662       1.839418   \n",
       "\n",
       "      orderliness  dutifulness  achievement_striving  self_discipline  \\\n",
       "2015     0.939984     1.554346             -0.511502        -0.837139   \n",
       "2016     0.960806     1.425147             -0.521210        -0.871688   \n",
       "2017     0.918631     1.467139             -0.495100        -0.878053   \n",
       "2018     1.008612     1.553193             -0.482360        -0.792524   \n",
       "2019     0.923925     1.444477             -0.646611        -0.880033   \n",
       "2020     0.976826     1.479947             -0.631980        -0.867648   \n",
       "\n",
       "      cautiousness  \n",
       "2015      0.507795  \n",
       "2016      0.441194  \n",
       "2017      0.483195  \n",
       "2018      0.504282  \n",
       "2019      0.395530  \n",
       "2020      0.407301  \n",
       "\n",
       "[6 rows x 35 columns]"
      ]
     },
     "execution_count": 9,
     "metadata": {},
     "output_type": "execute_result"
    }
   ],
   "source": [
    "overall_personality"
   ]
  },
  {
   "cell_type": "code",
   "execution_count": 10,
   "metadata": {},
   "outputs": [
    {
     "data": {
      "text/plain": [
       "<AxesSubplot:>"
      ]
     },
     "execution_count": 10,
     "metadata": {},
     "output_type": "execute_result"
    },
    {
     "data": {
      "image/png": "[encoded data removed]",
      "text/plain": [
       "<Figure size 1800x360 with 2 Axes>"
      ]
     },
     "metadata": {},
     "output_type": "display_data"
    }
   ],
   "source": [
    "import seaborn as sns\n",
    "import matplotlib.pyplot as plt\n",
    "\n",
    "fig, ax = plt.subplots(figsize=(25,5))\n",
    "sns.heatmap(overall_personality, ax=ax, annot=True, cmap='RdYlBu')"
   ]
  },
  {
   "cell_type": "code",
   "execution_count": 11,
   "metadata": {},
   "outputs": [],
   "source": [
    "entrepreneur_2015_personality['year'] = '2015'\n",
    "entrepreneur_2016_personality['year'] = '2016'\n",
    "entrepreneur_2017_personality['year'] = '2017'\n",
    "entrepreneur_2018_personality['year'] = '2018'\n",
    "entrepreneur_2019_personality['year'] = '2019'\n",
    "entrepreneur_2020_personality['year'] = '2020'\n",
    "entrepreneur_artist_personality = pd.concat([entrepreneur_2015_personality, entrepreneur_2016_personality, entrepreneur_2017_personality, entrepreneur_2018_personality, entrepreneur_2019_personality, entrepreneur_2020_personality]).reset_index()"
   ]
  },
  {
   "cell_type": "code",
   "execution_count": 13,
   "metadata": {},
   "outputs": [],
   "source": [
    "# for i, attr in enumerate(PERSONALITY_ATTRS):\n",
    "#     sns.displot(entrepreneur_artist_personality, x=attr, hue='year', kind='kde')"
   ]
  },
  {
   "cell_type": "code",
   "execution_count": 14,
   "metadata": {},
   "outputs": [
    {
     "data": {
      "text/plain": [
       "<seaborn.axisgrid.FacetGrid at 0x7f7751379f40>"
      ]
     },
     "execution_count": 14,
     "metadata": {},
     "output_type": "execute_result"
    },
    {
     "data": {
      "image/png": "[encoded data removed]",
      "text/plain": [
       "<Figure size 421.5x360 with 1 Axes>"
      ]
     },
     "metadata": {},
     "output_type": "display_data"
    }
   ],
   "source": [
    "sns.displot(entrepreneur_artist_personality, x='neuroticism', hue='year', kind='kde')"
   ]
  },
  {
   "cell_type": "code",
   "execution_count": null,
   "metadata": {},
   "outputs": [],
   "source": []
  }
 ],
 "metadata": {
  "interpreter": {
   "hash": "7a2c4b191d1ae843dde5cb5f4d1f62fa892f6b79b0f9392a84691e890e33c5a4"
  },
  "kernelspec": {
   "display_name": "Python 3.8.10 64-bit ('miniconda3': virtualenv)",
   "language": "python",
   "name": "python3"
  },
  "language_info": {
   "codemirror_mode": {
    "name": "ipython",
    "version": 3
   },
   "file_extension": ".py",
   "mimetype": "text/x-python",
   "name": "python",
   "nbconvert_exporter": "python",
   "pygments_lexer": "ipython3",
   "version": "3.8.10"
  },
  "orig_nbformat": 4
 },
 "nbformat": 4,
 "nbformat_minor": 2
}
