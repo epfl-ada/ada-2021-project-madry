{
 "cells": [
  {
   "cell_type": "code",
   "execution_count": 1,
   "metadata": {},
   "outputs": [],
   "source": [
    "import bz2\n",
    "import json\n",
    "import re\n",
    "import random\n",
    "import sys\n",
    "import os\n",
    "import bz2\n",
    "import time\n",
    "import pandas as pd\n",
    "import numpy as np\n",
    "from functools import partial"
   ]
  },
  {
   "cell_type": "code",
   "execution_count": 2,
   "metadata": {},
   "outputs": [],
   "source": [
    "signi_quotes_file_names = [\n",
    "    \"./data/signi-quote-count-2015_1636244638891.json\",\n",
    "    \"./data/signi-quote-count-2016_1636246832187.json\",\n",
    "    \"./data/signi-quote-count-2017_1636249273913.json\",\n",
    "    \"./data/signi-quote-count-2018_1636250518608.json\",\n",
    "    \"./data/signi-quote-count-2019_1636251729971.json\",\n",
    "    \"./data/signi-quote-count-2020_1636237785105.json\"\n",
    "]\n",
    "# json.load(open(signi_quotes_file_names[0]))"
   ]
  },
  {
   "cell_type": "code",
   "execution_count": 3,
   "metadata": {},
   "outputs": [],
   "source": [
    "\n",
    "by_year_dict = {}\n",
    "for file_name in signi_quotes_file_names:\n",
    "    combined_signi_dict = {}\n",
    "    with open(file_name, 'r') as f:\n",
    "        one_dict = json.load(f)\n",
    "        for k in one_dict.keys():\n",
    "            combined_signi_dict[k] = combined_signi_dict.get(k, 0) + one_dict[k]\n",
    "    by_year_dict[file_name] = combined_signi_dict\n",
    "    "
   ]
  },
  {
   "cell_type": "markdown",
   "metadata": {},
   "source": [
    "filter quotes by year"
   ]
  },
  {
   "cell_type": "code",
   "execution_count": 15,
   "metadata": {},
   "outputs": [
    {
     "name": "stdout",
     "output_type": "stream",
     "text": [
      "        item        itemLabel genderLabel          citizenshipLabel  \\\n",
      "0        Q76     Barack Obama        male  United States of America   \n",
      "1      Q6294  Hillary Clinton      female  United States of America   \n",
      "2    Q359442   Bernie Sanders        male  United States of America   \n",
      "3    Q170581     Nancy Pelosi      female  United States of America   \n",
      "4     Q11673     Andrew Cuomo        male  United States of America   \n",
      "..       ...              ...         ...                       ...   \n",
      "95   Q505598   Jerrold Nadler        male  United States of America   \n",
      "96   Q312644      Eric Holder        male  United States of America   \n",
      "97  Q6533414    Letitia James      female  United States of America   \n",
      "98    Q19673          Al Gore        male  United States of America   \n",
      "99  Q7595813    Stacey Abrams      female  United States of America   \n",
      "\n",
      "   languageLabel                                      religionLabel  \\\n",
      "0        English  [Congregationalist polity, United Church of Ch...   \n",
      "1        English                                          Methodism   \n",
      "2        English                                            Judaism   \n",
      "3        English                                        Catholicism   \n",
      "4        English                                        Catholicism   \n",
      "..           ...                                                ...   \n",
      "95           NaN                                            Judaism   \n",
      "96           NaN                                   Episcopal Church   \n",
      "97       English                                                NaN   \n",
      "98       English                                           Baptists   \n",
      "99       English                                                NaN   \n",
      "\n",
      "                                          ethnicLabel  \\\n",
      "0                                   African Americans   \n",
      "1                                                 NaN   \n",
      "2                                       Jewish people   \n",
      "3                                    Italian American   \n",
      "4                                    Italian American   \n",
      "..                                                ...   \n",
      "95                                      American Jews   \n",
      "96  [Afro-Barbadian, Barbadian American, African A...   \n",
      "97                                  African Americans   \n",
      "98                                                NaN   \n",
      "99                                  African Americans   \n",
      "\n",
      "                          degreeLabel           dateOfBirth  \\\n",
      "0    [Bachelor of Arts, Juris Doctor]  1961-08-04T00:00:00Z   \n",
      "1   [Juris Doctor, bachelor's degree]  1947-10-26T00:00:00Z   \n",
      "2                    Bachelor of Arts  1941-09-08T00:00:00Z   \n",
      "3                                 NaN  1940-03-26T00:00:00Z   \n",
      "4                        Juris Doctor  1957-12-06T00:00:00Z   \n",
      "..                                ...                   ...   \n",
      "95                                NaN  1947-06-13T00:00:00Z   \n",
      "96                                NaN  1951-01-21T00:00:00Z   \n",
      "97                                NaN  1958-10-18T00:00:00Z   \n",
      "98                   Bachelor of Arts  1948-03-31T00:00:00Z   \n",
      "99                                NaN  1973-12-09T00:00:00Z   \n",
      "\n",
      "                                  placeOfBirthLabel  \\\n",
      "0   Kapiolani Medical Center for Women and Children   \n",
      "1                                Edgewater Hospital   \n",
      "2                                          Brooklyn   \n",
      "3                                         Baltimore   \n",
      "4                                            Queens   \n",
      "..                                              ...   \n",
      "95                                         Brooklyn   \n",
      "96                                        The Bronx   \n",
      "97                                         Brooklyn   \n",
      "98                                 Washington, D.C.   \n",
      "99                                          Madison   \n",
      "\n",
      "                                        memberOfParty  \\\n",
      "0               http://www.wikidata.org/entity/Q29552   \n",
      "1               http://www.wikidata.org/entity/Q29552   \n",
      "2   [http://www.wikidata.org/entity/Q327591, http:...   \n",
      "3               http://www.wikidata.org/entity/Q29552   \n",
      "4               http://www.wikidata.org/entity/Q29552   \n",
      "..                                                ...   \n",
      "95              http://www.wikidata.org/entity/Q29552   \n",
      "96              http://www.wikidata.org/entity/Q29552   \n",
      "97  [http://www.wikidata.org/entity/Q2741156, http...   \n",
      "98              http://www.wikidata.org/entity/Q29552   \n",
      "99              http://www.wikidata.org/entity/Q29552   \n",
      "\n",
      "                                   memberOfPartyLabel  \n",
      "0                                    Democratic Party  \n",
      "1                                    Democratic Party  \n",
      "2   [independent politician, Liberty Union Party, ...  \n",
      "3                                    Democratic Party  \n",
      "4                                    Democratic Party  \n",
      "..                                                ...  \n",
      "95                                   Democratic Party  \n",
      "96                                   Democratic Party  \n",
      "97         [Working Families Party, Democratic Party]  \n",
      "98                                   Democratic Party  \n",
      "99                                   Democratic Party  \n",
      "\n",
      "[100 rows x 12 columns]\n"
     ]
    }
   ],
   "source": [
    "with open('./data/top100_politicians_by_party.json', 'r') as f:\n",
    "    data_top100 = json.load(f)\n",
    "\n",
    "dem_list = pd.DataFrame(data_top100[\"dem\"])\n",
    "rep_list = pd.DataFrame(data_top100[\"rep\"])\n",
    "print(dem_list)"
   ]
  },
  {
   "cell_type": "code",
   "execution_count": 94,
   "metadata": {},
   "outputs": [],
   "source": [
    "poli_quotes_combined = {}\n",
    "for qid in rep_list[\"item\"]:\n",
    "    poli_quotes_combined[qid] = {}\n",
    "    poli_quotes_combined[qid][\"quotations\"] = []\n",
    "\n",
    "for qid in dem_list[\"item\"]:\n",
    "    poli_quotes_combined[qid] = {}\n",
    "    poli_quotes_combined[qid][\"quotations\"] = []"
   ]
  },
  {
   "cell_type": "code",
   "execution_count": 29,
   "metadata": {},
   "outputs": [],
   "source": [
    "# poli_quotes_combined"
   ]
  },
  {
   "cell_type": "code",
   "execution_count": 39,
   "metadata": {},
   "outputs": [
    {
     "data": {
      "text/plain": [
       "'2015'"
      ]
     },
     "execution_count": 39,
     "metadata": {},
     "output_type": "execute_result"
    }
   ],
   "source": [
    "\"data/politician-quotes-2015_1636331534906.json\".find(\"2\")\n",
    "\"data/politician-quotes-2015_1636331534906.json\"[23:27]"
   ]
  },
  {
   "cell_type": "code",
   "execution_count": 97,
   "metadata": {},
   "outputs": [],
   "source": [
    "def write_json_to_file(name, obj):\n",
    "    # Use current timestamp to make the name of the file unique\n",
    "    millis = round(time.time() * 1000)\n",
    "    name = f'{name}.json'\n",
    "    with open(name, 'wb') as f:\n",
    "        output = json.dumps(obj)\n",
    "        f.write(output.encode('utf-8'))\n",
    "    return name"
   ]
  },
  {
   "cell_type": "code",
   "execution_count": 99,
   "metadata": {},
   "outputs": [],
   "source": [
    "import sys\n",
    "poli_quote_files = [\n",
    "    \"data/politician-quotes-2015_1636331534906.json\",\n",
    "    \"data/politician-quotes-2016_1636332058163.json\",\n",
    "    \"data/politician-quotes-2017_1636333168732.json\",\n",
    "    \"data/politician-quotes-2018_1636334221167.json\",\n",
    "    \"data/politician-quotes-2019_1636335010497.json\",\n",
    "    \"data/politician-quotes-2020_1636330658142.json\"\n",
    "]\n",
    "\n",
    "\n",
    "\n",
    "# both_parties = dem_list + rep_list\n",
    "# for v in both_parties:\n",
    "#     copy = dict(v)\n",
    "#     copy['quotations'] = []\n",
    "    \n",
    "#     poli_quotes_combined[v['id']] = copy\n",
    "\n",
    "for poli_quote_file_name in poli_quote_files:\n",
    "    # For each year\n",
    "    poli_quotes_combined = {}\n",
    "    for qid in rep_list[\"item\"]:\n",
    "        poli_quotes_combined[qid] = {}\n",
    "        poli_quotes_combined[qid][\"quotations\"] = []\n",
    "\n",
    "    for qid in dem_list[\"item\"]:\n",
    "        poli_quotes_combined[qid] = {}\n",
    "        poli_quotes_combined[qid][\"quotations\"] = []\n",
    "    with open(poli_quote_file_name, 'r') as f:\n",
    "        quotes = json.load(f)\n",
    "        # print(quotes)\n",
    "        \n",
    "        for k in quotes.keys():\n",
    "            # print(k)\n",
    "            if k in poli_quotes_combined:\n",
    "                poli_quotes_combined[k]['quotations'] += quotes[k]\n",
    "                # print(poli_quotes_combined[k])\n",
    "        write_json_to_file('data/combined_' + poli_quote_file_name[23:27], poli_quotes_combined)\n",
    "        # sys.exit()\n"
   ]
  },
  {
   "cell_type": "code",
   "execution_count": 41,
   "metadata": {},
   "outputs": [],
   "source": []
  },
  {
   "cell_type": "code",
   "execution_count": 100,
   "metadata": {},
   "outputs": [],
   "source": [
    "def get_good_qid_quote(name):\n",
    "        \n",
    "    with open(name, 'r') as f:\n",
    "        poli_quotes_filtered = json.load(f)\n",
    "    filtered_quotes = []\n",
    "\n",
    "    weird_pattern = '[_@#+&;:\\(\\)\\{\\}\\[\\]\\\\/`]'\n",
    "    json_pattern = '\\{.*[a-zA-Z]+:\\s[\\'\"`][a-zA-Z0-9]+[\\'\"`].*\\}'\n",
    "    url_pattern = 'https?'\n",
    "\n",
    "    for k in poli_quotes_filtered.keys():\n",
    "        elem = poli_quotes_filtered[k]\n",
    "        \n",
    "        new_arr = []\n",
    "        for entry in elem['quotations']:\n",
    "            text = entry['quotation']\n",
    "            \n",
    "            longest = max(entry['quotation'].split(), key=len)\n",
    "            if (len(longest) > 50):\n",
    "                filtered_quotes.append(entry)\n",
    "                continue\n",
    "            \n",
    "            if re.search(url_pattern, text) is not None:\n",
    "                filtered_quotes.append(entry)\n",
    "                continue\n",
    "            \n",
    "            if re.search(json_pattern, text) is not None:\n",
    "                filtered_quotes.append(entry)\n",
    "                continue\n",
    "                \n",
    "            weird_num = len(re.findall(weird_pattern, text))\n",
    "            total = len(text)\n",
    "            weird_percent = weird_num / total\n",
    "            if (weird_percent > 0.1):\n",
    "                filtered_quotes.append(entry)\n",
    "                continue\n",
    "                \n",
    "            new_arr.append(entry)\n",
    "        elem['quotations'] = new_arr\n",
    "\n",
    "    poli_quotes_concat = poli_quotes_filtered\n",
    "    QUOTE_LENGTH = 5000\n",
    "\n",
    "    for k in poli_quotes_concat.keys():\n",
    "        elem = poli_quotes_concat[k]\n",
    "        \n",
    "        # Sort the quotes by length\n",
    "        elem['quotations'].sort(key = lambda x: len(x['quotation']), reverse = True)\n",
    "        \n",
    "        concat = ''\n",
    "        for quote in elem['quotations']:\n",
    "            # Concatenate the quotes\n",
    "            concat += ' ' + quote['quotation']\n",
    "            \n",
    "            # Trim if we are over QUOTE_LENGTH\n",
    "            if (len(concat) >= QUOTE_LENGTH):\n",
    "                concat = concat[0:QUOTE_LENGTH]\n",
    "                break\n",
    "        elem['quotations'] = concat\n",
    "    write_json_to_file('data/yiren_'+name[14:18], poli_quotes_concat)\n",
    "    return poli_quotes_concat\n",
    "    "
   ]
  },
  {
   "cell_type": "code",
   "execution_count": 55,
   "metadata": {},
   "outputs": [
    {
     "data": {
      "text/plain": [
       "14"
      ]
     },
     "execution_count": 55,
     "metadata": {},
     "output_type": "execute_result"
    }
   ],
   "source": [
    "# \"data/combined_2015_1638980597622.json\".find(\"20\")"
   ]
  },
  {
   "cell_type": "code",
   "execution_count": 101,
   "metadata": {},
   "outputs": [],
   "source": [
    "for i in range(2015, 2021):\n",
    "    get_good_qid_quote(\"data/combined_\" + str(i) + \".json\")\n",
    "# get_good_qid_quote('data/combined_2015_1638980597622.json')\n",
    "# get_good_qid_quote('data/combined_2016_1638980699759.json')\n",
    "# get_good_qid_quote('data/combined_2017_1638980701297.json')\n",
    "# get_good_qid_quote('data/combined_2018_1638980703329.json')\n",
    "# get_good_qid_quote('data/combined_2019_1638980705776.json')\n",
    "# get_good_qid_quote('data/combined_2020_1638980708411.json')\n",
    "\n"
   ]
  },
  {
   "cell_type": "code",
   "execution_count": 59,
   "metadata": {},
   "outputs": [],
   "source": [
    "import bz2\n",
    "import json\n",
    "import pandas as pd\n",
    "import csv"
   ]
  },
  {
   "cell_type": "code",
   "execution_count": 60,
   "metadata": {},
   "outputs": [],
   "source": [
    "with open('./data/yiren_2015_1638981321807.json', 'r') as f:\n",
    "    data = json.load(f)\n",
    "with open('yiren_data2015.csv', 'w', encoding='UTF8', newline='') as f:\n",
    "    writer = csv.writer(f)\n",
    "    writer.writerow([\"qid\", \"quote\"])\n",
    "    for qid, all_value in data.items():\n",
    "        quote = all_value[\"quotations\"]\n",
    "        writer.writerow([qid, quote])"
   ]
  },
  {
   "cell_type": "code",
   "execution_count": 67,
   "metadata": {},
   "outputs": [],
   "source": [
    "# ls =  [\"./data/\" + i for i in  [\"yiren_2016_1638981329063.json\", \"yiren_2017_1638981338905.json\", \"yiren_2018_1638981351821.json\", \"yiren_2019_1638981366026.json\", \"yiren_2020_1638981381019.json\"]]"
   ]
  },
  {
   "cell_type": "code",
   "execution_count": 102,
   "metadata": {},
   "outputs": [],
   "source": [
    "ls = []\n",
    "for i in range(2015, 2021):\n",
    "    ls.append(\"./data/yiren_\" + str(i) + \".json\")"
   ]
  },
  {
   "cell_type": "code",
   "execution_count": 103,
   "metadata": {},
   "outputs": [],
   "source": [
    "# './data/yiren_2016_1638981329063.json'.find(\"20\")"
   ]
  },
  {
   "cell_type": "code",
   "execution_count": 104,
   "metadata": {},
   "outputs": [],
   "source": [
    "def get_csv(name):\n",
    "    with open(name, 'r') as f:\n",
    "        data = json.load(f)\n",
    "    with open('yiren_data' + name[13:17] + '.csv', 'w', encoding='UTF8', newline='') as f:\n",
    "        writer = csv.writer(f)\n",
    "        writer.writerow([\"qid\", \"quote\"])\n",
    "        for qid, all_value in data.items():\n",
    "            quote = all_value[\"quotations\"]\n",
    "            writer.writerow([qid, quote])"
   ]
  },
  {
   "cell_type": "code",
   "execution_count": 105,
   "metadata": {},
   "outputs": [
    {
     "data": {
      "text/plain": [
       "[None, None, None, None, None, None]"
      ]
     },
     "execution_count": 105,
     "metadata": {},
     "output_type": "execute_result"
    }
   ],
   "source": [
    "[get_csv(name) for name in ls]"
   ]
  },
  {
   "cell_type": "code",
   "execution_count": 73,
   "metadata": {},
   "outputs": [],
   "source": [
    "# liwc = pd.read_csv('liwc2015.csv')"
   ]
  },
  {
   "cell_type": "code",
   "execution_count": 74,
   "metadata": {},
   "outputs": [
    {
     "data": {
      "text/html": [
       "<div>\n",
       "<style scoped>\n",
       "    .dataframe tbody tr th:only-of-type {\n",
       "        vertical-align: middle;\n",
       "    }\n",
       "\n",
       "    .dataframe tbody tr th {\n",
       "        vertical-align: top;\n",
       "    }\n",
       "\n",
       "    .dataframe thead th {\n",
       "        text-align: right;\n",
       "    }\n",
       "</style>\n",
       "<table border=\"1\" class=\"dataframe\">\n",
       "  <thead>\n",
       "    <tr style=\"text-align: right;\">\n",
       "      <th></th>\n",
       "      <th>Source (A)</th>\n",
       "      <th>Source (B)</th>\n",
       "      <th>WC</th>\n",
       "      <th>WPS</th>\n",
       "      <th>Sixltr</th>\n",
       "      <th>Dic</th>\n",
       "      <th>Pronoun</th>\n",
       "      <th>I</th>\n",
       "      <th>We</th>\n",
       "      <th>Self</th>\n",
       "      <th>...</th>\n",
       "      <th>Comma</th>\n",
       "      <th>Colon</th>\n",
       "      <th>SemiC</th>\n",
       "      <th>QMark</th>\n",
       "      <th>Exclam</th>\n",
       "      <th>Dash</th>\n",
       "      <th>Quote</th>\n",
       "      <th>Apostro</th>\n",
       "      <th>Parenth</th>\n",
       "      <th>OtherP</th>\n",
       "    </tr>\n",
       "  </thead>\n",
       "  <tbody>\n",
       "    <tr>\n",
       "      <th>107</th>\n",
       "      <td>Q4911497</td>\n",
       "      <td>As conveyed by Mayor de Blasio and Commission...</td>\n",
       "      <td>831</td>\n",
       "      <td>16.96</td>\n",
       "      <td>24.79</td>\n",
       "      <td>69.19</td>\n",
       "      <td>6.98</td>\n",
       "      <td>1.32</td>\n",
       "      <td>2.41</td>\n",
       "      <td>3.73</td>\n",
       "      <td>...</td>\n",
       "      <td>4.93</td>\n",
       "      <td>0.0</td>\n",
       "      <td>0.0</td>\n",
       "      <td>0.0</td>\n",
       "      <td>0.0</td>\n",
       "      <td>1.56</td>\n",
       "      <td>0.0</td>\n",
       "      <td>0.96</td>\n",
       "      <td>0.0</td>\n",
       "      <td>0.24</td>\n",
       "    </tr>\n",
       "  </tbody>\n",
       "</table>\n",
       "<p>1 rows × 86 columns</p>\n",
       "</div>"
      ],
      "text/plain": [
       "    Source (A)                                         Source (B)   WC    WPS  \\\n",
       "107   Q4911497   As conveyed by Mayor de Blasio and Commission...  831  16.96   \n",
       "\n",
       "     Sixltr    Dic  Pronoun     I    We  Self  ...  Comma  Colon  SemiC  \\\n",
       "107   24.79  69.19     6.98  1.32  2.41  3.73  ...   4.93    0.0    0.0   \n",
       "\n",
       "     QMark  Exclam  Dash  Quote  Apostro  Parenth  OtherP  \n",
       "107    0.0     0.0  1.56    0.0     0.96      0.0    0.24  \n",
       "\n",
       "[1 rows x 86 columns]"
      ]
     },
     "execution_count": 74,
     "metadata": {},
     "output_type": "execute_result"
    }
   ],
   "source": [
    "liwc.sample()"
   ]
  },
  {
   "cell_type": "code",
   "execution_count": 106,
   "metadata": {},
   "outputs": [],
   "source": [
    "import helpers\n",
    "with open('./data/top100_politicians_by_party.json', 'r') as f:\n",
    "    data_top100 = json.load(f)\n",
    "\n",
    "dem_df = pd.DataFrame(data_top100[\"dem\"])\n",
    "rep_df = pd.DataFrame(data_top100[\"rep\"])\n",
    "dem_df['party'] = \"dem\"\n",
    "rep_df['party'] = \"rep\"\n",
    "politician_wiki = pd.concat([dem_df, rep_df])"
   ]
  },
  {
   "cell_type": "code",
   "execution_count": 89,
   "metadata": {},
   "outputs": [],
   "source": [
    "liwc = pd.read_csv('liwc2016.csv')\n",
    "personality = helpers.predict_personality(liwc)\n",
    "df1 = pd.concat([liwc, personality], axis=1)\n",
    "df2 = df1.merge(politician_wiki, left_on='Source (A)', right_on='item', how = \"left\")\n",
    "df2.to_csv(\"2016_for_r.csv\",index=False)"
   ]
  },
  {
   "cell_type": "code",
   "execution_count": 107,
   "metadata": {},
   "outputs": [],
   "source": [
    "def for_r(year):\n",
    "    liwc = pd.read_csv('liwc'+str(year)+'.csv')\n",
    "    personality = helpers.predict_personality(liwc)\n",
    "    df1 = pd.concat([liwc, personality], axis=1)\n",
    "    df2 = df1.merge(politician_wiki, left_on='Source (A)', right_on='item', how = \"left\")\n",
    "    df2.to_csv(str(year) + \"_for_r.csv\",index=False)"
   ]
  },
  {
   "cell_type": "code",
   "execution_count": 108,
   "metadata": {},
   "outputs": [],
   "source": [
    "for i in range(2015, 2021):\n",
    "    for_r(i)"
   ]
  },
  {
   "cell_type": "code",
   "execution_count": null,
   "metadata": {},
   "outputs": [],
   "source": []
  }
 ],
 "metadata": {
  "interpreter": {
   "hash": "0adcc2737ebf6a4a119f135174df96668767fca1ef1112612db5ecadf2b6d608"
  },
  "kernelspec": {
   "display_name": "Python 3.8.3 64-bit",
   "language": "python",
   "name": "python3"
  },
  "language_info": {
   "codemirror_mode": {
    "name": "ipython",
    "version": 3
   },
   "file_extension": ".py",
   "mimetype": "text/x-python",
   "name": "python",
   "nbconvert_exporter": "python",
   "pygments_lexer": "ipython3",
   "version": "3.8.3"
  },
  "orig_nbformat": 4
 },
 "nbformat": 4,
 "nbformat_minor": 2
}
