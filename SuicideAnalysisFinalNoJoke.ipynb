{
 "cells": [
  {
   "cell_type": "markdown",
   "id": "76346c0c-0c36-4fec-8549-dfc89da97ee5",
   "metadata": {},
   "source": [
    "[Analysis](#analysis_header)"
   ]
  },
  {
   "cell_type": "code",
   "execution_count": 2,
   "id": "257a71d6-6731-447a-828d-038e282288f5",
   "metadata": {},
   "outputs": [
    {
     "name": "stdout",
     "output_type": "stream",
     "text": [
      "The autoreload extension is already loaded. To reload it, use:\n",
      "  %reload_ext autoreload\n"
     ]
    }
   ],
   "source": [
    "%load_ext autoreload\n",
    "%autoreload 2\n",
    "\n",
    "import bz2\n",
    "import json\n",
    "import re\n",
    "import random\n",
    "import sys\n",
    "import os\n",
    "import bz2\n",
    "import time\n",
    "import pandas as pd\n",
    "import numpy as np\n",
    "from functools import partial\n",
    "import seaborn as sns\n",
    "from helpers import *\n",
    "\n",
    "import bz2\n",
    "import json\n",
    "import csv\n",
    "\n",
    "import seaborn as sns\n",
    "from helpers import PERSONALITY_ATTRS\n",
    "from PIL import Image\n",
    "import matplotlib.pyplot as plt\n",
    "from matplotlib.backends.backend_pdf import PdfPages\n",
    "plt.style.use('ggplot')\n",
    "sns.set_style('white')\n",
    "\n",
    "from ipywidgets import widgets, interactive\n",
    "from io import StringIO\n",
    "import math"
   ]
  },
  {
   "cell_type": "markdown",
   "id": "f38189b6-90ba-4872-aea9-f8c4c9a585ce",
   "metadata": {},
   "source": [
    "# PREPROCESSING"
   ]
  },
  {
   "cell_type": "code",
   "execution_count": 3,
   "id": "1b5ab70e-88c9-4b71-9413-1e8ae5a28828",
   "metadata": {},
   "outputs": [],
   "source": [
    "PATTERN_INPUT = \"../quotebank/quotes-{}.json.bz2\""
   ]
  },
  {
   "cell_type": "markdown",
   "id": "d0ef5fd4-f8cd-47d6-aa19-f723eeaf7563",
   "metadata": {},
   "source": [
    "### Get significant quote count for each speaker"
   ]
  },
  {
   "cell_type": "code",
   "execution_count": 4,
   "id": "c184afb1-5151-400c-89a5-460d94f57a1c",
   "metadata": {
    "tags": []
   },
   "outputs": [],
   "source": [
    "with open(\"data/local_only/signi-quote-count-combined_1636658426963.json\", \"r\") as f:\n",
    "    sorted_combined_signi_dict = json.load(f)"
   ]
  },
  {
   "cell_type": "markdown",
   "id": "eadf82e6-7de5-4752-8aa3-258552351835",
   "metadata": {
    "tags": []
   },
   "source": [
    "### Get the wikidata"
   ]
  },
  {
   "cell_type": "markdown",
   "id": "b724983e-e43f-4995-b263-887827febe1c",
   "metadata": {
    "tags": []
   },
   "source": [
    "We used the https://query.wikidata.org/ website to get the relevant wikidata. The SPARQL query is in the following cell.\n",
    "<br>\n",
    "The parquet file does not contain necessary data - manner of death, cause of death"
   ]
  },
  {
   "cell_type": "code",
   "execution_count": null,
   "id": "75efeee2-65a2-4300-a2f8-e2f3a4db8384",
   "metadata": {
    "tags": []
   },
   "outputs": [],
   "source": [
    "SELECT DISTINCT ?item ?itemLabel \n",
    "          ?genderLabel ?citizenshipLabel ?languageLabel ?religionLabel ?ethnicLabel ?degreeLabel ?dateOfBirth ?placeOfBirthLabel ?occupationLabel\n",
    "WHERE {\n",
    "  SERVICE wikibase:label { bd:serviceParam wikibase:language \"[AUTO_LANGUAGE]\". }\n",
    "  {\n",
    "    {\n",
    "      ?item p:P1196 ?statement0.\n",
    "      ?statement0 (ps:P1196) wd:Q10737.\n",
    "    }\n",
    "    UNION\n",
    "    {\n",
    "      ?item p:P509 ?statement1.\n",
    "      ?statement1 (ps:P509) wd:Q175111.\n",
    "    }\n",
    "    \n",
    "    OPTIONAL { ?item wdt:P21 ?gender. }\n",
    "    OPTIONAL { ?item wdt:P27 ?citizenship. }\n",
    "    OPTIONAL { ?item wdt:P103 ?language. }\n",
    "    OPTIONAL { ?item wdt:P140 ?religion. }\n",
    "    OPTIONAL { ?item wdt:P172 ?ethnic. }\n",
    "    OPTIONAL { ?item wdt:P512 ?degree. }\n",
    "    OPTIONAL { ?item wdt:P106 ?occupation. }\n",
    "    OPTIONAL { ?item wdt:P569 ?dateOfBirth. }\n",
    "  }\n",
    "}"
   ]
  },
  {
   "cell_type": "markdown",
   "id": "84fc518d-8d72-497d-8388-2358ff42883f",
   "metadata": {
    "tags": []
   },
   "source": [
    "Merge duplicate objects representing a single speaker but with differing fields.\n",
    "<br>\n",
    "Example: Arnold Schwarzenegger has both Austrian and American nationalities, and would appear twice, once with Austrian, and once with American nationality."
   ]
  },
  {
   "cell_type": "code",
   "execution_count": 5,
   "id": "339b6b9f-207a-4907-a68b-856f1fa34e11",
   "metadata": {
    "tags": []
   },
   "outputs": [],
   "source": [
    "with open(\"data/local_only/suicide_query_and_hangings_and_after_2015.json\", \"r\", encoding='utf-8') as f:\n",
    "    suicide_squad = json.load(f)"
   ]
  },
  {
   "cell_type": "code",
   "execution_count": 6,
   "id": "04fc3007-5c94-40aa-a50e-5ad7901a59ab",
   "metadata": {},
   "outputs": [],
   "source": [
    "suicide_squad_merged = merge_wikidata_entries(\n",
    "    suicide_squad,\n",
    "    ['itemLabel', 'genderLabel', 'citizenshipLabel', 'religionLabel', 'degreeLabel', 'dateOfBirth', 'languageLabel']\n",
    ")"
   ]
  },
  {
   "cell_type": "code",
   "execution_count": 7,
   "id": "68d00551-6efe-4b86-b12b-4c29bc8f47f5",
   "metadata": {
    "tags": []
   },
   "outputs": [
    {
     "data": {
      "text/plain": [
       "'data/local_only/suicide_list_merged_1639686588316.json'"
      ]
     },
     "execution_count": 7,
     "metadata": {},
     "output_type": "execute_result"
    }
   ],
   "source": [
    "write_json_to_file('data/local_only/suicide_list_merged', suicide_squad_merged)"
   ]
  },
  {
   "cell_type": "markdown",
   "id": "1067e516-2e1f-4ac7-8ff8-2a47fc34f4d9",
   "metadata": {},
   "source": [
    "### Get the 100 most quoted suicide victims"
   ]
  },
  {
   "cell_type": "code",
   "execution_count": 8,
   "id": "875aff73-2c44-4398-bc05-afe6ca56f61d",
   "metadata": {
    "tags": []
   },
   "outputs": [],
   "source": [
    "with open(\"data/local_only/suicide_list_merged_1638730998799.json\", \"r\", encoding='utf-8') as f:\n",
    "    suicide_merged = json.load(f)"
   ]
  },
  {
   "cell_type": "code",
   "execution_count": 9,
   "id": "ffb9da55-c85b-41b7-8aea-94f92c8c7554",
   "metadata": {
    "tags": []
   },
   "outputs": [],
   "source": [
    "suicide_df = pd.DataFrame.from_dict(suicide_merged, orient='index')"
   ]
  },
  {
   "cell_type": "code",
   "execution_count": 10,
   "id": "3dade3b5-b3f0-418e-a161-061da5eeeef7",
   "metadata": {
    "tags": []
   },
   "outputs": [
    {
     "data": {
      "text/html": [
       "<div>\n",
       "<style scoped>\n",
       "    .dataframe tbody tr th:only-of-type {\n",
       "        vertical-align: middle;\n",
       "    }\n",
       "\n",
       "    .dataframe tbody tr th {\n",
       "        vertical-align: top;\n",
       "    }\n",
       "\n",
       "    .dataframe thead th {\n",
       "        text-align: right;\n",
       "    }\n",
       "</style>\n",
       "<table border=\"1\" class=\"dataframe\">\n",
       "  <thead>\n",
       "    <tr style=\"text-align: right;\">\n",
       "      <th></th>\n",
       "      <th>item</th>\n",
       "      <th>itemLabel</th>\n",
       "      <th>genderLabel</th>\n",
       "      <th>citizenshipLabel</th>\n",
       "      <th>languageLabel</th>\n",
       "      <th>dateOfBirth</th>\n",
       "      <th>placeOfBirthLabel</th>\n",
       "      <th>religionLabel</th>\n",
       "      <th>ethnicLabel</th>\n",
       "      <th>memberOfParty</th>\n",
       "      <th>memberOfPartyLabel</th>\n",
       "      <th>degreeLabel</th>\n",
       "    </tr>\n",
       "  </thead>\n",
       "  <tbody>\n",
       "    <tr>\n",
       "      <th>Q579188</th>\n",
       "      <td>Q579188</td>\n",
       "      <td>Arthur Cravan</td>\n",
       "      <td>male</td>\n",
       "      <td>[United Kingdom of Great Britain and Ireland, ...</td>\n",
       "      <td>French</td>\n",
       "      <td>1887-05-22T00:00:00Z</td>\n",
       "      <td>Lausanne</td>\n",
       "      <td>NaN</td>\n",
       "      <td>NaN</td>\n",
       "      <td>NaN</td>\n",
       "      <td>NaN</td>\n",
       "      <td>NaN</td>\n",
       "    </tr>\n",
       "    <tr>\n",
       "      <th>Q508141</th>\n",
       "      <td>Q508141</td>\n",
       "      <td>Andrew Urdiales</td>\n",
       "      <td>male</td>\n",
       "      <td>United States of America</td>\n",
       "      <td>NaN</td>\n",
       "      <td>1964-06-04T00:00:00Z</td>\n",
       "      <td>Chicago</td>\n",
       "      <td>NaN</td>\n",
       "      <td>NaN</td>\n",
       "      <td>NaN</td>\n",
       "      <td>NaN</td>\n",
       "      <td>NaN</td>\n",
       "    </tr>\n",
       "    <tr>\n",
       "      <th>Q623582</th>\n",
       "      <td>Q623582</td>\n",
       "      <td>Ara Gallant</td>\n",
       "      <td>male</td>\n",
       "      <td>United States of America</td>\n",
       "      <td>NaN</td>\n",
       "      <td>1932-01-01T00:00:00Z</td>\n",
       "      <td>The Bronx</td>\n",
       "      <td>NaN</td>\n",
       "      <td>NaN</td>\n",
       "      <td>NaN</td>\n",
       "      <td>NaN</td>\n",
       "      <td>NaN</td>\n",
       "    </tr>\n",
       "    <tr>\n",
       "      <th>Q701279</th>\n",
       "      <td>Q701279</td>\n",
       "      <td>Du Wenxiu</td>\n",
       "      <td>male</td>\n",
       "      <td>Qing dynasty</td>\n",
       "      <td>NaN</td>\n",
       "      <td>1823-01-01T00:00:00Z</td>\n",
       "      <td>NaN</td>\n",
       "      <td>Islam</td>\n",
       "      <td>NaN</td>\n",
       "      <td>NaN</td>\n",
       "      <td>NaN</td>\n",
       "      <td>NaN</td>\n",
       "    </tr>\n",
       "    <tr>\n",
       "      <th>Q708682</th>\n",
       "      <td>Q708682</td>\n",
       "      <td>Dimitris Liantinis</td>\n",
       "      <td>male</td>\n",
       "      <td>Greece</td>\n",
       "      <td>NaN</td>\n",
       "      <td>1942-07-23T00:00:00Z</td>\n",
       "      <td>Taygetus</td>\n",
       "      <td>NaN</td>\n",
       "      <td>Greeks</td>\n",
       "      <td>NaN</td>\n",
       "      <td>NaN</td>\n",
       "      <td>NaN</td>\n",
       "    </tr>\n",
       "  </tbody>\n",
       "</table>\n",
       "</div>"
      ],
      "text/plain": [
       "            item           itemLabel genderLabel  \\\n",
       "Q579188  Q579188       Arthur Cravan        male   \n",
       "Q508141  Q508141     Andrew Urdiales        male   \n",
       "Q623582  Q623582         Ara Gallant        male   \n",
       "Q701279  Q701279           Du Wenxiu        male   \n",
       "Q708682  Q708682  Dimitris Liantinis        male   \n",
       "\n",
       "                                          citizenshipLabel languageLabel  \\\n",
       "Q579188  [United Kingdom of Great Britain and Ireland, ...        French   \n",
       "Q508141                           United States of America           NaN   \n",
       "Q623582                           United States of America           NaN   \n",
       "Q701279                                       Qing dynasty           NaN   \n",
       "Q708682                                             Greece           NaN   \n",
       "\n",
       "                  dateOfBirth placeOfBirthLabel religionLabel ethnicLabel  \\\n",
       "Q579188  1887-05-22T00:00:00Z          Lausanne           NaN         NaN   \n",
       "Q508141  1964-06-04T00:00:00Z           Chicago           NaN         NaN   \n",
       "Q623582  1932-01-01T00:00:00Z         The Bronx           NaN         NaN   \n",
       "Q701279  1823-01-01T00:00:00Z               NaN         Islam         NaN   \n",
       "Q708682  1942-07-23T00:00:00Z          Taygetus           NaN      Greeks   \n",
       "\n",
       "        memberOfParty memberOfPartyLabel degreeLabel  \n",
       "Q579188           NaN                NaN         NaN  \n",
       "Q508141           NaN                NaN         NaN  \n",
       "Q623582           NaN                NaN         NaN  \n",
       "Q701279           NaN                NaN         NaN  \n",
       "Q708682           NaN                NaN         NaN  "
      ]
     },
     "execution_count": 10,
     "metadata": {},
     "output_type": "execute_result"
    }
   ],
   "source": [
    "suicide_df.head()"
   ]
  },
  {
   "cell_type": "markdown",
   "id": "b7050996-939f-4a0e-bb5c-a5ae79fcf8e1",
   "metadata": {
    "tags": []
   },
   "source": [
    "Using the number of quotes for each speaker, and the list of suicide victims, we can compile a list of 100 most quoted suicide victims."
   ]
  },
  {
   "cell_type": "code",
   "execution_count": 11,
   "id": "b3062182-1bfe-4a47-b5f6-def18939f0d6",
   "metadata": {
    "tags": []
   },
   "outputs": [],
   "source": [
    "suicide100 = []\n",
    "CAP_TARGET = 100\n",
    "\n",
    "for v in sorted_combined_signi_dict:\n",
    "    row = suicide_merged.get(v, None)\n",
    "    \n",
    "    # Could not find person in the suicide dictionary\n",
    "    if row is None:\n",
    "        continue\n",
    "        \n",
    "    # Append to list\n",
    "    suicide100.append(row)\n",
    "    \n",
    "    # Check if lists are at full capacity\n",
    "    if len(suicide100) == CAP_TARGET:\n",
    "        break"
   ]
  },
  {
   "cell_type": "code",
   "execution_count": 12,
   "id": "5eca2c35-33ee-4a97-9c23-701610ff3c32",
   "metadata": {
    "tags": []
   },
   "outputs": [
    {
     "data": {
      "text/plain": [
       "1"
      ]
     },
     "execution_count": 12,
     "metadata": {},
     "output_type": "execute_result"
    }
   ],
   "source": [
    "sorted_combined_signi_dict.get('Q15521785', -1)"
   ]
  },
  {
   "cell_type": "markdown",
   "id": "e0ab1a56-72d4-4f5a-b05f-a17aebcea4c8",
   "metadata": {
    "tags": []
   },
   "source": [
    "Display the list of suicide victims."
   ]
  },
  {
   "cell_type": "code",
   "execution_count": 13,
   "id": "0d9a16ab-8031-4b85-9085-2dc1abb38701",
   "metadata": {
    "tags": []
   },
   "outputs": [
    {
     "name": "stdout",
     "output_type": "stream",
     "text": [
      "\u001b[1m    People that commited suicide                                  \u001b[0m\n",
      "\u001b[1m    Name                           ID         Number of quotes    \u001b[0m\n",
      "  1 Anthony Bourdain               Q426582    2689                \n",
      "  2 Caroline Flack                 Q2939998   1431                \n",
      "  3 David Hamilton                 Q127677    969                 \n",
      "  4 John McAfee                    Q45864     964                 \n",
      "  5 Chris Cornell                  Q270935    780                 \n",
      "  6 Ashwani Kumar                  Q13426864  735                 \n",
      "  7 Chester Bennington             Q19198     502                 \n",
      "  8 Abubakar Shekau                Q2822101   329                 \n",
      "  9 Aaron Hernandez                Q302091    308                 \n",
      " 10 Jeffrey Epstein                Q2904131   268                 \n",
      "\n"
     ]
    }
   ],
   "source": [
    "BOLD = '\\033[1m'\n",
    "END = '\\033[0m'\n",
    "print(BOLD + f'{\"\":3} {\"People that commited suicide\":62}' + END)\n",
    "print(BOLD + f'{\"\":3} {\"Name\":30} {\"ID\":10} {\"Number of quotes\":20}' + END)\n",
    "\n",
    "for index in range(10):\n",
    "    row = suicide100[index]\n",
    "    \n",
    "    v = row['itemLabel']\n",
    "    q = row['item']\n",
    "    c = str(sorted_combined_signi_dict.get(q, -1))\n",
    "    \n",
    "    print(f\"{index + 1:3} {v:30} {q:10} {c:20}\")\n",
    "    \n",
    "    index += 1\n",
    "    if index % 10 == 0:\n",
    "        print()"
   ]
  },
  {
   "cell_type": "markdown",
   "id": "b03a8d73-c509-47d1-b756-b96fc0ad366c",
   "metadata": {},
   "source": [
    "### Get the quotes"
   ]
  },
  {
   "cell_type": "markdown",
   "id": "ef0b6772-c9bf-46e6-af4a-4959b897e665",
   "metadata": {
    "tags": []
   },
   "source": [
    "For the suicide victims in the previously compiled lists, we now fetch the quotes from the quote files."
   ]
  },
  {
   "cell_type": "code",
   "execution_count": 14,
   "id": "4a410c2b-29a7-4476-ab9f-fe20f52d8610",
   "metadata": {
    "tags": []
   },
   "outputs": [],
   "source": [
    "suicide_set = set()\n",
    "for v in suicide100:\n",
    "    suicide_set.add(v['item'])\n",
    "\n",
    "# Define partial function check_if_dem_or_rep_quote using function check_if_party_member_quote\n",
    "check_if_suicide_quote = partial(check_if_speaker_quote, speakers=suicide_set)"
   ]
  },
  {
   "cell_type": "markdown",
   "id": "4fd4498a-b59a-4777-bcbd-b23072c8bdcb",
   "metadata": {
    "tags": []
   },
   "source": [
    "Create files for every year, each file contains a dictionary where the key is the QID of the speaker, and the value is the list of significant quotes attributed to the speaker.\n",
    "<br><br>\n",
    "<font color='red'>WARNING: LONG EXECUTION!</font>"
   ]
  },
  {
   "cell_type": "code",
   "execution_count": null,
   "id": "16cd464b-d349-4935-a301-f6d510fd40d3",
   "metadata": {
    "tags": []
   },
   "outputs": [],
   "source": [
    "years = [2015, 2016, 2017, 2018, 2019, 2020]\n",
    "\n",
    "output_list = []\n",
    "\n",
    "for year in years:\n",
    "    path_to_input = PATTERN_INPUT.format(year)\n",
    "    \n",
    "    # Process quote file\n",
    "    output_name = process_compressed_json_file(path_to_input, 'data/suicide-quotes', year, check_if_suicide_quote)\n",
    "    \n",
    "    output_list.append(output_name)\n",
    "\n",
    "print('\\n\\nOutput file names:')\n",
    "for file_name in output_list:\n",
    "    print(file_name)"
   ]
  },
  {
   "cell_type": "markdown",
   "id": "a55a8139-492e-4aef-b6cc-6bceeffcc2c0",
   "metadata": {},
   "source": [
    "### Combine the quotes"
   ]
  },
  {
   "cell_type": "code",
   "execution_count": 15,
   "id": "d11bed63-b720-40a3-b042-d1c4cf6b23b1",
   "metadata": {
    "tags": []
   },
   "outputs": [],
   "source": [
    "suicide_quote_files = [\n",
    "    \"data/local_only/suicide-quotes-2015_1638733582656.json\",\n",
    "    \"data/local_only/suicide-quotes-2016_1638734492424.json\",\n",
    "    \"data/local_only/suicide-quotes-2017_1638736277871.json\",\n",
    "    \"data/local_only/suicide-quotes-2018_1638738456963.json\",\n",
    "    \"data/local_only/suicide-quotes-2019_1638739764361.json\",\n",
    "    \"data/local_only/suicide-quotes-2020_1638740031014.json\"\n",
    "]\n",
    "\n",
    "suicide_quotes_combined = combine_quotes_files_2nd_format(suicide100, suicide_quote_files)"
   ]
  },
  {
   "cell_type": "code",
   "execution_count": 16,
   "id": "ada0d789-cbd3-4f55-b190-f3eaf0b5020b",
   "metadata": {},
   "outputs": [
    {
     "data": {
      "text/plain": [
       "'data/local_only/suicide-quotes-combined_1639686596339.json'"
      ]
     },
     "execution_count": 16,
     "metadata": {},
     "output_type": "execute_result"
    }
   ],
   "source": [
    "write_json_to_file('data/local_only/suicide-quotes-combined', suicide_quotes_combined)"
   ]
  },
  {
   "cell_type": "markdown",
   "id": "1f0dede8-7ce2-454a-bc54-a67a579524a1",
   "metadata": {},
   "source": [
    "### Filter the quotes"
   ]
  },
  {
   "cell_type": "markdown",
   "id": "f502fc91-a5a5-4b51-b61a-5389bb6713cb",
   "metadata": {
    "tags": []
   },
   "source": [
    "Some of the quotes in the database do not represent actual quotes, but instead contain junk like html tags, source code, or text from the webpage where the source article was published.\n",
    "<br>\n",
    "We filter these quotes out so our dataset is not polluted by junk data. We have found a few filters which detect most of the junk data, while maintaining a low false positive rate:\n",
    "<ul>\n",
    "    <li>quotes which contains very long 'words' - more than 50 characters</li>\n",
    "    <li>quotes which contain URLs - these usually contain other junk characters</li>\n",
    "    <li>quotes which contains JSON-like key-value pairs</li>\n",
    "    <li>quotes which contain a lot of special characters (more than 10% of total characters)</li>\n",
    "</ul>"
   ]
  },
  {
   "cell_type": "code",
   "execution_count": 17,
   "id": "106b4514-51e8-4b9b-b775-269e0c7a43f4",
   "metadata": {},
   "outputs": [],
   "source": [
    "suicide_quotes_filtered = suicide_quotes_combined.copy()"
   ]
  },
  {
   "cell_type": "code",
   "execution_count": 18,
   "id": "431d70b3-0cb5-4f53-a4de-fc1e1025037b",
   "metadata": {},
   "outputs": [],
   "source": [
    "suicide_quotes_filtered, dirty_quotes = filter_quotes_2nd_format(suicide_quotes_filtered)"
   ]
  },
  {
   "cell_type": "markdown",
   "id": "c4fd4a31-dd41-4ab8-ad2b-b9249bc2dc8e",
   "metadata": {
    "tags": []
   },
   "source": [
    "Show some filtered quotes:"
   ]
  },
  {
   "cell_type": "code",
   "execution_count": 19,
   "id": "3d2d9095-3068-47ac-9263-208e85c5fc9b",
   "metadata": {
    "tags": []
   },
   "outputs": [
    {
     "name": "stdout",
     "output_type": "stream",
     "text": [
      "Reply # 3 on: Yesterday at 06:50:41 PM\n",
      "\n",
      "(It is) `Humble,\n",
      "\n",
      "Reply # 2 on: May 19, 2015, 02:20:35 pm\n",
      "\n",
      "Blockchain has the power to give artists and musicians the ownership of their own creation. The upcoming @BeatzCoin IEO on https://t.co/Miqj1EuSEb from September 30 will power the VibraVid platform to liberate countless artists & reward them for their work.\n",
      "\n",
      "SEC says as long as we follow AML and KYC procedures the http://McAfeedex.com exchange is OK. But we don't follow either and why should we even if we could? We are just a window into the blockchain where people trade. This is for the people, not the Government. F * ck them.\n",
      "\n"
     ]
    }
   ],
   "source": [
    "for entry in dirty_quotes[0:5]:\n",
    "    print(entry['quotation'], end='\\n\\n')"
   ]
  },
  {
   "cell_type": "markdown",
   "id": "e35c5453-fe35-4217-aa03-8b289b82ccdc",
   "metadata": {},
   "source": [
    "### Concatenate the quotes"
   ]
  },
  {
   "cell_type": "code",
   "execution_count": 20,
   "id": "93dcc242-f226-4149-a2f5-87606d23b483",
   "metadata": {},
   "outputs": [],
   "source": [
    "suicide_quotes_concat = suicide_quotes_filtered.copy()"
   ]
  },
  {
   "cell_type": "code",
   "execution_count": 21,
   "id": "f8554036-f1c2-4e70-89cc-f26e8688acf6",
   "metadata": {},
   "outputs": [],
   "source": [
    "suicide_quotes_concat = concatenate_quotes_2nd_format(suicide_quotes_concat)"
   ]
  },
  {
   "cell_type": "code",
   "execution_count": 22,
   "id": "4c130ad1-4606-47f0-a1f9-f8b307db5a75",
   "metadata": {},
   "outputs": [
    {
     "name": "stdout",
     "output_type": "stream",
     "text": [
      "# 62 Q58039238  :       4159\n",
      "# 64 Q34645926  :       3326\n",
      "# 69 Q42532791  :       4228\n",
      "# 70 Q971772    :       4315\n",
      "# 71 Q22343563  :       4888\n",
      "# 72 Q27884463  :       4184\n",
      "# 73 Q16142589  :       4133\n",
      "# 74 Q7817498   :       3017\n",
      "# 75 Q19828026  :       3019\n",
      "# 76 Q7492996   :       4691\n",
      "# 77 Q55767129  :       3125\n",
      "# 78 Q7615615   :       2716\n",
      "# 79 Q29051574  :       3781\n",
      "# 80 Q16839079  :       3062\n",
      "# 81 Q25999399  :       2058\n",
      "# 82 Q10899897  :       3503\n",
      "# 83 Q15945364  :       4058\n",
      "# 84 Q7929198   :       4382\n",
      "# 85 Q28838314  :       3864\n",
      "# 86 Q17595042  :       2989\n",
      "# 87 Q2555308   :       2814\n",
      "# 88 Q1270169   :       1821\n",
      "# 89 Q19633964  :       2845\n",
      "# 90 Q21064429  :       3754\n",
      "# 91 Q6917853   :       2476\n",
      "# 92 Q472623    :       2940\n",
      "# 93 Q21423818  :       3210\n",
      "# 94 Q5887763   :       2109\n",
      "# 95 Q6447875   :       4466\n",
      "# 96 Q319751    :       3037\n",
      "# 97 Q51881756  :       2138\n",
      "# 98 Q7294771   :       2561\n",
      "# 99 Q4714168   :       2763\n",
      "#100 Q983856    :       3601\n"
     ]
    }
   ],
   "source": [
    "index = 1\n",
    "for key in suicide_quotes_concat.keys():\n",
    "    x = suicide_quotes_concat[key]\n",
    "    length = len(x['quotations'])\n",
    "    \n",
    "    if length < 5000:\n",
    "        print(f'#{index:3} {key:10} : {length:10}')\n",
    "    index += 1"
   ]
  },
  {
   "cell_type": "code",
   "execution_count": 23,
   "id": "e9e973c0-7969-44b2-b009-ef45f88b7e62",
   "metadata": {},
   "outputs": [],
   "source": [
    "CUTOFF = 60\n",
    "\n",
    "suicide_quotes_final = dict()\n",
    "for index, key in enumerate(suicide_quotes_concat):\n",
    "    if index == CUTOFF:\n",
    "        break\n",
    "    \n",
    "    suicide_quotes_final[key] = suicide_quotes_concat[key]"
   ]
  },
  {
   "cell_type": "code",
   "execution_count": 27,
   "id": "09e36dbe-8215-45fe-88bc-f57bd3a9a63b",
   "metadata": {},
   "outputs": [
    {
     "data": {
      "text/plain": [
       "'data/local_only/suicide-quotes-top-60_1639686626612.json'"
      ]
     },
     "execution_count": 27,
     "metadata": {},
     "output_type": "execute_result"
    }
   ],
   "source": [
    "write_json_to_file('data/local_only/suicide-quotes-top-60', suicide_quotes_final)"
   ]
  },
  {
   "cell_type": "markdown",
   "id": "81a76338-ecff-4e77-8ebf-11f4bdc22059",
   "metadata": {},
   "source": [
    "### LIWC output"
   ]
  },
  {
   "cell_type": "code",
   "execution_count": 28,
   "id": "075b1475-b157-4cbf-9ef5-5b884604cad6",
   "metadata": {},
   "outputs": [],
   "source": [
    "sui_liwc = pd.read_csv('data/local_only/sui_output_1.csv')"
   ]
  },
  {
   "cell_type": "code",
   "execution_count": 29,
   "id": "07a01047-8da2-45e7-8d75-3d7de5497569",
   "metadata": {},
   "outputs": [
    {
     "data": {
      "text/html": [
       "<div>\n",
       "<style scoped>\n",
       "    .dataframe tbody tr th:only-of-type {\n",
       "        vertical-align: middle;\n",
       "    }\n",
       "\n",
       "    .dataframe tbody tr th {\n",
       "        vertical-align: top;\n",
       "    }\n",
       "\n",
       "    .dataframe thead th {\n",
       "        text-align: right;\n",
       "    }\n",
       "</style>\n",
       "<table border=\"1\" class=\"dataframe\">\n",
       "  <thead>\n",
       "    <tr style=\"text-align: right;\">\n",
       "      <th></th>\n",
       "      <th>Source (A)</th>\n",
       "      <th>Source (B)</th>\n",
       "      <th>WC</th>\n",
       "      <th>WPS</th>\n",
       "      <th>Sixltr</th>\n",
       "      <th>Dic</th>\n",
       "      <th>Pronoun</th>\n",
       "      <th>I</th>\n",
       "      <th>We</th>\n",
       "      <th>Self</th>\n",
       "      <th>...</th>\n",
       "      <th>Comma</th>\n",
       "      <th>Colon</th>\n",
       "      <th>SemiC</th>\n",
       "      <th>QMark</th>\n",
       "      <th>Exclam</th>\n",
       "      <th>Dash</th>\n",
       "      <th>Quote</th>\n",
       "      <th>Apostro</th>\n",
       "      <th>Parenth</th>\n",
       "      <th>OtherP</th>\n",
       "    </tr>\n",
       "  </thead>\n",
       "  <tbody>\n",
       "    <tr>\n",
       "      <th>8</th>\n",
       "      <td>Q302091</td>\n",
       "      <td>Shay, you have always been my soul-mate and i...</td>\n",
       "      <td>989</td>\n",
       "      <td>12.84</td>\n",
       "      <td>9.81</td>\n",
       "      <td>79.68</td>\n",
       "      <td>20.22</td>\n",
       "      <td>10.82</td>\n",
       "      <td>0.4</td>\n",
       "      <td>11.22</td>\n",
       "      <td>...</td>\n",
       "      <td>3.34</td>\n",
       "      <td>0.0</td>\n",
       "      <td>0.0</td>\n",
       "      <td>0.2</td>\n",
       "      <td>3.34</td>\n",
       "      <td>2.63</td>\n",
       "      <td>0.0</td>\n",
       "      <td>3.64</td>\n",
       "      <td>1.82</td>\n",
       "      <td>4.75</td>\n",
       "    </tr>\n",
       "  </tbody>\n",
       "</table>\n",
       "<p>1 rows × 86 columns</p>\n",
       "</div>"
      ],
      "text/plain": [
       "  Source (A)                                         Source (B)   WC    WPS  \\\n",
       "8    Q302091   Shay, you have always been my soul-mate and i...  989  12.84   \n",
       "\n",
       "   Sixltr    Dic  Pronoun      I   We   Self  ...  Comma  Colon  SemiC  QMark  \\\n",
       "8    9.81  79.68    20.22  10.82  0.4  11.22  ...   3.34    0.0    0.0    0.2   \n",
       "\n",
       "   Exclam  Dash  Quote  Apostro  Parenth  OtherP  \n",
       "8    3.34  2.63    0.0     3.64     1.82    4.75  \n",
       "\n",
       "[1 rows x 86 columns]"
      ]
     },
     "execution_count": 29,
     "metadata": {},
     "output_type": "execute_result"
    }
   ],
   "source": [
    "# Visualise a random sample\n",
    "sui_liwc.sample()"
   ]
  },
  {
   "cell_type": "code",
   "execution_count": 30,
   "id": "95475e2b-3e9f-4f80-9c99-ad656c2ccb58",
   "metadata": {},
   "outputs": [],
   "source": [
    "ctrl_liwc = pd.read_csv('data/top_1000_output_1.csv')"
   ]
  },
  {
   "cell_type": "code",
   "execution_count": 31,
   "id": "4be42479-d68c-4a8f-8407-7b3e2a1b0ba1",
   "metadata": {},
   "outputs": [
    {
     "data": {
      "text/html": [
       "<div>\n",
       "<style scoped>\n",
       "    .dataframe tbody tr th:only-of-type {\n",
       "        vertical-align: middle;\n",
       "    }\n",
       "\n",
       "    .dataframe tbody tr th {\n",
       "        vertical-align: top;\n",
       "    }\n",
       "\n",
       "    .dataframe thead th {\n",
       "        text-align: right;\n",
       "    }\n",
       "</style>\n",
       "<table border=\"1\" class=\"dataframe\">\n",
       "  <thead>\n",
       "    <tr style=\"text-align: right;\">\n",
       "      <th></th>\n",
       "      <th>Source (A)</th>\n",
       "      <th>Source (B)</th>\n",
       "      <th>WC</th>\n",
       "      <th>WPS</th>\n",
       "      <th>Sixltr</th>\n",
       "      <th>Dic</th>\n",
       "      <th>Pronoun</th>\n",
       "      <th>I</th>\n",
       "      <th>We</th>\n",
       "      <th>Self</th>\n",
       "      <th>...</th>\n",
       "      <th>Comma</th>\n",
       "      <th>Colon</th>\n",
       "      <th>SemiC</th>\n",
       "      <th>QMark</th>\n",
       "      <th>Exclam</th>\n",
       "      <th>Dash</th>\n",
       "      <th>Quote</th>\n",
       "      <th>Apostro</th>\n",
       "      <th>Parenth</th>\n",
       "      <th>OtherP</th>\n",
       "    </tr>\n",
       "  </thead>\n",
       "  <tbody>\n",
       "    <tr>\n",
       "      <th>578</th>\n",
       "      <td>Q5207523</td>\n",
       "      <td>I'm happy. I'm effervescent. The story on tha...</td>\n",
       "      <td>991</td>\n",
       "      <td>12.71</td>\n",
       "      <td>11.81</td>\n",
       "      <td>82.14</td>\n",
       "      <td>16.35</td>\n",
       "      <td>4.34</td>\n",
       "      <td>2.72</td>\n",
       "      <td>7.06</td>\n",
       "      <td>...</td>\n",
       "      <td>3.33</td>\n",
       "      <td>0.0</td>\n",
       "      <td>0.0</td>\n",
       "      <td>0.3</td>\n",
       "      <td>0.0</td>\n",
       "      <td>0.3</td>\n",
       "      <td>0.0</td>\n",
       "      <td>4.34</td>\n",
       "      <td>0.0</td>\n",
       "      <td>0.81</td>\n",
       "    </tr>\n",
       "  </tbody>\n",
       "</table>\n",
       "<p>1 rows × 86 columns</p>\n",
       "</div>"
      ],
      "text/plain": [
       "    Source (A)                                         Source (B)   WC    WPS  \\\n",
       "578   Q5207523   I'm happy. I'm effervescent. The story on tha...  991  12.71   \n",
       "\n",
       "     Sixltr    Dic  Pronoun     I    We  Self  ...  Comma  Colon  SemiC  \\\n",
       "578   11.81  82.14    16.35  4.34  2.72  7.06  ...   3.33    0.0    0.0   \n",
       "\n",
       "     QMark  Exclam  Dash  Quote  Apostro  Parenth  OtherP  \n",
       "578    0.3     0.0   0.3    0.0     4.34      0.0    0.81  \n",
       "\n",
       "[1 rows x 86 columns]"
      ]
     },
     "execution_count": 31,
     "metadata": {},
     "output_type": "execute_result"
    }
   ],
   "source": [
    "ctrl_liwc.sample()"
   ]
  },
  {
   "cell_type": "markdown",
   "id": "64d2b5a1-74c4-4d83-8fd5-26a63197e3f9",
   "metadata": {},
   "source": [
    "### Personality"
   ]
  },
  {
   "cell_type": "code",
   "execution_count": 32,
   "id": "35eef05f-c467-49d8-b0d8-6f4d922d93b6",
   "metadata": {},
   "outputs": [],
   "source": [
    "sui_personality = predict_personality(sui_liwc)"
   ]
  },
  {
   "cell_type": "code",
   "execution_count": 33,
   "id": "6649e988-352f-4b79-95fb-d242124f54c4",
   "metadata": {},
   "outputs": [],
   "source": [
    "ctrl_personality = predict_personality(ctrl_liwc)"
   ]
  },
  {
   "cell_type": "markdown",
   "id": "dfb56588-0762-4d97-9a76-340ddb68db72",
   "metadata": {},
   "source": [
    "### Wikidata"
   ]
  },
  {
   "cell_type": "code",
   "execution_count": 34,
   "id": "90d2b254-c225-466b-9cdb-f699f314eba8",
   "metadata": {},
   "outputs": [],
   "source": [
    "with open('data/local_only/suicide-quotes-top-60_1638815474527.json', 'r', encoding='utf-8') as f:\n",
    "    sui_wikidata = json.load(f)"
   ]
  },
  {
   "cell_type": "code",
   "execution_count": 35,
   "id": "5bf36433-c51f-4015-95a8-76013f80fe48",
   "metadata": {},
   "outputs": [],
   "source": [
    "with open('data/local_only/top-1000-quotes-concatenated_1638964313725.json', 'r', encoding='utf-8') as f:\n",
    "    ctrl_wikidata = json.load(f)"
   ]
  },
  {
   "cell_type": "markdown",
   "id": "89ad5843-79b0-40ad-b825-d98cf091d359",
   "metadata": {},
   "source": [
    "### Merge LIWC and Wikidata"
   ]
  },
  {
   "cell_type": "code",
   "execution_count": 36,
   "id": "9c38edb4-c93d-43f6-b9f4-1fa852ff87fb",
   "metadata": {},
   "outputs": [
    {
     "data": {
      "text/html": [
       "<div>\n",
       "<style scoped>\n",
       "    .dataframe tbody tr th:only-of-type {\n",
       "        vertical-align: middle;\n",
       "    }\n",
       "\n",
       "    .dataframe tbody tr th {\n",
       "        vertical-align: top;\n",
       "    }\n",
       "\n",
       "    .dataframe thead th {\n",
       "        text-align: right;\n",
       "    }\n",
       "</style>\n",
       "<table border=\"1\" class=\"dataframe\">\n",
       "  <thead>\n",
       "    <tr style=\"text-align: right;\">\n",
       "      <th></th>\n",
       "      <th>Source (A)</th>\n",
       "      <th>Source (B)</th>\n",
       "      <th>WC</th>\n",
       "      <th>WPS</th>\n",
       "      <th>Sixltr</th>\n",
       "      <th>Dic</th>\n",
       "      <th>Pronoun</th>\n",
       "      <th>I</th>\n",
       "      <th>We</th>\n",
       "      <th>Self</th>\n",
       "      <th>...</th>\n",
       "      <th>genderLabel</th>\n",
       "      <th>citizenshipLabel</th>\n",
       "      <th>languageLabel</th>\n",
       "      <th>religionLabel</th>\n",
       "      <th>ethnicLabel</th>\n",
       "      <th>dateOfBirth</th>\n",
       "      <th>placeOfBirthLabel</th>\n",
       "      <th>quotations</th>\n",
       "      <th>memberOfParty</th>\n",
       "      <th>memberOfPartyLabel</th>\n",
       "    </tr>\n",
       "  </thead>\n",
       "  <tbody>\n",
       "    <tr>\n",
       "      <th>29</th>\n",
       "      <td>Q234471</td>\n",
       "      <td>In August 2015, at the Democratic Party conve...</td>\n",
       "      <td>910</td>\n",
       "      <td>14.44</td>\n",
       "      <td>17.58</td>\n",
       "      <td>75.16</td>\n",
       "      <td>11.21</td>\n",
       "      <td>4.29</td>\n",
       "      <td>0.99</td>\n",
       "      <td>5.27</td>\n",
       "      <td>...</td>\n",
       "      <td>female</td>\n",
       "      <td>[Canada, United States of America]</td>\n",
       "      <td>NaN</td>\n",
       "      <td>atheism</td>\n",
       "      <td>NaN</td>\n",
       "      <td>1948-10-17T00:00:00Z</td>\n",
       "      <td>Yellowknife</td>\n",
       "      <td>In August 2015, at the Democratic Party conve...</td>\n",
       "      <td>http://www.wikidata.org/entity/Q29552</td>\n",
       "      <td>Democratic Party</td>\n",
       "    </tr>\n",
       "  </tbody>\n",
       "</table>\n",
       "<p>1 rows × 133 columns</p>\n",
       "</div>"
      ],
      "text/plain": [
       "   Source (A)                                         Source (B)   WC    WPS  \\\n",
       "29    Q234471   In August 2015, at the Democratic Party conve...  910  14.44   \n",
       "\n",
       "    Sixltr    Dic  Pronoun     I    We  Self  ...  genderLabel  \\\n",
       "29   17.58  75.16    11.21  4.29  0.99  5.27  ...       female   \n",
       "\n",
       "                      citizenshipLabel  languageLabel  religionLabel  \\\n",
       "29  [Canada, United States of America]            NaN        atheism   \n",
       "\n",
       "    ethnicLabel           dateOfBirth  placeOfBirthLabel  \\\n",
       "29          NaN  1948-10-17T00:00:00Z        Yellowknife   \n",
       "\n",
       "                                           quotations  \\\n",
       "29   In August 2015, at the Democratic Party conve...   \n",
       "\n",
       "                            memberOfParty  memberOfPartyLabel  \n",
       "29  http://www.wikidata.org/entity/Q29552    Democratic Party  \n",
       "\n",
       "[1 rows x 133 columns]"
      ]
     },
     "execution_count": 36,
     "metadata": {},
     "output_type": "execute_result"
    }
   ],
   "source": [
    "df1 = pd.concat([sui_liwc, sui_personality], axis=1)\n",
    "sui_wikidata_pd = pd.DataFrame(sui_wikidata.values())\n",
    "\n",
    "sui_df = df1.merge(sui_wikidata_pd, left_on='Source (A)', right_on='item', how='left')\n",
    "sui_df.sample()"
   ]
  },
  {
   "cell_type": "code",
   "execution_count": 37,
   "id": "c2328ef1-bcaa-4616-b6e2-f7211c238017",
   "metadata": {},
   "outputs": [
    {
     "data": {
      "text/html": [
       "<div>\n",
       "<style scoped>\n",
       "    .dataframe tbody tr th:only-of-type {\n",
       "        vertical-align: middle;\n",
       "    }\n",
       "\n",
       "    .dataframe tbody tr th {\n",
       "        vertical-align: top;\n",
       "    }\n",
       "\n",
       "    .dataframe thead th {\n",
       "        text-align: right;\n",
       "    }\n",
       "</style>\n",
       "<table border=\"1\" class=\"dataframe\">\n",
       "  <thead>\n",
       "    <tr style=\"text-align: right;\">\n",
       "      <th></th>\n",
       "      <th>Source (A)</th>\n",
       "      <th>Source (B)</th>\n",
       "      <th>WC</th>\n",
       "      <th>WPS</th>\n",
       "      <th>Sixltr</th>\n",
       "      <th>Dic</th>\n",
       "      <th>Pronoun</th>\n",
       "      <th>I</th>\n",
       "      <th>We</th>\n",
       "      <th>Self</th>\n",
       "      <th>...</th>\n",
       "      <th>item</th>\n",
       "      <th>itemLabel</th>\n",
       "      <th>genderLabel</th>\n",
       "      <th>citizenshipLabel</th>\n",
       "      <th>religionLabel</th>\n",
       "      <th>dateOfBirth</th>\n",
       "      <th>quotations</th>\n",
       "      <th>languageLabel</th>\n",
       "      <th>ethnicLabel</th>\n",
       "      <th>degreeLabel</th>\n",
       "    </tr>\n",
       "  </thead>\n",
       "  <tbody>\n",
       "    <tr>\n",
       "      <th>719</th>\n",
       "      <td>Q6103950</td>\n",
       "      <td>Well, look, we're going to have to do a lot. ...</td>\n",
       "      <td>861</td>\n",
       "      <td>19.57</td>\n",
       "      <td>23.11</td>\n",
       "      <td>71.66</td>\n",
       "      <td>8.48</td>\n",
       "      <td>1.74</td>\n",
       "      <td>3.37</td>\n",
       "      <td>5.11</td>\n",
       "      <td>...</td>\n",
       "      <td>Q6103950</td>\n",
       "      <td>J.B. Pritzker</td>\n",
       "      <td>male</td>\n",
       "      <td>United States of America</td>\n",
       "      <td>NaN</td>\n",
       "      <td>1965-01-19T00:00:00Z</td>\n",
       "      <td>Well, look, we're going to have to do a lot. ...</td>\n",
       "      <td>NaN</td>\n",
       "      <td>NaN</td>\n",
       "      <td>NaN</td>\n",
       "    </tr>\n",
       "  </tbody>\n",
       "</table>\n",
       "<p>1 rows × 131 columns</p>\n",
       "</div>"
      ],
      "text/plain": [
       "    Source (A)                                         Source (B)   WC    WPS  \\\n",
       "719   Q6103950   Well, look, we're going to have to do a lot. ...  861  19.57   \n",
       "\n",
       "     Sixltr    Dic  Pronoun     I    We  Self  ...      item      itemLabel  \\\n",
       "719   23.11  71.66     8.48  1.74  3.37  5.11  ...  Q6103950  J.B. Pritzker   \n",
       "\n",
       "     genderLabel          citizenshipLabel  religionLabel  \\\n",
       "719         male  United States of America            NaN   \n",
       "\n",
       "              dateOfBirth                                         quotations  \\\n",
       "719  1965-01-19T00:00:00Z   Well, look, we're going to have to do a lot. ...   \n",
       "\n",
       "     languageLabel  ethnicLabel  degreeLabel  \n",
       "719            NaN          NaN          NaN  \n",
       "\n",
       "[1 rows x 131 columns]"
      ]
     },
     "execution_count": 37,
     "metadata": {},
     "output_type": "execute_result"
    }
   ],
   "source": [
    "df1 = pd.concat([ctrl_liwc, ctrl_personality], axis=1)\n",
    "ctrl_wikidata_pd = pd.DataFrame(ctrl_wikidata.values())\n",
    "\n",
    "ctrl_df = df1.merge(ctrl_wikidata_pd, left_on='Source (A)', right_on='item', how='left')\n",
    "ctrl_df.sample()"
   ]
  },
  {
   "cell_type": "markdown",
   "id": "86dd73ca-4c99-4c19-be31-00e7c894173e",
   "metadata": {},
   "source": [
    "### Merge into one dataframe for side-by-side comparison"
   ]
  },
  {
   "cell_type": "code",
   "execution_count": 38,
   "id": "a8140eef-f332-4df2-803c-bdc50a5b1359",
   "metadata": {},
   "outputs": [
    {
     "name": "stdout",
     "output_type": "stream",
     "text": [
      "60\n",
      "1000\n"
     ]
    }
   ],
   "source": [
    "sui_df_copy = sui_df.copy()\n",
    "sui_df_copy['suicide'] = \"Yes\"\n",
    "print(sui_df_copy.shape[0])\n",
    "\n",
    "ctrl_df_copy = ctrl_df.copy()\n",
    "ctrl_df_copy['suicide'] = \"No\"\n",
    "# ctrl_df_copy = ctrl_df_copy.head(60)\n",
    "print(ctrl_df_copy.shape[0])"
   ]
  },
  {
   "cell_type": "code",
   "execution_count": 39,
   "id": "57e8f3f3-32ce-4aee-9e25-5216a1b90352",
   "metadata": {},
   "outputs": [],
   "source": [
    "combdf = pd.concat([sui_df_copy, ctrl_df_copy]).reset_index()"
   ]
  },
  {
   "cell_type": "markdown",
   "id": "f60b81e9-495b-4edd-a288-518837dd9136",
   "metadata": {},
   "source": [
    "<a id='analysis_header'></a>\n",
    "# ANALYSIS"
   ]
  },
  {
   "cell_type": "code",
   "execution_count": 43,
   "id": "059b9f0d-a85b-4ad8-92a0-80323e3a331e",
   "metadata": {},
   "outputs": [],
   "source": [
    "three_people_df = sui_df.copy()\n",
    "three_people_df['speaker'] = three_people_df['itemLabel']\n",
    "three_people_df = three_people_df[three_people_df['item'].isin(['Q426582', 'Q45864', 'Q505476'])].set_index('speaker')\n",
    "\n",
    "three_people_df = three_people_df[PERSONALITY_ATTRS]\n",
    "\n",
    "means = ctrl_df[PERSONALITY_ATTRS].mean()\n",
    "stds = ctrl_df[PERSONALITY_ATTRS].std()\n",
    "three_people_df = (three_people_df - means) / stds"
   ]
  },
  {
   "cell_type": "code",
   "execution_count": 44,
   "id": "5b434c7b-e067-4daf-a487-536c5c8edeb9",
   "metadata": {
    "tags": []
   },
   "outputs": [
    {
     "data": {
      "text/plain": [
       "<AxesSubplot:title={'center':'Normalized personality factors'}, ylabel='speaker'>"
      ]
     },
     "execution_count": 44,
     "metadata": {},
     "output_type": "execute_result"
    },
    {
     "data": {
      "image/png": "[encoded data removed]",
      "text/plain": [
       "<Figure size 1800x648 with 2 Axes>"
      ]
     },
     "metadata": {},
     "output_type": "display_data"
    }
   ],
   "source": [
    "fig, ax = plt.subplots(figsize=(25, 9))\n",
    "ax.set_title('Normalized personality factors', fontsize='16')\n",
    "sns.heatmap(three_people_df, ax=ax, annot=True, cmap='RdYlBu')"
   ]
  },
  {
   "cell_type": "code",
   "execution_count": 49,
   "id": "699348ef-b57e-4a12-a63e-55de93a978b0",
   "metadata": {},
   "outputs": [
    {
     "name": "stdout",
     "output_type": "stream",
     "text": [
      "['neuroticism', 'anxiety', 'hostility', 'depression', 'self_consciousness', 'immoderation', 'vulnerability', 'extraversion', 'friendliness', 'gregariousness', 'assertiveness', 'activity_level', 'excitement_seeking', 'cheerfulness', 'openness', 'imagination', 'artistic_interests', 'emotionality', 'adventurousness', 'intellect', 'liberalism', 'agreeableness', 'trust', 'morality', 'altruism', 'cooperation', 'modesty', 'sympathy', 'conscientiousness', 'self_efficacy', 'orderliness', 'dutifulness', 'achievement_striving', 'self_discipline', 'cautiousness']\n"
     ]
    }
   ],
   "source": [
    "print(PERSONALITY_ATTRS)"
   ]
  },
  {
   "cell_type": "code",
   "execution_count": 48,
   "id": "11a3a49c-7de1-4f1e-a09c-c58491cc5bc6",
   "metadata": {},
   "outputs": [
    {
     "name": "stdout",
     "output_type": "stream",
     "text": [
      "None\n"
     ]
    }
   ],
   "source": [
    "print(sorted_personality_attrs)"
   ]
  },
  {
   "cell_type": "code",
   "execution_count": 56,
   "id": "1ea3ba55-6cc9-4d02-9d2c-4fce70ea8c88",
   "metadata": {},
   "outputs": [],
   "source": [
    "# Makesorted_personality_attrslect dropdown to select the Personality traits\n",
    "sorted_personality_attrs = PERSONALITY_ATTRS.copy()\n",
    "sorted_personality_attrs.sort()\n",
    "personality_traits_multiselect = widgets.SelectMultiple(\n",
    "    options=sorted_personality_attrs,\n",
    "    value=['neuroticism', 'anxiety', 'depression', 'vulnerability', 'cheerfulness', 'emotionality'],\n",
    "    description='Personality traits:',\n",
    ")\n",
    "\n",
    "def plot_histograms_for_traits(personality_traits):\n",
    "    # Figure out the number of rows and columns of the subplots\n",
    "    root = math.ceil(math.sqrt(len(personality_traits)))\n",
    "    columns = max(1, root)\n",
    "    rows = max(1, math.ceil(len(personality_traits) / columns))\n",
    "\n",
    "    # Figure setup\n",
    "    fig, axs = plt.subplots(rows, columns, figsize=(18.5, 8), squeeze=False)\n",
    "    fig.tight_layout(pad=3.0)\n",
    "\n",
    "    # Fill the subplots with histograms\n",
    "    for i in range(rows):\n",
    "        for j in range(columns):\n",
    "            index = i * columns + j\n",
    "            if (index >= len(personality_traits)):\n",
    "                continue\n",
    "            \n",
    "            attr = personality_traits[index]\n",
    "            sns.histplot(combdf, x=attr, hue='suicide', element=\"step\", stat=\"density\", common_norm=False, ax=axs[i][j])"
   ]
  },
  {
   "cell_type": "code",
   "execution_count": 57,
   "id": "4c046796-5d44-49b0-ab4f-f5ef02a19861",
   "metadata": {},
   "outputs": [
    {
     "data": {
      "application/vnd.jupyter.widget-view+json": {
       "model_id": "a1282faadd424a8186f8aa6cf00bfeb9",
       "version_major": 2,
       "version_minor": 0
      },
      "text/plain": [
       "interactive(children=(SelectMultiple(description='Personality traits:', index=(26, 5, 12, 34, 9, 14), options=…"
      ]
     },
     "metadata": {},
     "output_type": "display_data"
    }
   ],
   "source": [
    "interactive(plot_histograms_for_traits, personality_traits=personality_traits_multiselect)"
   ]
  },
  {
   "cell_type": "code",
   "execution_count": null,
   "id": "03ff26ff-6b0c-4da3-b9c6-c0d5827367c8",
   "metadata": {},
   "outputs": [],
   "source": []
  }
 ],
 "metadata": {
  "kernelspec": {
   "display_name": "Python 3",
   "language": "python",
   "name": "python3"
  },
  "language_info": {
   "codemirror_mode": {
    "name": "ipython",
    "version": 3
   },
   "file_extension": ".py",
   "mimetype": "text/x-python",
   "name": "python",
   "nbconvert_exporter": "python",
   "pygments_lexer": "ipython3",
   "version": "3.8.8"
  }
 },
 "nbformat": 4,
 "nbformat_minor": 5
}
