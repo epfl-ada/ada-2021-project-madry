{
 "cells": [
  {
   "cell_type": "markdown",
   "id": "52ead77e",
   "metadata": {},
   "source": [
    "## Initial Data Analysis"
   ]
  },
  {
   "cell_type": "code",
   "execution_count": 21,
   "id": "b58705c8",
   "metadata": {},
   "outputs": [],
   "source": [
    "import bz2\n",
    "import json\n",
    "import pandas as pd\n",
    "import csv"
   ]
  },
  {
   "cell_type": "code",
   "execution_count": 6,
   "id": "cdaee992",
   "metadata": {},
   "outputs": [],
   "source": [
    "# Load the concatenated quotes for top 100 politician\n",
    "with open('./data/politician-quotes-concatenated_1636411537251.json', 'r') as f:\n",
    "    data = json.load(f)"
   ]
  },
  {
   "cell_type": "markdown",
   "id": "5c597066",
   "metadata": {},
   "source": [
    "After getting the data, we extract the quote ID and the concatenated quote of each politician, and write them to `input_data1.csv` for the LIWC personality analysis."
   ]
  },
  {
   "cell_type": "code",
   "execution_count": null,
   "id": "06aaf991",
   "metadata": {},
   "outputs": [],
   "source": [
    "with open('input_data1.csv', 'w', encoding='UTF8', newline='') as f:\n",
    "    writer = csv.writer(f)\n",
    "    writer.writerow([\"qid\", \"quote\"])\n",
    "    for qid, all_value in data.items():\n",
    "        quote = all_value[\"quotations\"]\n",
    "        writer.writerow([qid, quote])"
   ]
  },
  {
   "cell_type": "markdown",
   "id": "6959ee03",
   "metadata": {},
   "source": [
    "### LIWC Analysis\n",
    "After parsing the `input_data1.csv` using the liwc software (Academic Version), for each concatenated quote, it gains a list of features in terms of LIWC categories, such as pronoun, articles. We save the data as `output_data1.csv` and then load it to our notebook."
   ]
  },
  {
   "cell_type": "code",
   "execution_count": 10,
   "id": "5601021b",
   "metadata": {},
   "outputs": [],
   "source": [
    "liwc = pd.read_csv('output_data1.csv')"
   ]
  },
  {
   "cell_type": "code",
   "execution_count": 13,
   "id": "f2370b7f",
   "metadata": {},
   "outputs": [
    {
     "data": {
      "text/html": [
       "<div>\n",
       "<style scoped>\n",
       "    .dataframe tbody tr th:only-of-type {\n",
       "        vertical-align: middle;\n",
       "    }\n",
       "\n",
       "    .dataframe tbody tr th {\n",
       "        vertical-align: top;\n",
       "    }\n",
       "\n",
       "    .dataframe thead th {\n",
       "        text-align: right;\n",
       "    }\n",
       "</style>\n",
       "<table border=\"1\" class=\"dataframe\">\n",
       "  <thead>\n",
       "    <tr style=\"text-align: right;\">\n",
       "      <th></th>\n",
       "      <th>Source (A)</th>\n",
       "      <th>Source (B)</th>\n",
       "      <th>WC</th>\n",
       "      <th>WPS</th>\n",
       "      <th>Sixltr</th>\n",
       "      <th>Dic</th>\n",
       "      <th>Pronoun</th>\n",
       "      <th>I</th>\n",
       "      <th>We</th>\n",
       "      <th>Self</th>\n",
       "      <th>...</th>\n",
       "      <th>Comma</th>\n",
       "      <th>Colon</th>\n",
       "      <th>SemiC</th>\n",
       "      <th>QMark</th>\n",
       "      <th>Exclam</th>\n",
       "      <th>Dash</th>\n",
       "      <th>Quote</th>\n",
       "      <th>Apostro</th>\n",
       "      <th>Parenth</th>\n",
       "      <th>OtherP</th>\n",
       "    </tr>\n",
       "  </thead>\n",
       "  <tbody>\n",
       "    <tr>\n",
       "      <th>12</th>\n",
       "      <td>Q1077594</td>\n",
       "      <td>The NCAA and collegiate sports more broadly n...</td>\n",
       "      <td>825</td>\n",
       "      <td>14.73</td>\n",
       "      <td>28.36</td>\n",
       "      <td>68.36</td>\n",
       "      <td>7.64</td>\n",
       "      <td>1.45</td>\n",
       "      <td>1.7</td>\n",
       "      <td>3.15</td>\n",
       "      <td>...</td>\n",
       "      <td>2.79</td>\n",
       "      <td>0.12</td>\n",
       "      <td>0.0</td>\n",
       "      <td>0.0</td>\n",
       "      <td>0.0</td>\n",
       "      <td>2.06</td>\n",
       "      <td>0.0</td>\n",
       "      <td>1.45</td>\n",
       "      <td>0.0</td>\n",
       "      <td>0.12</td>\n",
       "    </tr>\n",
       "  </tbody>\n",
       "</table>\n",
       "<p>1 rows × 86 columns</p>\n",
       "</div>"
      ],
      "text/plain": [
       "   Source (A)                                         Source (B)   WC    WPS  \\\n",
       "12   Q1077594   The NCAA and collegiate sports more broadly n...  825  14.73   \n",
       "\n",
       "    Sixltr    Dic  Pronoun     I   We  Self  ...  Comma  Colon  SemiC  QMark  \\\n",
       "12   28.36  68.36     7.64  1.45  1.7  3.15  ...   2.79   0.12    0.0    0.0   \n",
       "\n",
       "    Exclam  Dash  Quote  Apostro  Parenth  OtherP  \n",
       "12     0.0  2.06    0.0     1.45      0.0    0.12  \n",
       "\n",
       "[1 rows x 86 columns]"
      ]
     },
     "execution_count": 13,
     "metadata": {},
     "output_type": "execute_result"
    }
   ],
   "source": [
    "# Visualise a random sample\n",
    "liwc.sample()"
   ]
  },
  {
   "cell_type": "markdown",
   "id": "d0512840",
   "metadata": {},
   "source": [
    "### Personality Analysis Based on LIWC Results\n",
    "According to the research by Tal Yarkoni from University of Colorado at Boulder, significant correlations between LIWC categories and the big five personalities are identified based on a large scale analysis (2010). Hence, we create the `predict_personality()` function which allows us to select the features based on the recorded significant level from the research."
   ]
  },
  {
   "cell_type": "code",
   "execution_count": null,
   "id": "81e90f2d",
   "metadata": {},
   "outputs": [],
   "source": [
    "def predict_personality(liwc_data: pd.DataFrame, sig_level: int = 1) -> pd.DataFrame:\n",
    "    \"\"\"Predicts personality based on the LIWC metrics\n",
    "\n",
    "    Args:\n",
    "        liwc_data (pd.DataFrame): LIWC metrics\n",
    "        sig_level (int, optional): Significance level. Defaults to 3 (i.e. greater than 0.001)\n",
    "\n",
    "    Returns:\n",
    "        pd.DataFrame: Personality scores\n",
    "    \"\"\"\n",
    "    liwc_ocean_data = pd.read_csv('data/LIWC_OCEAN.csv', index_col=0)\n",
    "    liwc_ocean_sig_data = pd.read_csv('data/LIWC_OCEAN_Significance.csv', index_col=0)\n",
    "    liwc_data = liwc_data[list(LIWC_OCEAN_MAP.keys())].rename(columns=LIWC_OCEAN_MAP)\n",
    "    liwc_data = liwc_data.div(liwc_data.sum(axis=1), axis=0)\n",
    "    assert (liwc_ocean_data.index == liwc_data.columns).all()\n",
    "    liwc_ocean_data_with_sig = liwc_ocean_data * (liwc_ocean_sig_data >= sig_level).astype(int)\n",
    "    return liwc_data.dot(liwc_ocean_data_with_sig)"
   ]
  },
  {
   "cell_type": "code",
   "execution_count": 14,
   "id": "bde3c863",
   "metadata": {},
   "outputs": [],
   "source": [
    "import helpers\n",
    "# call the predict_personality function from helpers file which include the name cleaning map for liwc.\n",
    "bigfive = helpers.predict_personality(liwc)"
   ]
  },
  {
   "cell_type": "code",
   "execution_count": 16,
   "id": "5b51fb47",
   "metadata": {},
   "outputs": [
    {
     "data": {
      "text/html": [
       "<div>\n",
       "<style scoped>\n",
       "    .dataframe tbody tr th:only-of-type {\n",
       "        vertical-align: middle;\n",
       "    }\n",
       "\n",
       "    .dataframe tbody tr th {\n",
       "        vertical-align: top;\n",
       "    }\n",
       "\n",
       "    .dataframe thead th {\n",
       "        text-align: right;\n",
       "    }\n",
       "</style>\n",
       "<table border=\"1\" class=\"dataframe\">\n",
       "  <thead>\n",
       "    <tr style=\"text-align: right;\">\n",
       "      <th></th>\n",
       "      <th>neuroticism</th>\n",
       "      <th>anxiety</th>\n",
       "      <th>hostility</th>\n",
       "      <th>depression</th>\n",
       "      <th>self_consciousness</th>\n",
       "      <th>immoderation</th>\n",
       "      <th>vulnerability</th>\n",
       "      <th>extraversion</th>\n",
       "      <th>friendliness</th>\n",
       "      <th>gregariousness</th>\n",
       "      <th>...</th>\n",
       "      <th>cooperation</th>\n",
       "      <th>modesty</th>\n",
       "      <th>sympathy</th>\n",
       "      <th>conscientiousness</th>\n",
       "      <th>self_efficacy</th>\n",
       "      <th>orderliness</th>\n",
       "      <th>dutifulness</th>\n",
       "      <th>achievement_striving</th>\n",
       "      <th>self_discipline</th>\n",
       "      <th>cautiousness</th>\n",
       "    </tr>\n",
       "  </thead>\n",
       "  <tbody>\n",
       "    <tr>\n",
       "      <th>117</th>\n",
       "      <td>0.920334</td>\n",
       "      <td>-0.038939</td>\n",
       "      <td>2.156352</td>\n",
       "      <td>-0.049568</td>\n",
       "      <td>0.14622</td>\n",
       "      <td>-0.185656</td>\n",
       "      <td>-0.397437</td>\n",
       "      <td>2.485448</td>\n",
       "      <td>3.972683</td>\n",
       "      <td>3.314592</td>\n",
       "      <td>...</td>\n",
       "      <td>3.109864</td>\n",
       "      <td>0.954405</td>\n",
       "      <td>2.603854</td>\n",
       "      <td>-1.471541</td>\n",
       "      <td>2.190921</td>\n",
       "      <td>0.337737</td>\n",
       "      <td>0.779478</td>\n",
       "      <td>-1.747988</td>\n",
       "      <td>-1.446806</td>\n",
       "      <td>0.423959</td>\n",
       "    </tr>\n",
       "  </tbody>\n",
       "</table>\n",
       "<p>1 rows × 35 columns</p>\n",
       "</div>"
      ],
      "text/plain": [
       "     neuroticism   anxiety  hostility  depression  self_consciousness  \\\n",
       "117     0.920334 -0.038939   2.156352   -0.049568             0.14622   \n",
       "\n",
       "     immoderation  vulnerability  extraversion  friendliness  gregariousness  \\\n",
       "117     -0.185656      -0.397437      2.485448      3.972683        3.314592   \n",
       "\n",
       "     ...  cooperation   modesty  sympathy  conscientiousness  self_efficacy  \\\n",
       "117  ...     3.109864  0.954405  2.603854          -1.471541       2.190921   \n",
       "\n",
       "     orderliness  dutifulness  achievement_striving  self_discipline  \\\n",
       "117     0.337737     0.779478             -1.747988        -1.446806   \n",
       "\n",
       "     cautiousness  \n",
       "117      0.423959  \n",
       "\n",
       "[1 rows x 35 columns]"
      ]
     },
     "execution_count": 16,
     "metadata": {},
     "output_type": "execute_result"
    }
   ],
   "source": [
    "bigfive.sample()"
   ]
  },
  {
   "cell_type": "code",
   "execution_count": 17,
   "id": "fddb9e42",
   "metadata": {},
   "outputs": [
    {
     "data": {
      "text/html": [
       "<div>\n",
       "<style scoped>\n",
       "    .dataframe tbody tr th:only-of-type {\n",
       "        vertical-align: middle;\n",
       "    }\n",
       "\n",
       "    .dataframe tbody tr th {\n",
       "        vertical-align: top;\n",
       "    }\n",
       "\n",
       "    .dataframe thead th {\n",
       "        text-align: right;\n",
       "    }\n",
       "</style>\n",
       "<table border=\"1\" class=\"dataframe\">\n",
       "  <thead>\n",
       "    <tr style=\"text-align: right;\">\n",
       "      <th></th>\n",
       "      <th>Source (A)</th>\n",
       "      <th>Source (B)</th>\n",
       "      <th>WC</th>\n",
       "      <th>WPS</th>\n",
       "      <th>Sixltr</th>\n",
       "      <th>Dic</th>\n",
       "      <th>Pronoun</th>\n",
       "      <th>I</th>\n",
       "      <th>We</th>\n",
       "      <th>Self</th>\n",
       "      <th>...</th>\n",
       "      <th>cooperation</th>\n",
       "      <th>modesty</th>\n",
       "      <th>sympathy</th>\n",
       "      <th>conscientiousness</th>\n",
       "      <th>self_efficacy</th>\n",
       "      <th>orderliness</th>\n",
       "      <th>dutifulness</th>\n",
       "      <th>achievement_striving</th>\n",
       "      <th>self_discipline</th>\n",
       "      <th>cautiousness</th>\n",
       "    </tr>\n",
       "  </thead>\n",
       "  <tbody>\n",
       "    <tr>\n",
       "      <th>51</th>\n",
       "      <td>Q934898</td>\n",
       "      <td>And I see my father. My father was just wipin...</td>\n",
       "      <td>969</td>\n",
       "      <td>17.3</td>\n",
       "      <td>10.42</td>\n",
       "      <td>85.86</td>\n",
       "      <td>15.58</td>\n",
       "      <td>4.02</td>\n",
       "      <td>3.82</td>\n",
       "      <td>7.84</td>\n",
       "      <td>...</td>\n",
       "      <td>1.246182</td>\n",
       "      <td>1.163683</td>\n",
       "      <td>1.270105</td>\n",
       "      <td>-1.796902</td>\n",
       "      <td>0.643346</td>\n",
       "      <td>0.97126</td>\n",
       "      <td>0.736629</td>\n",
       "      <td>-1.169705</td>\n",
       "      <td>-1.303115</td>\n",
       "      <td>-0.2487</td>\n",
       "    </tr>\n",
       "  </tbody>\n",
       "</table>\n",
       "<p>1 rows × 121 columns</p>\n",
       "</div>"
      ],
      "text/plain": [
       "   Source (A)                                         Source (B)   WC   WPS  \\\n",
       "51    Q934898   And I see my father. My father was just wipin...  969  17.3   \n",
       "\n",
       "    Sixltr    Dic  Pronoun     I    We  Self  ...  cooperation   modesty  \\\n",
       "51   10.42  85.86    15.58  4.02  3.82  7.84  ...     1.246182  1.163683   \n",
       "\n",
       "    sympathy  conscientiousness  self_efficacy  orderliness  dutifulness  \\\n",
       "51  1.270105          -1.796902       0.643346      0.97126     0.736629   \n",
       "\n",
       "    achievement_striving  self_discipline  cautiousness  \n",
       "51             -1.169705        -1.303115       -0.2487  \n",
       "\n",
       "[1 rows x 121 columns]"
      ]
     },
     "execution_count": 17,
     "metadata": {},
     "output_type": "execute_result"
    }
   ],
   "source": [
    "# concat the liwc output to the bigfive result\n",
    "df1 = pd.concat([liwc, bigfive], axis=1)\n",
    "df1.sample()"
   ]
  },
  {
   "cell_type": "code",
   "execution_count": 18,
   "id": "fc5d2315",
   "metadata": {},
   "outputs": [
    {
     "data": {
      "text/html": [
       "<div>\n",
       "<style scoped>\n",
       "    .dataframe tbody tr th:only-of-type {\n",
       "        vertical-align: middle;\n",
       "    }\n",
       "\n",
       "    .dataframe tbody tr th {\n",
       "        vertical-align: top;\n",
       "    }\n",
       "\n",
       "    .dataframe thead th {\n",
       "        text-align: right;\n",
       "    }\n",
       "</style>\n",
       "<table border=\"1\" class=\"dataframe\">\n",
       "  <thead>\n",
       "    <tr style=\"text-align: right;\">\n",
       "      <th></th>\n",
       "      <th>Source (A)</th>\n",
       "      <th>Source (B)</th>\n",
       "      <th>WC</th>\n",
       "      <th>WPS</th>\n",
       "      <th>Sixltr</th>\n",
       "      <th>Dic</th>\n",
       "      <th>Pronoun</th>\n",
       "      <th>I</th>\n",
       "      <th>We</th>\n",
       "      <th>Self</th>\n",
       "      <th>...</th>\n",
       "      <th>citizenshipLabel</th>\n",
       "      <th>languageLabel</th>\n",
       "      <th>religionLabel</th>\n",
       "      <th>ethnicLabel</th>\n",
       "      <th>degreeLabel</th>\n",
       "      <th>dateOfBirth</th>\n",
       "      <th>placeOfBirthLabel</th>\n",
       "      <th>memberOfParty</th>\n",
       "      <th>memberOfPartyLabel</th>\n",
       "      <th>party</th>\n",
       "    </tr>\n",
       "  </thead>\n",
       "  <tbody>\n",
       "    <tr>\n",
       "      <th>78</th>\n",
       "      <td>Q16215328</td>\n",
       "      <td>A lot of good takeaways from this weekend. A ...</td>\n",
       "      <td>873</td>\n",
       "      <td>19.84</td>\n",
       "      <td>20.73</td>\n",
       "      <td>70.9</td>\n",
       "      <td>7.22</td>\n",
       "      <td>0.34</td>\n",
       "      <td>2.63</td>\n",
       "      <td>2.98</td>\n",
       "      <td>...</td>\n",
       "      <td>United States of America</td>\n",
       "      <td>NaN</td>\n",
       "      <td>NaN</td>\n",
       "      <td>NaN</td>\n",
       "      <td>NaN</td>\n",
       "      <td>1975-01-01T00:00:00Z</td>\n",
       "      <td>NaN</td>\n",
       "      <td>http://www.wikidata.org/entity/Q29552</td>\n",
       "      <td>Democratic Party</td>\n",
       "      <td>dem</td>\n",
       "    </tr>\n",
       "  </tbody>\n",
       "</table>\n",
       "<p>1 rows × 134 columns</p>\n",
       "</div>"
      ],
      "text/plain": [
       "   Source (A)                                         Source (B)   WC    WPS  \\\n",
       "78  Q16215328   A lot of good takeaways from this weekend. A ...  873  19.84   \n",
       "\n",
       "    Sixltr   Dic  Pronoun     I    We  Self  ...          citizenshipLabel  \\\n",
       "78   20.73  70.9     7.22  0.34  2.63  2.98  ...  United States of America   \n",
       "\n",
       "    languageLabel  religionLabel  ethnicLabel  degreeLabel  \\\n",
       "78            NaN            NaN          NaN          NaN   \n",
       "\n",
       "             dateOfBirth  placeOfBirthLabel  \\\n",
       "78  1975-01-01T00:00:00Z                NaN   \n",
       "\n",
       "                            memberOfParty  memberOfPartyLabel  party  \n",
       "78  http://www.wikidata.org/entity/Q29552    Democratic Party    dem  \n",
       "\n",
       "[1 rows x 134 columns]"
      ]
     },
     "execution_count": 18,
     "metadata": {},
     "output_type": "execute_result"
    }
   ],
   "source": [
    "# load the top 100 politician data, queried from wikidata, concat with current dataset.\n",
    "with open('./data/top100_politicians_by_party.json', 'r') as f:\n",
    "    data_top100 = json.load(f)\n",
    "\n",
    "dem_df = pd.DataFrame(data_top100[\"dem\"])\n",
    "rep_df = pd.DataFrame(data_top100[\"rep\"])\n",
    "dem_df['party'] = \"dem\"\n",
    "rep_df['party'] = \"rep\"\n",
    "politician_wiki = pd.concat([dem_df, rep_df])\n",
    "df2 = df1.merge(politician_wiki, left_on='Source (A)', right_on='item', how = \"left\")\n",
    "df2.sample()"
   ]
  },
  {
   "cell_type": "markdown",
   "id": "b0fa4ee7",
   "metadata": {},
   "source": [
    "## Basic Analysis\n",
    "\n",
    "For this part, we use the programming language R to get better visualisation and embed the output in html by knitting the Rmarkdown document."
   ]
  },
  {
   "cell_type": "markdown",
   "id": "b2db5a5e",
   "metadata": {},
   "source": [
    "### Comparing the Personality of Politicians from Democratic and Republic Parties\n",
    "\n",
    "We compare each characteristic for democratic and republic politicians using Wilcoxon rank sum test, which tests whether top politicians from different parties have the equal medians for each attribute."
   ]
  },
  {
   "cell_type": "code",
   "execution_count": 20,
   "id": "27e2d066",
   "metadata": {
    "scrolled": true
   },
   "outputs": [
    {
     "data": {
      "text/html": [
       "\n",
       "        <iframe\n",
       "            width=\"700\"\n",
       "            height=\"600\"\n",
       "            src=\"./section-1.html\"\n",
       "            frameborder=\"0\"\n",
       "            allowfullscreen\n",
       "        ></iframe>\n",
       "        "
      ],
      "text/plain": [
       "<IPython.lib.display.IFrame at 0x7f80b2d786d0>"
      ]
     },
     "execution_count": 20,
     "metadata": {},
     "output_type": "execute_result"
    }
   ],
   "source": [
    "from IPython.display import IFrame\n",
    "IFrame(src='./section-1.html', width=700, height=600)"
   ]
  },
  {
   "cell_type": "markdown",
   "id": "7bfc4e0a",
   "metadata": {},
   "source": [
    "The current result shows that the only significant differences are artistic_interests and emotionality, where democratic politicians have higher average artistic_interests and emotionality compared to republic politicians."
   ]
  },
  {
   "cell_type": "markdown",
   "id": "367934de",
   "metadata": {},
   "source": [
    "### Comparing Main Politicians in US Based on Their Personality"
   ]
  },
  {
   "cell_type": "markdown",
   "id": "6b997534",
   "metadata": {},
   "source": [
    "We use interactive heatmap in r to produce the following map. By clicking on the specific cell, you can see the value of each attribute for the person and compare it to other politicians. When a cell is blue, it means a positive value with regards to that attribute. When it is red, it gives a negative value for the respective characteristic.\n",
    "\n",
    "Moreover, by selecting several cells, you are able to zoom in to see difference in details. To go back to the original view, please double click the plot."
   ]
  },
  {
   "cell_type": "code",
   "execution_count": 24,
   "id": "9a5a45ea",
   "metadata": {},
   "outputs": [
    {
     "data": {
      "text/html": [
       "\n",
       "        <iframe\n",
       "            width=\"700\"\n",
       "            height=\"600\"\n",
       "            src=\"./section-2.html\"\n",
       "            frameborder=\"0\"\n",
       "            allowfullscreen\n",
       "        ></iframe>\n",
       "        "
      ],
      "text/plain": [
       "<IPython.lib.display.IFrame at 0x7f80afbd3990>"
      ]
     },
     "execution_count": 24,
     "metadata": {},
     "output_type": "execute_result"
    }
   ],
   "source": [
    "IFrame(src='./section-2.html', width=700, height=600)"
   ]
  },
  {
   "cell_type": "markdown",
   "id": "b8022b36",
   "metadata": {},
   "source": [
    "On the plot above, similar people will be scattered together. For example,\n",
    "- Barack Obama and George W. Bush have similar personalities based on their quotations. \n",
    "- Donald Trump and Lindsey Graham are quite close on most scales of personality. \n",
    "- Obama and Trump seem to have opposite personality."
   ]
  },
  {
   "cell_type": "code",
   "execution_count": null,
   "id": "ba174c66",
   "metadata": {},
   "outputs": [],
   "source": []
  }
 ],
 "metadata": {
  "kernelspec": {
   "display_name": "Python 3",
   "language": "python",
   "name": "python3"
  },
  "language_info": {
   "codemirror_mode": {
    "name": "ipython",
    "version": 3
   },
   "file_extension": ".py",
   "mimetype": "text/x-python",
   "name": "python",
   "nbconvert_exporter": "python",
   "pygments_lexer": "ipython3",
   "version": "3.7.11"
  }
 },
 "nbformat": 4,
 "nbformat_minor": 5
}
