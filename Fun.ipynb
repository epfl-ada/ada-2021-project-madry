{
 "cells": [
  {
   "cell_type": "code",
   "execution_count": 2,
   "id": "51377eca-0e0c-4f0f-b958-171b9bdc3371",
   "metadata": {},
   "outputs": [
    {
     "name": "stdout",
     "output_type": "stream",
     "text": [
      "The autoreload extension is already loaded. To reload it, use:\n",
      "  %reload_ext autoreload\n"
     ]
    }
   ],
   "source": [
    "%load_ext autoreload\n",
    "%autoreload 2\n",
    "\n",
    "import bz2\n",
    "import json\n",
    "import re\n",
    "import random\n",
    "import sys\n",
    "import os\n",
    "import bz2\n",
    "import time\n",
    "import pandas as pd\n",
    "import numpy as np\n",
    "from functools import partial\n",
    "import seaborn as sns\n",
    "from helpers import *\n",
    "\n",
    "import bz2\n",
    "import json\n",
    "import csv\n",
    "\n",
    "import seaborn as sns\n",
    "from helpers import PERSONALITY_ATTRS\n",
    "from PIL import Image\n",
    "import matplotlib.pyplot as plt\n",
    "from matplotlib.backends.backend_pdf import PdfPages\n",
    "plt.style.use('ggplot')\n",
    "\n",
    "from ipywidgets import widgets, interactive\n",
    "from io import StringIO\n",
    "import math\n",
    "import plotly.express as px\n",
    "\n",
    "from sklearn.cluster import DBSCAN\n",
    "from sklearn.manifold import TSNE"
   ]
  },
  {
   "cell_type": "code",
   "execution_count": 3,
   "id": "ee810c92-776a-4052-a9c2-85e807466260",
   "metadata": {},
   "outputs": [],
   "source": [
    "liwc_df = pd.read_csv('data/top_1000_output_1.csv')"
   ]
  },
  {
   "cell_type": "code",
   "execution_count": 4,
   "id": "f826c03a-02f5-4129-87e0-fdcf61323a03",
   "metadata": {},
   "outputs": [
    {
     "data": {
      "text/html": [
       "<div>\n",
       "<style scoped>\n",
       "    .dataframe tbody tr th:only-of-type {\n",
       "        vertical-align: middle;\n",
       "    }\n",
       "\n",
       "    .dataframe tbody tr th {\n",
       "        vertical-align: top;\n",
       "    }\n",
       "\n",
       "    .dataframe thead th {\n",
       "        text-align: right;\n",
       "    }\n",
       "</style>\n",
       "<table border=\"1\" class=\"dataframe\">\n",
       "  <thead>\n",
       "    <tr style=\"text-align: right;\">\n",
       "      <th></th>\n",
       "      <th>Source (A)</th>\n",
       "      <th>Source (B)</th>\n",
       "      <th>WC</th>\n",
       "      <th>WPS</th>\n",
       "      <th>Sixltr</th>\n",
       "      <th>Dic</th>\n",
       "      <th>Pronoun</th>\n",
       "      <th>I</th>\n",
       "      <th>We</th>\n",
       "      <th>Self</th>\n",
       "      <th>...</th>\n",
       "      <th>Comma</th>\n",
       "      <th>Colon</th>\n",
       "      <th>SemiC</th>\n",
       "      <th>QMark</th>\n",
       "      <th>Exclam</th>\n",
       "      <th>Dash</th>\n",
       "      <th>Quote</th>\n",
       "      <th>Apostro</th>\n",
       "      <th>Parenth</th>\n",
       "      <th>OtherP</th>\n",
       "    </tr>\n",
       "  </thead>\n",
       "  <tbody>\n",
       "    <tr>\n",
       "      <th>690</th>\n",
       "      <td>Q6789172</td>\n",
       "      <td>Originally, my love besides football was plan...</td>\n",
       "      <td>897</td>\n",
       "      <td>23.61</td>\n",
       "      <td>17.95</td>\n",
       "      <td>69.23</td>\n",
       "      <td>10.48</td>\n",
       "      <td>4.35</td>\n",
       "      <td>0.89</td>\n",
       "      <td>5.24</td>\n",
       "      <td>...</td>\n",
       "      <td>10.48</td>\n",
       "      <td>0.0</td>\n",
       "      <td>0.67</td>\n",
       "      <td>0.0</td>\n",
       "      <td>0.0</td>\n",
       "      <td>1.11</td>\n",
       "      <td>0.0</td>\n",
       "      <td>2.68</td>\n",
       "      <td>0.89</td>\n",
       "      <td>0.67</td>\n",
       "    </tr>\n",
       "  </tbody>\n",
       "</table>\n",
       "<p>1 rows × 86 columns</p>\n",
       "</div>"
      ],
      "text/plain": [
       "    Source (A)                                         Source (B)   WC    WPS  \\\n",
       "690   Q6789172   Originally, my love besides football was plan...  897  23.61   \n",
       "\n",
       "     Sixltr    Dic  Pronoun     I    We  Self  ...  Comma  Colon  SemiC  \\\n",
       "690   17.95  69.23    10.48  4.35  0.89  5.24  ...  10.48    0.0   0.67   \n",
       "\n",
       "     QMark  Exclam  Dash  Quote  Apostro  Parenth  OtherP  \n",
       "690    0.0     0.0  1.11    0.0     2.68     0.89    0.67  \n",
       "\n",
       "[1 rows x 86 columns]"
      ]
     },
     "execution_count": 4,
     "metadata": {},
     "output_type": "execute_result"
    }
   ],
   "source": [
    "liwc_df.sample()"
   ]
  },
  {
   "cell_type": "code",
   "execution_count": 5,
   "id": "a0bf1133-1540-440a-8505-44a10e1b6fdc",
   "metadata": {},
   "outputs": [],
   "source": [
    "personality_df = predict_personality(liwc_df)"
   ]
  },
  {
   "cell_type": "code",
   "execution_count": 6,
   "id": "a72dfda8-51c5-496f-9230-f3df1bbc92e1",
   "metadata": {},
   "outputs": [],
   "source": [
    "with open('data/local_only/top-1000-wikidata-occupation-merged_1639495842765.json', 'r', encoding='utf-8') as f:\n",
    "    wikidata_json = json.load(f)"
   ]
  },
  {
   "cell_type": "code",
   "execution_count": 7,
   "id": "bb37ccce-f313-406a-8d30-01619f64278b",
   "metadata": {},
   "outputs": [
    {
     "data": {
      "text/plain": [
       "{'item': 'Q357994',\n",
       " 'itemLabel': 'Roberto Martínez',\n",
       " 'genderLabel': 'male',\n",
       " 'citizenshipLabel': 'Spain',\n",
       " 'dateOfBirth': '1973-07-13T00:00:00Z',\n",
       " 'occupationLabel': 'association football player'}"
      ]
     },
     "execution_count": 7,
     "metadata": {},
     "output_type": "execute_result"
    }
   ],
   "source": [
    "wikidata_json['Q357994']"
   ]
  },
  {
   "cell_type": "code",
   "execution_count": 8,
   "id": "2dba3c0c-9c03-48c0-aed4-85d4d5874a29",
   "metadata": {},
   "outputs": [
    {
     "data": {
      "text/html": [
       "<div>\n",
       "<style scoped>\n",
       "    .dataframe tbody tr th:only-of-type {\n",
       "        vertical-align: middle;\n",
       "    }\n",
       "\n",
       "    .dataframe tbody tr th {\n",
       "        vertical-align: top;\n",
       "    }\n",
       "\n",
       "    .dataframe thead th {\n",
       "        text-align: right;\n",
       "    }\n",
       "</style>\n",
       "<table border=\"1\" class=\"dataframe\">\n",
       "  <thead>\n",
       "    <tr style=\"text-align: right;\">\n",
       "      <th></th>\n",
       "      <th>Source (A)</th>\n",
       "      <th>Source (B)</th>\n",
       "      <th>WC</th>\n",
       "      <th>WPS</th>\n",
       "      <th>Sixltr</th>\n",
       "      <th>Dic</th>\n",
       "      <th>Pronoun</th>\n",
       "      <th>I</th>\n",
       "      <th>We</th>\n",
       "      <th>Self</th>\n",
       "      <th>...</th>\n",
       "      <th>item</th>\n",
       "      <th>itemLabel</th>\n",
       "      <th>genderLabel</th>\n",
       "      <th>citizenshipLabel</th>\n",
       "      <th>languageLabel</th>\n",
       "      <th>religionLabel</th>\n",
       "      <th>ethnicLabel</th>\n",
       "      <th>dateOfBirth</th>\n",
       "      <th>occupationLabel</th>\n",
       "      <th>degreeLabel</th>\n",
       "    </tr>\n",
       "  </thead>\n",
       "  <tbody>\n",
       "    <tr>\n",
       "      <th>732</th>\n",
       "      <td>Q6220673</td>\n",
       "      <td>This journey's a research journey just to mee...</td>\n",
       "      <td>810</td>\n",
       "      <td>27.93</td>\n",
       "      <td>30.0</td>\n",
       "      <td>61.85</td>\n",
       "      <td>5.8</td>\n",
       "      <td>0.37</td>\n",
       "      <td>2.59</td>\n",
       "      <td>2.96</td>\n",
       "      <td>...</td>\n",
       "      <td>Q6220673</td>\n",
       "      <td>John Barilaro</td>\n",
       "      <td>male</td>\n",
       "      <td>Australia</td>\n",
       "      <td>NaN</td>\n",
       "      <td>NaN</td>\n",
       "      <td>NaN</td>\n",
       "      <td>1971-11-14T00:00:00Z</td>\n",
       "      <td>politician</td>\n",
       "      <td>NaN</td>\n",
       "    </tr>\n",
       "  </tbody>\n",
       "</table>\n",
       "<p>1 rows × 131 columns</p>\n",
       "</div>"
      ],
      "text/plain": [
       "    Source (A)                                         Source (B)   WC    WPS  \\\n",
       "732   Q6220673   This journey's a research journey just to mee...  810  27.93   \n",
       "\n",
       "     Sixltr    Dic  Pronoun     I    We  Self  ...      item      itemLabel  \\\n",
       "732    30.0  61.85      5.8  0.37  2.59  2.96  ...  Q6220673  John Barilaro   \n",
       "\n",
       "     genderLabel  citizenshipLabel  languageLabel  religionLabel  ethnicLabel  \\\n",
       "732         male         Australia            NaN            NaN          NaN   \n",
       "\n",
       "              dateOfBirth  occupationLabel  degreeLabel  \n",
       "732  1971-11-14T00:00:00Z       politician          NaN  \n",
       "\n",
       "[1 rows x 131 columns]"
      ]
     },
     "execution_count": 8,
     "metadata": {},
     "output_type": "execute_result"
    }
   ],
   "source": [
    "df1 = pd.concat([liwc_df, personality_df], axis=1)\n",
    "wikidata_df = pd.DataFrame(wikidata_json.values())\n",
    "\n",
    "premain_df = df1.merge(wikidata_df, left_on='Source (A)', right_on='item', how='left')\n",
    "premain_df.sample()"
   ]
  },
  {
   "cell_type": "code",
   "execution_count": 9,
   "id": "7df7be9e-a53c-4282-b0fc-3721d36996af",
   "metadata": {},
   "outputs": [],
   "source": [
    "def de_list(series, columns):\n",
    "    for col in columns:\n",
    "        while isinstance(series[col], list):\n",
    "            series[col] = series[col][0]\n",
    "    return series"
   ]
  },
  {
   "cell_type": "code",
   "execution_count": 10,
   "id": "b046c3fa-0840-4997-b57f-640feb0e851d",
   "metadata": {},
   "outputs": [],
   "source": [
    "DEFAULT_VALUE = 'no value'\n",
    "\n",
    "def remove_nan(series, columns):\n",
    "    for col in columns:\n",
    "        if ((isinstance(series[col], int) or isinstance(series[col], float)) and math.isnan(series[col])):\n",
    "            series[col] = DEFAULT_VALUE\n",
    "    return series"
   ]
  },
  {
   "cell_type": "code",
   "execution_count": 11,
   "id": "d7feeb8f-60d6-4cba-a7f8-cba08e29b5fa",
   "metadata": {},
   "outputs": [],
   "source": [
    "premain_df = premain_df.apply(de_list, columns=premain_df.columns, axis=1)\n",
    "premain_df = premain_df.apply(remove_nan, columns=premain_df.columns, axis=1)"
   ]
  },
  {
   "cell_type": "markdown",
   "id": "5cedf4d4-070f-4e97-acd8-6667e6291850",
   "metadata": {},
   "source": [
    "## Clustering based on personality attributes"
   ]
  },
  {
   "cell_type": "code",
   "execution_count": 12,
   "id": "79a119b6-7568-4545-bf16-a0219f6a0f2f",
   "metadata": {},
   "outputs": [],
   "source": [
    "COLUMNS_OF_INTEREST = ['item', 'itemLabel', 'genderLabel', 'citizenshipLabel', 'religionLabel', 'religionLabel', 'dateOfBirth', 'occupationLabel', 'degreeLabel'] + PERSONALITY_ATTRS"
   ]
  },
  {
   "cell_type": "code",
   "execution_count": 13,
   "id": "fa683b5a-2d86-4d75-b5f5-d28fc2693def",
   "metadata": {},
   "outputs": [
    {
     "data": {
      "text/html": [
       "<div>\n",
       "<style scoped>\n",
       "    .dataframe tbody tr th:only-of-type {\n",
       "        vertical-align: middle;\n",
       "    }\n",
       "\n",
       "    .dataframe tbody tr th {\n",
       "        vertical-align: top;\n",
       "    }\n",
       "\n",
       "    .dataframe thead th {\n",
       "        text-align: right;\n",
       "    }\n",
       "</style>\n",
       "<table border=\"1\" class=\"dataframe\">\n",
       "  <thead>\n",
       "    <tr style=\"text-align: right;\">\n",
       "      <th></th>\n",
       "      <th>item</th>\n",
       "      <th>itemLabel</th>\n",
       "      <th>genderLabel</th>\n",
       "      <th>citizenshipLabel</th>\n",
       "      <th>religionLabel</th>\n",
       "      <th>religionLabel</th>\n",
       "      <th>dateOfBirth</th>\n",
       "      <th>occupationLabel</th>\n",
       "      <th>degreeLabel</th>\n",
       "      <th>neuroticism</th>\n",
       "      <th>...</th>\n",
       "      <th>cooperation</th>\n",
       "      <th>modesty</th>\n",
       "      <th>sympathy</th>\n",
       "      <th>conscientiousness</th>\n",
       "      <th>self_efficacy</th>\n",
       "      <th>orderliness</th>\n",
       "      <th>dutifulness</th>\n",
       "      <th>achievement_striving</th>\n",
       "      <th>self_discipline</th>\n",
       "      <th>cautiousness</th>\n",
       "    </tr>\n",
       "  </thead>\n",
       "  <tbody>\n",
       "    <tr>\n",
       "      <th>163</th>\n",
       "      <td>Q971308</td>\n",
       "      <td>Patrick Joseph Toomey</td>\n",
       "      <td>male</td>\n",
       "      <td>United States of America</td>\n",
       "      <td>Catholic Church</td>\n",
       "      <td>Catholic Church</td>\n",
       "      <td>1961-11-17T00:00:00Z</td>\n",
       "      <td>foreign currency trader</td>\n",
       "      <td>no value</td>\n",
       "      <td>0.35948</td>\n",
       "      <td>...</td>\n",
       "      <td>3.839828</td>\n",
       "      <td>0.96584</td>\n",
       "      <td>1.967021</td>\n",
       "      <td>-0.433873</td>\n",
       "      <td>2.394652</td>\n",
       "      <td>0.683367</td>\n",
       "      <td>1.742156</td>\n",
       "      <td>0.251518</td>\n",
       "      <td>-0.854504</td>\n",
       "      <td>0.949899</td>\n",
       "    </tr>\n",
       "  </tbody>\n",
       "</table>\n",
       "<p>1 rows × 44 columns</p>\n",
       "</div>"
      ],
      "text/plain": [
       "        item              itemLabel genderLabel          citizenshipLabel  \\\n",
       "163  Q971308  Patrick Joseph Toomey        male  United States of America   \n",
       "\n",
       "       religionLabel    religionLabel           dateOfBirth  \\\n",
       "163  Catholic Church  Catholic Church  1961-11-17T00:00:00Z   \n",
       "\n",
       "             occupationLabel degreeLabel  neuroticism  ...  cooperation  \\\n",
       "163  foreign currency trader    no value      0.35948  ...     3.839828   \n",
       "\n",
       "     modesty  sympathy  conscientiousness  self_efficacy  orderliness  \\\n",
       "163  0.96584  1.967021          -0.433873       2.394652     0.683367   \n",
       "\n",
       "     dutifulness  achievement_striving  self_discipline  cautiousness  \n",
       "163     1.742156              0.251518        -0.854504      0.949899  \n",
       "\n",
       "[1 rows x 44 columns]"
      ]
     },
     "execution_count": 13,
     "metadata": {},
     "output_type": "execute_result"
    }
   ],
   "source": [
    "main_df = premain_df[COLUMNS_OF_INTEREST].copy()\n",
    "main_df.sample()"
   ]
  },
  {
   "cell_type": "code",
   "execution_count": 20,
   "id": "d8a97127-f293-44f9-a34c-2b0dadce4bc6",
   "metadata": {},
   "outputs": [
    {
     "ename": "SyntaxError",
     "evalue": "invalid syntax (<ipython-input-20-84b4ff6aca5a>, line 17)",
     "output_type": "error",
     "traceback": [
      "\u001b[1;36m  File \u001b[1;32m\"<ipython-input-20-84b4ff6aca5a>\"\u001b[1;36m, line \u001b[1;32m17\u001b[0m\n\u001b[1;33m    def dkinda_binary_search_for_epsilon(\u001b[0m\n\u001b[1;37m    ^\u001b[0m\n\u001b[1;31mSyntaxError\u001b[0m\u001b[1;31m:\u001b[0m invalid syntax\n"
     ]
    }
   ],
   "source": [
    "def dget_country_info(qid):\n",
    "    entity = get_wiki_entity(qid)\n",
    "    iso = get_iso_code(qid)\n",
    "    return {'name': str(entity.label), 'iso': str(iso)}\n",
    "\n",
    "def dnumber_of_clusters(labels):\n",
    "    return len(np.unique(labels))\n",
    "\n",
    "def dclustering_percentage_score(labels):\n",
    "    score = 0\n",
    "    for val in np.unique(labels):\n",
    "        number_of_vals = len(labels[labels == val])\n",
    "        if number_of_vals > score:\n",
    "            score = number_of_vals\n",
    "    return (len(labels) - score\n",
    "\n",
    "def dkinda_binary_search_for_epsilon(\n",
    "    df, \n",
    "    cluster_columns, \n",
    "    iterations=20,\n",
    "    clustering_score_function=number_of_clusters\n",
    "):\n",
    "    print('Searching for best EPSILON for DBSCAN!')\n",
    "    lower_eps = 1\n",
    "    lower_score = clustering_score_function(lower_eps)\n",
    "            \n",
    "    upper_eps = 20\n",
    "    upper_score = clustering_score_function(upper_eps)\n",
    "\n",
    "    best_eps = lower_eps\n",
    "    best_score = lower_score\n",
    "\n",
    "    for i in range(iterations):\n",
    "        mid_eps = (lower_eps + upper_eps) / 2.0\n",
    "        mid_clusters = DBSCAN(eps=mid_eps).fit(df[PERSONALITY_ATTRS])\n",
    "        mid_score = clustering_score_function(mid_clusters.labels_)\n",
    "        print(f'{\"eps:\":5}{mid_eps:5}\\t score: {mid_score}')\n",
    "\n",
    "        if mid_score > best_score:\n",
    "            best_eps = mid_eps\n",
    "            best_score = mid_score\n",
    "            \n",
    "        mid_plus = mid_eps + (upper_eps - mid_eps) * 0.1\n",
    "        mid_minus = mid_eps - (mid_eps - lower_eps) * 0.1\n",
    "\n",
    "        mid_plus_test = DBSCAN(eps=mid_plus).fit(df[PERSONALITY_ATTRS])\n",
    "        mid_minus_test = DBSCAN(eps=mid_minus).fit(df[PERSONALITY_ATTRS])\n",
    "        \n",
    "        mid_plus_score = clustering_score_function(mid_plus_test)\n",
    "        mid_minus_score = clustering_score_function(mid_minus_test)\n",
    "\n",
    "        if mid_plus_score > mid_minus_score:\n",
    "            lower_eps = mid_eps\n",
    "            lower_score = mid_score\n",
    "        else:\n",
    "            upper_eps = mid_eps\n",
    "            upper_score = mid_score\n",
    "    return best_eps"
   ]
  },
  {
   "cell_type": "code",
   "execution_count": 36,
   "id": "a9954db5-86b6-4e04-962e-50b36bcbf111",
   "metadata": {},
   "outputs": [
    {
     "name": "stdout",
     "output_type": "stream",
     "text": [
      "Searching for best EPSILON for DBSCAN!\n",
      "eps:  10.5\t score: 1\n",
      "eps:  5.75\t score: 2\n",
      "eps: 3.375\t score: 2\n",
      "eps: 2.1875\t score: 3\n",
      "eps: 2.78125\t score: 2\n",
      "eps: 2.484375\t score: 2\n",
      "eps: 2.3359375\t score: 3\n",
      "eps: 2.26171875\t score: 3\n",
      "eps: 2.224609375\t score: 3\n",
      "eps: 2.2060546875\t score: 3\n",
      "eps: 2.19677734375\t score: 3\n",
      "eps: 2.192138671875\t score: 3\n",
      "eps: 2.1898193359375\t score: 3\n",
      "eps: 2.18865966796875\t score: 3\n",
      "eps: 2.188079833984375\t score: 3\n",
      "eps: 2.1877899169921875\t score: 3\n",
      "eps: 2.1876449584960938\t score: 3\n",
      "eps: 2.187572479248047\t score: 3\n",
      "eps: 2.1875362396240234\t score: 3\n",
      "eps: 2.1875181198120117\t score: 3\n",
      "Best EPSILON:\t2.1875\n"
     ]
    },
    {
     "data": {
      "application/vnd.plotly.v1+json": {
       "config": {
        "plotlyServerURL": "https://plot.ly"
       },
       "data": [
        {
         "customdata": [
          [
           "male",
           "India",
           "film director",
           "no value",
           "1965-03-14T00:00:00Z"
          ],
          [
           "male",
           "United States of America",
           "aircraft pilot",
           "no value",
           "1942-02-14T00:00:00Z"
          ],
          [
           "male",
           "United States of America",
           "statesperson",
           "no value",
           "1936-08-29T00:00:00Z"
          ],
          [
           "female",
           "United States of America",
           "singer",
           "no value",
           "1992-11-23T00:00:00Z"
          ],
          [
           "female",
           "United States of America",
           "actor",
           "no value",
           "1975-06-04T00:00:00Z"
          ],
          [
           "male",
           "United States of America",
           "lawyer",
           "Juris Doctor",
           "1957-12-06T00:00:00Z"
          ],
          [
           "male",
           "India",
           "politician",
           "no value",
           "1950-09-17T00:00:00Z"
          ],
          [
           "male",
           "South Korea",
           "politician",
           "no value",
           "1944-06-13T00:00:00Z"
          ],
          [
           "male",
           "United States of America",
           "community organizer",
           "Juris Doctor",
           "1961-08-04T00:00:00Z"
          ],
          [
           "male",
           "United States of America",
           "politician",
           "Master of Business Administration",
           "1947-03-12T00:00:00Z"
          ],
          [
           "male",
           "United States of America",
           "rugby union player",
           "no value",
           "1946-07-06T00:00:00Z"
          ],
          [
           "female",
           "British Hong Kong",
           "politician",
           "no value",
           "1957-05-13T00:00:00Z"
          ],
          [
           "female",
           "United States of America",
           "songwriter",
           "no value",
           "1986-03-28T00:00:00Z"
          ],
          [
           "male",
           "United States of America",
           "actor",
           "no value",
           "1972-05-02T00:00:00Z"
          ],
          [
           "male",
           "Serbia",
           "tennis player",
           "no value",
           "1987-05-22T00:00:00Z"
          ],
          [
           "male",
           "United States of America",
           "entrepreneur",
           "no value",
           "1955-10-28T00:00:00Z"
          ],
          [
           "male",
           "Spain",
           "association football player",
           "no value",
           "1987-06-24T00:00:00Z"
          ],
          [
           "male",
           "United States of America",
           "autobiographer",
           "no value",
           "1946-08-19T00:00:00Z"
          ],
          [
           "male",
           "United Kingdom",
           "association football player",
           "no value",
           "1971-06-28T00:00:00Z"
          ],
          [
           "male",
           "South Korea",
           "lawyer",
           "no value",
           "1953-01-24T00:00:00Z"
          ],
          [
           "male",
           "Algeria",
           "association football player",
           "no value",
           "1972-06-23T00:00:00Z"
          ],
          [
           "female",
           "United States of America",
           "autobiographer",
           "no value",
           "1981-09-26T00:00:00Z"
          ],
          [
           "female",
           "United States of America",
           "autobiographer",
           "bachelor's degree",
           "1947-10-26T00:00:00Z"
          ],
          [
           "female",
           "United States of America",
           "lawyer",
           "no value",
           "1933-03-15T00:00:00Z"
          ],
          [
           "male",
           "France",
           "statesperson",
           "no value",
           "1954-08-12T00:00:00Z"
          ],
          [
           "male",
           "United States of America",
           "writer",
           "no value",
           "1975-12-30T00:00:00Z"
          ],
          [
           "male",
           "United States of America",
           "singer",
           "honorary degree",
           "1977-06-08T00:00:00Z"
          ],
          [
           "male",
           "United States of America",
           "lawyer",
           "Juris Doctor",
           "1942-11-20T00:00:00Z"
          ],
          [
           "male",
           "United States of America",
           "lawyer",
           "Bachelor of Arts",
           "1955-07-09T00:00:00Z"
          ],
          [
           "male",
           "United States of America",
           "lawyer",
           "no value",
           "1955-01-27T00:00:00Z"
          ],
          [
           "female",
           "Germany",
           "politician",
           "Doctor rerum naturalium",
           "1954-07-17T00:00:00Z"
          ],
          [
           "male",
           "People's Republic of China",
           "politician",
           "Doctor of Economics",
           "1955-07-01T00:00:00Z"
          ],
          [
           "male",
           "Spain",
           "Formula One driver",
           "no value",
           "1981-07-29T00:00:00Z"
          ],
          [
           "male",
           "United States of America",
           "comedian",
           "no value",
           "1973-12-28T00:00:00Z"
          ],
          [
           "male",
           "People's Republic of China",
           "lawyer",
           "Doctor of Juridical Science",
           "1953-06-15T00:00:00Z"
          ],
          [
           "male",
           "Switzerland",
           "tennis player",
           "no value",
           "1981-08-08T00:00:00Z"
          ],
          [
           "male",
           "Russia",
           "sambo fighter",
           "Candidate of Economic Sciences",
           "1952-10-07T00:00:00Z"
          ],
          [
           "female",
           "United States of America",
           "lawyer",
           "no value",
           "1964-01-17T00:00:00Z"
          ],
          [
           "male",
           "Portugal",
           "association football player",
           "no value",
           "1985-02-05T00:00:00Z"
          ],
          [
           "male",
           "Canada",
           "politician",
           "no value",
           "1959-04-30T00:00:00Z"
          ],
          [
           "male",
           "United States of America",
           "politician",
           "no value",
           "1949-11-17T00:00:00Z"
          ],
          [
           "male",
           "Jamaica",
           "association football player",
           "no value",
           "1986-08-21T00:00:00Z"
          ],
          [
           "male",
           "United Kingdom",
           "tennis player",
           "no value",
           "1987-05-15T00:00:00Z"
          ],
          [
           "male",
           "Poland",
           "politician",
           "no value",
           "1957-04-22T00:00:00Z"
          ],
          [
           "male",
           "United Kingdom",
           "association football player",
           "no value",
           "1973-11-29T00:00:00Z"
          ],
          [
           "male",
           "United Kingdom",
           "singer",
           "no value",
           "1942-06-18T00:00:00Z"
          ],
          [
           "female",
           "United States of America",
           "politician",
           "no value",
           "1972-01-20T00:00:00Z"
          ],
          [
           "male",
           "United Kingdom",
           "lawyer",
           "no value",
           "1953-05-06T00:00:00Z"
          ],
          [
           "male",
           "Spain",
           "tennis player",
           "no value",
           "1986-06-03T00:00:00Z"
          ],
          [
           "male",
           "United Kingdom",
           "chef",
           "no value",
           "1966-11-08T00:00:00Z"
          ],
          [
           "male",
           "India",
           "politician",
           "no value",
           "1970-06-19T00:00:00Z"
          ],
          [
           "male",
           "India",
           "politician",
           "no value",
           "1973-04-24T00:00:00Z"
          ],
          [
           "male",
           "United States of America",
           "actor",
           "no value",
           "1966-06-27T00:00:00Z"
          ],
          [
           "female",
           "Italy",
           "politician",
           "no value",
           "1946-12-09T00:00:00Z"
          ],
          [
           "male",
           "India",
           "politician",
           "no value",
           "1951-03-01T00:00:00Z"
          ],
          [
           "male",
           "Malaysia",
           "politician",
           "doctorate",
           "1925-07-10T00:00:00Z"
          ],
          [
           "male",
           "Soviet Union",
           "politician",
           "no value",
           "1950-03-21T00:00:00Z"
          ],
          [
           "male",
           "France",
           "association football player",
           "no value",
           "1961-09-02T00:00:00Z"
          ],
          [
           "male",
           "United States of America",
           "politician",
           "no value",
           "1952-05-13T00:00:00Z"
          ],
          [
           "female",
           "United States of America",
           "singer",
           "no value",
           "1990-08-15T00:00:00Z"
          ],
          [
           "male",
           "United States of America",
           "blogger",
           "no value",
           "1938-04-07T00:00:00Z"
          ],
          [
           "male",
           "United States of America",
           "volleyball player",
           "no value",
           "1982-03-08T00:00:00Z"
          ],
          [
           "male",
           "United Kingdom",
           "actor",
           "no value",
           "1959-10-07T00:00:00Z"
          ],
          [
           "male",
           "Finland",
           "Formula One driver",
           "no value",
           "1985-06-27T00:00:00Z"
          ],
          [
           "male",
           "United Kingdom",
           "association football player",
           "no value",
           "1947-08-09T00:00:00Z"
          ],
          [
           "male",
           "United States of America",
           "writer",
           "Doctor of Philosophy",
           "1953-02-28T00:00:00Z"
          ],
          [
           "male",
           "United States of America",
           "lawyer",
           "Juris Doctor",
           "1962-09-06T00:00:00Z"
          ],
          [
           "male",
           "United States of America",
           "state's attorney",
           "no value",
           "1940-03-31T00:00:00Z"
          ],
          [
           "male",
           "Finland",
           "racing automobile driver",
           "no value",
           "1989-08-28T00:00:00Z"
          ],
          [
           "male",
           "Switzerland",
           "sports official",
           "no value",
           "1970-03-23T00:00:00Z"
          ],
          [
           "male",
           "Pakistan",
           "Prime Minister of Pakistan",
           "no value",
           "1949-12-25T00:00:00Z"
          ],
          [
           "male",
           "Australia",
           "cricketer",
           "no value",
           "1970-11-21T00:00:00Z"
          ],
          [
           "female",
           "United States of America",
           "singer",
           "no value",
           "1980-07-18T00:00:00Z"
          ],
          [
           "male",
           "United States of America",
           "professor",
           "no value",
           "1949-04-28T00:00:00Z"
          ],
          [
           "male",
           "United States of America",
           "singer",
           "no value",
           "1976-06-18T00:00:00Z"
          ],
          [
           "male",
           "Portugal",
           "association football player",
           "no value",
           "1963-01-26T00:00:00Z"
          ],
          [
           "male",
           "Kenya",
           "politician",
           "no value",
           "1966-12-21T00:00:00Z"
          ],
          [
           "female",
           "United States of America",
           "singer",
           "no value",
           "1992-07-22T00:00:00Z"
          ],
          [
           "male",
           "Pakistan",
           "politician",
           "no value",
           "1952-11-25T00:00:00Z"
          ],
          [
           "male",
           "United States of America",
           "NASCAR team owner",
           "no value",
           "1985-05-02T00:00:00Z"
          ],
          [
           "male",
           "United Kingdom",
           "businessperson",
           "no value",
           "1950-07-18T00:00:00Z"
          ],
          [
           "male",
           "India",
           "politician",
           "no value",
           "1956-03-09T00:00:00Z"
          ],
          [
           "male",
           "United Kingdom",
           "polo player",
           "no value",
           "1984-09-15T00:00:00Z"
          ],
          [
           "female",
           "Germany",
           "politician",
           "public health professional degree",
           "1958-10-08T00:00:00Z"
          ],
          [
           "male",
           "United Kingdom",
           "politician",
           "Bachelor of Arts",
           "1964-06-19T00:00:00Z"
          ],
          [
           "female",
           "India",
           "actor",
           "no value",
           "1986-01-05T00:00:00Z"
          ],
          [
           "female",
           "United States of America",
           "actor",
           "no value",
           "1993-06-26T00:00:00Z"
          ],
          [
           "male",
           "Spain",
           "association football player",
           "no value",
           "1971-01-18T00:00:00Z"
          ],
          [
           "male",
           "Germany",
           "politician",
           "no value",
           "1966-09-19T00:00:00Z"
          ],
          [
           "male",
           "United States of America",
           "wrestling coach",
           "no value",
           "1964-02-17T00:00:00Z"
          ],
          [
           "male",
           "Kingdom of the Netherlands",
           "association football player",
           "no value",
           "1963-03-21T00:00:00Z"
          ],
          [
           "male",
           "Italy",
           "association football player",
           "no value",
           "1959-06-10T00:00:00Z"
          ],
          [
           "male",
           "Japan",
           "politician",
           "no value",
           "1954-09-21T00:00:00Z"
          ],
          [
           "male",
           "United States of America",
           "actor",
           "no value",
           "1976-10-23T00:00:00Z"
          ],
          [
           "female",
           "Trinidad and Tobago",
           "singer",
           "no value",
           "1982-12-08T00:00:00Z"
          ],
          [
           "female",
           "United States of America",
           "singer",
           "no value",
           "1980-10-21T00:00:00Z"
          ],
          [
           "male",
           "United States of America",
           "politician",
           "no value",
           "1943-06-17T00:00:00Z"
          ],
          [
           "male",
           "United States of America",
           "politician",
           "bachelor's degree",
           "1955-08-24T00:00:00Z"
          ],
          [
           "male",
           "Ireland",
           "politician",
           "Doctor of Philosophy",
           "1965-03-16T00:00:00Z"
          ],
          [
           "male",
           "United States of America",
           "lawyer",
           "no value",
           "1938-09-01T00:00:00Z"
          ],
          [
           "male",
           "Kingdom of the Netherlands",
           "association football player",
           "no value",
           "1951-08-08T00:00:00Z"
          ],
          [
           "male",
           "United Kingdom",
           "association football player",
           "no value",
           "1951-10-23T00:00:00Z"
          ],
          [
           "male",
           "Israel",
           "politician",
           "no value",
           "1958-07-05T00:00:00Z"
          ],
          [
           "male",
           "United Kingdom",
           "psychologist",
           "no value",
           "1942-04-06T00:00:00Z"
          ],
          [
           "male",
           "South Africa",
           "association football player",
           "no value",
           "1964-07-26T00:00:00Z"
          ],
          [
           "male",
           "United States of America",
           "lawyer",
           "no value",
           "1960-12-14T00:00:00Z"
          ],
          [
           "male",
           "Germany",
           "association football player",
           "no value",
           "1955-09-25T00:00:00Z"
          ],
          [
           "male",
           "Germany",
           "association football player",
           "no value",
           "1967-06-16T00:00:00Z"
          ],
          [
           "male",
           "Australia",
           "linguist",
           "no value",
           "1946-07-08T00:00:00Z"
          ],
          [
           "male",
           "India",
           "bureaucrat",
           "no value",
           "1968-08-16T00:00:00Z"
          ],
          [
           "male",
           "United Kingdom",
           "racing driver",
           "no value",
           "1973-11-16T00:00:00Z"
          ],
          [
           "male",
           "Kenya",
           "politician",
           "no value",
           "1961-10-26T00:00:00Z"
          ],
          [
           "male",
           "Spain",
           "association football player",
           "no value",
           "1960-04-16T00:00:00Z"
          ],
          [
           "male",
           "Germany",
           "fencer",
           "doctor of both laws",
           "1953-12-29T00:00:00Z"
          ],
          [
           "female",
           "United States of America",
           "politician",
           "no value",
           "1940-03-26T00:00:00Z"
          ],
          [
           "male",
           "Germany",
           "politician",
           "no value",
           "1959-09-12T00:00:00Z"
          ],
          [
           "male",
           "Australia",
           "racing automobile driver",
           "no value",
           "1989-07-01T00:00:00Z"
          ],
          [
           "male",
           "United States of America",
           "American football player",
           "no value",
           "1951-10-31T00:00:00Z"
          ],
          [
           "male",
           "Austria",
           "investor",
           "no value",
           "1972-01-12T00:00:00Z"
          ],
          [
           "male",
           "New Zealand",
           "rower",
           "no value",
           "1961-12-09T00:00:00Z"
          ],
          [
           "female",
           "United States of America",
           "politician",
           "Bachelor of Arts",
           "1966-12-09T00:00:00Z"
          ],
          [
           "male",
           "Ukraine",
           "politician",
           "PhD in Law",
           "1965-09-26T00:00:00Z"
          ],
          [
           "male",
           "Venezuela",
           "politician",
           "no value",
           "1962-11-23T00:00:00Z"
          ],
          [
           "male",
           "Canada",
           "actor",
           "no value",
           "1954-08-16T00:00:00Z"
          ],
          [
           "male",
           "United States of America",
           "military officer",
           "Bachelor of Arts",
           "1950-09-08T00:00:00Z"
          ],
          [
           "male",
           "Canada",
           "ice hockey player",
           "no value",
           "1960-04-23T00:00:00Z"
          ],
          [
           "female",
           "United States of America",
           "professor",
           "doctorate",
           "1946-08-13T00:00:00Z"
          ],
          [
           "male",
           "Pahlavi Dynasty",
           "marji'",
           "no value",
           "1939-04-19T00:00:00Z"
          ],
          [
           "male",
           "Ghana",
           "politician",
           "Doctor of Sciences",
           "1958-11-29T00:00:00Z"
          ],
          [
           "male",
           "Canada",
           "musician",
           "no value",
           "1994-03-01T00:00:00Z"
          ],
          [
           "female",
           "United States of America",
           "politician",
           "no value",
           "1981-04-12T00:00:00Z"
          ],
          [
           "male",
           "Philippines",
           "politician",
           "no value",
           "1945-03-28T00:00:00Z"
          ],
          [
           "male",
           "United States of America",
           "politician",
           "Doctor of Medicine",
           "1963-01-07T00:00:00Z"
          ],
          [
           "male",
           "Canada",
           "actor",
           "no value",
           "1967-09-09T00:00:00Z"
          ],
          [
           "female",
           "United States of America",
           "lawyer",
           "Juris Doctor",
           "1960-05-25T00:00:00Z"
          ],
          [
           "male",
           "United States of America",
           "peace activist",
           "no value",
           "1924-10-01T00:00:00Z"
          ],
          [
           "female",
           "United States of America",
           "politician",
           "Master of Business Administration",
           "1954-09-06T00:00:00Z"
          ],
          [
           "male",
           "Spain",
           "singer",
           "no value",
           "1967-03-08T00:00:00Z"
          ],
          [
           "male",
           "United Kingdom",
           "politician",
           "no value",
           "1943-05-09T00:00:00Z"
          ],
          [
           "female",
           "United States of America",
           "autobiographer",
           "no value",
           "1984-10-25T00:00:00Z"
          ],
          [
           "male",
           "United States of America",
           "dub actor",
           "no value",
           "1951-09-25T00:00:00Z"
          ],
          [
           "female",
           "United States of America",
           "non-fiction writer",
           "Bachelor of Economics",
           "1981-10-30T00:00:00Z"
          ],
          [
           "male",
           "India",
           "politician",
           "no value",
           "1935-12-11T00:00:00Z"
          ],
          [
           "male",
           "United States of America",
           "basketball player",
           "no value",
           "1982-01-17T00:00:00Z"
          ],
          [
           "male",
           "Kenya",
           "politician",
           "no value",
           "1945-01-07T00:00:00Z"
          ],
          [
           "male",
           "United States of America",
           "American football player",
           "no value",
           "1932-01-19T00:00:00Z"
          ],
          [
           "male",
           "United States of America",
           "politician",
           "Bachelor of Science",
           "1950-03-04T00:00:00Z"
          ],
          [
           "male",
           "United States of America",
           "politician",
           "no value",
           "1968-03-04T00:00:00Z"
          ],
          [
           "male",
           "United States of America",
           "basketball player",
           "no value",
           "1979-04-18T00:00:00Z"
          ],
          [
           "male",
           "Israel",
           "politician",
           "Master of Science",
           "1949-10-21T00:00:00Z"
          ],
          [
           "female",
           "United Kingdom",
           "actor",
           "no value",
           "1986-10-23T00:00:00Z"
          ],
          [
           "male",
           "Canada",
           "ice hockey player",
           "no value",
           "1955-01-09T00:00:00Z"
          ],
          [
           "male",
           "Israel",
           "politician",
           "Bachelor of Laws",
           "1972-03-25T00:00:00Z"
          ],
          [
           "female",
           "United States of America",
           "instructor",
           "no value",
           "1950-10-11T00:00:00Z"
          ],
          [
           "male",
           "Spain",
           "association football player",
           "no value",
           "1970-05-08T00:00:00Z"
          ],
          [
           "female",
           "Romania",
           "tennis player",
           "no value",
           "1991-09-27T00:00:00Z"
          ],
          [
           "male",
           "Ireland",
           "association football player",
           "no value",
           "1983-04-10T00:00:00Z"
          ],
          [
           "male",
           "Norway",
           "politician",
           "Cand.oecon.",
           "1959-03-16T00:00:00Z"
          ],
          [
           "female",
           "Bangladesh",
           "politician",
           "no value",
           "1947-09-28T00:00:00Z"
          ],
          [
           "male",
           "United Kingdom",
           "politician",
           "no value",
           "1956-09-16T00:00:00Z"
          ],
          [
           "female",
           "India",
           "lawyer",
           "no value",
           "1952-02-14T00:00:00Z"
          ],
          [
           "female",
           "United States of America",
           "film director",
           "no value",
           "1969-07-24T00:00:00Z"
          ],
          [
           "male",
           "United Kingdom",
           "association football player",
           "no value",
           "1978-06-20T00:00:00Z"
          ],
          [
           "male",
           "United States of America",
           "foreign currency trader",
           "no value",
           "1961-11-17T00:00:00Z"
          ],
          [
           "male",
           "United States of America",
           "basketball player",
           "no value",
           "1984-12-30T00:00:00Z"
          ],
          [
           "male",
           "United States of America",
           "baseball player",
           "no value",
           "1949-05-27T00:00:00Z"
          ],
          [
           "male",
           "United States of America",
           "bookbinder",
           "Bachelor of Arts",
           "1953-02-11T00:00:00Z"
          ],
          [
           "male",
           "United States of America",
           "politician",
           "Master of Business Administration",
           "1957-08-16T00:00:00Z"
          ],
          [
           "male",
           "New Zealand",
           "politician",
           "no value",
           "1961-08-09T00:00:00Z"
          ],
          [
           "male",
           "Turkey",
           "professor",
           "no value",
           "1959-02-26T00:00:00Z"
          ],
          [
           "female",
           "United Kingdom",
           "politician",
           "no value",
           "1956-10-01T00:00:00Z"
          ],
          [
           "female",
           "Ireland",
           "politician",
           "no value",
           "1969-05-01T00:00:00Z"
          ],
          [
           "male",
           "United States of America",
           "actor",
           "Bachelor of Science",
           "1946-06-14T00:00:00Z"
          ],
          [
           "female",
           "United States of America",
           "politician",
           "no value",
           "1952-12-07T00:00:00Z"
          ],
          [
           "male",
           "United States of America",
           "aircraft pilot",
           "no value",
           "1943-12-11T00:00:00Z"
          ],
          [
           "male",
           "India",
           "cricketer",
           "no value",
           "1988-11-05T00:00:00Z"
          ],
          [
           "male",
           "Germany",
           "writer",
           "doctorate",
           "1964-03-22T00:00:00Z"
          ],
          [
           "male",
           "India",
           "professor",
           "no value",
           "1963-02-03T00:00:00Z"
          ],
          [
           "male",
           "United States of America",
           "singer",
           "no value",
           "1978-12-28T00:00:00Z"
          ],
          [
           "female",
           "United States of America",
           "lawyer",
           "no value",
           "1957-05-22T00:00:00Z"
          ],
          [
           "male",
           "Australia",
           "lawyer",
           "no value",
           "1967-08-13T00:00:00Z"
          ],
          [
           "female",
           "United Kingdom",
           "lawyer",
           "no value",
           "1970-07-19T00:00:00Z"
          ],
          [
           "non-binary",
           "United States of America",
           "actor",
           "no value",
           "1992-08-20T00:00:00Z"
          ],
          [
           "female",
           "United States of America",
           "actor",
           "no value",
           "1987-02-01T00:00:00Z"
          ],
          [
           "male",
           "Belgium",
           "association football player",
           "no value",
           "1991-01-07T00:00:00Z"
          ],
          [
           "male",
           "United Kingdom",
           "singer",
           "no value",
           "1991-02-17T00:00:00Z"
          ],
          [
           "male",
           "United States of America",
           "American football player",
           "no value",
           "1979-01-15T00:00:00Z"
          ],
          [
           "male",
           "Hungary",
           "lawyer",
           "no value",
           "1963-05-31T00:00:00Z"
          ],
          [
           "male",
           "United States of America",
           "shareholder",
           "no value",
           "1930-08-30T00:00:00Z"
          ],
          [
           "male",
           "Italy",
           "association football player",
           "no value",
           "1951-10-20T00:00:00Z"
          ],
          [
           "male",
           "Cambodia",
           "politician",
           "no value",
           "1952-08-05T00:00:00Z"
          ],
          [
           "female",
           "United States of America",
           "actor",
           "no value",
           "1976-03-22T00:00:00Z"
          ],
          [
           "female",
           "India",
           "composer",
           "no value",
           "1960-10-05T00:00:00Z"
          ],
          [
           "female",
           "United States of America",
           "singer",
           "no value",
           "1989-12-13T00:00:00Z"
          ],
          [
           "male",
           "United Kingdom",
           "politician",
           "no value",
           "1970-01-07T00:00:00Z"
          ],
          [
           "male",
           "Singapore",
           "politician",
           "no value",
           "1952-02-10T00:00:00Z"
          ],
          [
           "male",
           "Philippines",
           "politician",
           "Bachelor of Arts",
           "1948-06-01T00:00:00Z"
          ],
          [
           "female",
           "United States of America",
           "politician",
           "no value",
           "1933-06-22T00:00:00Z"
          ],
          [
           "male",
           "United States of America",
           "basketball player",
           "no value",
           "1949-01-28T00:00:00Z"
          ],
          [
           "male",
           "United Kingdom",
           "association football player",
           "no value",
           "1969-08-07T00:00:00Z"
          ],
          [
           "male",
           "Pakistan",
           "politician",
           "no value",
           "1988-09-21T00:00:00Z"
          ],
          [
           "male",
           "United States of America",
           "actor",
           "no value",
           "1964-05-13T00:00:00Z"
          ],
          [
           "male",
           "United States of America",
           "lawyer",
           "no value",
           "1959-06-07T00:00:00Z"
          ],
          [
           "male",
           "United Kingdom",
           "association football player",
           "no value",
           "1980-05-01T00:00:00Z"
          ],
          [
           "male",
           "United States of America",
           "lawyer",
           "no value",
           "1974-09-16T00:00:00Z"
          ],
          [
           "female",
           "United States of America",
           "podcaster",
           "no value",
           "1954-01-29T00:00:00Z"
          ],
          [
           "male",
           "United Kingdom",
           "politician",
           "no value",
           "1967-01-08T00:00:00Z"
          ],
          [
           "male",
           "South Africa",
           "politician",
           "no value",
           "1981-03-03T00:00:00Z"
          ],
          [
           "female",
           "Australia",
           "politician",
           "no value",
           "1954-05-27T00:00:00Z"
          ],
          [
           "female",
           "United States of America",
           "lawyer",
           "no value",
           "1953-07-24T00:00:00Z"
          ],
          [
           "male",
           "United States of America",
           "lawyer",
           "Bachelor of Arts",
           "1944-05-28T00:00:00Z"
          ],
          [
           "male",
           "United Kingdom",
           "association football player",
           "no value",
           "1985-10-24T00:00:00Z"
          ],
          [
           "female",
           "Denmark",
           "politician",
           "Cand.polit.",
           "1968-04-13T00:00:00Z"
          ],
          [
           "male",
           "Germany",
           "racing automobile driver",
           "no value",
           "1987-07-03T00:00:00Z"
          ],
          [
           "male",
           "United Kingdom",
           "lawyer",
           "no value",
           "1974-02-25T00:00:00Z"
          ],
          [
           "male",
           "Malaysia",
           "politician",
           "no value",
           "1953-07-23T00:00:00Z"
          ],
          [
           "male",
           "United States of America",
           "politician",
           "Bachelor of Science",
           "1967-10-10T00:00:00Z"
          ],
          [
           "male",
           "Luxembourg",
           "lawyer",
           "no value",
           "1954-12-09T00:00:00Z"
          ],
          [
           "male",
           "United States of America",
           "computer scientist",
           "no value",
           "1984-05-14T00:00:00Z"
          ],
          [
           "male",
           "New Zealand",
           "politician",
           "no value",
           "1971-10-30T00:00:00Z"
          ],
          [
           "male",
           "Turkey",
           "statesperson",
           "no value",
           "1954-02-26T00:00:00Z"
          ],
          [
           "female",
           "United States of America",
           "politician",
           "Bachelor of Arts",
           "1938-08-15T00:00:00Z"
          ],
          [
           "female",
           "United States of America",
           "computer scientist",
           "no value",
           "1969-08-28T00:00:00Z"
          ],
          [
           "male",
           "United States of America",
           "basketball player",
           "no value",
           "1978-08-23T00:00:00Z"
          ],
          [
           "male",
           "United States of America",
           "politician",
           "Doctor of Medicine",
           "1951-09-18T00:00:00Z"
          ],
          [
           "male",
           "United States of America",
           "politician",
           "Bachelor of Science",
           "1946-12-20T00:00:00Z"
          ],
          [
           "male",
           "Canada",
           "ice hockey player",
           "no value",
           "1962-07-15T00:00:00Z"
          ],
          [
           "male",
           "Australia",
           "barrister",
           "no value",
           "1954-10-24T00:00:00Z"
          ],
          [
           "male",
           "United States of America",
           "politician",
           "no value",
           "1947-08-24T00:00:00Z"
          ],
          [
           "male",
           "United States of America",
           "lawyer",
           "no value",
           "1954-01-01T00:00:00Z"
          ],
          [
           "male",
           "United States of America",
           "film producer",
           "no value",
           "1973-06-02T00:00:00Z"
          ],
          [
           "male",
           "Malaysia",
           "politician",
           "no value",
           "1960-12-08T00:00:00Z"
          ],
          [
           "male",
           "Philippines",
           "lawyer",
           "no value",
           "1945-11-28T00:00:00Z"
          ],
          [
           "male",
           "United States of America",
           "writer",
           "no value",
           "1969-05-16T00:00:00Z"
          ],
          [
           "male",
           "United States of America",
           "lawyer",
           "no value",
           "1952-02-02T00:00:00Z"
          ],
          [
           "male",
           "United Kingdom",
           "politician",
           "no value",
           "1978-10-02T00:00:00Z"
          ],
          [
           "male",
           "Germany",
           "association football player",
           "no value",
           "1973-08-29T00:00:00Z"
          ],
          [
           "male",
           "United States of America",
           "basketball player",
           "no value",
           "1944-11-17T00:00:00Z"
          ],
          [
           "male",
           "United States of America",
           "lawyer",
           "no value",
           "1963-12-30T00:00:00Z"
          ],
          [
           "male",
           "United States of America",
           "basketball player",
           "no value",
           "1959-02-10T00:00:00Z"
          ],
          [
           "male",
           "United States of America",
           "politician",
           "no value",
           "1962-12-31T00:00:00Z"
          ],
          [
           "male",
           "United States of America",
           "lawyer",
           "no value",
           "1944-03-31T00:00:00Z"
          ],
          [
           "male",
           "United States of America",
           "film director",
           "no value",
           "1973-12-17T00:00:00Z"
          ],
          [
           "male",
           "United States of America",
           "basketball player",
           "no value",
           "1965-09-27T00:00:00Z"
          ],
          [
           "male",
           "United States of America",
           "basketball player",
           "no value",
           "1962-12-27T00:00:00Z"
          ],
          [
           "female",
           "France",
           "lawyer",
           "no value",
           "1956-01-01T00:00:00Z"
          ],
          [
           "male",
           "Zimbabwe",
           "politician",
           "no value",
           "1942-09-15T00:00:00Z"
          ],
          [
           "male",
           "United States of America",
           "lawyer",
           "no value",
           "1963-09-09T00:00:00Z"
          ],
          [
           "male",
           "United States of America",
           "politician",
           "no value",
           "1961-12-30T00:00:00Z"
          ],
          [
           "male",
           "Philippines",
           "singer",
           "no value",
           "1978-12-17T00:00:00Z"
          ],
          [
           "male",
           "United States of America",
           "basketball player",
           "no value",
           "1957-04-17T00:00:00Z"
          ],
          [
           "male",
           "United States of America",
           "physician",
           "Doctor of Medicine",
           "1940-12-24T00:00:00Z"
          ],
          [
           "male",
           "United States of America",
           "lawyer",
           "no value",
           "1958-08-19T00:00:00Z"
          ],
          [
           "male",
           "Canada",
           "lawyer",
           "no value",
           "1954-05-28T00:00:00Z"
          ],
          [
           "male",
           "United States of America",
           "politician",
           "no value",
           "1955-04-11T00:00:00Z"
          ],
          [
           "male",
           "United Kingdom",
           "association football player",
           "no value",
           "1963-11-22T00:00:00Z"
          ],
          [
           "male",
           "United Kingdom",
           "autobiographer",
           "no value",
           "1978-11-07T00:00:00Z"
          ],
          [
           "male",
           "United States of America",
           "entrepreneur",
           "no value",
           "1969-07-28T00:00:00Z"
          ],
          [
           "male",
           "United States of America",
           "businessperson",
           "no value",
           "1947-08-20T00:00:00Z"
          ],
          [
           "male",
           "United States of America",
           "lawyer",
           "no value",
           "1951-01-18T00:00:00Z"
          ],
          [
           "male",
           "United States of America",
           "lawyer",
           "no value",
           "1955-12-19T00:00:00Z"
          ],
          [
           "male",
           "United States of America",
           "baseball player",
           "no value",
           "1975-05-13T00:00:00Z"
          ],
          [
           "male",
           "United States of America",
           "basketball player",
           "no value",
           "1965-05-30T00:00:00Z"
          ],
          [
           "male",
           "United States of America",
           "politician",
           "no value",
           "1933-09-17T00:00:00Z"
          ],
          [
           "male",
           "India",
           "cricketer",
           "no value",
           "1981-07-07T00:00:00Z"
          ],
          [
           "male",
           "United States of America",
           "lawyer",
           "no value",
           "1931-12-08T00:00:00Z"
          ],
          [
           "male",
           "United States of America",
           "baseball player",
           "no value",
           "1955-04-16T00:00:00Z"
          ],
          [
           "male",
           "Ghana",
           "lawyer",
           "no value",
           "1944-03-29T00:00:00Z"
          ],
          [
           "male",
           "United States of America",
           "politician",
           "no value",
           "1973-10-01T00:00:00Z"
          ],
          [
           "male",
           "United States of America",
           "basketball player",
           "no value",
           "1959-08-26T00:00:00Z"
          ],
          [
           "female",
           "United Kingdom",
           "politician",
           "no value",
           "1963-08-01T00:00:00Z"
          ],
          [
           "male",
           "United States of America",
           "association football player",
           "no value",
           "1973-08-01T00:00:00Z"
          ],
          [
           "male",
           "India",
           "actor",
           "no value",
           "1972-05-25T00:00:00Z"
          ],
          [
           "male",
           "United States of America",
           "lawyer",
           "no value",
           "1950-12-03T00:00:00Z"
          ],
          [
           "female",
           "United States of America",
           "singer",
           "no value",
           "1982-04-24T00:00:00Z"
          ],
          [
           "male",
           "New Zealand",
           "rugby union player",
           "no value",
           "1963-09-17T00:00:00Z"
          ],
          [
           "male",
           "Canada",
           "ice hockey player",
           "no value",
           "1973-07-31T00:00:00Z"
          ],
          [
           "female",
           "People's Republic of China",
           "diplomat",
           "no value",
           "1970-04-01T00:00:00Z"
          ],
          [
           "male",
           "Puerto Rico",
           "baseball player",
           "no value",
           "1973-10-18T00:00:00Z"
          ],
          [
           "male",
           "United States of America",
           "American football player",
           "no value",
           "1987-12-20T00:00:00Z"
          ],
          [
           "male",
           "India",
           "politician",
           "no value",
           "1953-01-05T00:00:00Z"
          ],
          [
           "male",
           "Canada",
           "ice hockey player",
           "no value",
           "1963-04-29T00:00:00Z"
          ],
          [
           "male",
           "United States of America",
           "basketball player",
           "no value",
           "1972-10-15T00:00:00Z"
          ],
          [
           "male",
           "United States of America",
           "businessperson",
           "no value",
           "1951-02-10T00:00:00Z"
          ],
          [
           "male",
           "United States of America",
           "lawyer",
           "no value",
           "1939-06-14T00:00:00Z"
          ],
          [
           "male",
           "United States of America",
           "American football coach",
           "no value",
           "1952-04-16T00:00:00Z"
          ],
          [
           "female",
           "Philippines",
           "politician",
           "no value",
           "1959-08-27T00:00:00Z"
          ],
          [
           "male",
           "United States of America",
           "politician",
           "no value",
           "1958-08-23T00:00:00Z"
          ],
          [
           "male",
           "Ireland",
           "politician",
           "no value",
           "1960-08-01T00:00:00Z"
          ],
          [
           "male",
           "United Kingdom",
           "politician",
           "no value",
           "1969-12-05T00:00:00Z"
          ],
          [
           "male",
           "Canada",
           "ice hockey player",
           "no value",
           "1967-01-30T00:00:00Z"
          ],
          [
           "male",
           "India",
           "cricketer",
           "no value",
           "1972-07-08T00:00:00Z"
          ],
          [
           "male",
           "United Kingdom",
           "actor",
           "no value",
           "1978-08-22T00:00:00Z"
          ],
          [
           "male",
           "United Kingdom",
           "politician",
           "no value",
           "1969-05-24T00:00:00Z"
          ],
          [
           "male",
           "United States of America",
           "baseball player",
           "no value",
           "1956-05-23T00:00:00Z"
          ],
          [
           "male",
           "United Kingdom",
           "association football player",
           "no value",
           "1948-12-01T00:00:00Z"
          ],
          [
           "male",
           "United States of America",
           "politician",
           "no value",
           "1947-01-26T00:00:00Z"
          ],
          [
           "male",
           "United States of America",
           "actor",
           "no value",
           "1979-06-21T00:00:00Z"
          ],
          [
           "male",
           "United Kingdom",
           "boxer",
           "no value",
           "1989-10-15T00:00:00Z"
          ],
          [
           "male",
           "United States of America",
           "basketball player",
           "no value",
           "1969-08-06T00:00:00Z"
          ],
          [
           "male",
           "Spain",
           "association football player",
           "no value",
           "1986-03-30T00:00:00Z"
          ],
          [
           "male",
           "India",
           "rapper",
           "no value",
           "1985-07-06T00:00:00Z"
          ],
          [
           "male",
           "United States of America",
           "basketball player",
           "no value",
           "1965-07-31T00:00:00Z"
          ],
          [
           "male",
           "Philippines",
           "politician",
           "no value",
           "1970-10-28T00:00:00Z"
          ],
          [
           "male",
           "United States of America",
           "politician",
           "no value",
           "1947-05-07T00:00:00Z"
          ],
          [
           "male",
           "Jamaica",
           "politician",
           "no value",
           "1972-07-22T00:00:00Z"
          ],
          [
           "male",
           "United States of America",
           "lawyer",
           "no value",
           "1943-10-05T00:00:00Z"
          ],
          [
           "male",
           "United States of America",
           "tennis player",
           "no value",
           "1960-03-09T00:00:00Z"
          ],
          [
           "male",
           "United Kingdom",
           "cricketer",
           "no value",
           "1984-12-25T00:00:00Z"
          ],
          [
           "male",
           "United States of America",
           "basketball player",
           "no value",
           "1958-01-17T00:00:00Z"
          ],
          [
           "male",
           "United Kingdom",
           "association football referee",
           "no value",
           "1964-12-17T00:00:00Z"
          ],
          [
           "female",
           "United States of America",
           "actor",
           "no value",
           "1958-01-26T00:00:00Z"
          ],
          [
           "male",
           "United States of America",
           "ice hockey player",
           "no value",
           "1964-12-07T00:00:00Z"
          ],
          [
           "male",
           "United States of America",
           "banker",
           "no value",
           "1956-03-13T00:00:00Z"
          ],
          [
           "male",
           "United States of America",
           "politician",
           "Juris Doctor",
           "1949-05-03T00:00:00Z"
          ],
          [
           "male",
           "United Kingdom",
           "diarist",
           "no value",
           "1965-03-30T00:00:00Z"
          ],
          [
           "male",
           "United States of America",
           "lawyer",
           "Doctor of Laws",
           "1972-03-18T00:00:00Z"
          ],
          [
           "male",
           "United States of America",
           "lawyer",
           "no value",
           "1963-04-09T00:00:00Z"
          ],
          [
           "male",
           "United Kingdom",
           "sculptor",
           "no value",
           "1953-01-01T00:00:00Z"
          ],
          [
           "male",
           "Jamaica",
           "politician",
           "no value",
           "1950-12-03T00:00:00Z"
          ],
          [
           "male",
           "United States of America",
           "ice hockey player",
           "no value",
           "1984-06-07T00:00:00Z"
          ],
          [
           "male",
           "United States of America",
           "writer",
           "no value",
           "1946-02-28T00:00:00Z"
          ],
          [
           "male",
           "United States of America",
           "astronomer",
           "Doctor of Philosophy",
           "1938-10-21T00:00:00Z"
          ],
          [
           "male",
           "United States of America",
           "baseball player",
           "no value",
           "1957-06-30T00:00:00Z"
          ],
          [
           "male",
           "India",
           "writer",
           "no value",
           "1946-10-16T00:00:00Z"
          ],
          [
           "male",
           "United States of America",
           "make-up artist",
           "no value",
           "1963-01-01T00:00:00Z"
          ],
          [
           "male",
           "Malaysia",
           "politician",
           "no value",
           "1961-10-01T00:00:00Z"
          ],
          [
           "male",
           "Malaysia",
           "politician",
           "no value",
           "1947-05-15T00:00:00Z"
          ],
          [
           "male",
           "United States of America",
           "lawyer",
           "no value",
           "1969-04-27T00:00:00Z"
          ],
          [
           "male",
           "United States of America",
           "lawyer",
           "no value",
           "1947-01-05T00:00:00Z"
          ],
          [
           "male",
           "United States of America",
           "lawyer",
           "no value",
           "1946-07-11T00:00:00Z"
          ],
          [
           "male",
           "United States of America",
           "engineer",
           "no value",
           "1961-01-01T00:00:00Z"
          ],
          [
           "male",
           "Canada",
           "ice hockey player",
           "no value",
           "1961-05-14T00:00:00Z"
          ],
          [
           "male",
           "no value",
           "diplomat",
           "no value",
           "1936-06-23T00:00:00Z"
          ],
          [
           "male",
           "United States of America",
           "ice hockey player",
           "no value",
           "1958-06-24T00:00:00Z"
          ],
          [
           "male",
           "Italy",
           "politician",
           "no value",
           "1973-03-09T00:00:00Z"
          ],
          [
           "male",
           "Germany",
           "writer",
           "no value",
           "1971-04-17T00:00:00Z"
          ],
          [
           "male",
           "Canada",
           "basketball player",
           "no value",
           "1986-01-03T00:00:00Z"
          ],
          [
           "male",
           "Canada",
           "ice hockey player",
           "no value",
           "1958-09-15T00:00:00Z"
          ],
          [
           "male",
           "United States of America",
           "baseball player",
           "no value",
           "1962-08-04T00:00:00Z"
          ],
          [
           "male",
           "United States of America",
           "lawyer",
           "no value",
           "1966-06-24T00:00:00Z"
          ],
          [
           "male",
           "German Democratic Republic",
           "politician",
           "no value",
           "1957-04-05T00:00:00Z"
          ],
          [
           "male",
           "United Kingdom",
           "scientist",
           "Doctor of Philosophy",
           "1944-03-24T00:00:00Z"
          ],
          [
           "male",
           "United States of America",
           "actor",
           "no value",
           "1932-01-15T00:00:00Z"
          ],
          [
           "male",
           "United States of America",
           "politician",
           "no value",
           "1974-08-22T00:00:00Z"
          ],
          [
           "male",
           "Australia",
           "cricketer",
           "no value",
           "1981-04-02T00:00:00Z"
          ],
          [
           "male",
           "United Kingdom",
           "association football player",
           "no value",
           "1971-11-05T00:00:00Z"
          ],
          [
           "male",
           "United Kingdom",
           "university teacher",
           "no value",
           "1926-02-25T00:00:00Z"
          ],
          [
           "male",
           "United Kingdom",
           "badminton player",
           "no value",
           "1965-04-10T00:00:00Z"
          ],
          [
           "male",
           "Canada",
           "swimmer",
           "no value",
           "1984-05-05T00:00:00Z"
          ],
          [
           "male",
           "France",
           "politician",
           "aggregation of modern literature",
           "1969-04-15T00:00:00Z"
          ],
          [
           "male",
           "United States of America",
           "ice hockey player",
           "no value",
           "1984-03-13T00:00:00Z"
          ],
          [
           "male",
           "United Kingdom",
           "singer-songwriter",
           "no value",
           "1985-04-20T00:00:00Z"
          ],
          [
           "male",
           "Canada",
           "boxer",
           "no value",
           "1971-08-08T00:00:00Z"
          ],
          [
           "male",
           "Canada",
           "ice hockey player",
           "no value",
           "1973-11-02T00:00:00Z"
          ],
          [
           "male",
           "United Kingdom",
           "association football player",
           "no value",
           "1984-09-20T00:00:00Z"
          ],
          [
           "male",
           "United States of America",
           "singer",
           "no value",
           "1973-10-11T00:00:00Z"
          ],
          [
           "male",
           "United States of America",
           "American football player",
           "no value",
           "1988-11-29T00:00:00Z"
          ],
          [
           "male",
           "United States of America",
           "film producer",
           "no value",
           "1945-12-27T00:00:00Z"
          ],
          [
           "male",
           "United States of America",
           "ice hockey player",
           "no value",
           "1967-08-25T00:00:00Z"
          ],
          [
           "male",
           "United Kingdom",
           "photographer",
           "no value",
           "1943-04-30T00:00:00Z"
          ],
          [
           "male",
           "United Kingdom",
           "association football player",
           "no value",
           "1979-03-06T00:00:00Z"
          ],
          [
           "male",
           "United States of America",
           "politician",
           "no value",
           "1961-09-01T00:00:00Z"
          ],
          [
           "male",
           "United States of America",
           "baseball player",
           "no value",
           "1954-02-08T00:00:00Z"
          ],
          [
           "male",
           "Ireland",
           "politician",
           "no value",
           "1974-09-19T00:00:00Z"
          ],
          [
           "male",
           "United Kingdom",
           "businessperson",
           "no value",
           "1957-07-31T00:00:00Z"
          ],
          [
           "male",
           "United States of America",
           "no value",
           "no value",
           "1989-06-09T00:00:00Z"
          ],
          [
           "male",
           "United States of America",
           "animator",
           "no value",
           "1960-02-27T00:00:00Z"
          ],
          [
           "male",
           "United States of America",
           "president",
           "no value",
           "1973-12-29T00:00:00Z"
          ],
          [
           "male",
           "United States of America",
           "actor",
           "no value",
           "1973-12-25T00:00:00Z"
          ],
          [
           "male",
           "Austria",
           "university teacher",
           "no value",
           "1942-01-01T00:00:00Z"
          ],
          [
           "male",
           "Canada",
           "writer",
           "no value",
           "1945-01-01T00:00:00Z"
          ],
          [
           "male",
           "United Kingdom",
           "boxer",
           "no value",
           "1983-07-06T00:00:00Z"
          ],
          [
           "male",
           "United States of America",
           "actor",
           "no value",
           "1970-06-28T00:00:00Z"
          ],
          [
           "male",
           "United Kingdom",
           "dressmaker",
           "no value",
           "1946-07-05T00:00:00Z"
          ],
          [
           "male",
           "India",
           "politician",
           "no value",
           "1955-12-13T00:00:00Z"
          ],
          [
           "male",
           "United Kingdom",
           "association football player",
           "no value",
           "1965-08-25T00:00:00Z"
          ],
          [
           "male",
           "Spain",
           "sport cyclist",
           "no value",
           "1983-11-08T00:00:00Z"
          ],
          [
           "male",
           "Canada",
           "lawyer",
           "no value",
           "1958-12-26T00:00:00Z"
          ],
          [
           "male",
           "United States of America",
           "lawyer",
           "no value",
           "1967-07-21T00:00:00Z"
          ],
          [
           "male",
           "United States of America",
           "boxer",
           "no value",
           "1971-03-26T00:00:00Z"
          ],
          [
           "male",
           "United States of America",
           "swimmer",
           "no value",
           "1995-07-02T00:00:00Z"
          ],
          [
           "male",
           "United States of America",
           "lawyer",
           "no value",
           "1951-02-09T00:00:00Z"
          ],
          [
           "male",
           "United States of America",
           "boxer",
           "no value",
           "1937-02-27T00:00:00Z"
          ],
          [
           "male",
           "United States of America",
           "singer",
           "no value",
           "1965-08-27T00:00:00Z"
          ],
          [
           "male",
           "United States of America",
           "politician",
           "no value",
           "1959-11-06T00:00:00Z"
          ],
          [
           "male",
           "United Kingdom",
           "association football player",
           "no value",
           "1958-07-12T00:00:00Z"
          ],
          [
           "male",
           "United States of America",
           "baseball player",
           "no value",
           "1964-10-14T00:00:00Z"
          ],
          [
           "male",
           "United Kingdom",
           "actor",
           "no value",
           "1933-01-21T00:00:00Z"
          ],
          [
           "male",
           "India",
           "lawyer",
           "no value",
           "1948-08-08T00:00:00Z"
          ],
          [
           "male",
           "United States of America",
           "basketball player",
           "no value",
           "1958-04-12T00:00:00Z"
          ],
          [
           "male",
           "United Kingdom",
           "association football player",
           "no value",
           "1984-06-05T00:00:00Z"
          ],
          [
           "male",
           "United States of America",
           "boxer",
           "no value",
           "1953-04-03T00:00:00Z"
          ],
          [
           "female",
           "United Kingdom",
           "model",
           "no value",
           "1981-02-10T00:00:00Z"
          ],
          [
           "male",
           "New Zealand",
           "rugby union player",
           "no value",
           "1945-04-11T00:00:00Z"
          ],
          [
           "male",
           "United Kingdom",
           "boxer",
           "no value",
           "1988-08-12T00:00:00Z"
          ],
          [
           "male",
           "United States of America",
           "baseball player",
           "no value",
           "1958-11-27T00:00:00Z"
          ],
          [
           "male",
           "United States of America",
           "lawyer",
           "no value",
           "1973-08-03T00:00:00Z"
          ],
          [
           "male",
           "United States of America",
           "guitarist",
           "no value",
           "2000-01-01T00:00:00Z"
          ],
          [
           "male",
           "United States of America",
           "American football player",
           "no value",
           "1942-10-13T00:00:00Z"
          ],
          [
           "male",
           "Canada",
           "ice hockey player",
           "no value",
           "1967-10-03T00:00:00Z"
          ],
          [
           "male",
           "United Kingdom",
           "singer",
           "no value",
           "1942-12-15T00:00:00Z"
          ],
          [
           "male",
           "Scotland",
           "curler",
           "no value",
           "2000-01-01T00:00:00Z"
          ],
          [
           "male",
           "Australia",
           "politician",
           "no value",
           "1973-01-17T00:00:00Z"
          ],
          [
           "male",
           "United States of America",
           "university teacher",
           "no value",
           "1940-09-14T00:00:00Z"
          ],
          [
           "male",
           "Iran",
           "lawyer",
           "doctorate",
           "1948-11-12T00:00:00Z"
          ],
          [
           "male",
           "United States of America",
           "lawyer",
           "Doctor of Philosophy",
           "1952-06-02T00:00:00Z"
          ],
          [
           "male",
           "Italy",
           "basketball player",
           "no value",
           "1954-03-23T00:00:00Z"
          ],
          [
           "male",
           "United States of America",
           "politician",
           "no value",
           "1958-02-26T00:00:00Z"
          ],
          [
           "male",
           "United States of America",
           "association football manager",
           "no value",
           "1951-09-21T00:00:00Z"
          ],
          [
           "male",
           "United States of America",
           "golfer",
           "no value",
           "1970-06-16T00:00:00Z"
          ],
          [
           "male",
           "United Kingdom",
           "association football player",
           "no value",
           "1961-05-03T00:00:00Z"
          ],
          [
           "male",
           "United States of America",
           "politician",
           "Bachelor of Science",
           "1971-06-10T00:00:00Z"
          ],
          [
           "male",
           "United Kingdom",
           "spokesperson",
           "no value",
           "1964-04-03T00:00:00Z"
          ],
          [
           "male",
           "South Africa",
           "cricketer",
           "no value",
           "1984-07-13T00:00:00Z"
          ],
          [
           "female",
           "United States of America",
           "political pundit",
           "no value",
           "1970-11-18T00:00:00Z"
          ],
          [
           "male",
           "Spain",
           "association football player",
           "no value",
           "1973-09-18T00:00:00Z"
          ],
          [
           "male",
           "United Kingdom",
           "politician",
           "no value",
           "1967-08-26T00:00:00Z"
          ],
          [
           "male",
           "United Kingdom",
           "association football player",
           "no value",
           "1954-10-19T00:00:00Z"
          ],
          [
           "male",
           "United States of America",
           "lawyer",
           "Bachelor of Arts",
           "1971-05-28T00:00:00Z"
          ],
          [
           "male",
           "United Kingdom",
           "politician",
           "no value",
           "1952-05-14T00:00:00Z"
          ],
          [
           "male",
           "United States of America",
           "computer scientist",
           "no value",
           "1976-11-19T00:00:00Z"
          ],
          [
           "male",
           "United Kingdom",
           "association football player",
           "no value",
           "1963-04-25T00:00:00Z"
          ],
          [
           "male",
           "United States of America",
           "coach",
           "no value",
           "1972-03-15T00:00:00Z"
          ],
          [
           "male",
           "United States of America",
           "singer",
           "no value",
           "1974-09-19T00:00:00Z"
          ],
          [
           "male",
           "Canada",
           "ice hockey player",
           "no value",
           "1951-12-17T00:00:00Z"
          ],
          [
           "male",
           "United Kingdom",
           "sport cyclist",
           "no value",
           "1985-05-20T00:00:00Z"
          ],
          [
           "male",
           "Spain",
           "association football player",
           "no value",
           "1964-02-09T00:00:00Z"
          ],
          [
           "male",
           "United Kingdom",
           "association football player",
           "no value",
           "1975-02-18T00:00:00Z"
          ],
          [
           "male",
           "United States of America",
           "basketball player",
           "no value",
           "1959-10-27T00:00:00Z"
          ],
          [
           "male",
           "Italy",
           "politician",
           "PhD in economics",
           "1947-09-03T00:00:00Z"
          ],
          [
           "male",
           "United States of America",
           "astronaut",
           "no value",
           "1964-01-12T00:00:00Z"
          ],
          [
           "male",
           "India",
           "singer",
           "no value",
           "1954-11-07T00:00:00Z"
          ],
          [
           "male",
           "United States of America",
           "politician",
           "no value",
           "1950-11-23T00:00:00Z"
          ],
          [
           "male",
           "Australia",
           "politician",
           "no value",
           "1957-11-04T00:00:00Z"
          ],
          [
           "male",
           "Italy",
           "association football player",
           "no value",
           "1967-08-11T00:00:00Z"
          ],
          [
           "male",
           "United Kingdom",
           "association football player",
           "no value",
           "1960-12-31T00:00:00Z"
          ],
          [
           "male",
           "Australia",
           "basketball player",
           "no value",
           "1992-03-23T00:00:00Z"
          ],
          [
           "male",
           "United States of America",
           "American football player",
           "no value",
           "1988-08-19T00:00:00Z"
          ],
          [
           "male",
           "United States of America",
           "politician",
           "no value",
           "1952-11-09T00:00:00Z"
          ],
          [
           "male",
           "United States of America",
           "lawyer",
           "no value",
           "1946-12-24T00:00:00Z"
          ],
          [
           "male",
           "United Kingdom",
           "association football player",
           "no value",
           "1958-12-11T00:00:00Z"
          ],
          [
           "male",
           "United States of America",
           "boxer",
           "no value",
           "1977-02-24T00:00:00Z"
          ],
          [
           "male",
           "United States of America",
           "lawyer",
           "no value",
           "1960-06-22T00:00:00Z"
          ],
          [
           "female",
           "United States of America",
           "actor",
           "no value",
           "1986-05-13T00:00:00Z"
          ],
          [
           "male",
           "United Kingdom",
           "politician",
           "no value",
           "1970-05-27T00:00:00Z"
          ],
          [
           "male",
           "United States of America",
           "lawyer",
           "no value",
           "1940-07-03T00:00:00Z"
          ],
          [
           "male",
           "United States of America",
           "politician",
           "no value",
           "1959-11-29T00:00:00Z"
          ],
          [
           "male",
           "United States of America",
           "merchant",
           "Bachelor of Science",
           "1952-03-23T00:00:00Z"
          ],
          [
           "transgender female",
           "United States of America",
           "actor",
           "no value",
           "1949-10-28T00:00:00Z"
          ],
          [
           "male",
           "Canada",
           "engineer",
           "no value",
           "1971-06-28T00:00:00Z"
          ],
          [
           "male",
           "United Kingdom",
           "association football player",
           "no value",
           "1970-09-03T00:00:00Z"
          ],
          [
           "male",
           "United States of America",
           "American football player",
           "no value",
           "1963-08-17T00:00:00Z"
          ],
          [
           "male",
           "Argentina",
           "association football manager",
           "no value",
           "1972-03-02T00:00:00Z"
          ],
          [
           "male",
           "Spain",
           "association football player",
           "no value",
           "1971-11-03T00:00:00Z"
          ],
          [
           "male",
           "United States of America",
           "lawyer",
           "no value",
           "1934-03-22T00:00:00Z"
          ],
          [
           "male",
           "United Kingdom",
           "politician",
           "no value",
           "1949-05-26T00:00:00Z"
          ],
          [
           "male",
           "India",
           "politician",
           "no value",
           "1973-07-01T00:00:00Z"
          ],
          [
           "male",
           "United Kingdom",
           "politician",
           "no value",
           "1940-10-10T00:00:00Z"
          ],
          [
           "male",
           "Greece",
           "politician",
           "no value",
           "1974-07-28T00:00:00Z"
          ],
          [
           "male",
           "United States of America",
           "basketball player",
           "no value",
           "1961-10-13T00:00:00Z"
          ],
          [
           "female",
           "United States of America",
           "jewelry designer",
           "no value",
           "1970-04-26T00:00:00Z"
          ],
          [
           "male",
           "Chile",
           "association football player",
           "no value",
           "1953-09-16T00:00:00Z"
          ],
          [
           "male",
           "United States of America",
           "American football player",
           "no value",
           "1983-12-02T00:00:00Z"
          ],
          [
           "male",
           "Canada",
           "ice hockey player",
           "no value",
           "1963-09-02T00:00:00Z"
          ],
          [
           "male",
           "India",
           "writer",
           "no value",
           "1963-01-01T00:00:00Z"
          ],
          [
           "male",
           "United Kingdom",
           "politician",
           "no value",
           "1962-04-01T00:00:00Z"
          ],
          [
           "male",
           "Portugal",
           "politician",
           "no value",
           "1949-04-30T00:00:00Z"
          ],
          [
           "male",
           "United Kingdom",
           "golfer",
           "no value",
           "1989-05-04T00:00:00Z"
          ],
          [
           "male",
           "United Kingdom",
           "politician",
           "no value",
           "1966-11-01T00:00:00Z"
          ],
          [
           "male",
           "Nigeria",
           "politician",
           "no value",
           "1942-12-17T00:00:00Z"
          ],
          [
           "male",
           "Spain",
           "association football player",
           "no value",
           "1973-07-13T00:00:00Z"
          ],
          [
           "male",
           "United Kingdom",
           "association football player",
           "no value",
           "1961-07-18T00:00:00Z"
          ],
          [
           "male",
           "United States of America",
           "basketball player",
           "no value",
           "1988-03-14T00:00:00Z"
          ],
          [
           "male",
           "Iraq",
           "politician",
           "no value",
           "1947-08-10T00:00:00Z"
          ],
          [
           "male",
           "United States of America",
           "politician",
           "Bachelor of Arts",
           "1941-09-08T00:00:00Z"
          ],
          [
           "male",
           "United States of America",
           "lawyer",
           "no value",
           "1942-02-20T00:00:00Z"
          ],
          [
           "male",
           "United States of America",
           "lawyer",
           "no value",
           "1952-02-07T00:00:00Z"
          ],
          [
           "male",
           "Australia",
           "politician",
           "no value",
           "1963-03-02T00:00:00Z"
          ],
          [
           "male",
           "United States of America",
           "politician",
           "no value",
           "1952-08-24T00:00:00Z"
          ],
          [
           "male",
           "United States of America",
           "politician",
           "no value",
           "1958-07-31T00:00:00Z"
          ],
          [
           "male",
           "United States of America",
           "writer",
           "no value",
           "1951-01-12T00:00:00Z"
          ],
          [
           "male",
           "United Kingdom",
           "lawyer",
           "no value",
           "1970-10-08T00:00:00Z"
          ],
          [
           "male",
           "United Kingdom",
           "association football player",
           "no value",
           "1958-01-16T00:00:00Z"
          ],
          [
           "male",
           "Canada",
           "alpine skier",
           "no value",
           "1991-11-09T00:00:00Z"
          ],
          [
           "male",
           "India",
           "politician",
           "no value",
           "1951-05-03T00:00:00Z"
          ],
          [
           "male",
           "United States of America",
           "association football player",
           "no value",
           "1974-06-11T00:00:00Z"
          ],
          [
           "male",
           "United States of America",
           "American football player",
           "no value",
           "1951-09-15T00:00:00Z"
          ],
          [
           "male",
           "India",
           "politician",
           "no value",
           "1970-03-10T00:00:00Z"
          ],
          [
           "male",
           "United States of America",
           "lawyer",
           "no value",
           "1960-08-16T00:00:00Z"
          ],
          [
           "male",
           "United States of America",
           "basketball player",
           "no value",
           "1977-05-03T00:00:00Z"
          ],
          [
           "male",
           "Canada",
           "actor",
           "no value",
           "1971-12-25T00:00:00Z"
          ],
          [
           "male",
           "United States of America",
           "baseball player",
           "no value",
           "1957-07-30T00:00:00Z"
          ],
          [
           "male",
           "United States of America",
           "American football player",
           "no value",
           "1959-11-21T00:00:00Z"
          ],
          [
           "male",
           "Israel",
           "politician",
           "no value",
           "1970-09-30T00:00:00Z"
          ],
          [
           "male",
           "Australia",
           "rugby union player",
           "no value",
           "1960-01-30T00:00:00Z"
          ],
          [
           "male",
           "United States of America",
           "basketball player",
           "no value",
           "1961-02-16T00:00:00Z"
          ],
          [
           "male",
           "Canada",
           "politician",
           "no value",
           "1972-02-02T00:00:00Z"
          ],
          [
           "male",
           "United States of America",
           "baseball player",
           "no value",
           "1970-08-21T00:00:00Z"
          ],
          [
           "male",
           "United States of America",
           "American football player",
           "no value",
           "1967-03-26T00:00:00Z"
          ],
          [
           "male",
           "France",
           "businessperson",
           "no value",
           "1962-11-10T00:00:00Z"
          ],
          [
           "male",
           "United States of America",
           "American football player",
           "no value",
           "1966-03-28T00:00:00Z"
          ],
          [
           "male",
           "United States of America",
           "American football player",
           "no value",
           "1964-07-25T00:00:00Z"
          ],
          [
           "male",
           "Canada",
           "ice hockey player",
           "no value",
           "1965-06-01T00:00:00Z"
          ],
          [
           "male",
           "United States of America",
           "baseball player",
           "no value",
           "1961-10-28T00:00:00Z"
          ],
          [
           "male",
           "Australia",
           "philosopher",
           "no value",
           "1954-07-05T00:00:00Z"
          ],
          [
           "male",
           "United States of America",
           "lawyer",
           "no value",
           "1978-09-14T00:00:00Z"
          ],
          [
           "male",
           "United States of America",
           "lawyer",
           "Bachelor of Arts",
           "1970-12-22T00:00:00Z"
          ],
          [
           "female",
           "United States of America",
           "actor",
           "no value",
           "1997-08-10T00:00:00Z"
          ],
          [
           "male",
           "Ireland",
           "rugby union player",
           "no value",
           "1978-07-18T00:00:00Z"
          ],
          [
           "male",
           "United States of America",
           "American football player",
           "no value",
           "1963-04-04T00:00:00Z"
          ],
          [
           "male",
           "United States of America",
           "baseball player",
           "no value",
           "1964-09-26T00:00:00Z"
          ],
          [
           "male",
           "Australia",
           "cricketer",
           "no value",
           "1986-10-27T00:00:00Z"
          ],
          [
           "male",
           "United States of America",
           "no value",
           "no value",
           "1960-01-01T00:00:00Z"
          ],
          [
           "male",
           "United States of America",
           "businessperson",
           "no value",
           "1967-07-03T00:00:00Z"
          ],
          [
           "male",
           "United States of America",
           "radio personality",
           "no value",
           "1968-06-02T00:00:00Z"
          ],
          [
           "male",
           "Australia",
           "politician",
           "no value",
           "1970-09-20T00:00:00Z"
          ],
          [
           "male",
           "United States of America",
           "basketball player",
           "no value",
           "1966-10-30T00:00:00Z"
          ],
          [
           "male",
           "United States of America",
           "sport cyclist",
           "no value",
           "1973-01-28T00:00:00Z"
          ],
          [
           "male",
           "Canada",
           "ice hockey player",
           "no value",
           "1964-05-25T00:00:00Z"
          ],
          [
           "male",
           "South Africa",
           "rugby union player",
           "no value",
           "1972-11-05T00:00:00Z"
          ],
          [
           "male",
           "United States of America",
           "baseball player",
           "no value",
           "1956-08-22T00:00:00Z"
          ],
          [
           "male",
           "United States of America",
           "head coach",
           "no value",
           "1962-12-13T00:00:00Z"
          ],
          [
           "male",
           "United States of America",
           "baseball player",
           "no value",
           "1951-08-01T00:00:00Z"
          ],
          [
           "male",
           "United States of America",
           "baseball player",
           "no value",
           "1960-12-14T00:00:00Z"
          ],
          [
           "male",
           "United States of America",
           "businessperson",
           "no value",
           "1959-02-19T00:00:00Z"
          ],
          [
           "male",
           "Canada",
           "politician",
           "no value",
           "1968-05-30T00:00:00Z"
          ],
          [
           "male",
           "United States of America",
           "American football coach",
           "no value",
           "1962-01-07T00:00:00Z"
          ],
          [
           "male",
           "United States of America",
           "American football player",
           "no value",
           "1963-12-23T00:00:00Z"
          ],
          [
           "male",
           "United States of America",
           "baseball player",
           "no value",
           "1977-12-06T00:00:00Z"
          ],
          [
           "male",
           "France",
           "statesperson",
           "no value",
           "1977-12-21T00:00:00Z"
          ],
          [
           "male",
           "Germany",
           "baseball player",
           "no value",
           "1957-10-24T00:00:00Z"
          ],
          [
           "male",
           "United States of America",
           "baseball player",
           "no value",
           "1970-09-22T00:00:00Z"
          ],
          [
           "male",
           "United States of America",
           "basketball player",
           "no value",
           "1967-07-24T00:00:00Z"
          ],
          [
           "male",
           "United States of America",
           "baseball player",
           "no value",
           "1969-04-14T00:00:00Z"
          ],
          [
           "male",
           "United States of America",
           "American football player",
           "no value",
           "1962-09-23T00:00:00Z"
          ],
          [
           "male",
           "United States of America",
           "head coach",
           "no value",
           "1963-11-25T00:00:00Z"
          ],
          [
           "male",
           "United Kingdom",
           "cricketer",
           "no value",
           "1990-12-30T00:00:00Z"
          ],
          [
           "male",
           "New Zealand",
           "rugby union player",
           "no value",
           "1959-05-07T00:00:00Z"
          ],
          [
           "male",
           "United States of America",
           "baseball player",
           "no value",
           "1967-07-14T00:00:00Z"
          ],
          [
           "male",
           "United States of America",
           "novelist",
           "no value",
           "2000-01-01T00:00:00Z"
          ],
          [
           "male",
           "Canada",
           "politician",
           "no value",
           "1979-05-20T00:00:00Z"
          ],
          [
           "male",
           "Australia",
           "Catholic priest",
           "no value",
           "1939-10-23T00:00:00Z"
          ],
          [
           "male",
           "Ireland",
           "politician",
           "no value",
           "1979-01-18T00:00:00Z"
          ],
          [
           "female",
           "Philippines",
           "politician",
           "no value",
           "1968-09-03T00:00:00Z"
          ],
          [
           "male",
           "India",
           "politician",
           "no value",
           "1969-05-13T00:00:00Z"
          ],
          [
           "male",
           "United States of America",
           "baseball player",
           "no value",
           "1959-04-22T00:00:00Z"
          ],
          [
           "male",
           "United States of America",
           "lawyer",
           "no value",
           "1958-01-26T00:00:00Z"
          ],
          [
           "male",
           "France",
           "journalist",
           "no value",
           "1965-08-20T00:00:00Z"
          ],
          [
           "male",
           "United States of America",
           "golfer",
           "no value",
           "1993-07-27T00:00:00Z"
          ],
          [
           "male",
           "United States of America",
           "clerk",
           "no value",
           "1964-08-22T00:00:00Z"
          ],
          [
           "female",
           "India",
           "actor",
           "no value",
           "1988-03-23T00:00:00Z"
          ],
          [
           "male",
           "Australia",
           "rugby union player",
           "no value",
           "1967-03-04T00:00:00Z"
          ],
          [
           "male",
           "South Africa",
           "cricketer",
           "no value",
           "1984-02-17T00:00:00Z"
          ],
          [
           "male",
           "United States of America",
           "politician",
           "no value",
           "1965-10-06T00:00:00Z"
          ],
          [
           "male",
           "United States of America",
           "basketball player",
           "no value",
           "1990-03-04T00:00:00Z"
          ],
          [
           "male",
           "United Kingdom",
           "economist",
           "no value",
           "1947-01-01T00:00:00Z"
          ],
          [
           "male",
           "Ireland",
           "politician",
           "no value",
           "1972-06-16T00:00:00Z"
          ],
          [
           "male",
           "United States of America",
           "guitarist",
           "no value",
           "2000-01-01T00:00:00Z"
          ],
          [
           "male",
           "Canada",
           "ice hockey player",
           "no value",
           "1965-05-20T00:00:00Z"
          ],
          [
           "male",
           "United States of America",
           "politician",
           "no value",
           "1972-10-20T00:00:00Z"
          ],
          [
           "male",
           "United States of America",
           "manager",
           "no value",
           "1959-10-15T00:00:00Z"
          ],
          [
           "male",
           "United States of America",
           "baseball player",
           "no value",
           "1955-08-19T00:00:00Z"
          ],
          [
           "male",
           "United States of America",
           "sport cyclist",
           "no value",
           "1968-06-26T00:00:00Z"
          ],
          [
           "male",
           "United States of America",
           "film director",
           "no value",
           "1963-10-30T00:00:00Z"
          ],
          [
           "male",
           "United Kingdom",
           "figure skater",
           "no value",
           "1978-06-26T00:00:00Z"
          ],
          [
           "male",
           "United States of America",
           "American football player",
           "no value",
           "1958-03-19T00:00:00Z"
          ],
          [
           "male",
           "United States of America",
           "lawyer",
           "no value",
           "1946-02-13T00:00:00Z"
          ],
          [
           "male",
           "United States of America",
           "baseball player",
           "no value",
           "1975-07-31T00:00:00Z"
          ],
          [
           "female",
           "United States of America",
           "actor",
           "no value",
           "1981-08-04T00:00:00Z"
          ],
          [
           "male",
           "Belgium",
           "racing automobile driver",
           "no value",
           "1997-09-30T00:00:00Z"
          ],
          [
           "male",
           "United States of America",
           "baseball manager",
           "no value",
           "1956-07-27T00:00:00Z"
          ],
          [
           "male",
           "United States of America",
           "composer",
           "no value",
           "1959-09-21T00:00:00Z"
          ],
          [
           "male",
           "United States of America",
           "basketball coach",
           "no value",
           "1957-12-14T00:00:00Z"
          ],
          [
           "male",
           "United States of America",
           "American football player",
           "no value",
           "1963-12-29T00:00:00Z"
          ],
          [
           "male",
           "United States of America",
           "basketball player",
           "no value",
           "1954-11-05T00:00:00Z"
          ],
          [
           "male",
           "United States of America",
           "baseball player",
           "no value",
           "1963-11-28T00:00:00Z"
          ],
          [
           "male",
           "United States of America",
           "lawyer",
           "no value",
           "1977-05-13T00:00:00Z"
          ],
          [
           "male",
           "United States of America",
           "American football player",
           "no value",
           "1969-11-20T00:00:00Z"
          ],
          [
           "male",
           "Australia",
           "politician",
           "no value",
           "1973-10-31T00:00:00Z"
          ],
          [
           "male",
           "India",
           "politician",
           "no value",
           "1949-03-07T00:00:00Z"
          ],
          [
           "male",
           "Norway",
           "politician",
           "no value",
           "1948-02-02T00:00:00Z"
          ],
          [
           "male",
           "British India",
           "politician",
           "no value",
           "1939-09-15T00:00:00Z"
          ],
          [
           "male",
           "United States of America",
           "lawyer",
           "no value",
           "1965-02-12T00:00:00Z"
          ],
          [
           "male",
           "United Kingdom",
           "lawyer",
           "no value",
           "1967-05-12T00:00:00Z"
          ],
          [
           "male",
           "India",
           "military officer",
           "no value",
           "1958-03-16T00:00:00Z"
          ],
          [
           "female",
           "United Kingdom",
           "lawyer",
           "no value",
           "1970-07-17T00:00:00Z"
          ],
          [
           "male",
           "United States of America",
           "American football player",
           "no value",
           "1964-10-13T00:00:00Z"
          ],
          [
           "female",
           "United States of America",
           "actor",
           "no value",
           "1981-06-01T00:00:00Z"
          ],
          [
           "male",
           "British India",
           "politician",
           "no value",
           "1942-03-11T00:00:00Z"
          ],
          [
           "male",
           "United States of America",
           "American football player",
           "no value",
           "1959-02-05T00:00:00Z"
          ],
          [
           "male",
           "Russia",
           "politician",
           "no value",
           "1967-10-17T00:00:00Z"
          ],
          [
           "male",
           "India",
           "politician",
           "no value",
           "1969-06-26T00:00:00Z"
          ],
          [
           "male",
           "United States of America",
           "lobbyist",
           "Juris Doctor",
           "1967-06-17T00:00:00Z"
          ],
          [
           "male",
           "Australia",
           "lawyer",
           "no value",
           "1970-07-11T00:00:00Z"
          ],
          [
           "male",
           "New Zealand",
           "cricketer",
           "no value",
           "1990-08-08T00:00:00Z"
          ],
          [
           "male",
           "New Zealand",
           "lawyer",
           "no value",
           "1965-05-07T00:00:00Z"
          ],
          [
           "male",
           "France",
           "engineer",
           "no value",
           "1977-10-14T00:00:00Z"
          ],
          [
           "male",
           "United States of America",
           "politician",
           "no value",
           "1959-07-28T00:00:00Z"
          ],
          [
           "male",
           "United Kingdom",
           "association football player",
           "no value",
           "1967-09-23T00:00:00Z"
          ],
          [
           "male",
           "India",
           "politician",
           "no value",
           "1944-03-21T00:00:00Z"
          ],
          [
           "female",
           "United States of America",
           "author",
           "no value",
           "1985-11-30T00:00:00Z"
          ],
          [
           "male",
           "India",
           "lawyer",
           "no value",
           "1954-08-30T00:00:00Z"
          ],
          [
           "male",
           "United States of America",
           "politician",
           "no value",
           "1975-06-15T00:00:00Z"
          ],
          [
           "male",
           "India",
           "judge",
           "no value",
           "1953-10-03T00:00:00Z"
          ],
          [
           "female",
           "United States of America",
           "politician",
           "Bachelor of Arts",
           "1958-01-08T00:00:00Z"
          ],
          [
           "male",
           "United States of America",
           "American football player",
           "no value",
           "1972-04-27T00:00:00Z"
          ],
          [
           "male",
           "United States of America",
           "American football player",
           "no value",
           "1965-10-22T00:00:00Z"
          ],
          [
           "male",
           "United States of America",
           "lawyer",
           "Bachelor of Arts",
           "1957-02-09T00:00:00Z"
          ],
          [
           "male",
           "United States of America",
           "basketball coach",
           "no value",
           "1953-02-05T00:00:00Z"
          ],
          [
           "male",
           "United States of America",
           "lawyer",
           "no value",
           "1961-05-08T00:00:00Z"
          ],
          [
           "male",
           "United States of America",
           "basketball coach",
           "no value",
           "1960-03-18T00:00:00Z"
          ],
          [
           "male",
           "United Kingdom",
           "cricketer",
           "no value",
           "1986-09-10T00:00:00Z"
          ],
          [
           "male",
           "United States of America",
           "lawyer",
           "no value",
           "1962-04-25T00:00:00Z"
          ],
          [
           "male",
           "United States of America",
           "basketball player",
           "no value",
           "1955-01-30T00:00:00Z"
          ],
          [
           "male",
           "Malaysia",
           "politician",
           "no value",
           "1953-01-14T00:00:00Z"
          ],
          [
           "male",
           "United States of America",
           "American football player",
           "no value",
           "1952-10-03T00:00:00Z"
          ],
          [
           "male",
           "India",
           "politician",
           "no value",
           "1949-07-01T00:00:00Z"
          ],
          [
           "male",
           "United States of America",
           "actor",
           "no value",
           "1953-01-13T00:00:00Z"
          ],
          [
           "male",
           "United States of America",
           "baseball player",
           "no value",
           "1955-10-17T00:00:00Z"
          ],
          [
           "male",
           "India",
           "politician",
           "no value",
           "1959-02-24T00:00:00Z"
          ],
          [
           "male",
           "United States of America",
           "businessperson",
           "no value",
           "1964-05-28T00:00:00Z"
          ],
          [
           "male",
           "United Kingdom",
           "association football player",
           "no value",
           "1975-06-25T00:00:00Z"
          ],
          [
           "male",
           "Nigeria",
           "politician",
           "no value",
           "1962-12-19T00:00:00Z"
          ],
          [
           "male",
           "India",
           "spokesperson",
           "no value",
           "1952-12-28T00:00:00Z"
          ],
          [
           "male",
           "United States of America",
           "American football player",
           "no value",
           "1978-01-13T00:00:00Z"
          ],
          [
           "male",
           "Australia",
           "politician",
           "no value",
           "1968-01-27T00:00:00Z"
          ],
          [
           "male",
           "no value",
           "editor",
           "no value",
           "no value"
          ],
          [
           "male",
           "New Zealand",
           "politician",
           "no value",
           "1961-12-30T00:00:00Z"
          ],
          [
           "male",
           "no value",
           "Australian rules football player",
           "no value",
           "1942-10-21T00:00:00Z"
          ],
          [
           "male",
           "India",
           "politician",
           "no value",
           "1972-06-05T00:00:00Z"
          ],
          [
           "male",
           "India",
           "politician",
           "no value",
           "1960-07-27T00:00:00Z"
          ],
          [
           "male",
           "United States of America",
           "American football player",
           "no value",
           "1965-04-14T00:00:00Z"
          ],
          [
           "male",
           "British India",
           "cricketer",
           "no value",
           "1945-04-28T00:00:00Z"
          ],
          [
           "male",
           "United States of America",
           "basketball player",
           "no value",
           "1961-12-24T00:00:00Z"
          ],
          [
           "male",
           "United States of America",
           "American football player",
           "no value",
           "1968-12-21T00:00:00Z"
          ],
          [
           "female",
           "Australia",
           "solicitor",
           "no value",
           "1969-07-25T00:00:00Z"
          ],
          [
           "male",
           "United States of America",
           "American football player",
           "no value",
           "1968-01-17T00:00:00Z"
          ],
          [
           "male",
           "Ireland",
           "boxer",
           "no value",
           "1988-07-14T00:00:00Z"
          ],
          [
           "male",
           "United States of America",
           "head coach",
           "no value",
           "1970-01-13T00:00:00Z"
          ],
          [
           "male",
           "United States of America",
           "coach",
           "no value",
           "1977-07-09T00:00:00Z"
          ],
          [
           "male",
           "Australia",
           "politician",
           "no value",
           "1972-06-06T00:00:00Z"
          ],
          [
           "female",
           "Canada",
           "politician",
           "no value",
           "1968-08-02T00:00:00Z"
          ],
          [
           "male",
           "Australia",
           "tennis player",
           "no value",
           "1995-04-27T00:00:00Z"
          ],
          [
           "male",
           "Italy",
           "association football player",
           "no value",
           "1959-01-10T00:00:00Z"
          ],
          [
           "male",
           "United States of America",
           "actor",
           "no value",
           "no value"
          ],
          [
           "female",
           "New Zealand",
           "politician",
           "no value",
           "1980-07-26T00:00:00Z"
          ],
          [
           "male",
           "New Zealand",
           "cricketer",
           "no value",
           "1986-11-17T00:00:00Z"
          ],
          [
           "female",
           "Italy",
           "politician",
           "no value",
           "1973-06-16T00:00:00Z"
          ],
          [
           "male",
           "United States of America",
           "politician",
           "no value",
           "1954-09-24T00:00:00Z"
          ],
          [
           "male",
           "United States of America",
           "association football player",
           "no value",
           "1962-08-18T00:00:00Z"
          ],
          [
           "male",
           "United Kingdom",
           "politician",
           "no value",
           "1929-01-25T00:00:00Z"
          ],
          [
           "male",
           "United States of America",
           "American football player",
           "no value",
           "1961-08-15T00:00:00Z"
          ],
          [
           "male",
           "India",
           "politician",
           "no value",
           "1950-09-11T00:00:00Z"
          ],
          [
           "male",
           "Australia",
           "cricketer",
           "no value",
           "1970-02-05T00:00:00Z"
          ],
          [
           "male",
           "Australia",
           "politician",
           "no value",
           "1967-04-17T00:00:00Z"
          ],
          [
           "female",
           "Canada",
           "politician",
           "no value",
           "1953-05-21T00:00:00Z"
          ],
          [
           "male",
           "Australia",
           "barrister",
           "no value",
           "1967-01-01T00:00:00Z"
          ],
          [
           "male",
           "Australia",
           "cricketer",
           "no value",
           "1962-12-21T00:00:00Z"
          ],
          [
           "male",
           "Canada",
           "ice hockey player",
           "no value",
           "1968-07-30T00:00:00Z"
          ],
          [
           "male",
           "United States of America",
           "coach",
           "no value",
           "1978-03-29T00:00:00Z"
          ],
          [
           "female",
           "United States of America",
           "lawyer",
           "no value",
           "1967-01-20T00:00:00Z"
          ],
          [
           "male",
           "United States of America",
           "lawyer",
           "no value",
           "1968-05-09T00:00:00Z"
          ],
          [
           "male",
           "United Kingdom",
           "barrister",
           "no value",
           "1962-09-02T00:00:00Z"
          ],
          [
           "male",
           "United States of America",
           "American football player",
           "no value",
           "1986-01-24T00:00:00Z"
          ],
          [
           "male",
           "United States of America",
           "journalist",
           "no value",
           "1975-01-22T00:00:00Z"
          ],
          [
           "male",
           "United States of America",
           "American football player",
           "no value",
           "1962-03-01T00:00:00Z"
          ],
          [
           "male",
           "United States of America",
           "politician",
           "no value",
           "1937-11-28T00:00:00Z"
          ],
          [
           "male",
           "United States of America",
           "American football player",
           "no value",
           "1955-08-01T00:00:00Z"
          ],
          [
           "female",
           "United States of America",
           "lawyer",
           "Bachelor of Arts",
           "1964-10-20T00:00:00Z"
          ],
          [
           "male",
           "India",
           "politician",
           "no value",
           "1969-02-01T00:00:00Z"
          ],
          [
           "male",
           "India",
           "politician",
           "no value",
           "1961-11-15T00:00:00Z"
          ],
          [
           "male",
           "United States of America",
           "American football player",
           "no value",
           "1960-02-18T00:00:00Z"
          ],
          [
           "male",
           "Philippines",
           "radio personality",
           "no value",
           "1974-08-21T00:00:00Z"
          ],
          [
           "male",
           "United States of America",
           "entrepreneur",
           "no value",
           "1971-11-07T00:00:00Z"
          ],
          [
           "male",
           "United States of America",
           "lawyer",
           "no value",
           "1961-10-07T00:00:00Z"
          ],
          [
           "male",
           "Israel",
           "association football player",
           "no value",
           "1988-07-29T00:00:00Z"
          ],
          [
           "male",
           "United Kingdom",
           "composer",
           "no value",
           "1962-01-01T00:00:00Z"
          ],
          [
           "female",
           "Philippines",
           "lawyer",
           "no value",
           "1964-04-23T00:00:00Z"
          ],
          [
           "male",
           "South Africa",
           "television presenter",
           "no value",
           "1984-02-20T00:00:00Z"
          ],
          [
           "male",
           "United States of America",
           "American football player",
           "no value",
           "1972-09-20T00:00:00Z"
          ],
          [
           "male",
           "United States of America",
           "baseball player",
           "no value",
           "1967-06-04T00:00:00Z"
          ],
          [
           "male",
           "United States of America",
           "American football player",
           "no value",
           "1958-08-14T00:00:00Z"
          ],
          [
           "male",
           "United Kingdom",
           "association football player",
           "no value",
           "1964-12-16T00:00:00Z"
          ],
          [
           "male",
           "Philippines",
           "basketball player",
           "no value",
           "1959-03-19T00:00:00Z"
          ],
          [
           "female",
           "India",
           "lawyer",
           "no value",
           "1959-05-22T00:00:00Z"
          ],
          [
           "male",
           "India",
           "politician",
           "no value",
           "1957-10-15T00:00:00Z"
          ],
          [
           "male",
           "Australia",
           "Australian rules football player",
           "no value",
           "1970-12-31T00:00:00Z"
          ],
          [
           "male",
           "United States of America",
           "military officer",
           "no value",
           "1947-11-22T00:00:00Z"
          ],
          [
           "male",
           "United States of America",
           "baseball player",
           "no value",
           "1961-12-25T00:00:00Z"
          ],
          [
           "male",
           "United States of America",
           "coach",
           "no value",
           "1974-09-13T00:00:00Z"
          ],
          [
           "male",
           "India",
           "politician",
           "no value",
           "1952-08-12T00:00:00Z"
          ],
          [
           "male",
           "United States of America",
           "American football player",
           "no value",
           "1978-04-24T00:00:00Z"
          ],
          [
           "male",
           "United States of America",
           "American football player",
           "no value",
           "1971-08-03T00:00:00Z"
          ],
          [
           "male",
           "United States of America",
           "lawyer",
           "no value",
           "1962-12-23T00:00:00Z"
          ],
          [
           "male",
           "Australia",
           "politician",
           "no value",
           "1974-06-14T00:00:00Z"
          ],
          [
           "male",
           "United States of America",
           "entrepreneur",
           "no value",
           "1960-10-08T00:00:00Z"
          ],
          [
           "male",
           "United States of America",
           "association football player",
           "no value",
           "1979-06-23T00:00:00Z"
          ],
          [
           "male",
           "South Africa",
           "politician",
           "no value",
           "1980-06-06T00:00:00Z"
          ],
          [
           "male",
           "India",
           "politician",
           "no value",
           "1964-06-13T00:00:00Z"
          ],
          [
           "male",
           "Australia",
           "Australian rules football player",
           "no value",
           "1972-07-26T00:00:00Z"
          ],
          [
           "male",
           "United States of America",
           "computer scientist",
           "no value",
           "1967-08-19T00:00:00Z"
          ],
          [
           "female",
           "Canada",
           "lawyer",
           "no value",
           "1964-04-17T00:00:00Z"
          ],
          [
           "male",
           "Australia",
           "politician",
           "no value",
           "1970-02-11T00:00:00Z"
          ],
          [
           "male",
           "New Zealand",
           "lawyer",
           "no value",
           "1976-10-01T00:00:00Z"
          ],
          [
           "male",
           "United Kingdom",
           "association football player",
           "no value",
           "1964-07-03T00:00:00Z"
          ],
          [
           "male",
           "Italy",
           "engineer",
           "no value",
           "1965-04-07T00:00:00Z"
          ],
          [
           "male",
           "United States of America",
           "politician",
           "no value",
           "1959-09-13T00:00:00Z"
          ],
          [
           "male",
           "United States of America",
           "lawyer",
           "no value",
           "1966-09-16T00:00:00Z"
          ],
          [
           "male",
           "India",
           "politician",
           "no value",
           "1967-06-03T00:00:00Z"
          ],
          [
           "male",
           "Australia",
           "politician",
           "no value",
           "1971-07-17T00:00:00Z"
          ],
          [
           "male",
           "India",
           "member of parliament",
           "no value",
           "1954-11-18T00:00:00Z"
          ],
          [
           "male",
           "India",
           "politician",
           "no value",
           "1971-11-19T00:00:00Z"
          ],
          [
           "male",
           "United States of America",
           "head coach",
           "no value",
           "1975-12-23T00:00:00Z"
          ],
          [
           "male",
           "United States of America",
           "baseball coach",
           "no value",
           "1965-07-25T00:00:00Z"
          ],
          [
           "male",
           "United States of America",
           "American football player",
           "no value",
           "1956-06-05T00:00:00Z"
          ],
          [
           "male",
           "United States of America",
           "sports agent",
           "no value",
           "1971-03-20T00:00:00Z"
          ],
          [
           "male",
           "Australia",
           "association football player",
           "no value",
           "1984-08-02T00:00:00Z"
          ],
          [
           "male",
           "India",
           "politician",
           "no value",
           "1962-10-31T00:00:00Z"
          ],
          [
           "male",
           "United States of America",
           "politician",
           "no value",
           "1965-01-19T00:00:00Z"
          ],
          [
           "male",
           "United States of America",
           "baseball player",
           "no value",
           "1957-08-29T00:00:00Z"
          ],
          [
           "male",
           "United States of America",
           "head coach",
           "no value",
           "1956-03-09T00:00:00Z"
          ],
          [
           "male",
           "United States of America",
           "lawyer",
           "no value",
           "1955-02-10T00:00:00Z"
          ],
          [
           "male",
           "India",
           "politician",
           "no value",
           "1965-04-22T00:00:00Z"
          ],
          [
           "male",
           "India",
           "spokesperson",
           "no value",
           "1951-01-30T00:00:00Z"
          ],
          [
           "male",
           "India",
           "singer",
           "no value",
           "1971-02-01T00:00:00Z"
          ],
          [
           "male",
           "Ireland",
           "association football player",
           "no value",
           "1965-03-26T00:00:00Z"
          ],
          [
           "male",
           "United Kingdom",
           "association football player",
           "no value",
           "1981-03-24T00:00:00Z"
          ],
          [
           "male",
           "United States of America",
           "American football player",
           "no value",
           "1974-03-21T00:00:00Z"
          ],
          [
           "male",
           "United States of America",
           "American football player",
           "no value",
           "1967-03-04T00:00:00Z"
          ],
          [
           "male",
           "India",
           "politician",
           "no value",
           "1965-12-08T00:00:00Z"
          ],
          [
           "male",
           "United States of America",
           "baseball player",
           "no value",
           "1965-01-15T00:00:00Z"
          ],
          [
           "male",
           "Australia",
           "politician",
           "no value",
           "1971-11-14T00:00:00Z"
          ],
          [
           "female",
           "India",
           "actor",
           "no value",
           "1976-03-23T00:00:00Z"
          ],
          [
           "male",
           "United States of America",
           "American football player",
           "no value",
           "1979-12-14T00:00:00Z"
          ],
          [
           "male",
           "Iran",
           "politician",
           "Doktor Nauk in Philosophy",
           "1960-01-07T00:00:00Z"
          ],
          [
           "male",
           "United Kingdom",
           "association football player",
           "no value",
           "1984-11-21T00:00:00Z"
          ],
          [
           "male",
           "Barbados",
           "cricketer",
           "no value",
           "1991-11-05T00:00:00Z"
          ],
          [
           "male",
           "United States of America",
           "lawyer",
           "no value",
           "1957-09-11T00:00:00Z"
          ],
          [
           "male",
           "United Kingdom",
           "association football player",
           "no value",
           "1974-12-10T00:00:00Z"
          ],
          [
           "male",
           "United Kingdom",
           "association football player",
           "no value",
           "1945-09-09T00:00:00Z"
          ],
          [
           "male",
           "no value",
           "Australian rules football player",
           "no value",
           "1961-01-17T00:00:00Z"
          ],
          [
           "male",
           "United States of America",
           "politician",
           "no value",
           "1982-01-19T00:00:00Z"
          ],
          [
           "male",
           "United States of America",
           "lawyer",
           "no value",
           "1953-02-04T00:00:00Z"
          ],
          [
           "male",
           "Ghana",
           "politician",
           "no value",
           "1963-10-07T00:00:00Z"
          ],
          [
           "male",
           "Australia",
           "politician",
           "no value",
           "1970-11-18T00:00:00Z"
          ],
          [
           "female",
           "United States of America",
           "politician",
           "no value",
           "1959-08-04T00:00:00Z"
          ],
          [
           "male",
           "United States of America",
           "ice hockey player",
           "no value",
           "1973-12-10T00:00:00Z"
          ],
          [
           "male",
           "United States of America",
           "politician",
           "no value",
           "1961-11-01T00:00:00Z"
          ],
          [
           "male",
           "United States of America",
           "American football player",
           "no value",
           "1967-08-12T00:00:00Z"
          ],
          [
           "male",
           "Australia",
           "cricketer",
           "no value",
           "1984-12-08T00:00:00Z"
          ],
          [
           "male",
           "no value",
           "economist",
           "no value",
           "no value"
          ],
          [
           "male",
           "Australia",
           "economist",
           "no value",
           "1950-01-01T00:00:00Z"
          ],
          [
           "male",
           "United States of America",
           "politician",
           "no value",
           "1974-11-05T00:00:00Z"
          ],
          [
           "male",
           "United States of America",
           "American football player",
           "no value",
           "1992-11-05T00:00:00Z"
          ],
          [
           "male",
           "United States of America",
           "actor",
           "no value",
           "1957-02-18T00:00:00Z"
          ],
          [
           "male",
           "no value",
           "politician",
           "no value",
           "no value"
          ],
          [
           "male",
           "United Kingdom",
           "military chaplain",
           "no value",
           "1968-05-16T00:00:00Z"
          ],
          [
           "male",
           "United Kingdom",
           "darts player",
           "no value",
           "1972-01-07T00:00:00Z"
          ],
          [
           "male",
           "United Kingdom",
           "television presenter",
           "no value",
           "1969-12-11T00:00:00Z"
          ],
          [
           "male",
           "Canada",
           "coach",
           "no value",
           "1967-08-23T00:00:00Z"
          ],
          [
           "male",
           "United Kingdom",
           "cricketer",
           "no value",
           "1948-10-03T00:00:00Z"
          ],
          [
           "male",
           "no value",
           "baseball player",
           "no value",
           "1938-12-18T00:00:00Z"
          ],
          [
           "male",
           "Australia",
           "boxer",
           "no value",
           "1962-02-17T00:00:00Z"
          ],
          [
           "male",
           "United Kingdom",
           "athletics competitor",
           "no value",
           "1967-10-17T00:00:00Z"
          ],
          [
           "male",
           "United Kingdom",
           "engineer",
           "no value",
           "1963-06-30T00:00:00Z"
          ],
          [
           "male",
           "United States of America",
           "politician",
           "Bachelor of Arts",
           "1967-04-10T00:00:00Z"
          ],
          [
           "male",
           "New Zealand",
           "film director",
           "no value",
           "1971-05-10T00:00:00Z"
          ],
          [
           "male",
           "Australia",
           "politician",
           "no value",
           "1973-03-28T00:00:00Z"
          ],
          [
           "male",
           "United States of America",
           "songwriter",
           "no value",
           "1950-03-08T00:00:00Z"
          ],
          [
           "male",
           "United Kingdom",
           "curate",
           "no value",
           "1934-10-04T00:00:00Z"
          ],
          [
           "male",
           "Trinidad and Tobago",
           "association football player",
           "no value",
           "1987-04-08T00:00:00Z"
          ],
          [
           "male",
           "United States of America",
           "singer",
           "no value",
           "1964-03-16T00:00:00Z"
          ],
          [
           "male",
           "United States of America",
           "politician",
           "no value",
           "1945-03-05T00:00:00Z"
          ],
          [
           "male",
           "Australia",
           "volleyball player",
           "no value",
           "1979-01-27T00:00:00Z"
          ],
          [
           "male",
           "United States of America",
           "screenwriter",
           "no value",
           "1953-11-27T00:00:00Z"
          ],
          [
           "female",
           "Australia",
           "politician",
           "no value",
           "1972-04-25T00:00:00Z"
          ],
          [
           "male",
           "no value",
           "actor",
           "no value",
           "1986-01-01T00:00:00Z"
          ],
          [
           "male",
           "United States of America",
           "American football player",
           "no value",
           "1968-12-09T00:00:00Z"
          ],
          [
           "male",
           "Ireland",
           "hurler",
           "no value",
           "1950-05-25T00:00:00Z"
          ],
          [
           "male",
           "United States of America",
           "singer",
           "no value",
           "1993-04-16T00:00:00Z"
          ],
          [
           "male",
           "Australia",
           "politician",
           "no value",
           "1967-07-13T00:00:00Z"
          ],
          [
           "male",
           "United States of America",
           "politician",
           "no value",
           "1972-02-22T00:00:00Z"
          ],
          [
           "male",
           "United Kingdom",
           "politician",
           "no value",
           "1943-12-02T00:00:00Z"
          ],
          [
           "male",
           "United Kingdom",
           "canoeist",
           "no value",
           "1969-11-15T00:00:00Z"
          ],
          [
           "male",
           "United States of America",
           "politician",
           "no value",
           "1936-01-01T00:00:00Z"
          ],
          [
           "male",
           "United States of America",
           "jazz guitarist",
           "no value",
           "1953-01-01T00:00:00Z"
          ],
          [
           "male",
           "Australia",
           "businessperson",
           "no value",
           "2000-01-01T00:00:00Z"
          ],
          [
           "male",
           "United States of America",
           "politician",
           "no value",
           "1956-06-29T00:00:00Z"
          ],
          [
           "male",
           "Denmark",
           "association football player",
           "no value",
           "1976-04-14T00:00:00Z"
          ],
          [
           "male",
           "United States of America",
           "politician",
           "no value",
           "1970-03-15T00:00:00Z"
          ],
          [
           "male",
           "United States of America",
           "ski jumper",
           "no value",
           "2000-01-01T00:00:00Z"
          ],
          [
           "male",
           "Australia",
           "rugby league player",
           "no value",
           "1993-03-01T00:00:00Z"
          ],
          [
           "male",
           "Jamaica",
           "singer",
           "no value",
           "1943-12-07T00:00:00Z"
          ],
          [
           "male",
           "Australia",
           "Australian rules football player",
           "no value",
           "1928-12-29T00:00:00Z"
          ],
          [
           "male",
           "United States of America",
           "actor",
           "no value",
           "1947-09-28T00:00:00Z"
          ],
          [
           "male",
           "United Kingdom",
           "canoeist",
           "no value",
           "no value"
          ],
          [
           "male",
           "United States of America",
           "American football player",
           "no value",
           "1946-04-24T00:00:00Z"
          ],
          [
           "male",
           "United States of America",
           "author",
           "no value",
           "1954-09-13T00:00:00Z"
          ],
          [
           "male",
           "Philippines",
           "basketball player",
           "no value",
           "1958-03-14T00:00:00Z"
          ],
          [
           "male",
           "Ethiopia",
           "politician",
           "no value",
           "1965-03-03T00:00:00Z"
          ],
          [
           "male",
           "United Kingdom",
           "association football player",
           "no value",
           "1966-10-27T00:00:00Z"
          ],
          [
           "male",
           "Australia",
           "lawyer",
           "no value",
           "1966-09-30T00:00:00Z"
          ],
          [
           "male",
           "United States of America",
           "politician",
           "no value",
           "1957-01-15T00:00:00Z"
          ],
          [
           "male",
           "Canada",
           "lawyer",
           "no value",
           "1964-01-01T00:00:00Z"
          ],
          [
           "male",
           "United Kingdom",
           "graphic designer",
           "no value",
           "1964-04-26T00:00:00Z"
          ],
          [
           "male",
           "United States of America",
           "ice hockey player",
           "no value",
           "1939-12-27T00:00:00Z"
          ],
          [
           "male",
           "United Kingdom",
           "painter",
           "no value",
           "1949-03-09T00:00:00Z"
          ],
          [
           "male",
           "United States of America",
           "basketball player",
           "no value",
           "1981-07-28T00:00:00Z"
          ],
          [
           "male",
           "Nigeria",
           "politician",
           "no value",
           "1963-06-14T00:00:00Z"
          ],
          [
           "male",
           "United States of America",
           "American football player",
           "no value",
           "1995-03-14T00:00:00Z"
          ],
          [
           "male",
           "United Kingdom",
           "hurdler",
           "no value",
           "1933-05-24T00:00:00Z"
          ],
          [
           "non-binary",
           "United Kingdom",
           "singer",
           "no value",
           "1992-05-19T00:00:00Z"
          ],
          [
           "male",
           "United Kingdom",
           "biathlete",
           "no value",
           "1970-02-17T00:00:00Z"
          ],
          [
           "male",
           "United States of America",
           "American football player",
           "no value",
           "1972-02-02T00:00:00Z"
          ],
          [
           "male",
           "United States of America",
           "baseball player",
           "no value",
           "1990-08-29T00:00:00Z"
          ],
          [
           "male",
           "Australia",
           "rugby league player",
           "no value",
           "1978-07-02T00:00:00Z"
          ],
          [
           "male",
           "United Kingdom",
           "association football player",
           "no value",
           "1962-09-06T00:00:00Z"
          ],
          [
           "male",
           "United States of America",
           "basketball player",
           "no value",
           "1990-09-09T00:00:00Z"
          ],
          [
           "male",
           "no value",
           "record producer",
           "no value",
           "1953-01-01T00:00:00Z"
          ],
          [
           "male",
           "no value",
           "American football player",
           "no value",
           "1969-08-25T00:00:00Z"
          ],
          [
           "male",
           "United Kingdom",
           "swimmer",
           "no value",
           "1960-09-24T00:00:00Z"
          ],
          [
           "male",
           "no value",
           "chief executive officer",
           "no value",
           "1957-01-01T00:00:00Z"
          ],
          [
           "male",
           "India",
           "politician",
           "no value",
           "1954-12-13T00:00:00Z"
          ],
          [
           "male",
           "no value",
           "American football player",
           "no value",
           "1972-06-24T00:00:00Z"
          ],
          [
           "female",
           "United States of America",
           "politician",
           "no value",
           "1970-07-01T00:00:00Z"
          ],
          [
           "male",
           "United States of America",
           "American football player",
           "no value",
           "1990-04-09T00:00:00Z"
          ],
          [
           "male",
           "United States of America",
           "songwriter",
           "no value",
           "1977-05-25T00:00:00Z"
          ],
          [
           "male",
           "United States of America",
           "American football player",
           "no value",
           "1967-12-22T00:00:00Z"
          ],
          [
           "male",
           "no value",
           "urban planner",
           "no value",
           "1962-04-13T00:00:00Z"
          ],
          [
           "male",
           "United States of America",
           "musician",
           "no value",
           "1952-12-19T00:00:00Z"
          ],
          [
           "male",
           "no value",
           "Gaelic football player",
           "no value",
           "no value"
          ],
          [
           "male",
           "United States of America",
           "American football player",
           "no value",
           "1978-01-21T00:00:00Z"
          ],
          [
           "male",
           "United Kingdom",
           "comedian",
           "no value",
           "1967-01-07T00:00:00Z"
          ],
          [
           "male",
           "Australia",
           "association football player",
           "no value",
           "1994-04-09T00:00:00Z"
          ],
          [
           "male",
           "United States of America",
           "jazz guitarist",
           "no value",
           "no value"
          ],
          [
           "male",
           "United Kingdom",
           "chef",
           "no value",
           "1976-12-01T00:00:00Z"
          ],
          [
           "male",
           "United States of America",
           "American football player",
           "no value",
           "1965-10-09T00:00:00Z"
          ],
          [
           "male",
           "United States of America",
           "golfer",
           "no value",
           "1967-04-25T00:00:00Z"
          ],
          [
           "male",
           "Australia",
           "businessperson",
           "no value",
           "1974-09-07T00:00:00Z"
          ],
          [
           "male",
           "United Kingdom",
           "composer",
           "no value",
           "1971-09-21T00:00:00Z"
          ],
          [
           "male",
           "United Kingdom",
           "creative director",
           "no value",
           "1955-01-11T00:00:00Z"
          ],
          [
           "male",
           "United States of America",
           "artist",
           "no value",
           "1951-10-12T00:00:00Z"
          ],
          [
           "male",
           "no value",
           "mathematician",
           "no value",
           "no value"
          ],
          [
           "male",
           "Australia",
           "politician",
           "no value",
           "1980-12-17T00:00:00Z"
          ],
          [
           "male",
           "no value",
           "head coach",
           "no value",
           "1965-06-08T00:00:00Z"
          ],
          [
           "male",
           "United States of America",
           "American football player",
           "no value",
           "1960-09-22T00:00:00Z"
          ],
          [
           "male",
           "United States of America",
           "baseball player",
           "no value",
           "1969-07-29T00:00:00Z"
          ],
          [
           "female",
           "United States of America",
           "lawyer",
           "bachelor's degree",
           "1949-06-22T00:00:00Z"
          ],
          [
           "male",
           "United States of America",
           "lawyer",
           "no value",
           "1944-11-21T00:00:00Z"
          ],
          [
           "male",
           "United States of America",
           "missionary",
           "no value",
           "1952-07-14T00:00:00Z"
          ],
          [
           "male",
           "India",
           "cricketer",
           "no value",
           "1962-05-27T00:00:00Z"
          ],
          [
           "male",
           "no value",
           "American football player",
           "no value",
           "no value"
          ],
          [
           "transgender female",
           "Australia",
           "mathematician",
           "Doctor of Philosophy",
           "1972-10-28T00:00:00Z"
          ],
          [
           "male",
           "United Kingdom",
           "association football player",
           "no value",
           "1986-12-09T00:00:00Z"
          ],
          [
           "male",
           "United States of America",
           "lawyer",
           "no value",
           "1957-11-13T00:00:00Z"
          ],
          [
           "male",
           "British India",
           "politician",
           "no value",
           "1937-10-21T00:00:00Z"
          ],
          [
           "male",
           "Australia",
           "songwriter",
           "no value",
           "no value"
          ],
          [
           "male",
           "Israel",
           "lawyer",
           "no value",
           "1939-09-09T00:00:00Z"
          ],
          [
           "male",
           "United States of America",
           "climate activist",
           "Bachelor of Arts",
           "1971-02-04T00:00:00Z"
          ],
          [
           "male",
           "no value",
           "basketball player",
           "no value",
           "1983-07-11T00:00:00Z"
          ],
          [
           "female",
           "United States of America",
           "spokesperson",
           "no value",
           "1970-01-27T00:00:00Z"
          ],
          [
           "male",
           "Australia",
           "politician",
           "no value",
           "1965-11-18T00:00:00Z"
          ],
          [
           "male",
           "United States of America",
           "basketball player",
           "no value",
           "1970-11-01T00:00:00Z"
          ],
          [
           "female",
           "Australia",
           "politician",
           "no value",
           "1970-09-22T00:00:00Z"
          ],
          [
           "male",
           "United Kingdom",
           "mechanical engineer",
           "no value",
           "1962-06-28T00:00:00Z"
          ],
          [
           "female",
           "Australia",
           "lawyer",
           "no value",
           "1956-07-17T00:00:00Z"
          ],
          [
           "male",
           "United States of America",
           "computer scientist",
           "no value",
           "1972-07-12T00:00:00Z"
          ],
          [
           "male",
           "United States of America",
           "lawyer",
           "no value",
           "1952-12-01T00:00:00Z"
          ],
          [
           "male",
           "United States of America",
           "American football player",
           "no value",
           "1965-10-28T00:00:00Z"
          ],
          [
           "male",
           "United States of America",
           "American football player",
           "no value",
           "1961-12-04T00:00:00Z"
          ],
          [
           "male",
           "United States of America",
           "basketball coach",
           "no value",
           "1947-02-13T00:00:00Z"
          ],
          [
           "male",
           "India",
           "politician",
           "no value",
           "1951-07-10T00:00:00Z"
          ],
          [
           "male",
           "Singapore",
           "politician",
           "no value",
           "1961-11-01T00:00:00Z"
          ],
          [
           "male",
           "United States of America",
           "American football player",
           "no value",
           "1968-01-31T00:00:00Z"
          ],
          [
           "male",
           "United States of America",
           "coach",
           "no value",
           "1961-07-27T00:00:00Z"
          ],
          [
           "male",
           "no value",
           "no value",
           "no value",
           "1963-01-01T00:00:00Z"
          ],
          [
           "female",
           "United States of America",
           "lawyer",
           "Juris Doctor",
           "1971-08-23T00:00:00Z"
          ],
          [
           "male",
           "United States of America",
           "American football player",
           "no value",
           "1964-07-10T00:00:00Z"
          ],
          [
           "male",
           "United States of America",
           "politician",
           "no value",
           "1964-04-09T00:00:00Z"
          ],
          [
           "male",
           "United Kingdom",
           "politician",
           "no value",
           "1951-08-22T00:00:00Z"
          ],
          [
           "male",
           "Argentina",
           "writer",
           "Doctor of Theology",
           "1936-12-17T00:00:00Z"
          ],
          [
           "male",
           "United Kingdom",
           "association football player",
           "no value",
           "1974-03-06T00:00:00Z"
          ],
          [
           "male",
           "Malaysia",
           "squash player",
           "no value",
           "1994-04-23T00:00:00Z"
          ],
          [
           "male",
           "Malaysia",
           "politician",
           "no value",
           "1976-01-10T00:00:00Z"
          ],
          [
           "male",
           "United States of America",
           "American football player",
           "no value",
           "1963-11-18T00:00:00Z"
          ],
          [
           "male",
           "no value",
           "physicist",
           "no value",
           "1925-01-01T00:00:00Z"
          ],
          [
           "male",
           "no value",
           "no value",
           "no value",
           "no value"
          ],
          [
           "male",
           "India",
           "politician",
           "Master of Arts",
           "1950-04-20T00:00:00Z"
          ],
          [
           "male",
           "United Kingdom",
           "athletics competitor",
           "no value",
           "1980-02-28T00:00:00Z"
          ],
          [
           "male",
           "United States of America",
           "politician",
           "no value",
           "1946-04-05T00:00:00Z"
          ],
          [
           "male",
           "France",
           "politician",
           "no value",
           "1951-01-09T00:00:00Z"
          ],
          [
           "male",
           "United States of America",
           "American football player",
           "no value",
           "1979-08-09T00:00:00Z"
          ],
          [
           "male",
           "United Kingdom",
           "association football player",
           "no value",
           "1971-06-25T00:00:00Z"
          ],
          [
           "female",
           "United States of America",
           "lawyer",
           "political science",
           "1962-08-04T00:00:00Z"
          ],
          [
           "male",
           "Canada",
           "environmentalist",
           "no value",
           "1941-01-01T00:00:00Z"
          ],
          [
           "male",
           "United Kingdom",
           "association football player",
           "no value",
           "1977-11-29T00:00:00Z"
          ],
          [
           "male",
           "no value",
           "rugby league player",
           "no value",
           "1993-09-28T00:00:00Z"
          ],
          [
           "male",
           "India",
           "politician",
           "no value",
           "1957-05-27T00:00:00Z"
          ],
          [
           "male",
           "no value",
           "basketball player",
           "no value",
           "1989-03-28T00:00:00Z"
          ],
          [
           "male",
           "United States of America",
           "American football player",
           "no value",
           "1964-11-23T00:00:00Z"
          ],
          [
           "male",
           "India",
           "diplomat",
           "no value",
           "1971-01-26T00:00:00Z"
          ],
          [
           "male",
           "India",
           "cricketer",
           "no value",
           "1965-10-12T00:00:00Z"
          ],
          [
           "male",
           "India",
           "politician",
           "no value",
           "1964-08-01T00:00:00Z"
          ],
          [
           "male",
           "United States of America",
           "lawyer",
           "no value",
           "1954-09-27T00:00:00Z"
          ],
          [
           "male",
           "New Zealand",
           "cricketer",
           "no value",
           "1991-01-07T00:00:00Z"
          ],
          [
           "female",
           "United States of America",
           "educational strategist",
           "no value",
           "1989-10-13T00:00:00Z"
          ],
          [
           "male",
           "no value",
           "radio personality",
           "no value",
           "no value"
          ],
          [
           "male",
           "no value",
           "actor",
           "no value",
           "no value"
          ],
          [
           "male",
           "Australia",
           "politician",
           "no value",
           "1960-04-12T00:00:00Z"
          ],
          [
           "male",
           "no value",
           "politician",
           "no value",
           "1941-07-04T00:00:00Z"
          ],
          [
           "male",
           "Australia",
           "politician",
           "no value",
           "1984-09-04T00:00:00Z"
          ],
          [
           "female",
           "no value",
           "painter",
           "no value",
           "1980-01-01T00:00:00Z"
          ],
          [
           "no value",
           "no value",
           "no value",
           "no value",
           "no value"
          ],
          [
           "male",
           "Denmark",
           "philosopher",
           "no value",
           "1961-01-01T00:00:00Z"
          ],
          [
           "female",
           "no value",
           "cricketer",
           "no value",
           "1942-04-21T00:00:00Z"
          ],
          [
           "male",
           "Pakistan",
           "politician",
           "no value",
           "1962-11-08T00:00:00Z"
          ],
          [
           "male",
           "The Bahamas",
           "politician",
           "no value",
           "1954-04-16T00:00:00Z"
          ],
          [
           "male",
           "United Kingdom",
           "actor",
           "no value",
           "1992-06-22T00:00:00Z"
          ],
          [
           "male",
           "no value",
           "researcher",
           "no value",
           "1968-10-07T00:00:00Z"
          ],
          [
           "male",
           "India",
           "politician",
           "no value",
           "1954-05-05T00:00:00Z"
          ],
          [
           "male",
           "United States of America",
           "politician",
           "no value",
           "1972-06-11T00:00:00Z"
          ],
          [
           "male",
           "no value",
           "researcher",
           "no value",
           "no value"
          ],
          [
           "male",
           "India",
           "film director",
           "no value",
           "no value"
          ],
          [
           "male",
           "no value",
           "racing automobile driver",
           "no value",
           "1995-02-17T00:00:00Z"
          ],
          [
           "male",
           "no value",
           "no value",
           "no value",
           "no value"
          ],
          [
           "male",
           "United States of America",
           "rower",
           "no value",
           "1979-05-29T00:00:00Z"
          ],
          [
           "male",
           "Nigeria",
           "Anwalt",
           "no value",
           "1957-03-08T00:00:00Z"
          ],
          [
           "female",
           "United States of America",
           "official",
           "no value",
           "1972-05-14T00:00:00Z"
          ],
          [
           "male",
           "Canada",
           "politician",
           "no value",
           "1962-10-07T00:00:00Z"
          ],
          [
           "male",
           "no value",
           "no value",
           "no value",
           "no value"
          ],
          [
           "male",
           "United States of America",
           "American football player",
           "no value",
           "1983-09-05T00:00:00Z"
          ],
          [
           "male",
           "no value",
           "politician",
           "no value",
           "1927-04-03T00:00:00Z"
          ],
          [
           "male",
           "no value",
           "Canadian football player",
           "no value",
           "1930-01-01T00:00:00Z"
          ],
          [
           "male",
           "United States of America",
           "military officer",
           "no value",
           "1964-04-26T00:00:00Z"
          ],
          [
           "male",
           "United States of America",
           "basketball player",
           "no value",
           "1991-01-29T00:00:00Z"
          ],
          [
           "male",
           "United States of America",
           "spokesperson",
           "no value",
           "1971-09-23T00:00:00Z"
          ],
          [
           "male",
           "no value",
           "songwriter",
           "no value",
           "1988-03-18T00:00:00Z"
          ],
          [
           "male",
           "India",
           "lawyer",
           "no value",
           "1945-10-01T00:00:00Z"
          ],
          [
           "female",
           "United States of America",
           "actor",
           "no value",
           "1992-10-11T00:00:00Z"
          ],
          [
           "male",
           "United States of America",
           "politician",
           "Master of Business Administration",
           "1951-04-27T00:00:00Z"
          ],
          [
           "female",
           "United States of America",
           "official",
           "no value",
           "1970-09-27T00:00:00Z"
          ],
          [
           "male",
           "no value",
           "sporting director",
           "no value",
           "no value"
          ],
          [
           "male",
           "United States of America",
           "lawyer",
           "no value",
           "1971-02-16T00:00:00Z"
          ],
          [
           "male",
           "Ireland",
           "composer",
           "no value",
           "1951-05-05T00:00:00Z"
          ],
          [
           "male",
           "United States of America",
           "American football player",
           "no value",
           "1997-03-26T00:00:00Z"
          ],
          [
           "male",
           "United States of America",
           "Commissioner of Baseball",
           "no value",
           "1958-09-28T00:00:00Z"
          ],
          [
           "male",
           "India",
           "civil servant",
           "no value",
           "1957-02-26T00:00:00Z"
          ],
          [
           "male",
           "no value",
           "diplomat",
           "no value",
           "1968-05-01T00:00:00Z"
          ],
          [
           "male",
           "United States of America",
           "politician",
           "Bachelor of Arts",
           "1962-12-21T00:00:00Z"
          ],
          [
           "male",
           "People's Republic of China",
           "politician",
           "no value",
           "1973-04-01T00:00:00Z"
          ],
          [
           "male",
           "United Kingdom",
           "actor",
           "no value",
           "1981-04-26T00:00:00Z"
          ],
          [
           "male",
           "Italy",
           "race car driver",
           "no value",
           "1963-05-22T00:00:00Z"
          ],
          [
           "male",
           "United States of America",
           "baseball player",
           "no value",
           "1986-06-02T00:00:00Z"
          ],
          [
           "male",
           "no value",
           "actor",
           "no value",
           "1935-06-01T00:00:00Z"
          ],
          [
           "male",
           "no value",
           "botanist",
           "no value",
           "1940-01-01T00:00:00Z"
          ],
          [
           "male",
           "United States of America",
           "baseball player",
           "no value",
           "1986-11-13T00:00:00Z"
          ],
          [
           "female",
           "United States of America",
           "politician",
           "no value",
           "1982-08-13T00:00:00Z"
          ],
          [
           "male",
           "United States of America",
           "basketball player",
           "no value",
           "1984-08-22T00:00:00Z"
          ],
          [
           "male",
           "no value",
           "no value",
           "no value",
           "no value"
          ],
          [
           "male",
           "Australia",
           "cricketer",
           "no value",
           "1939-03-24T00:00:00Z"
          ],
          [
           "male",
           "Australia",
           "politician",
           "no value",
           "1976-09-04T00:00:00Z"
          ],
          [
           "male",
           "United Kingdom",
           "trade unionist",
           "no value",
           "1960-02-17T00:00:00Z"
          ],
          [
           "male",
           "United Kingdom",
           "sculptor",
           "no value",
           "1949-01-01T00:00:00Z"
          ],
          [
           "male",
           "Philippines",
           "politician",
           "no value",
           "1966-10-21T00:00:00Z"
          ],
          [
           "male",
           "India",
           "cricketer",
           "no value",
           "1998-12-26T00:00:00Z"
          ],
          [
           "female",
           "United States of America",
           "historian",
           "no value",
           "1965-01-01T00:00:00Z"
          ],
          [
           "male",
           "no value",
           "lawyer",
           "no value",
           "1946-09-19T00:00:00Z"
          ],
          [
           "female",
           "no value",
           "scientist",
           "no value",
           "1972-01-01T00:00:00Z"
          ],
          [
           "male",
           "India",
           "politician",
           "no value",
           "1970-07-22T00:00:00Z"
          ],
          [
           "female",
           "Russia",
           "politician",
           "Candidate of Historical Sciences",
           "1975-12-24T00:00:00Z"
          ],
          [
           "male",
           "United States of America",
           "American football player",
           "no value",
           "1989-02-27T00:00:00Z"
          ],
          [
           "male",
           "Italy",
           "politician",
           "laurea",
           "1944-08-29T00:00:00Z"
          ],
          [
           "male",
           "no value",
           "film director",
           "no value",
           "no value"
          ],
          [
           "male",
           "United States of America",
           "baseball player",
           "no value",
           "1996-08-09T00:00:00Z"
          ],
          [
           "female",
           "Germany",
           "actor",
           "no value",
           "1983-01-01T00:00:00Z"
          ],
          [
           "male",
           "United States of America",
           "American football player",
           "no value",
           "1956-07-30T00:00:00Z"
          ],
          [
           "male",
           "no value",
           "writer",
           "no value",
           "1967-01-01T00:00:00Z"
          ],
          [
           "male",
           "Australia",
           "politician",
           "no value",
           "1977-11-15T00:00:00Z"
          ],
          [
           "male",
           "India",
           "cricketer",
           "no value",
           "1993-06-28T00:00:00Z"
          ],
          [
           "male",
           "no value",
           "spokesperson",
           "no value",
           "1964-01-10T00:00:00Z"
          ],
          [
           "male",
           "Australia",
           "cricketer",
           "no value",
           "1928-12-16T00:00:00Z"
          ],
          [
           "male",
           "Philippines",
           "politician",
           "no value",
           "1948-10-28T00:00:00Z"
          ],
          [
           "male",
           "no value",
           "engineer",
           "no value",
           "no value"
          ],
          [
           "male",
           "United States of America",
           "lawyer",
           "no value",
           "1951-04-16T00:00:00Z"
          ],
          [
           "male",
           "United States of America",
           "politician",
           "no value",
           "no value"
          ],
          [
           "male",
           "Australia",
           "rower",
           "no value",
           "1970-11-28T00:00:00Z"
          ],
          [
           "male",
           "United Kingdom",
           "businessperson",
           "no value",
           "1979-06-01T00:00:00Z"
          ],
          [
           "male",
           "no value",
           "chief executive officer",
           "no value",
           "1964-01-01T00:00:00Z"
          ],
          [
           "male",
           "United Kingdom",
           "actor",
           "no value",
           "1970-06-02T00:00:00Z"
          ],
          [
           "male",
           "United States of America",
           "baseball player",
           "no value",
           "1992-02-22T00:00:00Z"
          ],
          [
           "male",
           "no value",
           "musician",
           "no value",
           "1949-01-01T00:00:00Z"
          ],
          [
           "male",
           "no value",
           "columnist",
           "no value",
           "no value"
          ],
          [
           "male",
           "no value",
           "painter",
           "no value",
           "1954-01-01T00:00:00Z"
          ],
          [
           "male",
           "United States of America",
           "chief content officer",
           "no value",
           "1964-07-30T00:00:00Z"
          ],
          [
           "male",
           "United Kingdom",
           "photographer",
           "no value",
           "1967-07-01T00:00:00Z"
          ],
          [
           "male",
           "Australia",
           "politician",
           "no value",
           "1983-10-15T00:00:00Z"
          ],
          [
           "male",
           "United States of America",
           "politician",
           "no value",
           "1967-01-09T00:00:00Z"
          ],
          [
           "male",
           "no value",
           "television producer",
           "no value",
           "1953-10-14T00:00:00Z"
          ],
          [
           "male",
           "United States of America",
           "American football player",
           "no value",
           "1992-01-13T00:00:00Z"
          ]
         ],
         "hovertemplate": "<b>%{hovertext}</b><br><br>__cluster__coordinate_x=%{x}<br>__cluster__coordinate_y=%{y}<br>genderLabel=%{customdata[0]}<br>citizenshipLabel=%{customdata[1]}<br>occupationLabel=%{customdata[2]}<br>degreeLabel=%{customdata[3]}<br>dateOfBirth=%{customdata[4]}<br>__cluster__clusterLabel=%{marker.color}<extra></extra>",
         "hovertext": [
          "Aamir Khan",
          "Michael Bloomberg",
          "John McCain",
          "Miley Cyrus",
          "Angelina Jolie",
          "Andrew Cuomo",
          "Narendra Modi",
          "Ban Ki-moon",
          "Barack Obama",
          "Mitt Romney",
          "George W. Bush",
          "Carrie Lam",
          "Lady Gaga",
          "Dwayne Johnson",
          "Novak Djokovic",
          "Bill Gates",
          "Lionel Messi",
          "Bill Clinton",
          "Sean Dyche",
          "Moon Jae-in",
          "Zinedine Zidane",
          "Serena Williams",
          "Hillary Clinton",
          "Ruth Bader Ginsburg",
          "François Hollande",
          "Tiger Woods",
          "Kanye West",
          "Joe Biden",
          "Lindsey Graham",
          "John Roberts",
          "Angela Merkel",
          "Li Keqiang",
          "Fernando Alonso",
          "Seth Meyers",
          "Xi Jinping",
          "Roger Federer",
          "Vladimir Putin",
          "Michelle Obama",
          "Cristiano Ronaldo",
          "Stephen Harper",
          "John Boehner",
          "Usain Bolt",
          "Andy Murray",
          "Donald Tusk",
          "Ryan Giggs",
          "Paul McCartney",
          "Nikki Haley",
          "Tony Blair",
          "Rafael Nadal",
          "Gordon Ramsay",
          "Rahul Gandhi",
          "Sachin Tendulkar",
          "J. J. Abrams",
          "Sonia Gandhi",
          "Nitish Kumar",
          "Mahathir Mohamad",
          "Sergey Lavrov",
          "Claude Puel",
          "John Kasich",
          "Jennifer Lawrence",
          "Jerry Brown",
          "David Lee",
          "Simon Cowell",
          "Nico Rosberg",
          "Roy Hodgson",
          "Paul Krugman",
          "Chris Christie",
          "Patrick Leahy",
          "Valtteri Bottas",
          "Gianni Infantino Riovaldi",
          "Nawaz Sharif",
          "Justin Langer",
          "Kristen Bell",
          "Tom Cole",
          "Blake Shelton",
          "José Mourinho",
          "William Ruto",
          "Selena Gomez",
          "Imran Khan",
          "Kyle Busch",
          "Richard Branson",
          "Shashi Tharoor",
          "Prince Harry, Duke of Sussex",
          "Ursula von der Leyen",
          "Boris Johnson",
          "Deepika Padukone",
          "Ariana Grande",
          "Josep Guardiola",
          "Heiko Maas",
          "Jim Jordan",
          "Ronald Koeman",
          "Carlo Ancelotti",
          "Shinzō Abe",
          "Ryan Reynolds",
          "Nicki Minaj",
          "Kim Kardashian",
          "Newt Gingrich",
          "Mike Huckabee",
          "Mark Carney",
          "Alan Dershowitz",
          "Louis van Gaal",
          "David Johnson",
          "Avigdor Lieberman",
          "David Lewis",
          "Pitso Mosimane",
          "James Comey",
          "Karl-Heinz Rummenigge",
          "Jürgen Klopp",
          "John Lynch",
          "Arvind Kejriwal",
          "Christian Horner",
          "Uhuru Kenyatta",
          "Rafael Benítez",
          "Thomas Bach",
          "Nancy Pelosi",
          "Sigmar Gabriel",
          "Daniel Ricciardo",
          "Nick Saban",
          "Toto Wolff",
          "Ian Wright",
          "Kirsten Gillibrand",
          "Petro Poroshenko",
          "Nicolás Maduro",
          "James Cameron",
          "James Mattis",
          "Claude Julien",
          "Janet Yellen",
          "Ali Khamenei",
          "John Mahama",
          "Justin Bieber",
          "Tulsi Gabbard",
          "Rodrigo Duterte",
          "Rand Paul",
          "Akshay Kumar",
          "Amy Klobuchar",
          "Jimmy Carter",
          "Carly Fiorina",
          "John Kelly",
          "Vince Cable",
          "Katy Perry",
          "Mark Hamill",
          "Ivanka Trump",
          "Pranab Mukherjee",
          "Dwyane Wade",
          "Raila Odinga",
          "Joe Schmidt",
          "Rick Perry",
          "James Lankford",
          "Michael Bradley",
          "Benjamin Netanyahu",
          "Emilia Clarke",
          "Bruce Boudreau",
          "Naftali Bennett",
          "Patty Murray",
          "Luis Enrique",
          "Simona Halep",
          "Paul Green",
          "Jens Stoltenberg",
          "Sheikh Hasina",
          "Chris Williamson",
          "Sushma Swaraj",
          "Jennifer Lopez",
          "Frank Lampard",
          "Patrick Joseph Toomey",
          "LeBron James",
          "Terry Collins",
          "Jeb Bush",
          "Phil Murphy",
          "John Key",
          "Ahmet Davutoğlu",
          "Theresa May",
          "Mary Lou McDonald",
          "Donald Trump",
          "Susan Collins",
          "John Kerry",
          "Virat Kohli",
          "Tom Wolf",
          "Raghuram Rajan",
          "John Legend",
          "Lisa Murkowski",
          "Christopher Pyne",
          "Nicola Sturgeon",
          "Demi Lovato",
          "Ronda Rousey",
          "Eden Hazard",
          "Ed Sheeran",
          "Drew Brees",
          "Viktor Orbán",
          "Warren Buffett",
          "Claudio Ranieri",
          "Hun Sen",
          "Reese Witherspoon",
          "Mamata Banerjee",
          "Taylor Swift",
          "Andy Burnham",
          "Lee Hsien Loong",
          "Panfilo Morena Lacson Sr.",
          "Dianne Feinstein",
          "Gregg Popovich",
          "Paul Lambert",
          "Bilawal Bhutto Zardari",
          "Stephen Colbert",
          "Mike Pence",
          "Steven Gerrard",
          "Julián Castro",
          "Oprah Winfrey",
          "Tom Watson",
          "Julius Malema",
          "Pauline Hanson",
          "Claire McCaskill",
          "Rudy Giuliani",
          "Wayne Rooney",
          "Margrethe Vestager",
          "Sebastian Vettel",
          "Dominic Raab",
          "Najib Razak",
          "Gavin Newsom",
          "Jean-Claude Juncker",
          "Mark Zuckerberg",
          "Grant Robertson",
          "Recep Tayyip Erdoğan",
          "Maxine Waters",
          "Sheryl Sandberg",
          "Kobe Bryant",
          "Ben Carson",
          "Sonny Perdue",
          "Barry Trotz",
          "Malcolm Turnbull",
          "Joe Manchin",
          "Robert Menendez",
          "Kevin Feige",
          "Lim Guan Eng",
          "Franklin Drilon",
          "Tucker Carlson",
          "John Cornyn",
          "Matt Hancock",
          "Thomas Tuchel",
          "Jim Boeheim",
          "Mike Pompeo",
          "John Calipari",
          "Jeff Flake",
          "Angus King",
          "Rian Johnson",
          "Steve Kerr",
          "Bill Self",
          "Christine Lagarde",
          "Emmerson Mnangagwa",
          "Chris Coons",
          "Sean Hannity",
          "Manny Pacquiao",
          "Dwane Casey",
          "Anthony Fauci",
          "Rick Snyder",
          "John Tory",
          "Kevin Brady",
          "Tony Mowbray",
          "Rio Ferdinand",
          "Dana White",
          "Larry Kudlow",
          "Elijah Cummings",
          "Robert Jones Portman",
          "Mickey Callaway",
          "Billy Donovan",
          "Chuck Grassley",
          "MS Dhoni",
          "Bob Arum",
          "Bruce Bochy",
          "Nana Akufo-Addo",
          "Devin Nunes",
          "Stan Van Gundy",
          "Amber Rudd",
          "Gregg Berhalter",
          "Karan Johar",
          "Asa Hutchinson",
          "Kelly Clarkson",
          "Warren Gatland",
          "Mike Yeo",
          "Hua Chunying",
          "Alex Cora",
          "Malcolm Jenkins",
          "Anand Sharma",
          "Mike Babcock",
          "Fred Hoiberg",
          "Bob Iger",
          "Steny Hoyer",
          "Bill Belichick",
          "Leila de Lima",
          "Bill Haslam",
          "Micheál Martin",
          "Sajid Javid",
          "Paul Maurice",
          "Sourav Ganguly",
          "James Corden",
          "Jacob Rees-Mogg",
          "Buck Showalter",
          "Neil Warnock",
          "Mark Dayton",
          "Chris Pratt",
          "Anthony Joshua",
          "Mike Budenholzer",
          "Sergio Ramos",
          "Ranveer Singh",
          "Scott Brooks",
          "Alan Peter Cayetano",
          "Gary Herbert",
          "Andrew Holness",
          "Ben Cardin",
          "Mike Leach",
          "Alastair Cook",
          "Tom Thibodeau",
          "Mike Riley",
          "Ellen DeGeneres",
          "Peter Laviolette",
          "Jamie Dimon",
          "Ron Wyden",
          "Piers Morgan",
          "Reince Priebus",
          "Joe Scarborough",
          "Steve Johnson",
          "Edmund Bartlett",
          "Chris Collins",
          "David Harris",
          "James E. Gunn",
          "Bud Black",
          "Naveen Patnaik",
          "David LeRoy Anderson",
          "Liow Tiong Lai",
          "Muhyiddin Yassin",
          "Cory Booker",
          "Mike DeWine",
          "Ed Markey",
          "Scott Miller",
          "Alain Vigneault",
          "John H. F. Campbell",
          "John Tortorella",
          "Matteo Salvini",
          "David Wagner",
          "Scott Morrison",
          "Joel Quenneville",
          "John Farrell",
          "Paul Clement",
          "Frank Vogel",
          "Steve Jones",
          "Dean Smith",
          "Cory Gardner",
          "Michael Clarke",
          "Rob Jones",
          "Robert Williams",
          "Dave Wright",
          "Mike Brown",
          "Bruno Le Maire",
          "Tim Cook",
          "Chris Jones",
          "Chris Johnson",
          "Jason Smith",
          "Eddie Johnson",
          "Mike Smith",
          "Russell Wilson",
          "Mark Johnson",
          "David Williams",
          "David King",
          "Garry Monk",
          "Chris Coleman",
          "Joe Maddon",
          "Paschal Donohoe",
          "Mark Thompson",
          "Greg Smith",
          "Jeff Smith",
          "Theo Epstein",
          "Chris Harris",
          "Larry Hogan",
          "Chris Scott",
          "David Price",
          "Mike White",
          "Paul Smith",
          "Manohar Parrikar",
          "David Taylor",
          "David Martín",
          "David Miller",
          "Mick Mulvaney",
          "Michael Bennett",
          "Ryan Murphy",
          "Jay Inslee",
          "Doug Jones",
          "Mike Johnson",
          "David Davis",
          "Steve Williams",
          "Joe Girardi",
          "David Cameron",
          "Kapil Sibal",
          "Jim Smith",
          "Mark Wilson",
          "James Smith",
          "Holly Willoughby",
          "Winston Peters",
          "Tyson Fury",
          "Mike Scioscia",
          "Chris Murphy",
          "David Brown",
          "Jerry Jones",
          "Todd McLellan",
          "Dave Clark",
          "David Smith",
          "Chris Bowen",
          "James Anderson",
          "Hassan Rouhani",
          "Gary Bettman",
          "Geno Auriemma",
          "Tim Kaine",
          "Bruce Arena",
          "Phil Mickelson",
          "Steve McClaren",
          "Bobby Jindal",
          "Nigel Farage",
          "Faf du Plessis",
          "Megyn Kelly",
          "Aitor Karanka",
          "Michael Gove",
          "Sam Allardyce",
          "Marco Rubio",
          "Michael Fallon",
          "Jack Dorsey",
          "David Moyes",
          "Mike Tomlin",
          "Jimmy Fallon",
          "Ken Hitchcock",
          "Chris Froome",
          "Ernesto Valverde",
          "Gary Neville",
          "Rick Carlisle",
          "Mario Draghi",
          "Jeff Bezos",
          "Kamal Haasan",
          "Chuck Schumer",
          "Tony Abbott",
          "Massimiliano Allegri",
          "Steve Bruce",
          "Kyrie Irving",
          "Kirk Cousins",
          "Sherrod Brown",
          "Jeff Sessions",
          "Chris Hughton",
          "Floyd Mayweather",
          "Adam Schiff",
          "Lena Dunham",
          "Tim Farron",
          "Lamar Alexander",
          "Rahm Emanuel",
          "Rex Tillerson",
          "Caitlyn Jenner",
          "Elon Musk",
          "Gareth Southgate",
          "Jon Gruden",
          "Mauricio Pochettino",
          "Unai Emery",
          "Orrin Hatch",
          "Jeremy Corbyn",
          "Akhilesh Yadav",
          "Winston Churchill",
          "Alexis Tsipras",
          "Doc Rivers",
          "Melania Trump",
          "Manuel Pellegrini",
          "Aaron Rodgers",
          "Gerard Gallant",
          "Vikas Swarup",
          "Chris Grayling",
          "António Guterres",
          "Rory McIlroy",
          "Jeremy Hunt",
          "Muhammadu Buhari",
          "Roberto Martínez",
          "Alan Pardew",
          "Stephen Curry",
          "Anwar Ibrahim",
          "Bernie Sanders",
          "Mitch McConnell",
          "John Hickenlooper",
          "Anthony Albanese",
          "Bob Corker",
          "Mark Cuban",
          "Rush Limbaugh",
          "Sadiq Khan",
          "Tony Pulis",
          "Philip Brown",
          "Ashok Gehlot",
          "Greg Vanney",
          "Pete Carroll",
          "Omar Abdullah",
          "Mitch Landrieu",
          "Tyronn Lue",
          "Justin Trudeau",
          "Clint Hurdle",
          "Kyle Whittingham",
          "Gilad Erdan",
          "Eddie Jones",
          "Doc Rivers",
          "Naheed Nenshi",
          "Craig Counsell",
          "Jason Chaffetz",
          "Alexandre de Juniac",
          "Jason Garrett",
          "Doug Marrone",
          "Dan Quinn",
          "Bob Melvin",
          "Kevin Hart",
          "Ron DeSantis",
          "Ted Cruz",
          "Kylie Jenner",
          "Bob Casey",
          "Jack Del Rio",
          "Dave Martinez",
          "David Warner",
          "Michael McCormack",
          "Brian Cashman",
          "Andy Cohen",
          "Mathias Cormann",
          "Quin Snyder",
          "James Mattis",
          "David Shaw",
          "Rassie Erasmus",
          "Paul Molitor",
          "Rex Ryan",
          "Pete Mackanin",
          "Mike Rizzo",
          "Roger Goodell",
          "Jason Kenney",
          "Ron Rivera",
          "Jim Harbaugh",
          "Kevin Cash",
          "Emmanuel Macron",
          "Ron Gardenhire",
          "Mike Matheny",
          "Nick Nurse",
          "Brad Ausmus",
          "John Harbaugh",
          "Chip Kelly",
          "Joe Root",
          "Steve Hansen",
          "Robin Ventura",
          "Scott Frost",
          "Andrew Scheer",
          "Michael Malone",
          "Leo Varadkar",
          "Grace Poe",
          "Asaduddin Owaisi",
          "Terry Francona",
          "Xavier Becerra",
          "Stéphane Dujarric",
          "Jordan Spieth",
          "Trey Gowdy",
          "Kangana Ranaut",
          "Michael Cheika",
          "AB de Villiers",
          "Steve Scalise",
          "Draymond Green",
          "Philip Lowe",
          "Simon Coveney",
          "Matt Smith",
          "Bruce Cassidy",
          "Brian Schatz",
          "Ron Johnson",
          "Ned Yost",
          "Michael McCarthy",
          "Tom Brady",
          "Neil Wilson",
          "Andy Reid",
          "Richard Blumenthal",
          "Gabe Kapler",
          "Meghan, Duchess of Sussex",
          "Max Verstappen",
          "Dave Dombrowski",
          "John Oliver",
          "Tim Cone",
          "Sean Payton",
          "Alvin Gentry",
          "Walt Weiss",
          "Tom Cotton",
          "Dabo Swinney",
          "Andrew Constance",
          "Ghulam Nabi Azad",
          "John Thune",
          "Subramanian Swamy",
          "Brett Kavanaugh",
          "Bill Shorten",
          "Bipin Rawat",
          "Arlene Foster",
          "Chris Petersen",
          "Amy Schumer",
          "Amarinder Singh",
          "Dirk Koetter",
          "Dmitry Peskov",
          "Dharmendra Pradhan",
          "Alex Azar",
          "Christian Porter",
          "Kane Williamson",
          "Andrew Little",
          "Cyril Abiteboul",
          "Mark Randall Meadows",
          "Chris Wilder",
          "Pinarayi Vijayan",
          "Chrissy Teigen",
          "Ravi Shankar Prasad",
          "Jim Bridenstine",
          "Dipak Misra",
          "Betsy DeVos",
          "Dan Mullen",
          "Hue Jackson",
          "Terry McAuliffe",
          "John Beilein",
          "Bill de Blasio",
          "Bruce Pearl",
          "Eoin Morgan",
          "Adam Silver",
          "Tom Izzo",
          "Ahmad Zahid Hamidi",
          "Bruce Arians",
          "Muppavarapu Venkaiah Naidu",
          "Bob Baffert",
          "Brian Snitker",
          "Abhishek Manu Singhvi",
          "Dara Khosrowshahi",
          "Derek Adams",
          "Bukola Saraki",
          "Arun Jaitley",
          "Aaron Boone",
          "Dan Tehan",
          "Chuck Pagano",
          "Bill English",
          "Alan Joyce",
          "Yogi Adityanath",
          "Uddhav Thackeray",
          "Pat Shurmur",
          "Ajit Pai",
          "Jay Wright",
          "Anthony Lynn",
          "Annastacia Palaszczuk",
          "Butch Jones",
          "Conor McGregor",
          "Bret Bielema",
          "Ben McAdoo",
          "Daniel Andrews",
          "Chrystia Freeland",
          "Nick Kyrgios",
          "Maurizio Sarri",
          "Dave Roberts",
          "Jacinda Ardern",
          "Aaron Finch",
          "Federica Mogherini",
          "Ashton Carter",
          "Brian Schmetzer",
          "Bill O'Brien",
          "Gary Kubiak",
          "Mohan Bhagwat",
          "Darren Lehmann",
          "Barnaby Joyce",
          "Kathleen Wynne",
          "Cameron Dick",
          "Trevor Bayliss",
          "Dave Hakstol",
          "Adam Gase",
          "Kellyanne Conway",
          "Scott Pruitt",
          "Keir Starmer",
          "Sean McVay",
          "Josh Earnest",
          "Jim McElwain",
          "Wilbur Ross",
          "Kirk Ferentz",
          "Kamala Harris",
          "Himanta Biswa Sarma",
          "Sanjay Raut",
          "Mark Richt",
          "Martin Andanar",
          "Zak Brown",
          "Thomas Perez",
          "Mahmoud Abbas",
          "Simon Harris",
          "Leni Robredo",
          "Trevor Noah",
          "Vance Joseph",
          "Scott Servais",
          "Mike Mayock",
          "Mark Smith",
          "Yeng Guiao",
          "Mehbooba Mufti",
          "Mukhtar Abbas Naqvi",
          "John Longmire",
          "Sandy Alderson",
          "Rick Renteria",
          "Matt Patricia",
          "Sitaram Yechury",
          "Matt Nagy",
          "Will Muschamp",
          "Ken Paxton",
          "Simon Birmingham",
          "Reed Hastings",
          "Jim Curtin",
          "Mmusi Maimane",
          "Piyush Goyal",
          "Nathan Buckley",
          "Satya Nadella",
          "Rachel Notley",
          "Troy Grant",
          "Simon Bridges",
          "David Jones",
          "Günther Steiner",
          "Ralph Northam",
          "John Bel Edwards",
          "Randeep Surjewala",
          "Josh Frydenberg",
          "Ranjan Gogoi",
          "Kiren Rijiju",
          "Kirby Smart",
          "Torey Lovullo",
          "Mike Zimmer",
          "Rick Hahn",
          "Michael Brown",
          "Sarbananda Sonowal",
          "J.B. Pritzker",
          "Paul Mainieri",
          "Mark Dantonio",
          "Jim Cramer",
          "Ram Madhav",
          "Prakash Javadekar",
          "Manoj Tiwari",
          "John McDonnell",
          "Michael Moore",
          "Sean McDermott",
          "Jay Gruden",
          "Manish Tewari",
          "Jeff Banister",
          "John Barilaro",
          "Smriti Irani",
          "Kyle Shanahan",
          "Mohammad Javad Zarif",
          "Lewis Hamilton",
          "Jason Holder",
          "Jeh Johnson",
          "Tim Ryan",
          "John Moore",
          "Phil Scott",
          "Pete Buttigieg",
          "Jerome Powell",
          "Mahamudu Bawumia",
          "Peter Dutton",
          "Kim Reynolds",
          "Jeff Blashill",
          "Ryan Zinke",
          "Mike Gundy",
          "Tim Paine",
          "Lawrence Yun",
          "Rod Sims",
          "Chris Sununu",
          "Odell Beckham Jr.",
          "Bruce Rauner",
          "Richard Sherman",
          "Scott Brown",
          "Steve Evans",
          "Phil Spencer",
          "Jon Cooper",
          "Chris Waller",
          "Gary Johnson",
          "Dave Smith",
          "Simon Williams",
          "Andy Palmer",
          "Marty Walsh",
          "Scott Walker",
          "Matt Williams",
          "Gary Smith",
          "John Lewis",
          "Elton John",
          "Paul Kelly",
          "Roy Cooper",
          "Mark Williams",
          "Steve Bannon",
          "Jackie Trad",
          "Wang Yi",
          "Bill Johnson",
          "John Horgan",
          "Chance the Rapper",
          "Mark McGowan",
          "Ben Sasse",
          "Alex Smith",
          "Nick Smith",
          "Jim Caldwell",
          "Mike Miller",
          "Stephen Jones",
          "John Delaney",
          "Mark Bailey",
          "Chris Smith",
          "Paul Johnson",
          "Nathan Brown",
          "David Madden",
          "John Kennedy",
          "Michael Flynn",
          "Michael Smith",
          "Phil Robertson",
          "Brian Kelly",
          "Leo Austria",
          "Tedros Adhanom Ghebreyesus",
          "Brian Smith",
          "Angus Taylor",
          "David Ige",
          "Mark Warner",
          "Michael Johnson",
          "David Brooks",
          "John Kirby",
          "Steve Smith",
          "Akinwunmi Ambode",
          "Baker Mayfield",
          "Harry Kane",
          "Sam Smith",
          "Paul Ryan",
          "James Franklin",
          "Chris Taylor",
          "John Wilson",
          "Mark Warburton",
          "Andrew Smith",
          "Andy Green",
          "Mike Jones",
          "Mark Taylor",
          "John Smith",
          "Harsh Vardhan",
          "Clay Helton",
          "Joni Ernst",
          "Adam Smith",
          "Andrew Barr",
          "Mike Sullivan",
          "Greg Clark",
          "Jeff Davis",
          "John Brennan",
          "Chris Brown",
          "Mark Lamarr",
          "Brad Smith",
          "Richard Smith",
          "Kenny Atkinson",
          "Jimbo Fisher",
          "Kevin Johnson",
          "Andrew Wilson",
          "Tim Scott",
          "Peter King",
          "Steve Miller",
          "John Fox",
          "Matthew Canavan",
          "Mike Anderson",
          "John Miller",
          "Mike Williams",
          "Elizabeth Warren",
          "Dick Durbin",
          "Franklin Graham",
          "Ravi Shastri",
          "Lee Johnson",
          "Stacey Smith?",
          "Mark Hughes",
          "Greg Abbott",
          "Farooq Abdullah",
          "Enda Kenny",
          "Reuven Rivlin",
          "Eric Garcetti",
          "Paul Williams",
          "Heather Nauert",
          "Greg Hunt",
          "Erik Spoelstra",
          "Gladys Berejiklian",
          "Kevin Anderson",
          "Julie Bishop",
          "Sundar Pichai",
          "Rick Scott",
          "Gus Malzahn",
          "Frank Reich",
          "Mike Krzyzewski",
          "Rajnath Singh",
          "Heng Swee Keat",
          "Doug Pederson",
          "Ed Orgeron",
          "Oscar Albayalde",
          "Gretchen Whitmer",
          "Urban Meyer",
          "Doug Ducey",
          "Alex Neil",
          "Francis",
          "Gary Rowett",
          "Sanjay Singh",
          "Khairy Jamaluddin",
          "Todd Bowles",
          "John G. King",
          "David Wilson",
          "Nara Chandrababu Naidu",
          "David Parker",
          "Tom Wheeler",
          "Michel Barnier",
          "Kliff Kingsbury",
          "Neil Lennon",
          "Lori Lightfoot",
          "Paul George",
          "Eddie Howe",
          "Alex Jones",
          "Nitin Gadkari",
          "Kevin Smith",
          "John L. Williams",
          "Raveesh Kumar",
          "Jitendra Singh",
          "Dilip Ghosh",
          "Sylvester Turner",
          "Ben Smith",
          "Alexandria Ocasio-Cortez",
          "Roy Williams",
          "Bill Nelson",
          "Anthony Lynham",
          "Steve King",
          "Adam Marshall",
          "Katie Price",
          "Q20793563",
          "Jon Stewart",
          "Wendy Williams",
          "Murad Ali Shah",
          "Hubert Minnis",
          "Harry Reid",
          "Michael A. McCarthy",
          "Manohar Lal Khattar",
          "Scott Gottlieb",
          "Neil Saunders",
          "Manmohan Singh",
          "Matt Campbell",
          "George Osborne",
          "Luke Walton",
          "Yemi Osinbajo",
          "Kirstjen Nielsen",
          "Bill Morneau",
          "Stephen King",
          "Lincoln Riley",
          "Jack Ross",
          "Don Mattingly",
          "Mark T. Esper",
          "Chris Evans",
          "Sean Spicer",
          "Mike Lee",
          "Ram Nath Kovind",
          "Cardi B",
          "Jim Justice",
          "Seema Verma",
          "Bill Maher",
          "Michael Avenatti",
          "Philip Hammond",
          "Cameron Smith",
          "Rob Manfred",
          "Shaktikanta Das",
          "Lu Kang",
          "Steven Mnuchin",
          "Geng Shuang",
          "Amit Shah",
          "Marco Giuseppe Silva",
          "Chris Martin",
          "Glenn Beck",
          "Gene Stanley Van Horn",
          "Bryan Price",
          "Sarah Sanders",
          "Tony Bennett",
          "Asif Ghafoor",
          "Charlie Baker",
          "David Littleproud",
          "Mick Cash",
          "John Gibbons",
          "Harry Roque",
          "Salman Khan",
          "Kate Brown",
          "Salvador Panelo",
          "Kate Jones",
          "Devendra Fadnavis",
          "Maria Zakharova",
          "James Shaw",
          "Antonio Conte",
          "John Bolton",
          "Brendan Rodgers",
          "Sarah Sanders",
          "Matt Miller",
          "Brad Stevens",
          "Steven Miles",
          "Rohit Sharma",
          "Mark Toner",
          "Doug Ford",
          "Delfin Lorenzana",
          "William Barr",
          "Bill Walker",
          "Mark Stoops",
          "Jason Day",
          "Eddie Hearn",
          "Jeff Miller",
          "Liam Fox",
          "Kevin McCarthy",
          "Tom Herman",
          "Ernesto Abella",
          "Wayne Bennett",
          "Ted Sarandos",
          "Chris Harrison",
          "Tim Smith",
          "Matt Bevin",
          "Howard Schultz",
          "Will Smith"
         ],
         "legendgroup": "",
         "marker": {
          "color": [
           0,
           0,
           0,
           -1,
           0,
           0,
           0,
           0,
           0,
           0,
           -1,
           0,
           0,
           0,
           0,
           0,
           -1,
           0,
           -1,
           0,
           0,
           0,
           0,
           0,
           -1,
           0,
           0,
           0,
           0,
           0,
           0,
           0,
           0,
           0,
           0,
           -1,
           0,
           0,
           -1,
           0,
           0,
           0,
           0,
           0,
           -1,
           0,
           0,
           0,
           -1,
           0,
           -1,
           0,
           0,
           0,
           0,
           0,
           0,
           0,
           0,
           0,
           0,
           0,
           0,
           0,
           0,
           0,
           0,
           0,
           0,
           0,
           0,
           0,
           0,
           0,
           0,
           -1,
           0,
           0,
           0,
           0,
           0,
           0,
           0,
           0,
           0,
           0,
           0,
           0,
           0,
           0,
           -1,
           0,
           -1,
           0,
           0,
           0,
           0,
           0,
           -1,
           0,
           1,
           0,
           0,
           0,
           0,
           -1,
           0,
           -1,
           0,
           0,
           0,
           0,
           0,
           0,
           0,
           0,
           0,
           0,
           0,
           0,
           0,
           0,
           0,
           0,
           0,
           0,
           0,
           0,
           0,
           0,
           0,
           0,
           0,
           0,
           0,
           0,
           0,
           0,
           0,
           0,
           0,
           0,
           0,
           0,
           0,
           0,
           0,
           0,
           -1,
           0,
           -1,
           0,
           0,
           0,
           0,
           -1,
           0,
           0,
           0,
           -1,
           -1,
           0,
           -1,
           0,
           0,
           0,
           0,
           0,
           0,
           0,
           0,
           0,
           0,
           0,
           0,
           0,
           0,
           0,
           0,
           0,
           0,
           0,
           0,
           0,
           -1,
           -1,
           0,
           0,
           0,
           -1,
           0,
           0,
           0,
           0,
           0,
           0,
           0,
           0,
           0,
           -1,
           0,
           0,
           0,
           0,
           0,
           0,
           0,
           0,
           0,
           0,
           0,
           0,
           0,
           0,
           0,
           -1,
           0,
           0,
           0,
           0,
           0,
           0,
           0,
           0,
           0,
           0,
           0,
           0,
           0,
           0,
           0,
           -1,
           0,
           0,
           0,
           0,
           0,
           0,
           -1,
           0,
           0,
           0,
           0,
           0,
           0,
           0,
           0,
           0,
           0,
           0,
           0,
           0,
           0,
           0,
           0,
           0,
           0,
           0,
           0,
           0,
           0,
           0,
           0,
           0,
           0,
           -1,
           0,
           0,
           0,
           0,
           0,
           -1,
           0,
           0,
           0,
           1,
           0,
           -1,
           0,
           0,
           0,
           -1,
           0,
           0,
           0,
           0,
           0,
           0,
           0,
           0,
           0,
           0,
           0,
           0,
           0,
           0,
           0,
           0,
           0,
           0,
           0,
           0,
           0,
           0,
           0,
           0,
           0,
           0,
           0,
           0,
           0,
           0,
           0,
           0,
           0,
           0,
           0,
           0,
           0,
           0,
           0,
           0,
           0,
           0,
           -1,
           0,
           -1,
           0,
           0,
           0,
           0,
           0,
           0,
           0,
           0,
           0,
           -1,
           0,
           0,
           0,
           0,
           0,
           0,
           0,
           0,
           0,
           0,
           0,
           0,
           0,
           0,
           0,
           0,
           0,
           0,
           0,
           0,
           0,
           0,
           0,
           0,
           0,
           0,
           0,
           0,
           0,
           0,
           0,
           0,
           0,
           0,
           0,
           0,
           0,
           0,
           0,
           0,
           0,
           0,
           0,
           0,
           0,
           0,
           0,
           0,
           0,
           0,
           0,
           0,
           0,
           0,
           0,
           0,
           0,
           0,
           0,
           0,
           0,
           0,
           0,
           0,
           0,
           0,
           0,
           0,
           0,
           -1,
           0,
           0,
           0,
           0,
           0,
           0,
           0,
           0,
           0,
           0,
           0,
           0,
           0,
           0,
           0,
           0,
           0,
           0,
           0,
           0,
           0,
           0,
           0,
           -1,
           0,
           0,
           0,
           0,
           0,
           1,
           0,
           0,
           -1,
           0,
           0,
           0,
           0,
           -1,
           0,
           0,
           0,
           0,
           0,
           0,
           0,
           0,
           -1,
           0,
           0,
           0,
           0,
           0,
           0,
           0,
           0,
           1,
           0,
           0,
           0,
           0,
           0,
           0,
           0,
           0,
           1,
           -1,
           -1,
           0,
           0,
           0,
           0,
           0,
           0,
           0,
           0,
           0,
           1,
           0,
           0,
           0,
           0,
           0,
           0,
           0,
           0,
           0,
           0,
           0,
           0,
           0,
           0,
           0,
           0,
           0,
           0,
           0,
           0,
           0,
           0,
           0,
           0,
           -1,
           0,
           0,
           0,
           0,
           0,
           0,
           0,
           0,
           0,
           0,
           0,
           0,
           0,
           0,
           0,
           0,
           -1,
           0,
           0,
           0,
           0,
           0,
           0,
           0,
           0,
           0,
           0,
           0,
           0,
           0,
           0,
           0,
           0,
           0,
           0,
           0,
           0,
           0,
           0,
           0,
           -1,
           0,
           0,
           0,
           0,
           0,
           0,
           0,
           -1,
           0,
           0,
           0,
           0,
           0,
           0,
           0,
           0,
           0,
           0,
           0,
           0,
           0,
           0,
           0,
           0,
           0,
           0,
           0,
           0,
           0,
           0,
           0,
           0,
           0,
           0,
           0,
           -1,
           0,
           0,
           0,
           0,
           -1,
           0,
           -1,
           0,
           0,
           0,
           0,
           0,
           0,
           0,
           0,
           0,
           0,
           0,
           0,
           0,
           0,
           0,
           0,
           0,
           0,
           0,
           0,
           0,
           0,
           0,
           0,
           -1,
           0,
           0,
           0,
           0,
           0,
           0,
           -1,
           0,
           0,
           0,
           0,
           0,
           0,
           0,
           0,
           0,
           0,
           0,
           0,
           0,
           1,
           0,
           0,
           0,
           0,
           0,
           0,
           0,
           0,
           0,
           0,
           0,
           0,
           0,
           0,
           0,
           0,
           0,
           -1,
           0,
           0,
           0,
           0,
           0,
           0,
           0,
           0,
           0,
           0,
           0,
           -1,
           0,
           -1,
           0,
           0,
           0,
           0,
           0,
           0,
           0,
           -1,
           0,
           0,
           0,
           -1,
           0,
           0,
           -1,
           0,
           0,
           0,
           0,
           0,
           0,
           0,
           0,
           0,
           0,
           0,
           0,
           0,
           0,
           0,
           -1,
           0,
           0,
           0,
           0,
           0,
           0,
           0,
           0,
           0,
           0,
           -1,
           0,
           0,
           0,
           0,
           0,
           -1,
           0,
           0,
           0,
           0,
           0,
           -1,
           0,
           0,
           0,
           0,
           0,
           0,
           0,
           0,
           0,
           0,
           0,
           0,
           0,
           0,
           0,
           0,
           0,
           0,
           0,
           0,
           0,
           0,
           0,
           0,
           0,
           0,
           -1,
           -1,
           0,
           0,
           0,
           0,
           0,
           -1,
           0,
           0,
           0,
           0,
           0,
           0,
           0,
           0,
           0,
           0,
           0,
           0,
           0,
           0,
           0,
           0,
           0,
           0,
           0,
           0,
           0,
           0,
           0,
           0,
           0,
           0,
           0,
           0,
           0,
           0,
           0,
           0,
           0,
           0,
           0,
           0,
           0,
           0,
           0,
           0,
           0,
           0,
           0,
           0,
           0,
           0,
           0,
           0,
           0,
           0,
           0,
           0,
           0,
           -1,
           0,
           0,
           0,
           0,
           0,
           0,
           0,
           0,
           0,
           0,
           -1,
           0,
           0,
           0,
           0,
           0,
           0,
           -1,
           0,
           0,
           0,
           0,
           0,
           0,
           0,
           0,
           0,
           0,
           0,
           0,
           0,
           0,
           0,
           -1,
           0,
           0,
           0,
           0,
           0,
           0,
           0,
           -1,
           -1,
           0,
           0,
           0,
           0,
           0,
           0,
           0,
           -1,
           0,
           0,
           0,
           0,
           0,
           0,
           0,
           0,
           0,
           -1,
           0,
           0,
           0,
           0,
           0,
           0,
           0,
           -1,
           0,
           0,
           0,
           0,
           0,
           0,
           0,
           0,
           0,
           0,
           0,
           0,
           0,
           0,
           0,
           0,
           0,
           0,
           0,
           -1,
           0,
           0,
           0,
           0,
           0,
           0,
           0,
           0,
           0,
           0,
           0,
           0,
           0,
           0,
           0,
           0,
           0,
           0,
           0,
           0,
           -1,
           0,
           0,
           0,
           0,
           0,
           0,
           0,
           0,
           0,
           0,
           0,
           0,
           0,
           0,
           0,
           0,
           -1,
           0,
           0,
           0,
           0,
           0,
           0,
           0,
           0,
           0,
           0,
           0,
           -1,
           0,
           0,
           0,
           0,
           0,
           0,
           0,
           0,
           0,
           0,
           1,
           0,
           0,
           0,
           0,
           0,
           0,
           0,
           0,
           0,
           -1,
           0,
           0,
           0,
           0,
           0,
           0,
           0,
           0,
           0,
           0,
           0,
           0,
           0,
           0,
           -1,
           0,
           0,
           0,
           0,
           0,
           0,
           0,
           0,
           0,
           0,
           0,
           0
          ],
          "coloraxis": "coloraxis",
          "symbol": "circle"
         },
         "mode": "markers",
         "name": "",
         "orientation": "v",
         "showlegend": false,
         "type": "scatter",
         "x": [
          -22.507673263549805,
          -23.480051040649414,
          -6.951814651489258,
          -18.97737693786621,
          -11.28094482421875,
          9.611455917358398,
          12.77391242980957,
          10.817431449890137,
          -1.1299080848693848,
          -25.88524055480957,
          16.985502243041992,
          14.287016868591309,
          -17.78420066833496,
          2.9377782344818115,
          -14.404520988464355,
          -18.013381958007812,
          29.239500045776367,
          -12.968377113342285,
          25.122716903686523,
          -4.782883167266846,
          -12.35661792755127,
          -17.698963165283203,
          -2.7854807376861572,
          -10.309947967529297,
          28.79899787902832,
          -15.527714729309082,
          -13.600113868713379,
          9.524870872497559,
          -10.918207168579102,
          -23.432842254638672,
          0.10439427196979523,
          18.367746353149414,
          13.344229698181152,
          -6.468196392059326,
          15.079899787902832,
          -23.21860694885254,
          16.886661529541016,
          -18.19855308532715,
          -24.26694679260254,
          -7.71524715423584,
          -3.6522727012634277,
          -21.317691802978516,
          -20.43658447265625,
          -8.045836448669434,
          24.298721313476562,
          -4.464111804962158,
          -15.552979469299316,
          -11.749424934387207,
          -23.98910903930664,
          -4.739065170288086,
          17.907350540161133,
          -17.308122634887695,
          -19.87067413330078,
          10.453019142150879,
          10.437979698181152,
          -12.405792236328125,
          -12.026243209838867,
          -2.3280835151672363,
          -20.3914794921875,
          -21.4854793548584,
          -2.8946235179901123,
          20.015302658081055,
          -12.187999725341797,
          -23.464345932006836,
          0.5606867671012878,
          -12.018056869506836,
          -13.40519905090332,
          -9.036198616027832,
          -11.801661491394043,
          15.38192367553711,
          -0.31881409883499146,
          12.569653511047363,
          -10.03625774383545,
          -16.927671432495117,
          -15.64923095703125,
          28.940509796142578,
          -4.322168827056885,
          -19.713336944580078,
          -0.6082844734191895,
          -2.3952298164367676,
          -3.6571013927459717,
          -10.564659118652344,
          -4.603263854980469,
          4.678452491760254,
          -17.926183700561523,
          -15.735068321228027,
          -18.281492233276367,
          7.567882537841797,
          1.4046343564987183,
          -18.556676864624023,
          26.2578067779541,
          9.43927001953125,
          1.0120652914047241,
          -11.538145065307617,
          -20.973312377929688,
          -17.63628387451172,
          -18.30235481262207,
          -23.205888748168945,
          13.69825267791748,
          -9.319302558898926,
          27.61335563659668,
          -9.109333038330078,
          -14.417773246765137,
          -0.5376701951026917,
          5.876963138580322,
          -18.623332977294922,
          13.48863697052002,
          18.321863174438477,
          5.950100421905518,
          -3.6867668628692627,
          21.512062072753906,
          -14.139301300048828,
          13.014435768127441,
          20.046537399291992,
          -14.47123908996582,
          11.71957778930664,
          -15.674015045166016,
          6.823363304138184,
          17.47835922241211,
          6.058078765869141,
          -12.327519416809082,
          -0.9863870143890381,
          -10.831351280212402,
          -22.307849884033203,
          -16.792552947998047,
          -10.671391487121582,
          -10.481243133544922,
          10.289371490478516,
          -6.584929466247559,
          -19.16900062561035,
          16.405574798583984,
          -18.857568740844727,
          -22.16166877746582,
          19.1708984375,
          -17.114099502563477,
          5.964344501495361,
          -16.018156051635742,
          -8.049400329589844,
          2.0957741737365723,
          -17.99412727355957,
          -17.955440521240234,
          -14.51923942565918,
          9.20388412475586,
          9.676076889038086,
          -1.5254981517791748,
          20.031978607177734,
          -3.008975028991699,
          -3.007601022720337,
          27.345720291137695,
          -0.47263720631599426,
          21.031370162963867,
          3.0422656536102295,
          7.629734039306641,
          3.491109848022461,
          0.9927036762237549,
          -23.761436462402344,
          -2.9204039573669434,
          16.461435317993164,
          10.533452987670898,
          14.792051315307617,
          21.270671844482422,
          4.668856143951416,
          10.345501899719238,
          4.319490432739258,
          -18.456436157226562,
          12.895459175109863,
          -24.12911033630371,
          14.158066749572754,
          -20.202043533325195,
          -6.2275614738464355,
          5.11580753326416,
          9.938068389892578,
          -6.903059005737305,
          -15.558282852172852,
          15.062908172607422,
          7.362000942230225,
          8.70046329498291,
          -20.689035415649414,
          0.5409172177314758,
          0.5126771926879883,
          -13.54055404663086,
          18.718482971191406,
          -20.133777618408203,
          -23.074729919433594,
          26.47888946533203,
          19.819440841674805,
          8.78552532196045,
          -9.285390853881836,
          -9.756936073303223,
          27.825435638427734,
          10.466276168823242,
          -21.108814239501953,
          -18.595157623291016,
          -17.885297775268555,
          9.864875793457031,
          4.06523323059082,
          -26.636192321777344,
          -12.564866065979004,
          -10.958353996276855,
          29.220773696899414,
          -3.103344440460205,
          -20.160751342773438,
          12.85855770111084,
          -13.462149620056152,
          -21.876855850219727,
          -13.204524993896484,
          -19.484704971313477,
          -25.674510955810547,
          3.003397226333618,
          -13.105094909667969,
          -19.5438175201416,
          3.83620285987854,
          13.429498672485352,
          0.1457768827676773,
          -7.533072471618652,
          14.553589820861816,
          10.804947853088379,
          14.573949813842773,
          16.615602493286133,
          5.071636199951172,
          5.790956020355225,
          -0.9546008706092834,
          -3.337038278579712,
          1.5070228576660156,
          -14.581478118896484,
          2.3672637939453125,
          12.416762351989746,
          -18.861547470092773,
          -5.151666641235352,
          -4.52586030960083,
          -13.223718643188477,
          15.923908233642578,
          -13.488404273986816,
          -23.770963668823242,
          -15.505725860595703,
          9.678709983825684,
          14.0294828414917,
          4.519850254058838,
          7.947793960571289,
          1.3957725763320923,
          -23.73787498474121,
          -20.913755416870117,
          -23.122819900512695,
          1.2204574346542358,
          3.1664841175079346,
          -11.568615913391113,
          11.44870376586914,
          -2.5709941387176514,
          -15.266179084777832,
          -21.771953582763672,
          3.4411375522613525,
          -21.57387351989746,
          15.747835159301758,
          12.020014762878418,
          14.240283012390137,
          5.720978736877441,
          -3.2399203777313232,
          -3.2299749851226807,
          6.860907077789307,
          -13.029784202575684,
          -11.353243827819824,
          -4.504216194152832,
          -8.810592651367188,
          -2.8277416229248047,
          -10.718414306640625,
          -26.630712509155273,
          7.883398056030273,
          1.2437208890914917,
          -9.397445678710938,
          -10.16715145111084,
          3.167001485824585,
          27.6242618560791,
          -17.154495239257812,
          -12.659197807312012,
          -18.77403450012207,
          28.383474349975586,
          12.737876892089844,
          23.745309829711914,
          6.05756139755249,
          -15.533082008361816,
          9.051204681396484,
          4.12972354888916,
          15.652145385742188,
          -8.44279956817627,
          -14.322689056396484,
          -18.32809829711914,
          -18.837507247924805,
          4.173587322235107,
          -0.6585453152656555,
          10.473925590515137,
          -5.097474575042725,
          -22.402463912963867,
          -14.734480857849121,
          -16.936677932739258,
          -8.369187355041504,
          -1.1058398485183716,
          13.380678176879883,
          -0.06261910498142242,
          -18.014360427856445,
          12.012662887573242,
          -13.341639518737793,
          -17.468236923217773,
          5.001245975494385,
          -17.56843376159668,
          -0.5063413977622986,
          -14.42978286743164,
          -11.109363555908203,
          0.5716098546981812,
          -12.036581039428711,
          -3.9627716541290283,
          0.9395338296890259,
          -23.803070068359375,
          13.773157119750977,
          -18.038347244262695,
          -2.746500015258789,
          -15.335099220275879,
          -0.9452139139175415,
          -24.107187271118164,
          20.34978485107422,
          13.154945373535156,
          -5.065568923950195,
          12.435626983642578,
          -20.348831176757812,
          -0.634560763835907,
          19.6099796295166,
          13.283127784729004,
          17.53129768371582,
          -11.898909568786621,
          -21.747535705566406,
          -0.7152878046035767,
          -2.063020706176758,
          -8.0663480758667,
          5.050930500030518,
          11.419532775878906,
          -11.309334754943848,
          -4.709001541137695,
          21.28291130065918,
          -0.6784193515777588,
          9.732673645019531,
          18.08139991760254,
          -16.464210510253906,
          11.559447288513184,
          2.549788236618042,
          8.468236923217773,
          -5.725348472595215,
          19.308046340942383,
          3.428140640258789,
          -15.165295600891113,
          11.40916919708252,
          0.11956106126308441,
          4.813542366027832,
          18.41645050048828,
          18.191791534423828,
          22.840917587280273,
          12.089118957519531,
          -16.787986755371094,
          15.203843116760254,
          -17.960281372070312,
          11.75083065032959,
          7.441991329193115,
          19.32776641845703,
          -2.341191053390503,
          -17.040111541748047,
          4.975430965423584,
          15.892061233520508,
          15.284687042236328,
          13.881275177001953,
          0.15393969416618347,
          13.917196273803711,
          19.559255599975586,
          -2.173673629760742,
          5.180738925933838,
          -5.562366008758545,
          20.597665786743164,
          12.023987770080566,
          17.053752899169922,
          0.5666069984436035,
          2.1854679584503174,
          7.453711986541748,
          -20.606901168823242,
          -22.336305618286133,
          -12.348639488220215,
          -7.487985134124756,
          -24.024211883544922,
          -18.84699821472168,
          -8.046079635620117,
          15.394949913024902,
          -6.518673419952393,
          21.827072143554688,
          -16.663766860961914,
          -2.5736751556396484,
          -8.059733390808105,
          21.811325073242188,
          -16.35688591003418,
          1.7560676336288452,
          -21.57712173461914,
          9.199455261230469,
          -14.001411437988281,
          3.0764589309692383,
          -10.799833297729492,
          8.685139656066895,
          20.52852439880371,
          16.474103927612305,
          14.299898147583008,
          4.289104461669922,
          -11.113789558410645,
          28.608341217041016,
          -5.862344741821289,
          -25.972728729248047,
          0.1876785010099411,
          -12.983888626098633,
          1.0537673234939575,
          -6.573680877685547,
          -18.786880493164062,
          9.662847518920898,
          -21.50511360168457,
          3.5881025791168213,
          6.468784332275391,
          5.149877071380615,
          10.527274131774902,
          18.62895965576172,
          -12.597831726074219,
          6.735018253326416,
          6.6829423904418945,
          -14.952810287475586,
          6.496821880340576,
          5.444993495941162,
          -16.49877166748047,
          -19.10955047607422,
          10.842238426208496,
          19.379249572753906,
          -19.216699600219727,
          -6.609197616577148,
          -14.241734504699707,
          1.447084903717041,
          9.322402000427246,
          27.64822769165039,
          -3.019564628601074,
          -1.3913884162902832,
          13.31820011138916,
          8.204432487487793,
          12.666536331176758,
          -24.084917068481445,
          -16.64016342163086,
          -26.838926315307617,
          -10.914466857910156,
          -6.054482460021973,
          10.372318267822266,
          -2.369173765182495,
          -16.96868324279785,
          4.607917308807373,
          7.697120666503906,
          -16.892515182495117,
          25.935535430908203,
          6.693195343017578,
          -18.48302459716797,
          1.8563997745513916,
          -8.052715301513672,
          -4.238927841186523,
          9.740909576416016,
          -9.692587852478027,
          11.80176067352295,
          28.62434959411621,
          0.9362418055534363,
          4.894413948059082,
          9.33372688293457,
          22.170940399169922,
          9.935051918029785,
          4.385493755340576,
          3.008913278579712,
          4.51270866394043,
          26.13683319091797,
          27.622827529907227,
          23.696231842041016,
          -13.444695472717285,
          -24.567665100097656,
          -4.96044397354126,
          -18.349258422851562,
          -4.452675819396973,
          -9.49734878540039,
          -18.93943977355957,
          -24.01161766052246,
          21.879928588867188,
          27.859806060791016,
          3.730457067489624,
          -16.880348205566406,
          5.040350914001465,
          16.05849838256836,
          -8.182682037353516,
          -6.668671607971191,
          8.040691375732422,
          16.195749282836914,
          13.279817581176758,
          16.924707412719727,
          -7.890599250793457,
          12.525111198425293,
          11.327263832092285,
          -5.352137088775635,
          -6.604573726654053,
          -19.471145629882812,
          12.811685562133789,
          18.309125900268555,
          -17.20728302001953,
          3.033604621887207,
          11.245162010192871,
          -22.014041900634766,
          -21.41130256652832,
          -14.823726654052734,
          -19.40564727783203,
          2.5098631381988525,
          0.6325271129608154,
          -0.8366198539733887,
          -1.5974230766296387,
          14.956277847290039,
          13.335665702819824,
          -14.859091758728027,
          10.894821166992188,
          5.48226261138916,
          -3.3955373764038086,
          3.990224838256836,
          4.009554386138916,
          -10.062043190002441,
          -10.283929824829102,
          7.830149173736572,
          10.985738754272461,
          23.869964599609375,
          9.713157653808594,
          2.3374600410461426,
          -0.046518854796886444,
          23.352685928344727,
          -13.874975204467773,
          -8.456476211547852,
          8.781536102294922,
          2.078758716583252,
          -17.50918960571289,
          12.256528854370117,
          -7.982899188995361,
          0.754342257976532,
          7.259307861328125,
          -7.516584396362305,
          7.679218769073486,
          10.92573070526123,
          -12.419629096984863,
          12.831812858581543,
          -17.26641082763672,
          -17.54768943786621,
          -11.225984573364258,
          14.492274284362793,
          5.79637336730957,
          29.891889572143555,
          -4.196020603179932,
          -26.91291046142578,
          8.796618461608887,
          9.428191184997559,
          -10.416357040405273,
          -9.492103576660156,
          -6.038249969482422,
          19.470638275146484,
          7.548867702484131,
          2.2608072757720947,
          -7.989762306213379,
          -9.36090087890625,
          5.621729373931885,
          -22.57067108154297,
          -3.1231324672698975,
          -3.124650239944458,
          10.000349044799805,
          -13.10647964477539,
          -7.9601945877075195,
          8.247369766235352,
          -15.620596885681152,
          -13.320853233337402,
          -11.204689025878906,
          6.052440643310547,
          1.8097596168518066,
          3.273921012878418,
          10.0687837600708,
          -12.354573249816895,
          -7.222491264343262,
          3.84240460395813,
          5.0835771560668945,
          -1.2201417684555054,
          -7.633419990539551,
          2.8797035217285156,
          -16.45480728149414,
          19.19915199279785,
          13.587884902954102,
          1.4825576543807983,
          -18.735958099365234,
          15.826501846313477,
          21.189008712768555,
          7.276920795440674,
          18.218215942382812,
          3.3195083141326904,
          -3.5237085819244385,
          9.107669830322266,
          19.695520401000977,
          14.747714042663574,
          -19.759647369384766,
          5.299342155456543,
          -5.207646369934082,
          -15.72701358795166,
          -1.4367107152938843,
          18.198862075805664,
          -1.2108650207519531,
          -14.475722312927246,
          14.750247955322266,
          -7.254130840301514,
          -13.535591125488281,
          5.230353355407715,
          -21.46639633178711,
          9.843039512634277,
          0.9412938952445984,
          8.498753547668457,
          1.658578872680664,
          11.08327579498291,
          -0.3605917692184448,
          15.967254638671875,
          -0.925548791885376,
          13.80628776550293,
          -9.238049507141113,
          3.15677809715271,
          17.860057830810547,
          -9.448708534240723,
          17.869251251220703,
          -11.527172088623047,
          -1.3898398876190186,
          17.13685417175293,
          0.9934088587760925,
          18.361618041992188,
          -11.233423233032227,
          1.7065072059631348,
          1.238104224205017,
          6.175985336303711,
          -8.644112586975098,
          0.2407934069633484,
          -2.5481598377227783,
          0.7949933409690857,
          27.37057876586914,
          1.031614065170288,
          14.157448768615723,
          -10.174388885498047,
          7.645411014556885,
          -12.385321617126465,
          4.200573921203613,
          11.695344924926758,
          -13.32124137878418,
          12.265484809875488,
          13.263917922973633,
          -21.392410278320312,
          -8.525745391845703,
          15.7775297164917,
          -0.5825272798538208,
          -10.659246444702148,
          12.631698608398438,
          -2.671142101287842,
          17.014209747314453,
          3.8476927280426025,
          -2.292999267578125,
          9.94189453125,
          12.409327507019043,
          -14.727984428405762,
          2.397402048110962,
          -10.396074295043945,
          9.367314338684082,
          20.99360466003418,
          10.071247100830078,
          -7.440059185028076,
          25.647722244262695,
          -2.964583158493042,
          16.167261123657227,
          -18.019371032714844,
          -12.303544998168945,
          5.561980247497559,
          -3.443384885787964,
          -8.871621131896973,
          -3.2927498817443848,
          11.601339340209961,
          -25.848173141479492,
          -24.06294059753418,
          8.871089935302734,
          6.709024429321289,
          -16.94663429260254,
          17.1927433013916,
          6.571421146392822,
          0.8119537234306335,
          -8.289217948913574,
          11.49517822265625,
          -9.693608283996582,
          -9.070762634277344,
          0.391157865524292,
          -6.814920902252197,
          7.11248254776001,
          18.351058959960938,
          -0.6303408741950989,
          0.9367520809173584,
          10.219850540161133,
          9.402226448059082,
          -17.053470611572266,
          17.27213478088379,
          13.57937240600586,
          17.652544021606445,
          3.7737948894500732,
          -5.772555351257324,
          3.0682544708251953,
          -21.34244728088379,
          6.490757942199707,
          7.516164779663086,
          -14.221291542053223,
          12.08106517791748,
          2.889570951461792,
          8.0364408493042,
          18.358745574951172,
          7.275145530700684,
          0.403351753950119,
          -8.978946685791016,
          11.024508476257324,
          -0.0985204353928566,
          17.558441162109375,
          3.612295150756836,
          6.6503400802612305,
          15.955764770507812,
          -23.47283363342285,
          8.850813865661621,
          20.793399810791016,
          -26.599369049072266,
          -10.831594467163086,
          -11.450865745544434,
          11.390042304992676,
          2.9951958656311035,
          -9.034374237060547,
          10.822074890136719,
          17.82072639465332,
          -13.180049896240234,
          2.6427206993103027,
          5.126077651977539,
          -15.535407066345215,
          6.76521110534668,
          -3.179600477218628,
          -9.661970138549805,
          13.594426155090332,
          6.832726955413818,
          -26.161725997924805,
          5.955130577087402,
          -2.110401153564453,
          -16.43706703186035,
          -22.671566009521484,
          10.671066284179688,
          0.26761698722839355,
          2.878721237182617,
          7.774650573730469,
          26.739351272583008,
          -4.64077615737915,
          11.714261054992676,
          -4.215588092803955,
          2.709153652191162,
          -13.755464553833008,
          3.0281546115875244,
          22.503259658813477,
          4.281216621398926,
          8.27766227722168,
          12.925289154052734,
          -25.681751251220703,
          8.842100143432617,
          8.394960403442383,
          18.06696128845215,
          -24.87664794921875,
          2.253007411956787,
          13.949617385864258,
          11.067246437072754,
          -9.846846580505371,
          -17.367631912231445,
          14.823600769042969,
          10.654053688049316,
          1.016340732574463,
          6.857478141784668,
          8.443964004516602,
          -1.5598458051681519,
          4.088937282562256,
          -12.15077018737793,
          -16.81936264038086,
          -9.271159172058105,
          -25.736732482910156,
          -15.3515625,
          -6.680059432983398,
          -17.786693572998047,
          10.463346481323242,
          2.5145926475524902,
          9.597330093383789,
          3.022284984588623,
          12.61263656616211,
          6.174625396728516,
          9.244949340820312,
          -6.054894924163818,
          -20.334077835083008,
          -24.197092056274414,
          -2.8865017890930176,
          -22.249210357666016,
          8.197517395019531,
          16.579526901245117,
          -2.990077495574951,
          -5.264216423034668,
          17.72774887084961,
          16.88051986694336,
          -7.866483688354492,
          -0.5190313458442688,
          -23.30275535583496,
          13.201902389526367,
          11.747065544128418,
          -6.429070949554443,
          -9.204416275024414,
          5.867604732513428,
          29.029924392700195,
          2.067725658416748,
          -18.53912925720215,
          -13.43032169342041,
          11.108226776123047,
          9.583202362060547,
          -4.4235992431640625,
          4.9318156242370605,
          14.946883201599121,
          -2.374818801879883,
          3.215959072113037,
          18.377635955810547,
          17.969587326049805,
          14.973158836364746,
          -13.110224723815918,
          15.628640174865723,
          7.60515832901001,
          18.57942771911621,
          15.72142505645752,
          1.7138233184814453,
          22.848278045654297,
          6.640175819396973,
          10.886042594909668,
          17.52278709411621,
          -0.5168224573135376,
          -1.254713535308838,
          14.074470520019531,
          20.30611801147461,
          3.048748254776001,
          -19.599994659423828,
          -0.9708970785140991,
          -10.500207901000977,
          -15.660840034484863,
          16.483455657958984,
          21.494516372680664,
          14.289477348327637,
          -12.903668403625488,
          5.610715389251709,
          -12.983806610107422,
          -1.6773645877838135,
          -13.245536804199219,
          18.529006958007812,
          24.161588668823242,
          -6.085464954376221,
          13.776094436645508,
          17.77641487121582,
          -5.130348205566406,
          15.762906074523926,
          -8.539360046386719,
          13.60407543182373,
          13.9734468460083,
          29.46155548095703,
          -12.40599250793457,
          -22.901575088500977,
          -5.093100547790527,
          8.771037101745605,
          13.179986953735352,
          16.237333297729492,
          0.9757322072982788,
          2.204913854598999,
          -6.915524482727051,
          20.487743377685547,
          -18.879140853881836,
          6.0202131271362305,
          -9.737724304199219,
          -0.8197275996208191,
          -2.109847068786621,
          14.326428413391113,
          4.498023509979248,
          -9.14224624633789,
          -7.2180094718933105,
          14.385868072509766,
          0.43846267461776733,
          -8.084115028381348,
          -10.199707984924316,
          6.171093940734863,
          -8.499310493469238,
          16.58740234375,
          3.085035562515259,
          -10.065218925476074,
          6.12007999420166,
          22.818435668945312,
          -3.225527286529541,
          -2.931887149810791,
          3.2740094661712646,
          -9.805381774902344,
          10.6372709274292,
          -7.721864223480225,
          -20.89156723022461,
          8.217473983764648,
          12.612542152404785,
          10.513838768005371,
          -5.461637496948242,
          3.5461957454681396,
          -10.738311767578125,
          19.842275619506836,
          -4.36614465713501,
          11.587640762329102,
          0.16275343298912048,
          3.5285823345184326,
          -15.332924842834473,
          -10.980106353759766,
          -19.414552688598633,
          -15.042902946472168,
          13.207382202148438,
          -15.359938621520996,
          -19.895458221435547,
          -10.611839294433594,
          12.452434539794922,
          -0.6327691674232483,
          16.874635696411133,
          -0.8196737766265869,
          -2.9695208072662354,
          17.912118911743164,
          6.171330451965332,
          5.56017541885376,
          9.770354270935059,
          10.47940444946289,
          -23.585649490356445,
          5.1834397315979,
          3.9110019207000732,
          -6.703127384185791,
          8.145686149597168,
          -20.057634353637695,
          1.4416028261184692,
          8.948141098022461,
          15.818023681640625,
          -21.03239631652832,
          -3.4930458068847656,
          -9.793996810913086,
          -24.085054397583008,
          -13.49815845489502,
          12.916178703308105,
          11.025811195373535,
          -17.2270450592041,
          12.750166893005371,
          -6.2498908042907715,
          13.04389762878418,
          7.618377208709717,
          -26.37614631652832,
          5.219985008239746,
          -22.058773040771484,
          -23.064950942993164,
          14.75333023071289,
          0.9049469232559204,
          -13.107869148254395,
          2.8835208415985107,
          -16.485227584838867,
          16.978832244873047,
          2.8392200469970703,
          27.927127838134766,
          9.7098388671875,
          -17.4088134765625,
          -5.480854034423828,
          -22.52557945251465,
          -5.503696918487549,
          15.553221702575684,
          6.131429195404053,
          9.09597396850586,
          18.220657348632812,
          27.875253677368164,
          -11.974143028259277,
          7.682973384857178,
          6.193044662475586,
          -19.896215438842773,
          6.372081756591797,
          -12.339056968688965,
          -14.66660213470459,
          -14.66805648803711,
          18.285133361816406,
          -11.624349594116211,
          -9.571991920471191,
          1.5439651012420654,
          17.367996215820312,
          -14.594902038574219,
          -26.352859497070312,
          11.792901039123535,
          5.211788654327393,
          -10.552785873413086,
          7.112646102905273,
          7.324067115783691,
          3.9530575275421143,
          7.876670837402344,
          -4.673059463500977,
          14.720418930053711,
          -2.4943039417266846,
          4.29309606552124,
          -23.87317657470703
         ],
         "xaxis": "x",
         "y": [
          -40.16292953491211,
          8.683599472045898,
          24.611881256103516,
          -33.774532318115234,
          11.078415870666504,
          6.945910930633545,
          -8.19001579284668,
          38.57679748535156,
          2.062711238861084,
          4.238054275512695,
          -10.559706687927246,
          50.14202880859375,
          -42.678958892822266,
          -50.99637985229492,
          -27.940189361572266,
          -11.574112892150879,
          25.869009017944336,
          -6.564032554626465,
          13.463489532470703,
          35.015079498291016,
          -43.38749313354492,
          -32.47732925415039,
          31.579875946044922,
          26.494556427001953,
          27.447378158569336,
          -30.30906867980957,
          -42.721920013427734,
          12.853837013244629,
          37.8371467590332,
          -22.644737243652344,
          -3.854513168334961,
          40.80401611328125,
          15.394709587097168,
          -25.138097763061523,
          22.461105346679688,
          -42.82188415527344,
          18.165538787841797,
          -9.457222938537598,
          -43.45449447631836,
          5.697326183319092,
          17.31515884399414,
          -41.64204025268555,
          -41.44481658935547,
          42.299583435058594,
          17.874683380126953,
          -8.61252498626709,
          -11.267046928405762,
          34.5819206237793,
          -42.4593505859375,
          18.81292152404785,
          45.729007720947266,
          -28.703968048095703,
          -11.592510223388672,
          23.33880615234375,
          21.601036071777344,
          33.76970672607422,
          28.923574447631836,
          -14.150918960571289,
          8.159518241882324,
          -22.85699462890625,
          38.27528762817383,
          23.209993362426758,
          -35.7224006652832,
          -4.715138912200928,
          -38.13904571533203,
          27.82443618774414,
          -4.574223041534424,
          12.161446571350098,
          -27.853382110595703,
          8.908698081970215,
          28.51365089416504,
          -22.294849395751953,
          -39.50418472290039,
          -12.167590141296387,
          -43.998870849609375,
          17.25186538696289,
          -25.331363677978516,
          -45.755592346191406,
          18.084766387939453,
          -29.83509635925293,
          -11.315003395080566,
          28.884685516357422,
          -9.46124267578125,
          27.999008178710938,
          4.448056697845459,
          -38.971946716308594,
          -46.698307037353516,
          -47.27714157104492,
          18.791200637817383,
          7.67173433303833,
          21.357593536376953,
          -43.03498458862305,
          44.32155227661133,
          -17.745634078979492,
          -46.18962860107422,
          -42.142852783203125,
          9.708477020263672,
          -17.004831314086914,
          51.68495559692383,
          41.918846130371094,
          22.676891326904297,
          -13.415608406066895,
          6.3788161277771,
          30.35918617248535,
          -50.154354095458984,
          31.456405639648438,
          -20.632524490356445,
          -21.439306259155273,
          -45.661197662353516,
          5.897090911865234,
          29.402969360351562,
          -7.083115577697754,
          -26.958580017089844,
          10.536133766174316,
          22.443927764892578,
          44.60952377319336,
          -28.201887130737305,
          -19.690303802490234,
          10.597188949584961,
          4.811196804046631,
          9.505929946899414,
          34.07865905761719,
          22.856992721557617,
          -21.7507266998291,
          -10.911334037780762,
          -43.37060546875,
          35.141700744628906,
          27.366493225097656,
          0.9905744791030884,
          -47.10182189941406,
          -19.396350860595703,
          -38.1683464050293,
          -14.248355865478516,
          25.28583335876465,
          -13.57583236694336,
          31.10038948059082,
          -7.651997089385986,
          -4.315325736999512,
          25.872774124145508,
          -34.44512939453125,
          -38.76433563232422,
          -14.855621337890625,
          23.238094329833984,
          -9.9303617477417,
          30.271852493286133,
          -26.61455726623535,
          -12.205204010009766,
          12.725301742553711,
          16.949769973754883,
          4.112356185913086,
          40.21662521362305,
          -8.868738174438477,
          30.9903564453125,
          20.166275024414062,
          -12.84736156463623,
          -44.00368881225586,
          18.318708419799805,
          33.763736724853516,
          10.651158332824707,
          51.947139739990234,
          21.39228057861328,
          -33.09828567504883,
          -40.645999908447266,
          34.97212600708008,
          -39.61316680908203,
          -37.10450744628906,
          3.737664222717285,
          -9.528786659240723,
          0.2201107144355774,
          22.972166061401367,
          18.524608612060547,
          22.28046417236328,
          42.1580924987793,
          31.624975204467773,
          6.066344738006592,
          -24.85845947265625,
          7.600410461425781,
          9.858105659484863,
          -49.656455993652344,
          28.6304931640625,
          30.734718322753906,
          23.861156463623047,
          -47.976165771484375,
          -37.570072174072266,
          15.30128002166748,
          -30.192163467407227,
          -39.550167083740234,
          22.273719787597656,
          18.62874412536621,
          28.11430549621582,
          27.259231567382812,
          -36.682369232177734,
          5.529844284057617,
          -47.60078811645508,
          26.09255027770996,
          24.10755729675293,
          7.009423732757568,
          37.1134033203125,
          2.7178092002868652,
          24.239423751831055,
          20.89298439025879,
          -44.06534957885742,
          18.773941040039062,
          -28.80982780456543,
          6.286550521850586,
          -4.324093818664551,
          1.5525755882263184,
          -29.580354690551758,
          28.10516929626465,
          20.032955169677734,
          5.257549285888672,
          -20.388071060180664,
          45.72300720214844,
          -45.22228240966797,
          41.63994598388672,
          53.256351470947266,
          50.63880157470703,
          25.50054359436035,
          -21.148160934448242,
          2.4620347023010254,
          20.80670928955078,
          15.153322219848633,
          -23.908727645874023,
          -51.56125259399414,
          14.710083961486816,
          16.957042694091797,
          -38.098167419433594,
          11.08262825012207,
          -5.066932201385498,
          42.06878662109375,
          3.2215781211853027,
          51.926971435546875,
          34.7556266784668,
          -30.199644088745117,
          9.82396125793457,
          18.022558212280273,
          -24.088274002075195,
          9.472015380859375,
          45.43970489501953,
          -47.8502197265625,
          1.93137788772583,
          -0.16774368286132812,
          5.078210353851318,
          -34.957393646240234,
          -46.58309555053711,
          21.164382934570312,
          -2.4225869178771973,
          26.178804397583008,
          12.249898910522461,
          -36.446624755859375,
          -32.1119270324707,
          4.736460208892822,
          41.46414566040039,
          34.319820404052734,
          17.959115982055664,
          -14.194784164428711,
          -10.484124183654785,
          -26.6719970703125,
          3.8497262001037598,
          -39.62013626098633,
          27.268402099609375,
          -41.808349609375,
          -12.141284942626953,
          41.944976806640625,
          -18.914409637451172,
          -24.675827026367188,
          -40.776798248291016,
          32.19044494628906,
          -10.911375045776367,
          -41.08127212524414,
          25.275466918945312,
          17.254390716552734,
          -45.32164001464844,
          -7.284903526306152,
          -45.6838264465332,
          23.56591796875,
          -34.712425231933594,
          29.950403213500977,
          -39.132659912109375,
          -16.879613876342773,
          41.58964538574219,
          -11.201141357421875,
          -32.615760803222656,
          -5.601318359375,
          28.615703582763672,
          -17.266956329345703,
          30.290449142456055,
          19.019569396972656,
          40.31565475463867,
          33.20747756958008,
          -33.4613037109375,
          -4.036134719848633,
          -43.65436935424805,
          13.23115062713623,
          -19.878347396850586,
          -40.6389045715332,
          -6.540489673614502,
          -35.697654724121094,
          -40.292755126953125,
          -18.408939361572266,
          -16.580881118774414,
          -30.122848510742188,
          -10.367210388183594,
          11.12437915802002,
          8.360258102416992,
          27.944643020629883,
          32.620155334472656,
          -49.05757141113281,
          -21.290725708007812,
          -36.19981002807617,
          -26.929340362548828,
          -37.271846771240234,
          -34.60977554321289,
          -15.769160270690918,
          44.93857955932617,
          -9.728422164916992,
          12.155962944030762,
          -27.5866641998291,
          6.061991214752197,
          42.7440071105957,
          -17.367677688598633,
          36.42274475097656,
          -37.78436279296875,
          -32.543766021728516,
          49.69435501098633,
          30.97175407409668,
          51.249053955078125,
          38.02665710449219,
          -18.732234954833984,
          -37.66651916503906,
          32.794189453125,
          36.257991790771484,
          -35.77175521850586,
          14.87752628326416,
          -41.91374969482422,
          5.633264541625977,
          1.7398231029510498,
          19.396005630493164,
          -30.676164627075195,
          8.477587699890137,
          -26.788270950317383,
          -24.81264305114746,
          8.778505325317383,
          -21.377784729003906,
          37.30597686767578,
          11.620193481445312,
          5.788887023925781,
          -5.870323657989502,
          21.528583526611328,
          -40.7952880859375,
          38.509315490722656,
          5.316342353820801,
          32.55002212524414,
          32.303993225097656,
          -7.2995100021362305,
          20.471424102783203,
          -9.229938507080078,
          -35.14830780029297,
          43.65321731567383,
          28.204940795898438,
          16.963476181030273,
          -33.471595764160156,
          7.749327659606934,
          -4.966394424438477,
          50.798763275146484,
          23.717540740966797,
          35.34466552734375,
          40.774658203125,
          -17.20227813720703,
          4.9403276443481445,
          8.837903022766113,
          5.7444047927856445,
          -13.90521240234375,
          30.456920623779297,
          46.28944778442383,
          33.72254943847656,
          5.687297821044922,
          35.516780853271484,
          27.927892684936523,
          -15.661667823791504,
          -14.05285358428955,
          -39.75206756591797,
          -10.286864280700684,
          -2.3796682357788086,
          -2.9636242389678955,
          -6.79470157623291,
          14.120681762695312,
          -30.159128189086914,
          12.239334106445312,
          16.311023712158203,
          27.155717849731445,
          -15.50399112701416,
          31.094820022583008,
          -43.88399124145508,
          10.173628807067871,
          -38.46475601196289,
          -24.62874412536621,
          24.42847442626953,
          24.415340423583984,
          -12.514148712158203,
          -38.495330810546875,
          8.632810592651367,
          2.7686827182769775,
          27.30577278137207,
          31.115100860595703,
          28.02721405029297,
          16.299592971801758,
          -31.785070419311523,
          0.3380849361419678,
          -9.462847709655762,
          -28.044416427612305,
          -44.081199645996094,
          -25.48957633972168,
          -0.08407285809516907,
          -14.461581230163574,
          -18.98573112487793,
          -34.256065368652344,
          10.89404010772705,
          -12.06372356414795,
          31.169677734375,
          20.463165283203125,
          -13.586393356323242,
          -16.375274658203125,
          -36.864383697509766,
          -21.261695861816406,
          -47.85900115966797,
          -4.164211273193359,
          -18.852458953857422,
          -4.845186233520508,
          -26.71570587158203,
          41.49570846557617,
          -5.9600324630737305,
          -38.394344329833984,
          29.55177879333496,
          40.986446380615234,
          -27.39944076538086,
          21.56595802307129,
          -35.44563293457031,
          -30.608922958374023,
          53.338035583496094,
          50.445770263671875,
          -24.127925872802734,
          -35.9910774230957,
          30.460895538330078,
          8.76688003540039,
          12.328655242919922,
          24.139089584350586,
          30.67438507080078,
          15.46016788482666,
          -39.467342376708984,
          40.97455978393555,
          -25.99482536315918,
          -20.217124938964844,
          24.424715042114258,
          -44.96415328979492,
          20.322797775268555,
          39.34174346923828,
          8.301607131958008,
          7.411552906036377,
          44.59520721435547,
          -42.106483459472656,
          3.540850877761841,
          21.05724334716797,
          -34.12860870361328,
          -47.68705368041992,
          47.56126403808594,
          30.401453018188477,
          37.57815170288086,
          -6.160289764404297,
          34.43494415283203,
          46.12587356567383,
          20.123687744140625,
          18.66156768798828,
          26.828506469726562,
          7.6437273025512695,
          10.336231231689453,
          30.712182998657227,
          -13.074076652526855,
          43.285404205322266,
          -9.695206642150879,
          -13.424671173095703,
          -22.548547744750977,
          10.069578170776367,
          20.838886260986328,
          6.97507905960083,
          9.959290504455566,
          -20.016035079956055,
          -32.238548278808594,
          7.547820091247559,
          6.000494003295898,
          -30.882083892822266,
          40.54785919189453,
          -22.775402069091797,
          -29.650625228881836,
          43.46596145629883,
          -38.717132568359375,
          -8.392004013061523,
          -16.045883178710938,
          -33.848941802978516,
          9.105052947998047,
          50.94561767578125,
          -29.241209030151367,
          -21.656803131103516,
          -34.150787353515625,
          -27.945528030395508,
          -39.435333251953125,
          -15.35834789276123,
          -4.073298454284668,
          -49.03700637817383,
          19.879634857177734,
          -9.18651008605957,
          -33.5125617980957,
          -39.39433670043945,
          9.993871688842773,
          -15.527715682983398,
          -46.39850616455078,
          5.536096096038818,
          -38.888221740722656,
          42.88279342651367,
          -30.237520217895508,
          -37.81680679321289,
          -36.55564498901367,
          -15.55262279510498,
          -16.270862579345703,
          -19.184913635253906,
          20.723495483398438,
          31.501567840576172,
          -30.719589233398438,
          -39.27064514160156,
          31.891117095947266,
          12.963380813598633,
          -42.29784393310547,
          -35.47666931152344,
          -38.30036544799805,
          -24.444992065429688,
          -25.508901596069336,
          -24.084095001220703,
          -29.071022033691406,
          14.605806350708008,
          -20.696744918823242,
          -31.599462509155273,
          3.9494218826293945,
          -15.557289123535156,
          33.50912094116211,
          28.24628257751465,
          -9.868364334106445,
          -44.55146789550781,
          48.31147003173828,
          48.388309478759766,
          26.652629852294922,
          23.01290512084961,
          -21.05545425415039,
          -31.888425827026367,
          -8.949654579162598,
          -11.065617561340332,
          -35.784034729003906,
          40.90510559082031,
          41.84362030029297,
          23.920761108398438,
          -45.51194381713867,
          19.21184539794922,
          19.11215591430664,
          -15.639396667480469,
          8.325789451599121,
          -38.60321044921875,
          44.230899810791016,
          -16.77550506591797,
          32.15480041503906,
          -12.734292984008789,
          19.73625946044922,
          -25.984777450561523,
          -43.715091705322266,
          -36.73542785644531,
          -49.33729553222656,
          -6.788849830627441,
          -45.33567428588867,
          -45.214054107666016,
          18.55076026916504,
          -44.720767974853516,
          30.132619857788086,
          24.829999923706055,
          39.24613571166992,
          6.348629474639893,
          30.691492080688477,
          8.649894714355469,
          51.018646240234375,
          33.940025329589844,
          -46.77980422973633,
          -48.18379211425781,
          45.733638763427734,
          -25.240020751953125,
          50.21030807495117,
          50.37594985961914,
          15.248268127441406,
          45.689456939697266,
          -19.458375930786133,
          29.149776458740234,
          -17.671724319458008,
          -20.591093063354492,
          -24.517148971557617,
          32.99053955078125,
          -46.82453536987305,
          45.20847702026367,
          17.779796600341797,
          34.69049835205078,
          34.20072937011719,
          -25.419811248779297,
          -34.31993865966797,
          -9.404329299926758,
          -45.025508880615234,
          -2.4812240600585938,
          -18.926170349121094,
          11.065545082092285,
          -4.984660625457764,
          -41.295745849609375,
          49.66454315185547,
          -38.83473587036133,
          49.9567756652832,
          -45.63883590698242,
          -36.24831771850586,
          39.288448333740234,
          3.8767619132995605,
          7.909505844116211,
          28.295927047729492,
          49.35223388671875,
          -21.547855377197266,
          6.23954963684082,
          -26.21453857421875,
          6.444642066955566,
          22.904308319091797,
          24.84575080871582,
          28.325336456298828,
          -45.85990524291992,
          41.84444808959961,
          -22.95526695251465,
          -43.094478607177734,
          6.406192302703857,
          -4.998259544372559,
          24.085205078125,
          -10.192380905151367,
          -14.596687316894531,
          6.120718002319336,
          34.399070739746094,
          -28.850879669189453,
          -4.471597194671631,
          -20.55964469909668,
          -0.2635360062122345,
          -35.9863395690918,
          23.52216148376465,
          1.6151012182235718,
          -32.5305061340332,
          -29.32565689086914,
          -42.908363342285156,
          25.3741455078125,
          -19.5645809173584,
          -25.419031143188477,
          16.20281410217285,
          38.71955108642578,
          -3.798280715942383,
          -24.64867401123047,
          -28.73595428466797,
          -8.353364944458008,
          41.55784225463867,
          21.74380874633789,
          -20.584657669067383,
          11.43435001373291,
          -35.69430923461914,
          29.885250091552734,
          18.480512619018555,
          4.905825138092041,
          48.19563293457031,
          13.484773635864258,
          -19.1260986328125,
          46.0648307800293,
          -12.555408477783203,
          -3.207092761993408,
          33.57436752319336,
          32.52742004394531,
          -30.049062728881836,
          -30.82950210571289,
          -34.319061279296875,
          -15.48810863494873,
          1.899698257446289,
          21.929628372192383,
          -29.245548248291016,
          38.6126708984375,
          27.126283645629883,
          -16.71631622314453,
          -18.995792388916016,
          -43.594722747802734,
          -13.256891250610352,
          21.684545516967773,
          -18.341670989990234,
          -27.755123138427734,
          32.71438217163086,
          24.907407760620117,
          -8.234853744506836,
          -37.01639175415039,
          9.257286071777344,
          31.8974609375,
          -33.63649368286133,
          15.773905754089355,
          8.08857536315918,
          17.2208251953125,
          33.2854118347168,
          11.321651458740234,
          -19.3634090423584,
          37.29757308959961,
          6.685510158538818,
          42.55806350708008,
          11.854594230651855,
          47.30868911743164,
          45.06233596801758,
          -24.046356201171875,
          -31.42726707458496,
          -35.11893081665039,
          -21.14946937561035,
          3.6131300926208496,
          47.835506439208984,
          4.220038414001465,
          -35.70756530761719,
          -22.48619842529297,
          7.341365337371826,
          24.67011070251465,
          17.436594009399414,
          4.1357550621032715,
          19.798933029174805,
          13.811643600463867,
          -31.431699752807617,
          -40.15838623046875,
          40.167724609375,
          -23.68173599243164,
          24.956892013549805,
          26.191692352294922,
          -42.81053161621094,
          47.971435546875,
          -28.674734115600586,
          -21.489612579345703,
          4.474921226501465,
          -4.732118606567383,
          47.84773254394531,
          36.3233757019043,
          0.8111637830734253,
          9.620018005371094,
          43.57138442993164,
          15.564224243164062,
          -21.01465606689453,
          -31.419179916381836,
          29.521442413330078,
          -44.55570602416992,
          -36.235267639160156,
          29.02266502380371,
          28.11684799194336,
          17.616384506225586,
          -38.78620147705078,
          23.441673278808594,
          -20.464412689208984,
          -24.912822723388672,
          20.430133819580078,
          -28.195499420166016,
          -18.650766372680664,
          -15.88955020904541,
          2.1445631980895996,
          8.860562324523926,
          12.221888542175293,
          31.010944366455078,
          -3.325859785079956,
          -35.82298278808594,
          32.866336822509766,
          9.000957489013672,
          -8.125856399536133,
          -41.1955451965332,
          37.52471923828125,
          13.890334129333496,
          30.525409698486328,
          5.680810928344727,
          34.2745361328125,
          3.0315070152282715,
          11.528916358947754,
          -7.53272008895874,
          -27.353239059448242,
          -2.4788074493408203,
          -21.213682174682617,
          -40.4207763671875,
          4.311391830444336,
          -17.673248291015625,
          7.403522968292236,
          -7.667582988739014,
          -4.0807719230651855,
          43.35647201538086,
          5.072265625,
          37.245941162109375,
          9.836106300354004,
          16.425172805786133,
          10.518356323242188,
          8.882247924804688,
          2.4952359199523926,
          7.845104217529297,
          -39.563053131103516,
          9.428238868713379,
          35.38999557495117,
          -10.733763694763184,
          26.335792541503906,
          41.307735443115234,
          34.344974517822266,
          -1.3219349384307861,
          -24.046768188476562,
          3.2588448524475098,
          -2.945826292037964,
          -7.661937236785889,
          -44.58340072631836,
          -9.129867553710938,
          22.45741081237793,
          -51.21446228027344,
          -16.326614379882812,
          -26.266521453857422,
          41.373680114746094,
          -33.2435417175293,
          36.574134826660156,
          6.928153038024902,
          -7.766757011413574,
          -2.412092685699463,
          15.301021575927734,
          52.46467208862305,
          -28.499414443969727,
          -20.747102737426758,
          36.5217399597168,
          25.72238540649414,
          -44.715965270996094,
          18.429962158203125,
          53.30720520019531,
          42.73127365112305,
          12.910597801208496,
          8.07403564453125,
          47.93416976928711,
          23.8502140045166,
          -47.37764358520508,
          -36.26369857788086,
          -7.445955753326416,
          7.170626163482666,
          -32.57280349731445,
          11.734512329101562,
          -2.843417167663574,
          -16.157011032104492,
          13.7815580368042,
          -28.718008041381836,
          1.4342519044876099,
          -8.596909523010254,
          -11.636778831481934,
          17.584136962890625,
          12.9586181640625,
          -25.49935531616211,
          -17.233882904052734,
          3.8678975105285645,
          16.224802017211914,
          44.81710433959961,
          22.478553771972656,
          27.653207778930664,
          3.698112726211548,
          -20.637414932250977,
          24.07986068725586,
          40.74222183227539,
          30.796977996826172,
          18.763935089111328,
          -15.012813568115234,
          -5.543393611907959,
          7.337528228759766,
          21.42012596130371,
          -5.28336763381958,
          -30.59548568725586,
          -31.321975708007812,
          -39.76563262939453,
          26.95673179626465,
          2.7200634479522705,
          -2.416969060897827,
          -30.579343795776367,
          8.456613540649414,
          25.13664436340332,
          -42.55471420288086,
          -11.821362495422363,
          -24.588483810424805,
          30.2857723236084,
          -13.327930450439453,
          42.74361038208008,
          26.45014190673828,
          -40.81189727783203,
          2.795520067214966,
          -23.20494270324707,
          21.681257247924805,
          22.681318283081055,
          29.494600296020508,
          33.82068634033203,
          -39.88954544067383,
          12.229085922241211,
          16.571680068969727,
          -31.808420181274414,
          -8.159902572631836,
          -38.91384506225586,
          42.503665924072266,
          -37.92855453491211,
          2.5475339889526367,
          43.746700286865234,
          48.191307067871094,
          29.260059356689453,
          18.570453643798828,
          22.28009796142578,
          6.46880578994751,
          -28.07806968688965,
          32.201019287109375,
          48.88663101196289,
          12.548224449157715,
          40.63207244873047,
          -41.984683990478516,
          -38.630462646484375,
          -22.22464370727539,
          -46.04800796508789,
          49.397308349609375,
          14.941086769104004,
          -1.4003597497940063,
          -42.80276107788086,
          41.12867736816406,
          42.25802230834961,
          43.16327667236328,
          7.177527904510498,
          -40.98025894165039,
          28.223859786987305,
          -36.45107650756836,
          3.312844753265381,
          3.8446455001831055,
          16.58696937561035,
          -21.154254913330078,
          -46.12618637084961,
          -21.57229995727539,
          -43.352664947509766,
          21.261194229125977,
          -38.9011116027832,
          33.28988265991211,
          46.45463562011719,
          26.81244468688965,
          -46.799560546875,
          -26.136905670166016,
          -5.991640567779541,
          -28.200071334838867,
          0.5513277649879456,
          17.957561492919922,
          -22.652759552001953,
          -16.411590576171875,
          46.64494705200195,
          34.63527297973633,
          38.76486587524414,
          49.45036315917969,
          -25.523910522460938,
          -26.209583282470703,
          2.409611701965332,
          -35.173118591308594,
          36.6513557434082,
          -29.574846267700195,
          -11.76738166809082,
          -47.44734191894531,
          -7.5174384117126465,
          32.505455017089844,
          32.140071868896484,
          23.445005416870117,
          -22.414236068725586,
          30.139501571655273,
          -27.166444778442383,
          -2.924314022064209,
          31.35824966430664,
          30.292627334594727,
          25.878507614135742,
          50.15742874145508,
          11.598727226257324,
          26.039033889770508,
          30.895872116088867,
          -43.970367431640625,
          46.4792594909668,
          4.618602752685547,
          -41.23367691040039,
          4.209147930145264,
          -29.390727996826172,
          8.68287467956543,
          -23.791780471801758,
          -34.33540344238281,
          25.07714080810547,
          21.7537899017334,
          -31.810165405273438,
          -27.1265926361084,
          -23.196659088134766,
          14.224737167358398,
          39.809593200683594,
          17.604951858520508,
          -46.639305114746094,
          46.61466598510742,
          -18.86444664001465,
          16.412111282348633,
          -13.217449188232422,
          2.690225124359131,
          24.978805541992188,
          5.736111164093018,
          -3.166438102722168
         ],
         "yaxis": "y"
        }
       ],
       "layout": {
        "autosize": true,
        "coloraxis": {
         "colorbar": {
          "title": {
           "text": "__cluster__clusterLabel"
          }
         },
         "colorscale": [
          [
           0,
           "#0d0887"
          ],
          [
           0.1111111111111111,
           "#46039f"
          ],
          [
           0.2222222222222222,
           "#7201a8"
          ],
          [
           0.3333333333333333,
           "#9c179e"
          ],
          [
           0.4444444444444444,
           "#bd3786"
          ],
          [
           0.5555555555555556,
           "#d8576b"
          ],
          [
           0.6666666666666666,
           "#ed7953"
          ],
          [
           0.7777777777777778,
           "#fb9f3a"
          ],
          [
           0.8888888888888888,
           "#fdca26"
          ],
          [
           1,
           "#f0f921"
          ]
         ]
        },
        "legend": {
         "tracegroupgap": 0
        },
        "margin": {
         "t": 60
        },
        "template": {
         "data": {
          "bar": [
           {
            "error_x": {
             "color": "#2a3f5f"
            },
            "error_y": {
             "color": "#2a3f5f"
            },
            "marker": {
             "line": {
              "color": "#E5ECF6",
              "width": 0.5
             },
             "pattern": {
              "fillmode": "overlay",
              "size": 10,
              "solidity": 0.2
             }
            },
            "type": "bar"
           }
          ],
          "barpolar": [
           {
            "marker": {
             "line": {
              "color": "#E5ECF6",
              "width": 0.5
             },
             "pattern": {
              "fillmode": "overlay",
              "size": 10,
              "solidity": 0.2
             }
            },
            "type": "barpolar"
           }
          ],
          "carpet": [
           {
            "aaxis": {
             "endlinecolor": "#2a3f5f",
             "gridcolor": "white",
             "linecolor": "white",
             "minorgridcolor": "white",
             "startlinecolor": "#2a3f5f"
            },
            "baxis": {
             "endlinecolor": "#2a3f5f",
             "gridcolor": "white",
             "linecolor": "white",
             "minorgridcolor": "white",
             "startlinecolor": "#2a3f5f"
            },
            "type": "carpet"
           }
          ],
          "choropleth": [
           {
            "colorbar": {
             "outlinewidth": 0,
             "ticks": ""
            },
            "type": "choropleth"
           }
          ],
          "contour": [
           {
            "colorbar": {
             "outlinewidth": 0,
             "ticks": ""
            },
            "colorscale": [
             [
              0,
              "#0d0887"
             ],
             [
              0.1111111111111111,
              "#46039f"
             ],
             [
              0.2222222222222222,
              "#7201a8"
             ],
             [
              0.3333333333333333,
              "#9c179e"
             ],
             [
              0.4444444444444444,
              "#bd3786"
             ],
             [
              0.5555555555555556,
              "#d8576b"
             ],
             [
              0.6666666666666666,
              "#ed7953"
             ],
             [
              0.7777777777777778,
              "#fb9f3a"
             ],
             [
              0.8888888888888888,
              "#fdca26"
             ],
             [
              1,
              "#f0f921"
             ]
            ],
            "type": "contour"
           }
          ],
          "contourcarpet": [
           {
            "colorbar": {
             "outlinewidth": 0,
             "ticks": ""
            },
            "type": "contourcarpet"
           }
          ],
          "heatmap": [
           {
            "colorbar": {
             "outlinewidth": 0,
             "ticks": ""
            },
            "colorscale": [
             [
              0,
              "#0d0887"
             ],
             [
              0.1111111111111111,
              "#46039f"
             ],
             [
              0.2222222222222222,
              "#7201a8"
             ],
             [
              0.3333333333333333,
              "#9c179e"
             ],
             [
              0.4444444444444444,
              "#bd3786"
             ],
             [
              0.5555555555555556,
              "#d8576b"
             ],
             [
              0.6666666666666666,
              "#ed7953"
             ],
             [
              0.7777777777777778,
              "#fb9f3a"
             ],
             [
              0.8888888888888888,
              "#fdca26"
             ],
             [
              1,
              "#f0f921"
             ]
            ],
            "type": "heatmap"
           }
          ],
          "heatmapgl": [
           {
            "colorbar": {
             "outlinewidth": 0,
             "ticks": ""
            },
            "colorscale": [
             [
              0,
              "#0d0887"
             ],
             [
              0.1111111111111111,
              "#46039f"
             ],
             [
              0.2222222222222222,
              "#7201a8"
             ],
             [
              0.3333333333333333,
              "#9c179e"
             ],
             [
              0.4444444444444444,
              "#bd3786"
             ],
             [
              0.5555555555555556,
              "#d8576b"
             ],
             [
              0.6666666666666666,
              "#ed7953"
             ],
             [
              0.7777777777777778,
              "#fb9f3a"
             ],
             [
              0.8888888888888888,
              "#fdca26"
             ],
             [
              1,
              "#f0f921"
             ]
            ],
            "type": "heatmapgl"
           }
          ],
          "histogram": [
           {
            "marker": {
             "pattern": {
              "fillmode": "overlay",
              "size": 10,
              "solidity": 0.2
             }
            },
            "type": "histogram"
           }
          ],
          "histogram2d": [
           {
            "colorbar": {
             "outlinewidth": 0,
             "ticks": ""
            },
            "colorscale": [
             [
              0,
              "#0d0887"
             ],
             [
              0.1111111111111111,
              "#46039f"
             ],
             [
              0.2222222222222222,
              "#7201a8"
             ],
             [
              0.3333333333333333,
              "#9c179e"
             ],
             [
              0.4444444444444444,
              "#bd3786"
             ],
             [
              0.5555555555555556,
              "#d8576b"
             ],
             [
              0.6666666666666666,
              "#ed7953"
             ],
             [
              0.7777777777777778,
              "#fb9f3a"
             ],
             [
              0.8888888888888888,
              "#fdca26"
             ],
             [
              1,
              "#f0f921"
             ]
            ],
            "type": "histogram2d"
           }
          ],
          "histogram2dcontour": [
           {
            "colorbar": {
             "outlinewidth": 0,
             "ticks": ""
            },
            "colorscale": [
             [
              0,
              "#0d0887"
             ],
             [
              0.1111111111111111,
              "#46039f"
             ],
             [
              0.2222222222222222,
              "#7201a8"
             ],
             [
              0.3333333333333333,
              "#9c179e"
             ],
             [
              0.4444444444444444,
              "#bd3786"
             ],
             [
              0.5555555555555556,
              "#d8576b"
             ],
             [
              0.6666666666666666,
              "#ed7953"
             ],
             [
              0.7777777777777778,
              "#fb9f3a"
             ],
             [
              0.8888888888888888,
              "#fdca26"
             ],
             [
              1,
              "#f0f921"
             ]
            ],
            "type": "histogram2dcontour"
           }
          ],
          "mesh3d": [
           {
            "colorbar": {
             "outlinewidth": 0,
             "ticks": ""
            },
            "type": "mesh3d"
           }
          ],
          "parcoords": [
           {
            "line": {
             "colorbar": {
              "outlinewidth": 0,
              "ticks": ""
             }
            },
            "type": "parcoords"
           }
          ],
          "pie": [
           {
            "automargin": true,
            "type": "pie"
           }
          ],
          "scatter": [
           {
            "marker": {
             "colorbar": {
              "outlinewidth": 0,
              "ticks": ""
             }
            },
            "type": "scatter"
           }
          ],
          "scatter3d": [
           {
            "line": {
             "colorbar": {
              "outlinewidth": 0,
              "ticks": ""
             }
            },
            "marker": {
             "colorbar": {
              "outlinewidth": 0,
              "ticks": ""
             }
            },
            "type": "scatter3d"
           }
          ],
          "scattercarpet": [
           {
            "marker": {
             "colorbar": {
              "outlinewidth": 0,
              "ticks": ""
             }
            },
            "type": "scattercarpet"
           }
          ],
          "scattergeo": [
           {
            "marker": {
             "colorbar": {
              "outlinewidth": 0,
              "ticks": ""
             }
            },
            "type": "scattergeo"
           }
          ],
          "scattergl": [
           {
            "marker": {
             "colorbar": {
              "outlinewidth": 0,
              "ticks": ""
             }
            },
            "type": "scattergl"
           }
          ],
          "scattermapbox": [
           {
            "marker": {
             "colorbar": {
              "outlinewidth": 0,
              "ticks": ""
             }
            },
            "type": "scattermapbox"
           }
          ],
          "scatterpolar": [
           {
            "marker": {
             "colorbar": {
              "outlinewidth": 0,
              "ticks": ""
             }
            },
            "type": "scatterpolar"
           }
          ],
          "scatterpolargl": [
           {
            "marker": {
             "colorbar": {
              "outlinewidth": 0,
              "ticks": ""
             }
            },
            "type": "scatterpolargl"
           }
          ],
          "scatterternary": [
           {
            "marker": {
             "colorbar": {
              "outlinewidth": 0,
              "ticks": ""
             }
            },
            "type": "scatterternary"
           }
          ],
          "surface": [
           {
            "colorbar": {
             "outlinewidth": 0,
             "ticks": ""
            },
            "colorscale": [
             [
              0,
              "#0d0887"
             ],
             [
              0.1111111111111111,
              "#46039f"
             ],
             [
              0.2222222222222222,
              "#7201a8"
             ],
             [
              0.3333333333333333,
              "#9c179e"
             ],
             [
              0.4444444444444444,
              "#bd3786"
             ],
             [
              0.5555555555555556,
              "#d8576b"
             ],
             [
              0.6666666666666666,
              "#ed7953"
             ],
             [
              0.7777777777777778,
              "#fb9f3a"
             ],
             [
              0.8888888888888888,
              "#fdca26"
             ],
             [
              1,
              "#f0f921"
             ]
            ],
            "type": "surface"
           }
          ],
          "table": [
           {
            "cells": {
             "fill": {
              "color": "#EBF0F8"
             },
             "line": {
              "color": "white"
             }
            },
            "header": {
             "fill": {
              "color": "#C8D4E3"
             },
             "line": {
              "color": "white"
             }
            },
            "type": "table"
           }
          ]
         },
         "layout": {
          "annotationdefaults": {
           "arrowcolor": "#2a3f5f",
           "arrowhead": 0,
           "arrowwidth": 1
          },
          "autotypenumbers": "strict",
          "coloraxis": {
           "colorbar": {
            "outlinewidth": 0,
            "ticks": ""
           }
          },
          "colorscale": {
           "diverging": [
            [
             0,
             "#8e0152"
            ],
            [
             0.1,
             "#c51b7d"
            ],
            [
             0.2,
             "#de77ae"
            ],
            [
             0.3,
             "#f1b6da"
            ],
            [
             0.4,
             "#fde0ef"
            ],
            [
             0.5,
             "#f7f7f7"
            ],
            [
             0.6,
             "#e6f5d0"
            ],
            [
             0.7,
             "#b8e186"
            ],
            [
             0.8,
             "#7fbc41"
            ],
            [
             0.9,
             "#4d9221"
            ],
            [
             1,
             "#276419"
            ]
           ],
           "sequential": [
            [
             0,
             "#0d0887"
            ],
            [
             0.1111111111111111,
             "#46039f"
            ],
            [
             0.2222222222222222,
             "#7201a8"
            ],
            [
             0.3333333333333333,
             "#9c179e"
            ],
            [
             0.4444444444444444,
             "#bd3786"
            ],
            [
             0.5555555555555556,
             "#d8576b"
            ],
            [
             0.6666666666666666,
             "#ed7953"
            ],
            [
             0.7777777777777778,
             "#fb9f3a"
            ],
            [
             0.8888888888888888,
             "#fdca26"
            ],
            [
             1,
             "#f0f921"
            ]
           ],
           "sequentialminus": [
            [
             0,
             "#0d0887"
            ],
            [
             0.1111111111111111,
             "#46039f"
            ],
            [
             0.2222222222222222,
             "#7201a8"
            ],
            [
             0.3333333333333333,
             "#9c179e"
            ],
            [
             0.4444444444444444,
             "#bd3786"
            ],
            [
             0.5555555555555556,
             "#d8576b"
            ],
            [
             0.6666666666666666,
             "#ed7953"
            ],
            [
             0.7777777777777778,
             "#fb9f3a"
            ],
            [
             0.8888888888888888,
             "#fdca26"
            ],
            [
             1,
             "#f0f921"
            ]
           ]
          },
          "colorway": [
           "#636efa",
           "#EF553B",
           "#00cc96",
           "#ab63fa",
           "#FFA15A",
           "#19d3f3",
           "#FF6692",
           "#B6E880",
           "#FF97FF",
           "#FECB52"
          ],
          "font": {
           "color": "#2a3f5f"
          },
          "geo": {
           "bgcolor": "white",
           "lakecolor": "white",
           "landcolor": "#E5ECF6",
           "showlakes": true,
           "showland": true,
           "subunitcolor": "white"
          },
          "hoverlabel": {
           "align": "left"
          },
          "hovermode": "closest",
          "mapbox": {
           "style": "light"
          },
          "paper_bgcolor": "white",
          "plot_bgcolor": "#E5ECF6",
          "polar": {
           "angularaxis": {
            "gridcolor": "white",
            "linecolor": "white",
            "ticks": ""
           },
           "bgcolor": "#E5ECF6",
           "radialaxis": {
            "gridcolor": "white",
            "linecolor": "white",
            "ticks": ""
           }
          },
          "scene": {
           "xaxis": {
            "backgroundcolor": "#E5ECF6",
            "gridcolor": "white",
            "gridwidth": 2,
            "linecolor": "white",
            "showbackground": true,
            "ticks": "",
            "zerolinecolor": "white"
           },
           "yaxis": {
            "backgroundcolor": "#E5ECF6",
            "gridcolor": "white",
            "gridwidth": 2,
            "linecolor": "white",
            "showbackground": true,
            "ticks": "",
            "zerolinecolor": "white"
           },
           "zaxis": {
            "backgroundcolor": "#E5ECF6",
            "gridcolor": "white",
            "gridwidth": 2,
            "linecolor": "white",
            "showbackground": true,
            "ticks": "",
            "zerolinecolor": "white"
           }
          },
          "shapedefaults": {
           "line": {
            "color": "#2a3f5f"
           }
          },
          "ternary": {
           "aaxis": {
            "gridcolor": "white",
            "linecolor": "white",
            "ticks": ""
           },
           "baxis": {
            "gridcolor": "white",
            "linecolor": "white",
            "ticks": ""
           },
           "bgcolor": "#E5ECF6",
           "caxis": {
            "gridcolor": "white",
            "linecolor": "white",
            "ticks": ""
           }
          },
          "title": {
           "x": 0.05
          },
          "xaxis": {
           "automargin": true,
           "gridcolor": "white",
           "linecolor": "white",
           "ticks": "",
           "title": {
            "standoff": 15
           },
           "zerolinecolor": "white",
           "zerolinewidth": 2
          },
          "yaxis": {
           "automargin": true,
           "gridcolor": "white",
           "linecolor": "white",
           "ticks": "",
           "title": {
            "standoff": 15
           },
           "zerolinecolor": "white",
           "zerolinewidth": 2
          }
         }
        },
        "xaxis": {
         "anchor": "y",
         "autorange": true,
         "domain": [
          0,
          1
         ],
         "range": [
          -30.40431565277022,
          33.38329476348799
         ],
         "title": {
          "text": "__cluster__coordinate_x"
         },
         "type": "linear"
        },
        "yaxis": {
         "anchor": "x",
         "autorange": true,
         "domain": [
          0,
          1
         ],
         "range": [
          -58.13422589411821,
          59.91100888362016
         ],
         "title": {
          "text": "__cluster__coordinate_y"
         },
         "type": "linear"
        }
       }
      },
      "image/png": "[encoded data removed]",
      "text/html": [
       "<div>                            <div id=\"fe33ef14-cd44-431a-9c14-7f47727f56a5\" class=\"plotly-graph-div\" style=\"height:800px; width:100%;\"></div>            <script type=\"text/javascript\">                require([\"plotly\"], function(Plotly) {                    window.PLOTLYENV=window.PLOTLYENV || {};                                    if (document.getElementById(\"fe33ef14-cd44-431a-9c14-7f47727f56a5\")) {                    Plotly.newPlot(                        \"fe33ef14-cd44-431a-9c14-7f47727f56a5\",                        [{\"customdata\":[[\"male\",\"India\",\"film director\",\"no value\",\"1965-03-14T00:00:00Z\"],[\"male\",\"United States of America\",\"aircraft pilot\",\"no value\",\"1942-02-14T00:00:00Z\"],[\"male\",\"United States of America\",\"statesperson\",\"no value\",\"1936-08-29T00:00:00Z\"],[\"female\",\"United States of America\",\"singer\",\"no value\",\"1992-11-23T00:00:00Z\"],[\"female\",\"United States of America\",\"actor\",\"no value\",\"1975-06-04T00:00:00Z\"],[\"male\",\"United States of America\",\"lawyer\",\"Juris Doctor\",\"1957-12-06T00:00:00Z\"],[\"male\",\"India\",\"politician\",\"no value\",\"1950-09-17T00:00:00Z\"],[\"male\",\"South Korea\",\"politician\",\"no value\",\"1944-06-13T00:00:00Z\"],[\"male\",\"United States of America\",\"community organizer\",\"Juris Doctor\",\"1961-08-04T00:00:00Z\"],[\"male\",\"United States of America\",\"politician\",\"Master of Business Administration\",\"1947-03-12T00:00:00Z\"],[\"male\",\"United States of America\",\"rugby union player\",\"no value\",\"1946-07-06T00:00:00Z\"],[\"female\",\"British Hong Kong\",\"politician\",\"no value\",\"1957-05-13T00:00:00Z\"],[\"female\",\"United States of America\",\"songwriter\",\"no value\",\"1986-03-28T00:00:00Z\"],[\"male\",\"United States of America\",\"actor\",\"no value\",\"1972-05-02T00:00:00Z\"],[\"male\",\"Serbia\",\"tennis player\",\"no value\",\"1987-05-22T00:00:00Z\"],[\"male\",\"United States of America\",\"entrepreneur\",\"no value\",\"1955-10-28T00:00:00Z\"],[\"male\",\"Spain\",\"association football player\",\"no value\",\"1987-06-24T00:00:00Z\"],[\"male\",\"United States of America\",\"autobiographer\",\"no value\",\"1946-08-19T00:00:00Z\"],[\"male\",\"United Kingdom\",\"association football player\",\"no value\",\"1971-06-28T00:00:00Z\"],[\"male\",\"South Korea\",\"lawyer\",\"no value\",\"1953-01-24T00:00:00Z\"],[\"male\",\"Algeria\",\"association football player\",\"no value\",\"1972-06-23T00:00:00Z\"],[\"female\",\"United States of America\",\"autobiographer\",\"no value\",\"1981-09-26T00:00:00Z\"],[\"female\",\"United States of America\",\"autobiographer\",\"bachelor's degree\",\"1947-10-26T00:00:00Z\"],[\"female\",\"United States of America\",\"lawyer\",\"no value\",\"1933-03-15T00:00:00Z\"],[\"male\",\"France\",\"statesperson\",\"no value\",\"1954-08-12T00:00:00Z\"],[\"male\",\"United States of America\",\"writer\",\"no value\",\"1975-12-30T00:00:00Z\"],[\"male\",\"United States of America\",\"singer\",\"honorary degree\",\"1977-06-08T00:00:00Z\"],[\"male\",\"United States of America\",\"lawyer\",\"Juris Doctor\",\"1942-11-20T00:00:00Z\"],[\"male\",\"United States of America\",\"lawyer\",\"Bachelor of Arts\",\"1955-07-09T00:00:00Z\"],[\"male\",\"United States of America\",\"lawyer\",\"no value\",\"1955-01-27T00:00:00Z\"],[\"female\",\"Germany\",\"politician\",\"Doctor rerum naturalium\",\"1954-07-17T00:00:00Z\"],[\"male\",\"People's Republic of China\",\"politician\",\"Doctor of Economics\",\"1955-07-01T00:00:00Z\"],[\"male\",\"Spain\",\"Formula One driver\",\"no value\",\"1981-07-29T00:00:00Z\"],[\"male\",\"United States of America\",\"comedian\",\"no value\",\"1973-12-28T00:00:00Z\"],[\"male\",\"People's Republic of China\",\"lawyer\",\"Doctor of Juridical Science\",\"1953-06-15T00:00:00Z\"],[\"male\",\"Switzerland\",\"tennis player\",\"no value\",\"1981-08-08T00:00:00Z\"],[\"male\",\"Russia\",\"sambo fighter\",\"Candidate of Economic Sciences\",\"1952-10-07T00:00:00Z\"],[\"female\",\"United States of America\",\"lawyer\",\"no value\",\"1964-01-17T00:00:00Z\"],[\"male\",\"Portugal\",\"association football player\",\"no value\",\"1985-02-05T00:00:00Z\"],[\"male\",\"Canada\",\"politician\",\"no value\",\"1959-04-30T00:00:00Z\"],[\"male\",\"United States of America\",\"politician\",\"no value\",\"1949-11-17T00:00:00Z\"],[\"male\",\"Jamaica\",\"association football player\",\"no value\",\"1986-08-21T00:00:00Z\"],[\"male\",\"United Kingdom\",\"tennis player\",\"no value\",\"1987-05-15T00:00:00Z\"],[\"male\",\"Poland\",\"politician\",\"no value\",\"1957-04-22T00:00:00Z\"],[\"male\",\"United Kingdom\",\"association football player\",\"no value\",\"1973-11-29T00:00:00Z\"],[\"male\",\"United Kingdom\",\"singer\",\"no value\",\"1942-06-18T00:00:00Z\"],[\"female\",\"United States of America\",\"politician\",\"no value\",\"1972-01-20T00:00:00Z\"],[\"male\",\"United Kingdom\",\"lawyer\",\"no value\",\"1953-05-06T00:00:00Z\"],[\"male\",\"Spain\",\"tennis player\",\"no value\",\"1986-06-03T00:00:00Z\"],[\"male\",\"United Kingdom\",\"chef\",\"no value\",\"1966-11-08T00:00:00Z\"],[\"male\",\"India\",\"politician\",\"no value\",\"1970-06-19T00:00:00Z\"],[\"male\",\"India\",\"politician\",\"no value\",\"1973-04-24T00:00:00Z\"],[\"male\",\"United States of America\",\"actor\",\"no value\",\"1966-06-27T00:00:00Z\"],[\"female\",\"Italy\",\"politician\",\"no value\",\"1946-12-09T00:00:00Z\"],[\"male\",\"India\",\"politician\",\"no value\",\"1951-03-01T00:00:00Z\"],[\"male\",\"Malaysia\",\"politician\",\"doctorate\",\"1925-07-10T00:00:00Z\"],[\"male\",\"Soviet Union\",\"politician\",\"no value\",\"1950-03-21T00:00:00Z\"],[\"male\",\"France\",\"association football player\",\"no value\",\"1961-09-02T00:00:00Z\"],[\"male\",\"United States of America\",\"politician\",\"no value\",\"1952-05-13T00:00:00Z\"],[\"female\",\"United States of America\",\"singer\",\"no value\",\"1990-08-15T00:00:00Z\"],[\"male\",\"United States of America\",\"blogger\",\"no value\",\"1938-04-07T00:00:00Z\"],[\"male\",\"United States of America\",\"volleyball player\",\"no value\",\"1982-03-08T00:00:00Z\"],[\"male\",\"United Kingdom\",\"actor\",\"no value\",\"1959-10-07T00:00:00Z\"],[\"male\",\"Finland\",\"Formula One driver\",\"no value\",\"1985-06-27T00:00:00Z\"],[\"male\",\"United Kingdom\",\"association football player\",\"no value\",\"1947-08-09T00:00:00Z\"],[\"male\",\"United States of America\",\"writer\",\"Doctor of Philosophy\",\"1953-02-28T00:00:00Z\"],[\"male\",\"United States of America\",\"lawyer\",\"Juris Doctor\",\"1962-09-06T00:00:00Z\"],[\"male\",\"United States of America\",\"state's attorney\",\"no value\",\"1940-03-31T00:00:00Z\"],[\"male\",\"Finland\",\"racing automobile driver\",\"no value\",\"1989-08-28T00:00:00Z\"],[\"male\",\"Switzerland\",\"sports official\",\"no value\",\"1970-03-23T00:00:00Z\"],[\"male\",\"Pakistan\",\"Prime Minister of Pakistan\",\"no value\",\"1949-12-25T00:00:00Z\"],[\"male\",\"Australia\",\"cricketer\",\"no value\",\"1970-11-21T00:00:00Z\"],[\"female\",\"United States of America\",\"singer\",\"no value\",\"1980-07-18T00:00:00Z\"],[\"male\",\"United States of America\",\"professor\",\"no value\",\"1949-04-28T00:00:00Z\"],[\"male\",\"United States of America\",\"singer\",\"no value\",\"1976-06-18T00:00:00Z\"],[\"male\",\"Portugal\",\"association football player\",\"no value\",\"1963-01-26T00:00:00Z\"],[\"male\",\"Kenya\",\"politician\",\"no value\",\"1966-12-21T00:00:00Z\"],[\"female\",\"United States of America\",\"singer\",\"no value\",\"1992-07-22T00:00:00Z\"],[\"male\",\"Pakistan\",\"politician\",\"no value\",\"1952-11-25T00:00:00Z\"],[\"male\",\"United States of America\",\"NASCAR team owner\",\"no value\",\"1985-05-02T00:00:00Z\"],[\"male\",\"United Kingdom\",\"businessperson\",\"no value\",\"1950-07-18T00:00:00Z\"],[\"male\",\"India\",\"politician\",\"no value\",\"1956-03-09T00:00:00Z\"],[\"male\",\"United Kingdom\",\"polo player\",\"no value\",\"1984-09-15T00:00:00Z\"],[\"female\",\"Germany\",\"politician\",\"public health professional degree\",\"1958-10-08T00:00:00Z\"],[\"male\",\"United Kingdom\",\"politician\",\"Bachelor of Arts\",\"1964-06-19T00:00:00Z\"],[\"female\",\"India\",\"actor\",\"no value\",\"1986-01-05T00:00:00Z\"],[\"female\",\"United States of America\",\"actor\",\"no value\",\"1993-06-26T00:00:00Z\"],[\"male\",\"Spain\",\"association football player\",\"no value\",\"1971-01-18T00:00:00Z\"],[\"male\",\"Germany\",\"politician\",\"no value\",\"1966-09-19T00:00:00Z\"],[\"male\",\"United States of America\",\"wrestling coach\",\"no value\",\"1964-02-17T00:00:00Z\"],[\"male\",\"Kingdom of the Netherlands\",\"association football player\",\"no value\",\"1963-03-21T00:00:00Z\"],[\"male\",\"Italy\",\"association football player\",\"no value\",\"1959-06-10T00:00:00Z\"],[\"male\",\"Japan\",\"politician\",\"no value\",\"1954-09-21T00:00:00Z\"],[\"male\",\"United States of America\",\"actor\",\"no value\",\"1976-10-23T00:00:00Z\"],[\"female\",\"Trinidad and Tobago\",\"singer\",\"no value\",\"1982-12-08T00:00:00Z\"],[\"female\",\"United States of America\",\"singer\",\"no value\",\"1980-10-21T00:00:00Z\"],[\"male\",\"United States of America\",\"politician\",\"no value\",\"1943-06-17T00:00:00Z\"],[\"male\",\"United States of America\",\"politician\",\"bachelor's degree\",\"1955-08-24T00:00:00Z\"],[\"male\",\"Ireland\",\"politician\",\"Doctor of Philosophy\",\"1965-03-16T00:00:00Z\"],[\"male\",\"United States of America\",\"lawyer\",\"no value\",\"1938-09-01T00:00:00Z\"],[\"male\",\"Kingdom of the Netherlands\",\"association football player\",\"no value\",\"1951-08-08T00:00:00Z\"],[\"male\",\"United Kingdom\",\"association football player\",\"no value\",\"1951-10-23T00:00:00Z\"],[\"male\",\"Israel\",\"politician\",\"no value\",\"1958-07-05T00:00:00Z\"],[\"male\",\"United Kingdom\",\"psychologist\",\"no value\",\"1942-04-06T00:00:00Z\"],[\"male\",\"South Africa\",\"association football player\",\"no value\",\"1964-07-26T00:00:00Z\"],[\"male\",\"United States of America\",\"lawyer\",\"no value\",\"1960-12-14T00:00:00Z\"],[\"male\",\"Germany\",\"association football player\",\"no value\",\"1955-09-25T00:00:00Z\"],[\"male\",\"Germany\",\"association football player\",\"no value\",\"1967-06-16T00:00:00Z\"],[\"male\",\"Australia\",\"linguist\",\"no value\",\"1946-07-08T00:00:00Z\"],[\"male\",\"India\",\"bureaucrat\",\"no value\",\"1968-08-16T00:00:00Z\"],[\"male\",\"United Kingdom\",\"racing driver\",\"no value\",\"1973-11-16T00:00:00Z\"],[\"male\",\"Kenya\",\"politician\",\"no value\",\"1961-10-26T00:00:00Z\"],[\"male\",\"Spain\",\"association football player\",\"no value\",\"1960-04-16T00:00:00Z\"],[\"male\",\"Germany\",\"fencer\",\"doctor of both laws\",\"1953-12-29T00:00:00Z\"],[\"female\",\"United States of America\",\"politician\",\"no value\",\"1940-03-26T00:00:00Z\"],[\"male\",\"Germany\",\"politician\",\"no value\",\"1959-09-12T00:00:00Z\"],[\"male\",\"Australia\",\"racing automobile driver\",\"no value\",\"1989-07-01T00:00:00Z\"],[\"male\",\"United States of America\",\"American football player\",\"no value\",\"1951-10-31T00:00:00Z\"],[\"male\",\"Austria\",\"investor\",\"no value\",\"1972-01-12T00:00:00Z\"],[\"male\",\"New Zealand\",\"rower\",\"no value\",\"1961-12-09T00:00:00Z\"],[\"female\",\"United States of America\",\"politician\",\"Bachelor of Arts\",\"1966-12-09T00:00:00Z\"],[\"male\",\"Ukraine\",\"politician\",\"PhD in Law\",\"1965-09-26T00:00:00Z\"],[\"male\",\"Venezuela\",\"politician\",\"no value\",\"1962-11-23T00:00:00Z\"],[\"male\",\"Canada\",\"actor\",\"no value\",\"1954-08-16T00:00:00Z\"],[\"male\",\"United States of America\",\"military officer\",\"Bachelor of Arts\",\"1950-09-08T00:00:00Z\"],[\"male\",\"Canada\",\"ice hockey player\",\"no value\",\"1960-04-23T00:00:00Z\"],[\"female\",\"United States of America\",\"professor\",\"doctorate\",\"1946-08-13T00:00:00Z\"],[\"male\",\"Pahlavi Dynasty\",\"marji'\",\"no value\",\"1939-04-19T00:00:00Z\"],[\"male\",\"Ghana\",\"politician\",\"Doctor of Sciences\",\"1958-11-29T00:00:00Z\"],[\"male\",\"Canada\",\"musician\",\"no value\",\"1994-03-01T00:00:00Z\"],[\"female\",\"United States of America\",\"politician\",\"no value\",\"1981-04-12T00:00:00Z\"],[\"male\",\"Philippines\",\"politician\",\"no value\",\"1945-03-28T00:00:00Z\"],[\"male\",\"United States of America\",\"politician\",\"Doctor of Medicine\",\"1963-01-07T00:00:00Z\"],[\"male\",\"Canada\",\"actor\",\"no value\",\"1967-09-09T00:00:00Z\"],[\"female\",\"United States of America\",\"lawyer\",\"Juris Doctor\",\"1960-05-25T00:00:00Z\"],[\"male\",\"United States of America\",\"peace activist\",\"no value\",\"1924-10-01T00:00:00Z\"],[\"female\",\"United States of America\",\"politician\",\"Master of Business Administration\",\"1954-09-06T00:00:00Z\"],[\"male\",\"Spain\",\"singer\",\"no value\",\"1967-03-08T00:00:00Z\"],[\"male\",\"United Kingdom\",\"politician\",\"no value\",\"1943-05-09T00:00:00Z\"],[\"female\",\"United States of America\",\"autobiographer\",\"no value\",\"1984-10-25T00:00:00Z\"],[\"male\",\"United States of America\",\"dub actor\",\"no value\",\"1951-09-25T00:00:00Z\"],[\"female\",\"United States of America\",\"non-fiction writer\",\"Bachelor of Economics\",\"1981-10-30T00:00:00Z\"],[\"male\",\"India\",\"politician\",\"no value\",\"1935-12-11T00:00:00Z\"],[\"male\",\"United States of America\",\"basketball player\",\"no value\",\"1982-01-17T00:00:00Z\"],[\"male\",\"Kenya\",\"politician\",\"no value\",\"1945-01-07T00:00:00Z\"],[\"male\",\"United States of America\",\"American football player\",\"no value\",\"1932-01-19T00:00:00Z\"],[\"male\",\"United States of America\",\"politician\",\"Bachelor of Science\",\"1950-03-04T00:00:00Z\"],[\"male\",\"United States of America\",\"politician\",\"no value\",\"1968-03-04T00:00:00Z\"],[\"male\",\"United States of America\",\"basketball player\",\"no value\",\"1979-04-18T00:00:00Z\"],[\"male\",\"Israel\",\"politician\",\"Master of Science\",\"1949-10-21T00:00:00Z\"],[\"female\",\"United Kingdom\",\"actor\",\"no value\",\"1986-10-23T00:00:00Z\"],[\"male\",\"Canada\",\"ice hockey player\",\"no value\",\"1955-01-09T00:00:00Z\"],[\"male\",\"Israel\",\"politician\",\"Bachelor of Laws\",\"1972-03-25T00:00:00Z\"],[\"female\",\"United States of America\",\"instructor\",\"no value\",\"1950-10-11T00:00:00Z\"],[\"male\",\"Spain\",\"association football player\",\"no value\",\"1970-05-08T00:00:00Z\"],[\"female\",\"Romania\",\"tennis player\",\"no value\",\"1991-09-27T00:00:00Z\"],[\"male\",\"Ireland\",\"association football player\",\"no value\",\"1983-04-10T00:00:00Z\"],[\"male\",\"Norway\",\"politician\",\"Cand.oecon.\",\"1959-03-16T00:00:00Z\"],[\"female\",\"Bangladesh\",\"politician\",\"no value\",\"1947-09-28T00:00:00Z\"],[\"male\",\"United Kingdom\",\"politician\",\"no value\",\"1956-09-16T00:00:00Z\"],[\"female\",\"India\",\"lawyer\",\"no value\",\"1952-02-14T00:00:00Z\"],[\"female\",\"United States of America\",\"film director\",\"no value\",\"1969-07-24T00:00:00Z\"],[\"male\",\"United Kingdom\",\"association football player\",\"no value\",\"1978-06-20T00:00:00Z\"],[\"male\",\"United States of America\",\"foreign currency trader\",\"no value\",\"1961-11-17T00:00:00Z\"],[\"male\",\"United States of America\",\"basketball player\",\"no value\",\"1984-12-30T00:00:00Z\"],[\"male\",\"United States of America\",\"baseball player\",\"no value\",\"1949-05-27T00:00:00Z\"],[\"male\",\"United States of America\",\"bookbinder\",\"Bachelor of Arts\",\"1953-02-11T00:00:00Z\"],[\"male\",\"United States of America\",\"politician\",\"Master of Business Administration\",\"1957-08-16T00:00:00Z\"],[\"male\",\"New Zealand\",\"politician\",\"no value\",\"1961-08-09T00:00:00Z\"],[\"male\",\"Turkey\",\"professor\",\"no value\",\"1959-02-26T00:00:00Z\"],[\"female\",\"United Kingdom\",\"politician\",\"no value\",\"1956-10-01T00:00:00Z\"],[\"female\",\"Ireland\",\"politician\",\"no value\",\"1969-05-01T00:00:00Z\"],[\"male\",\"United States of America\",\"actor\",\"Bachelor of Science\",\"1946-06-14T00:00:00Z\"],[\"female\",\"United States of America\",\"politician\",\"no value\",\"1952-12-07T00:00:00Z\"],[\"male\",\"United States of America\",\"aircraft pilot\",\"no value\",\"1943-12-11T00:00:00Z\"],[\"male\",\"India\",\"cricketer\",\"no value\",\"1988-11-05T00:00:00Z\"],[\"male\",\"Germany\",\"writer\",\"doctorate\",\"1964-03-22T00:00:00Z\"],[\"male\",\"India\",\"professor\",\"no value\",\"1963-02-03T00:00:00Z\"],[\"male\",\"United States of America\",\"singer\",\"no value\",\"1978-12-28T00:00:00Z\"],[\"female\",\"United States of America\",\"lawyer\",\"no value\",\"1957-05-22T00:00:00Z\"],[\"male\",\"Australia\",\"lawyer\",\"no value\",\"1967-08-13T00:00:00Z\"],[\"female\",\"United Kingdom\",\"lawyer\",\"no value\",\"1970-07-19T00:00:00Z\"],[\"non-binary\",\"United States of America\",\"actor\",\"no value\",\"1992-08-20T00:00:00Z\"],[\"female\",\"United States of America\",\"actor\",\"no value\",\"1987-02-01T00:00:00Z\"],[\"male\",\"Belgium\",\"association football player\",\"no value\",\"1991-01-07T00:00:00Z\"],[\"male\",\"United Kingdom\",\"singer\",\"no value\",\"1991-02-17T00:00:00Z\"],[\"male\",\"United States of America\",\"American football player\",\"no value\",\"1979-01-15T00:00:00Z\"],[\"male\",\"Hungary\",\"lawyer\",\"no value\",\"1963-05-31T00:00:00Z\"],[\"male\",\"United States of America\",\"shareholder\",\"no value\",\"1930-08-30T00:00:00Z\"],[\"male\",\"Italy\",\"association football player\",\"no value\",\"1951-10-20T00:00:00Z\"],[\"male\",\"Cambodia\",\"politician\",\"no value\",\"1952-08-05T00:00:00Z\"],[\"female\",\"United States of America\",\"actor\",\"no value\",\"1976-03-22T00:00:00Z\"],[\"female\",\"India\",\"composer\",\"no value\",\"1960-10-05T00:00:00Z\"],[\"female\",\"United States of America\",\"singer\",\"no value\",\"1989-12-13T00:00:00Z\"],[\"male\",\"United Kingdom\",\"politician\",\"no value\",\"1970-01-07T00:00:00Z\"],[\"male\",\"Singapore\",\"politician\",\"no value\",\"1952-02-10T00:00:00Z\"],[\"male\",\"Philippines\",\"politician\",\"Bachelor of Arts\",\"1948-06-01T00:00:00Z\"],[\"female\",\"United States of America\",\"politician\",\"no value\",\"1933-06-22T00:00:00Z\"],[\"male\",\"United States of America\",\"basketball player\",\"no value\",\"1949-01-28T00:00:00Z\"],[\"male\",\"United Kingdom\",\"association football player\",\"no value\",\"1969-08-07T00:00:00Z\"],[\"male\",\"Pakistan\",\"politician\",\"no value\",\"1988-09-21T00:00:00Z\"],[\"male\",\"United States of America\",\"actor\",\"no value\",\"1964-05-13T00:00:00Z\"],[\"male\",\"United States of America\",\"lawyer\",\"no value\",\"1959-06-07T00:00:00Z\"],[\"male\",\"United Kingdom\",\"association football player\",\"no value\",\"1980-05-01T00:00:00Z\"],[\"male\",\"United States of America\",\"lawyer\",\"no value\",\"1974-09-16T00:00:00Z\"],[\"female\",\"United States of America\",\"podcaster\",\"no value\",\"1954-01-29T00:00:00Z\"],[\"male\",\"United Kingdom\",\"politician\",\"no value\",\"1967-01-08T00:00:00Z\"],[\"male\",\"South Africa\",\"politician\",\"no value\",\"1981-03-03T00:00:00Z\"],[\"female\",\"Australia\",\"politician\",\"no value\",\"1954-05-27T00:00:00Z\"],[\"female\",\"United States of America\",\"lawyer\",\"no value\",\"1953-07-24T00:00:00Z\"],[\"male\",\"United States of America\",\"lawyer\",\"Bachelor of Arts\",\"1944-05-28T00:00:00Z\"],[\"male\",\"United Kingdom\",\"association football player\",\"no value\",\"1985-10-24T00:00:00Z\"],[\"female\",\"Denmark\",\"politician\",\"Cand.polit.\",\"1968-04-13T00:00:00Z\"],[\"male\",\"Germany\",\"racing automobile driver\",\"no value\",\"1987-07-03T00:00:00Z\"],[\"male\",\"United Kingdom\",\"lawyer\",\"no value\",\"1974-02-25T00:00:00Z\"],[\"male\",\"Malaysia\",\"politician\",\"no value\",\"1953-07-23T00:00:00Z\"],[\"male\",\"United States of America\",\"politician\",\"Bachelor of Science\",\"1967-10-10T00:00:00Z\"],[\"male\",\"Luxembourg\",\"lawyer\",\"no value\",\"1954-12-09T00:00:00Z\"],[\"male\",\"United States of America\",\"computer scientist\",\"no value\",\"1984-05-14T00:00:00Z\"],[\"male\",\"New Zealand\",\"politician\",\"no value\",\"1971-10-30T00:00:00Z\"],[\"male\",\"Turkey\",\"statesperson\",\"no value\",\"1954-02-26T00:00:00Z\"],[\"female\",\"United States of America\",\"politician\",\"Bachelor of Arts\",\"1938-08-15T00:00:00Z\"],[\"female\",\"United States of America\",\"computer scientist\",\"no value\",\"1969-08-28T00:00:00Z\"],[\"male\",\"United States of America\",\"basketball player\",\"no value\",\"1978-08-23T00:00:00Z\"],[\"male\",\"United States of America\",\"politician\",\"Doctor of Medicine\",\"1951-09-18T00:00:00Z\"],[\"male\",\"United States of America\",\"politician\",\"Bachelor of Science\",\"1946-12-20T00:00:00Z\"],[\"male\",\"Canada\",\"ice hockey player\",\"no value\",\"1962-07-15T00:00:00Z\"],[\"male\",\"Australia\",\"barrister\",\"no value\",\"1954-10-24T00:00:00Z\"],[\"male\",\"United States of America\",\"politician\",\"no value\",\"1947-08-24T00:00:00Z\"],[\"male\",\"United States of America\",\"lawyer\",\"no value\",\"1954-01-01T00:00:00Z\"],[\"male\",\"United States of America\",\"film producer\",\"no value\",\"1973-06-02T00:00:00Z\"],[\"male\",\"Malaysia\",\"politician\",\"no value\",\"1960-12-08T00:00:00Z\"],[\"male\",\"Philippines\",\"lawyer\",\"no value\",\"1945-11-28T00:00:00Z\"],[\"male\",\"United States of America\",\"writer\",\"no value\",\"1969-05-16T00:00:00Z\"],[\"male\",\"United States of America\",\"lawyer\",\"no value\",\"1952-02-02T00:00:00Z\"],[\"male\",\"United Kingdom\",\"politician\",\"no value\",\"1978-10-02T00:00:00Z\"],[\"male\",\"Germany\",\"association football player\",\"no value\",\"1973-08-29T00:00:00Z\"],[\"male\",\"United States of America\",\"basketball player\",\"no value\",\"1944-11-17T00:00:00Z\"],[\"male\",\"United States of America\",\"lawyer\",\"no value\",\"1963-12-30T00:00:00Z\"],[\"male\",\"United States of America\",\"basketball player\",\"no value\",\"1959-02-10T00:00:00Z\"],[\"male\",\"United States of America\",\"politician\",\"no value\",\"1962-12-31T00:00:00Z\"],[\"male\",\"United States of America\",\"lawyer\",\"no value\",\"1944-03-31T00:00:00Z\"],[\"male\",\"United States of America\",\"film director\",\"no value\",\"1973-12-17T00:00:00Z\"],[\"male\",\"United States of America\",\"basketball player\",\"no value\",\"1965-09-27T00:00:00Z\"],[\"male\",\"United States of America\",\"basketball player\",\"no value\",\"1962-12-27T00:00:00Z\"],[\"female\",\"France\",\"lawyer\",\"no value\",\"1956-01-01T00:00:00Z\"],[\"male\",\"Zimbabwe\",\"politician\",\"no value\",\"1942-09-15T00:00:00Z\"],[\"male\",\"United States of America\",\"lawyer\",\"no value\",\"1963-09-09T00:00:00Z\"],[\"male\",\"United States of America\",\"politician\",\"no value\",\"1961-12-30T00:00:00Z\"],[\"male\",\"Philippines\",\"singer\",\"no value\",\"1978-12-17T00:00:00Z\"],[\"male\",\"United States of America\",\"basketball player\",\"no value\",\"1957-04-17T00:00:00Z\"],[\"male\",\"United States of America\",\"physician\",\"Doctor of Medicine\",\"1940-12-24T00:00:00Z\"],[\"male\",\"United States of America\",\"lawyer\",\"no value\",\"1958-08-19T00:00:00Z\"],[\"male\",\"Canada\",\"lawyer\",\"no value\",\"1954-05-28T00:00:00Z\"],[\"male\",\"United States of America\",\"politician\",\"no value\",\"1955-04-11T00:00:00Z\"],[\"male\",\"United Kingdom\",\"association football player\",\"no value\",\"1963-11-22T00:00:00Z\"],[\"male\",\"United Kingdom\",\"autobiographer\",\"no value\",\"1978-11-07T00:00:00Z\"],[\"male\",\"United States of America\",\"entrepreneur\",\"no value\",\"1969-07-28T00:00:00Z\"],[\"male\",\"United States of America\",\"businessperson\",\"no value\",\"1947-08-20T00:00:00Z\"],[\"male\",\"United States of America\",\"lawyer\",\"no value\",\"1951-01-18T00:00:00Z\"],[\"male\",\"United States of America\",\"lawyer\",\"no value\",\"1955-12-19T00:00:00Z\"],[\"male\",\"United States of America\",\"baseball player\",\"no value\",\"1975-05-13T00:00:00Z\"],[\"male\",\"United States of America\",\"basketball player\",\"no value\",\"1965-05-30T00:00:00Z\"],[\"male\",\"United States of America\",\"politician\",\"no value\",\"1933-09-17T00:00:00Z\"],[\"male\",\"India\",\"cricketer\",\"no value\",\"1981-07-07T00:00:00Z\"],[\"male\",\"United States of America\",\"lawyer\",\"no value\",\"1931-12-08T00:00:00Z\"],[\"male\",\"United States of America\",\"baseball player\",\"no value\",\"1955-04-16T00:00:00Z\"],[\"male\",\"Ghana\",\"lawyer\",\"no value\",\"1944-03-29T00:00:00Z\"],[\"male\",\"United States of America\",\"politician\",\"no value\",\"1973-10-01T00:00:00Z\"],[\"male\",\"United States of America\",\"basketball player\",\"no value\",\"1959-08-26T00:00:00Z\"],[\"female\",\"United Kingdom\",\"politician\",\"no value\",\"1963-08-01T00:00:00Z\"],[\"male\",\"United States of America\",\"association football player\",\"no value\",\"1973-08-01T00:00:00Z\"],[\"male\",\"India\",\"actor\",\"no value\",\"1972-05-25T00:00:00Z\"],[\"male\",\"United States of America\",\"lawyer\",\"no value\",\"1950-12-03T00:00:00Z\"],[\"female\",\"United States of America\",\"singer\",\"no value\",\"1982-04-24T00:00:00Z\"],[\"male\",\"New Zealand\",\"rugby union player\",\"no value\",\"1963-09-17T00:00:00Z\"],[\"male\",\"Canada\",\"ice hockey player\",\"no value\",\"1973-07-31T00:00:00Z\"],[\"female\",\"People's Republic of China\",\"diplomat\",\"no value\",\"1970-04-01T00:00:00Z\"],[\"male\",\"Puerto Rico\",\"baseball player\",\"no value\",\"1973-10-18T00:00:00Z\"],[\"male\",\"United States of America\",\"American football player\",\"no value\",\"1987-12-20T00:00:00Z\"],[\"male\",\"India\",\"politician\",\"no value\",\"1953-01-05T00:00:00Z\"],[\"male\",\"Canada\",\"ice hockey player\",\"no value\",\"1963-04-29T00:00:00Z\"],[\"male\",\"United States of America\",\"basketball player\",\"no value\",\"1972-10-15T00:00:00Z\"],[\"male\",\"United States of America\",\"businessperson\",\"no value\",\"1951-02-10T00:00:00Z\"],[\"male\",\"United States of America\",\"lawyer\",\"no value\",\"1939-06-14T00:00:00Z\"],[\"male\",\"United States of America\",\"American football coach\",\"no value\",\"1952-04-16T00:00:00Z\"],[\"female\",\"Philippines\",\"politician\",\"no value\",\"1959-08-27T00:00:00Z\"],[\"male\",\"United States of America\",\"politician\",\"no value\",\"1958-08-23T00:00:00Z\"],[\"male\",\"Ireland\",\"politician\",\"no value\",\"1960-08-01T00:00:00Z\"],[\"male\",\"United Kingdom\",\"politician\",\"no value\",\"1969-12-05T00:00:00Z\"],[\"male\",\"Canada\",\"ice hockey player\",\"no value\",\"1967-01-30T00:00:00Z\"],[\"male\",\"India\",\"cricketer\",\"no value\",\"1972-07-08T00:00:00Z\"],[\"male\",\"United Kingdom\",\"actor\",\"no value\",\"1978-08-22T00:00:00Z\"],[\"male\",\"United Kingdom\",\"politician\",\"no value\",\"1969-05-24T00:00:00Z\"],[\"male\",\"United States of America\",\"baseball player\",\"no value\",\"1956-05-23T00:00:00Z\"],[\"male\",\"United Kingdom\",\"association football player\",\"no value\",\"1948-12-01T00:00:00Z\"],[\"male\",\"United States of America\",\"politician\",\"no value\",\"1947-01-26T00:00:00Z\"],[\"male\",\"United States of America\",\"actor\",\"no value\",\"1979-06-21T00:00:00Z\"],[\"male\",\"United Kingdom\",\"boxer\",\"no value\",\"1989-10-15T00:00:00Z\"],[\"male\",\"United States of America\",\"basketball player\",\"no value\",\"1969-08-06T00:00:00Z\"],[\"male\",\"Spain\",\"association football player\",\"no value\",\"1986-03-30T00:00:00Z\"],[\"male\",\"India\",\"rapper\",\"no value\",\"1985-07-06T00:00:00Z\"],[\"male\",\"United States of America\",\"basketball player\",\"no value\",\"1965-07-31T00:00:00Z\"],[\"male\",\"Philippines\",\"politician\",\"no value\",\"1970-10-28T00:00:00Z\"],[\"male\",\"United States of America\",\"politician\",\"no value\",\"1947-05-07T00:00:00Z\"],[\"male\",\"Jamaica\",\"politician\",\"no value\",\"1972-07-22T00:00:00Z\"],[\"male\",\"United States of America\",\"lawyer\",\"no value\",\"1943-10-05T00:00:00Z\"],[\"male\",\"United States of America\",\"tennis player\",\"no value\",\"1960-03-09T00:00:00Z\"],[\"male\",\"United Kingdom\",\"cricketer\",\"no value\",\"1984-12-25T00:00:00Z\"],[\"male\",\"United States of America\",\"basketball player\",\"no value\",\"1958-01-17T00:00:00Z\"],[\"male\",\"United Kingdom\",\"association football referee\",\"no value\",\"1964-12-17T00:00:00Z\"],[\"female\",\"United States of America\",\"actor\",\"no value\",\"1958-01-26T00:00:00Z\"],[\"male\",\"United States of America\",\"ice hockey player\",\"no value\",\"1964-12-07T00:00:00Z\"],[\"male\",\"United States of America\",\"banker\",\"no value\",\"1956-03-13T00:00:00Z\"],[\"male\",\"United States of America\",\"politician\",\"Juris Doctor\",\"1949-05-03T00:00:00Z\"],[\"male\",\"United Kingdom\",\"diarist\",\"no value\",\"1965-03-30T00:00:00Z\"],[\"male\",\"United States of America\",\"lawyer\",\"Doctor of Laws\",\"1972-03-18T00:00:00Z\"],[\"male\",\"United States of America\",\"lawyer\",\"no value\",\"1963-04-09T00:00:00Z\"],[\"male\",\"United Kingdom\",\"sculptor\",\"no value\",\"1953-01-01T00:00:00Z\"],[\"male\",\"Jamaica\",\"politician\",\"no value\",\"1950-12-03T00:00:00Z\"],[\"male\",\"United States of America\",\"ice hockey player\",\"no value\",\"1984-06-07T00:00:00Z\"],[\"male\",\"United States of America\",\"writer\",\"no value\",\"1946-02-28T00:00:00Z\"],[\"male\",\"United States of America\",\"astronomer\",\"Doctor of Philosophy\",\"1938-10-21T00:00:00Z\"],[\"male\",\"United States of America\",\"baseball player\",\"no value\",\"1957-06-30T00:00:00Z\"],[\"male\",\"India\",\"writer\",\"no value\",\"1946-10-16T00:00:00Z\"],[\"male\",\"United States of America\",\"make-up artist\",\"no value\",\"1963-01-01T00:00:00Z\"],[\"male\",\"Malaysia\",\"politician\",\"no value\",\"1961-10-01T00:00:00Z\"],[\"male\",\"Malaysia\",\"politician\",\"no value\",\"1947-05-15T00:00:00Z\"],[\"male\",\"United States of America\",\"lawyer\",\"no value\",\"1969-04-27T00:00:00Z\"],[\"male\",\"United States of America\",\"lawyer\",\"no value\",\"1947-01-05T00:00:00Z\"],[\"male\",\"United States of America\",\"lawyer\",\"no value\",\"1946-07-11T00:00:00Z\"],[\"male\",\"United States of America\",\"engineer\",\"no value\",\"1961-01-01T00:00:00Z\"],[\"male\",\"Canada\",\"ice hockey player\",\"no value\",\"1961-05-14T00:00:00Z\"],[\"male\",\"no value\",\"diplomat\",\"no value\",\"1936-06-23T00:00:00Z\"],[\"male\",\"United States of America\",\"ice hockey player\",\"no value\",\"1958-06-24T00:00:00Z\"],[\"male\",\"Italy\",\"politician\",\"no value\",\"1973-03-09T00:00:00Z\"],[\"male\",\"Germany\",\"writer\",\"no value\",\"1971-04-17T00:00:00Z\"],[\"male\",\"Canada\",\"basketball player\",\"no value\",\"1986-01-03T00:00:00Z\"],[\"male\",\"Canada\",\"ice hockey player\",\"no value\",\"1958-09-15T00:00:00Z\"],[\"male\",\"United States of America\",\"baseball player\",\"no value\",\"1962-08-04T00:00:00Z\"],[\"male\",\"United States of America\",\"lawyer\",\"no value\",\"1966-06-24T00:00:00Z\"],[\"male\",\"German Democratic Republic\",\"politician\",\"no value\",\"1957-04-05T00:00:00Z\"],[\"male\",\"United Kingdom\",\"scientist\",\"Doctor of Philosophy\",\"1944-03-24T00:00:00Z\"],[\"male\",\"United States of America\",\"actor\",\"no value\",\"1932-01-15T00:00:00Z\"],[\"male\",\"United States of America\",\"politician\",\"no value\",\"1974-08-22T00:00:00Z\"],[\"male\",\"Australia\",\"cricketer\",\"no value\",\"1981-04-02T00:00:00Z\"],[\"male\",\"United Kingdom\",\"association football player\",\"no value\",\"1971-11-05T00:00:00Z\"],[\"male\",\"United Kingdom\",\"university teacher\",\"no value\",\"1926-02-25T00:00:00Z\"],[\"male\",\"United Kingdom\",\"badminton player\",\"no value\",\"1965-04-10T00:00:00Z\"],[\"male\",\"Canada\",\"swimmer\",\"no value\",\"1984-05-05T00:00:00Z\"],[\"male\",\"France\",\"politician\",\"aggregation of modern literature\",\"1969-04-15T00:00:00Z\"],[\"male\",\"United States of America\",\"ice hockey player\",\"no value\",\"1984-03-13T00:00:00Z\"],[\"male\",\"United Kingdom\",\"singer-songwriter\",\"no value\",\"1985-04-20T00:00:00Z\"],[\"male\",\"Canada\",\"boxer\",\"no value\",\"1971-08-08T00:00:00Z\"],[\"male\",\"Canada\",\"ice hockey player\",\"no value\",\"1973-11-02T00:00:00Z\"],[\"male\",\"United Kingdom\",\"association football player\",\"no value\",\"1984-09-20T00:00:00Z\"],[\"male\",\"United States of America\",\"singer\",\"no value\",\"1973-10-11T00:00:00Z\"],[\"male\",\"United States of America\",\"American football player\",\"no value\",\"1988-11-29T00:00:00Z\"],[\"male\",\"United States of America\",\"film producer\",\"no value\",\"1945-12-27T00:00:00Z\"],[\"male\",\"United States of America\",\"ice hockey player\",\"no value\",\"1967-08-25T00:00:00Z\"],[\"male\",\"United Kingdom\",\"photographer\",\"no value\",\"1943-04-30T00:00:00Z\"],[\"male\",\"United Kingdom\",\"association football player\",\"no value\",\"1979-03-06T00:00:00Z\"],[\"male\",\"United States of America\",\"politician\",\"no value\",\"1961-09-01T00:00:00Z\"],[\"male\",\"United States of America\",\"baseball player\",\"no value\",\"1954-02-08T00:00:00Z\"],[\"male\",\"Ireland\",\"politician\",\"no value\",\"1974-09-19T00:00:00Z\"],[\"male\",\"United Kingdom\",\"businessperson\",\"no value\",\"1957-07-31T00:00:00Z\"],[\"male\",\"United States of America\",\"no value\",\"no value\",\"1989-06-09T00:00:00Z\"],[\"male\",\"United States of America\",\"animator\",\"no value\",\"1960-02-27T00:00:00Z\"],[\"male\",\"United States of America\",\"president\",\"no value\",\"1973-12-29T00:00:00Z\"],[\"male\",\"United States of America\",\"actor\",\"no value\",\"1973-12-25T00:00:00Z\"],[\"male\",\"Austria\",\"university teacher\",\"no value\",\"1942-01-01T00:00:00Z\"],[\"male\",\"Canada\",\"writer\",\"no value\",\"1945-01-01T00:00:00Z\"],[\"male\",\"United Kingdom\",\"boxer\",\"no value\",\"1983-07-06T00:00:00Z\"],[\"male\",\"United States of America\",\"actor\",\"no value\",\"1970-06-28T00:00:00Z\"],[\"male\",\"United Kingdom\",\"dressmaker\",\"no value\",\"1946-07-05T00:00:00Z\"],[\"male\",\"India\",\"politician\",\"no value\",\"1955-12-13T00:00:00Z\"],[\"male\",\"United Kingdom\",\"association football player\",\"no value\",\"1965-08-25T00:00:00Z\"],[\"male\",\"Spain\",\"sport cyclist\",\"no value\",\"1983-11-08T00:00:00Z\"],[\"male\",\"Canada\",\"lawyer\",\"no value\",\"1958-12-26T00:00:00Z\"],[\"male\",\"United States of America\",\"lawyer\",\"no value\",\"1967-07-21T00:00:00Z\"],[\"male\",\"United States of America\",\"boxer\",\"no value\",\"1971-03-26T00:00:00Z\"],[\"male\",\"United States of America\",\"swimmer\",\"no value\",\"1995-07-02T00:00:00Z\"],[\"male\",\"United States of America\",\"lawyer\",\"no value\",\"1951-02-09T00:00:00Z\"],[\"male\",\"United States of America\",\"boxer\",\"no value\",\"1937-02-27T00:00:00Z\"],[\"male\",\"United States of America\",\"singer\",\"no value\",\"1965-08-27T00:00:00Z\"],[\"male\",\"United States of America\",\"politician\",\"no value\",\"1959-11-06T00:00:00Z\"],[\"male\",\"United Kingdom\",\"association football player\",\"no value\",\"1958-07-12T00:00:00Z\"],[\"male\",\"United States of America\",\"baseball player\",\"no value\",\"1964-10-14T00:00:00Z\"],[\"male\",\"United Kingdom\",\"actor\",\"no value\",\"1933-01-21T00:00:00Z\"],[\"male\",\"India\",\"lawyer\",\"no value\",\"1948-08-08T00:00:00Z\"],[\"male\",\"United States of America\",\"basketball player\",\"no value\",\"1958-04-12T00:00:00Z\"],[\"male\",\"United Kingdom\",\"association football player\",\"no value\",\"1984-06-05T00:00:00Z\"],[\"male\",\"United States of America\",\"boxer\",\"no value\",\"1953-04-03T00:00:00Z\"],[\"female\",\"United Kingdom\",\"model\",\"no value\",\"1981-02-10T00:00:00Z\"],[\"male\",\"New Zealand\",\"rugby union player\",\"no value\",\"1945-04-11T00:00:00Z\"],[\"male\",\"United Kingdom\",\"boxer\",\"no value\",\"1988-08-12T00:00:00Z\"],[\"male\",\"United States of America\",\"baseball player\",\"no value\",\"1958-11-27T00:00:00Z\"],[\"male\",\"United States of America\",\"lawyer\",\"no value\",\"1973-08-03T00:00:00Z\"],[\"male\",\"United States of America\",\"guitarist\",\"no value\",\"2000-01-01T00:00:00Z\"],[\"male\",\"United States of America\",\"American football player\",\"no value\",\"1942-10-13T00:00:00Z\"],[\"male\",\"Canada\",\"ice hockey player\",\"no value\",\"1967-10-03T00:00:00Z\"],[\"male\",\"United Kingdom\",\"singer\",\"no value\",\"1942-12-15T00:00:00Z\"],[\"male\",\"Scotland\",\"curler\",\"no value\",\"2000-01-01T00:00:00Z\"],[\"male\",\"Australia\",\"politician\",\"no value\",\"1973-01-17T00:00:00Z\"],[\"male\",\"United States of America\",\"university teacher\",\"no value\",\"1940-09-14T00:00:00Z\"],[\"male\",\"Iran\",\"lawyer\",\"doctorate\",\"1948-11-12T00:00:00Z\"],[\"male\",\"United States of America\",\"lawyer\",\"Doctor of Philosophy\",\"1952-06-02T00:00:00Z\"],[\"male\",\"Italy\",\"basketball player\",\"no value\",\"1954-03-23T00:00:00Z\"],[\"male\",\"United States of America\",\"politician\",\"no value\",\"1958-02-26T00:00:00Z\"],[\"male\",\"United States of America\",\"association football manager\",\"no value\",\"1951-09-21T00:00:00Z\"],[\"male\",\"United States of America\",\"golfer\",\"no value\",\"1970-06-16T00:00:00Z\"],[\"male\",\"United Kingdom\",\"association football player\",\"no value\",\"1961-05-03T00:00:00Z\"],[\"male\",\"United States of America\",\"politician\",\"Bachelor of Science\",\"1971-06-10T00:00:00Z\"],[\"male\",\"United Kingdom\",\"spokesperson\",\"no value\",\"1964-04-03T00:00:00Z\"],[\"male\",\"South Africa\",\"cricketer\",\"no value\",\"1984-07-13T00:00:00Z\"],[\"female\",\"United States of America\",\"political pundit\",\"no value\",\"1970-11-18T00:00:00Z\"],[\"male\",\"Spain\",\"association football player\",\"no value\",\"1973-09-18T00:00:00Z\"],[\"male\",\"United Kingdom\",\"politician\",\"no value\",\"1967-08-26T00:00:00Z\"],[\"male\",\"United Kingdom\",\"association football player\",\"no value\",\"1954-10-19T00:00:00Z\"],[\"male\",\"United States of America\",\"lawyer\",\"Bachelor of Arts\",\"1971-05-28T00:00:00Z\"],[\"male\",\"United Kingdom\",\"politician\",\"no value\",\"1952-05-14T00:00:00Z\"],[\"male\",\"United States of America\",\"computer scientist\",\"no value\",\"1976-11-19T00:00:00Z\"],[\"male\",\"United Kingdom\",\"association football player\",\"no value\",\"1963-04-25T00:00:00Z\"],[\"male\",\"United States of America\",\"coach\",\"no value\",\"1972-03-15T00:00:00Z\"],[\"male\",\"United States of America\",\"singer\",\"no value\",\"1974-09-19T00:00:00Z\"],[\"male\",\"Canada\",\"ice hockey player\",\"no value\",\"1951-12-17T00:00:00Z\"],[\"male\",\"United Kingdom\",\"sport cyclist\",\"no value\",\"1985-05-20T00:00:00Z\"],[\"male\",\"Spain\",\"association football player\",\"no value\",\"1964-02-09T00:00:00Z\"],[\"male\",\"United Kingdom\",\"association football player\",\"no value\",\"1975-02-18T00:00:00Z\"],[\"male\",\"United States of America\",\"basketball player\",\"no value\",\"1959-10-27T00:00:00Z\"],[\"male\",\"Italy\",\"politician\",\"PhD in economics\",\"1947-09-03T00:00:00Z\"],[\"male\",\"United States of America\",\"astronaut\",\"no value\",\"1964-01-12T00:00:00Z\"],[\"male\",\"India\",\"singer\",\"no value\",\"1954-11-07T00:00:00Z\"],[\"male\",\"United States of America\",\"politician\",\"no value\",\"1950-11-23T00:00:00Z\"],[\"male\",\"Australia\",\"politician\",\"no value\",\"1957-11-04T00:00:00Z\"],[\"male\",\"Italy\",\"association football player\",\"no value\",\"1967-08-11T00:00:00Z\"],[\"male\",\"United Kingdom\",\"association football player\",\"no value\",\"1960-12-31T00:00:00Z\"],[\"male\",\"Australia\",\"basketball player\",\"no value\",\"1992-03-23T00:00:00Z\"],[\"male\",\"United States of America\",\"American football player\",\"no value\",\"1988-08-19T00:00:00Z\"],[\"male\",\"United States of America\",\"politician\",\"no value\",\"1952-11-09T00:00:00Z\"],[\"male\",\"United States of America\",\"lawyer\",\"no value\",\"1946-12-24T00:00:00Z\"],[\"male\",\"United Kingdom\",\"association football player\",\"no value\",\"1958-12-11T00:00:00Z\"],[\"male\",\"United States of America\",\"boxer\",\"no value\",\"1977-02-24T00:00:00Z\"],[\"male\",\"United States of America\",\"lawyer\",\"no value\",\"1960-06-22T00:00:00Z\"],[\"female\",\"United States of America\",\"actor\",\"no value\",\"1986-05-13T00:00:00Z\"],[\"male\",\"United Kingdom\",\"politician\",\"no value\",\"1970-05-27T00:00:00Z\"],[\"male\",\"United States of America\",\"lawyer\",\"no value\",\"1940-07-03T00:00:00Z\"],[\"male\",\"United States of America\",\"politician\",\"no value\",\"1959-11-29T00:00:00Z\"],[\"male\",\"United States of America\",\"merchant\",\"Bachelor of Science\",\"1952-03-23T00:00:00Z\"],[\"transgender female\",\"United States of America\",\"actor\",\"no value\",\"1949-10-28T00:00:00Z\"],[\"male\",\"Canada\",\"engineer\",\"no value\",\"1971-06-28T00:00:00Z\"],[\"male\",\"United Kingdom\",\"association football player\",\"no value\",\"1970-09-03T00:00:00Z\"],[\"male\",\"United States of America\",\"American football player\",\"no value\",\"1963-08-17T00:00:00Z\"],[\"male\",\"Argentina\",\"association football manager\",\"no value\",\"1972-03-02T00:00:00Z\"],[\"male\",\"Spain\",\"association football player\",\"no value\",\"1971-11-03T00:00:00Z\"],[\"male\",\"United States of America\",\"lawyer\",\"no value\",\"1934-03-22T00:00:00Z\"],[\"male\",\"United Kingdom\",\"politician\",\"no value\",\"1949-05-26T00:00:00Z\"],[\"male\",\"India\",\"politician\",\"no value\",\"1973-07-01T00:00:00Z\"],[\"male\",\"United Kingdom\",\"politician\",\"no value\",\"1940-10-10T00:00:00Z\"],[\"male\",\"Greece\",\"politician\",\"no value\",\"1974-07-28T00:00:00Z\"],[\"male\",\"United States of America\",\"basketball player\",\"no value\",\"1961-10-13T00:00:00Z\"],[\"female\",\"United States of America\",\"jewelry designer\",\"no value\",\"1970-04-26T00:00:00Z\"],[\"male\",\"Chile\",\"association football player\",\"no value\",\"1953-09-16T00:00:00Z\"],[\"male\",\"United States of America\",\"American football player\",\"no value\",\"1983-12-02T00:00:00Z\"],[\"male\",\"Canada\",\"ice hockey player\",\"no value\",\"1963-09-02T00:00:00Z\"],[\"male\",\"India\",\"writer\",\"no value\",\"1963-01-01T00:00:00Z\"],[\"male\",\"United Kingdom\",\"politician\",\"no value\",\"1962-04-01T00:00:00Z\"],[\"male\",\"Portugal\",\"politician\",\"no value\",\"1949-04-30T00:00:00Z\"],[\"male\",\"United Kingdom\",\"golfer\",\"no value\",\"1989-05-04T00:00:00Z\"],[\"male\",\"United Kingdom\",\"politician\",\"no value\",\"1966-11-01T00:00:00Z\"],[\"male\",\"Nigeria\",\"politician\",\"no value\",\"1942-12-17T00:00:00Z\"],[\"male\",\"Spain\",\"association football player\",\"no value\",\"1973-07-13T00:00:00Z\"],[\"male\",\"United Kingdom\",\"association football player\",\"no value\",\"1961-07-18T00:00:00Z\"],[\"male\",\"United States of America\",\"basketball player\",\"no value\",\"1988-03-14T00:00:00Z\"],[\"male\",\"Iraq\",\"politician\",\"no value\",\"1947-08-10T00:00:00Z\"],[\"male\",\"United States of America\",\"politician\",\"Bachelor of Arts\",\"1941-09-08T00:00:00Z\"],[\"male\",\"United States of America\",\"lawyer\",\"no value\",\"1942-02-20T00:00:00Z\"],[\"male\",\"United States of America\",\"lawyer\",\"no value\",\"1952-02-07T00:00:00Z\"],[\"male\",\"Australia\",\"politician\",\"no value\",\"1963-03-02T00:00:00Z\"],[\"male\",\"United States of America\",\"politician\",\"no value\",\"1952-08-24T00:00:00Z\"],[\"male\",\"United States of America\",\"politician\",\"no value\",\"1958-07-31T00:00:00Z\"],[\"male\",\"United States of America\",\"writer\",\"no value\",\"1951-01-12T00:00:00Z\"],[\"male\",\"United Kingdom\",\"lawyer\",\"no value\",\"1970-10-08T00:00:00Z\"],[\"male\",\"United Kingdom\",\"association football player\",\"no value\",\"1958-01-16T00:00:00Z\"],[\"male\",\"Canada\",\"alpine skier\",\"no value\",\"1991-11-09T00:00:00Z\"],[\"male\",\"India\",\"politician\",\"no value\",\"1951-05-03T00:00:00Z\"],[\"male\",\"United States of America\",\"association football player\",\"no value\",\"1974-06-11T00:00:00Z\"],[\"male\",\"United States of America\",\"American football player\",\"no value\",\"1951-09-15T00:00:00Z\"],[\"male\",\"India\",\"politician\",\"no value\",\"1970-03-10T00:00:00Z\"],[\"male\",\"United States of America\",\"lawyer\",\"no value\",\"1960-08-16T00:00:00Z\"],[\"male\",\"United States of America\",\"basketball player\",\"no value\",\"1977-05-03T00:00:00Z\"],[\"male\",\"Canada\",\"actor\",\"no value\",\"1971-12-25T00:00:00Z\"],[\"male\",\"United States of America\",\"baseball player\",\"no value\",\"1957-07-30T00:00:00Z\"],[\"male\",\"United States of America\",\"American football player\",\"no value\",\"1959-11-21T00:00:00Z\"],[\"male\",\"Israel\",\"politician\",\"no value\",\"1970-09-30T00:00:00Z\"],[\"male\",\"Australia\",\"rugby union player\",\"no value\",\"1960-01-30T00:00:00Z\"],[\"male\",\"United States of America\",\"basketball player\",\"no value\",\"1961-02-16T00:00:00Z\"],[\"male\",\"Canada\",\"politician\",\"no value\",\"1972-02-02T00:00:00Z\"],[\"male\",\"United States of America\",\"baseball player\",\"no value\",\"1970-08-21T00:00:00Z\"],[\"male\",\"United States of America\",\"American football player\",\"no value\",\"1967-03-26T00:00:00Z\"],[\"male\",\"France\",\"businessperson\",\"no value\",\"1962-11-10T00:00:00Z\"],[\"male\",\"United States of America\",\"American football player\",\"no value\",\"1966-03-28T00:00:00Z\"],[\"male\",\"United States of America\",\"American football player\",\"no value\",\"1964-07-25T00:00:00Z\"],[\"male\",\"Canada\",\"ice hockey player\",\"no value\",\"1965-06-01T00:00:00Z\"],[\"male\",\"United States of America\",\"baseball player\",\"no value\",\"1961-10-28T00:00:00Z\"],[\"male\",\"Australia\",\"philosopher\",\"no value\",\"1954-07-05T00:00:00Z\"],[\"male\",\"United States of America\",\"lawyer\",\"no value\",\"1978-09-14T00:00:00Z\"],[\"male\",\"United States of America\",\"lawyer\",\"Bachelor of Arts\",\"1970-12-22T00:00:00Z\"],[\"female\",\"United States of America\",\"actor\",\"no value\",\"1997-08-10T00:00:00Z\"],[\"male\",\"Ireland\",\"rugby union player\",\"no value\",\"1978-07-18T00:00:00Z\"],[\"male\",\"United States of America\",\"American football player\",\"no value\",\"1963-04-04T00:00:00Z\"],[\"male\",\"United States of America\",\"baseball player\",\"no value\",\"1964-09-26T00:00:00Z\"],[\"male\",\"Australia\",\"cricketer\",\"no value\",\"1986-10-27T00:00:00Z\"],[\"male\",\"United States of America\",\"no value\",\"no value\",\"1960-01-01T00:00:00Z\"],[\"male\",\"United States of America\",\"businessperson\",\"no value\",\"1967-07-03T00:00:00Z\"],[\"male\",\"United States of America\",\"radio personality\",\"no value\",\"1968-06-02T00:00:00Z\"],[\"male\",\"Australia\",\"politician\",\"no value\",\"1970-09-20T00:00:00Z\"],[\"male\",\"United States of America\",\"basketball player\",\"no value\",\"1966-10-30T00:00:00Z\"],[\"male\",\"United States of America\",\"sport cyclist\",\"no value\",\"1973-01-28T00:00:00Z\"],[\"male\",\"Canada\",\"ice hockey player\",\"no value\",\"1964-05-25T00:00:00Z\"],[\"male\",\"South Africa\",\"rugby union player\",\"no value\",\"1972-11-05T00:00:00Z\"],[\"male\",\"United States of America\",\"baseball player\",\"no value\",\"1956-08-22T00:00:00Z\"],[\"male\",\"United States of America\",\"head coach\",\"no value\",\"1962-12-13T00:00:00Z\"],[\"male\",\"United States of America\",\"baseball player\",\"no value\",\"1951-08-01T00:00:00Z\"],[\"male\",\"United States of America\",\"baseball player\",\"no value\",\"1960-12-14T00:00:00Z\"],[\"male\",\"United States of America\",\"businessperson\",\"no value\",\"1959-02-19T00:00:00Z\"],[\"male\",\"Canada\",\"politician\",\"no value\",\"1968-05-30T00:00:00Z\"],[\"male\",\"United States of America\",\"American football coach\",\"no value\",\"1962-01-07T00:00:00Z\"],[\"male\",\"United States of America\",\"American football player\",\"no value\",\"1963-12-23T00:00:00Z\"],[\"male\",\"United States of America\",\"baseball player\",\"no value\",\"1977-12-06T00:00:00Z\"],[\"male\",\"France\",\"statesperson\",\"no value\",\"1977-12-21T00:00:00Z\"],[\"male\",\"Germany\",\"baseball player\",\"no value\",\"1957-10-24T00:00:00Z\"],[\"male\",\"United States of America\",\"baseball player\",\"no value\",\"1970-09-22T00:00:00Z\"],[\"male\",\"United States of America\",\"basketball player\",\"no value\",\"1967-07-24T00:00:00Z\"],[\"male\",\"United States of America\",\"baseball player\",\"no value\",\"1969-04-14T00:00:00Z\"],[\"male\",\"United States of America\",\"American football player\",\"no value\",\"1962-09-23T00:00:00Z\"],[\"male\",\"United States of America\",\"head coach\",\"no value\",\"1963-11-25T00:00:00Z\"],[\"male\",\"United Kingdom\",\"cricketer\",\"no value\",\"1990-12-30T00:00:00Z\"],[\"male\",\"New Zealand\",\"rugby union player\",\"no value\",\"1959-05-07T00:00:00Z\"],[\"male\",\"United States of America\",\"baseball player\",\"no value\",\"1967-07-14T00:00:00Z\"],[\"male\",\"United States of America\",\"novelist\",\"no value\",\"2000-01-01T00:00:00Z\"],[\"male\",\"Canada\",\"politician\",\"no value\",\"1979-05-20T00:00:00Z\"],[\"male\",\"Australia\",\"Catholic priest\",\"no value\",\"1939-10-23T00:00:00Z\"],[\"male\",\"Ireland\",\"politician\",\"no value\",\"1979-01-18T00:00:00Z\"],[\"female\",\"Philippines\",\"politician\",\"no value\",\"1968-09-03T00:00:00Z\"],[\"male\",\"India\",\"politician\",\"no value\",\"1969-05-13T00:00:00Z\"],[\"male\",\"United States of America\",\"baseball player\",\"no value\",\"1959-04-22T00:00:00Z\"],[\"male\",\"United States of America\",\"lawyer\",\"no value\",\"1958-01-26T00:00:00Z\"],[\"male\",\"France\",\"journalist\",\"no value\",\"1965-08-20T00:00:00Z\"],[\"male\",\"United States of America\",\"golfer\",\"no value\",\"1993-07-27T00:00:00Z\"],[\"male\",\"United States of America\",\"clerk\",\"no value\",\"1964-08-22T00:00:00Z\"],[\"female\",\"India\",\"actor\",\"no value\",\"1988-03-23T00:00:00Z\"],[\"male\",\"Australia\",\"rugby union player\",\"no value\",\"1967-03-04T00:00:00Z\"],[\"male\",\"South Africa\",\"cricketer\",\"no value\",\"1984-02-17T00:00:00Z\"],[\"male\",\"United States of America\",\"politician\",\"no value\",\"1965-10-06T00:00:00Z\"],[\"male\",\"United States of America\",\"basketball player\",\"no value\",\"1990-03-04T00:00:00Z\"],[\"male\",\"United Kingdom\",\"economist\",\"no value\",\"1947-01-01T00:00:00Z\"],[\"male\",\"Ireland\",\"politician\",\"no value\",\"1972-06-16T00:00:00Z\"],[\"male\",\"United States of America\",\"guitarist\",\"no value\",\"2000-01-01T00:00:00Z\"],[\"male\",\"Canada\",\"ice hockey player\",\"no value\",\"1965-05-20T00:00:00Z\"],[\"male\",\"United States of America\",\"politician\",\"no value\",\"1972-10-20T00:00:00Z\"],[\"male\",\"United States of America\",\"manager\",\"no value\",\"1959-10-15T00:00:00Z\"],[\"male\",\"United States of America\",\"baseball player\",\"no value\",\"1955-08-19T00:00:00Z\"],[\"male\",\"United States of America\",\"sport cyclist\",\"no value\",\"1968-06-26T00:00:00Z\"],[\"male\",\"United States of America\",\"film director\",\"no value\",\"1963-10-30T00:00:00Z\"],[\"male\",\"United Kingdom\",\"figure skater\",\"no value\",\"1978-06-26T00:00:00Z\"],[\"male\",\"United States of America\",\"American football player\",\"no value\",\"1958-03-19T00:00:00Z\"],[\"male\",\"United States of America\",\"lawyer\",\"no value\",\"1946-02-13T00:00:00Z\"],[\"male\",\"United States of America\",\"baseball player\",\"no value\",\"1975-07-31T00:00:00Z\"],[\"female\",\"United States of America\",\"actor\",\"no value\",\"1981-08-04T00:00:00Z\"],[\"male\",\"Belgium\",\"racing automobile driver\",\"no value\",\"1997-09-30T00:00:00Z\"],[\"male\",\"United States of America\",\"baseball manager\",\"no value\",\"1956-07-27T00:00:00Z\"],[\"male\",\"United States of America\",\"composer\",\"no value\",\"1959-09-21T00:00:00Z\"],[\"male\",\"United States of America\",\"basketball coach\",\"no value\",\"1957-12-14T00:00:00Z\"],[\"male\",\"United States of America\",\"American football player\",\"no value\",\"1963-12-29T00:00:00Z\"],[\"male\",\"United States of America\",\"basketball player\",\"no value\",\"1954-11-05T00:00:00Z\"],[\"male\",\"United States of America\",\"baseball player\",\"no value\",\"1963-11-28T00:00:00Z\"],[\"male\",\"United States of America\",\"lawyer\",\"no value\",\"1977-05-13T00:00:00Z\"],[\"male\",\"United States of America\",\"American football player\",\"no value\",\"1969-11-20T00:00:00Z\"],[\"male\",\"Australia\",\"politician\",\"no value\",\"1973-10-31T00:00:00Z\"],[\"male\",\"India\",\"politician\",\"no value\",\"1949-03-07T00:00:00Z\"],[\"male\",\"Norway\",\"politician\",\"no value\",\"1948-02-02T00:00:00Z\"],[\"male\",\"British India\",\"politician\",\"no value\",\"1939-09-15T00:00:00Z\"],[\"male\",\"United States of America\",\"lawyer\",\"no value\",\"1965-02-12T00:00:00Z\"],[\"male\",\"United Kingdom\",\"lawyer\",\"no value\",\"1967-05-12T00:00:00Z\"],[\"male\",\"India\",\"military officer\",\"no value\",\"1958-03-16T00:00:00Z\"],[\"female\",\"United Kingdom\",\"lawyer\",\"no value\",\"1970-07-17T00:00:00Z\"],[\"male\",\"United States of America\",\"American football player\",\"no value\",\"1964-10-13T00:00:00Z\"],[\"female\",\"United States of America\",\"actor\",\"no value\",\"1981-06-01T00:00:00Z\"],[\"male\",\"British India\",\"politician\",\"no value\",\"1942-03-11T00:00:00Z\"],[\"male\",\"United States of America\",\"American football player\",\"no value\",\"1959-02-05T00:00:00Z\"],[\"male\",\"Russia\",\"politician\",\"no value\",\"1967-10-17T00:00:00Z\"],[\"male\",\"India\",\"politician\",\"no value\",\"1969-06-26T00:00:00Z\"],[\"male\",\"United States of America\",\"lobbyist\",\"Juris Doctor\",\"1967-06-17T00:00:00Z\"],[\"male\",\"Australia\",\"lawyer\",\"no value\",\"1970-07-11T00:00:00Z\"],[\"male\",\"New Zealand\",\"cricketer\",\"no value\",\"1990-08-08T00:00:00Z\"],[\"male\",\"New Zealand\",\"lawyer\",\"no value\",\"1965-05-07T00:00:00Z\"],[\"male\",\"France\",\"engineer\",\"no value\",\"1977-10-14T00:00:00Z\"],[\"male\",\"United States of America\",\"politician\",\"no value\",\"1959-07-28T00:00:00Z\"],[\"male\",\"United Kingdom\",\"association football player\",\"no value\",\"1967-09-23T00:00:00Z\"],[\"male\",\"India\",\"politician\",\"no value\",\"1944-03-21T00:00:00Z\"],[\"female\",\"United States of America\",\"author\",\"no value\",\"1985-11-30T00:00:00Z\"],[\"male\",\"India\",\"lawyer\",\"no value\",\"1954-08-30T00:00:00Z\"],[\"male\",\"United States of America\",\"politician\",\"no value\",\"1975-06-15T00:00:00Z\"],[\"male\",\"India\",\"judge\",\"no value\",\"1953-10-03T00:00:00Z\"],[\"female\",\"United States of America\",\"politician\",\"Bachelor of Arts\",\"1958-01-08T00:00:00Z\"],[\"male\",\"United States of America\",\"American football player\",\"no value\",\"1972-04-27T00:00:00Z\"],[\"male\",\"United States of America\",\"American football player\",\"no value\",\"1965-10-22T00:00:00Z\"],[\"male\",\"United States of America\",\"lawyer\",\"Bachelor of Arts\",\"1957-02-09T00:00:00Z\"],[\"male\",\"United States of America\",\"basketball coach\",\"no value\",\"1953-02-05T00:00:00Z\"],[\"male\",\"United States of America\",\"lawyer\",\"no value\",\"1961-05-08T00:00:00Z\"],[\"male\",\"United States of America\",\"basketball coach\",\"no value\",\"1960-03-18T00:00:00Z\"],[\"male\",\"United Kingdom\",\"cricketer\",\"no value\",\"1986-09-10T00:00:00Z\"],[\"male\",\"United States of America\",\"lawyer\",\"no value\",\"1962-04-25T00:00:00Z\"],[\"male\",\"United States of America\",\"basketball player\",\"no value\",\"1955-01-30T00:00:00Z\"],[\"male\",\"Malaysia\",\"politician\",\"no value\",\"1953-01-14T00:00:00Z\"],[\"male\",\"United States of America\",\"American football player\",\"no value\",\"1952-10-03T00:00:00Z\"],[\"male\",\"India\",\"politician\",\"no value\",\"1949-07-01T00:00:00Z\"],[\"male\",\"United States of America\",\"actor\",\"no value\",\"1953-01-13T00:00:00Z\"],[\"male\",\"United States of America\",\"baseball player\",\"no value\",\"1955-10-17T00:00:00Z\"],[\"male\",\"India\",\"politician\",\"no value\",\"1959-02-24T00:00:00Z\"],[\"male\",\"United States of America\",\"businessperson\",\"no value\",\"1964-05-28T00:00:00Z\"],[\"male\",\"United Kingdom\",\"association football player\",\"no value\",\"1975-06-25T00:00:00Z\"],[\"male\",\"Nigeria\",\"politician\",\"no value\",\"1962-12-19T00:00:00Z\"],[\"male\",\"India\",\"spokesperson\",\"no value\",\"1952-12-28T00:00:00Z\"],[\"male\",\"United States of America\",\"American football player\",\"no value\",\"1978-01-13T00:00:00Z\"],[\"male\",\"Australia\",\"politician\",\"no value\",\"1968-01-27T00:00:00Z\"],[\"male\",\"no value\",\"editor\",\"no value\",\"no value\"],[\"male\",\"New Zealand\",\"politician\",\"no value\",\"1961-12-30T00:00:00Z\"],[\"male\",\"no value\",\"Australian rules football player\",\"no value\",\"1942-10-21T00:00:00Z\"],[\"male\",\"India\",\"politician\",\"no value\",\"1972-06-05T00:00:00Z\"],[\"male\",\"India\",\"politician\",\"no value\",\"1960-07-27T00:00:00Z\"],[\"male\",\"United States of America\",\"American football player\",\"no value\",\"1965-04-14T00:00:00Z\"],[\"male\",\"British India\",\"cricketer\",\"no value\",\"1945-04-28T00:00:00Z\"],[\"male\",\"United States of America\",\"basketball player\",\"no value\",\"1961-12-24T00:00:00Z\"],[\"male\",\"United States of America\",\"American football player\",\"no value\",\"1968-12-21T00:00:00Z\"],[\"female\",\"Australia\",\"solicitor\",\"no value\",\"1969-07-25T00:00:00Z\"],[\"male\",\"United States of America\",\"American football player\",\"no value\",\"1968-01-17T00:00:00Z\"],[\"male\",\"Ireland\",\"boxer\",\"no value\",\"1988-07-14T00:00:00Z\"],[\"male\",\"United States of America\",\"head coach\",\"no value\",\"1970-01-13T00:00:00Z\"],[\"male\",\"United States of America\",\"coach\",\"no value\",\"1977-07-09T00:00:00Z\"],[\"male\",\"Australia\",\"politician\",\"no value\",\"1972-06-06T00:00:00Z\"],[\"female\",\"Canada\",\"politician\",\"no value\",\"1968-08-02T00:00:00Z\"],[\"male\",\"Australia\",\"tennis player\",\"no value\",\"1995-04-27T00:00:00Z\"],[\"male\",\"Italy\",\"association football player\",\"no value\",\"1959-01-10T00:00:00Z\"],[\"male\",\"United States of America\",\"actor\",\"no value\",\"no value\"],[\"female\",\"New Zealand\",\"politician\",\"no value\",\"1980-07-26T00:00:00Z\"],[\"male\",\"New Zealand\",\"cricketer\",\"no value\",\"1986-11-17T00:00:00Z\"],[\"female\",\"Italy\",\"politician\",\"no value\",\"1973-06-16T00:00:00Z\"],[\"male\",\"United States of America\",\"politician\",\"no value\",\"1954-09-24T00:00:00Z\"],[\"male\",\"United States of America\",\"association football player\",\"no value\",\"1962-08-18T00:00:00Z\"],[\"male\",\"United Kingdom\",\"politician\",\"no value\",\"1929-01-25T00:00:00Z\"],[\"male\",\"United States of America\",\"American football player\",\"no value\",\"1961-08-15T00:00:00Z\"],[\"male\",\"India\",\"politician\",\"no value\",\"1950-09-11T00:00:00Z\"],[\"male\",\"Australia\",\"cricketer\",\"no value\",\"1970-02-05T00:00:00Z\"],[\"male\",\"Australia\",\"politician\",\"no value\",\"1967-04-17T00:00:00Z\"],[\"female\",\"Canada\",\"politician\",\"no value\",\"1953-05-21T00:00:00Z\"],[\"male\",\"Australia\",\"barrister\",\"no value\",\"1967-01-01T00:00:00Z\"],[\"male\",\"Australia\",\"cricketer\",\"no value\",\"1962-12-21T00:00:00Z\"],[\"male\",\"Canada\",\"ice hockey player\",\"no value\",\"1968-07-30T00:00:00Z\"],[\"male\",\"United States of America\",\"coach\",\"no value\",\"1978-03-29T00:00:00Z\"],[\"female\",\"United States of America\",\"lawyer\",\"no value\",\"1967-01-20T00:00:00Z\"],[\"male\",\"United States of America\",\"lawyer\",\"no value\",\"1968-05-09T00:00:00Z\"],[\"male\",\"United Kingdom\",\"barrister\",\"no value\",\"1962-09-02T00:00:00Z\"],[\"male\",\"United States of America\",\"American football player\",\"no value\",\"1986-01-24T00:00:00Z\"],[\"male\",\"United States of America\",\"journalist\",\"no value\",\"1975-01-22T00:00:00Z\"],[\"male\",\"United States of America\",\"American football player\",\"no value\",\"1962-03-01T00:00:00Z\"],[\"male\",\"United States of America\",\"politician\",\"no value\",\"1937-11-28T00:00:00Z\"],[\"male\",\"United States of America\",\"American football player\",\"no value\",\"1955-08-01T00:00:00Z\"],[\"female\",\"United States of America\",\"lawyer\",\"Bachelor of Arts\",\"1964-10-20T00:00:00Z\"],[\"male\",\"India\",\"politician\",\"no value\",\"1969-02-01T00:00:00Z\"],[\"male\",\"India\",\"politician\",\"no value\",\"1961-11-15T00:00:00Z\"],[\"male\",\"United States of America\",\"American football player\",\"no value\",\"1960-02-18T00:00:00Z\"],[\"male\",\"Philippines\",\"radio personality\",\"no value\",\"1974-08-21T00:00:00Z\"],[\"male\",\"United States of America\",\"entrepreneur\",\"no value\",\"1971-11-07T00:00:00Z\"],[\"male\",\"United States of America\",\"lawyer\",\"no value\",\"1961-10-07T00:00:00Z\"],[\"male\",\"Israel\",\"association football player\",\"no value\",\"1988-07-29T00:00:00Z\"],[\"male\",\"United Kingdom\",\"composer\",\"no value\",\"1962-01-01T00:00:00Z\"],[\"female\",\"Philippines\",\"lawyer\",\"no value\",\"1964-04-23T00:00:00Z\"],[\"male\",\"South Africa\",\"television presenter\",\"no value\",\"1984-02-20T00:00:00Z\"],[\"male\",\"United States of America\",\"American football player\",\"no value\",\"1972-09-20T00:00:00Z\"],[\"male\",\"United States of America\",\"baseball player\",\"no value\",\"1967-06-04T00:00:00Z\"],[\"male\",\"United States of America\",\"American football player\",\"no value\",\"1958-08-14T00:00:00Z\"],[\"male\",\"United Kingdom\",\"association football player\",\"no value\",\"1964-12-16T00:00:00Z\"],[\"male\",\"Philippines\",\"basketball player\",\"no value\",\"1959-03-19T00:00:00Z\"],[\"female\",\"India\",\"lawyer\",\"no value\",\"1959-05-22T00:00:00Z\"],[\"male\",\"India\",\"politician\",\"no value\",\"1957-10-15T00:00:00Z\"],[\"male\",\"Australia\",\"Australian rules football player\",\"no value\",\"1970-12-31T00:00:00Z\"],[\"male\",\"United States of America\",\"military officer\",\"no value\",\"1947-11-22T00:00:00Z\"],[\"male\",\"United States of America\",\"baseball player\",\"no value\",\"1961-12-25T00:00:00Z\"],[\"male\",\"United States of America\",\"coach\",\"no value\",\"1974-09-13T00:00:00Z\"],[\"male\",\"India\",\"politician\",\"no value\",\"1952-08-12T00:00:00Z\"],[\"male\",\"United States of America\",\"American football player\",\"no value\",\"1978-04-24T00:00:00Z\"],[\"male\",\"United States of America\",\"American football player\",\"no value\",\"1971-08-03T00:00:00Z\"],[\"male\",\"United States of America\",\"lawyer\",\"no value\",\"1962-12-23T00:00:00Z\"],[\"male\",\"Australia\",\"politician\",\"no value\",\"1974-06-14T00:00:00Z\"],[\"male\",\"United States of America\",\"entrepreneur\",\"no value\",\"1960-10-08T00:00:00Z\"],[\"male\",\"United States of America\",\"association football player\",\"no value\",\"1979-06-23T00:00:00Z\"],[\"male\",\"South Africa\",\"politician\",\"no value\",\"1980-06-06T00:00:00Z\"],[\"male\",\"India\",\"politician\",\"no value\",\"1964-06-13T00:00:00Z\"],[\"male\",\"Australia\",\"Australian rules football player\",\"no value\",\"1972-07-26T00:00:00Z\"],[\"male\",\"United States of America\",\"computer scientist\",\"no value\",\"1967-08-19T00:00:00Z\"],[\"female\",\"Canada\",\"lawyer\",\"no value\",\"1964-04-17T00:00:00Z\"],[\"male\",\"Australia\",\"politician\",\"no value\",\"1970-02-11T00:00:00Z\"],[\"male\",\"New Zealand\",\"lawyer\",\"no value\",\"1976-10-01T00:00:00Z\"],[\"male\",\"United Kingdom\",\"association football player\",\"no value\",\"1964-07-03T00:00:00Z\"],[\"male\",\"Italy\",\"engineer\",\"no value\",\"1965-04-07T00:00:00Z\"],[\"male\",\"United States of America\",\"politician\",\"no value\",\"1959-09-13T00:00:00Z\"],[\"male\",\"United States of America\",\"lawyer\",\"no value\",\"1966-09-16T00:00:00Z\"],[\"male\",\"India\",\"politician\",\"no value\",\"1967-06-03T00:00:00Z\"],[\"male\",\"Australia\",\"politician\",\"no value\",\"1971-07-17T00:00:00Z\"],[\"male\",\"India\",\"member of parliament\",\"no value\",\"1954-11-18T00:00:00Z\"],[\"male\",\"India\",\"politician\",\"no value\",\"1971-11-19T00:00:00Z\"],[\"male\",\"United States of America\",\"head coach\",\"no value\",\"1975-12-23T00:00:00Z\"],[\"male\",\"United States of America\",\"baseball coach\",\"no value\",\"1965-07-25T00:00:00Z\"],[\"male\",\"United States of America\",\"American football player\",\"no value\",\"1956-06-05T00:00:00Z\"],[\"male\",\"United States of America\",\"sports agent\",\"no value\",\"1971-03-20T00:00:00Z\"],[\"male\",\"Australia\",\"association football player\",\"no value\",\"1984-08-02T00:00:00Z\"],[\"male\",\"India\",\"politician\",\"no value\",\"1962-10-31T00:00:00Z\"],[\"male\",\"United States of America\",\"politician\",\"no value\",\"1965-01-19T00:00:00Z\"],[\"male\",\"United States of America\",\"baseball player\",\"no value\",\"1957-08-29T00:00:00Z\"],[\"male\",\"United States of America\",\"head coach\",\"no value\",\"1956-03-09T00:00:00Z\"],[\"male\",\"United States of America\",\"lawyer\",\"no value\",\"1955-02-10T00:00:00Z\"],[\"male\",\"India\",\"politician\",\"no value\",\"1965-04-22T00:00:00Z\"],[\"male\",\"India\",\"spokesperson\",\"no value\",\"1951-01-30T00:00:00Z\"],[\"male\",\"India\",\"singer\",\"no value\",\"1971-02-01T00:00:00Z\"],[\"male\",\"Ireland\",\"association football player\",\"no value\",\"1965-03-26T00:00:00Z\"],[\"male\",\"United Kingdom\",\"association football player\",\"no value\",\"1981-03-24T00:00:00Z\"],[\"male\",\"United States of America\",\"American football player\",\"no value\",\"1974-03-21T00:00:00Z\"],[\"male\",\"United States of America\",\"American football player\",\"no value\",\"1967-03-04T00:00:00Z\"],[\"male\",\"India\",\"politician\",\"no value\",\"1965-12-08T00:00:00Z\"],[\"male\",\"United States of America\",\"baseball player\",\"no value\",\"1965-01-15T00:00:00Z\"],[\"male\",\"Australia\",\"politician\",\"no value\",\"1971-11-14T00:00:00Z\"],[\"female\",\"India\",\"actor\",\"no value\",\"1976-03-23T00:00:00Z\"],[\"male\",\"United States of America\",\"American football player\",\"no value\",\"1979-12-14T00:00:00Z\"],[\"male\",\"Iran\",\"politician\",\"Doktor Nauk in Philosophy\",\"1960-01-07T00:00:00Z\"],[\"male\",\"United Kingdom\",\"association football player\",\"no value\",\"1984-11-21T00:00:00Z\"],[\"male\",\"Barbados\",\"cricketer\",\"no value\",\"1991-11-05T00:00:00Z\"],[\"male\",\"United States of America\",\"lawyer\",\"no value\",\"1957-09-11T00:00:00Z\"],[\"male\",\"United Kingdom\",\"association football player\",\"no value\",\"1974-12-10T00:00:00Z\"],[\"male\",\"United Kingdom\",\"association football player\",\"no value\",\"1945-09-09T00:00:00Z\"],[\"male\",\"no value\",\"Australian rules football player\",\"no value\",\"1961-01-17T00:00:00Z\"],[\"male\",\"United States of America\",\"politician\",\"no value\",\"1982-01-19T00:00:00Z\"],[\"male\",\"United States of America\",\"lawyer\",\"no value\",\"1953-02-04T00:00:00Z\"],[\"male\",\"Ghana\",\"politician\",\"no value\",\"1963-10-07T00:00:00Z\"],[\"male\",\"Australia\",\"politician\",\"no value\",\"1970-11-18T00:00:00Z\"],[\"female\",\"United States of America\",\"politician\",\"no value\",\"1959-08-04T00:00:00Z\"],[\"male\",\"United States of America\",\"ice hockey player\",\"no value\",\"1973-12-10T00:00:00Z\"],[\"male\",\"United States of America\",\"politician\",\"no value\",\"1961-11-01T00:00:00Z\"],[\"male\",\"United States of America\",\"American football player\",\"no value\",\"1967-08-12T00:00:00Z\"],[\"male\",\"Australia\",\"cricketer\",\"no value\",\"1984-12-08T00:00:00Z\"],[\"male\",\"no value\",\"economist\",\"no value\",\"no value\"],[\"male\",\"Australia\",\"economist\",\"no value\",\"1950-01-01T00:00:00Z\"],[\"male\",\"United States of America\",\"politician\",\"no value\",\"1974-11-05T00:00:00Z\"],[\"male\",\"United States of America\",\"American football player\",\"no value\",\"1992-11-05T00:00:00Z\"],[\"male\",\"United States of America\",\"actor\",\"no value\",\"1957-02-18T00:00:00Z\"],[\"male\",\"no value\",\"politician\",\"no value\",\"no value\"],[\"male\",\"United Kingdom\",\"military chaplain\",\"no value\",\"1968-05-16T00:00:00Z\"],[\"male\",\"United Kingdom\",\"darts player\",\"no value\",\"1972-01-07T00:00:00Z\"],[\"male\",\"United Kingdom\",\"television presenter\",\"no value\",\"1969-12-11T00:00:00Z\"],[\"male\",\"Canada\",\"coach\",\"no value\",\"1967-08-23T00:00:00Z\"],[\"male\",\"United Kingdom\",\"cricketer\",\"no value\",\"1948-10-03T00:00:00Z\"],[\"male\",\"no value\",\"baseball player\",\"no value\",\"1938-12-18T00:00:00Z\"],[\"male\",\"Australia\",\"boxer\",\"no value\",\"1962-02-17T00:00:00Z\"],[\"male\",\"United Kingdom\",\"athletics competitor\",\"no value\",\"1967-10-17T00:00:00Z\"],[\"male\",\"United Kingdom\",\"engineer\",\"no value\",\"1963-06-30T00:00:00Z\"],[\"male\",\"United States of America\",\"politician\",\"Bachelor of Arts\",\"1967-04-10T00:00:00Z\"],[\"male\",\"New Zealand\",\"film director\",\"no value\",\"1971-05-10T00:00:00Z\"],[\"male\",\"Australia\",\"politician\",\"no value\",\"1973-03-28T00:00:00Z\"],[\"male\",\"United States of America\",\"songwriter\",\"no value\",\"1950-03-08T00:00:00Z\"],[\"male\",\"United Kingdom\",\"curate\",\"no value\",\"1934-10-04T00:00:00Z\"],[\"male\",\"Trinidad and Tobago\",\"association football player\",\"no value\",\"1987-04-08T00:00:00Z\"],[\"male\",\"United States of America\",\"singer\",\"no value\",\"1964-03-16T00:00:00Z\"],[\"male\",\"United States of America\",\"politician\",\"no value\",\"1945-03-05T00:00:00Z\"],[\"male\",\"Australia\",\"volleyball player\",\"no value\",\"1979-01-27T00:00:00Z\"],[\"male\",\"United States of America\",\"screenwriter\",\"no value\",\"1953-11-27T00:00:00Z\"],[\"female\",\"Australia\",\"politician\",\"no value\",\"1972-04-25T00:00:00Z\"],[\"male\",\"no value\",\"actor\",\"no value\",\"1986-01-01T00:00:00Z\"],[\"male\",\"United States of America\",\"American football player\",\"no value\",\"1968-12-09T00:00:00Z\"],[\"male\",\"Ireland\",\"hurler\",\"no value\",\"1950-05-25T00:00:00Z\"],[\"male\",\"United States of America\",\"singer\",\"no value\",\"1993-04-16T00:00:00Z\"],[\"male\",\"Australia\",\"politician\",\"no value\",\"1967-07-13T00:00:00Z\"],[\"male\",\"United States of America\",\"politician\",\"no value\",\"1972-02-22T00:00:00Z\"],[\"male\",\"United Kingdom\",\"politician\",\"no value\",\"1943-12-02T00:00:00Z\"],[\"male\",\"United Kingdom\",\"canoeist\",\"no value\",\"1969-11-15T00:00:00Z\"],[\"male\",\"United States of America\",\"politician\",\"no value\",\"1936-01-01T00:00:00Z\"],[\"male\",\"United States of America\",\"jazz guitarist\",\"no value\",\"1953-01-01T00:00:00Z\"],[\"male\",\"Australia\",\"businessperson\",\"no value\",\"2000-01-01T00:00:00Z\"],[\"male\",\"United States of America\",\"politician\",\"no value\",\"1956-06-29T00:00:00Z\"],[\"male\",\"Denmark\",\"association football player\",\"no value\",\"1976-04-14T00:00:00Z\"],[\"male\",\"United States of America\",\"politician\",\"no value\",\"1970-03-15T00:00:00Z\"],[\"male\",\"United States of America\",\"ski jumper\",\"no value\",\"2000-01-01T00:00:00Z\"],[\"male\",\"Australia\",\"rugby league player\",\"no value\",\"1993-03-01T00:00:00Z\"],[\"male\",\"Jamaica\",\"singer\",\"no value\",\"1943-12-07T00:00:00Z\"],[\"male\",\"Australia\",\"Australian rules football player\",\"no value\",\"1928-12-29T00:00:00Z\"],[\"male\",\"United States of America\",\"actor\",\"no value\",\"1947-09-28T00:00:00Z\"],[\"male\",\"United Kingdom\",\"canoeist\",\"no value\",\"no value\"],[\"male\",\"United States of America\",\"American football player\",\"no value\",\"1946-04-24T00:00:00Z\"],[\"male\",\"United States of America\",\"author\",\"no value\",\"1954-09-13T00:00:00Z\"],[\"male\",\"Philippines\",\"basketball player\",\"no value\",\"1958-03-14T00:00:00Z\"],[\"male\",\"Ethiopia\",\"politician\",\"no value\",\"1965-03-03T00:00:00Z\"],[\"male\",\"United Kingdom\",\"association football player\",\"no value\",\"1966-10-27T00:00:00Z\"],[\"male\",\"Australia\",\"lawyer\",\"no value\",\"1966-09-30T00:00:00Z\"],[\"male\",\"United States of America\",\"politician\",\"no value\",\"1957-01-15T00:00:00Z\"],[\"male\",\"Canada\",\"lawyer\",\"no value\",\"1964-01-01T00:00:00Z\"],[\"male\",\"United Kingdom\",\"graphic designer\",\"no value\",\"1964-04-26T00:00:00Z\"],[\"male\",\"United States of America\",\"ice hockey player\",\"no value\",\"1939-12-27T00:00:00Z\"],[\"male\",\"United Kingdom\",\"painter\",\"no value\",\"1949-03-09T00:00:00Z\"],[\"male\",\"United States of America\",\"basketball player\",\"no value\",\"1981-07-28T00:00:00Z\"],[\"male\",\"Nigeria\",\"politician\",\"no value\",\"1963-06-14T00:00:00Z\"],[\"male\",\"United States of America\",\"American football player\",\"no value\",\"1995-03-14T00:00:00Z\"],[\"male\",\"United Kingdom\",\"hurdler\",\"no value\",\"1933-05-24T00:00:00Z\"],[\"non-binary\",\"United Kingdom\",\"singer\",\"no value\",\"1992-05-19T00:00:00Z\"],[\"male\",\"United Kingdom\",\"biathlete\",\"no value\",\"1970-02-17T00:00:00Z\"],[\"male\",\"United States of America\",\"American football player\",\"no value\",\"1972-02-02T00:00:00Z\"],[\"male\",\"United States of America\",\"baseball player\",\"no value\",\"1990-08-29T00:00:00Z\"],[\"male\",\"Australia\",\"rugby league player\",\"no value\",\"1978-07-02T00:00:00Z\"],[\"male\",\"United Kingdom\",\"association football player\",\"no value\",\"1962-09-06T00:00:00Z\"],[\"male\",\"United States of America\",\"basketball player\",\"no value\",\"1990-09-09T00:00:00Z\"],[\"male\",\"no value\",\"record producer\",\"no value\",\"1953-01-01T00:00:00Z\"],[\"male\",\"no value\",\"American football player\",\"no value\",\"1969-08-25T00:00:00Z\"],[\"male\",\"United Kingdom\",\"swimmer\",\"no value\",\"1960-09-24T00:00:00Z\"],[\"male\",\"no value\",\"chief executive officer\",\"no value\",\"1957-01-01T00:00:00Z\"],[\"male\",\"India\",\"politician\",\"no value\",\"1954-12-13T00:00:00Z\"],[\"male\",\"no value\",\"American football player\",\"no value\",\"1972-06-24T00:00:00Z\"],[\"female\",\"United States of America\",\"politician\",\"no value\",\"1970-07-01T00:00:00Z\"],[\"male\",\"United States of America\",\"American football player\",\"no value\",\"1990-04-09T00:00:00Z\"],[\"male\",\"United States of America\",\"songwriter\",\"no value\",\"1977-05-25T00:00:00Z\"],[\"male\",\"United States of America\",\"American football player\",\"no value\",\"1967-12-22T00:00:00Z\"],[\"male\",\"no value\",\"urban planner\",\"no value\",\"1962-04-13T00:00:00Z\"],[\"male\",\"United States of America\",\"musician\",\"no value\",\"1952-12-19T00:00:00Z\"],[\"male\",\"no value\",\"Gaelic football player\",\"no value\",\"no value\"],[\"male\",\"United States of America\",\"American football player\",\"no value\",\"1978-01-21T00:00:00Z\"],[\"male\",\"United Kingdom\",\"comedian\",\"no value\",\"1967-01-07T00:00:00Z\"],[\"male\",\"Australia\",\"association football player\",\"no value\",\"1994-04-09T00:00:00Z\"],[\"male\",\"United States of America\",\"jazz guitarist\",\"no value\",\"no value\"],[\"male\",\"United Kingdom\",\"chef\",\"no value\",\"1976-12-01T00:00:00Z\"],[\"male\",\"United States of America\",\"American football player\",\"no value\",\"1965-10-09T00:00:00Z\"],[\"male\",\"United States of America\",\"golfer\",\"no value\",\"1967-04-25T00:00:00Z\"],[\"male\",\"Australia\",\"businessperson\",\"no value\",\"1974-09-07T00:00:00Z\"],[\"male\",\"United Kingdom\",\"composer\",\"no value\",\"1971-09-21T00:00:00Z\"],[\"male\",\"United Kingdom\",\"creative director\",\"no value\",\"1955-01-11T00:00:00Z\"],[\"male\",\"United States of America\",\"artist\",\"no value\",\"1951-10-12T00:00:00Z\"],[\"male\",\"no value\",\"mathematician\",\"no value\",\"no value\"],[\"male\",\"Australia\",\"politician\",\"no value\",\"1980-12-17T00:00:00Z\"],[\"male\",\"no value\",\"head coach\",\"no value\",\"1965-06-08T00:00:00Z\"],[\"male\",\"United States of America\",\"American football player\",\"no value\",\"1960-09-22T00:00:00Z\"],[\"male\",\"United States of America\",\"baseball player\",\"no value\",\"1969-07-29T00:00:00Z\"],[\"female\",\"United States of America\",\"lawyer\",\"bachelor's degree\",\"1949-06-22T00:00:00Z\"],[\"male\",\"United States of America\",\"lawyer\",\"no value\",\"1944-11-21T00:00:00Z\"],[\"male\",\"United States of America\",\"missionary\",\"no value\",\"1952-07-14T00:00:00Z\"],[\"male\",\"India\",\"cricketer\",\"no value\",\"1962-05-27T00:00:00Z\"],[\"male\",\"no value\",\"American football player\",\"no value\",\"no value\"],[\"transgender female\",\"Australia\",\"mathematician\",\"Doctor of Philosophy\",\"1972-10-28T00:00:00Z\"],[\"male\",\"United Kingdom\",\"association football player\",\"no value\",\"1986-12-09T00:00:00Z\"],[\"male\",\"United States of America\",\"lawyer\",\"no value\",\"1957-11-13T00:00:00Z\"],[\"male\",\"British India\",\"politician\",\"no value\",\"1937-10-21T00:00:00Z\"],[\"male\",\"Australia\",\"songwriter\",\"no value\",\"no value\"],[\"male\",\"Israel\",\"lawyer\",\"no value\",\"1939-09-09T00:00:00Z\"],[\"male\",\"United States of America\",\"climate activist\",\"Bachelor of Arts\",\"1971-02-04T00:00:00Z\"],[\"male\",\"no value\",\"basketball player\",\"no value\",\"1983-07-11T00:00:00Z\"],[\"female\",\"United States of America\",\"spokesperson\",\"no value\",\"1970-01-27T00:00:00Z\"],[\"male\",\"Australia\",\"politician\",\"no value\",\"1965-11-18T00:00:00Z\"],[\"male\",\"United States of America\",\"basketball player\",\"no value\",\"1970-11-01T00:00:00Z\"],[\"female\",\"Australia\",\"politician\",\"no value\",\"1970-09-22T00:00:00Z\"],[\"male\",\"United Kingdom\",\"mechanical engineer\",\"no value\",\"1962-06-28T00:00:00Z\"],[\"female\",\"Australia\",\"lawyer\",\"no value\",\"1956-07-17T00:00:00Z\"],[\"male\",\"United States of America\",\"computer scientist\",\"no value\",\"1972-07-12T00:00:00Z\"],[\"male\",\"United States of America\",\"lawyer\",\"no value\",\"1952-12-01T00:00:00Z\"],[\"male\",\"United States of America\",\"American football player\",\"no value\",\"1965-10-28T00:00:00Z\"],[\"male\",\"United States of America\",\"American football player\",\"no value\",\"1961-12-04T00:00:00Z\"],[\"male\",\"United States of America\",\"basketball coach\",\"no value\",\"1947-02-13T00:00:00Z\"],[\"male\",\"India\",\"politician\",\"no value\",\"1951-07-10T00:00:00Z\"],[\"male\",\"Singapore\",\"politician\",\"no value\",\"1961-11-01T00:00:00Z\"],[\"male\",\"United States of America\",\"American football player\",\"no value\",\"1968-01-31T00:00:00Z\"],[\"male\",\"United States of America\",\"coach\",\"no value\",\"1961-07-27T00:00:00Z\"],[\"male\",\"no value\",\"no value\",\"no value\",\"1963-01-01T00:00:00Z\"],[\"female\",\"United States of America\",\"lawyer\",\"Juris Doctor\",\"1971-08-23T00:00:00Z\"],[\"male\",\"United States of America\",\"American football player\",\"no value\",\"1964-07-10T00:00:00Z\"],[\"male\",\"United States of America\",\"politician\",\"no value\",\"1964-04-09T00:00:00Z\"],[\"male\",\"United Kingdom\",\"politician\",\"no value\",\"1951-08-22T00:00:00Z\"],[\"male\",\"Argentina\",\"writer\",\"Doctor of Theology\",\"1936-12-17T00:00:00Z\"],[\"male\",\"United Kingdom\",\"association football player\",\"no value\",\"1974-03-06T00:00:00Z\"],[\"male\",\"Malaysia\",\"squash player\",\"no value\",\"1994-04-23T00:00:00Z\"],[\"male\",\"Malaysia\",\"politician\",\"no value\",\"1976-01-10T00:00:00Z\"],[\"male\",\"United States of America\",\"American football player\",\"no value\",\"1963-11-18T00:00:00Z\"],[\"male\",\"no value\",\"physicist\",\"no value\",\"1925-01-01T00:00:00Z\"],[\"male\",\"no value\",\"no value\",\"no value\",\"no value\"],[\"male\",\"India\",\"politician\",\"Master of Arts\",\"1950-04-20T00:00:00Z\"],[\"male\",\"United Kingdom\",\"athletics competitor\",\"no value\",\"1980-02-28T00:00:00Z\"],[\"male\",\"United States of America\",\"politician\",\"no value\",\"1946-04-05T00:00:00Z\"],[\"male\",\"France\",\"politician\",\"no value\",\"1951-01-09T00:00:00Z\"],[\"male\",\"United States of America\",\"American football player\",\"no value\",\"1979-08-09T00:00:00Z\"],[\"male\",\"United Kingdom\",\"association football player\",\"no value\",\"1971-06-25T00:00:00Z\"],[\"female\",\"United States of America\",\"lawyer\",\"political science\",\"1962-08-04T00:00:00Z\"],[\"male\",\"Canada\",\"environmentalist\",\"no value\",\"1941-01-01T00:00:00Z\"],[\"male\",\"United Kingdom\",\"association football player\",\"no value\",\"1977-11-29T00:00:00Z\"],[\"male\",\"no value\",\"rugby league player\",\"no value\",\"1993-09-28T00:00:00Z\"],[\"male\",\"India\",\"politician\",\"no value\",\"1957-05-27T00:00:00Z\"],[\"male\",\"no value\",\"basketball player\",\"no value\",\"1989-03-28T00:00:00Z\"],[\"male\",\"United States of America\",\"American football player\",\"no value\",\"1964-11-23T00:00:00Z\"],[\"male\",\"India\",\"diplomat\",\"no value\",\"1971-01-26T00:00:00Z\"],[\"male\",\"India\",\"cricketer\",\"no value\",\"1965-10-12T00:00:00Z\"],[\"male\",\"India\",\"politician\",\"no value\",\"1964-08-01T00:00:00Z\"],[\"male\",\"United States of America\",\"lawyer\",\"no value\",\"1954-09-27T00:00:00Z\"],[\"male\",\"New Zealand\",\"cricketer\",\"no value\",\"1991-01-07T00:00:00Z\"],[\"female\",\"United States of America\",\"educational strategist\",\"no value\",\"1989-10-13T00:00:00Z\"],[\"male\",\"no value\",\"radio personality\",\"no value\",\"no value\"],[\"male\",\"no value\",\"actor\",\"no value\",\"no value\"],[\"male\",\"Australia\",\"politician\",\"no value\",\"1960-04-12T00:00:00Z\"],[\"male\",\"no value\",\"politician\",\"no value\",\"1941-07-04T00:00:00Z\"],[\"male\",\"Australia\",\"politician\",\"no value\",\"1984-09-04T00:00:00Z\"],[\"female\",\"no value\",\"painter\",\"no value\",\"1980-01-01T00:00:00Z\"],[\"no value\",\"no value\",\"no value\",\"no value\",\"no value\"],[\"male\",\"Denmark\",\"philosopher\",\"no value\",\"1961-01-01T00:00:00Z\"],[\"female\",\"no value\",\"cricketer\",\"no value\",\"1942-04-21T00:00:00Z\"],[\"male\",\"Pakistan\",\"politician\",\"no value\",\"1962-11-08T00:00:00Z\"],[\"male\",\"The Bahamas\",\"politician\",\"no value\",\"1954-04-16T00:00:00Z\"],[\"male\",\"United Kingdom\",\"actor\",\"no value\",\"1992-06-22T00:00:00Z\"],[\"male\",\"no value\",\"researcher\",\"no value\",\"1968-10-07T00:00:00Z\"],[\"male\",\"India\",\"politician\",\"no value\",\"1954-05-05T00:00:00Z\"],[\"male\",\"United States of America\",\"politician\",\"no value\",\"1972-06-11T00:00:00Z\"],[\"male\",\"no value\",\"researcher\",\"no value\",\"no value\"],[\"male\",\"India\",\"film director\",\"no value\",\"no value\"],[\"male\",\"no value\",\"racing automobile driver\",\"no value\",\"1995-02-17T00:00:00Z\"],[\"male\",\"no value\",\"no value\",\"no value\",\"no value\"],[\"male\",\"United States of America\",\"rower\",\"no value\",\"1979-05-29T00:00:00Z\"],[\"male\",\"Nigeria\",\"Anwalt\",\"no value\",\"1957-03-08T00:00:00Z\"],[\"female\",\"United States of America\",\"official\",\"no value\",\"1972-05-14T00:00:00Z\"],[\"male\",\"Canada\",\"politician\",\"no value\",\"1962-10-07T00:00:00Z\"],[\"male\",\"no value\",\"no value\",\"no value\",\"no value\"],[\"male\",\"United States of America\",\"American football player\",\"no value\",\"1983-09-05T00:00:00Z\"],[\"male\",\"no value\",\"politician\",\"no value\",\"1927-04-03T00:00:00Z\"],[\"male\",\"no value\",\"Canadian football player\",\"no value\",\"1930-01-01T00:00:00Z\"],[\"male\",\"United States of America\",\"military officer\",\"no value\",\"1964-04-26T00:00:00Z\"],[\"male\",\"United States of America\",\"basketball player\",\"no value\",\"1991-01-29T00:00:00Z\"],[\"male\",\"United States of America\",\"spokesperson\",\"no value\",\"1971-09-23T00:00:00Z\"],[\"male\",\"no value\",\"songwriter\",\"no value\",\"1988-03-18T00:00:00Z\"],[\"male\",\"India\",\"lawyer\",\"no value\",\"1945-10-01T00:00:00Z\"],[\"female\",\"United States of America\",\"actor\",\"no value\",\"1992-10-11T00:00:00Z\"],[\"male\",\"United States of America\",\"politician\",\"Master of Business Administration\",\"1951-04-27T00:00:00Z\"],[\"female\",\"United States of America\",\"official\",\"no value\",\"1970-09-27T00:00:00Z\"],[\"male\",\"no value\",\"sporting director\",\"no value\",\"no value\"],[\"male\",\"United States of America\",\"lawyer\",\"no value\",\"1971-02-16T00:00:00Z\"],[\"male\",\"Ireland\",\"composer\",\"no value\",\"1951-05-05T00:00:00Z\"],[\"male\",\"United States of America\",\"American football player\",\"no value\",\"1997-03-26T00:00:00Z\"],[\"male\",\"United States of America\",\"Commissioner of Baseball\",\"no value\",\"1958-09-28T00:00:00Z\"],[\"male\",\"India\",\"civil servant\",\"no value\",\"1957-02-26T00:00:00Z\"],[\"male\",\"no value\",\"diplomat\",\"no value\",\"1968-05-01T00:00:00Z\"],[\"male\",\"United States of America\",\"politician\",\"Bachelor of Arts\",\"1962-12-21T00:00:00Z\"],[\"male\",\"People's Republic of China\",\"politician\",\"no value\",\"1973-04-01T00:00:00Z\"],[\"male\",\"United Kingdom\",\"actor\",\"no value\",\"1981-04-26T00:00:00Z\"],[\"male\",\"Italy\",\"race car driver\",\"no value\",\"1963-05-22T00:00:00Z\"],[\"male\",\"United States of America\",\"baseball player\",\"no value\",\"1986-06-02T00:00:00Z\"],[\"male\",\"no value\",\"actor\",\"no value\",\"1935-06-01T00:00:00Z\"],[\"male\",\"no value\",\"botanist\",\"no value\",\"1940-01-01T00:00:00Z\"],[\"male\",\"United States of America\",\"baseball player\",\"no value\",\"1986-11-13T00:00:00Z\"],[\"female\",\"United States of America\",\"politician\",\"no value\",\"1982-08-13T00:00:00Z\"],[\"male\",\"United States of America\",\"basketball player\",\"no value\",\"1984-08-22T00:00:00Z\"],[\"male\",\"no value\",\"no value\",\"no value\",\"no value\"],[\"male\",\"Australia\",\"cricketer\",\"no value\",\"1939-03-24T00:00:00Z\"],[\"male\",\"Australia\",\"politician\",\"no value\",\"1976-09-04T00:00:00Z\"],[\"male\",\"United Kingdom\",\"trade unionist\",\"no value\",\"1960-02-17T00:00:00Z\"],[\"male\",\"United Kingdom\",\"sculptor\",\"no value\",\"1949-01-01T00:00:00Z\"],[\"male\",\"Philippines\",\"politician\",\"no value\",\"1966-10-21T00:00:00Z\"],[\"male\",\"India\",\"cricketer\",\"no value\",\"1998-12-26T00:00:00Z\"],[\"female\",\"United States of America\",\"historian\",\"no value\",\"1965-01-01T00:00:00Z\"],[\"male\",\"no value\",\"lawyer\",\"no value\",\"1946-09-19T00:00:00Z\"],[\"female\",\"no value\",\"scientist\",\"no value\",\"1972-01-01T00:00:00Z\"],[\"male\",\"India\",\"politician\",\"no value\",\"1970-07-22T00:00:00Z\"],[\"female\",\"Russia\",\"politician\",\"Candidate of Historical Sciences\",\"1975-12-24T00:00:00Z\"],[\"male\",\"United States of America\",\"American football player\",\"no value\",\"1989-02-27T00:00:00Z\"],[\"male\",\"Italy\",\"politician\",\"laurea\",\"1944-08-29T00:00:00Z\"],[\"male\",\"no value\",\"film director\",\"no value\",\"no value\"],[\"male\",\"United States of America\",\"baseball player\",\"no value\",\"1996-08-09T00:00:00Z\"],[\"female\",\"Germany\",\"actor\",\"no value\",\"1983-01-01T00:00:00Z\"],[\"male\",\"United States of America\",\"American football player\",\"no value\",\"1956-07-30T00:00:00Z\"],[\"male\",\"no value\",\"writer\",\"no value\",\"1967-01-01T00:00:00Z\"],[\"male\",\"Australia\",\"politician\",\"no value\",\"1977-11-15T00:00:00Z\"],[\"male\",\"India\",\"cricketer\",\"no value\",\"1993-06-28T00:00:00Z\"],[\"male\",\"no value\",\"spokesperson\",\"no value\",\"1964-01-10T00:00:00Z\"],[\"male\",\"Australia\",\"cricketer\",\"no value\",\"1928-12-16T00:00:00Z\"],[\"male\",\"Philippines\",\"politician\",\"no value\",\"1948-10-28T00:00:00Z\"],[\"male\",\"no value\",\"engineer\",\"no value\",\"no value\"],[\"male\",\"United States of America\",\"lawyer\",\"no value\",\"1951-04-16T00:00:00Z\"],[\"male\",\"United States of America\",\"politician\",\"no value\",\"no value\"],[\"male\",\"Australia\",\"rower\",\"no value\",\"1970-11-28T00:00:00Z\"],[\"male\",\"United Kingdom\",\"businessperson\",\"no value\",\"1979-06-01T00:00:00Z\"],[\"male\",\"no value\",\"chief executive officer\",\"no value\",\"1964-01-01T00:00:00Z\"],[\"male\",\"United Kingdom\",\"actor\",\"no value\",\"1970-06-02T00:00:00Z\"],[\"male\",\"United States of America\",\"baseball player\",\"no value\",\"1992-02-22T00:00:00Z\"],[\"male\",\"no value\",\"musician\",\"no value\",\"1949-01-01T00:00:00Z\"],[\"male\",\"no value\",\"columnist\",\"no value\",\"no value\"],[\"male\",\"no value\",\"painter\",\"no value\",\"1954-01-01T00:00:00Z\"],[\"male\",\"United States of America\",\"chief content officer\",\"no value\",\"1964-07-30T00:00:00Z\"],[\"male\",\"United Kingdom\",\"photographer\",\"no value\",\"1967-07-01T00:00:00Z\"],[\"male\",\"Australia\",\"politician\",\"no value\",\"1983-10-15T00:00:00Z\"],[\"male\",\"United States of America\",\"politician\",\"no value\",\"1967-01-09T00:00:00Z\"],[\"male\",\"no value\",\"television producer\",\"no value\",\"1953-10-14T00:00:00Z\"],[\"male\",\"United States of America\",\"American football player\",\"no value\",\"1992-01-13T00:00:00Z\"]],\"hovertemplate\":\"<b>%{hovertext}</b><br><br>__cluster__coordinate_x=%{x}<br>__cluster__coordinate_y=%{y}<br>genderLabel=%{customdata[0]}<br>citizenshipLabel=%{customdata[1]}<br>occupationLabel=%{customdata[2]}<br>degreeLabel=%{customdata[3]}<br>dateOfBirth=%{customdata[4]}<br>__cluster__clusterLabel=%{marker.color}<extra></extra>\",\"hovertext\":[\"Aamir Khan\",\"Michael Bloomberg\",\"John McCain\",\"Miley Cyrus\",\"Angelina Jolie\",\"Andrew Cuomo\",\"Narendra Modi\",\"Ban Ki-moon\",\"Barack Obama\",\"Mitt Romney\",\"George W. Bush\",\"Carrie Lam\",\"Lady Gaga\",\"Dwayne Johnson\",\"Novak Djokovic\",\"Bill Gates\",\"Lionel Messi\",\"Bill Clinton\",\"Sean Dyche\",\"Moon Jae-in\",\"Zinedine Zidane\",\"Serena Williams\",\"Hillary Clinton\",\"Ruth Bader Ginsburg\",\"Fran\\u00e7ois Hollande\",\"Tiger Woods\",\"Kanye West\",\"Joe Biden\",\"Lindsey Graham\",\"John Roberts\",\"Angela Merkel\",\"Li Keqiang\",\"Fernando Alonso\",\"Seth Meyers\",\"Xi Jinping\",\"Roger Federer\",\"Vladimir Putin\",\"Michelle Obama\",\"Cristiano Ronaldo\",\"Stephen Harper\",\"John Boehner\",\"Usain Bolt\",\"Andy Murray\",\"Donald Tusk\",\"Ryan Giggs\",\"Paul McCartney\",\"Nikki Haley\",\"Tony Blair\",\"Rafael Nadal\",\"Gordon Ramsay\",\"Rahul Gandhi\",\"Sachin Tendulkar\",\"J. J. Abrams\",\"Sonia Gandhi\",\"Nitish Kumar\",\"Mahathir Mohamad\",\"Sergey Lavrov\",\"Claude Puel\",\"John Kasich\",\"Jennifer Lawrence\",\"Jerry Brown\",\"David Lee\",\"Simon Cowell\",\"Nico Rosberg\",\"Roy Hodgson\",\"Paul Krugman\",\"Chris Christie\",\"Patrick Leahy\",\"Valtteri Bottas\",\"Gianni Infantino Riovaldi\",\"Nawaz Sharif\",\"Justin Langer\",\"Kristen Bell\",\"Tom Cole\",\"Blake Shelton\",\"Jos\\u00e9 Mourinho\",\"William Ruto\",\"Selena Gomez\",\"Imran Khan\",\"Kyle Busch\",\"Richard Branson\",\"Shashi Tharoor\",\"Prince Harry, Duke of Sussex\",\"Ursula von der Leyen\",\"Boris Johnson\",\"Deepika Padukone\",\"Ariana Grande\",\"Josep Guardiola\",\"Heiko Maas\",\"Jim Jordan\",\"Ronald Koeman\",\"Carlo Ancelotti\",\"Shinz\\u014d Abe\",\"Ryan Reynolds\",\"Nicki Minaj\",\"Kim Kardashian\",\"Newt Gingrich\",\"Mike Huckabee\",\"Mark Carney\",\"Alan Dershowitz\",\"Louis van Gaal\",\"David Johnson\",\"Avigdor Lieberman\",\"David Lewis\",\"Pitso Mosimane\",\"James Comey\",\"Karl-Heinz Rummenigge\",\"J\\u00fcrgen Klopp\",\"John Lynch\",\"Arvind Kejriwal\",\"Christian Horner\",\"Uhuru Kenyatta\",\"Rafael Ben\\u00edtez\",\"Thomas Bach\",\"Nancy Pelosi\",\"Sigmar Gabriel\",\"Daniel Ricciardo\",\"Nick Saban\",\"Toto Wolff\",\"Ian Wright\",\"Kirsten Gillibrand\",\"Petro Poroshenko\",\"Nicol\\u00e1s Maduro\",\"James Cameron\",\"James Mattis\",\"Claude Julien\",\"Janet Yellen\",\"Ali Khamenei\",\"John Mahama\",\"Justin Bieber\",\"Tulsi Gabbard\",\"Rodrigo Duterte\",\"Rand Paul\",\"Akshay Kumar\",\"Amy Klobuchar\",\"Jimmy Carter\",\"Carly Fiorina\",\"John Kelly\",\"Vince Cable\",\"Katy Perry\",\"Mark Hamill\",\"Ivanka Trump\",\"Pranab Mukherjee\",\"Dwyane Wade\",\"Raila Odinga\",\"Joe Schmidt\",\"Rick Perry\",\"James Lankford\",\"Michael Bradley\",\"Benjamin Netanyahu\",\"Emilia Clarke\",\"Bruce Boudreau\",\"Naftali Bennett\",\"Patty Murray\",\"Luis Enrique\",\"Simona Halep\",\"Paul Green\",\"Jens Stoltenberg\",\"Sheikh Hasina\",\"Chris Williamson\",\"Sushma Swaraj\",\"Jennifer Lopez\",\"Frank Lampard\",\"Patrick Joseph Toomey\",\"LeBron James\",\"Terry Collins\",\"Jeb Bush\",\"Phil Murphy\",\"John Key\",\"Ahmet Davuto\\u011flu\",\"Theresa May\",\"Mary Lou McDonald\",\"Donald Trump\",\"Susan Collins\",\"John Kerry\",\"Virat Kohli\",\"Tom Wolf\",\"Raghuram Rajan\",\"John Legend\",\"Lisa Murkowski\",\"Christopher Pyne\",\"Nicola Sturgeon\",\"Demi Lovato\",\"Ronda Rousey\",\"Eden Hazard\",\"Ed Sheeran\",\"Drew Brees\",\"Viktor Orb\\u00e1n\",\"Warren Buffett\",\"Claudio Ranieri\",\"Hun Sen\",\"Reese Witherspoon\",\"Mamata Banerjee\",\"Taylor Swift\",\"Andy Burnham\",\"Lee Hsien Loong\",\"Panfilo Morena Lacson Sr.\",\"Dianne Feinstein\",\"Gregg Popovich\",\"Paul Lambert\",\"Bilawal Bhutto Zardari\",\"Stephen Colbert\",\"Mike Pence\",\"Steven Gerrard\",\"Juli\\u00e1n Castro\",\"Oprah Winfrey\",\"Tom Watson\",\"Julius Malema\",\"Pauline Hanson\",\"Claire McCaskill\",\"Rudy Giuliani\",\"Wayne Rooney\",\"Margrethe Vestager\",\"Sebastian Vettel\",\"Dominic Raab\",\"Najib Razak\",\"Gavin Newsom\",\"Jean-Claude Juncker\",\"Mark Zuckerberg\",\"Grant Robertson\",\"Recep Tayyip Erdo\\u011fan\",\"Maxine Waters\",\"Sheryl Sandberg\",\"Kobe Bryant\",\"Ben Carson\",\"Sonny Perdue\",\"Barry Trotz\",\"Malcolm Turnbull\",\"Joe Manchin\",\"Robert Menendez\",\"Kevin Feige\",\"Lim Guan Eng\",\"Franklin Drilon\",\"Tucker Carlson\",\"John Cornyn\",\"Matt Hancock\",\"Thomas Tuchel\",\"Jim Boeheim\",\"Mike Pompeo\",\"John Calipari\",\"Jeff Flake\",\"Angus King\",\"Rian Johnson\",\"Steve Kerr\",\"Bill Self\",\"Christine Lagarde\",\"Emmerson Mnangagwa\",\"Chris Coons\",\"Sean Hannity\",\"Manny Pacquiao\",\"Dwane Casey\",\"Anthony Fauci\",\"Rick Snyder\",\"John Tory\",\"Kevin Brady\",\"Tony Mowbray\",\"Rio Ferdinand\",\"Dana White\",\"Larry Kudlow\",\"Elijah Cummings\",\"Robert Jones Portman\",\"Mickey Callaway\",\"Billy Donovan\",\"Chuck Grassley\",\"MS Dhoni\",\"Bob Arum\",\"Bruce Bochy\",\"Nana Akufo-Addo\",\"Devin Nunes\",\"Stan Van Gundy\",\"Amber Rudd\",\"Gregg Berhalter\",\"Karan Johar\",\"Asa Hutchinson\",\"Kelly Clarkson\",\"Warren Gatland\",\"Mike Yeo\",\"Hua Chunying\",\"Alex Cora\",\"Malcolm Jenkins\",\"Anand Sharma\",\"Mike Babcock\",\"Fred Hoiberg\",\"Bob Iger\",\"Steny Hoyer\",\"Bill Belichick\",\"Leila de Lima\",\"Bill Haslam\",\"Miche\\u00e1l Martin\",\"Sajid Javid\",\"Paul Maurice\",\"Sourav Ganguly\",\"James Corden\",\"Jacob Rees-Mogg\",\"Buck Showalter\",\"Neil Warnock\",\"Mark Dayton\",\"Chris Pratt\",\"Anthony Joshua\",\"Mike Budenholzer\",\"Sergio Ramos\",\"Ranveer Singh\",\"Scott Brooks\",\"Alan Peter Cayetano\",\"Gary Herbert\",\"Andrew Holness\",\"Ben Cardin\",\"Mike Leach\",\"Alastair Cook\",\"Tom Thibodeau\",\"Mike Riley\",\"Ellen DeGeneres\",\"Peter Laviolette\",\"Jamie Dimon\",\"Ron Wyden\",\"Piers Morgan\",\"Reince Priebus\",\"Joe Scarborough\",\"Steve Johnson\",\"Edmund Bartlett\",\"Chris Collins\",\"David Harris\",\"James E. Gunn\",\"Bud Black\",\"Naveen Patnaik\",\"David LeRoy Anderson\",\"Liow Tiong Lai\",\"Muhyiddin Yassin\",\"Cory Booker\",\"Mike DeWine\",\"Ed Markey\",\"Scott Miller\",\"Alain Vigneault\",\"John H. F. Campbell\",\"John Tortorella\",\"Matteo Salvini\",\"David Wagner\",\"Scott Morrison\",\"Joel Quenneville\",\"John Farrell\",\"Paul Clement\",\"Frank Vogel\",\"Steve Jones\",\"Dean Smith\",\"Cory Gardner\",\"Michael Clarke\",\"Rob Jones\",\"Robert Williams\",\"Dave Wright\",\"Mike Brown\",\"Bruno Le Maire\",\"Tim Cook\",\"Chris Jones\",\"Chris Johnson\",\"Jason Smith\",\"Eddie Johnson\",\"Mike Smith\",\"Russell Wilson\",\"Mark Johnson\",\"David Williams\",\"David King\",\"Garry Monk\",\"Chris Coleman\",\"Joe Maddon\",\"Paschal Donohoe\",\"Mark Thompson\",\"Greg Smith\",\"Jeff Smith\",\"Theo Epstein\",\"Chris Harris\",\"Larry Hogan\",\"Chris Scott\",\"David Price\",\"Mike White\",\"Paul Smith\",\"Manohar Parrikar\",\"David Taylor\",\"David Mart\\u00edn\",\"David Miller\",\"Mick Mulvaney\",\"Michael Bennett\",\"Ryan Murphy\",\"Jay Inslee\",\"Doug Jones\",\"Mike Johnson\",\"David Davis\",\"Steve Williams\",\"Joe Girardi\",\"David Cameron\",\"Kapil Sibal\",\"Jim Smith\",\"Mark Wilson\",\"James Smith\",\"Holly Willoughby\",\"Winston Peters\",\"Tyson Fury\",\"Mike Scioscia\",\"Chris Murphy\",\"David Brown\",\"Jerry Jones\",\"Todd McLellan\",\"Dave Clark\",\"David Smith\",\"Chris Bowen\",\"James Anderson\",\"Hassan Rouhani\",\"Gary Bettman\",\"Geno Auriemma\",\"Tim Kaine\",\"Bruce Arena\",\"Phil Mickelson\",\"Steve McClaren\",\"Bobby Jindal\",\"Nigel Farage\",\"Faf du Plessis\",\"Megyn Kelly\",\"Aitor Karanka\",\"Michael Gove\",\"Sam Allardyce\",\"Marco Rubio\",\"Michael Fallon\",\"Jack Dorsey\",\"David Moyes\",\"Mike Tomlin\",\"Jimmy Fallon\",\"Ken Hitchcock\",\"Chris Froome\",\"Ernesto Valverde\",\"Gary Neville\",\"Rick Carlisle\",\"Mario Draghi\",\"Jeff Bezos\",\"Kamal Haasan\",\"Chuck Schumer\",\"Tony Abbott\",\"Massimiliano Allegri\",\"Steve Bruce\",\"Kyrie Irving\",\"Kirk Cousins\",\"Sherrod Brown\",\"Jeff Sessions\",\"Chris Hughton\",\"Floyd Mayweather\",\"Adam Schiff\",\"Lena Dunham\",\"Tim Farron\",\"Lamar Alexander\",\"Rahm Emanuel\",\"Rex Tillerson\",\"Caitlyn Jenner\",\"Elon Musk\",\"Gareth Southgate\",\"Jon Gruden\",\"Mauricio Pochettino\",\"Unai Emery\",\"Orrin Hatch\",\"Jeremy Corbyn\",\"Akhilesh Yadav\",\"Winston Churchill\",\"Alexis Tsipras\",\"Doc Rivers\",\"Melania Trump\",\"Manuel Pellegrini\",\"Aaron Rodgers\",\"Gerard Gallant\",\"Vikas Swarup\",\"Chris Grayling\",\"Ant\\u00f3nio Guterres\",\"Rory McIlroy\",\"Jeremy Hunt\",\"Muhammadu Buhari\",\"Roberto Mart\\u00ednez\",\"Alan Pardew\",\"Stephen Curry\",\"Anwar Ibrahim\",\"Bernie Sanders\",\"Mitch McConnell\",\"John Hickenlooper\",\"Anthony Albanese\",\"Bob Corker\",\"Mark Cuban\",\"Rush Limbaugh\",\"Sadiq Khan\",\"Tony Pulis\",\"Philip Brown\",\"Ashok Gehlot\",\"Greg Vanney\",\"Pete Carroll\",\"Omar Abdullah\",\"Mitch Landrieu\",\"Tyronn Lue\",\"Justin Trudeau\",\"Clint Hurdle\",\"Kyle Whittingham\",\"Gilad Erdan\",\"Eddie Jones\",\"Doc Rivers\",\"Naheed Nenshi\",\"Craig Counsell\",\"Jason Chaffetz\",\"Alexandre de Juniac\",\"Jason Garrett\",\"Doug Marrone\",\"Dan Quinn\",\"Bob Melvin\",\"Kevin Hart\",\"Ron DeSantis\",\"Ted Cruz\",\"Kylie Jenner\",\"Bob Casey\",\"Jack Del Rio\",\"Dave Martinez\",\"David Warner\",\"Michael McCormack\",\"Brian Cashman\",\"Andy Cohen\",\"Mathias Cormann\",\"Quin Snyder\",\"James Mattis\",\"David Shaw\",\"Rassie Erasmus\",\"Paul Molitor\",\"Rex Ryan\",\"Pete Mackanin\",\"Mike Rizzo\",\"Roger Goodell\",\"Jason Kenney\",\"Ron Rivera\",\"Jim Harbaugh\",\"Kevin Cash\",\"Emmanuel Macron\",\"Ron Gardenhire\",\"Mike Matheny\",\"Nick Nurse\",\"Brad Ausmus\",\"John Harbaugh\",\"Chip Kelly\",\"Joe Root\",\"Steve Hansen\",\"Robin Ventura\",\"Scott Frost\",\"Andrew Scheer\",\"Michael Malone\",\"Leo Varadkar\",\"Grace Poe\",\"Asaduddin Owaisi\",\"Terry Francona\",\"Xavier Becerra\",\"St\\u00e9phane Dujarric\",\"Jordan Spieth\",\"Trey Gowdy\",\"Kangana Ranaut\",\"Michael Cheika\",\"AB de Villiers\",\"Steve Scalise\",\"Draymond Green\",\"Philip Lowe\",\"Simon Coveney\",\"Matt Smith\",\"Bruce Cassidy\",\"Brian Schatz\",\"Ron Johnson\",\"Ned Yost\",\"Michael McCarthy\",\"Tom Brady\",\"Neil Wilson\",\"Andy Reid\",\"Richard Blumenthal\",\"Gabe Kapler\",\"Meghan, Duchess of Sussex\",\"Max Verstappen\",\"Dave Dombrowski\",\"John Oliver\",\"Tim Cone\",\"Sean Payton\",\"Alvin Gentry\",\"Walt Weiss\",\"Tom Cotton\",\"Dabo Swinney\",\"Andrew Constance\",\"Ghulam Nabi Azad\",\"John Thune\",\"Subramanian Swamy\",\"Brett Kavanaugh\",\"Bill Shorten\",\"Bipin Rawat\",\"Arlene Foster\",\"Chris Petersen\",\"Amy Schumer\",\"Amarinder Singh\",\"Dirk Koetter\",\"Dmitry Peskov\",\"Dharmendra Pradhan\",\"Alex Azar\",\"Christian Porter\",\"Kane Williamson\",\"Andrew Little\",\"Cyril Abiteboul\",\"Mark Randall Meadows\",\"Chris Wilder\",\"Pinarayi Vijayan\",\"Chrissy Teigen\",\"Ravi Shankar Prasad\",\"Jim Bridenstine\",\"Dipak Misra\",\"Betsy DeVos\",\"Dan Mullen\",\"Hue Jackson\",\"Terry McAuliffe\",\"John Beilein\",\"Bill de Blasio\",\"Bruce Pearl\",\"Eoin Morgan\",\"Adam Silver\",\"Tom Izzo\",\"Ahmad Zahid Hamidi\",\"Bruce Arians\",\"Muppavarapu Venkaiah Naidu\",\"Bob Baffert\",\"Brian Snitker\",\"Abhishek Manu Singhvi\",\"Dara Khosrowshahi\",\"Derek Adams\",\"Bukola Saraki\",\"Arun Jaitley\",\"Aaron Boone\",\"Dan Tehan\",\"Chuck Pagano\",\"Bill English\",\"Alan Joyce\",\"Yogi Adityanath\",\"Uddhav Thackeray\",\"Pat Shurmur\",\"Ajit Pai\",\"Jay Wright\",\"Anthony Lynn\",\"Annastacia Palaszczuk\",\"Butch Jones\",\"Conor McGregor\",\"Bret Bielema\",\"Ben McAdoo\",\"Daniel Andrews\",\"Chrystia Freeland\",\"Nick Kyrgios\",\"Maurizio Sarri\",\"Dave Roberts\",\"Jacinda Ardern\",\"Aaron Finch\",\"Federica Mogherini\",\"Ashton Carter\",\"Brian Schmetzer\",\"Bill O'Brien\",\"Gary Kubiak\",\"Mohan Bhagwat\",\"Darren Lehmann\",\"Barnaby Joyce\",\"Kathleen Wynne\",\"Cameron Dick\",\"Trevor Bayliss\",\"Dave Hakstol\",\"Adam Gase\",\"Kellyanne Conway\",\"Scott Pruitt\",\"Keir Starmer\",\"Sean McVay\",\"Josh Earnest\",\"Jim McElwain\",\"Wilbur Ross\",\"Kirk Ferentz\",\"Kamala Harris\",\"Himanta Biswa Sarma\",\"Sanjay Raut\",\"Mark Richt\",\"Martin Andanar\",\"Zak Brown\",\"Thomas Perez\",\"Mahmoud Abbas\",\"Simon Harris\",\"Leni Robredo\",\"Trevor Noah\",\"Vance Joseph\",\"Scott Servais\",\"Mike Mayock\",\"Mark Smith\",\"Yeng Guiao\",\"Mehbooba Mufti\",\"Mukhtar Abbas Naqvi\",\"John Longmire\",\"Sandy Alderson\",\"Rick Renteria\",\"Matt Patricia\",\"Sitaram Yechury\",\"Matt Nagy\",\"Will Muschamp\",\"Ken Paxton\",\"Simon Birmingham\",\"Reed Hastings\",\"Jim Curtin\",\"Mmusi Maimane\",\"Piyush Goyal\",\"Nathan Buckley\",\"Satya Nadella\",\"Rachel Notley\",\"Troy Grant\",\"Simon Bridges\",\"David Jones\",\"G\\u00fcnther Steiner\",\"Ralph Northam\",\"John Bel Edwards\",\"Randeep Surjewala\",\"Josh Frydenberg\",\"Ranjan Gogoi\",\"Kiren Rijiju\",\"Kirby Smart\",\"Torey Lovullo\",\"Mike Zimmer\",\"Rick Hahn\",\"Michael Brown\",\"Sarbananda Sonowal\",\"J.B. Pritzker\",\"Paul Mainieri\",\"Mark Dantonio\",\"Jim Cramer\",\"Ram Madhav\",\"Prakash Javadekar\",\"Manoj Tiwari\",\"John McDonnell\",\"Michael Moore\",\"Sean McDermott\",\"Jay Gruden\",\"Manish Tewari\",\"Jeff Banister\",\"John Barilaro\",\"Smriti Irani\",\"Kyle Shanahan\",\"Mohammad Javad Zarif\",\"Lewis Hamilton\",\"Jason Holder\",\"Jeh Johnson\",\"Tim Ryan\",\"John Moore\",\"Phil Scott\",\"Pete Buttigieg\",\"Jerome Powell\",\"Mahamudu Bawumia\",\"Peter Dutton\",\"Kim Reynolds\",\"Jeff Blashill\",\"Ryan Zinke\",\"Mike Gundy\",\"Tim Paine\",\"Lawrence Yun\",\"Rod Sims\",\"Chris Sununu\",\"Odell Beckham Jr.\",\"Bruce Rauner\",\"Richard Sherman\",\"Scott Brown\",\"Steve Evans\",\"Phil Spencer\",\"Jon Cooper\",\"Chris Waller\",\"Gary Johnson\",\"Dave Smith\",\"Simon Williams\",\"Andy Palmer\",\"Marty Walsh\",\"Scott Walker\",\"Matt Williams\",\"Gary Smith\",\"John Lewis\",\"Elton John\",\"Paul Kelly\",\"Roy Cooper\",\"Mark Williams\",\"Steve Bannon\",\"Jackie Trad\",\"Wang Yi\",\"Bill Johnson\",\"John Horgan\",\"Chance the Rapper\",\"Mark McGowan\",\"Ben Sasse\",\"Alex Smith\",\"Nick Smith\",\"Jim Caldwell\",\"Mike Miller\",\"Stephen Jones\",\"John Delaney\",\"Mark Bailey\",\"Chris Smith\",\"Paul Johnson\",\"Nathan Brown\",\"David Madden\",\"John Kennedy\",\"Michael Flynn\",\"Michael Smith\",\"Phil Robertson\",\"Brian Kelly\",\"Leo Austria\",\"Tedros Adhanom Ghebreyesus\",\"Brian Smith\",\"Angus Taylor\",\"David Ige\",\"Mark Warner\",\"Michael Johnson\",\"David Brooks\",\"John Kirby\",\"Steve Smith\",\"Akinwunmi Ambode\",\"Baker Mayfield\",\"Harry Kane\",\"Sam Smith\",\"Paul Ryan\",\"James Franklin\",\"Chris Taylor\",\"John Wilson\",\"Mark Warburton\",\"Andrew Smith\",\"Andy Green\",\"Mike Jones\",\"Mark Taylor\",\"John Smith\",\"Harsh Vardhan\",\"Clay Helton\",\"Joni Ernst\",\"Adam Smith\",\"Andrew Barr\",\"Mike Sullivan\",\"Greg Clark\",\"Jeff Davis\",\"John Brennan\",\"Chris Brown\",\"Mark Lamarr\",\"Brad Smith\",\"Richard Smith\",\"Kenny Atkinson\",\"Jimbo Fisher\",\"Kevin Johnson\",\"Andrew Wilson\",\"Tim Scott\",\"Peter King\",\"Steve Miller\",\"John Fox\",\"Matthew Canavan\",\"Mike Anderson\",\"John Miller\",\"Mike Williams\",\"Elizabeth Warren\",\"Dick Durbin\",\"Franklin Graham\",\"Ravi Shastri\",\"Lee Johnson\",\"Stacey Smith?\",\"Mark Hughes\",\"Greg Abbott\",\"Farooq Abdullah\",\"Enda Kenny\",\"Reuven Rivlin\",\"Eric Garcetti\",\"Paul Williams\",\"Heather Nauert\",\"Greg Hunt\",\"Erik Spoelstra\",\"Gladys Berejiklian\",\"Kevin Anderson\",\"Julie Bishop\",\"Sundar Pichai\",\"Rick Scott\",\"Gus Malzahn\",\"Frank Reich\",\"Mike Krzyzewski\",\"Rajnath Singh\",\"Heng Swee Keat\",\"Doug Pederson\",\"Ed Orgeron\",\"Oscar Albayalde\",\"Gretchen Whitmer\",\"Urban Meyer\",\"Doug Ducey\",\"Alex Neil\",\"Francis\",\"Gary Rowett\",\"Sanjay Singh\",\"Khairy Jamaluddin\",\"Todd Bowles\",\"John G. King\",\"David Wilson\",\"Nara Chandrababu Naidu\",\"David Parker\",\"Tom Wheeler\",\"Michel Barnier\",\"Kliff Kingsbury\",\"Neil Lennon\",\"Lori Lightfoot\",\"Paul George\",\"Eddie Howe\",\"Alex Jones\",\"Nitin Gadkari\",\"Kevin Smith\",\"John L. Williams\",\"Raveesh Kumar\",\"Jitendra Singh\",\"Dilip Ghosh\",\"Sylvester Turner\",\"Ben Smith\",\"Alexandria Ocasio-Cortez\",\"Roy Williams\",\"Bill Nelson\",\"Anthony Lynham\",\"Steve King\",\"Adam Marshall\",\"Katie Price\",\"Q20793563\",\"Jon Stewart\",\"Wendy Williams\",\"Murad Ali Shah\",\"Hubert Minnis\",\"Harry Reid\",\"Michael A. McCarthy\",\"Manohar Lal Khattar\",\"Scott Gottlieb\",\"Neil Saunders\",\"Manmohan Singh\",\"Matt Campbell\",\"George Osborne\",\"Luke Walton\",\"Yemi Osinbajo\",\"Kirstjen Nielsen\",\"Bill Morneau\",\"Stephen King\",\"Lincoln Riley\",\"Jack Ross\",\"Don Mattingly\",\"Mark T. Esper\",\"Chris Evans\",\"Sean Spicer\",\"Mike Lee\",\"Ram Nath Kovind\",\"Cardi B\",\"Jim Justice\",\"Seema Verma\",\"Bill Maher\",\"Michael Avenatti\",\"Philip Hammond\",\"Cameron Smith\",\"Rob Manfred\",\"Shaktikanta Das\",\"Lu Kang\",\"Steven Mnuchin\",\"Geng Shuang\",\"Amit Shah\",\"Marco Giuseppe Silva\",\"Chris Martin\",\"Glenn Beck\",\"Gene Stanley Van Horn\",\"Bryan Price\",\"Sarah Sanders\",\"Tony Bennett\",\"Asif Ghafoor\",\"Charlie Baker\",\"David Littleproud\",\"Mick Cash\",\"John Gibbons\",\"Harry Roque\",\"Salman Khan\",\"Kate Brown\",\"Salvador Panelo\",\"Kate Jones\",\"Devendra Fadnavis\",\"Maria Zakharova\",\"James Shaw\",\"Antonio Conte\",\"John Bolton\",\"Brendan Rodgers\",\"Sarah Sanders\",\"Matt Miller\",\"Brad Stevens\",\"Steven Miles\",\"Rohit Sharma\",\"Mark Toner\",\"Doug Ford\",\"Delfin Lorenzana\",\"William Barr\",\"Bill Walker\",\"Mark Stoops\",\"Jason Day\",\"Eddie Hearn\",\"Jeff Miller\",\"Liam Fox\",\"Kevin McCarthy\",\"Tom Herman\",\"Ernesto Abella\",\"Wayne Bennett\",\"Ted Sarandos\",\"Chris Harrison\",\"Tim Smith\",\"Matt Bevin\",\"Howard Schultz\",\"Will Smith\"],\"legendgroup\":\"\",\"marker\":{\"color\":[0,0,0,-1,0,0,0,0,0,0,-1,0,0,0,0,0,-1,0,-1,0,0,0,0,0,-1,0,0,0,0,0,0,0,0,0,0,-1,0,0,-1,0,0,0,0,0,-1,0,0,0,-1,0,-1,0,0,0,0,0,0,0,0,0,0,0,0,0,0,0,0,0,0,0,0,0,0,0,0,-1,0,0,0,0,0,0,0,0,0,0,0,0,0,0,-1,0,-1,0,0,0,0,0,-1,0,1,0,0,0,0,-1,0,-1,0,0,0,0,0,0,0,0,0,0,0,0,0,0,0,0,0,0,0,0,0,0,0,0,0,0,0,0,0,0,0,0,0,0,0,0,0,0,0,0,-1,0,-1,0,0,0,0,-1,0,0,0,-1,-1,0,-1,0,0,0,0,0,0,0,0,0,0,0,0,0,0,0,0,0,0,0,0,0,-1,-1,0,0,0,-1,0,0,0,0,0,0,0,0,0,-1,0,0,0,0,0,0,0,0,0,0,0,0,0,0,0,-1,0,0,0,0,0,0,0,0,0,0,0,0,0,0,0,-1,0,0,0,0,0,0,-1,0,0,0,0,0,0,0,0,0,0,0,0,0,0,0,0,0,0,0,0,0,0,0,0,0,0,-1,0,0,0,0,0,-1,0,0,0,1,0,-1,0,0,0,-1,0,0,0,0,0,0,0,0,0,0,0,0,0,0,0,0,0,0,0,0,0,0,0,0,0,0,0,0,0,0,0,0,0,0,0,0,0,0,0,0,0,0,-1,0,-1,0,0,0,0,0,0,0,0,0,-1,0,0,0,0,0,0,0,0,0,0,0,0,0,0,0,0,0,0,0,0,0,0,0,0,0,0,0,0,0,0,0,0,0,0,0,0,0,0,0,0,0,0,0,0,0,0,0,0,0,0,0,0,0,0,0,0,0,0,0,0,0,0,0,0,0,0,0,0,0,-1,0,0,0,0,0,0,0,0,0,0,0,0,0,0,0,0,0,0,0,0,0,0,0,-1,0,0,0,0,0,1,0,0,-1,0,0,0,0,-1,0,0,0,0,0,0,0,0,-1,0,0,0,0,0,0,0,0,1,0,0,0,0,0,0,0,0,1,-1,-1,0,0,0,0,0,0,0,0,0,1,0,0,0,0,0,0,0,0,0,0,0,0,0,0,0,0,0,0,0,0,0,0,0,0,-1,0,0,0,0,0,0,0,0,0,0,0,0,0,0,0,0,-1,0,0,0,0,0,0,0,0,0,0,0,0,0,0,0,0,0,0,0,0,0,0,0,-1,0,0,0,0,0,0,0,-1,0,0,0,0,0,0,0,0,0,0,0,0,0,0,0,0,0,0,0,0,0,0,0,0,0,0,0,-1,0,0,0,0,-1,0,-1,0,0,0,0,0,0,0,0,0,0,0,0,0,0,0,0,0,0,0,0,0,0,0,0,-1,0,0,0,0,0,0,-1,0,0,0,0,0,0,0,0,0,0,0,0,0,1,0,0,0,0,0,0,0,0,0,0,0,0,0,0,0,0,0,-1,0,0,0,0,0,0,0,0,0,0,0,-1,0,-1,0,0,0,0,0,0,0,-1,0,0,0,-1,0,0,-1,0,0,0,0,0,0,0,0,0,0,0,0,0,0,0,-1,0,0,0,0,0,0,0,0,0,0,-1,0,0,0,0,0,-1,0,0,0,0,0,-1,0,0,0,0,0,0,0,0,0,0,0,0,0,0,0,0,0,0,0,0,0,0,0,0,0,0,-1,-1,0,0,0,0,0,-1,0,0,0,0,0,0,0,0,0,0,0,0,0,0,0,0,0,0,0,0,0,0,0,0,0,0,0,0,0,0,0,0,0,0,0,0,0,0,0,0,0,0,0,0,0,0,0,0,0,0,0,0,0,-1,0,0,0,0,0,0,0,0,0,0,-1,0,0,0,0,0,0,-1,0,0,0,0,0,0,0,0,0,0,0,0,0,0,0,-1,0,0,0,0,0,0,0,-1,-1,0,0,0,0,0,0,0,-1,0,0,0,0,0,0,0,0,0,-1,0,0,0,0,0,0,0,-1,0,0,0,0,0,0,0,0,0,0,0,0,0,0,0,0,0,0,0,-1,0,0,0,0,0,0,0,0,0,0,0,0,0,0,0,0,0,0,0,0,-1,0,0,0,0,0,0,0,0,0,0,0,0,0,0,0,0,-1,0,0,0,0,0,0,0,0,0,0,0,-1,0,0,0,0,0,0,0,0,0,0,1,0,0,0,0,0,0,0,0,0,-1,0,0,0,0,0,0,0,0,0,0,0,0,0,0,-1,0,0,0,0,0,0,0,0,0,0,0,0],\"coloraxis\":\"coloraxis\",\"symbol\":\"circle\"},\"mode\":\"markers\",\"name\":\"\",\"orientation\":\"v\",\"showlegend\":false,\"x\":[-22.507673263549805,-23.480051040649414,-6.951814651489258,-18.97737693786621,-11.28094482421875,9.611455917358398,12.77391242980957,10.817431449890137,-1.1299080848693848,-25.88524055480957,16.985502243041992,14.287016868591309,-17.78420066833496,2.9377782344818115,-14.404520988464355,-18.013381958007812,29.239500045776367,-12.968377113342285,25.122716903686523,-4.782883167266846,-12.35661792755127,-17.698963165283203,-2.7854807376861572,-10.309947967529297,28.79899787902832,-15.527714729309082,-13.600113868713379,9.524870872497559,-10.918207168579102,-23.432842254638672,0.10439427196979523,18.367746353149414,13.344229698181152,-6.468196392059326,15.079899787902832,-23.21860694885254,16.886661529541016,-18.19855308532715,-24.26694679260254,-7.71524715423584,-3.6522727012634277,-21.317691802978516,-20.43658447265625,-8.045836448669434,24.298721313476562,-4.464111804962158,-15.552979469299316,-11.749424934387207,-23.98910903930664,-4.739065170288086,17.907350540161133,-17.308122634887695,-19.87067413330078,10.453019142150879,10.437979698181152,-12.405792236328125,-12.026243209838867,-2.3280835151672363,-20.3914794921875,-21.4854793548584,-2.8946235179901123,20.015302658081055,-12.187999725341797,-23.464345932006836,0.5606867671012878,-12.018056869506836,-13.40519905090332,-9.036198616027832,-11.801661491394043,15.38192367553711,-0.31881409883499146,12.569653511047363,-10.03625774383545,-16.927671432495117,-15.64923095703125,28.940509796142578,-4.322168827056885,-19.713336944580078,-0.6082844734191895,-2.3952298164367676,-3.6571013927459717,-10.564659118652344,-4.603263854980469,4.678452491760254,-17.926183700561523,-15.735068321228027,-18.281492233276367,7.567882537841797,1.4046343564987183,-18.556676864624023,26.2578067779541,9.43927001953125,1.0120652914047241,-11.538145065307617,-20.973312377929688,-17.63628387451172,-18.30235481262207,-23.205888748168945,13.69825267791748,-9.319302558898926,27.61335563659668,-9.109333038330078,-14.417773246765137,-0.5376701951026917,5.876963138580322,-18.623332977294922,13.48863697052002,18.321863174438477,5.950100421905518,-3.6867668628692627,21.512062072753906,-14.139301300048828,13.014435768127441,20.046537399291992,-14.47123908996582,11.71957778930664,-15.674015045166016,6.823363304138184,17.47835922241211,6.058078765869141,-12.327519416809082,-0.9863870143890381,-10.831351280212402,-22.307849884033203,-16.792552947998047,-10.671391487121582,-10.481243133544922,10.289371490478516,-6.584929466247559,-19.16900062561035,16.405574798583984,-18.857568740844727,-22.16166877746582,19.1708984375,-17.114099502563477,5.964344501495361,-16.018156051635742,-8.049400329589844,2.0957741737365723,-17.99412727355957,-17.955440521240234,-14.51923942565918,9.20388412475586,9.676076889038086,-1.5254981517791748,20.031978607177734,-3.008975028991699,-3.007601022720337,27.345720291137695,-0.47263720631599426,21.031370162963867,3.0422656536102295,7.629734039306641,3.491109848022461,0.9927036762237549,-23.761436462402344,-2.9204039573669434,16.461435317993164,10.533452987670898,14.792051315307617,21.270671844482422,4.668856143951416,10.345501899719238,4.319490432739258,-18.456436157226562,12.895459175109863,-24.12911033630371,14.158066749572754,-20.202043533325195,-6.2275614738464355,5.11580753326416,9.938068389892578,-6.903059005737305,-15.558282852172852,15.062908172607422,7.362000942230225,8.70046329498291,-20.689035415649414,0.5409172177314758,0.5126771926879883,-13.54055404663086,18.718482971191406,-20.133777618408203,-23.074729919433594,26.47888946533203,19.819440841674805,8.78552532196045,-9.285390853881836,-9.756936073303223,27.825435638427734,10.466276168823242,-21.108814239501953,-18.595157623291016,-17.885297775268555,9.864875793457031,4.06523323059082,-26.636192321777344,-12.564866065979004,-10.958353996276855,29.220773696899414,-3.103344440460205,-20.160751342773438,12.85855770111084,-13.462149620056152,-21.876855850219727,-13.204524993896484,-19.484704971313477,-25.674510955810547,3.003397226333618,-13.105094909667969,-19.5438175201416,3.83620285987854,13.429498672485352,0.1457768827676773,-7.533072471618652,14.553589820861816,10.804947853088379,14.573949813842773,16.615602493286133,5.071636199951172,5.790956020355225,-0.9546008706092834,-3.337038278579712,1.5070228576660156,-14.581478118896484,2.3672637939453125,12.416762351989746,-18.861547470092773,-5.151666641235352,-4.52586030960083,-13.223718643188477,15.923908233642578,-13.488404273986816,-23.770963668823242,-15.505725860595703,9.678709983825684,14.0294828414917,4.519850254058838,7.947793960571289,1.3957725763320923,-23.73787498474121,-20.913755416870117,-23.122819900512695,1.2204574346542358,3.1664841175079346,-11.568615913391113,11.44870376586914,-2.5709941387176514,-15.266179084777832,-21.771953582763672,3.4411375522613525,-21.57387351989746,15.747835159301758,12.020014762878418,14.240283012390137,5.720978736877441,-3.2399203777313232,-3.2299749851226807,6.860907077789307,-13.029784202575684,-11.353243827819824,-4.504216194152832,-8.810592651367188,-2.8277416229248047,-10.718414306640625,-26.630712509155273,7.883398056030273,1.2437208890914917,-9.397445678710938,-10.16715145111084,3.167001485824585,27.6242618560791,-17.154495239257812,-12.659197807312012,-18.77403450012207,28.383474349975586,12.737876892089844,23.745309829711914,6.05756139755249,-15.533082008361816,9.051204681396484,4.12972354888916,15.652145385742188,-8.44279956817627,-14.322689056396484,-18.32809829711914,-18.837507247924805,4.173587322235107,-0.6585453152656555,10.473925590515137,-5.097474575042725,-22.402463912963867,-14.734480857849121,-16.936677932739258,-8.369187355041504,-1.1058398485183716,13.380678176879883,-0.06261910498142242,-18.014360427856445,12.012662887573242,-13.341639518737793,-17.468236923217773,5.001245975494385,-17.56843376159668,-0.5063413977622986,-14.42978286743164,-11.109363555908203,0.5716098546981812,-12.036581039428711,-3.9627716541290283,0.9395338296890259,-23.803070068359375,13.773157119750977,-18.038347244262695,-2.746500015258789,-15.335099220275879,-0.9452139139175415,-24.107187271118164,20.34978485107422,13.154945373535156,-5.065568923950195,12.435626983642578,-20.348831176757812,-0.634560763835907,19.6099796295166,13.283127784729004,17.53129768371582,-11.898909568786621,-21.747535705566406,-0.7152878046035767,-2.063020706176758,-8.0663480758667,5.050930500030518,11.419532775878906,-11.309334754943848,-4.709001541137695,21.28291130065918,-0.6784193515777588,9.732673645019531,18.08139991760254,-16.464210510253906,11.559447288513184,2.549788236618042,8.468236923217773,-5.725348472595215,19.308046340942383,3.428140640258789,-15.165295600891113,11.40916919708252,0.11956106126308441,4.813542366027832,18.41645050048828,18.191791534423828,22.840917587280273,12.089118957519531,-16.787986755371094,15.203843116760254,-17.960281372070312,11.75083065032959,7.441991329193115,19.32776641845703,-2.341191053390503,-17.040111541748047,4.975430965423584,15.892061233520508,15.284687042236328,13.881275177001953,0.15393969416618347,13.917196273803711,19.559255599975586,-2.173673629760742,5.180738925933838,-5.562366008758545,20.597665786743164,12.023987770080566,17.053752899169922,0.5666069984436035,2.1854679584503174,7.453711986541748,-20.606901168823242,-22.336305618286133,-12.348639488220215,-7.487985134124756,-24.024211883544922,-18.84699821472168,-8.046079635620117,15.394949913024902,-6.518673419952393,21.827072143554688,-16.663766860961914,-2.5736751556396484,-8.059733390808105,21.811325073242188,-16.35688591003418,1.7560676336288452,-21.57712173461914,9.199455261230469,-14.001411437988281,3.0764589309692383,-10.799833297729492,8.685139656066895,20.52852439880371,16.474103927612305,14.299898147583008,4.289104461669922,-11.113789558410645,28.608341217041016,-5.862344741821289,-25.972728729248047,0.1876785010099411,-12.983888626098633,1.0537673234939575,-6.573680877685547,-18.786880493164062,9.662847518920898,-21.50511360168457,3.5881025791168213,6.468784332275391,5.149877071380615,10.527274131774902,18.62895965576172,-12.597831726074219,6.735018253326416,6.6829423904418945,-14.952810287475586,6.496821880340576,5.444993495941162,-16.49877166748047,-19.10955047607422,10.842238426208496,19.379249572753906,-19.216699600219727,-6.609197616577148,-14.241734504699707,1.447084903717041,9.322402000427246,27.64822769165039,-3.019564628601074,-1.3913884162902832,13.31820011138916,8.204432487487793,12.666536331176758,-24.084917068481445,-16.64016342163086,-26.838926315307617,-10.914466857910156,-6.054482460021973,10.372318267822266,-2.369173765182495,-16.96868324279785,4.607917308807373,7.697120666503906,-16.892515182495117,25.935535430908203,6.693195343017578,-18.48302459716797,1.8563997745513916,-8.052715301513672,-4.238927841186523,9.740909576416016,-9.692587852478027,11.80176067352295,28.62434959411621,0.9362418055534363,4.894413948059082,9.33372688293457,22.170940399169922,9.935051918029785,4.385493755340576,3.008913278579712,4.51270866394043,26.13683319091797,27.622827529907227,23.696231842041016,-13.444695472717285,-24.567665100097656,-4.96044397354126,-18.349258422851562,-4.452675819396973,-9.49734878540039,-18.93943977355957,-24.01161766052246,21.879928588867188,27.859806060791016,3.730457067489624,-16.880348205566406,5.040350914001465,16.05849838256836,-8.182682037353516,-6.668671607971191,8.040691375732422,16.195749282836914,13.279817581176758,16.924707412719727,-7.890599250793457,12.525111198425293,11.327263832092285,-5.352137088775635,-6.604573726654053,-19.471145629882812,12.811685562133789,18.309125900268555,-17.20728302001953,3.033604621887207,11.245162010192871,-22.014041900634766,-21.41130256652832,-14.823726654052734,-19.40564727783203,2.5098631381988525,0.6325271129608154,-0.8366198539733887,-1.5974230766296387,14.956277847290039,13.335665702819824,-14.859091758728027,10.894821166992188,5.48226261138916,-3.3955373764038086,3.990224838256836,4.009554386138916,-10.062043190002441,-10.283929824829102,7.830149173736572,10.985738754272461,23.869964599609375,9.713157653808594,2.3374600410461426,-0.046518854796886444,23.352685928344727,-13.874975204467773,-8.456476211547852,8.781536102294922,2.078758716583252,-17.50918960571289,12.256528854370117,-7.982899188995361,0.754342257976532,7.259307861328125,-7.516584396362305,7.679218769073486,10.92573070526123,-12.419629096984863,12.831812858581543,-17.26641082763672,-17.54768943786621,-11.225984573364258,14.492274284362793,5.79637336730957,29.891889572143555,-4.196020603179932,-26.91291046142578,8.796618461608887,9.428191184997559,-10.416357040405273,-9.492103576660156,-6.038249969482422,19.470638275146484,7.548867702484131,2.2608072757720947,-7.989762306213379,-9.36090087890625,5.621729373931885,-22.57067108154297,-3.1231324672698975,-3.124650239944458,10.000349044799805,-13.10647964477539,-7.9601945877075195,8.247369766235352,-15.620596885681152,-13.320853233337402,-11.204689025878906,6.052440643310547,1.8097596168518066,3.273921012878418,10.0687837600708,-12.354573249816895,-7.222491264343262,3.84240460395813,5.0835771560668945,-1.2201417684555054,-7.633419990539551,2.8797035217285156,-16.45480728149414,19.19915199279785,13.587884902954102,1.4825576543807983,-18.735958099365234,15.826501846313477,21.189008712768555,7.276920795440674,18.218215942382812,3.3195083141326904,-3.5237085819244385,9.107669830322266,19.695520401000977,14.747714042663574,-19.759647369384766,5.299342155456543,-5.207646369934082,-15.72701358795166,-1.4367107152938843,18.198862075805664,-1.2108650207519531,-14.475722312927246,14.750247955322266,-7.254130840301514,-13.535591125488281,5.230353355407715,-21.46639633178711,9.843039512634277,0.9412938952445984,8.498753547668457,1.658578872680664,11.08327579498291,-0.3605917692184448,15.967254638671875,-0.925548791885376,13.80628776550293,-9.238049507141113,3.15677809715271,17.860057830810547,-9.448708534240723,17.869251251220703,-11.527172088623047,-1.3898398876190186,17.13685417175293,0.9934088587760925,18.361618041992188,-11.233423233032227,1.7065072059631348,1.238104224205017,6.175985336303711,-8.644112586975098,0.2407934069633484,-2.5481598377227783,0.7949933409690857,27.37057876586914,1.031614065170288,14.157448768615723,-10.174388885498047,7.645411014556885,-12.385321617126465,4.200573921203613,11.695344924926758,-13.32124137878418,12.265484809875488,13.263917922973633,-21.392410278320312,-8.525745391845703,15.7775297164917,-0.5825272798538208,-10.659246444702148,12.631698608398438,-2.671142101287842,17.014209747314453,3.8476927280426025,-2.292999267578125,9.94189453125,12.409327507019043,-14.727984428405762,2.397402048110962,-10.396074295043945,9.367314338684082,20.99360466003418,10.071247100830078,-7.440059185028076,25.647722244262695,-2.964583158493042,16.167261123657227,-18.019371032714844,-12.303544998168945,5.561980247497559,-3.443384885787964,-8.871621131896973,-3.2927498817443848,11.601339340209961,-25.848173141479492,-24.06294059753418,8.871089935302734,6.709024429321289,-16.94663429260254,17.1927433013916,6.571421146392822,0.8119537234306335,-8.289217948913574,11.49517822265625,-9.693608283996582,-9.070762634277344,0.391157865524292,-6.814920902252197,7.11248254776001,18.351058959960938,-0.6303408741950989,0.9367520809173584,10.219850540161133,9.402226448059082,-17.053470611572266,17.27213478088379,13.57937240600586,17.652544021606445,3.7737948894500732,-5.772555351257324,3.0682544708251953,-21.34244728088379,6.490757942199707,7.516164779663086,-14.221291542053223,12.08106517791748,2.889570951461792,8.0364408493042,18.358745574951172,7.275145530700684,0.403351753950119,-8.978946685791016,11.024508476257324,-0.0985204353928566,17.558441162109375,3.612295150756836,6.6503400802612305,15.955764770507812,-23.47283363342285,8.850813865661621,20.793399810791016,-26.599369049072266,-10.831594467163086,-11.450865745544434,11.390042304992676,2.9951958656311035,-9.034374237060547,10.822074890136719,17.82072639465332,-13.180049896240234,2.6427206993103027,5.126077651977539,-15.535407066345215,6.76521110534668,-3.179600477218628,-9.661970138549805,13.594426155090332,6.832726955413818,-26.161725997924805,5.955130577087402,-2.110401153564453,-16.43706703186035,-22.671566009521484,10.671066284179688,0.26761698722839355,2.878721237182617,7.774650573730469,26.739351272583008,-4.64077615737915,11.714261054992676,-4.215588092803955,2.709153652191162,-13.755464553833008,3.0281546115875244,22.503259658813477,4.281216621398926,8.27766227722168,12.925289154052734,-25.681751251220703,8.842100143432617,8.394960403442383,18.06696128845215,-24.87664794921875,2.253007411956787,13.949617385864258,11.067246437072754,-9.846846580505371,-17.367631912231445,14.823600769042969,10.654053688049316,1.016340732574463,6.857478141784668,8.443964004516602,-1.5598458051681519,4.088937282562256,-12.15077018737793,-16.81936264038086,-9.271159172058105,-25.736732482910156,-15.3515625,-6.680059432983398,-17.786693572998047,10.463346481323242,2.5145926475524902,9.597330093383789,3.022284984588623,12.61263656616211,6.174625396728516,9.244949340820312,-6.054894924163818,-20.334077835083008,-24.197092056274414,-2.8865017890930176,-22.249210357666016,8.197517395019531,16.579526901245117,-2.990077495574951,-5.264216423034668,17.72774887084961,16.88051986694336,-7.866483688354492,-0.5190313458442688,-23.30275535583496,13.201902389526367,11.747065544128418,-6.429070949554443,-9.204416275024414,5.867604732513428,29.029924392700195,2.067725658416748,-18.53912925720215,-13.43032169342041,11.108226776123047,9.583202362060547,-4.4235992431640625,4.9318156242370605,14.946883201599121,-2.374818801879883,3.215959072113037,18.377635955810547,17.969587326049805,14.973158836364746,-13.110224723815918,15.628640174865723,7.60515832901001,18.57942771911621,15.72142505645752,1.7138233184814453,22.848278045654297,6.640175819396973,10.886042594909668,17.52278709411621,-0.5168224573135376,-1.254713535308838,14.074470520019531,20.30611801147461,3.048748254776001,-19.599994659423828,-0.9708970785140991,-10.500207901000977,-15.660840034484863,16.483455657958984,21.494516372680664,14.289477348327637,-12.903668403625488,5.610715389251709,-12.983806610107422,-1.6773645877838135,-13.245536804199219,18.529006958007812,24.161588668823242,-6.085464954376221,13.776094436645508,17.77641487121582,-5.130348205566406,15.762906074523926,-8.539360046386719,13.60407543182373,13.9734468460083,29.46155548095703,-12.40599250793457,-22.901575088500977,-5.093100547790527,8.771037101745605,13.179986953735352,16.237333297729492,0.9757322072982788,2.204913854598999,-6.915524482727051,20.487743377685547,-18.879140853881836,6.0202131271362305,-9.737724304199219,-0.8197275996208191,-2.109847068786621,14.326428413391113,4.498023509979248,-9.14224624633789,-7.2180094718933105,14.385868072509766,0.43846267461776733,-8.084115028381348,-10.199707984924316,6.171093940734863,-8.499310493469238,16.58740234375,3.085035562515259,-10.065218925476074,6.12007999420166,22.818435668945312,-3.225527286529541,-2.931887149810791,3.2740094661712646,-9.805381774902344,10.6372709274292,-7.721864223480225,-20.89156723022461,8.217473983764648,12.612542152404785,10.513838768005371,-5.461637496948242,3.5461957454681396,-10.738311767578125,19.842275619506836,-4.36614465713501,11.587640762329102,0.16275343298912048,3.5285823345184326,-15.332924842834473,-10.980106353759766,-19.414552688598633,-15.042902946472168,13.207382202148438,-15.359938621520996,-19.895458221435547,-10.611839294433594,12.452434539794922,-0.6327691674232483,16.874635696411133,-0.8196737766265869,-2.9695208072662354,17.912118911743164,6.171330451965332,5.56017541885376,9.770354270935059,10.47940444946289,-23.585649490356445,5.1834397315979,3.9110019207000732,-6.703127384185791,8.145686149597168,-20.057634353637695,1.4416028261184692,8.948141098022461,15.818023681640625,-21.03239631652832,-3.4930458068847656,-9.793996810913086,-24.085054397583008,-13.49815845489502,12.916178703308105,11.025811195373535,-17.2270450592041,12.750166893005371,-6.2498908042907715,13.04389762878418,7.618377208709717,-26.37614631652832,5.219985008239746,-22.058773040771484,-23.064950942993164,14.75333023071289,0.9049469232559204,-13.107869148254395,2.8835208415985107,-16.485227584838867,16.978832244873047,2.8392200469970703,27.927127838134766,9.7098388671875,-17.4088134765625,-5.480854034423828,-22.52557945251465,-5.503696918487549,15.553221702575684,6.131429195404053,9.09597396850586,18.220657348632812,27.875253677368164,-11.974143028259277,7.682973384857178,6.193044662475586,-19.896215438842773,6.372081756591797,-12.339056968688965,-14.66660213470459,-14.66805648803711,18.285133361816406,-11.624349594116211,-9.571991920471191,1.5439651012420654,17.367996215820312,-14.594902038574219,-26.352859497070312,11.792901039123535,5.211788654327393,-10.552785873413086,7.112646102905273,7.324067115783691,3.9530575275421143,7.876670837402344,-4.673059463500977,14.720418930053711,-2.4943039417266846,4.29309606552124,-23.87317657470703],\"xaxis\":\"x\",\"y\":[-40.16292953491211,8.683599472045898,24.611881256103516,-33.774532318115234,11.078415870666504,6.945910930633545,-8.19001579284668,38.57679748535156,2.062711238861084,4.238054275512695,-10.559706687927246,50.14202880859375,-42.678958892822266,-50.99637985229492,-27.940189361572266,-11.574112892150879,25.869009017944336,-6.564032554626465,13.463489532470703,35.015079498291016,-43.38749313354492,-32.47732925415039,31.579875946044922,26.494556427001953,27.447378158569336,-30.30906867980957,-42.721920013427734,12.853837013244629,37.8371467590332,-22.644737243652344,-3.854513168334961,40.80401611328125,15.394709587097168,-25.138097763061523,22.461105346679688,-42.82188415527344,18.165538787841797,-9.457222938537598,-43.45449447631836,5.697326183319092,17.31515884399414,-41.64204025268555,-41.44481658935547,42.299583435058594,17.874683380126953,-8.61252498626709,-11.267046928405762,34.5819206237793,-42.4593505859375,18.81292152404785,45.729007720947266,-28.703968048095703,-11.592510223388672,23.33880615234375,21.601036071777344,33.76970672607422,28.923574447631836,-14.150918960571289,8.159518241882324,-22.85699462890625,38.27528762817383,23.209993362426758,-35.7224006652832,-4.715138912200928,-38.13904571533203,27.82443618774414,-4.574223041534424,12.161446571350098,-27.853382110595703,8.908698081970215,28.51365089416504,-22.294849395751953,-39.50418472290039,-12.167590141296387,-43.998870849609375,17.25186538696289,-25.331363677978516,-45.755592346191406,18.084766387939453,-29.83509635925293,-11.315003395080566,28.884685516357422,-9.46124267578125,27.999008178710938,4.448056697845459,-38.971946716308594,-46.698307037353516,-47.27714157104492,18.791200637817383,7.67173433303833,21.357593536376953,-43.03498458862305,44.32155227661133,-17.745634078979492,-46.18962860107422,-42.142852783203125,9.708477020263672,-17.004831314086914,51.68495559692383,41.918846130371094,22.676891326904297,-13.415608406066895,6.3788161277771,30.35918617248535,-50.154354095458984,31.456405639648438,-20.632524490356445,-21.439306259155273,-45.661197662353516,5.897090911865234,29.402969360351562,-7.083115577697754,-26.958580017089844,10.536133766174316,22.443927764892578,44.60952377319336,-28.201887130737305,-19.690303802490234,10.597188949584961,4.811196804046631,9.505929946899414,34.07865905761719,22.856992721557617,-21.7507266998291,-10.911334037780762,-43.37060546875,35.141700744628906,27.366493225097656,0.9905744791030884,-47.10182189941406,-19.396350860595703,-38.1683464050293,-14.248355865478516,25.28583335876465,-13.57583236694336,31.10038948059082,-7.651997089385986,-4.315325736999512,25.872774124145508,-34.44512939453125,-38.76433563232422,-14.855621337890625,23.238094329833984,-9.9303617477417,30.271852493286133,-26.61455726623535,-12.205204010009766,12.725301742553711,16.949769973754883,4.112356185913086,40.21662521362305,-8.868738174438477,30.9903564453125,20.166275024414062,-12.84736156463623,-44.00368881225586,18.318708419799805,33.763736724853516,10.651158332824707,51.947139739990234,21.39228057861328,-33.09828567504883,-40.645999908447266,34.97212600708008,-39.61316680908203,-37.10450744628906,3.737664222717285,-9.528786659240723,0.2201107144355774,22.972166061401367,18.524608612060547,22.28046417236328,42.1580924987793,31.624975204467773,6.066344738006592,-24.85845947265625,7.600410461425781,9.858105659484863,-49.656455993652344,28.6304931640625,30.734718322753906,23.861156463623047,-47.976165771484375,-37.570072174072266,15.30128002166748,-30.192163467407227,-39.550167083740234,22.273719787597656,18.62874412536621,28.11430549621582,27.259231567382812,-36.682369232177734,5.529844284057617,-47.60078811645508,26.09255027770996,24.10755729675293,7.009423732757568,37.1134033203125,2.7178092002868652,24.239423751831055,20.89298439025879,-44.06534957885742,18.773941040039062,-28.80982780456543,6.286550521850586,-4.324093818664551,1.5525755882263184,-29.580354690551758,28.10516929626465,20.032955169677734,5.257549285888672,-20.388071060180664,45.72300720214844,-45.22228240966797,41.63994598388672,53.256351470947266,50.63880157470703,25.50054359436035,-21.148160934448242,2.4620347023010254,20.80670928955078,15.153322219848633,-23.908727645874023,-51.56125259399414,14.710083961486816,16.957042694091797,-38.098167419433594,11.08262825012207,-5.066932201385498,42.06878662109375,3.2215781211853027,51.926971435546875,34.7556266784668,-30.199644088745117,9.82396125793457,18.022558212280273,-24.088274002075195,9.472015380859375,45.43970489501953,-47.8502197265625,1.93137788772583,-0.16774368286132812,5.078210353851318,-34.957393646240234,-46.58309555053711,21.164382934570312,-2.4225869178771973,26.178804397583008,12.249898910522461,-36.446624755859375,-32.1119270324707,4.736460208892822,41.46414566040039,34.319820404052734,17.959115982055664,-14.194784164428711,-10.484124183654785,-26.6719970703125,3.8497262001037598,-39.62013626098633,27.268402099609375,-41.808349609375,-12.141284942626953,41.944976806640625,-18.914409637451172,-24.675827026367188,-40.776798248291016,32.19044494628906,-10.911375045776367,-41.08127212524414,25.275466918945312,17.254390716552734,-45.32164001464844,-7.284903526306152,-45.6838264465332,23.56591796875,-34.712425231933594,29.950403213500977,-39.132659912109375,-16.879613876342773,41.58964538574219,-11.201141357421875,-32.615760803222656,-5.601318359375,28.615703582763672,-17.266956329345703,30.290449142456055,19.019569396972656,40.31565475463867,33.20747756958008,-33.4613037109375,-4.036134719848633,-43.65436935424805,13.23115062713623,-19.878347396850586,-40.6389045715332,-6.540489673614502,-35.697654724121094,-40.292755126953125,-18.408939361572266,-16.580881118774414,-30.122848510742188,-10.367210388183594,11.12437915802002,8.360258102416992,27.944643020629883,32.620155334472656,-49.05757141113281,-21.290725708007812,-36.19981002807617,-26.929340362548828,-37.271846771240234,-34.60977554321289,-15.769160270690918,44.93857955932617,-9.728422164916992,12.155962944030762,-27.5866641998291,6.061991214752197,42.7440071105957,-17.367677688598633,36.42274475097656,-37.78436279296875,-32.543766021728516,49.69435501098633,30.97175407409668,51.249053955078125,38.02665710449219,-18.732234954833984,-37.66651916503906,32.794189453125,36.257991790771484,-35.77175521850586,14.87752628326416,-41.91374969482422,5.633264541625977,1.7398231029510498,19.396005630493164,-30.676164627075195,8.477587699890137,-26.788270950317383,-24.81264305114746,8.778505325317383,-21.377784729003906,37.30597686767578,11.620193481445312,5.788887023925781,-5.870323657989502,21.528583526611328,-40.7952880859375,38.509315490722656,5.316342353820801,32.55002212524414,32.303993225097656,-7.2995100021362305,20.471424102783203,-9.229938507080078,-35.14830780029297,43.65321731567383,28.204940795898438,16.963476181030273,-33.471595764160156,7.749327659606934,-4.966394424438477,50.798763275146484,23.717540740966797,35.34466552734375,40.774658203125,-17.20227813720703,4.9403276443481445,8.837903022766113,5.7444047927856445,-13.90521240234375,30.456920623779297,46.28944778442383,33.72254943847656,5.687297821044922,35.516780853271484,27.927892684936523,-15.661667823791504,-14.05285358428955,-39.75206756591797,-10.286864280700684,-2.3796682357788086,-2.9636242389678955,-6.79470157623291,14.120681762695312,-30.159128189086914,12.239334106445312,16.311023712158203,27.155717849731445,-15.50399112701416,31.094820022583008,-43.88399124145508,10.173628807067871,-38.46475601196289,-24.62874412536621,24.42847442626953,24.415340423583984,-12.514148712158203,-38.495330810546875,8.632810592651367,2.7686827182769775,27.30577278137207,31.115100860595703,28.02721405029297,16.299592971801758,-31.785070419311523,0.3380849361419678,-9.462847709655762,-28.044416427612305,-44.081199645996094,-25.48957633972168,-0.08407285809516907,-14.461581230163574,-18.98573112487793,-34.256065368652344,10.89404010772705,-12.06372356414795,31.169677734375,20.463165283203125,-13.586393356323242,-16.375274658203125,-36.864383697509766,-21.261695861816406,-47.85900115966797,-4.164211273193359,-18.852458953857422,-4.845186233520508,-26.71570587158203,41.49570846557617,-5.9600324630737305,-38.394344329833984,29.55177879333496,40.986446380615234,-27.39944076538086,21.56595802307129,-35.44563293457031,-30.608922958374023,53.338035583496094,50.445770263671875,-24.127925872802734,-35.9910774230957,30.460895538330078,8.76688003540039,12.328655242919922,24.139089584350586,30.67438507080078,15.46016788482666,-39.467342376708984,40.97455978393555,-25.99482536315918,-20.217124938964844,24.424715042114258,-44.96415328979492,20.322797775268555,39.34174346923828,8.301607131958008,7.411552906036377,44.59520721435547,-42.106483459472656,3.540850877761841,21.05724334716797,-34.12860870361328,-47.68705368041992,47.56126403808594,30.401453018188477,37.57815170288086,-6.160289764404297,34.43494415283203,46.12587356567383,20.123687744140625,18.66156768798828,26.828506469726562,7.6437273025512695,10.336231231689453,30.712182998657227,-13.074076652526855,43.285404205322266,-9.695206642150879,-13.424671173095703,-22.548547744750977,10.069578170776367,20.838886260986328,6.97507905960083,9.959290504455566,-20.016035079956055,-32.238548278808594,7.547820091247559,6.000494003295898,-30.882083892822266,40.54785919189453,-22.775402069091797,-29.650625228881836,43.46596145629883,-38.717132568359375,-8.392004013061523,-16.045883178710938,-33.848941802978516,9.105052947998047,50.94561767578125,-29.241209030151367,-21.656803131103516,-34.150787353515625,-27.945528030395508,-39.435333251953125,-15.35834789276123,-4.073298454284668,-49.03700637817383,19.879634857177734,-9.18651008605957,-33.5125617980957,-39.39433670043945,9.993871688842773,-15.527715682983398,-46.39850616455078,5.536096096038818,-38.888221740722656,42.88279342651367,-30.237520217895508,-37.81680679321289,-36.55564498901367,-15.55262279510498,-16.270862579345703,-19.184913635253906,20.723495483398438,31.501567840576172,-30.719589233398438,-39.27064514160156,31.891117095947266,12.963380813598633,-42.29784393310547,-35.47666931152344,-38.30036544799805,-24.444992065429688,-25.508901596069336,-24.084095001220703,-29.071022033691406,14.605806350708008,-20.696744918823242,-31.599462509155273,3.9494218826293945,-15.557289123535156,33.50912094116211,28.24628257751465,-9.868364334106445,-44.55146789550781,48.31147003173828,48.388309478759766,26.652629852294922,23.01290512084961,-21.05545425415039,-31.888425827026367,-8.949654579162598,-11.065617561340332,-35.784034729003906,40.90510559082031,41.84362030029297,23.920761108398438,-45.51194381713867,19.21184539794922,19.11215591430664,-15.639396667480469,8.325789451599121,-38.60321044921875,44.230899810791016,-16.77550506591797,32.15480041503906,-12.734292984008789,19.73625946044922,-25.984777450561523,-43.715091705322266,-36.73542785644531,-49.33729553222656,-6.788849830627441,-45.33567428588867,-45.214054107666016,18.55076026916504,-44.720767974853516,30.132619857788086,24.829999923706055,39.24613571166992,6.348629474639893,30.691492080688477,8.649894714355469,51.018646240234375,33.940025329589844,-46.77980422973633,-48.18379211425781,45.733638763427734,-25.240020751953125,50.21030807495117,50.37594985961914,15.248268127441406,45.689456939697266,-19.458375930786133,29.149776458740234,-17.671724319458008,-20.591093063354492,-24.517148971557617,32.99053955078125,-46.82453536987305,45.20847702026367,17.779796600341797,34.69049835205078,34.20072937011719,-25.419811248779297,-34.31993865966797,-9.404329299926758,-45.025508880615234,-2.4812240600585938,-18.926170349121094,11.065545082092285,-4.984660625457764,-41.295745849609375,49.66454315185547,-38.83473587036133,49.9567756652832,-45.63883590698242,-36.24831771850586,39.288448333740234,3.8767619132995605,7.909505844116211,28.295927047729492,49.35223388671875,-21.547855377197266,6.23954963684082,-26.21453857421875,6.444642066955566,22.904308319091797,24.84575080871582,28.325336456298828,-45.85990524291992,41.84444808959961,-22.95526695251465,-43.094478607177734,6.406192302703857,-4.998259544372559,24.085205078125,-10.192380905151367,-14.596687316894531,6.120718002319336,34.399070739746094,-28.850879669189453,-4.471597194671631,-20.55964469909668,-0.2635360062122345,-35.9863395690918,23.52216148376465,1.6151012182235718,-32.5305061340332,-29.32565689086914,-42.908363342285156,25.3741455078125,-19.5645809173584,-25.419031143188477,16.20281410217285,38.71955108642578,-3.798280715942383,-24.64867401123047,-28.73595428466797,-8.353364944458008,41.55784225463867,21.74380874633789,-20.584657669067383,11.43435001373291,-35.69430923461914,29.885250091552734,18.480512619018555,4.905825138092041,48.19563293457031,13.484773635864258,-19.1260986328125,46.0648307800293,-12.555408477783203,-3.207092761993408,33.57436752319336,32.52742004394531,-30.049062728881836,-30.82950210571289,-34.319061279296875,-15.48810863494873,1.899698257446289,21.929628372192383,-29.245548248291016,38.6126708984375,27.126283645629883,-16.71631622314453,-18.995792388916016,-43.594722747802734,-13.256891250610352,21.684545516967773,-18.341670989990234,-27.755123138427734,32.71438217163086,24.907407760620117,-8.234853744506836,-37.01639175415039,9.257286071777344,31.8974609375,-33.63649368286133,15.773905754089355,8.08857536315918,17.2208251953125,33.2854118347168,11.321651458740234,-19.3634090423584,37.29757308959961,6.685510158538818,42.55806350708008,11.854594230651855,47.30868911743164,45.06233596801758,-24.046356201171875,-31.42726707458496,-35.11893081665039,-21.14946937561035,3.6131300926208496,47.835506439208984,4.220038414001465,-35.70756530761719,-22.48619842529297,7.341365337371826,24.67011070251465,17.436594009399414,4.1357550621032715,19.798933029174805,13.811643600463867,-31.431699752807617,-40.15838623046875,40.167724609375,-23.68173599243164,24.956892013549805,26.191692352294922,-42.81053161621094,47.971435546875,-28.674734115600586,-21.489612579345703,4.474921226501465,-4.732118606567383,47.84773254394531,36.3233757019043,0.8111637830734253,9.620018005371094,43.57138442993164,15.564224243164062,-21.01465606689453,-31.419179916381836,29.521442413330078,-44.55570602416992,-36.235267639160156,29.02266502380371,28.11684799194336,17.616384506225586,-38.78620147705078,23.441673278808594,-20.464412689208984,-24.912822723388672,20.430133819580078,-28.195499420166016,-18.650766372680664,-15.88955020904541,2.1445631980895996,8.860562324523926,12.221888542175293,31.010944366455078,-3.325859785079956,-35.82298278808594,32.866336822509766,9.000957489013672,-8.125856399536133,-41.1955451965332,37.52471923828125,13.890334129333496,30.525409698486328,5.680810928344727,34.2745361328125,3.0315070152282715,11.528916358947754,-7.53272008895874,-27.353239059448242,-2.4788074493408203,-21.213682174682617,-40.4207763671875,4.311391830444336,-17.673248291015625,7.403522968292236,-7.667582988739014,-4.0807719230651855,43.35647201538086,5.072265625,37.245941162109375,9.836106300354004,16.425172805786133,10.518356323242188,8.882247924804688,2.4952359199523926,7.845104217529297,-39.563053131103516,9.428238868713379,35.38999557495117,-10.733763694763184,26.335792541503906,41.307735443115234,34.344974517822266,-1.3219349384307861,-24.046768188476562,3.2588448524475098,-2.945826292037964,-7.661937236785889,-44.58340072631836,-9.129867553710938,22.45741081237793,-51.21446228027344,-16.326614379882812,-26.266521453857422,41.373680114746094,-33.2435417175293,36.574134826660156,6.928153038024902,-7.766757011413574,-2.412092685699463,15.301021575927734,52.46467208862305,-28.499414443969727,-20.747102737426758,36.5217399597168,25.72238540649414,-44.715965270996094,18.429962158203125,53.30720520019531,42.73127365112305,12.910597801208496,8.07403564453125,47.93416976928711,23.8502140045166,-47.37764358520508,-36.26369857788086,-7.445955753326416,7.170626163482666,-32.57280349731445,11.734512329101562,-2.843417167663574,-16.157011032104492,13.7815580368042,-28.718008041381836,1.4342519044876099,-8.596909523010254,-11.636778831481934,17.584136962890625,12.9586181640625,-25.49935531616211,-17.233882904052734,3.8678975105285645,16.224802017211914,44.81710433959961,22.478553771972656,27.653207778930664,3.698112726211548,-20.637414932250977,24.07986068725586,40.74222183227539,30.796977996826172,18.763935089111328,-15.012813568115234,-5.543393611907959,7.337528228759766,21.42012596130371,-5.28336763381958,-30.59548568725586,-31.321975708007812,-39.76563262939453,26.95673179626465,2.7200634479522705,-2.416969060897827,-30.579343795776367,8.456613540649414,25.13664436340332,-42.55471420288086,-11.821362495422363,-24.588483810424805,30.2857723236084,-13.327930450439453,42.74361038208008,26.45014190673828,-40.81189727783203,2.795520067214966,-23.20494270324707,21.681257247924805,22.681318283081055,29.494600296020508,33.82068634033203,-39.88954544067383,12.229085922241211,16.571680068969727,-31.808420181274414,-8.159902572631836,-38.91384506225586,42.503665924072266,-37.92855453491211,2.5475339889526367,43.746700286865234,48.191307067871094,29.260059356689453,18.570453643798828,22.28009796142578,6.46880578994751,-28.07806968688965,32.201019287109375,48.88663101196289,12.548224449157715,40.63207244873047,-41.984683990478516,-38.630462646484375,-22.22464370727539,-46.04800796508789,49.397308349609375,14.941086769104004,-1.4003597497940063,-42.80276107788086,41.12867736816406,42.25802230834961,43.16327667236328,7.177527904510498,-40.98025894165039,28.223859786987305,-36.45107650756836,3.312844753265381,3.8446455001831055,16.58696937561035,-21.154254913330078,-46.12618637084961,-21.57229995727539,-43.352664947509766,21.261194229125977,-38.9011116027832,33.28988265991211,46.45463562011719,26.81244468688965,-46.799560546875,-26.136905670166016,-5.991640567779541,-28.200071334838867,0.5513277649879456,17.957561492919922,-22.652759552001953,-16.411590576171875,46.64494705200195,34.63527297973633,38.76486587524414,49.45036315917969,-25.523910522460938,-26.209583282470703,2.409611701965332,-35.173118591308594,36.6513557434082,-29.574846267700195,-11.76738166809082,-47.44734191894531,-7.5174384117126465,32.505455017089844,32.140071868896484,23.445005416870117,-22.414236068725586,30.139501571655273,-27.166444778442383,-2.924314022064209,31.35824966430664,30.292627334594727,25.878507614135742,50.15742874145508,11.598727226257324,26.039033889770508,30.895872116088867,-43.970367431640625,46.4792594909668,4.618602752685547,-41.23367691040039,4.209147930145264,-29.390727996826172,8.68287467956543,-23.791780471801758,-34.33540344238281,25.07714080810547,21.7537899017334,-31.810165405273438,-27.1265926361084,-23.196659088134766,14.224737167358398,39.809593200683594,17.604951858520508,-46.639305114746094,46.61466598510742,-18.86444664001465,16.412111282348633,-13.217449188232422,2.690225124359131,24.978805541992188,5.736111164093018,-3.166438102722168],\"yaxis\":\"y\",\"type\":\"scatter\"}],                        {\"template\":{\"data\":{\"bar\":[{\"error_x\":{\"color\":\"#2a3f5f\"},\"error_y\":{\"color\":\"#2a3f5f\"},\"marker\":{\"line\":{\"color\":\"#E5ECF6\",\"width\":0.5},\"pattern\":{\"fillmode\":\"overlay\",\"size\":10,\"solidity\":0.2}},\"type\":\"bar\"}],\"barpolar\":[{\"marker\":{\"line\":{\"color\":\"#E5ECF6\",\"width\":0.5},\"pattern\":{\"fillmode\":\"overlay\",\"size\":10,\"solidity\":0.2}},\"type\":\"barpolar\"}],\"carpet\":[{\"aaxis\":{\"endlinecolor\":\"#2a3f5f\",\"gridcolor\":\"white\",\"linecolor\":\"white\",\"minorgridcolor\":\"white\",\"startlinecolor\":\"#2a3f5f\"},\"baxis\":{\"endlinecolor\":\"#2a3f5f\",\"gridcolor\":\"white\",\"linecolor\":\"white\",\"minorgridcolor\":\"white\",\"startlinecolor\":\"#2a3f5f\"},\"type\":\"carpet\"}],\"choropleth\":[{\"colorbar\":{\"outlinewidth\":0,\"ticks\":\"\"},\"type\":\"choropleth\"}],\"contour\":[{\"colorbar\":{\"outlinewidth\":0,\"ticks\":\"\"},\"colorscale\":[[0.0,\"#0d0887\"],[0.1111111111111111,\"#46039f\"],[0.2222222222222222,\"#7201a8\"],[0.3333333333333333,\"#9c179e\"],[0.4444444444444444,\"#bd3786\"],[0.5555555555555556,\"#d8576b\"],[0.6666666666666666,\"#ed7953\"],[0.7777777777777778,\"#fb9f3a\"],[0.8888888888888888,\"#fdca26\"],[1.0,\"#f0f921\"]],\"type\":\"contour\"}],\"contourcarpet\":[{\"colorbar\":{\"outlinewidth\":0,\"ticks\":\"\"},\"type\":\"contourcarpet\"}],\"heatmap\":[{\"colorbar\":{\"outlinewidth\":0,\"ticks\":\"\"},\"colorscale\":[[0.0,\"#0d0887\"],[0.1111111111111111,\"#46039f\"],[0.2222222222222222,\"#7201a8\"],[0.3333333333333333,\"#9c179e\"],[0.4444444444444444,\"#bd3786\"],[0.5555555555555556,\"#d8576b\"],[0.6666666666666666,\"#ed7953\"],[0.7777777777777778,\"#fb9f3a\"],[0.8888888888888888,\"#fdca26\"],[1.0,\"#f0f921\"]],\"type\":\"heatmap\"}],\"heatmapgl\":[{\"colorbar\":{\"outlinewidth\":0,\"ticks\":\"\"},\"colorscale\":[[0.0,\"#0d0887\"],[0.1111111111111111,\"#46039f\"],[0.2222222222222222,\"#7201a8\"],[0.3333333333333333,\"#9c179e\"],[0.4444444444444444,\"#bd3786\"],[0.5555555555555556,\"#d8576b\"],[0.6666666666666666,\"#ed7953\"],[0.7777777777777778,\"#fb9f3a\"],[0.8888888888888888,\"#fdca26\"],[1.0,\"#f0f921\"]],\"type\":\"heatmapgl\"}],\"histogram\":[{\"marker\":{\"pattern\":{\"fillmode\":\"overlay\",\"size\":10,\"solidity\":0.2}},\"type\":\"histogram\"}],\"histogram2d\":[{\"colorbar\":{\"outlinewidth\":0,\"ticks\":\"\"},\"colorscale\":[[0.0,\"#0d0887\"],[0.1111111111111111,\"#46039f\"],[0.2222222222222222,\"#7201a8\"],[0.3333333333333333,\"#9c179e\"],[0.4444444444444444,\"#bd3786\"],[0.5555555555555556,\"#d8576b\"],[0.6666666666666666,\"#ed7953\"],[0.7777777777777778,\"#fb9f3a\"],[0.8888888888888888,\"#fdca26\"],[1.0,\"#f0f921\"]],\"type\":\"histogram2d\"}],\"histogram2dcontour\":[{\"colorbar\":{\"outlinewidth\":0,\"ticks\":\"\"},\"colorscale\":[[0.0,\"#0d0887\"],[0.1111111111111111,\"#46039f\"],[0.2222222222222222,\"#7201a8\"],[0.3333333333333333,\"#9c179e\"],[0.4444444444444444,\"#bd3786\"],[0.5555555555555556,\"#d8576b\"],[0.6666666666666666,\"#ed7953\"],[0.7777777777777778,\"#fb9f3a\"],[0.8888888888888888,\"#fdca26\"],[1.0,\"#f0f921\"]],\"type\":\"histogram2dcontour\"}],\"mesh3d\":[{\"colorbar\":{\"outlinewidth\":0,\"ticks\":\"\"},\"type\":\"mesh3d\"}],\"parcoords\":[{\"line\":{\"colorbar\":{\"outlinewidth\":0,\"ticks\":\"\"}},\"type\":\"parcoords\"}],\"pie\":[{\"automargin\":true,\"type\":\"pie\"}],\"scatter\":[{\"marker\":{\"colorbar\":{\"outlinewidth\":0,\"ticks\":\"\"}},\"type\":\"scatter\"}],\"scatter3d\":[{\"line\":{\"colorbar\":{\"outlinewidth\":0,\"ticks\":\"\"}},\"marker\":{\"colorbar\":{\"outlinewidth\":0,\"ticks\":\"\"}},\"type\":\"scatter3d\"}],\"scattercarpet\":[{\"marker\":{\"colorbar\":{\"outlinewidth\":0,\"ticks\":\"\"}},\"type\":\"scattercarpet\"}],\"scattergeo\":[{\"marker\":{\"colorbar\":{\"outlinewidth\":0,\"ticks\":\"\"}},\"type\":\"scattergeo\"}],\"scattergl\":[{\"marker\":{\"colorbar\":{\"outlinewidth\":0,\"ticks\":\"\"}},\"type\":\"scattergl\"}],\"scattermapbox\":[{\"marker\":{\"colorbar\":{\"outlinewidth\":0,\"ticks\":\"\"}},\"type\":\"scattermapbox\"}],\"scatterpolar\":[{\"marker\":{\"colorbar\":{\"outlinewidth\":0,\"ticks\":\"\"}},\"type\":\"scatterpolar\"}],\"scatterpolargl\":[{\"marker\":{\"colorbar\":{\"outlinewidth\":0,\"ticks\":\"\"}},\"type\":\"scatterpolargl\"}],\"scatterternary\":[{\"marker\":{\"colorbar\":{\"outlinewidth\":0,\"ticks\":\"\"}},\"type\":\"scatterternary\"}],\"surface\":[{\"colorbar\":{\"outlinewidth\":0,\"ticks\":\"\"},\"colorscale\":[[0.0,\"#0d0887\"],[0.1111111111111111,\"#46039f\"],[0.2222222222222222,\"#7201a8\"],[0.3333333333333333,\"#9c179e\"],[0.4444444444444444,\"#bd3786\"],[0.5555555555555556,\"#d8576b\"],[0.6666666666666666,\"#ed7953\"],[0.7777777777777778,\"#fb9f3a\"],[0.8888888888888888,\"#fdca26\"],[1.0,\"#f0f921\"]],\"type\":\"surface\"}],\"table\":[{\"cells\":{\"fill\":{\"color\":\"#EBF0F8\"},\"line\":{\"color\":\"white\"}},\"header\":{\"fill\":{\"color\":\"#C8D4E3\"},\"line\":{\"color\":\"white\"}},\"type\":\"table\"}]},\"layout\":{\"annotationdefaults\":{\"arrowcolor\":\"#2a3f5f\",\"arrowhead\":0,\"arrowwidth\":1},\"autotypenumbers\":\"strict\",\"coloraxis\":{\"colorbar\":{\"outlinewidth\":0,\"ticks\":\"\"}},\"colorscale\":{\"diverging\":[[0,\"#8e0152\"],[0.1,\"#c51b7d\"],[0.2,\"#de77ae\"],[0.3,\"#f1b6da\"],[0.4,\"#fde0ef\"],[0.5,\"#f7f7f7\"],[0.6,\"#e6f5d0\"],[0.7,\"#b8e186\"],[0.8,\"#7fbc41\"],[0.9,\"#4d9221\"],[1,\"#276419\"]],\"sequential\":[[0.0,\"#0d0887\"],[0.1111111111111111,\"#46039f\"],[0.2222222222222222,\"#7201a8\"],[0.3333333333333333,\"#9c179e\"],[0.4444444444444444,\"#bd3786\"],[0.5555555555555556,\"#d8576b\"],[0.6666666666666666,\"#ed7953\"],[0.7777777777777778,\"#fb9f3a\"],[0.8888888888888888,\"#fdca26\"],[1.0,\"#f0f921\"]],\"sequentialminus\":[[0.0,\"#0d0887\"],[0.1111111111111111,\"#46039f\"],[0.2222222222222222,\"#7201a8\"],[0.3333333333333333,\"#9c179e\"],[0.4444444444444444,\"#bd3786\"],[0.5555555555555556,\"#d8576b\"],[0.6666666666666666,\"#ed7953\"],[0.7777777777777778,\"#fb9f3a\"],[0.8888888888888888,\"#fdca26\"],[1.0,\"#f0f921\"]]},\"colorway\":[\"#636efa\",\"#EF553B\",\"#00cc96\",\"#ab63fa\",\"#FFA15A\",\"#19d3f3\",\"#FF6692\",\"#B6E880\",\"#FF97FF\",\"#FECB52\"],\"font\":{\"color\":\"#2a3f5f\"},\"geo\":{\"bgcolor\":\"white\",\"lakecolor\":\"white\",\"landcolor\":\"#E5ECF6\",\"showlakes\":true,\"showland\":true,\"subunitcolor\":\"white\"},\"hoverlabel\":{\"align\":\"left\"},\"hovermode\":\"closest\",\"mapbox\":{\"style\":\"light\"},\"paper_bgcolor\":\"white\",\"plot_bgcolor\":\"#E5ECF6\",\"polar\":{\"angularaxis\":{\"gridcolor\":\"white\",\"linecolor\":\"white\",\"ticks\":\"\"},\"bgcolor\":\"#E5ECF6\",\"radialaxis\":{\"gridcolor\":\"white\",\"linecolor\":\"white\",\"ticks\":\"\"}},\"scene\":{\"xaxis\":{\"backgroundcolor\":\"#E5ECF6\",\"gridcolor\":\"white\",\"gridwidth\":2,\"linecolor\":\"white\",\"showbackground\":true,\"ticks\":\"\",\"zerolinecolor\":\"white\"},\"yaxis\":{\"backgroundcolor\":\"#E5ECF6\",\"gridcolor\":\"white\",\"gridwidth\":2,\"linecolor\":\"white\",\"showbackground\":true,\"ticks\":\"\",\"zerolinecolor\":\"white\"},\"zaxis\":{\"backgroundcolor\":\"#E5ECF6\",\"gridcolor\":\"white\",\"gridwidth\":2,\"linecolor\":\"white\",\"showbackground\":true,\"ticks\":\"\",\"zerolinecolor\":\"white\"}},\"shapedefaults\":{\"line\":{\"color\":\"#2a3f5f\"}},\"ternary\":{\"aaxis\":{\"gridcolor\":\"white\",\"linecolor\":\"white\",\"ticks\":\"\"},\"baxis\":{\"gridcolor\":\"white\",\"linecolor\":\"white\",\"ticks\":\"\"},\"bgcolor\":\"#E5ECF6\",\"caxis\":{\"gridcolor\":\"white\",\"linecolor\":\"white\",\"ticks\":\"\"}},\"title\":{\"x\":0.05},\"xaxis\":{\"automargin\":true,\"gridcolor\":\"white\",\"linecolor\":\"white\",\"ticks\":\"\",\"title\":{\"standoff\":15},\"zerolinecolor\":\"white\",\"zerolinewidth\":2},\"yaxis\":{\"automargin\":true,\"gridcolor\":\"white\",\"linecolor\":\"white\",\"ticks\":\"\",\"title\":{\"standoff\":15},\"zerolinecolor\":\"white\",\"zerolinewidth\":2}}},\"xaxis\":{\"anchor\":\"y\",\"domain\":[0.0,1.0],\"title\":{\"text\":\"__cluster__coordinate_x\"}},\"yaxis\":{\"anchor\":\"x\",\"domain\":[0.0,1.0],\"title\":{\"text\":\"__cluster__coordinate_y\"}},\"coloraxis\":{\"colorbar\":{\"title\":{\"text\":\"__cluster__clusterLabel\"}},\"colorscale\":[[0.0,\"#0d0887\"],[0.1111111111111111,\"#46039f\"],[0.2222222222222222,\"#7201a8\"],[0.3333333333333333,\"#9c179e\"],[0.4444444444444444,\"#bd3786\"],[0.5555555555555556,\"#d8576b\"],[0.6666666666666666,\"#ed7953\"],[0.7777777777777778,\"#fb9f3a\"],[0.8888888888888888,\"#fdca26\"],[1.0,\"#f0f921\"]]},\"legend\":{\"tracegroupgap\":0},\"margin\":{\"t\":60},\"height\":800},                        {\"responsive\": true}                    ).then(function(){\n",
       "                            \n",
       "var gd = document.getElementById('fe33ef14-cd44-431a-9c14-7f47727f56a5');\n",
       "var x = new MutationObserver(function (mutations, observer) {{\n",
       "        var display = window.getComputedStyle(gd).display;\n",
       "        if (!display || display === 'none') {{\n",
       "            console.log([gd, 'removed!']);\n",
       "            Plotly.purge(gd);\n",
       "            observer.disconnect();\n",
       "        }}\n",
       "}});\n",
       "\n",
       "// Listen for the removal of the full notebook cells\n",
       "var notebookContainer = gd.closest('#notebook-container');\n",
       "if (notebookContainer) {{\n",
       "    x.observe(notebookContainer, {childList: true});\n",
       "}}\n",
       "\n",
       "// Listen for the clearing of the current output cell\n",
       "var outputEl = gd.closest('.output');\n",
       "if (outputEl) {{\n",
       "    x.observe(outputEl, {childList: true});\n",
       "}}\n",
       "\n",
       "                        })                };                });            </script>        </div>"
      ]
     },
     "metadata": {},
     "output_type": "display_data"
    }
   ],
   "source": [
    "from helpers import clustering_percentage_score\n",
    "\n",
    "scatter_plot_clusters(\n",
    "    df=main_df, \n",
    "    cluster_columns=PERSONALITY_ATTRS, \n",
    "    hover_name='itemLabel',\n",
    "    hover_data=[\n",
    "        'genderLabel', \n",
    "        'citizenshipLabel', \n",
    "        'occupationLabel', \n",
    "        'degreeLabel', \n",
    "        'dateOfBirth'\n",
    "    ]\n",
    ")"
   ]
  },
  {
   "cell_type": "code",
   "execution_count": null,
   "id": "12b9bd80-cb22-4501-bc4a-2bf1cbd65ec4",
   "metadata": {},
   "outputs": [],
   "source": [
    "# main_df = main_df.head(100).copy()"
   ]
  },
  {
   "cell_type": "code",
   "execution_count": null,
   "id": "363228a7-f419-42d5-a705-9e9102954ad0",
   "metadata": {},
   "outputs": [],
   "source": [
    "persattrs = main_df[PERSONALITY_ATTRS]\n",
    "main_df[PERSONALITY_ATTRS] = (persattrs - persattrs.mean()) / persattrs.std()"
   ]
  },
  {
   "cell_type": "code",
   "execution_count": null,
   "id": "ceef6171-6ead-4ce1-ac8d-70208c4edb24",
   "metadata": {},
   "outputs": [],
   "source": [
    "clustering = DBSCAN(eps=2).fit(main_df[PERSONALITY_ATTRS])"
   ]
  },
  {
   "cell_type": "code",
   "execution_count": null,
   "id": "0ef8808d-b5a7-4ca4-a8d8-abbaf832aef9",
   "metadata": {},
   "outputs": [],
   "source": [
    "def percentage_score(arr):\n",
    "    score = 0\n",
    "    for val in np.unique(arr):\n",
    "        tmp = len(arr[arr == val])\n",
    "        if tmp > score:\n",
    "            score = tmp\n",
    "    return main_df.shape[0] - score"
   ]
  },
  {
   "cell_type": "code",
   "execution_count": null,
   "id": "6d5b2479-6cf7-4dcf-9d82-1d875b0ace14",
   "metadata": {
    "tags": []
   },
   "outputs": [],
   "source": [
    "lower_score = 1\n",
    "lower_eps = 1\n",
    "upper_score = 1\n",
    "upper_eps = 13\n",
    "\n",
    "for i in range(20):\n",
    "    mid_eps = (lower_eps + upper_eps) / 2.0\n",
    "    test = DBSCAN(eps=mid_eps).fit(main_df[PERSONALITY_ATTRS])\n",
    "    clusters = np.unique(test.labels_)\n",
    "    mid_score = len(clusters)\n",
    "    mid_score = percentage_score(test.labels_)\n",
    "    mid_score = len(test.labels_[test.labels_ == -1])\n",
    "    mid_score = 1_000_000 - (mid_score - 0.1 * main_df.shape[0]) ** 2\n",
    "    print(f'{\"eps:\":5}{mid_eps:5}\\tnumber of clusters: {mid_score}\\tnumber of clusters: {len(clusters)}')\n",
    "    \n",
    "    mid_plus = mid_eps + (upper_eps - mid_eps) * 0.1\n",
    "    mid_minus = mid_eps - (mid_eps - lower_eps) * 0.1\n",
    "    \n",
    "    mid_plus_test = DBSCAN(eps=mid_plus).fit(main_df[PERSONALITY_ATTRS])\n",
    "    mid_minus_test = DBSCAN(eps=mid_minus).fit(main_df[PERSONALITY_ATTRS])\n",
    "    \n",
    "    mid_plus_score = len(np.unique(mid_plus_test.labels_))\n",
    "    mid_plus_score = percentage_score(mid_plus_test.labels_)\n",
    "    mid_plus_score = len(mid_plus_test.labels_[mid_plus_test.labels_ == -1])\n",
    "    mid_plus_score = 1_000_000 - (mid_plus_score - 0.1 * main_df.shape[0]) ** 2\n",
    "    \n",
    "    mid_minus_score = len(np.unique(mid_minus_test.labels_))\n",
    "    mid_minus_score = percentage_score(mid_minus_test.labels_)\n",
    "    mid_minus_score = len(mid_minus_test.labels_[mid_minus_test.labels_ == -1])\n",
    "    mid_minus_score = 1_000_000 - (mid_minus_score - 0.1 * main_df.shape[0]) ** 2\n",
    "    \n",
    "    print(f'plus: {mid_plus_score}\\tminus: {mid_minus_score}')\n",
    "    \n",
    "    if mid_plus_score > mid_minus_score:\n",
    "        print('plus')\n",
    "        lower_eps = mid_eps\n",
    "        lower_score = mid_score\n",
    "    else:\n",
    "        print('minus')\n",
    "        upper_eps = mid_eps\n",
    "        upper_score = mid_score"
   ]
  },
  {
   "cell_type": "code",
   "execution_count": null,
   "id": "04dac762-8d79-4b27-b902-c569ff95e1eb",
   "metadata": {},
   "outputs": [],
   "source": [
    "# clustering = DBSCAN(eps=1.9375).fit(main_df[PERSONALITY_ATTRS])\n",
    "# clustering = DBSCAN(eps=2.2890625).fit(main_df[PERSONALITY_ATTRS])\n",
    "clustering = DBSCAN(eps=3.1328125).fit(main_df[PERSONALITY_ATTRS])\n",
    "\n",
    "# clustering = DBSCAN(eps=1.48046875).fit(main_df[PERSONALITY_ATTRS])\n",
    "# clustering = DBSCAN(eps=1.421875).fit(main_df[PERSONALITY_ATTRS])"
   ]
  },
  {
   "cell_type": "code",
   "execution_count": null,
   "id": "231b1640-09bd-44a0-bd7a-e696d9312147",
   "metadata": {},
   "outputs": [],
   "source": [
    "clustering.labels_"
   ]
  },
  {
   "cell_type": "code",
   "execution_count": null,
   "id": "2a432dc8-b314-4e85-8d3b-d35a660caf15",
   "metadata": {},
   "outputs": [],
   "source": [
    "coordinates = TSNE().fit_transform(main_df[PERSONALITY_ATTRS])\n",
    "# coordinates = TSNE().fit_transform(clustering.labels_.reshape(-1, 1))"
   ]
  },
  {
   "cell_type": "code",
   "execution_count": null,
   "id": "e1e4bfa8-1399-4bbf-9d18-7f6b41af6edf",
   "metadata": {},
   "outputs": [],
   "source": [
    "main_df['clusterLabel'] = clustering.labels_"
   ]
  },
  {
   "cell_type": "code",
   "execution_count": null,
   "id": "953381b5-8db9-42a8-9785-1c9e6c12bb6d",
   "metadata": {},
   "outputs": [],
   "source": [
    "main_df['coordinate_x'] = coordinates[:, 0]\n",
    "main_df['coordinate_y'] = coordinates[:, 1]"
   ]
  },
  {
   "cell_type": "code",
   "execution_count": null,
   "id": "2cbfe799-71b5-4eb0-b00b-763a601e6ec3",
   "metadata": {},
   "outputs": [],
   "source": [
    "fig = px.scatter(\n",
    "    main_df, \n",
    "    x='coordinate_x', \n",
    "    y='coordinate_y', \n",
    "    hover_name='itemLabel', \n",
    "#     hover_data=['genderLabel', 'citizenshipLabel', 'religionLabel', 'occupationLabel', 'degreeLabel', 'dateOfBirth'], \n",
    "    hover_data=['genderLabel', 'citizenshipLabel', 'occupationLabel', 'degreeLabel', 'dateOfBirth'],\n",
    "    color = 'clusterLabel', \n",
    "    size_max=60\n",
    ")\n",
    "fig.update_layout(\n",
    "     height=800)\n",
    "fig.show()"
   ]
  },
  {
   "cell_type": "markdown",
   "id": "65dfa12a-1245-41f1-b175-83d6a9c5fed8",
   "metadata": {},
   "source": [
    "## Clustering based on word categories"
   ]
  },
  {
   "cell_type": "code",
   "execution_count": null,
   "id": "e00e22d0-3bb4-4d2b-a50f-65cf61acf665",
   "metadata": {},
   "outputs": [],
   "source": [
    "WORD_COLUMNS = list(liwc_df.columns)[2:]"
   ]
  },
  {
   "cell_type": "code",
   "execution_count": null,
   "id": "eb69c4df-741b-4117-b1b6-678811d8a108",
   "metadata": {},
   "outputs": [],
   "source": [
    "print(WORD_COLUMNS)"
   ]
  },
  {
   "cell_type": "code",
   "execution_count": null,
   "id": "bb77e948-8401-4b02-92ed-d58ad9ee0a40",
   "metadata": {},
   "outputs": [],
   "source": [
    "COLUMNS_OF_INTEREST = ['item', 'itemLabel', 'genderLabel', 'citizenshipLabel', 'religionLabel', 'dateOfBirth', 'occupationLabel', 'degreeLabel'] + WORD_COLUMNS"
   ]
  },
  {
   "cell_type": "code",
   "execution_count": null,
   "id": "92d64c23-d71a-407b-b41a-33e19768deaf",
   "metadata": {},
   "outputs": [],
   "source": [
    "main_df = premain_df[COLUMNS_OF_INTEREST].copy()\n",
    "main_df.sample()"
   ]
  },
  {
   "cell_type": "code",
   "execution_count": null,
   "id": "affa6320-246c-415a-8477-ceb69e268a9b",
   "metadata": {
    "tags": []
   },
   "outputs": [],
   "source": [
    "lower_score = 1\n",
    "lower_eps = 1\n",
    "upper_score = 1\n",
    "upper_eps = 13\n",
    "\n",
    "for i in range(20):\n",
    "    mid_eps = (lower_eps + upper_eps) / 2.0\n",
    "    test = DBSCAN(eps=mid_eps).fit(main_df[WORD_COLUMNS])\n",
    "    clusters = np.unique(test.labels_)\n",
    "    mid_score = len(clusters)\n",
    "    mid_score = percentage_score(test.labels_)\n",
    "    print(f'{\"eps:\":5}{mid_eps:5}\\tnumber of clusters: {mid_score}\\tnumber of clusters: {len(clusters)}')\n",
    "    \n",
    "    mid_plus = mid_eps + (upper_eps - mid_eps) * 0.1\n",
    "    mid_minus = mid_eps - (mid_eps - lower_eps) * 0.1\n",
    "    \n",
    "    mid_plus_test = DBSCAN(eps=mid_plus).fit(main_df[WORD_COLUMNS])\n",
    "    mid_minus_test = DBSCAN(eps=mid_minus).fit(main_df[WORD_COLUMNS])\n",
    "    \n",
    "    mid_plus_score = len(np.unique(mid_plus_test.labels_))\n",
    "    mid_plus_score = percentage_score(mid_plus_test.labels_)\n",
    "    mid_minus_score = len(np.unique(mid_minus_test.labels_))\n",
    "    mid_minus_score = percentage_score(mid_minus_test.labels_)\n",
    "    print(f'plus: {mid_plus_score}\\tminus: {mid_minus_score}')\n",
    "    \n",
    "    if mid_plus_score > mid_minus_score:\n",
    "        print('plus')\n",
    "        lower_eps = mid_eps\n",
    "        lower_score = mid_score\n",
    "    else:\n",
    "        print('minus')\n",
    "        upper_eps = mid_eps\n",
    "        upper_score = mid_score"
   ]
  },
  {
   "cell_type": "code",
   "execution_count": null,
   "id": "845ab853-6357-4b64-ab30-d781e0138bcc",
   "metadata": {},
   "outputs": [],
   "source": [
    "clustering = DBSCAN(eps=8.5).fit(main_df[WORD_COLUMNS])\n",
    "# clustering = DBSCAN(eps=9.056640625).fit(main_df[WORD_COLUMNS])"
   ]
  },
  {
   "cell_type": "code",
   "execution_count": null,
   "id": "ad8cecb9-1585-4dae-a15c-052c9e01d3c5",
   "metadata": {},
   "outputs": [],
   "source": [
    "coordinates = TSNE().fit_transform(main_df[WORD_COLUMNS])\n",
    "# coordinates = TSNE().fit_transform(clustering.labels_.reshape(-1, 1))"
   ]
  },
  {
   "cell_type": "code",
   "execution_count": null,
   "id": "74f3d112-a23a-4367-976c-a49f5ab2da45",
   "metadata": {},
   "outputs": [],
   "source": [
    "main_df['clusterLabel'] = clustering.labels_"
   ]
  },
  {
   "cell_type": "code",
   "execution_count": null,
   "id": "2113b479-08f4-4c9c-a6fb-87556d27ed1a",
   "metadata": {},
   "outputs": [],
   "source": [
    "main_df['coordinate_x'] = coordinates[:, 0]\n",
    "main_df['coordinate_y'] = coordinates[:, 1]"
   ]
  },
  {
   "cell_type": "code",
   "execution_count": null,
   "id": "81a0b880-8064-4dbb-8426-9b2500b79dbd",
   "metadata": {},
   "outputs": [],
   "source": [
    "main_df[main_df['genderLabel'] == 'male'].shape"
   ]
  },
  {
   "cell_type": "code",
   "execution_count": null,
   "id": "80008f4c-140c-45fc-9969-8f416dacb46f",
   "metadata": {},
   "outputs": [],
   "source": [
    "main_df[main_df['genderLabel'] == 'female'].shape"
   ]
  },
  {
   "cell_type": "code",
   "execution_count": null,
   "id": "ce20259d-ae95-42f7-a1bd-ff3f279fec28",
   "metadata": {},
   "outputs": [],
   "source": [
    "anders = (main_df['genderLabel'] == 'male') & (main_df['genderLabel'] == 'female')\n",
    "noters = ~anders\n",
    "main_df[noters].shape"
   ]
  },
  {
   "cell_type": "code",
   "execution_count": null,
   "id": "d905f2c7-d727-4c61-ad7b-4c863a23b9ca",
   "metadata": {},
   "outputs": [],
   "source": [
    "from plotly.validators.scatter.marker import SymbolValidator\n",
    "\n",
    "SYMBOL_COLUMN_NAME = 'genderLabel'\n",
    "\n",
    "raw_symbols = SymbolValidator().values\n",
    "unique_list = main_df[SYMBOL_COLUMN_NAME].unique()\n",
    "print(len(unique_list))\n",
    "\n",
    "symbol_map = dict()\n",
    "for index, val in enumerate(unique_list):\n",
    "    symbol_map[val] = raw_symbols[index]\n",
    "    \n",
    "symbol_list = []\n",
    "for index, row in main_df.iterrows():\n",
    "    symbol_list.append(symbol_map[row[SYMBOL_COLUMN_NAME]])"
   ]
  },
  {
   "cell_type": "code",
   "execution_count": null,
   "id": "58b34def-d1f8-4ad1-9c84-7af9c487e133",
   "metadata": {},
   "outputs": [],
   "source": [
    "fig = px.scatter(\n",
    "    main_df, \n",
    "    x='coordinate_x', \n",
    "    y='coordinate_y', \n",
    "    hover_name='itemLabel', \n",
    "    hover_data=['genderLabel', 'citizenshipLabel', 'religionLabel', 'occupationLabel', 'degreeLabel', 'dateOfBirth'], \n",
    "    color = 'clusterLabel',\n",
    "    symbol = symbol_list,\n",
    "    size_max=60\n",
    ")\n",
    "fig.update_layout(\n",
    "     height=800)\n",
    "fig.show()"
   ]
  },
  {
   "cell_type": "code",
   "execution_count": null,
   "id": "d45fea53-887c-4df1-822e-1dac75fc5ae0",
   "metadata": {},
   "outputs": [],
   "source": [
    "import plotly.graph_objects as go\n",
    "\n",
    "def multi_scatter(column_name):\n",
    "    # Build figure\n",
    "    fig = go.Figure()\n",
    "\n",
    "    # Add scatter trace with medium sized markers\n",
    "    fig.add_trace(\n",
    "        go.Scatter(\n",
    "            mode='markers',\n",
    "            x=main_df['coordinate_x'],\n",
    "            y=main_df['coordinate_y'],\n",
    "            marker=dict(\n",
    "                color='LightSkyBlue',\n",
    "                size=120,\n",
    "                line=dict(\n",
    "                    color='MediumPurple',\n",
    "                    width=12\n",
    "                )\n",
    "            ),\n",
    "            showlegend=False\n",
    "        )\n",
    "    )\n",
    "\n",
    "    # Add trace with large marker\n",
    "#     fig.add_trace(\n",
    "#         go.Scatter(\n",
    "#             mode='markers',\n",
    "#             x=[2],\n",
    "#             y=[4.5],\n",
    "#             marker=dict(\n",
    "#                 color='LightSkyBlue',\n",
    "#                 size=120,\n",
    "#                 line=dict(\n",
    "#                     color='MediumPurple',\n",
    "#                     width=12\n",
    "#                 )\n",
    "#             ),\n",
    "#             showlegend=False\n",
    "#         )\n",
    "#     )\n",
    "\n",
    "    fig.show()"
   ]
  },
  {
   "cell_type": "code",
   "execution_count": null,
   "id": "22bb9bab-e088-401a-8758-e4be8b501822",
   "metadata": {},
   "outputs": [],
   "source": [
    "multi_scatter('asd')"
   ]
  },
  {
   "cell_type": "code",
   "execution_count": null,
   "id": "d88dedb0-5e38-40ba-9969-d2ab17914954",
   "metadata": {},
   "outputs": [],
   "source": []
  }
 ],
 "metadata": {
  "kernelspec": {
   "display_name": "Python 3",
   "language": "python",
   "name": "python3"
  },
  "language_info": {
   "codemirror_mode": {
    "name": "ipython",
    "version": 3
   },
   "file_extension": ".py",
   "mimetype": "text/x-python",
   "name": "python",
   "nbconvert_exporter": "python",
   "pygments_lexer": "ipython3",
   "version": "3.8.8"
  }
 },
 "nbformat": 4,
 "nbformat_minor": 5
}
