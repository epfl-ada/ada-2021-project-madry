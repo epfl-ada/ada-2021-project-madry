{
 "cells": [
  {
   "cell_type": "code",
   "execution_count": 1,
   "id": "c976c39c",
   "metadata": {},
   "outputs": [],
   "source": [
    "import bz2\n",
    "import json\n",
    "import pandas as pd\n",
    "import csv\n",
    "from IPython.display import IFrame\n",
    "import helpers"
   ]
  },
  {
   "cell_type": "markdown",
   "id": "a07ffb4a",
   "metadata": {},
   "source": [
    "### Shiny App for Personality Comparison\n",
    "To continue with the analysis we have in milestone 2 for personality, we first use R's shiny app to build up the interactive heatmap of politicians' personality. (app.R) Then, to validate our findings of personality, we use control group data and compare politicians with them."
   ]
  },
  {
   "cell_type": "code",
   "execution_count": 28,
   "id": "501d2537",
   "metadata": {},
   "outputs": [],
   "source": [
    "IFrame(src='https://yirencao.shinyapps.io/polis/', width=1000, height=600)"
   ]
  },
  {
   "cell_type": "markdown",
   "id": "3a00aaa9",
   "metadata": {},
   "source": [
    "![y1](./pics/y1.png)"
   ]
  },
  {
   "cell_type": "markdown",
   "id": "c6e9ea25",
   "metadata": {},
   "source": [
    "read the control group data"
   ]
  },
  {
   "cell_type": "code",
   "execution_count": 2,
   "id": "f5e8aa93",
   "metadata": {},
   "outputs": [],
   "source": [
    "liwc = pd.read_csv('data/top_1000_output_1.csv')"
   ]
  },
  {
   "cell_type": "markdown",
   "id": "468bafe4",
   "metadata": {},
   "source": [
    "predict personality for control group using the same personality analysis protocol."
   ]
  },
  {
   "cell_type": "code",
   "execution_count": 6,
   "id": "179102bb",
   "metadata": {},
   "outputs": [],
   "source": [
    "bigfive = helpers.predict_personality(liwc)"
   ]
  },
  {
   "cell_type": "code",
   "execution_count": 7,
   "id": "0675f2d3",
   "metadata": {},
   "outputs": [
    {
     "data": {
      "text/html": [
       "<div>\n",
       "<style scoped>\n",
       "    .dataframe tbody tr th:only-of-type {\n",
       "        vertical-align: middle;\n",
       "    }\n",
       "\n",
       "    .dataframe tbody tr th {\n",
       "        vertical-align: top;\n",
       "    }\n",
       "\n",
       "    .dataframe thead th {\n",
       "        text-align: right;\n",
       "    }\n",
       "</style>\n",
       "<table border=\"1\" class=\"dataframe\">\n",
       "  <thead>\n",
       "    <tr style=\"text-align: right;\">\n",
       "      <th></th>\n",
       "      <th>neuroticism</th>\n",
       "      <th>anxiety</th>\n",
       "      <th>hostility</th>\n",
       "      <th>depression</th>\n",
       "      <th>self_consciousness</th>\n",
       "      <th>immoderation</th>\n",
       "      <th>vulnerability</th>\n",
       "      <th>extraversion</th>\n",
       "      <th>friendliness</th>\n",
       "      <th>gregariousness</th>\n",
       "      <th>...</th>\n",
       "      <th>cooperation</th>\n",
       "      <th>modesty</th>\n",
       "      <th>sympathy</th>\n",
       "      <th>conscientiousness</th>\n",
       "      <th>self_efficacy</th>\n",
       "      <th>orderliness</th>\n",
       "      <th>dutifulness</th>\n",
       "      <th>achievement_striving</th>\n",
       "      <th>self_discipline</th>\n",
       "      <th>cautiousness</th>\n",
       "    </tr>\n",
       "  </thead>\n",
       "  <tbody>\n",
       "    <tr>\n",
       "      <th>0</th>\n",
       "      <td>2.119763</td>\n",
       "      <td>1.802823</td>\n",
       "      <td>2.733918</td>\n",
       "      <td>0.942375</td>\n",
       "      <td>2.365154</td>\n",
       "      <td>0.738559</td>\n",
       "      <td>1.526363</td>\n",
       "      <td>2.286386</td>\n",
       "      <td>3.441666</td>\n",
       "      <td>5.580572</td>\n",
       "      <td>...</td>\n",
       "      <td>1.927936</td>\n",
       "      <td>1.026299</td>\n",
       "      <td>1.530682</td>\n",
       "      <td>-1.806240</td>\n",
       "      <td>0.677582</td>\n",
       "      <td>1.154828</td>\n",
       "      <td>1.135942</td>\n",
       "      <td>-0.921297</td>\n",
       "      <td>-1.568777</td>\n",
       "      <td>-0.311912</td>\n",
       "    </tr>\n",
       "    <tr>\n",
       "      <th>1</th>\n",
       "      <td>1.131088</td>\n",
       "      <td>0.602676</td>\n",
       "      <td>2.156945</td>\n",
       "      <td>0.384020</td>\n",
       "      <td>1.223918</td>\n",
       "      <td>-0.135824</td>\n",
       "      <td>0.381464</td>\n",
       "      <td>2.693701</td>\n",
       "      <td>4.054645</td>\n",
       "      <td>4.813740</td>\n",
       "      <td>...</td>\n",
       "      <td>2.210313</td>\n",
       "      <td>0.869438</td>\n",
       "      <td>1.625827</td>\n",
       "      <td>-1.709336</td>\n",
       "      <td>1.252931</td>\n",
       "      <td>0.512026</td>\n",
       "      <td>1.084035</td>\n",
       "      <td>-1.008870</td>\n",
       "      <td>-1.646798</td>\n",
       "      <td>0.125827</td>\n",
       "    </tr>\n",
       "    <tr>\n",
       "      <th>2</th>\n",
       "      <td>0.815566</td>\n",
       "      <td>0.009944</td>\n",
       "      <td>1.818338</td>\n",
       "      <td>-0.297256</td>\n",
       "      <td>0.471938</td>\n",
       "      <td>-0.233770</td>\n",
       "      <td>-0.087102</td>\n",
       "      <td>2.156420</td>\n",
       "      <td>4.380725</td>\n",
       "      <td>4.048284</td>\n",
       "      <td>...</td>\n",
       "      <td>3.211014</td>\n",
       "      <td>1.362463</td>\n",
       "      <td>1.847022</td>\n",
       "      <td>-1.063677</td>\n",
       "      <td>1.770150</td>\n",
       "      <td>1.028205</td>\n",
       "      <td>1.519648</td>\n",
       "      <td>-1.010900</td>\n",
       "      <td>-0.814227</td>\n",
       "      <td>0.377761</td>\n",
       "    </tr>\n",
       "    <tr>\n",
       "      <th>3</th>\n",
       "      <td>2.187374</td>\n",
       "      <td>1.981616</td>\n",
       "      <td>2.721748</td>\n",
       "      <td>0.324246</td>\n",
       "      <td>1.343184</td>\n",
       "      <td>0.796601</td>\n",
       "      <td>1.731599</td>\n",
       "      <td>2.880333</td>\n",
       "      <td>3.608810</td>\n",
       "      <td>5.313493</td>\n",
       "      <td>...</td>\n",
       "      <td>2.436282</td>\n",
       "      <td>1.003469</td>\n",
       "      <td>1.770933</td>\n",
       "      <td>-1.417829</td>\n",
       "      <td>1.419979</td>\n",
       "      <td>1.799723</td>\n",
       "      <td>1.044745</td>\n",
       "      <td>-1.120291</td>\n",
       "      <td>-1.037738</td>\n",
       "      <td>-0.434755</td>\n",
       "    </tr>\n",
       "    <tr>\n",
       "      <th>4</th>\n",
       "      <td>1.216094</td>\n",
       "      <td>0.796518</td>\n",
       "      <td>1.607435</td>\n",
       "      <td>0.443012</td>\n",
       "      <td>0.255906</td>\n",
       "      <td>0.239812</td>\n",
       "      <td>0.577035</td>\n",
       "      <td>3.016376</td>\n",
       "      <td>4.724612</td>\n",
       "      <td>5.447529</td>\n",
       "      <td>...</td>\n",
       "      <td>2.838306</td>\n",
       "      <td>1.314918</td>\n",
       "      <td>2.352847</td>\n",
       "      <td>-1.172894</td>\n",
       "      <td>1.813741</td>\n",
       "      <td>0.888376</td>\n",
       "      <td>1.159153</td>\n",
       "      <td>-0.998118</td>\n",
       "      <td>-0.235388</td>\n",
       "      <td>-0.420141</td>\n",
       "    </tr>\n",
       "  </tbody>\n",
       "</table>\n",
       "<p>5 rows × 35 columns</p>\n",
       "</div>"
      ],
      "text/plain": [
       "   neuroticism   anxiety  hostility  depression  self_consciousness  \\\n",
       "0     2.119763  1.802823   2.733918    0.942375            2.365154   \n",
       "1     1.131088  0.602676   2.156945    0.384020            1.223918   \n",
       "2     0.815566  0.009944   1.818338   -0.297256            0.471938   \n",
       "3     2.187374  1.981616   2.721748    0.324246            1.343184   \n",
       "4     1.216094  0.796518   1.607435    0.443012            0.255906   \n",
       "\n",
       "   immoderation  vulnerability  extraversion  friendliness  gregariousness  \\\n",
       "0      0.738559       1.526363      2.286386      3.441666        5.580572   \n",
       "1     -0.135824       0.381464      2.693701      4.054645        4.813740   \n",
       "2     -0.233770      -0.087102      2.156420      4.380725        4.048284   \n",
       "3      0.796601       1.731599      2.880333      3.608810        5.313493   \n",
       "4      0.239812       0.577035      3.016376      4.724612        5.447529   \n",
       "\n",
       "   ...  cooperation   modesty  sympathy  conscientiousness  self_efficacy  \\\n",
       "0  ...     1.927936  1.026299  1.530682          -1.806240       0.677582   \n",
       "1  ...     2.210313  0.869438  1.625827          -1.709336       1.252931   \n",
       "2  ...     3.211014  1.362463  1.847022          -1.063677       1.770150   \n",
       "3  ...     2.436282  1.003469  1.770933          -1.417829       1.419979   \n",
       "4  ...     2.838306  1.314918  2.352847          -1.172894       1.813741   \n",
       "\n",
       "   orderliness  dutifulness  achievement_striving  self_discipline  \\\n",
       "0     1.154828     1.135942             -0.921297        -1.568777   \n",
       "1     0.512026     1.084035             -1.008870        -1.646798   \n",
       "2     1.028205     1.519648             -1.010900        -0.814227   \n",
       "3     1.799723     1.044745             -1.120291        -1.037738   \n",
       "4     0.888376     1.159153             -0.998118        -0.235388   \n",
       "\n",
       "   cautiousness  \n",
       "0     -0.311912  \n",
       "1      0.125827  \n",
       "2      0.377761  \n",
       "3     -0.434755  \n",
       "4     -0.420141  \n",
       "\n",
       "[5 rows x 35 columns]"
      ]
     },
     "execution_count": 7,
     "metadata": {},
     "output_type": "execute_result"
    }
   ],
   "source": [
    "bigfive.head()"
   ]
  },
  {
   "cell_type": "markdown",
   "id": "a278d9eb",
   "metadata": {},
   "source": [
    "save the result in csv and hand it over to R for comparison."
   ]
  },
  {
   "cell_type": "code",
   "execution_count": 8,
   "id": "fd23d801",
   "metadata": {},
   "outputs": [],
   "source": [
    "bigfive.to_csv(\"control_big_five.csv\",index=False)"
   ]
  },
  {
   "cell_type": "markdown",
   "id": "05182bdc",
   "metadata": {},
   "source": [
    "To validate our personality data, we get the relative personality values of Donald Trump and Hillary Clinton compared to the average from a research paper. So in `R_for_politician.Rmd`, we generate the plot below where Donald Trump and Hillary Clinton's personalities are plotted on top of the personality values of the control group."
   ]
  },
  {
   "cell_type": "code",
   "execution_count": 25,
   "id": "7b0845e6",
   "metadata": {},
   "outputs": [],
   "source": [
    "# IFrame(src='R_for_politician.html', width=1000, height=1600)"
   ]
  },
  {
   "cell_type": "markdown",
   "id": "7362c48d",
   "metadata": {},
   "source": [
    "![y1](./pics/y2.png)\n",
    "![y1](./pics/y3.png)\n",
    "![y1](./pics/y4.png)\n",
    "![y1](./pics/y5.png)\n",
    "![y1](./pics/y6.png)\n",
    "![y1](./pics/y7.png)\n",
    "![y1](./pics/y8.png)\n",
    "![y1](./pics/y9.png)\n",
    "![y1](./pics/y10.png)\n",
    "![y1](./pics/y11.png)\n",
    "![y1](./pics/y12.png)"
   ]
  },
  {
   "cell_type": "code",
   "execution_count": 30,
   "id": "17d59d8f",
   "metadata": {},
   "outputs": [],
   "source": []
  },
  {
   "cell_type": "code",
   "execution_count": null,
   "id": "f8609d39",
   "metadata": {},
   "outputs": [],
   "source": []
  }
 ],
 "metadata": {
  "kernelspec": {
   "display_name": "Python 3 (ipykernel)",
   "language": "python",
   "name": "python3"
  },
  "language_info": {
   "codemirror_mode": {
    "name": "ipython",
    "version": 3
   },
   "file_extension": ".py",
   "mimetype": "text/x-python",
   "name": "python",
   "nbconvert_exporter": "python",
   "pygments_lexer": "ipython3",
   "version": "3.9.7"
  }
 },
 "nbformat": 4,
 "nbformat_minor": 5
}
