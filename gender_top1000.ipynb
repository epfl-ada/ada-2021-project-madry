{
 "cells": [
  {
   "cell_type": "code",
   "execution_count": 1,
   "metadata": {},
   "outputs": [],
   "source": [
    "%load_ext autoreload\n",
    "%autoreload 2\n",
    "import pandas as pd\n",
    "import numpy as np\n",
    "import json\n",
    "from helpers import *\n",
    "import seaborn as sns\n",
    "import matplotlib.pyplot as plt\n",
    "plt.style.use('ggplot')"
   ]
  },
  {
   "cell_type": "code",
   "execution_count": 2,
   "metadata": {},
   "outputs": [],
   "source": [
    "speakers = pd.read_parquet('data/speaker_attributes.parquet')"
   ]
  },
  {
   "cell_type": "code",
   "execution_count": 3,
   "metadata": {},
   "outputs": [],
   "source": [
    "MALE_QID = 'Q6581097'\n",
    "FEMALE_QID = 'Q6581072'\n",
    "male_speakers = speakers[speakers.gender.apply(lambda g: MALE_QID in g if g is not None else False)]\n",
    "female_speakers = speakers[speakers.gender.apply(lambda g: FEMALE_QID in g if g is not None else False)]"
   ]
  },
  {
   "cell_type": "code",
   "execution_count": 4,
   "metadata": {},
   "outputs": [],
   "source": [
    "with open('data/top-1000-quotes-concatenated_1638964313725.json') as f:\n",
    "    top_1000_quotes = json.load(f)"
   ]
  },
  {
   "cell_type": "code",
   "execution_count": 6,
   "metadata": {},
   "outputs": [],
   "source": [
    "top_1000_quotes_df = pd.DataFrame(top_1000_quotes.values())"
   ]
  },
  {
   "cell_type": "code",
   "execution_count": 8,
   "metadata": {},
   "outputs": [
    {
     "data": {
      "text/plain": [
       "(897, 10)"
      ]
     },
     "execution_count": 8,
     "metadata": {},
     "output_type": "execute_result"
    }
   ],
   "source": [
    "top_1000_quotes_df[top_1000_quotes_df.genderLabel == 'male'].shape"
   ]
  },
  {
   "cell_type": "code",
   "execution_count": 9,
   "metadata": {},
   "outputs": [
    {
     "data": {
      "text/plain": [
       "(97, 10)"
      ]
     },
     "execution_count": 9,
     "metadata": {},
     "output_type": "execute_result"
    }
   ],
   "source": [
    "top_1000_quotes_df[top_1000_quotes_df.genderLabel == 'female'].shape"
   ]
  },
  {
   "cell_type": "code",
   "execution_count": 14,
   "metadata": {},
   "outputs": [],
   "source": [
    "countries = top_1000_quotes_df.citizenshipLabel.apply(lambda cz: cz[0] if isinstance(cz, list) else cz)"
   ]
  },
  {
   "cell_type": "code",
   "execution_count": 16,
   "metadata": {},
   "outputs": [
    {
     "data": {
      "text/plain": [
       "array(['India', 'United States of America', 'South Korea',\n",
       "       'United Kingdom', 'Serbia', 'Argentina', 'France', 'Germany',\n",
       "       \"People's Republic of China\", 'Spain', 'Switzerland', 'Russia',\n",
       "       'Portugal', 'Canada', 'Jamaica', 'Poland', 'Italy', 'Malaysia',\n",
       "       'Finland', 'Australia', 'Kenya', 'Pakistan',\n",
       "       'Kingdom of the Netherlands', 'Japan', 'Trinidad and Tobago',\n",
       "       'Israel', 'South Africa', 'Austria', 'New Zealand', 'Ukraine',\n",
       "       'Venezuela', 'Iran', 'Ghana', 'Philippines', 'Romania', 'Ireland',\n",
       "       'Norway', 'Turkey', 'Belgium', 'Hungary', 'Cambodia', 'Singapore',\n",
       "       'Denmark', 'Luxembourg', 'Zimbabwe', 'Puerto Rico',\n",
       "       'British India', nan, 'German Democratic Republic', 'Wales',\n",
       "       'Scotland', 'England', 'Greece', 'Chile', 'Nigeria', 'Iraq',\n",
       "       'Dominion of India', 'Barbados', 'Ethiopia', 'The Bahamas'],\n",
       "      dtype=object)"
      ]
     },
     "execution_count": 16,
     "metadata": {},
     "output_type": "execute_result"
    }
   ],
   "source": [
    "countries.unique()"
   ]
  },
  {
   "cell_type": "code",
   "execution_count": null,
   "metadata": {},
   "outputs": [],
   "source": []
  }
 ],
 "metadata": {
  "interpreter": {
   "hash": "f6a042026b0d43fbad8d0b7067c0734de16ecabdfc65158b395d6da2054a1561"
  },
  "kernelspec": {
   "display_name": "Python 3.8.11 64-bit ('ada': conda)",
   "language": "python",
   "name": "python3"
  },
  "language_info": {
   "codemirror_mode": {
    "name": "ipython",
    "version": 3
   },
   "file_extension": ".py",
   "mimetype": "text/x-python",
   "name": "python",
   "nbconvert_exporter": "python",
   "pygments_lexer": "ipython3",
   "version": "3.8.11"
  },
  "orig_nbformat": 4
 },
 "nbformat": 4,
 "nbformat_minor": 2
}
