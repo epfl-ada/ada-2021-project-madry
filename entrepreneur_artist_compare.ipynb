{
 "cells": [
  {
   "cell_type": "markdown",
   "metadata": {},
   "source": [
    "# Personality analysis of entrepreneurs and artists\n",
    "This notebook contains the personality analysis of artists and entrepreneurs to find the similarities in their big five personalities."
   ]
  },
  {
   "cell_type": "code",
   "execution_count": 33,
   "metadata": {},
   "outputs": [
    {
     "name": "stdout",
     "output_type": "stream",
     "text": [
      "The autoreload extension is already loaded. To reload it, use:\n",
      "  %reload_ext autoreload\n"
     ]
    }
   ],
   "source": [
    "%load_ext autoreload\n",
    "%autoreload 2\n",
    "import pandas as pd\n",
    "import numpy as np\n",
    "import json\n",
    "from helpers import *\n",
    "import seaborn as sns\n",
    "import matplotlib.pyplot as plt\n",
    "import scipy\n",
    "from scipy import stats\n",
    "plt.style.use('ggplot')"
   ]
  },
  {
   "cell_type": "code",
   "execution_count": 2,
   "metadata": {},
   "outputs": [],
   "source": [
    "BIG_FIVE = ['neuroticism', 'extraversion', 'agreeableness', 'conscientiousness', 'openness']"
   ]
  },
  {
   "cell_type": "markdown",
   "metadata": {},
   "source": [
    "## Data loading and preprocessing\n",
    "\n",
    "We load and preprocess the data to get top 100 entrepreneur and artist speakers and their corresponding concatenated quotes. \n",
    "For personality analysis of entrepreneurs and artists, we start with retieving all the speaker details from the parquet files and selecting all the speakers with occupation as an artist or an enrepreneur."
   ]
  },
  {
   "cell_type": "code",
   "execution_count": 2,
   "metadata": {},
   "outputs": [],
   "source": [
    "speakers = pd.read_parquet('data/speaker_attributes.parquet')"
   ]
  },
  {
   "cell_type": "code",
   "execution_count": 3,
   "metadata": {},
   "outputs": [
    {
     "data": {
      "text/html": [
       "<div>\n",
       "<style scoped>\n",
       "    .dataframe tbody tr th:only-of-type {\n",
       "        vertical-align: middle;\n",
       "    }\n",
       "\n",
       "    .dataframe tbody tr th {\n",
       "        vertical-align: top;\n",
       "    }\n",
       "\n",
       "    .dataframe thead th {\n",
       "        text-align: right;\n",
       "    }\n",
       "</style>\n",
       "<table border=\"1\" class=\"dataframe\">\n",
       "  <thead>\n",
       "    <tr style=\"text-align: right;\">\n",
       "      <th></th>\n",
       "      <th>aliases</th>\n",
       "      <th>date_of_birth</th>\n",
       "      <th>nationality</th>\n",
       "      <th>gender</th>\n",
       "      <th>lastrevid</th>\n",
       "      <th>ethnic_group</th>\n",
       "      <th>US_congress_bio_ID</th>\n",
       "      <th>occupation</th>\n",
       "      <th>party</th>\n",
       "      <th>academic_degree</th>\n",
       "      <th>id</th>\n",
       "      <th>label</th>\n",
       "      <th>candidacy</th>\n",
       "      <th>type</th>\n",
       "      <th>religion</th>\n",
       "    </tr>\n",
       "  </thead>\n",
       "  <tbody>\n",
       "    <tr>\n",
       "      <th>0</th>\n",
       "      <td>[Washington, President Washington, G. Washingt...</td>\n",
       "      <td>[+1732-02-22T00:00:00Z]</td>\n",
       "      <td>[Q161885, Q30]</td>\n",
       "      <td>[Q6581097]</td>\n",
       "      <td>1395141751</td>\n",
       "      <td>None</td>\n",
       "      <td>W000178</td>\n",
       "      <td>[Q82955, Q189290, Q131512, Q1734662, Q294126, ...</td>\n",
       "      <td>[Q327591]</td>\n",
       "      <td>None</td>\n",
       "      <td>Q23</td>\n",
       "      <td>George Washington</td>\n",
       "      <td>[Q698073, Q697949]</td>\n",
       "      <td>item</td>\n",
       "      <td>[Q682443]</td>\n",
       "    </tr>\n",
       "    <tr>\n",
       "      <th>1</th>\n",
       "      <td>[Douglas Noel Adams, Douglas Noël Adams, Dougl...</td>\n",
       "      <td>[+1952-03-11T00:00:00Z]</td>\n",
       "      <td>[Q145]</td>\n",
       "      <td>[Q6581097]</td>\n",
       "      <td>1395737157</td>\n",
       "      <td>[Q7994501]</td>\n",
       "      <td>None</td>\n",
       "      <td>[Q214917, Q28389, Q6625963, Q4853732, Q1884422...</td>\n",
       "      <td>None</td>\n",
       "      <td>None</td>\n",
       "      <td>Q42</td>\n",
       "      <td>Douglas Adams</td>\n",
       "      <td>None</td>\n",
       "      <td>item</td>\n",
       "      <td>None</td>\n",
       "    </tr>\n",
       "    <tr>\n",
       "      <th>2</th>\n",
       "      <td>[Paul Marie Ghislain Otlet, Paul Marie Otlet]</td>\n",
       "      <td>[+1868-08-23T00:00:00Z]</td>\n",
       "      <td>[Q31]</td>\n",
       "      <td>[Q6581097]</td>\n",
       "      <td>1380367296</td>\n",
       "      <td>None</td>\n",
       "      <td>None</td>\n",
       "      <td>[Q36180, Q40348, Q182436, Q1265807, Q205375, Q...</td>\n",
       "      <td>None</td>\n",
       "      <td>None</td>\n",
       "      <td>Q1868</td>\n",
       "      <td>Paul Otlet</td>\n",
       "      <td>None</td>\n",
       "      <td>item</td>\n",
       "      <td>None</td>\n",
       "    </tr>\n",
       "    <tr>\n",
       "      <th>3</th>\n",
       "      <td>[George Walker Bush, Bush Jr., Dubya, GWB, Bus...</td>\n",
       "      <td>[+1946-07-06T00:00:00Z]</td>\n",
       "      <td>[Q30]</td>\n",
       "      <td>[Q6581097]</td>\n",
       "      <td>1395142029</td>\n",
       "      <td>None</td>\n",
       "      <td>None</td>\n",
       "      <td>[Q82955, Q15982858, Q18814623, Q1028181, Q1408...</td>\n",
       "      <td>[Q29468]</td>\n",
       "      <td>None</td>\n",
       "      <td>Q207</td>\n",
       "      <td>George W. Bush</td>\n",
       "      <td>[Q327959, Q464075, Q3586276, Q4450587]</td>\n",
       "      <td>item</td>\n",
       "      <td>[Q329646, Q682443, Q33203]</td>\n",
       "    </tr>\n",
       "    <tr>\n",
       "      <th>4</th>\n",
       "      <td>[Velázquez, Diego Rodríguez de Silva y Velázqu...</td>\n",
       "      <td>[+1599-06-06T00:00:00Z]</td>\n",
       "      <td>[Q29]</td>\n",
       "      <td>[Q6581097]</td>\n",
       "      <td>1391704596</td>\n",
       "      <td>None</td>\n",
       "      <td>None</td>\n",
       "      <td>[Q1028181]</td>\n",
       "      <td>None</td>\n",
       "      <td>None</td>\n",
       "      <td>Q297</td>\n",
       "      <td>Diego Velázquez</td>\n",
       "      <td>None</td>\n",
       "      <td>item</td>\n",
       "      <td>None</td>\n",
       "    </tr>\n",
       "  </tbody>\n",
       "</table>\n",
       "</div>"
      ],
      "text/plain": [
       "                                             aliases            date_of_birth  \\\n",
       "0  [Washington, President Washington, G. Washingt...  [+1732-02-22T00:00:00Z]   \n",
       "1  [Douglas Noel Adams, Douglas Noël Adams, Dougl...  [+1952-03-11T00:00:00Z]   \n",
       "2      [Paul Marie Ghislain Otlet, Paul Marie Otlet]  [+1868-08-23T00:00:00Z]   \n",
       "3  [George Walker Bush, Bush Jr., Dubya, GWB, Bus...  [+1946-07-06T00:00:00Z]   \n",
       "4  [Velázquez, Diego Rodríguez de Silva y Velázqu...  [+1599-06-06T00:00:00Z]   \n",
       "\n",
       "      nationality      gender   lastrevid ethnic_group US_congress_bio_ID  \\\n",
       "0  [Q161885, Q30]  [Q6581097]  1395141751         None            W000178   \n",
       "1          [Q145]  [Q6581097]  1395737157   [Q7994501]               None   \n",
       "2           [Q31]  [Q6581097]  1380367296         None               None   \n",
       "3           [Q30]  [Q6581097]  1395142029         None               None   \n",
       "4           [Q29]  [Q6581097]  1391704596         None               None   \n",
       "\n",
       "                                          occupation      party  \\\n",
       "0  [Q82955, Q189290, Q131512, Q1734662, Q294126, ...  [Q327591]   \n",
       "1  [Q214917, Q28389, Q6625963, Q4853732, Q1884422...       None   \n",
       "2  [Q36180, Q40348, Q182436, Q1265807, Q205375, Q...       None   \n",
       "3  [Q82955, Q15982858, Q18814623, Q1028181, Q1408...   [Q29468]   \n",
       "4                                         [Q1028181]       None   \n",
       "\n",
       "  academic_degree     id              label  \\\n",
       "0            None    Q23  George Washington   \n",
       "1            None    Q42      Douglas Adams   \n",
       "2            None  Q1868         Paul Otlet   \n",
       "3            None   Q207     George W. Bush   \n",
       "4            None   Q297    Diego Velázquez   \n",
       "\n",
       "                                candidacy  type                    religion  \n",
       "0                      [Q698073, Q697949]  item                   [Q682443]  \n",
       "1                                    None  item                        None  \n",
       "2                                    None  item                        None  \n",
       "3  [Q327959, Q464075, Q3586276, Q4450587]  item  [Q329646, Q682443, Q33203]  \n",
       "4                                    None  item                        None  "
      ]
     },
     "execution_count": 3,
     "metadata": {},
     "output_type": "execute_result"
    }
   ],
   "source": [
    "speakers.head()"
   ]
  },
  {
   "cell_type": "code",
   "execution_count": 4,
   "metadata": {},
   "outputs": [],
   "source": [
    "ENTREPRENEUR_QID = 'Q131524'\n",
    "ARTIST_QID = 'Q483501'\n",
    "artist_speakers = speakers[speakers.occupation.apply(lambda g: ARTIST_QID in g if g is not None else False)]\n",
    "entrepreneur_speakers = speakers[speakers.occupation.apply(lambda g: ENTREPRENEUR_QID in g if g is not None else False)]"
   ]
  },
  {
   "cell_type": "markdown",
   "metadata": {},
   "source": [
    "We have a precreated file that has a dictionary of the significant quote counts for all the speakers. Let's load that."
   ]
  },
  {
   "cell_type": "code",
   "execution_count": 7,
   "metadata": {},
   "outputs": [],
   "source": [
    "# extracting count of significant quotes for all the speakers in quotebank\n",
    "with open('data/signi-quote-count-combined_1636253317430.json') as f:\n",
    "    signi_quote_count_dict = json.load(f)"
   ]
  },
  {
   "cell_type": "code",
   "execution_count": 108,
   "metadata": {},
   "outputs": [
    {
     "data": {
      "text/plain": [
       "624492"
      ]
     },
     "execution_count": 108,
     "metadata": {},
     "output_type": "execute_result"
    }
   ],
   "source": [
    "len(signi_quote_count_dict)"
   ]
  },
  {
   "cell_type": "code",
   "execution_count": 109,
   "metadata": {},
   "outputs": [],
   "source": [
    "signi_quote_count_df = pd.Series(signi_quote_count_dict, name='signi_quote_count')"
   ]
  },
  {
   "cell_type": "markdown",
   "metadata": {},
   "source": [
    "Let's arrange all the artisits and entrepreneurs according to the significant quote count and select top 100 speakers with most number of quotes"
   ]
  },
  {
   "cell_type": "code",
   "execution_count": 10,
   "metadata": {},
   "outputs": [],
   "source": [
    "signi_entrepreneur_speakers = entrepreneur_speakers.merge(signi_quote_count_df, left_on='id', right_index=True, how='inner')\n",
    "signi_entrepreneur_speakers = signi_entrepreneur_speakers.sort_values(by=['signi_quote_count'], ascending=False).iloc[:100]"
   ]
  },
  {
   "cell_type": "code",
   "execution_count": 11,
   "metadata": {},
   "outputs": [],
   "source": [
    "signi_artist_speakers = artist_speakers.merge(signi_quote_count_df, left_on='id', right_index=True, how='inner')\n",
    "signi_artist_speakers = signi_artist_speakers.sort_values(by=['signi_quote_count'], ascending=False).iloc[:100]"
   ]
  },
  {
   "cell_type": "code",
   "execution_count": 12,
   "metadata": {},
   "outputs": [
    {
     "data": {
      "text/html": [
       "<div>\n",
       "<style scoped>\n",
       "    .dataframe tbody tr th:only-of-type {\n",
       "        vertical-align: middle;\n",
       "    }\n",
       "\n",
       "    .dataframe tbody tr th {\n",
       "        vertical-align: top;\n",
       "    }\n",
       "\n",
       "    .dataframe thead th {\n",
       "        text-align: right;\n",
       "    }\n",
       "</style>\n",
       "<table border=\"1\" class=\"dataframe\">\n",
       "  <thead>\n",
       "    <tr style=\"text-align: right;\">\n",
       "      <th></th>\n",
       "      <th>aliases</th>\n",
       "      <th>date_of_birth</th>\n",
       "      <th>nationality</th>\n",
       "      <th>gender</th>\n",
       "      <th>lastrevid</th>\n",
       "      <th>ethnic_group</th>\n",
       "      <th>US_congress_bio_ID</th>\n",
       "      <th>occupation</th>\n",
       "      <th>party</th>\n",
       "      <th>academic_degree</th>\n",
       "      <th>id</th>\n",
       "      <th>label</th>\n",
       "      <th>candidacy</th>\n",
       "      <th>type</th>\n",
       "      <th>religion</th>\n",
       "      <th>signi_quote_count</th>\n",
       "    </tr>\n",
       "  </thead>\n",
       "  <tbody>\n",
       "    <tr>\n",
       "      <th>2267061</th>\n",
       "      <td>[Donald John Trump, Donald J. Trump, Trump, Th...</td>\n",
       "      <td>[+1946-06-14T00:00:00Z]</td>\n",
       "      <td>[Q30]</td>\n",
       "      <td>[Q6581097]</td>\n",
       "      <td>1395141850</td>\n",
       "      <td>None</td>\n",
       "      <td>None</td>\n",
       "      <td>[Q911554, Q557880, Q3427922, Q15980158, Q13152...</td>\n",
       "      <td>[Q29468, Q1897793, Q29552, Q29468, Q29468]</td>\n",
       "      <td>[Q787674]</td>\n",
       "      <td>Q22686</td>\n",
       "      <td>Donald Trump</td>\n",
       "      <td>[Q699872, Q22923830, Q38051523]</td>\n",
       "      <td>item</td>\n",
       "      <td>[Q178169]</td>\n",
       "      <td>201293</td>\n",
       "    </tr>\n",
       "    <tr>\n",
       "      <th>7938171</th>\n",
       "      <td>[Elon Reeve Musk, Elon R. Musk, Elon R Musk]</td>\n",
       "      <td>[+1971-06-28T00:00:00Z]</td>\n",
       "      <td>[Q258, Q16, Q30]</td>\n",
       "      <td>[Q6581097]</td>\n",
       "      <td>1395054202</td>\n",
       "      <td>None</td>\n",
       "      <td>None</td>\n",
       "      <td>[Q15895020, Q205375, Q5482740, Q81096, Q131524...</td>\n",
       "      <td>None</td>\n",
       "      <td>None</td>\n",
       "      <td>Q317521</td>\n",
       "      <td>Elon Musk</td>\n",
       "      <td>None</td>\n",
       "      <td>item</td>\n",
       "      <td>[Q288928]</td>\n",
       "      <td>21644</td>\n",
       "    </tr>\n",
       "    <tr>\n",
       "      <th>4560262</th>\n",
       "      <td>[Malcolm Bligh Turnbull]</td>\n",
       "      <td>[+1954-10-24T00:00:00Z]</td>\n",
       "      <td>[Q408]</td>\n",
       "      <td>[Q6581097]</td>\n",
       "      <td>1388042865</td>\n",
       "      <td>None</td>\n",
       "      <td>None</td>\n",
       "      <td>[Q1930187, Q82955, Q131524, Q40348, Q2883465]</td>\n",
       "      <td>[Q241149]</td>\n",
       "      <td>None</td>\n",
       "      <td>Q927550</td>\n",
       "      <td>Malcolm Turnbull</td>\n",
       "      <td>None</td>\n",
       "      <td>item</td>\n",
       "      <td>[Q1841]</td>\n",
       "      <td>17720</td>\n",
       "    </tr>\n",
       "    <tr>\n",
       "      <th>4529756</th>\n",
       "      <td>[Mark Elliott Zuckerberg, Zuck, Zuckerberg, Ma...</td>\n",
       "      <td>[+1984-05-14T00:00:00Z]</td>\n",
       "      <td>[Q30]</td>\n",
       "      <td>[Q6581097]</td>\n",
       "      <td>1391311625</td>\n",
       "      <td>[Q7325]</td>\n",
       "      <td>None</td>\n",
       "      <td>[Q5482740, Q131524, Q82594, Q15472169, Q484876]</td>\n",
       "      <td>None</td>\n",
       "      <td>None</td>\n",
       "      <td>Q36215</td>\n",
       "      <td>Mark Zuckerberg</td>\n",
       "      <td>None</td>\n",
       "      <td>item</td>\n",
       "      <td>[Q7066, Q9268]</td>\n",
       "      <td>16025</td>\n",
       "    </tr>\n",
       "    <tr>\n",
       "      <th>1142938</th>\n",
       "      <td>[Kim Kardashian West, KiKi, Keeks, Kim K, Kimb...</td>\n",
       "      <td>[+1980-10-21T00:00:00Z]</td>\n",
       "      <td>[Q30]</td>\n",
       "      <td>[Q6581072]</td>\n",
       "      <td>1395690668</td>\n",
       "      <td>[Q2325516, Q1058496, Q1344183, Q1075293, Q3476...</td>\n",
       "      <td>None</td>\n",
       "      <td>[Q3501317, Q512314, Q4610556, Q8246794, Q13152...</td>\n",
       "      <td>[Q29552]</td>\n",
       "      <td>None</td>\n",
       "      <td>Q186304</td>\n",
       "      <td>Kim Kardashian</td>\n",
       "      <td>None</td>\n",
       "      <td>item</td>\n",
       "      <td>[Q5043]</td>\n",
       "      <td>10875</td>\n",
       "    </tr>\n",
       "  </tbody>\n",
       "</table>\n",
       "</div>"
      ],
      "text/plain": [
       "                                                   aliases  \\\n",
       "2267061  [Donald John Trump, Donald J. Trump, Trump, Th...   \n",
       "7938171       [Elon Reeve Musk, Elon R. Musk, Elon R Musk]   \n",
       "4560262                           [Malcolm Bligh Turnbull]   \n",
       "4529756  [Mark Elliott Zuckerberg, Zuck, Zuckerberg, Ma...   \n",
       "1142938  [Kim Kardashian West, KiKi, Keeks, Kim K, Kimb...   \n",
       "\n",
       "                   date_of_birth       nationality      gender   lastrevid  \\\n",
       "2267061  [+1946-06-14T00:00:00Z]             [Q30]  [Q6581097]  1395141850   \n",
       "7938171  [+1971-06-28T00:00:00Z]  [Q258, Q16, Q30]  [Q6581097]  1395054202   \n",
       "4560262  [+1954-10-24T00:00:00Z]            [Q408]  [Q6581097]  1388042865   \n",
       "4529756  [+1984-05-14T00:00:00Z]             [Q30]  [Q6581097]  1391311625   \n",
       "1142938  [+1980-10-21T00:00:00Z]             [Q30]  [Q6581072]  1395690668   \n",
       "\n",
       "                                              ethnic_group US_congress_bio_ID  \\\n",
       "2267061                                               None               None   \n",
       "7938171                                               None               None   \n",
       "4560262                                               None               None   \n",
       "4529756                                            [Q7325]               None   \n",
       "1142938  [Q2325516, Q1058496, Q1344183, Q1075293, Q3476...               None   \n",
       "\n",
       "                                                occupation  \\\n",
       "2267061  [Q911554, Q557880, Q3427922, Q15980158, Q13152...   \n",
       "7938171  [Q15895020, Q205375, Q5482740, Q81096, Q131524...   \n",
       "4560262      [Q1930187, Q82955, Q131524, Q40348, Q2883465]   \n",
       "4529756    [Q5482740, Q131524, Q82594, Q15472169, Q484876]   \n",
       "1142938  [Q3501317, Q512314, Q4610556, Q8246794, Q13152...   \n",
       "\n",
       "                                              party academic_degree       id  \\\n",
       "2267061  [Q29468, Q1897793, Q29552, Q29468, Q29468]       [Q787674]   Q22686   \n",
       "7938171                                        None            None  Q317521   \n",
       "4560262                                   [Q241149]            None  Q927550   \n",
       "4529756                                        None            None   Q36215   \n",
       "1142938                                    [Q29552]            None  Q186304   \n",
       "\n",
       "                    label                        candidacy  type  \\\n",
       "2267061      Donald Trump  [Q699872, Q22923830, Q38051523]  item   \n",
       "7938171         Elon Musk                             None  item   \n",
       "4560262  Malcolm Turnbull                             None  item   \n",
       "4529756   Mark Zuckerberg                             None  item   \n",
       "1142938    Kim Kardashian                             None  item   \n",
       "\n",
       "               religion  signi_quote_count  \n",
       "2267061       [Q178169]             201293  \n",
       "7938171       [Q288928]              21644  \n",
       "4560262         [Q1841]              17720  \n",
       "4529756  [Q7066, Q9268]              16025  \n",
       "1142938         [Q5043]              10875  "
      ]
     },
     "execution_count": 12,
     "metadata": {},
     "output_type": "execute_result"
    }
   ],
   "source": [
    "signi_entrepreneur_speakers.head()"
   ]
  },
  {
   "cell_type": "code",
   "execution_count": 13,
   "metadata": {},
   "outputs": [
    {
     "data": {
      "text/html": [
       "<div>\n",
       "<style scoped>\n",
       "    .dataframe tbody tr th:only-of-type {\n",
       "        vertical-align: middle;\n",
       "    }\n",
       "\n",
       "    .dataframe tbody tr th {\n",
       "        vertical-align: top;\n",
       "    }\n",
       "\n",
       "    .dataframe thead th {\n",
       "        text-align: right;\n",
       "    }\n",
       "</style>\n",
       "<table border=\"1\" class=\"dataframe\">\n",
       "  <thead>\n",
       "    <tr style=\"text-align: right;\">\n",
       "      <th></th>\n",
       "      <th>aliases</th>\n",
       "      <th>date_of_birth</th>\n",
       "      <th>nationality</th>\n",
       "      <th>gender</th>\n",
       "      <th>lastrevid</th>\n",
       "      <th>ethnic_group</th>\n",
       "      <th>US_congress_bio_ID</th>\n",
       "      <th>occupation</th>\n",
       "      <th>party</th>\n",
       "      <th>academic_degree</th>\n",
       "      <th>id</th>\n",
       "      <th>label</th>\n",
       "      <th>candidacy</th>\n",
       "      <th>type</th>\n",
       "      <th>religion</th>\n",
       "      <th>signi_quote_count</th>\n",
       "    </tr>\n",
       "  </thead>\n",
       "  <tbody>\n",
       "    <tr>\n",
       "      <th>4529456</th>\n",
       "      <td>[Kanye Omari West, Yeezy, Ye, Yeezus, The Fly ...</td>\n",
       "      <td>[+1977-06-08T00:00:00Z]</td>\n",
       "      <td>[Q30]</td>\n",
       "      <td>[Q6581097]</td>\n",
       "      <td>1393795449</td>\n",
       "      <td>[Q49085]</td>\n",
       "      <td>None</td>\n",
       "      <td>[Q177220, Q2526255, Q8246794, Q2252262, Q43845...</td>\n",
       "      <td>[Q327591]</td>\n",
       "      <td>[Q11415564]</td>\n",
       "      <td>Q15935</td>\n",
       "      <td>Kanye West</td>\n",
       "      <td>None</td>\n",
       "      <td>item</td>\n",
       "      <td>[Q106039]</td>\n",
       "      <td>7131</td>\n",
       "    </tr>\n",
       "    <tr>\n",
       "      <th>2514470</th>\n",
       "      <td>[Stephen Miller]</td>\n",
       "      <td>[+1951-10-12T00:00:00Z]</td>\n",
       "      <td>[Q30]</td>\n",
       "      <td>[Q6581097]</td>\n",
       "      <td>1382051740</td>\n",
       "      <td>None</td>\n",
       "      <td>None</td>\n",
       "      <td>[Q1028181, Q483501]</td>\n",
       "      <td>None</td>\n",
       "      <td>None</td>\n",
       "      <td>Q11894443</td>\n",
       "      <td>Steve Miller</td>\n",
       "      <td>None</td>\n",
       "      <td>item</td>\n",
       "      <td>None</td>\n",
       "      <td>4378</td>\n",
       "    </tr>\n",
       "    <tr>\n",
       "      <th>4536293</th>\n",
       "      <td>[Onika Maraj, Onika Tanya Maraj, Onika Tanya M...</td>\n",
       "      <td>[+1982-12-08T00:00:00Z]</td>\n",
       "      <td>[Q754, Q30]</td>\n",
       "      <td>[Q6581072]</td>\n",
       "      <td>1395776598</td>\n",
       "      <td>[Q49085, Q6025447]</td>\n",
       "      <td>None</td>\n",
       "      <td>[Q36834, Q33999, Q177220, Q2405480, Q131524, Q...</td>\n",
       "      <td>None</td>\n",
       "      <td>None</td>\n",
       "      <td>Q162202</td>\n",
       "      <td>Nicki Minaj</td>\n",
       "      <td>None</td>\n",
       "      <td>item</td>\n",
       "      <td>[Q5043]</td>\n",
       "      <td>4150</td>\n",
       "    </tr>\n",
       "    <tr>\n",
       "      <th>5942884</th>\n",
       "      <td>[Joshua Smith]</td>\n",
       "      <td>[+1976-01-01T00:00:00Z]</td>\n",
       "      <td>[Q30]</td>\n",
       "      <td>[Q6581097]</td>\n",
       "      <td>1395434231</td>\n",
       "      <td>None</td>\n",
       "      <td>None</td>\n",
       "      <td>[Q1028181, Q483501, Q644687]</td>\n",
       "      <td>None</td>\n",
       "      <td>None</td>\n",
       "      <td>Q15454606</td>\n",
       "      <td>Josh Smith</td>\n",
       "      <td>None</td>\n",
       "      <td>item</td>\n",
       "      <td>None</td>\n",
       "      <td>2490</td>\n",
       "    </tr>\n",
       "    <tr>\n",
       "      <th>4811454</th>\n",
       "      <td>None</td>\n",
       "      <td>[+1972-01-01T00:00:00Z]</td>\n",
       "      <td>[Q30]</td>\n",
       "      <td>[Q6581097]</td>\n",
       "      <td>1353759363</td>\n",
       "      <td>None</td>\n",
       "      <td>None</td>\n",
       "      <td>[Q266569, Q483501]</td>\n",
       "      <td>None</td>\n",
       "      <td>None</td>\n",
       "      <td>Q15459993</td>\n",
       "      <td>Patrick Smith</td>\n",
       "      <td>None</td>\n",
       "      <td>item</td>\n",
       "      <td>None</td>\n",
       "      <td>1732</td>\n",
       "    </tr>\n",
       "  </tbody>\n",
       "</table>\n",
       "</div>"
      ],
      "text/plain": [
       "                                                   aliases  \\\n",
       "4529456  [Kanye Omari West, Yeezy, Ye, Yeezus, The Fly ...   \n",
       "2514470                                   [Stephen Miller]   \n",
       "4536293  [Onika Maraj, Onika Tanya Maraj, Onika Tanya M...   \n",
       "5942884                                     [Joshua Smith]   \n",
       "4811454                                               None   \n",
       "\n",
       "                   date_of_birth  nationality      gender   lastrevid  \\\n",
       "4529456  [+1977-06-08T00:00:00Z]        [Q30]  [Q6581097]  1393795449   \n",
       "2514470  [+1951-10-12T00:00:00Z]        [Q30]  [Q6581097]  1382051740   \n",
       "4536293  [+1982-12-08T00:00:00Z]  [Q754, Q30]  [Q6581072]  1395776598   \n",
       "5942884  [+1976-01-01T00:00:00Z]        [Q30]  [Q6581097]  1395434231   \n",
       "4811454  [+1972-01-01T00:00:00Z]        [Q30]  [Q6581097]  1353759363   \n",
       "\n",
       "               ethnic_group US_congress_bio_ID  \\\n",
       "4529456            [Q49085]               None   \n",
       "2514470                None               None   \n",
       "4536293  [Q49085, Q6025447]               None   \n",
       "5942884                None               None   \n",
       "4811454                None               None   \n",
       "\n",
       "                                                occupation      party  \\\n",
       "4529456  [Q177220, Q2526255, Q8246794, Q2252262, Q43845...  [Q327591]   \n",
       "2514470                                [Q1028181, Q483501]       None   \n",
       "4536293  [Q36834, Q33999, Q177220, Q2405480, Q131524, Q...       None   \n",
       "5942884                       [Q1028181, Q483501, Q644687]       None   \n",
       "4811454                                 [Q266569, Q483501]       None   \n",
       "\n",
       "        academic_degree         id          label candidacy  type   religion  \\\n",
       "4529456     [Q11415564]     Q15935     Kanye West      None  item  [Q106039]   \n",
       "2514470            None  Q11894443   Steve Miller      None  item       None   \n",
       "4536293            None    Q162202    Nicki Minaj      None  item    [Q5043]   \n",
       "5942884            None  Q15454606     Josh Smith      None  item       None   \n",
       "4811454            None  Q15459993  Patrick Smith      None  item       None   \n",
       "\n",
       "         signi_quote_count  \n",
       "4529456               7131  \n",
       "2514470               4378  \n",
       "4536293               4150  \n",
       "5942884               2490  \n",
       "4811454               1732  "
      ]
     },
     "execution_count": 13,
     "metadata": {},
     "output_type": "execute_result"
    }
   ],
   "source": [
    "signi_artist_speakers.head()"
   ]
  },
  {
   "cell_type": "markdown",
   "metadata": {},
   "source": [
    "Now, let's load the quotes of the top hundred entrepreneurs from quotebank dataset from 2015 to 2020"
   ]
  },
  {
   "cell_type": "code",
   "execution_count": 39,
   "metadata": {},
   "outputs": [
    {
     "name": "stderr",
     "output_type": "stream",
     "text": [
      "Processing year 2019: 3397it [17:09,  3.30it/s]\n"
     ]
    },
    {
     "name": "stdout",
     "output_type": "stream",
     "text": [
      "\n",
      "File data/quotebank/quotes-2019.json.bz2 processed in 1029.7s\n",
      "\n"
     ]
    },
    {
     "name": "stderr",
     "output_type": "stream",
     "text": [
      "Processing year 2020: 793it [04:01,  3.28it/s]"
     ]
    },
    {
     "name": "stdout",
     "output_type": "stream",
     "text": [
      "\n",
      "File data/quotebank/quotes-2020.json.bz2 processed in 241.6s\n",
      "\n",
      "\n",
      "\n",
      "Output file names:\n",
      "data/entrepreneur-speaker-quotes-2019_1639068384882.json\n",
      "data/entrepreneur-speaker-quotes-2020_1639068626708.json\n"
     ]
    },
    {
     "name": "stderr",
     "output_type": "stream",
     "text": [
      "\n"
     ]
    }
   ],
   "source": [
    "# retrieves the quotes for the significant top hundred speakers\n",
    "from functools import partial\n",
    "years = [2015, 2016, 2017, 2018, 2019, 2020]\n",
    "speaker_qids = signi_entrepreneur_speakers.id.to_list()\n",
    "output_list = []\n",
    "\n",
    "for year in years:\n",
    "    path_to_input = PATTERN_INPUT.format(year)\n",
    "    \n",
    "    # Process quote file\n",
    "    output_name = process_compressed_json_file(path_to_input, 'data/entrepreneur-speaker-quotes', year, partial(check_if_speaker_quote, speakers=speaker_qids))\n",
    "    \n",
    "    output_entrepreneur_list.append(output_name)\n",
    "\n",
    "print('\\n\\nOutput file names:')\n",
    "for file_name in output_list:\n",
    "    print(file_name)"
   ]
  },
  {
   "cell_type": "markdown",
   "metadata": {},
   "source": [
    "Let's load the quotes of the top hundred artist from quotebank dataset from 2015 to 2020"
   ]
  },
  {
   "cell_type": "code",
   "execution_count": null,
   "metadata": {},
   "outputs": [],
   "source": [
    "# retrieves the quotes for the significant top hundred speakers\n",
    "from functools import partial\n",
    "years = [2015, 2016, 2017, 2018, 2019, 2020]\n",
    "speaker_qids = signi_artist_speakers.id.to_list()\n",
    "output_list = []\n",
    "\n",
    "for year in years:\n",
    "    path_to_input = PATTERN_INPUT.format(year)\n",
    "    \n",
    "    # Process quote file\n",
    "    output_name = process_compressed_json_file(path_to_input, 'data/entrepreneur-speaker-quotes', year, partial(check_if_speaker_quote, speakers=speaker_qids))\n",
    "    \n",
    "    output_artist_list.append(output_name)\n",
    "\n",
    "print('\\n\\nOutput file names:')\n",
    "for file_name in output_list:\n",
    "    print(file_name)"
   ]
  },
  {
   "cell_type": "code",
   "execution_count": 112,
   "metadata": {},
   "outputs": [],
   "source": [
    "output_entrepreneur_list = ['data/entrepreneur-speaker-quotes-2015_1639058393619.json', 'data/entrepreneur-speaker-quotes-2016_1639059086240.json', 'data/entrepreneur-speaker-quotes-2017_1639060611970.json', 'data/entrepreneur-speaker-quotes-2018_1639061980207.json', 'data/entrepreneur-speaker-quotes-2019_1639068384882.json', 'data/entrepreneur-speaker-quotes-2020_1639068626708.json']"
   ]
  },
  {
   "cell_type": "code",
   "execution_count": 113,
   "metadata": {},
   "outputs": [],
   "source": [
    "output_artist_list = ['data/artist-speaker-quotes-2015_1639415942261.json', 'data/artist-speaker-quotes-2016_1639416599406.json', 'data/artist-speaker-quotes-2017_1639418039284.json', 'data/artist-speaker-quotes-2018_1639419423996.json', 'data/artist-speaker-quotes-2019_1639420451907.json', 'data/artist-speaker-quotes-2020_1639420690642.json']"
   ]
  },
  {
   "cell_type": "markdown",
   "metadata": {},
   "source": [
    "Let's combine the quote files from 2015 to 2020"
   ]
  },
  {
   "cell_type": "code",
   "execution_count": 125,
   "metadata": {},
   "outputs": [],
   "source": [
    "entrepreneur_combined = combine_quotes_files(output_entrepreneur_list)"
   ]
  },
  {
   "cell_type": "code",
   "execution_count": 126,
   "metadata": {},
   "outputs": [],
   "source": [
    "artist_combined = combine_quotes_files(output_artist_list)"
   ]
  },
  {
   "cell_type": "markdown",
   "metadata": {},
   "source": [
    "Let's filter out the unwanted quotes with garbage values"
   ]
  },
  {
   "cell_type": "code",
   "execution_count": 127,
   "metadata": {},
   "outputs": [],
   "source": [
    "entrepreneur_quotes, filtered_quotes = filter_quotes(entrepreneur_combined)"
   ]
  },
  {
   "cell_type": "code",
   "execution_count": 128,
   "metadata": {},
   "outputs": [
    {
     "data": {
      "text/plain": [
       "[{'quotation': 'total and complete shutdown (http://www.marketwatch.com/story/trump-calls-for-complete-shutdown-of-muslims-entering-us-2015-12-07)',\n",
       "  'proba': '0.8537'},\n",
       " {'quotation': 'The latest book on Hillary -- Wow, a really tough one! http://www.amazon.com/dp/151070678X\\xa0 @RogerJStoneJr.',\n",
       "  'proba': '0.8819'},\n",
       " {'quotation': \"become president of the US ”.Net anyahu had on Wednesday confirmed he would meet the frontrunner for the Republican presidential nomination to succeed Barack Obama in the White House despite an international outcry... Recent related news World' Trump cancels Israel visit after uproar over his comments GOP presidential front-runner Donald Trump canceled plans Thursday to visit Israel, a trip for which even Prime Minister Benjamin Netanyahu -- widely seen as an... * By The Canadian Press * WASHINGTON -- The Associated Press has learned that Republican presidential candidate Donald Trump plans to visit the majority-Muslim... CJME 2 days ago-World You Might Like ISRAEL's Occupation Is Morally Indefensible Twitter Sarah Kate RT @J_indetroit: Trump @realDonaldTrump cancels his visit to Israel after public criticism from Netanyahu. Good. https://t.co/hhxiFJNmW8\\xa0 1 minute ago News Now Trump cancels Israel visit after uproar over his comments::\",\n",
       "  'proba': '0.8573'},\n",
       " {'quotation': 'the for & shy; got & shy; ten people of the Re & shy; pub & shy; lic.',\n",
       "  'proba': '0.8474'},\n",
       " {'quotation': '[ He is ] a maniac.', 'proba': '0.805'}]"
      ]
     },
     "execution_count": 128,
     "metadata": {},
     "output_type": "execute_result"
    }
   ],
   "source": [
    "filtered_quotes[:5]"
   ]
  },
  {
   "cell_type": "code",
   "execution_count": 129,
   "metadata": {},
   "outputs": [],
   "source": [
    "artist_quotes, filtered_quotes = filter_quotes(artist_combined)"
   ]
  },
  {
   "cell_type": "code",
   "execution_count": 130,
   "metadata": {},
   "outputs": [
    {
     "data": {
      "text/plain": [
       "[{'quotation': \"In a corridor system, reserves in the banking system are scarce, and the Fed funds rate is set by adjusting the supply of reserves through open market operations to balance demand and supply at the FOMC's target range. In contrast, in a floor system, reserves are abundant, so that the interest rate the Fed pays on excess reserves, or IOER, is the primary tool used to control the federal funds rate. As Fed is trimming its balance sheet, the reserve is prone to be significantly lower than the level years ago. Some have raised that a return to channel system might be considered. Powell might comment on this area but we expect the Fed should maintain the current system for some time. Currently, how much the Fed would reduce its balance sheet (point 1) would also affect whether and when to adjust the system. Powell is unlikely offer more indications on the future rate hike path than what had been discussed in the June and August meetings. The Fed is set to raise the policy rate by +25 bps in September, followed by another in December. There would likely be another 4 hikes in 2019. < a href = `https://ads.actionforex.com/www/delivery/ck.php?n=a84d2a8f' target =' _ blank' > < img src = `https://ads.actionforex.com/www/delivery/avw.php?zoneid=80&n=a84d2a8f' border =' 0' alt =\",\n",
       "  'proba': '0.9489'},\n",
       " {'quotation': 'Brother (Watching).', 'proba': '0.8849'},\n",
       " {'quotation': 'yeezy. supply 00:00:06:19:52:31:01,', 'proba': '0.9097'},\n",
       " {'quotation': 'We [ are ] culture,', 'proba': '0.8829'},\n",
       " {'quotation': 'gold digger [ s ]', 'proba': '0.8359'}]"
      ]
     },
     "execution_count": 130,
     "metadata": {},
     "output_type": "execute_result"
    }
   ],
   "source": [
    "filtered_quotes[:5]"
   ]
  },
  {
   "cell_type": "markdown",
   "metadata": {},
   "source": [
    "Let's concatenante all the quotes of each speaker"
   ]
  },
  {
   "cell_type": "code",
   "execution_count": 131,
   "metadata": {},
   "outputs": [],
   "source": [
    "entrepreneur_quotes_concat = concatenate_quotes(entrepreneur_quotes)\n",
    "artist_quotes_concat = concatenate_quotes(artist_quotes)"
   ]
  },
  {
   "cell_type": "code",
   "execution_count": 132,
   "metadata": {},
   "outputs": [],
   "source": [
    "entrepreneur_quotes_df = pd.Series(entrepreneur_quotes_concat, name='quotations')\n",
    "artist_quotes_df = pd.Series(artist_quotes_concat, name='quotations')"
   ]
  },
  {
   "cell_type": "code",
   "execution_count": 133,
   "metadata": {},
   "outputs": [
    {
     "data": {
      "text/plain": [
       "Q22686      Under what pretext did Israel's survival beco...\n",
       "Q439729     Hurricane Irma is a major and life-threatenin...\n",
       "Q11702      At the outset of these talks, the Obama admin...\n",
       "Q887766     HBO is fortunate to have a lot of talented gu...\n",
       "Q5284       You know, in the software world, in particula...\n",
       "Name: quotations, dtype: object"
      ]
     },
     "execution_count": 133,
     "metadata": {},
     "output_type": "execute_result"
    }
   ],
   "source": [
    "entrepreneur_quotes_df.head()"
   ]
  },
  {
   "cell_type": "code",
   "execution_count": 134,
   "metadata": {},
   "outputs": [
    {
     "data": {
      "text/plain": [
       "Q229990      So another jump in time and history. Chris Ma...\n",
       "Q8008048     Unlike virtually all other forms of credit, s...\n",
       "Q449048      I started off as a live performer, so I suppo...\n",
       "Q7153141     We're refreshing the Independent Festival Awa...\n",
       "Q15935       We have a good -- and the thing is... let's s...\n",
       "Name: quotations, dtype: object"
      ]
     },
     "execution_count": 134,
     "metadata": {},
     "output_type": "execute_result"
    }
   ],
   "source": [
    "artist_quotes_df.head()"
   ]
  },
  {
   "cell_type": "markdown",
   "metadata": {},
   "source": [
    "Let's merge the "
   ]
  },
  {
   "cell_type": "code",
   "execution_count": 29,
   "metadata": {},
   "outputs": [],
   "source": [
    "entrepreneur_df = signi_entrepreneur_speakers.merge(entrepreneur_quotes_df, left_on='id', right_index=True, how='inner')\n",
    "artist_df = signi_artist_speakers.merge(artist_quotes_df, left_on='id', right_index=True, how='inner')"
   ]
  },
  {
   "cell_type": "code",
   "execution_count": 31,
   "metadata": {},
   "outputs": [],
   "source": [
    "entrepreneur_df[['id', 'quotations']].to_csv('data/entrepreneur_quotes.csv', index=False)\n",
    "artist_df[['id', 'quotations']].to_csv('data/artist_quotes.csv', index=False)"
   ]
  },
  {
   "cell_type": "markdown",
   "metadata": {},
   "source": [
    "The above generated csv file will be used as input to the LIWC software to generate LIWC word category values for each speaker"
   ]
  },
  {
   "cell_type": "code",
   "execution_count": 22,
   "metadata": {},
   "outputs": [],
   "source": [
    "\n",
    "entrepreneur_quotes_liwc = pd.read_csv('data/entrepreneurs_liwc.csv')\n",
    "artist_quotes_liwc = pd.read_csv('data/artists_liwc.csv')"
   ]
  },
  {
   "cell_type": "code",
   "execution_count": 23,
   "metadata": {},
   "outputs": [
    {
     "data": {
      "text/html": [
       "<div>\n",
       "<style scoped>\n",
       "    .dataframe tbody tr th:only-of-type {\n",
       "        vertical-align: middle;\n",
       "    }\n",
       "\n",
       "    .dataframe tbody tr th {\n",
       "        vertical-align: top;\n",
       "    }\n",
       "\n",
       "    .dataframe thead th {\n",
       "        text-align: right;\n",
       "    }\n",
       "</style>\n",
       "<table border=\"1\" class=\"dataframe\">\n",
       "  <thead>\n",
       "    <tr style=\"text-align: right;\">\n",
       "      <th></th>\n",
       "      <th>Source (A)</th>\n",
       "      <th>Source (B)</th>\n",
       "      <th>WC</th>\n",
       "      <th>WPS</th>\n",
       "      <th>Sixltr</th>\n",
       "      <th>Dic</th>\n",
       "      <th>Pronoun</th>\n",
       "      <th>I</th>\n",
       "      <th>We</th>\n",
       "      <th>Self</th>\n",
       "      <th>...</th>\n",
       "      <th>Comma</th>\n",
       "      <th>Colon</th>\n",
       "      <th>SemiC</th>\n",
       "      <th>QMark</th>\n",
       "      <th>Exclam</th>\n",
       "      <th>Dash</th>\n",
       "      <th>Quote</th>\n",
       "      <th>Apostro</th>\n",
       "      <th>Parenth</th>\n",
       "      <th>OtherP</th>\n",
       "    </tr>\n",
       "  </thead>\n",
       "  <tbody>\n",
       "    <tr>\n",
       "      <th>0</th>\n",
       "      <td>Q22686</td>\n",
       "      <td>Under what pretext did Israel's survival beco...</td>\n",
       "      <td>804</td>\n",
       "      <td>25.12</td>\n",
       "      <td>29.60</td>\n",
       "      <td>60.45</td>\n",
       "      <td>3.86</td>\n",
       "      <td>0.00</td>\n",
       "      <td>0.50</td>\n",
       "      <td>0.50</td>\n",
       "      <td>...</td>\n",
       "      <td>3.23</td>\n",
       "      <td>0.00</td>\n",
       "      <td>0.0</td>\n",
       "      <td>0.50</td>\n",
       "      <td>0.00</td>\n",
       "      <td>1.87</td>\n",
       "      <td>0.0</td>\n",
       "      <td>1.00</td>\n",
       "      <td>0.00</td>\n",
       "      <td>0.12</td>\n",
       "    </tr>\n",
       "    <tr>\n",
       "      <th>1</th>\n",
       "      <td>Q317521</td>\n",
       "      <td>Earlier today, I announced that I'm consideri...</td>\n",
       "      <td>894</td>\n",
       "      <td>15.41</td>\n",
       "      <td>21.03</td>\n",
       "      <td>62.64</td>\n",
       "      <td>5.59</td>\n",
       "      <td>0.78</td>\n",
       "      <td>2.13</td>\n",
       "      <td>2.91</td>\n",
       "      <td>...</td>\n",
       "      <td>7.27</td>\n",
       "      <td>0.11</td>\n",
       "      <td>0.0</td>\n",
       "      <td>0.00</td>\n",
       "      <td>0.00</td>\n",
       "      <td>2.46</td>\n",
       "      <td>0.0</td>\n",
       "      <td>2.24</td>\n",
       "      <td>0.22</td>\n",
       "      <td>0.56</td>\n",
       "    </tr>\n",
       "    <tr>\n",
       "      <th>2</th>\n",
       "      <td>Q927550</td>\n",
       "      <td>This is a guy who goes out to work sites and ...</td>\n",
       "      <td>874</td>\n",
       "      <td>19.00</td>\n",
       "      <td>20.14</td>\n",
       "      <td>71.85</td>\n",
       "      <td>9.38</td>\n",
       "      <td>0.92</td>\n",
       "      <td>1.72</td>\n",
       "      <td>2.63</td>\n",
       "      <td>...</td>\n",
       "      <td>5.49</td>\n",
       "      <td>0.11</td>\n",
       "      <td>0.0</td>\n",
       "      <td>0.11</td>\n",
       "      <td>0.00</td>\n",
       "      <td>2.06</td>\n",
       "      <td>0.0</td>\n",
       "      <td>3.09</td>\n",
       "      <td>0.23</td>\n",
       "      <td>0.69</td>\n",
       "    </tr>\n",
       "    <tr>\n",
       "      <th>3</th>\n",
       "      <td>Q36215</td>\n",
       "      <td>I spent today in Delaware discussing emergenc...</td>\n",
       "      <td>852</td>\n",
       "      <td>18.13</td>\n",
       "      <td>22.65</td>\n",
       "      <td>68.90</td>\n",
       "      <td>10.09</td>\n",
       "      <td>1.64</td>\n",
       "      <td>4.69</td>\n",
       "      <td>6.34</td>\n",
       "      <td>...</td>\n",
       "      <td>3.05</td>\n",
       "      <td>0.12</td>\n",
       "      <td>0.0</td>\n",
       "      <td>0.00</td>\n",
       "      <td>0.00</td>\n",
       "      <td>2.23</td>\n",
       "      <td>0.0</td>\n",
       "      <td>2.11</td>\n",
       "      <td>0.23</td>\n",
       "      <td>0.23</td>\n",
       "    </tr>\n",
       "    <tr>\n",
       "      <th>4</th>\n",
       "      <td>Q186304</td>\n",
       "      <td>Hey, guys. I wanted to write a post elaborati...</td>\n",
       "      <td>915</td>\n",
       "      <td>16.34</td>\n",
       "      <td>18.14</td>\n",
       "      <td>73.77</td>\n",
       "      <td>13.88</td>\n",
       "      <td>7.32</td>\n",
       "      <td>0.66</td>\n",
       "      <td>7.98</td>\n",
       "      <td>...</td>\n",
       "      <td>3.83</td>\n",
       "      <td>1.09</td>\n",
       "      <td>0.0</td>\n",
       "      <td>0.33</td>\n",
       "      <td>0.22</td>\n",
       "      <td>1.97</td>\n",
       "      <td>0.0</td>\n",
       "      <td>1.97</td>\n",
       "      <td>0.44</td>\n",
       "      <td>0.66</td>\n",
       "    </tr>\n",
       "  </tbody>\n",
       "</table>\n",
       "<p>5 rows × 86 columns</p>\n",
       "</div>"
      ],
      "text/plain": [
       "  Source (A)                                         Source (B)   WC    WPS  \\\n",
       "0     Q22686   Under what pretext did Israel's survival beco...  804  25.12   \n",
       "1    Q317521   Earlier today, I announced that I'm consideri...  894  15.41   \n",
       "2    Q927550   This is a guy who goes out to work sites and ...  874  19.00   \n",
       "3     Q36215   I spent today in Delaware discussing emergenc...  852  18.13   \n",
       "4    Q186304   Hey, guys. I wanted to write a post elaborati...  915  16.34   \n",
       "\n",
       "   Sixltr    Dic  Pronoun     I    We  Self  ...  Comma  Colon  SemiC  QMark  \\\n",
       "0   29.60  60.45     3.86  0.00  0.50  0.50  ...   3.23   0.00    0.0   0.50   \n",
       "1   21.03  62.64     5.59  0.78  2.13  2.91  ...   7.27   0.11    0.0   0.00   \n",
       "2   20.14  71.85     9.38  0.92  1.72  2.63  ...   5.49   0.11    0.0   0.11   \n",
       "3   22.65  68.90    10.09  1.64  4.69  6.34  ...   3.05   0.12    0.0   0.00   \n",
       "4   18.14  73.77    13.88  7.32  0.66  7.98  ...   3.83   1.09    0.0   0.33   \n",
       "\n",
       "   Exclam  Dash  Quote  Apostro  Parenth  OtherP  \n",
       "0    0.00  1.87    0.0     1.00     0.00    0.12  \n",
       "1    0.00  2.46    0.0     2.24     0.22    0.56  \n",
       "2    0.00  2.06    0.0     3.09     0.23    0.69  \n",
       "3    0.00  2.23    0.0     2.11     0.23    0.23  \n",
       "4    0.22  1.97    0.0     1.97     0.44    0.66  \n",
       "\n",
       "[5 rows x 86 columns]"
      ]
     },
     "execution_count": 23,
     "metadata": {},
     "output_type": "execute_result"
    }
   ],
   "source": [
    "entrepreneur_quotes_liwc.head()"
   ]
  },
  {
   "cell_type": "code",
   "execution_count": 24,
   "metadata": {},
   "outputs": [
    {
     "data": {
      "text/html": [
       "<div>\n",
       "<style scoped>\n",
       "    .dataframe tbody tr th:only-of-type {\n",
       "        vertical-align: middle;\n",
       "    }\n",
       "\n",
       "    .dataframe tbody tr th {\n",
       "        vertical-align: top;\n",
       "    }\n",
       "\n",
       "    .dataframe thead th {\n",
       "        text-align: right;\n",
       "    }\n",
       "</style>\n",
       "<table border=\"1\" class=\"dataframe\">\n",
       "  <thead>\n",
       "    <tr style=\"text-align: right;\">\n",
       "      <th></th>\n",
       "      <th>Source (A)</th>\n",
       "      <th>Source (B)</th>\n",
       "      <th>WC</th>\n",
       "      <th>WPS</th>\n",
       "      <th>Sixltr</th>\n",
       "      <th>Dic</th>\n",
       "      <th>Pronoun</th>\n",
       "      <th>I</th>\n",
       "      <th>We</th>\n",
       "      <th>Self</th>\n",
       "      <th>...</th>\n",
       "      <th>Comma</th>\n",
       "      <th>Colon</th>\n",
       "      <th>SemiC</th>\n",
       "      <th>QMark</th>\n",
       "      <th>Exclam</th>\n",
       "      <th>Dash</th>\n",
       "      <th>Quote</th>\n",
       "      <th>Apostro</th>\n",
       "      <th>Parenth</th>\n",
       "      <th>OtherP</th>\n",
       "    </tr>\n",
       "  </thead>\n",
       "  <tbody>\n",
       "    <tr>\n",
       "      <th>0</th>\n",
       "      <td>Q15935</td>\n",
       "      <td>We have a good -- and the thing is... let's s...</td>\n",
       "      <td>940</td>\n",
       "      <td>14.03</td>\n",
       "      <td>15.11</td>\n",
       "      <td>76.91</td>\n",
       "      <td>13.30</td>\n",
       "      <td>4.57</td>\n",
       "      <td>3.51</td>\n",
       "      <td>8.09</td>\n",
       "      <td>...</td>\n",
       "      <td>5.64</td>\n",
       "      <td>0.0</td>\n",
       "      <td>0.32</td>\n",
       "      <td>0.64</td>\n",
       "      <td>0.32</td>\n",
       "      <td>1.28</td>\n",
       "      <td>0.0</td>\n",
       "      <td>5.00</td>\n",
       "      <td>0.0</td>\n",
       "      <td>1.70</td>\n",
       "    </tr>\n",
       "    <tr>\n",
       "      <th>1</th>\n",
       "      <td>Q11894443</td>\n",
       "      <td>help, my family needs rescue right now, so - ...</td>\n",
       "      <td>880</td>\n",
       "      <td>20.47</td>\n",
       "      <td>18.07</td>\n",
       "      <td>66.25</td>\n",
       "      <td>8.75</td>\n",
       "      <td>2.27</td>\n",
       "      <td>1.93</td>\n",
       "      <td>4.20</td>\n",
       "      <td>...</td>\n",
       "      <td>5.11</td>\n",
       "      <td>0.8</td>\n",
       "      <td>0.00</td>\n",
       "      <td>0.23</td>\n",
       "      <td>0.00</td>\n",
       "      <td>10.91</td>\n",
       "      <td>0.0</td>\n",
       "      <td>3.07</td>\n",
       "      <td>0.0</td>\n",
       "      <td>0.45</td>\n",
       "    </tr>\n",
       "    <tr>\n",
       "      <th>2</th>\n",
       "      <td>Q162202</td>\n",
       "      <td>When someone says how they feel they're not a...</td>\n",
       "      <td>987</td>\n",
       "      <td>14.10</td>\n",
       "      <td>9.52</td>\n",
       "      <td>81.76</td>\n",
       "      <td>17.53</td>\n",
       "      <td>9.22</td>\n",
       "      <td>0.81</td>\n",
       "      <td>10.03</td>\n",
       "      <td>...</td>\n",
       "      <td>5.47</td>\n",
       "      <td>0.0</td>\n",
       "      <td>0.00</td>\n",
       "      <td>0.30</td>\n",
       "      <td>0.00</td>\n",
       "      <td>1.11</td>\n",
       "      <td>0.0</td>\n",
       "      <td>6.99</td>\n",
       "      <td>0.0</td>\n",
       "      <td>1.93</td>\n",
       "    </tr>\n",
       "    <tr>\n",
       "      <th>3</th>\n",
       "      <td>Q15454606</td>\n",
       "      <td>It is worth remembering that the millions of ...</td>\n",
       "      <td>929</td>\n",
       "      <td>20.20</td>\n",
       "      <td>16.04</td>\n",
       "      <td>75.24</td>\n",
       "      <td>11.73</td>\n",
       "      <td>3.12</td>\n",
       "      <td>2.37</td>\n",
       "      <td>5.49</td>\n",
       "      <td>...</td>\n",
       "      <td>4.20</td>\n",
       "      <td>0.0</td>\n",
       "      <td>0.11</td>\n",
       "      <td>0.11</td>\n",
       "      <td>0.32</td>\n",
       "      <td>0.54</td>\n",
       "      <td>0.0</td>\n",
       "      <td>1.94</td>\n",
       "      <td>0.0</td>\n",
       "      <td>0.11</td>\n",
       "    </tr>\n",
       "    <tr>\n",
       "      <th>4</th>\n",
       "      <td>Q15459993</td>\n",
       "      <td>We promise this year's Berkeley Heights Stree...</td>\n",
       "      <td>897</td>\n",
       "      <td>25.63</td>\n",
       "      <td>18.95</td>\n",
       "      <td>69.57</td>\n",
       "      <td>10.93</td>\n",
       "      <td>1.23</td>\n",
       "      <td>3.68</td>\n",
       "      <td>4.91</td>\n",
       "      <td>...</td>\n",
       "      <td>5.80</td>\n",
       "      <td>0.0</td>\n",
       "      <td>0.22</td>\n",
       "      <td>0.11</td>\n",
       "      <td>0.22</td>\n",
       "      <td>0.11</td>\n",
       "      <td>0.0</td>\n",
       "      <td>3.68</td>\n",
       "      <td>0.0</td>\n",
       "      <td>0.89</td>\n",
       "    </tr>\n",
       "  </tbody>\n",
       "</table>\n",
       "<p>5 rows × 86 columns</p>\n",
       "</div>"
      ],
      "text/plain": [
       "  Source (A)                                         Source (B)   WC    WPS  \\\n",
       "0     Q15935   We have a good -- and the thing is... let's s...  940  14.03   \n",
       "1  Q11894443   help, my family needs rescue right now, so - ...  880  20.47   \n",
       "2    Q162202   When someone says how they feel they're not a...  987  14.10   \n",
       "3  Q15454606   It is worth remembering that the millions of ...  929  20.20   \n",
       "4  Q15459993   We promise this year's Berkeley Heights Stree...  897  25.63   \n",
       "\n",
       "   Sixltr    Dic  Pronoun     I    We   Self  ...  Comma  Colon  SemiC  QMark  \\\n",
       "0   15.11  76.91    13.30  4.57  3.51   8.09  ...   5.64    0.0   0.32   0.64   \n",
       "1   18.07  66.25     8.75  2.27  1.93   4.20  ...   5.11    0.8   0.00   0.23   \n",
       "2    9.52  81.76    17.53  9.22  0.81  10.03  ...   5.47    0.0   0.00   0.30   \n",
       "3   16.04  75.24    11.73  3.12  2.37   5.49  ...   4.20    0.0   0.11   0.11   \n",
       "4   18.95  69.57    10.93  1.23  3.68   4.91  ...   5.80    0.0   0.22   0.11   \n",
       "\n",
       "   Exclam   Dash  Quote  Apostro  Parenth  OtherP  \n",
       "0    0.32   1.28    0.0     5.00      0.0    1.70  \n",
       "1    0.00  10.91    0.0     3.07      0.0    0.45  \n",
       "2    0.00   1.11    0.0     6.99      0.0    1.93  \n",
       "3    0.32   0.54    0.0     1.94      0.0    0.11  \n",
       "4    0.22   0.11    0.0     3.68      0.0    0.89  \n",
       "\n",
       "[5 rows x 86 columns]"
      ]
     },
     "execution_count": 24,
     "metadata": {},
     "output_type": "execute_result"
    }
   ],
   "source": [
    "artist_quotes_liwc.head()"
   ]
  },
  {
   "cell_type": "markdown",
   "metadata": {},
   "source": [
    "We use predict_personality function to get the LIWC personality values for each speaker. This function computes personality scores based on the LIWC features. It essentially multiplies the matrix of normalized LIWC features with the matrix of correlations between LIWC and Big-Five personality types."
   ]
  },
  {
   "cell_type": "code",
   "execution_count": 6,
   "metadata": {},
   "outputs": [],
   "source": [
    "entrepreneur_personality = predict_personality(entrepreneur_quotes_liwc)\n",
    "artist_personality = predict_personality(artist_quotes_liwc)"
   ]
  },
  {
   "cell_type": "markdown",
   "metadata": {},
   "source": [
    "Since the each personality type values are of different range, we need to standardize it."
   ]
  },
  {
   "cell_type": "code",
   "execution_count": 7,
   "metadata": {},
   "outputs": [],
   "source": [
    "personality_append = entrepreneur_personality.append(artist_personality)"
   ]
  },
  {
   "cell_type": "code",
   "execution_count": 8,
   "metadata": {},
   "outputs": [],
   "source": [
    "personality_append_norm = (personality_append - personality_append.mean())/personality_append.std()"
   ]
  },
  {
   "cell_type": "code",
   "execution_count": 9,
   "metadata": {},
   "outputs": [],
   "source": [
    "entrepreneur_personality_norm = personality_append_norm[:100]\n",
    "artist_personality_norm = personality_append_norm[100:]"
   ]
  },
  {
   "cell_type": "markdown",
   "metadata": {},
   "source": [
    "To agregate the personality values for all the speakers, let's take the median accross personality types for both entrepreneurs and artists"
   ]
  },
  {
   "cell_type": "code",
   "execution_count": 10,
   "metadata": {},
   "outputs": [],
   "source": [
    "overall_entrepreneur_personality = entrepreneur_personality_norm.median(axis=0)\n",
    "overall_artist_personality = artist_personality_norm.median(axis=0)"
   ]
  },
  {
   "cell_type": "code",
   "execution_count": 11,
   "metadata": {},
   "outputs": [],
   "source": [
    "overall_personality = pd.DataFrame([overall_entrepreneur_personality, overall_artist_personality], index=['Entrepreneur', 'Artist'])"
   ]
  },
  {
   "cell_type": "code",
   "execution_count": 12,
   "metadata": {},
   "outputs": [
    {
     "data": {
      "text/html": [
       "<div>\n",
       "<style scoped>\n",
       "    .dataframe tbody tr th:only-of-type {\n",
       "        vertical-align: middle;\n",
       "    }\n",
       "\n",
       "    .dataframe tbody tr th {\n",
       "        vertical-align: top;\n",
       "    }\n",
       "\n",
       "    .dataframe thead th {\n",
       "        text-align: right;\n",
       "    }\n",
       "</style>\n",
       "<table border=\"1\" class=\"dataframe\">\n",
       "  <thead>\n",
       "    <tr style=\"text-align: right;\">\n",
       "      <th></th>\n",
       "      <th>neuroticism</th>\n",
       "      <th>anxiety</th>\n",
       "      <th>hostility</th>\n",
       "      <th>depression</th>\n",
       "      <th>self_consciousness</th>\n",
       "      <th>immoderation</th>\n",
       "      <th>vulnerability</th>\n",
       "      <th>extraversion</th>\n",
       "      <th>friendliness</th>\n",
       "      <th>gregariousness</th>\n",
       "      <th>...</th>\n",
       "      <th>cooperation</th>\n",
       "      <th>modesty</th>\n",
       "      <th>sympathy</th>\n",
       "      <th>conscientiousness</th>\n",
       "      <th>self_efficacy</th>\n",
       "      <th>orderliness</th>\n",
       "      <th>dutifulness</th>\n",
       "      <th>achievement_striving</th>\n",
       "      <th>self_discipline</th>\n",
       "      <th>cautiousness</th>\n",
       "    </tr>\n",
       "  </thead>\n",
       "  <tbody>\n",
       "    <tr>\n",
       "      <th>Entrepreneur</th>\n",
       "      <td>-0.161089</td>\n",
       "      <td>0.020382</td>\n",
       "      <td>-0.125862</td>\n",
       "      <td>0.101123</td>\n",
       "      <td>-0.030575</td>\n",
       "      <td>-0.043005</td>\n",
       "      <td>-0.165429</td>\n",
       "      <td>0.066137</td>\n",
       "      <td>-0.163148</td>\n",
       "      <td>0.118551</td>\n",
       "      <td>...</td>\n",
       "      <td>-0.217580</td>\n",
       "      <td>0.069731</td>\n",
       "      <td>-0.036894</td>\n",
       "      <td>-0.027622</td>\n",
       "      <td>-0.158546</td>\n",
       "      <td>0.029966</td>\n",
       "      <td>0.004920</td>\n",
       "      <td>-0.058610</td>\n",
       "      <td>-0.116828</td>\n",
       "      <td>-0.104364</td>\n",
       "    </tr>\n",
       "    <tr>\n",
       "      <th>Artist</th>\n",
       "      <td>0.049351</td>\n",
       "      <td>-0.154439</td>\n",
       "      <td>0.117111</td>\n",
       "      <td>0.082366</td>\n",
       "      <td>0.186375</td>\n",
       "      <td>-0.068750</td>\n",
       "      <td>-0.073763</td>\n",
       "      <td>0.080431</td>\n",
       "      <td>0.034984</td>\n",
       "      <td>0.012250</td>\n",
       "      <td>...</td>\n",
       "      <td>-0.164761</td>\n",
       "      <td>-0.293342</td>\n",
       "      <td>0.056455</td>\n",
       "      <td>-0.134870</td>\n",
       "      <td>-0.038409</td>\n",
       "      <td>-0.088513</td>\n",
       "      <td>0.039683</td>\n",
       "      <td>-0.122039</td>\n",
       "      <td>-0.246958</td>\n",
       "      <td>-0.024127</td>\n",
       "    </tr>\n",
       "  </tbody>\n",
       "</table>\n",
       "<p>2 rows × 35 columns</p>\n",
       "</div>"
      ],
      "text/plain": [
       "              neuroticism   anxiety  hostility  depression  \\\n",
       "Entrepreneur    -0.161089  0.020382  -0.125862    0.101123   \n",
       "Artist           0.049351 -0.154439   0.117111    0.082366   \n",
       "\n",
       "              self_consciousness  immoderation  vulnerability  extraversion  \\\n",
       "Entrepreneur           -0.030575     -0.043005      -0.165429      0.066137   \n",
       "Artist                  0.186375     -0.068750      -0.073763      0.080431   \n",
       "\n",
       "              friendliness  gregariousness  ...  cooperation   modesty  \\\n",
       "Entrepreneur     -0.163148        0.118551  ...    -0.217580  0.069731   \n",
       "Artist            0.034984        0.012250  ...    -0.164761 -0.293342   \n",
       "\n",
       "              sympathy  conscientiousness  self_efficacy  orderliness  \\\n",
       "Entrepreneur -0.036894          -0.027622      -0.158546     0.029966   \n",
       "Artist        0.056455          -0.134870      -0.038409    -0.088513   \n",
       "\n",
       "              dutifulness  achievement_striving  self_discipline  cautiousness  \n",
       "Entrepreneur     0.004920             -0.058610        -0.116828     -0.104364  \n",
       "Artist           0.039683             -0.122039        -0.246958     -0.024127  \n",
       "\n",
       "[2 rows x 35 columns]"
      ]
     },
     "execution_count": 12,
     "metadata": {},
     "output_type": "execute_result"
    }
   ],
   "source": [
    "overall_personality"
   ]
  },
  {
   "cell_type": "code",
   "execution_count": 13,
   "metadata": {},
   "outputs": [
    {
     "data": {
      "text/plain": [
       "<AxesSubplot:>"
      ]
     },
     "execution_count": 13,
     "metadata": {},
     "output_type": "execute_result"
    },
    {
     "data": {
      "image/png": "[encoded data removed]",
      "text/plain": [
       "<Figure size 2160x720 with 2 Axes>"
      ]
     },
     "metadata": {},
     "output_type": "display_data"
    }
   ],
   "source": [
    "import seaborn as sns\n",
    "import matplotlib.pyplot as plt\n",
    "\n",
    "fig, ax = plt.subplots(figsize=(30,10))\n",
    "sns.heatmap(overall_personality, ax=ax, annot=True, cmap='RdYlBu')"
   ]
  },
  {
   "cell_type": "markdown",
   "metadata": {},
   "source": [
    "Since these values varies differently, to truely understand how similar entrepreneurs and artists are let's plot the distribution of the their personality types"
   ]
  },
  {
   "cell_type": "code",
   "execution_count": 14,
   "metadata": {},
   "outputs": [],
   "source": [
    "entrepreneur_personality_n = entrepreneur_personality_norm.copy()\n",
    "artist_personality_n = artist_personality_norm.copy()\n",
    "entrepreneur_personality_n['occupation'] = 'entrepreneur'\n",
    "artist_personality_n['occupation'] = 'artist'\n",
    "entrepreneur_artist_personality = pd.concat([entrepreneur_personality_n, artist_personality_n]).reset_index()"
   ]
  },
  {
   "cell_type": "code",
   "execution_count": 21,
   "metadata": {},
   "outputs": [
    {
     "data": {
      "image/png": "[encoded data removed]",
      "text/plain": [
       "<Figure size 461.625x360 with 1 Axes>"
      ]
     },
     "metadata": {},
     "output_type": "display_data"
    },
    {
     "data": {
      "image/png": "[encoded data removed]",
      "text/plain": [
       "<Figure size 461.625x360 with 1 Axes>"
      ]
     },
     "metadata": {},
     "output_type": "display_data"
    },
    {
     "data": {
      "image/png": "[encoded data removed]",
      "text/plain": [
       "<Figure size 461.625x360 with 1 Axes>"
      ]
     },
     "metadata": {},
     "output_type": "display_data"
    },
    {
     "data": {
      "image/png": "[encoded data removed]",
      "text/plain": [
       "<Figure size 461.625x360 with 1 Axes>"
      ]
     },
     "metadata": {},
     "output_type": "display_data"
    },
    {
     "data": {
      "image/png": "[encoded data removed]",
      "text/plain": [
       "<Figure size 461.625x360 with 1 Axes>"
      ]
     },
     "metadata": {},
     "output_type": "display_data"
    }
   ],
   "source": [
    "for i, attr in enumerate(BIG_FIVE):\n",
    "    sns.displot(entrepreneur_artist_personality, x=attr, hue='occupation', kind='kde')"
   ]
  },
  {
   "cell_type": "markdown",
   "metadata": {},
   "source": [
    "The similarity in the distribution of big five personality values for artists and entrepreneurs show that artists and entrepreneurs are similar. However, let's check if the similarity hypothesis is signifincant."
   ]
  },
  {
   "cell_type": "code",
   "execution_count": 31,
   "metadata": {},
   "outputs": [
    {
     "name": "stdout",
     "output_type": "stream",
     "text": [
      "P value of neuroticism: 0.9530794532932345\n",
      "P value of extraversion: 0.9854531053697491\n",
      "P value of agreeableness: 0.7727169450769584\n",
      "P value of conscientiousness: 0.49293038202461803\n",
      "P value of openness: 0.7214078159177895\n"
     ]
    }
   ],
   "source": [
    "for per in BIG_FIVE:\n",
    "    res = stats.ttest_ind(entrepreneur_personality_norm[per], artist_personality_norm[per])\n",
    "    print(f'P value for {per}: {res[1]}')"
   ]
  },
  {
   "cell_type": "markdown",
   "metadata": {},
   "source": [
    "The signifince test shows that the personality values for artists and entrepreneurs are similar.\n",
    "\n",
    "The research also shows that Artists score higher in emotionality and agreeableness at the same time entrepreneurs score higher in self-efficasy and extraversion. Our analysis agrees with the research in emotionality and agreeableness values. However, it also shows that artists again scores higher in self-efficasy and extraversion. To check the significance of these values, we did hypothesis testing on them. "
   ]
  },
  {
   "cell_type": "code",
   "execution_count": 32,
   "metadata": {},
   "outputs": [
    {
     "name": "stdout",
     "output_type": "stream",
     "text": [
      "P value for emotionality: 0.5096274934266474\n",
      "P value for extraversion: 0.9854531053697491\n",
      "P value for self_efficacy: 0.7668010126844118\n",
      "P value for agreeableness: 0.7727169450769584\n"
     ]
    }
   ],
   "source": [
    "for per in ['emotionality', 'extraversion', 'self_efficacy', 'agreeableness']:\n",
    "    res = stats.ttest_ind(entrepreneur_personality_norm[per], artist_personality_norm[per])\n",
    "    print(f'P value for {per}: {res[1]}')"
   ]
  },
  {
   "cell_type": "markdown",
   "metadata": {},
   "source": [
    "t test on theses values show that the difference is not significant. Which means that there is no significant difference in personality of artists and entrepreneurs."
   ]
  }
 ],
 "metadata": {
  "interpreter": {
   "hash": "7a2c4b191d1ae843dde5cb5f4d1f62fa892f6b79b0f9392a84691e890e33c5a4"
  },
  "kernelspec": {
   "display_name": "Python 3.8.10 64-bit ('miniconda3': virtualenv)",
   "language": "python",
   "name": "python3"
  },
  "language_info": {
   "codemirror_mode": {
    "name": "ipython",
    "version": 3
   },
   "file_extension": ".py",
   "mimetype": "text/x-python",
   "name": "python",
   "nbconvert_exporter": "python",
   "pygments_lexer": "ipython3",
   "version": "3.8.10"
  },
  "orig_nbformat": 4
 },
 "nbformat": 4,
 "nbformat_minor": 2
}
