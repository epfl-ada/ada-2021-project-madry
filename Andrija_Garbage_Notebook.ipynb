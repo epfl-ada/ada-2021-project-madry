{
 "cells": [
  {
   "cell_type": "markdown",
   "id": "3ba2fd8a-4d16-4d54-85d0-631343db2fcb",
   "metadata": {},
   "source": [
    "# README"
   ]
  },
  {
   "cell_type": "markdown",
   "id": "6c2eb92e-d976-4240-a6a8-b1b537ea8c71",
   "metadata": {},
   "source": [
    "There is a lot of junk code in here, will clean up in the next commit.\n",
    "You don't need to run most, if any, code from here.\n",
    "The accompanying files are the important part of the commit.\n",
    "The commit includes the following files:\n",
    "<ul>\n",
    "    <li>[signi-quote-count-2015_1636244638891.json,\n",
    "    signi-quote-count-2016_1636246832187.json,\n",
    "    signi-quote-count-2017_1636249273913.json,\n",
    "    signi-quote-count-2018_1636250518608.json,\n",
    "    signi-quote-count-2019_1636251729971.json,\n",
    "    signi-quote-count-2020_1636237785105.json] - these files contain the number of significant quotes every speaker has for each year. A quote is classified as significant if quotemaster predicts the speaker with a certainty higher than 80%.</li>\n",
    "    <li>signi-quote-count-combined_1636253317430.json - the combined counts of significant quotes over all of the years from 2015-2020</li>\n",
    "    <li>american_politicians_fixed.json - contains the wiki data for all US politicians that are or have been members of the Democratic or Republican party. Only people that were alive for at least the start of 2015 have been included.</li>\n",
    "    <li>top100_politicians_by_party.json - Contains the wiki data for the 100 most quoted politicians (from the previous file) from each of the parties</li>\n",
    "    <li>[politician-quotes-2015_1636331534906.json,\n",
    "    politician-quotes-2016_1636332058163.json,\n",
    "    politician-quotes-2017_1636333168732.json,\n",
    "    politician-quotes-2018_1636334221167.json,\n",
    "    politician-quotes-2019_1636335010497.json,\n",
    "    politician-quotes-2020_1636330658142.json] - these files contain the significant quotes of US politicians for each year.</li>\n",
    "    <li>politician-quotes-combined_1636336204264.json - the significant quotes of US politicians combined over all of the years from 2015-2020. Combined with wiki data of the speakers.</li>\n",
    "    <li>politician-quotes-concatenated_1636337344442.json - the significant quotes of US politicians from all of the years from 2015-2020. All quotes are combined into a single string, only the 1000 longest significant quotes were used for each politician. Combined with wiki data of the speakers.</li>\n",
    "</ul>"
   ]
  },
  {
   "cell_type": "code",
   "execution_count": 1,
   "id": "1d4600e5-0346-412e-91c8-4a057e94a843",
   "metadata": {},
   "outputs": [],
   "source": [
    "import bz2\n",
    "import json"
   ]
  },
  {
   "cell_type": "code",
   "execution_count": 2,
   "id": "937e4651-dc25-410f-bf24-1d0d4ea0af43",
   "metadata": {},
   "outputs": [],
   "source": [
    "PATH_TO_INPUT = \"quotes-2020.json.bz2\"\n",
    "PATH_TO_OUT = \"test-out-2020.json\"\n",
    "\n",
    "PATTERN_INPUT = \"quotes-{}.json.bz2\""
   ]
  },
  {
   "cell_type": "code",
   "execution_count": 3,
   "id": "debe61d9-eed0-47e7-ab4d-690fbb7efb61",
   "metadata": {},
   "outputs": [],
   "source": [
    "signi_count = 0"
   ]
  },
  {
   "cell_type": "code",
   "execution_count": 4,
   "id": "ad5e5384-41cc-4837-9640-05c6e05a6807",
   "metadata": {
    "tags": []
   },
   "outputs": [],
   "source": [
    "signi_quote_dict = {}"
   ]
  },
  {
   "cell_type": "code",
   "execution_count": 5,
   "id": "3597c1e1-2632-4aef-bd57-ecb0a7cac30a",
   "metadata": {},
   "outputs": [],
   "source": [
    "poli_quotes = {}\n",
    "poli_people = set()"
   ]
  },
  {
   "cell_type": "code",
   "execution_count": 6,
   "id": "b16ad8c5-072f-41cd-9310-a7a367f0eb64",
   "metadata": {},
   "outputs": [],
   "source": [
    "def iterate_through_quotes(path_to_input, path_to_out, fun_pre, fun_pre_it, fun_it, fun_post_it, fun_post):\n",
    "    with bz2.open(path_to_input, 'rb') as in_file:\n",
    "#         with bz2.open(PATH_TO_OUT, 'wb') as out_file:\n",
    "        with open(path_to_out, 'wb') as out_file:\n",
    "            fun_pre(out_file)\n",
    "\n",
    "            i = 0\n",
    "            for row in in_file:\n",
    "                row = json.loads(row)\n",
    "                fun_pre_it(out_file, row)\n",
    "                fun_it(out_file, row)\n",
    "                if fun_post_it(out_file, row, i):\n",
    "                    break\n",
    "                i += 1\n",
    "\n",
    "            fun_post(out_file)"
   ]
  },
  {
   "cell_type": "code",
   "execution_count": 7,
   "id": "357214eb-25b7-4667-a193-a7e32a0fa3f6",
   "metadata": {},
   "outputs": [],
   "source": [
    "def iterate_through_quotes_2(path_to_input, path_to_out, fun_pre, fun_pre_it, fun_it, fun_post_it, fun_post):\n",
    "    with bz2.open(path_to_input, 'rb') as in_file:\n",
    "        out_file = {}\n",
    "        fun_pre(out_file)\n",
    "\n",
    "        i = 0\n",
    "        for row in in_file:\n",
    "            row = json.loads(row)\n",
    "            fun_pre_it(out_file, row)\n",
    "            fun_it(out_file, row)\n",
    "            if fun_post_it(out_file, row, i):\n",
    "                break\n",
    "            i += 1\n",
    "\n",
    "        fun_post(out_file)"
   ]
  },
  {
   "cell_type": "code",
   "execution_count": 8,
   "id": "b53639f0-0d71-4fdc-86c3-86c9a677407d",
   "metadata": {},
   "outputs": [],
   "source": [
    "def open_json(out_file):\n",
    "    out_file.write('[\\n'.encode('utf-8'))"
   ]
  },
  {
   "cell_type": "code",
   "execution_count": 9,
   "id": "77233199-7619-4f5e-93dc-a6c81157277b",
   "metadata": {},
   "outputs": [],
   "source": [
    "def initialize(out_file):\n",
    "    global signi_count\n",
    "    global signi_quote_dict\n",
    "    signi_count = 0\n",
    "    signi_quote_dict = {}"
   ]
  },
  {
   "cell_type": "code",
   "execution_count": 10,
   "id": "295b116f-155b-4867-8de3-3c44a9fa9c74",
   "metadata": {},
   "outputs": [],
   "source": [
    "def poli_initialize(out_file):\n",
    "    global poli_quotes\n",
    "    global poli_people\n",
    "    global dem_list\n",
    "    global rep_list\n",
    "    \n",
    "    poli_quotes = {}\n",
    "    poli_people = set()\n",
    "    \n",
    "    for v in dem_list:\n",
    "        poli_people.add(v['item'])\n",
    "    for v in rep_list:\n",
    "        poli_people.add(v['item'])"
   ]
  },
  {
   "cell_type": "code",
   "execution_count": 11,
   "id": "cbcbae14-94d9-40d6-b5ca-04a492053a02",
   "metadata": {},
   "outputs": [],
   "source": [
    "def open_json_and_initialize(out_file):\n",
    "    open_json(out_file)\n",
    "    initialize(out_file)"
   ]
  },
  {
   "cell_type": "code",
   "execution_count": 12,
   "id": "8ce8eef2-caf1-4a88-a9b8-84a6b7d1d926",
   "metadata": {},
   "outputs": [],
   "source": [
    "def close_json(out_file):\n",
    "    out_file.write('\\n]'.encode('utf-8'))"
   ]
  },
  {
   "cell_type": "code",
   "execution_count": 13,
   "id": "132fe6d0-fbed-4b6c-bed7-251c0ef3c84e",
   "metadata": {},
   "outputs": [],
   "source": [
    "def copy_row(out_file, row):\n",
    "    copy = json.dumps(row)\n",
    "    out_file.write(copy.encode('utf-8'))"
   ]
  },
  {
   "cell_type": "code",
   "execution_count": 14,
   "id": "1c840637-9f1e-4586-871c-d269f6df49eb",
   "metadata": {},
   "outputs": [],
   "source": [
    "def count_significant_quotes(out_file, row):\n",
    "    global signi_count\n",
    "    global signi_quote_dict\n",
    "    \n",
    "    probas = row['probas']\n",
    "    qids = row['qids']\n",
    "    \n",
    "    if (len(probas) == 0 or len(qids) == 0):\n",
    "        return\n",
    "    \n",
    "    if (probas[0][0] == 'None'):\n",
    "        return\n",
    "    \n",
    "    p = float(probas[0][1])\n",
    "    if (p < 0.8):\n",
    "        return\n",
    "    \n",
    "    qid = qids[0]\n",
    "    \n",
    "    signi_count = signi_count + 1\n",
    "    signi_quote_dict[qid] = signi_quote_dict.get(qid, 0) + 1"
   ]
  },
  {
   "cell_type": "code",
   "execution_count": 15,
   "id": "6f924004-bce4-43c5-92ea-13c7f0b24104",
   "metadata": {},
   "outputs": [],
   "source": [
    "def save_politician_quotes(out_file, row):\n",
    "    global poli_quotes\n",
    "    global poli_people\n",
    "    \n",
    "    probas = row['probas']\n",
    "    qids = row['qids']\n",
    "    \n",
    "    if (len(probas) == 0 or len(qids) == 0):\n",
    "        return\n",
    "    \n",
    "    if (probas[0][0] == 'None'):\n",
    "        return\n",
    "    \n",
    "    p = float(probas[0][1])\n",
    "    if (p < 0.8):\n",
    "        return\n",
    "    \n",
    "    qid = qids[0]\n",
    "    \n",
    "    if qid not in poli_people:\n",
    "        return\n",
    "    \n",
    "    data = {}\n",
    "    data['quotation'] = row['quotation']\n",
    "    data['proba'] = row['probas'][0][1]\n",
    "    \n",
    "    arr = poli_quotes.get(qid, [])\n",
    "    arr.append(data)\n",
    "    poli_quotes[qid] = arr"
   ]
  },
  {
   "cell_type": "code",
   "execution_count": 16,
   "id": "348a4969-438d-4a3c-a253-82047bee4f50",
   "metadata": {},
   "outputs": [],
   "source": [
    "def close_row(out_file, row, i):\n",
    "    if (i == 99):\n",
    "        return True\n",
    "    out_file.write(',\\n'.encode('utf-8'))\n",
    "    return False"
   ]
  },
  {
   "cell_type": "code",
   "execution_count": 17,
   "id": "943f8e5f-f0c2-4e91-8443-5d2df01b46eb",
   "metadata": {},
   "outputs": [],
   "source": [
    "def empty_fun(out_file, row):\n",
    "    return"
   ]
  },
  {
   "cell_type": "code",
   "execution_count": 18,
   "id": "8ce5fdd5-d9fb-40a1-b730-2faff4596742",
   "metadata": {},
   "outputs": [],
   "source": [
    "def empty_post(out_file):\n",
    "    return"
   ]
  },
  {
   "cell_type": "code",
   "execution_count": 19,
   "id": "b16e0b6f-0d9b-4893-bfe7-7278df35f656",
   "metadata": {},
   "outputs": [],
   "source": [
    "def empty_post_it(out_file, row, i):\n",
    "    if (i == 999):\n",
    "        return True\n",
    "    return False"
   ]
  },
  {
   "cell_type": "code",
   "execution_count": 20,
   "id": "4ca0287d-a1e9-4c2f-adf0-5ea72e2c8cbb",
   "metadata": {},
   "outputs": [],
   "source": [
    "def write_dict_to_file(name, obj):\n",
    "    millis = round(time.time() * 1000)\n",
    "    name = f'{name}_{millis}.json'\n",
    "    with open(name, 'wb') as f:\n",
    "        output = json.dumps(obj)\n",
    "        f.write(output.encode('utf-8'))"
   ]
  },
  {
   "cell_type": "markdown",
   "id": "ee8c1929-fd74-4b64-8fd2-5db4e46e1909",
   "metadata": {},
   "source": [
    "# Hello"
   ]
  },
  {
   "cell_type": "code",
   "execution_count": 21,
   "id": "04ff947e-4637-4f62-bdf6-a26304e3d817",
   "metadata": {},
   "outputs": [],
   "source": [
    "iterate_through_quotes_2(PATH_TO_INPUT, PATH_TO_OUT, initialize, empty_fun, count_significant_quotes, empty_post_it, empty_post)"
   ]
  },
  {
   "cell_type": "code",
   "execution_count": 22,
   "id": "2ac83e1e-b912-45d5-8d43-520668f866ae",
   "metadata": {},
   "outputs": [],
   "source": [
    "iterate_through_quotes(PATH_TO_INPUT, PATH_TO_OUT, open_json, empty_fun, copy_row, close_row, close_json)"
   ]
  },
  {
   "cell_type": "markdown",
   "id": "fa02d384-d86e-48bd-bf45-58956efd293d",
   "metadata": {},
   "source": [
    "# Test"
   ]
  },
  {
   "cell_type": "code",
   "execution_count": 23,
   "id": "899dfb76-a36d-474c-9190-1db840e33ed0",
   "metadata": {},
   "outputs": [],
   "source": [
    "# num_lines = sum(1 for line in bz2.open(PATH_TO_INPUT))"
   ]
  },
  {
   "cell_type": "code",
   "execution_count": 21,
   "id": "9359ba95-2d2e-4482-8dd6-076acbcfaf75",
   "metadata": {},
   "outputs": [],
   "source": [
    "import sys\n",
    "import os\n",
    "import bz2\n",
    "import time"
   ]
  },
  {
   "cell_type": "code",
   "execution_count": 22,
   "id": "5af1fb38-f901-463e-8733-acf22009bd14",
   "metadata": {},
   "outputs": [],
   "source": [
    "def proc(input, evaluate_quote, max_length=20):\n",
    "    global index\n",
    "    global invalid_json_count\n",
    "    global invalid_chunk_count\n",
    "    global chunk_stitching\n",
    "    global stitch_length\n",
    "    global scrap_next\n",
    "    global quote_is_open\n",
    "    global quote_part\n",
    "    global dat_part\n",
    "    global euro_error\n",
    "    global euro_count\n",
    "    \n",
    "    global totin\n",
    "    global totout\n",
    "    global prev\n",
    "    global dec\n",
    "    global start\n",
    "    \"\"\"Decompress and process a piece of a compressed stream\"\"\"\n",
    "    dat = dec.decompress(input)\n",
    "    got = len(dat)\n",
    "    if got != 0:    # 0 is common -- waiting for a bzip2 block\n",
    "        # process dat here\n",
    "        \n",
    "#         if (index > 10):\n",
    "#             return got\n",
    "\n",
    "        try:\n",
    "            if (euro_error):\n",
    "                s = (dat_part + dat).decode('utf-8')\n",
    "                euro_error = False\n",
    "            else:\n",
    "                s = dat.decode('utf-8')\n",
    "            lines = s.split('\\n')\n",
    "\n",
    "            for line in lines:\n",
    "                try:\n",
    "                    if (scrap_next):\n",
    "                        ob = json.loads(line)\n",
    "                        scrap_next = False\n",
    "                        quote_is_open = False\n",
    "                        chunk_stitching -= stitch_length\n",
    "                    else:\n",
    "                        if (quote_is_open):\n",
    "                            ob = json.loads(quote_part + line)\n",
    "                            quote_is_open = False\n",
    "                        else:\n",
    "                            ob = json.loads(line)\n",
    "\n",
    "                    # count_significant_quotes({}, ob)\n",
    "                    # parametrization\n",
    "                    evaluate_quote({}, ob)\n",
    "                # not a valid json string\n",
    "                except ValueError:\n",
    "                    if (scrap_next):\n",
    "                        pass\n",
    "                    else:\n",
    "                        if (quote_is_open):\n",
    "                            chunk_stitching += 1\n",
    "                            quote_part = quote_part + line\n",
    "                            stitch_length += 1\n",
    "\n",
    "                            if (stitch_length > max_length):\n",
    "                                invalid_json_count += 1\n",
    "                                scrap_next = True\n",
    "                        else:\n",
    "                            quote_is_open = True\n",
    "                            quote_part = line\n",
    "                            stitch_length = 0\n",
    "        except UnicodeDecodeError as e:\n",
    "            if (euro_error):\n",
    "                dat_part = dat_part + dat\n",
    "            else:\n",
    "                euro_error = True\n",
    "                dat_part = dat\n",
    "            \n",
    "            euro_count += 1\n",
    "        \n",
    "        index += 1\n",
    "    return got"
   ]
  },
  {
   "cell_type": "code",
   "execution_count": 23,
   "id": "a61007ec-8763-4451-8719-7dd8fa87e3f0",
   "metadata": {},
   "outputs": [],
   "source": [
    "def run_through_quotes(init, evaluate_quote, year, target_dict, path_to_input, name='test', chunk_size=16384):\n",
    "    global index\n",
    "    global invalid_json_count\n",
    "    global invalid_chunk_count\n",
    "    global chunk_stitching\n",
    "    global stitch_length\n",
    "    global scrap_next\n",
    "    global quote_is_open\n",
    "    global quote_part\n",
    "    global dat_part\n",
    "    global euro_error\n",
    "    global euro_count\n",
    "    \n",
    "    global totin\n",
    "    global totout\n",
    "    global prev\n",
    "    global dec\n",
    "    global start\n",
    "    \n",
    "    size = os.path.getsize(path_to_input)\n",
    "    invalid_json_count = 0\n",
    "    invalid_chunk_count = 0\n",
    "    chunk_stitching = 0\n",
    "    stitch_length = 0\n",
    "    scrap_next = False\n",
    "    quote_is_open = False\n",
    "    quote_part = ''\n",
    "    dat_part = 0\n",
    "    euro_error = False\n",
    "    euro_count = 0\n",
    "    \n",
    "    totin = 0\n",
    "    totout = 0\n",
    "    prev = -1\n",
    "    dec = bz2.BZ2Decompressor()\n",
    "    start = time.time()\n",
    "    \n",
    "    init({})\n",
    "    \n",
    "    index = 0\n",
    "    with open(path_to_input, 'rb') as f:\n",
    "        for chunk in iter(lambda: f.read(chunk_size), b''):\n",
    "            # feed chunk to decompressor\n",
    "            got = proc(chunk, evaluate_quote)\n",
    "\n",
    "            # handle case of concatenated bz2 streams\n",
    "            if dec.eof:\n",
    "                rem = dec.unused_data\n",
    "                dec = bz2.BZ2Decompressor()\n",
    "                got += proc(rem, evaluate_quote)\n",
    "\n",
    "            # show progress\n",
    "            totin += len(chunk)\n",
    "            totout += got\n",
    "            if got != 0:    # only if a bzip2 block emitted\n",
    "                frac = round(1000 * totin / size)\n",
    "                if frac != prev:\n",
    "                    left = (size / totin - 1) * (time.time() - start)\n",
    "                    print(f'\\r{frac / 10:.1f}% (~{left:.1f}s left)\\tyear: {year}\\tnumber of speakers: {len(poli_quotes)}\\tstitching: {chunk_stitching}\\teuro count: {euro_count}\\tinvalid json count: {invalid_json_count}\\tinvalid chunk count: {invalid_chunk_count}', end='')\n",
    "                    prev = frac\n",
    "\n",
    "    # Show the resulting size.\n",
    "    print(end='\\r')\n",
    "    print(totout, 'uncompressed bytes')\n",
    "\n",
    "    write_dict_to_file(f'{name}-{year}', poli_quotes)"
   ]
  },
  {
   "cell_type": "code",
   "execution_count": 35,
   "id": "0b0d683b-0336-47b4-9aa0-f23d582fe6f3",
   "metadata": {},
   "outputs": [
    {
     "name": "stdout",
     "output_type": "stream",
     "text": [
      "14797890201 uncompressed bytes\tnumber of speakers: 199\tstitching: 0\teuro count: 1\tinvalid json count: 0\tinvalid chunk count: 00\n",
      "\n",
      "Finished compiling quotes for the year 2015\n",
      "10584617634 uncompressed bytes\tnumber of speakers: 200\tstitching: 0\teuro count: 0\tinvalid json count: 0\tinvalid chunk count: 00\n",
      "\n",
      "Finished compiling quotes for the year 2016\n",
      "24502223120 uncompressed bytes\tnumber of speakers: 200\tstitching: 33\teuro count: 0\tinvalid json count: 0\tinvalid chunk count: 00\n",
      "\n",
      "Finished compiling quotes for the year 2017\n",
      "22665822486 uncompressed bytes\tnumber of speakers: 200\tstitching: 2\teuro count: 1\tinvalid json count: 0\tinvalid chunk count: 00\n",
      "\n",
      "Finished compiling quotes for the year 2018\n",
      "16354868483 uncompressed bytes\tnumber of speakers: 200\tstitching: 0\teuro count: 0\tinvalid json count: 0\tinvalid chunk count: 00\n",
      "\n",
      "Finished compiling quotes for the year 2019\n"
     ]
    }
   ],
   "source": [
    "# year = 2020\n",
    "# path_to_input = PATTERN_INPUT.format(year)\n",
    "\n",
    "years = [2015, 2016, 2017, 2018, 2019]\n",
    "# years = [2020]\n",
    "for year in years:\n",
    "    path_to_input = PATTERN_INPUT.format(year)\n",
    "    \n",
    "    run_through_quotes(\n",
    "        poli_initialize, save_politician_quotes, year, poli_quotes, path_to_input, name='politician-quotes', chunk_size=1_048_576)\n",
    "    print('')\n",
    "    print(f'Finished compiling quotes for the year {year}')"
   ]
  },
  {
   "cell_type": "code",
   "execution_count": null,
   "id": "b89630bf-e169-41e9-9331-c1e16c0c4cae",
   "metadata": {},
   "outputs": [],
   "source": [
    "write_dict_to_file(f'politician-quotes-{year}', poli_quotes)"
   ]
  },
  {
   "cell_type": "code",
   "execution_count": null,
   "id": "206ad7ee-0b59-44e9-8018-faf48c2065e9",
   "metadata": {},
   "outputs": [],
   "source": [
    "print(poli_quotes['Q76'][0:5])"
   ]
  },
  {
   "cell_type": "code",
   "execution_count": null,
   "id": "abf1d170-5042-4534-b993-9f86468d02e0",
   "metadata": {},
   "outputs": [],
   "source": [
    "signi_quotes_file_names = [\n",
    "    \"signi-quote-count-2015_1636244638891.json\",\n",
    "    \"signi-quote-count-2016_1636246832187.json\",\n",
    "    \"signi-quote-count-2017_1636249273913.json\",\n",
    "    \"signi-quote-count-2018_1636250518608.json\",\n",
    "    \"signi-quote-count-2019_1636251729971.json\",\n",
    "    \"signi-quote-count-2020_1636237785105.json\"\n",
    "]"
   ]
  },
  {
   "cell_type": "code",
   "execution_count": null,
   "id": "fdc217f2-f3c4-4028-b5bc-f22db568f8b5",
   "metadata": {},
   "outputs": [],
   "source": [
    "combined_signi_dict = {}\n",
    "\n",
    "for file_name in signi_quotes_file_names:\n",
    "    with open(file_name, 'r') as f:\n",
    "        one_dict = json.load(f)\n",
    "        for k in one_dict.keys():\n",
    "            combined_signi_dict[k] = combined_signi_dict.get(k, 0) + one_dict[k]"
   ]
  },
  {
   "cell_type": "code",
   "execution_count": null,
   "id": "7c9f1caf-3d7b-41ec-90ac-94a0fc94c0e4",
   "metadata": {},
   "outputs": [],
   "source": [
    "sorted_combined_signi_dict = {k: v for k, v in sorted(combined_signi_dict.items(), key=lambda item: item[1], reverse=True)}"
   ]
  },
  {
   "cell_type": "code",
   "execution_count": null,
   "id": "b0c40570-b358-4afe-9c0e-f274a31f210e",
   "metadata": {},
   "outputs": [],
   "source": [
    "write_dict_to_file('signi-quote-count-combined', sorted_combined_signi_dict)"
   ]
  },
  {
   "cell_type": "code",
   "execution_count": null,
   "id": "e714ce12-0298-4f72-b732-fec4197318d1",
   "metadata": {},
   "outputs": [],
   "source": [
    "write_dict_to_file(f'signi-quote-count-{year}')"
   ]
  },
  {
   "cell_type": "code",
   "execution_count": null,
   "id": "9a25fd51-2af3-4903-8994-21584e8235ab",
   "metadata": {},
   "outputs": [],
   "source": [
    "print(num_lines)"
   ]
  },
  {
   "cell_type": "code",
   "execution_count": null,
   "id": "fd405692-f164-4431-82cf-80739979e1f6",
   "metadata": {},
   "outputs": [],
   "source": [
    "print(signi_count)"
   ]
  },
  {
   "cell_type": "code",
   "execution_count": null,
   "id": "d5e8bb5c-4ccd-471e-8ad3-b32f23ba6a98",
   "metadata": {},
   "outputs": [],
   "source": [
    "print(len(signi_quote_dict))"
   ]
  },
  {
   "cell_type": "code",
   "execution_count": null,
   "id": "12288f8c-d061-4c77-b4ee-461dc354b615",
   "metadata": {},
   "outputs": [],
   "source": [
    "import pandas as pd\n",
    "import matplotlib.pyplot as plt\n",
    "import numpy as np\n",
    "\n",
    "with open('signi-quote-count-combined_1636253317430.json', 'r') as f:\n",
    "    dic = json.load(f)\n",
    "    \n",
    "    arr = np.ndarray((len(dic), 1))\n",
    "    index = 0\n",
    "    for k, v in dic.items():\n",
    "        arr[index] = v\n",
    "        index += 1\n",
    "    \n",
    "#     print(arr.shape)\n",
    "    \n",
    "df = pd.DataFrame(arr)\n",
    "df[0].plot(kind=\"hist\", logy=True, bins=5000)\n",
    "plt.xlim((0, 5000))\n",
    "# df[0].plot(kind=\"hist\", loglog=True, bins=np.logspace(np.log10(1), np.log10(10e4), 100))"
   ]
  },
  {
   "cell_type": "code",
   "execution_count": null,
   "id": "7c65c566-9f05-4813-880d-c6e357f7501b",
   "metadata": {},
   "outputs": [],
   "source": [
    "i = 0\n",
    "for k, v in sorted_combined_signi_dict.items():\n",
    "    print(f'{k}: {v}')\n",
    "    \n",
    "    i += 1\n",
    "    if (i == 10):\n",
    "        break"
   ]
  },
  {
   "cell_type": "code",
   "execution_count": null,
   "id": "42b0b209-797a-442b-a183-8ddfe7f835d2",
   "metadata": {},
   "outputs": [],
   "source": [
    "print(signi_quote_dict)"
   ]
  },
  {
   "cell_type": "code",
   "execution_count": null,
   "id": "58f92024-47f2-4239-9fae-dd2e0f9ed1eb",
   "metadata": {},
   "outputs": [],
   "source": [
    "SELECT DISTINCT ?item ?itemLabel \n",
    "          ?genderLabel ?citizenshipLabel ?languageLabel ?religionLabel ?ethnicLabel ?degreeLabel\n",
    "          ?dateOfBirth ?placeOfBirthLabel \n",
    "#           ?nativeNameLabel ?birthNameLabel ?givenNameLabel ?familyNameLabel ?pseudonymLabel \n",
    "#           ?fatherLabel ?motherLabel ?siblingLabel ?spouseLabel ?childLabel ?numOfChild \n",
    "#           ?occupationLabel ?positionLabel ?ideologyLabel ?educatedAtLabel\n",
    "          ?memberOfParty ?memberOfPartyLabel \n",
    "WHERE {\n",
    "  SERVICE wikibase:label { bd:serviceParam wikibase:language \"[AUTO_LANGUAGE]\". }\n",
    "  {\n",
    "    ?item p:P106 ?statement0.\n",
    "    ?statement0 (ps:P106) wd:Q82955.\n",
    "    {\n",
    "      ?item p:P102 ?statement1.\n",
    "      ?statement1 (ps:P102) wd:Q29552.\n",
    "    }\n",
    "    UNION\n",
    "    {\n",
    "      ?item p:P102 ?statement2.\n",
    "      ?statement2 (ps:P102) wd:Q29468.\n",
    "    }\n",
    "    MINUS {\n",
    "      ?item p:P570 ?statement_3.\n",
    "      ?statement_3 psv:P570 ?statementValue_3.\n",
    "      ?statementValue_3 wikibase:timePrecision ?precision_3.\n",
    "      FILTER(?precision_3 >= 11 )\n",
    "      ?statementValue_3 wikibase:timeValue ?P570_3.\n",
    "      FILTER(?P570_3 < \"+2015-01-01T00:00:00Z\"^^xsd:dateTime)\n",
    "    }\n",
    "    OPTIONAL { ?item wdt:P21 ?gender. }\n",
    "    OPTIONAL { ?item wdt:P27 ?citizenship. }\n",
    "    OPTIONAL { ?item wdt:P103 ?language. }\n",
    "    OPTIONAL { ?item wdt:P140 ?religion. }\n",
    "    OPTIONAL { ?item wdt:P172 ?ethnic. }\n",
    "    OPTIONAL { ?item wdt:P512 ?degree. }\n",
    "    \n",
    "    OPTIONAL { ?item wdt:P569 ?dateOfBirth. }\n",
    "    OPTIONAL { ?item wdt:P19 ?placeOfBirth. }\n",
    "    \n",
    "#     OPTIONAL { ?item wdt:P1559 ?nativeName. }\n",
    "#     OPTIONAL { ?item wdt:P1477 ?birthName. }\n",
    "#     OPTIONAL { ?item wdt:P735 ?givenName. }\n",
    "#     OPTIONAL { ?item wdt:P734 ?familyName. }\n",
    "#     OPTIONAL { ?item wdt:P742 ?pseudonym. }\n",
    "    \n",
    "#     OPTIONAL { ?item wdt:P22 ?father. }\n",
    "#     OPTIONAL { ?item wdt:P25 ?mother. }\n",
    "#     OPTIONAL { ?item wdt:P3373 ?sibling. }\n",
    "#     OPTIONAL { ?item wdt:P26 ?spouse. }\n",
    "#     OPTIONAL { ?item wdt:P40 ?child. }\n",
    "#     OPTIONAL { ?item wdt:P1971 ?numOfChild. }\n",
    "    \n",
    "#     OPTIONAL { ?item wdt:P106 ?occupation. }\n",
    "#     OPTIONAL { ?item wdt:P39 ?position. }\n",
    "#     OPTIONAL { ?item wdt:P1142 ?ideology. }\n",
    "#     OPTIONAL { ?item wdt:P69 ?educatedAt. }\n",
    "    \n",
    "    OPTIONAL { ?item wdt:P102 ?memberOfParty. }\n",
    "  }\n",
    "}"
   ]
  },
  {
   "cell_type": "code",
   "execution_count": null,
   "id": "98867aee-28de-4025-a5c6-3dedc156dee2",
   "metadata": {},
   "outputs": [],
   "source": [
    "with open(\"american_politicians_fixed.json\", \"r\") as f:\n",
    "    ampoli = json.load(f)\n",
    "\n",
    "df = pd.DataFrame(ampoli)\n",
    "df.head()"
   ]
  },
  {
   "cell_type": "code",
   "execution_count": null,
   "id": "1a5385ea-d342-4c30-8dae-b57c200e0d7a",
   "metadata": {},
   "outputs": [],
   "source": [
    "df.query('itemLabel == \"Arnold Schwarzenegger\"')\n",
    "# df[\"item\"].duplicated().sum()"
   ]
  },
  {
   "cell_type": "code",
   "execution_count": null,
   "id": "92f932de-651b-454e-af45-1df2496fa36f",
   "metadata": {},
   "outputs": [],
   "source": [
    "def combine(x):\n",
    "    d = set()\n",
    "    for v in x:\n",
    "        if v not in d:\n",
    "            d.add(v)\n",
    "    if (len(d) == 1):\n",
    "        return d[0]\n",
    "    arr = []\n",
    "    for v in d:\n",
    "        arr.append(v)\n",
    "    return arr"
   ]
  },
  {
   "cell_type": "code",
   "execution_count": null,
   "id": "684ad7be-343e-40af-9d12-c1f7dc01becb",
   "metadata": {},
   "outputs": [],
   "source": [
    "df2 = df.groupby('item').agg(combine)"
   ]
  },
  {
   "cell_type": "code",
   "execution_count": null,
   "id": "90c93f99-c212-4c0c-b422-dc965b6170f5",
   "metadata": {},
   "outputs": [],
   "source": [
    "df2.query('item == \"http://www.wikidata.org/entity/Q2685\"')"
   ]
  },
  {
   "cell_type": "code",
   "execution_count": null,
   "id": "04982781-2631-4913-baba-ab177e6d56a3",
   "metadata": {},
   "outputs": [],
   "source": [
    "ampoli2 = dict()\n",
    "\n",
    "index = 0\n",
    "for row in ampoli:\n",
    "    item = row['item']\n",
    "    if item in ampoli2:\n",
    "        tmp = ampoli2[item]\n",
    "        columns = ['itemLabel', 'genderLabel', 'citizenshipLabel', 'religionLabel', 'ethnicLabel', 'degreeLabel', 'dateOfBirth', 'placeOfBirthLabel', 'memberOfParty', 'memberOfPartyLabel', 'languageLabel']\n",
    "        for col in columns:\n",
    "            if row.get(col, None) is None:\n",
    "                continue\n",
    "                \n",
    "            t = tmp.get(col, None)\n",
    "#             print(f'{t} {row[col]}')\n",
    "            \n",
    "            if t is None:\n",
    "                t = row[col]\n",
    "            elif isinstance(t, list):\n",
    "                if row[col] not in t:\n",
    "                    t.append(row[col])\n",
    "            elif row[col] != t:\n",
    "                t = [t, row[col]]\n",
    "                \n",
    "            tmp[col] = t\n",
    "#             print(t)\n",
    "    else:\n",
    "        ampoli2[item] = row\n",
    "        \n",
    "#     index += 1\n",
    "#     if (index == 10):\n",
    "#         break"
   ]
  },
  {
   "cell_type": "code",
   "execution_count": null,
   "id": "292c556b-1809-4e55-8e05-b4e435782217",
   "metadata": {},
   "outputs": [],
   "source": [
    "df3 = pd.DataFrame(ampoli2.values())"
   ]
  },
  {
   "cell_type": "code",
   "execution_count": null,
   "id": "51bfa62c-f9d7-43d5-8f9d-a321d6e4ee12",
   "metadata": {},
   "outputs": [],
   "source": [
    "# df3.head()\n",
    "df3.query('item == \"http://www.wikidata.org/entity/Q2685\"')"
   ]
  },
  {
   "cell_type": "code",
   "execution_count": null,
   "id": "b57921e4-7e68-41ed-95a5-1fd907b1e2c0",
   "metadata": {},
   "outputs": [],
   "source": [
    "with open('american_politicians_final.json', 'w') as f:\n",
    "    f.write(json.dumps(list(ampoli2.values())))"
   ]
  },
  {
   "cell_type": "code",
   "execution_count": 24,
   "id": "d7f5d829-fc5b-4ac9-8f96-29d7511557ae",
   "metadata": {},
   "outputs": [],
   "source": [
    "final_poli = {}\n",
    "with open('american_politicians_final.json', 'r') as f:\n",
    "    final_poli = json.load(f)"
   ]
  },
  {
   "cell_type": "code",
   "execution_count": 25,
   "id": "967edc84-94b3-4759-9f3a-52dd18f9fd46",
   "metadata": {},
   "outputs": [
    {
     "data": {
      "text/plain": [
       "[{'item': 'http://www.wikidata.org/entity/Q150851',\n",
       "  'itemLabel': 'Colin Powell',\n",
       "  'genderLabel': 'male',\n",
       "  'citizenshipLabel': 'United States of America',\n",
       "  'religionLabel': 'Episcopal Church',\n",
       "  'ethnicLabel': 'African Americans',\n",
       "  'degreeLabel': ['Master of Business Administration', 'Bachelor of Science'],\n",
       "  'dateOfBirth': '1937-04-05T00:00:00Z',\n",
       "  'placeOfBirthLabel': 'New York City',\n",
       "  'memberOfParty': 'http://www.wikidata.org/entity/Q29468',\n",
       "  'memberOfPartyLabel': 'Republican Party'},\n",
       " {'item': 'http://www.wikidata.org/entity/Q112534',\n",
       "  'itemLabel': 'Ed Zschau',\n",
       "  'genderLabel': 'male',\n",
       "  'citizenshipLabel': 'United States of America',\n",
       "  'dateOfBirth': '1940-01-06T00:00:00Z',\n",
       "  'placeOfBirthLabel': 'Omaha',\n",
       "  'memberOfParty': 'http://www.wikidata.org/entity/Q29468',\n",
       "  'memberOfPartyLabel': 'Republican Party'},\n",
       " {'item': 'http://www.wikidata.org/entity/Q132071',\n",
       "  'itemLabel': 'David Scott',\n",
       "  'genderLabel': 'male',\n",
       "  'citizenshipLabel': 'United States of America',\n",
       "  'religionLabel': 'Baptists',\n",
       "  'ethnicLabel': 'African Americans',\n",
       "  'dateOfBirth': '1945-06-27T00:00:00Z',\n",
       "  'placeOfBirthLabel': 'Aynor',\n",
       "  'memberOfParty': 'http://www.wikidata.org/entity/Q29552',\n",
       "  'memberOfPartyLabel': 'Democratic Party'},\n",
       " {'item': 'http://www.wikidata.org/entity/Q145627',\n",
       "  'itemLabel': 'John Gavin',\n",
       "  'genderLabel': 'male',\n",
       "  'citizenshipLabel': 'United States of America',\n",
       "  'dateOfBirth': '1931-04-08T00:00:00Z',\n",
       "  'placeOfBirthLabel': 'Los Angeles',\n",
       "  'memberOfParty': 'http://www.wikidata.org/entity/Q29468',\n",
       "  'memberOfPartyLabel': 'Republican Party'},\n",
       " {'item': 'http://www.wikidata.org/entity/Q149475',\n",
       "  'itemLabel': 'Sharon Sayles Belton',\n",
       "  'genderLabel': 'female',\n",
       "  'citizenshipLabel': 'United States of America',\n",
       "  'ethnicLabel': 'African Americans',\n",
       "  'dateOfBirth': '1951-05-13T00:00:00Z',\n",
       "  'placeOfBirthLabel': 'Saint Paul',\n",
       "  'memberOfParty': ['http://www.wikidata.org/entity/Q1937395',\n",
       "   'http://www.wikidata.org/entity/Q29552'],\n",
       "  'memberOfPartyLabel': ['Minnesota Democraticâ€“Farmerâ€“Labor Party',\n",
       "   'Democratic Party']}]"
      ]
     },
     "execution_count": 25,
     "metadata": {},
     "output_type": "execute_result"
    }
   ],
   "source": [
    "final_poli[0:5]"
   ]
  },
  {
   "cell_type": "code",
   "execution_count": 26,
   "id": "4713f85e-1e6f-4c67-a967-7a8eba0ecb6e",
   "metadata": {},
   "outputs": [],
   "source": [
    "final_poli_dict = dict()\n",
    "for v in final_poli:\n",
    "    qid_start = v['item'].rindex('/') + 1\n",
    "    key = v['item'][qid_start:]\n",
    "    \n",
    "    clone = dict(v)\n",
    "    clone['item'] = key\n",
    "#     clone.pop('item', None)\n",
    "    \n",
    "    final_poli_dict[key] = clone"
   ]
  },
  {
   "cell_type": "code",
   "execution_count": 27,
   "id": "a78ae7e3-0369-4e59-9e8a-d8a002db44c4",
   "metadata": {},
   "outputs": [
    {
     "name": "stdout",
     "output_type": "stream",
     "text": [
      "Q150851: {'item': 'Q150851', 'itemLabel': 'Colin Powell', 'genderLabel': 'male', 'citizenshipLabel': 'United States of America', 'religionLabel': 'Episcopal Church', 'ethnicLabel': 'African Americans', 'degreeLabel': ['Master of Business Administration', 'Bachelor of Science'], 'dateOfBirth': '1937-04-05T00:00:00Z', 'placeOfBirthLabel': 'New York City', 'memberOfParty': 'http://www.wikidata.org/entity/Q29468', 'memberOfPartyLabel': 'Republican Party'}\n",
      "Q112534: {'item': 'Q112534', 'itemLabel': 'Ed Zschau', 'genderLabel': 'male', 'citizenshipLabel': 'United States of America', 'dateOfBirth': '1940-01-06T00:00:00Z', 'placeOfBirthLabel': 'Omaha', 'memberOfParty': 'http://www.wikidata.org/entity/Q29468', 'memberOfPartyLabel': 'Republican Party'}\n",
      "Q132071: {'item': 'Q132071', 'itemLabel': 'David Scott', 'genderLabel': 'male', 'citizenshipLabel': 'United States of America', 'religionLabel': 'Baptists', 'ethnicLabel': 'African Americans', 'dateOfBirth': '1945-06-27T00:00:00Z', 'placeOfBirthLabel': 'Aynor', 'memberOfParty': 'http://www.wikidata.org/entity/Q29552', 'memberOfPartyLabel': 'Democratic Party'}\n",
      "Q145627: {'item': 'Q145627', 'itemLabel': 'John Gavin', 'genderLabel': 'male', 'citizenshipLabel': 'United States of America', 'dateOfBirth': '1931-04-08T00:00:00Z', 'placeOfBirthLabel': 'Los Angeles', 'memberOfParty': 'http://www.wikidata.org/entity/Q29468', 'memberOfPartyLabel': 'Republican Party'}\n",
      "Q149475: {'item': 'Q149475', 'itemLabel': 'Sharon Sayles Belton', 'genderLabel': 'female', 'citizenshipLabel': 'United States of America', 'ethnicLabel': 'African Americans', 'dateOfBirth': '1951-05-13T00:00:00Z', 'placeOfBirthLabel': 'Saint Paul', 'memberOfParty': ['http://www.wikidata.org/entity/Q1937395', 'http://www.wikidata.org/entity/Q29552'], 'memberOfPartyLabel': ['Minnesota Democraticâ€“Farmerâ€“Labor Party', 'Democratic Party']}\n"
     ]
    }
   ],
   "source": [
    "index = 0\n",
    "for k, v in final_poli_dict.items():\n",
    "    print(f'{k}: {v}')\n",
    "    index += 1\n",
    "    if index == 5:\n",
    "        break"
   ]
  },
  {
   "cell_type": "code",
   "execution_count": null,
   "id": "d997240b-8901-4b75-9801-92abb3f4ca47",
   "metadata": {},
   "outputs": [],
   "source": [
    "final_df = pd.DataFrame(final_poli)"
   ]
  },
  {
   "cell_type": "code",
   "execution_count": null,
   "id": "94cc1763-e8dd-43ab-afb2-ec026d9e0606",
   "metadata": {},
   "outputs": [],
   "source": [
    "final_df.head(10)\n",
    "# bernie = final_df.query('item == \"http://www.wikidata.org/entity/Q359442\"')\n",
    "# for v in bernie['memberOfPartyLabel']:\n",
    "#     print(v)\n",
    "    \n",
    "# final_df.query('item == \"http://www.wikidata.org/entity/Q359442\"')"
   ]
  },
  {
   "cell_type": "code",
   "execution_count": null,
   "id": "caffcd6d-f886-47da-b1ee-f3bf27b783b2",
   "metadata": {},
   "outputs": [],
   "source": [
    "only_keys = set()\n",
    "for v in final_df['item']:\n",
    "    only_keys.add(v[v.rindex('/') + 1:])"
   ]
  },
  {
   "cell_type": "code",
   "execution_count": 28,
   "id": "057ddb18-f397-4b3c-806f-57c1f14a507c",
   "metadata": {},
   "outputs": [],
   "source": [
    "with open('signi-quote-count-combined_1636253317430.json', 'r') as f:\n",
    "    combined_quote_count_dict = json.load(f)\n",
    "    \n",
    "#     arr = np.ndarray((len(dic), 1))\n",
    "#     index = 0\n",
    "#     for k, v in dic.items():\n",
    "#         arr[index] = v\n",
    "#         index += 1"
   ]
  },
  {
   "cell_type": "code",
   "execution_count": null,
   "id": "3466348b-e0f4-40ff-88d5-685d4fd5a14f",
   "metadata": {},
   "outputs": [],
   "source": []
  },
  {
   "cell_type": "code",
   "execution_count": 29,
   "id": "0c6743ec-423f-40fe-bd76-7f65d1dc387e",
   "metadata": {},
   "outputs": [],
   "source": [
    "dem_list = []\n",
    "rep_list = []\n",
    "\n",
    "CAP_TARGET = 100\n",
    "DEM_PARTY = \"http://www.wikidata.org/entity/Q29552\"\n",
    "REP_PARTY = \"http://www.wikidata.org/entity/Q29468\"\n",
    "\n",
    "for v in combined_quote_count_dict:\n",
    "#     row = final_df.query(f'item == \"http://www.wikidata.org/entity/{v}\"')\n",
    "    row = final_poli_dict.get(v, None)\n",
    "    \n",
    "    # Could not find person in the politician dictionary\n",
    "    if row is None:\n",
    "        continue\n",
    "    \n",
    "    memberOfParty = row.get('memberOfParty', None)\n",
    "    if memberOfParty is None:\n",
    "        continue\n",
    "    \n",
    "    # Cast to one element list if not already a list\n",
    "    if isinstance(memberOfParty, list) == False:\n",
    "        memberOfParty = [memberOfParty]\n",
    "    \n",
    "    # Check membership\n",
    "    if DEM_PARTY in memberOfParty:\n",
    "        if REP_PARTY in memberOfParty:\n",
    "            # member of both parties, don't know how to handle\n",
    "#             print(row)\n",
    "            continue\n",
    "\n",
    "        if len(dem_list) < CAP_TARGET:\n",
    "            dem_list.append(row)\n",
    "    elif REP_PARTY in memberOfParty:\n",
    "        if len(rep_list) < CAP_TARGET:\n",
    "            rep_list.append(row)\n",
    "    \n",
    "    if len(dem_list) == CAP_TARGET and len(rep_list) == CAP_TARGET:\n",
    "        break"
   ]
  },
  {
   "cell_type": "code",
   "execution_count": 30,
   "id": "df01e49f-f98f-439b-a5d8-9f9bca881d8b",
   "metadata": {},
   "outputs": [
    {
     "name": "stdout",
     "output_type": "stream",
     "text": [
      "[{'item': 'Q76', 'itemLabel': 'Barack Obama', 'genderLabel': 'male', 'citizenshipLabel': 'United States of America', 'languageLabel': 'English', 'religionLabel': ['Congregationalist polity', 'United Church of Christ', 'Protestantism', 'congregational church'], 'ethnicLabel': 'African Americans', 'degreeLabel': ['Bachelor of Arts', 'Juris Doctor'], 'dateOfBirth': '1961-08-04T00:00:00Z', 'placeOfBirthLabel': 'Kapiolani Medical Center for Women and Children', 'memberOfParty': 'http://www.wikidata.org/entity/Q29552', 'memberOfPartyLabel': 'Democratic Party'}, {'item': 'Q6294', 'itemLabel': 'Hillary Clinton', 'genderLabel': 'female', 'citizenshipLabel': 'United States of America', 'languageLabel': 'English', 'religionLabel': 'Methodism', 'degreeLabel': ['Juris Doctor', \"bachelor's degree\"], 'dateOfBirth': '1947-10-26T00:00:00Z', 'placeOfBirthLabel': 'Edgewater Hospital', 'memberOfParty': 'http://www.wikidata.org/entity/Q29552', 'memberOfPartyLabel': 'Democratic Party'}, {'item': 'Q359442', 'itemLabel': 'Bernie Sanders', 'genderLabel': 'male', 'citizenshipLabel': 'United States of America', 'languageLabel': 'English', 'religionLabel': 'Judaism', 'ethnicLabel': 'Jewish people', 'degreeLabel': 'Bachelor of Arts', 'dateOfBirth': '1941-09-08T00:00:00Z', 'placeOfBirthLabel': 'Brooklyn', 'memberOfParty': ['http://www.wikidata.org/entity/Q327591', 'http://www.wikidata.org/entity/Q6542163', 'http://www.wikidata.org/entity/Q29552'], 'memberOfPartyLabel': ['independent politician', 'Liberty Union Party', 'Democratic Party']}, {'item': 'Q170581', 'itemLabel': 'Nancy Pelosi', 'genderLabel': 'female', 'citizenshipLabel': 'United States of America', 'languageLabel': 'English', 'religionLabel': 'Catholicism', 'ethnicLabel': 'Italian American', 'dateOfBirth': '1940-03-26T00:00:00Z', 'placeOfBirthLabel': 'Baltimore', 'memberOfParty': 'http://www.wikidata.org/entity/Q29552', 'memberOfPartyLabel': 'Democratic Party'}, {'item': 'Q11673', 'itemLabel': 'Andrew Cuomo', 'genderLabel': 'male', 'citizenshipLabel': 'United States of America', 'languageLabel': 'English', 'religionLabel': 'Catholicism', 'ethnicLabel': 'Italian American', 'degreeLabel': 'Juris Doctor', 'dateOfBirth': '1957-12-06T00:00:00Z', 'placeOfBirthLabel': 'Queens', 'memberOfParty': 'http://www.wikidata.org/entity/Q29552', 'memberOfPartyLabel': 'Democratic Party'}]\n"
     ]
    }
   ],
   "source": [
    "print(dem_list[0:5])"
   ]
  },
  {
   "cell_type": "code",
   "execution_count": 31,
   "id": "d0785b7e-2341-409c-a5b6-ade6d309c5f6",
   "metadata": {},
   "outputs": [
    {
     "name": "stdout",
     "output_type": "stream",
     "text": [
      "  1 Barack Obama                   Q76        59650                Donald Trump                   Q22686     201293    \n",
      "  2 Hillary Clinton                Q6294      28126                Mike Pompeo                    Q473239    19402     \n",
      "  3 Bernie Sanders                 Q359442    27652                Lindsey Graham                 Q22212     17352     \n",
      "  4 Nancy Pelosi                   Q170581    20783                Mike Pence                     Q24313     16511     \n",
      "  5 Andrew Cuomo                   Q11673     20165                Mitch McConnell                Q355522    16057     \n",
      "  6 Chuck Schumer                  Q380900    18489                Marco Rubio                    Q324546    15876     \n",
      "  7 Joe Biden                      Q6279      17946                Ted Cruz                       Q2036942   15728     \n",
      "  8 Bill de Blasio                 Q4911497   16996                John McCain                    Q10390     11362     \n",
      "  9 Elizabeth Warren               Q434706    16937                Jeff Sessions                  Q358443    11176     \n",
      " 10 John Kerry                     Q22316     12973                Nikki Haley                    Q11668     10801     \n",
      "\n",
      " 11 Adam Schiff                    Q350843    10640                Rand Paul                      Q463557    10503     \n",
      " 12 Pete Buttigieg                 Q7173106   9692                 Chris Christie                 Q63879     9941      \n",
      " 13 Chris Murphy                   Q1077594   7642                 Rex Tillerson                  Q331401    9502      \n",
      " 14 Richard Blumenthal             Q2023708   7601                 Rick Scott                     Q439729    9363      \n",
      " 15 Kamala Harris                  Q10853588  7482                 Sean Spicer                    Q27829251  9053      \n",
      " 16 Cory Booker                    Q1135767   7236                 Sarah Sanders                  Q27986907  9009      \n",
      " 17 Jerry Brown                    Q152451    6791                 John Kasich                    Q69319     8686      \n",
      " 18 Gavin Newsom                   Q461391    6725                 Greg Abbott                    Q5605224   8316      \n",
      " 19 Rahm Emanuel                   Q298443    6435                 Kellyanne Conway               Q6386365   7511      \n",
      " 20 Alexandria Ocasio-Cortez       Q55223040  6350                 John Cornyn                    Q719568    7419      \n",
      "\n",
      " 21 Amy Klobuchar                  Q22237     6221                 Jeb Bush                       Q221997    7367      \n",
      " 22 Phil Murphy                    Q260042    6202                 Scott Gottlieb                 Q28229066  7016      \n",
      " 23 Ron Wyden                      Q529344    5990                 Steven Mnuchin                 Q24248265  6971      \n",
      " 24 Tim Kaine                      Q359888    5732                 Chuck Grassley                 Q529294    6871      \n",
      " 25 Eric Garcetti                  Q5386557   5667                 Bob Corker                     Q331719    6710      \n",
      " 26 Dianne Feinstein               Q230733    5637                 Mick Mulvaney                  Q1235731   6264      \n",
      " 27 Jay Inslee                     Q1100710   5550                 Heather Nauert                 Q5694014   5979      \n",
      " 28 Kirsten Gillibrand             Q22222     5385                 Susan Collins                  Q22279     5908      \n",
      " 29 John Bel Edwards               Q6221385   5384                 Mark Randall Meadows           Q3956796   5792      \n",
      " 30 Bill Clinton                   Q1124      5333                 Rudy Giuliani                  Q212648    5732      \n",
      "\n",
      " 31 Dick Durbin                    Q434804    5331                 David Davis                    Q1174175   5688      \n",
      " 32 Chris Smith                    Q11963798  5324                 Asa Hutchinson                 Q720121    5515      \n",
      " 33 Janet Yellen                   Q263725    5166                 Jerome Powell                  Q6182718   5287      \n",
      " 34 Sherrod Brown                  Q381880    5150                 Ron DeSantis                   Q3105215   5199      \n",
      " 35 Marty Walsh                    Q15126384  4952                 Wilbur Ross                    Q8000233   5133      \n",
      " 36 Terry McAuliffe                Q3518911   4781                 Bruce Rauner                   Q15972549  5018      \n",
      " 37 Michelle Obama                 Q13133     4622                 Jeff Flake                     Q929581    4948      \n",
      " 38 Mark Stoops                    Q16885910  4507                 Tom Cotton                     Q3090307   4890      \n",
      " 39 Joe Manchin                    Q538868    4306                 Mike Huckabee                  Q158813    4877      \n",
      " 40 Chris Coleman                  Q1077115   4229                 Roy Cooper                     Q16106910  4808      \n",
      "\n",
      " 41 Robert Menendez                Q888132    4075                 Orrin Hatch                    Q381157    4776      \n",
      " 42 Ralph Northam                  Q7287916   3978                 John Roberts                   Q11153     4651      \n",
      " 43 Xavier Becerra                 Q1855840   3874                 Ivanka Trump                   Q239411    4649      \n",
      " 44 Thomas Perez                   Q7793121   3838                 Jim Caldwell                   Q16104403  4522      \n",
      " 45 Claire McCaskill               Q22260     3796                 Matt Bevin                     Q19953601  4441      \n",
      " 46 John Hickenlooper              Q430518    3471                 Newt Gingrich                  Q182788    4435      \n",
      " 47 Maxine Waters                  Q461727    3439                 Lamar Alexander                Q419976    4298      \n",
      " 48 JuliÃ¡n Castro                 Q970720    3371                 Steve Bannon                   Q16146870  4213      \n",
      " 49 Chris Coons                    Q923242    3338                 Jim Jordan                     Q186215    4120      \n",
      " 50 Patrick Leahy                  Q59315     3319                 Mike DeWine                    Q1363468   4088      \n",
      "\n",
      " 51 Steny Hoyer                    Q516515    3313                 Joe Scarborough                Q1280288   4085      \n",
      " 52 Elijah Cummings                Q934898    3293                 Ryan Zinke                     Q7384672   4059      \n",
      " 53 Sylvester Turner               Q16751186  3226                 Kevin Brady                    Q472241    4000      \n",
      " 54 Tulsi Gabbard                  Q32620     3219                 Lisa Murkowski                 Q22360     3965      \n",
      " 55 Jimmy Carter                   Q23685     3109                 Steve King                     Q37084447  3898      \n",
      " 56 Ed Markey                      Q1282411   3105                 Robert Jones Portman           Q926069    3754      \n",
      " 57 Ben Cardin                     Q723295    3086                 Scott Pruitt                   Q7437083   3736      \n",
      " 58 Lori Lightfoot                 Q56486914  3045                 Doug Ducey                     Q5300433   3709      \n",
      " 59 Gretchen Whitmer               Q5607720   3037                 Alex Azar                      Q4716651   3706      \n",
      " 60 Mark Dayton                    Q513091    2966                 Betsy DeVos                    Q4898286   3681      \n",
      "\n",
      " 61 David Ige                      Q16189318  2915                 Devin Nunes                    Q539493    3507      \n",
      " 62 Patty Murray                   Q258825    2907                 Carly Fiorina                  Q256380    3492      \n",
      " 63 Brian Schatz                   Q1827902   2835                 Rick Snyder                    Q887111    3489      \n",
      " 64 J.B. Pritzker                  Q6103950   2798                 George W. Bush                 Q207       3474      \n",
      " 65 Ashton Carter                  Q4806029   2787                 Mitt Romney                    Q4496      3440      \n",
      " 66 Jeh Johnson                    Q6176439   2786                 Kim Reynolds                   Q6409269   3386      \n",
      " 67 Tom Wheeler                    Q16255546  2736                 Brett Kavanaugh                Q4962244   3308      \n",
      " 68 Mitch Landrieu                 Q3317069   2723                 Jim Bridenstine                Q3601035   3284      \n",
      " 69 Josh Shapiro                   Q6289368   2709                 Ben Sasse                      Q16192221  3272      \n",
      " 70 Jared Polis                    Q935734    2707                 Bobby Jindal                   Q295492    3265      \n",
      "\n",
      " 71 Eric Schneiderman              Q5387459   2670                 Reince Priebus                 Q1357640   3247      \n",
      " 72 Jon Tester                     Q529351    2596                 Joni Ernst                     Q13475242  3237      \n",
      " 73 Gina Raimondo                  Q5562913   2594                 John Boehner                   Q11702     3204      \n",
      " 74 Eric Swalwell                  Q3466996   2573                 Tom Cole                       Q173839    3073      \n",
      " 75 Jim Kenney                     Q6133660   2569                 James Lankford                 Q45940     3063      \n",
      " 76 Maura Healey                   Q16205062  2558                 Trey Gowdy                     Q1822266   3032      \n",
      " 77 London Breed                   Q6669880   2551                 Steve Scalise                  Q1857141   3016      \n",
      " 78 Al Franken                     Q319084    2536                 Bill Haslam                    Q862186    2970      \n",
      " 79 Robert Johnson                 Q16215328  2511                 Gary Herbert                   Q881188    2923      \n",
      " 80 Ilhan Omar                     Q26436159  2505                 Patrick Joseph Toomey          Q971308    2898      \n",
      "\n",
      " 81 Keith Ellison                  Q40589     2481                 John Delaney                   Q16187041  2870      \n",
      " 82 Mary Kathryn Heitkamp          Q50597     2466                 Ken Paxton                     Q6388290   2867      \n",
      " 83 Muriel Bowser                  Q6938597   2462                 Cory Gardner                   Q1135774   2744      \n",
      " 84 Tim Walz                       Q2434360   2456                 Chris Sununu                   Q16215583  2736      \n",
      " 85 Mike Duggan                    Q15699836  2434                 Brian Johnson                  Q16194125  2707      \n",
      " 86 Richard Cordray                Q2032949   2418                 Henry McMaster                 Q5725737   2701      \n",
      " 87 Chris Van Hollen               Q1077819   2417                 Anthony Scaramucci             Q4773428   2698      \n",
      " 88 Dannel Malloy                  Q714269    2388                 Mac Thornberry                 Q539444    2603      \n",
      " 89 John Cook                      Q16107263  2381                 Paul LePage                    Q881196    2596      \n",
      " 90 Greg Fischer                   Q13225564  2376                 Roy Blunt                      Q1525924   2586      \n",
      "\n",
      " 91 Tom Carper                     Q457432    2331                 Richard M. Burr                Q331278    2585      \n",
      " 92 Steve Bullock                  Q24015     2323                 Kay Ivey                       Q6380211   2535      \n",
      " 93 Anthony Foxx                   Q4772543   2316                 Mike Kelly                     Q1431761   2505      \n",
      " 94 Mike Thompson                  Q1323196   2315                 Matt Gaetz                     Q16221742  2473      \n",
      " 95 Jeff Merkley                   Q1368405   2314                 Robert Lighthizer              Q28113710  2460      \n",
      " 96 Jerrold Nadler                 Q505598    2312                 Pete Ricketts                  Q6106781   2414      \n",
      " 97 Eric Holder                    Q312644    2268                 Tom Price                      Q1415243   2412      \n",
      " 98 Letitia James                  Q6533414   2260                 Anthony Kennedy                Q11171     2405      \n",
      " 99 Al Gore                        Q19673     2253                 Eric Holcomb                   Q23016975  2354      \n",
      "100 Stacey Abrams                  Q7595813   2247                 Bill Cassidy                   Q861999    2353      \n",
      "\n"
     ]
    }
   ],
   "source": [
    "for index in range(CAP_TARGET):\n",
    "    dem = dem_list[index]\n",
    "    rep = rep_list[index]\n",
    "#     demv = list(dem['itemLabel'].values())[0]\n",
    "#     repv = list(rep['itemLabel'].values())[0]\n",
    "    demv = dem['itemLabel']\n",
    "    demq = dem['item']\n",
    "    demc = str(combined_quote_count_dict.get(demq, -1))\n",
    "    repv = rep['itemLabel']\n",
    "    repq = rep['item']\n",
    "    repc = str(combined_quote_count_dict.get(repq, -1))\n",
    "    print(f\"{index + 1:3} {demv:30} {demq:10} {demc:20} {repv:30} {repq:10} {repc:10}\")\n",
    "    index += 1\n",
    "    \n",
    "    if index % 10 == 0:\n",
    "        print()"
   ]
  },
  {
   "cell_type": "code",
   "execution_count": null,
   "id": "c7a9a6b0-2ad1-4106-abbe-12098bf40975",
   "metadata": {},
   "outputs": [],
   "source": [
    "combined_quote_count_dict.get('Q7595813')"
   ]
  },
  {
   "cell_type": "code",
   "execution_count": null,
   "id": "41ee53ab-3855-4c38-bc9f-4218e909e230",
   "metadata": {},
   "outputs": [],
   "source": [
    "obj = {\"dem\": dem_list, \"rep\": rep_list}\n",
    "with open('top100_politicians_by_party.json', 'w') as f:\n",
    "    f.write(json.dumps(obj))"
   ]
  },
  {
   "cell_type": "code",
   "execution_count": null,
   "id": "83a2b292-ee14-47a1-8b96-cf95b94ee1c5",
   "metadata": {},
   "outputs": [],
   "source": [
    "with open('top100_politicians_by_party.json', 'r') as f:\n",
    "    data = json.load(f)\n",
    "\n",
    "test_dem_df = pd.DataFrame(data[\"dem\"])\n",
    "test_rep_df = pd.DataFrame(data[\"rep\"])\n",
    "\n",
    "# test_dem_df.head()"
   ]
  },
  {
   "cell_type": "code",
   "execution_count": 34,
   "id": "dd1de604-d90f-4eb6-8682-0824d41fcec8",
   "metadata": {},
   "outputs": [
    {
     "name": "stdout",
     "output_type": "stream",
     "text": [
      "538\n"
     ]
    }
   ],
   "source": [
    "with open('politician-quotes-2020_1636330658142.json', 'r') as f:\n",
    "    data = json.load(f)\n",
    "\n",
    "print(len(data['Q76']))"
   ]
  },
  {
   "cell_type": "code",
   "execution_count": 40,
   "id": "faafad55-9216-4293-a347-7aacef87982b",
   "metadata": {},
   "outputs": [],
   "source": [
    "poli_quote_files = [\n",
    "    \"politician-quotes-2015_1636331534906.json\",\n",
    "    \"politician-quotes-2016_1636332058163.json\",\n",
    "    \"politician-quotes-2017_1636333168732.json\",\n",
    "    \"politician-quotes-2018_1636334221167.json\",\n",
    "    \"politician-quotes-2019_1636335010497.json\",\n",
    "    \"politician-quotes-2020_1636330658142.json\"\n",
    "]\n",
    "\n",
    "poli_quotes_combined = {}\n",
    "\n",
    "both_parties = dem_list + rep_list\n",
    "for v in both_parties:\n",
    "    copy = dict(v)\n",
    "    copy['quotations'] = []\n",
    "    \n",
    "    poli_quotes_combined[v['item']] = copy\n",
    "\n",
    "for pqf in poli_quote_files:\n",
    "    with open(pqf, 'r') as f:\n",
    "        quotes = json.load(f)\n",
    "        \n",
    "        for k in quotes.keys():\n",
    "            poli_quotes_combined[k]['quotations'] += quotes[k]\n",
    "\n",
    "write_dict_to_file('politician-quotes-combined', poli_quotes_combined)"
   ]
  },
  {
   "cell_type": "code",
   "execution_count": 41,
   "id": "7013e8d0-7be9-455f-be86-a04697e2de14",
   "metadata": {},
   "outputs": [
    {
     "name": "stdout",
     "output_type": "stream",
     "text": [
      "Q76 -> 59650\n",
      "Q6294 -> 28126\n",
      "Q359442 -> 27652\n",
      "Q170581 -> 20783\n",
      "Q11673 -> 20165\n",
      "Q380900 -> 18489\n",
      "Q6279 -> 17946\n",
      "Q4911497 -> 16996\n",
      "Q434706 -> 16937\n",
      "Q22316 -> 12973\n",
      "Q350843 -> 10640\n",
      "Q7173106 -> 9692\n",
      "Q1077594 -> 7642\n",
      "Q2023708 -> 7601\n",
      "Q10853588 -> 7482\n",
      "Q1135767 -> 7236\n",
      "Q152451 -> 6791\n",
      "Q461391 -> 6725\n",
      "Q298443 -> 6435\n",
      "Q55223040 -> 6350\n",
      "Q22237 -> 6221\n",
      "Q260042 -> 6202\n",
      "Q529344 -> 5990\n",
      "Q359888 -> 5732\n",
      "Q5386557 -> 5667\n",
      "Q230733 -> 5637\n",
      "Q1100710 -> 5550\n",
      "Q22222 -> 5385\n",
      "Q6221385 -> 5384\n",
      "Q1124 -> 5333\n",
      "Q434804 -> 5331\n",
      "Q11963798 -> 5324\n",
      "Q263725 -> 5166\n",
      "Q381880 -> 5150\n",
      "Q15126384 -> 4952\n",
      "Q3518911 -> 4781\n",
      "Q13133 -> 4622\n",
      "Q16885910 -> 4507\n",
      "Q538868 -> 4306\n",
      "Q1077115 -> 4229\n",
      "Q888132 -> 4075\n",
      "Q7287916 -> 3978\n",
      "Q1855840 -> 3874\n",
      "Q7793121 -> 3838\n",
      "Q22260 -> 3796\n",
      "Q430518 -> 3471\n",
      "Q461727 -> 3439\n",
      "Q970720 -> 3371\n",
      "Q923242 -> 3338\n",
      "Q59315 -> 3319\n",
      "Q516515 -> 3313\n",
      "Q934898 -> 3293\n",
      "Q16751186 -> 3226\n",
      "Q32620 -> 3219\n",
      "Q23685 -> 3109\n",
      "Q1282411 -> 3105\n",
      "Q723295 -> 3086\n",
      "Q56486914 -> 3045\n",
      "Q5607720 -> 3037\n",
      "Q513091 -> 2966\n",
      "Q16189318 -> 2915\n",
      "Q258825 -> 2907\n",
      "Q1827902 -> 2835\n",
      "Q6103950 -> 2798\n",
      "Q4806029 -> 2787\n",
      "Q6176439 -> 2786\n",
      "Q16255546 -> 2736\n",
      "Q3317069 -> 2723\n",
      "Q6289368 -> 2709\n",
      "Q935734 -> 2707\n",
      "Q5387459 -> 2670\n",
      "Q529351 -> 2596\n",
      "Q5562913 -> 2594\n",
      "Q3466996 -> 2573\n",
      "Q6133660 -> 2569\n",
      "Q16205062 -> 2558\n",
      "Q6669880 -> 2551\n",
      "Q319084 -> 2536\n",
      "Q16215328 -> 2511\n",
      "Q26436159 -> 2505\n",
      "Q40589 -> 2481\n",
      "Q50597 -> 2466\n",
      "Q6938597 -> 2462\n",
      "Q2434360 -> 2456\n",
      "Q15699836 -> 2434\n",
      "Q2032949 -> 2418\n",
      "Q1077819 -> 2417\n",
      "Q714269 -> 2388\n",
      "Q16107263 -> 2381\n",
      "Q13225564 -> 2376\n",
      "Q457432 -> 2331\n",
      "Q24015 -> 2323\n",
      "Q4772543 -> 2316\n",
      "Q1323196 -> 2315\n",
      "Q1368405 -> 2314\n",
      "Q505598 -> 2312\n",
      "Q312644 -> 2268\n",
      "Q6533414 -> 2260\n",
      "Q19673 -> 2253\n",
      "Q7595813 -> 2247\n",
      "Q22686 -> 201293\n",
      "Q473239 -> 19402\n",
      "Q22212 -> 17352\n",
      "Q24313 -> 16511\n",
      "Q355522 -> 16057\n",
      "Q324546 -> 15876\n",
      "Q2036942 -> 15728\n",
      "Q10390 -> 11362\n",
      "Q358443 -> 11176\n",
      "Q11668 -> 10801\n",
      "Q463557 -> 10503\n",
      "Q63879 -> 9941\n",
      "Q331401 -> 9502\n",
      "Q439729 -> 9363\n",
      "Q27829251 -> 9053\n",
      "Q27986907 -> 9009\n",
      "Q69319 -> 8686\n",
      "Q5605224 -> 8316\n",
      "Q6386365 -> 7511\n",
      "Q719568 -> 7419\n",
      "Q221997 -> 7367\n",
      "Q28229066 -> 7016\n",
      "Q24248265 -> 6971\n",
      "Q529294 -> 6871\n",
      "Q331719 -> 6710\n",
      "Q1235731 -> 6264\n",
      "Q5694014 -> 5979\n",
      "Q22279 -> 5908\n",
      "Q3956796 -> 5792\n",
      "Q212648 -> 5732\n",
      "Q1174175 -> 5688\n",
      "Q720121 -> 5515\n",
      "Q6182718 -> 5287\n",
      "Q3105215 -> 5199\n",
      "Q8000233 -> 5133\n",
      "Q15972549 -> 5018\n",
      "Q929581 -> 4948\n",
      "Q3090307 -> 4890\n",
      "Q158813 -> 4877\n",
      "Q16106910 -> 4808\n",
      "Q381157 -> 4776\n",
      "Q11153 -> 4651\n",
      "Q239411 -> 4649\n",
      "Q16104403 -> 4522\n",
      "Q19953601 -> 4441\n",
      "Q182788 -> 4435\n",
      "Q419976 -> 4298\n",
      "Q16146870 -> 4213\n",
      "Q186215 -> 4120\n",
      "Q1363468 -> 4088\n",
      "Q1280288 -> 4085\n",
      "Q7384672 -> 4059\n",
      "Q472241 -> 4000\n",
      "Q22360 -> 3965\n",
      "Q37084447 -> 3898\n",
      "Q926069 -> 3754\n",
      "Q7437083 -> 3736\n",
      "Q5300433 -> 3709\n",
      "Q4716651 -> 3706\n",
      "Q4898286 -> 3681\n",
      "Q539493 -> 3507\n",
      "Q256380 -> 3492\n",
      "Q887111 -> 3489\n",
      "Q207 -> 3474\n",
      "Q4496 -> 3440\n",
      "Q6409269 -> 3386\n",
      "Q4962244 -> 3308\n",
      "Q3601035 -> 3284\n",
      "Q16192221 -> 3272\n",
      "Q295492 -> 3265\n",
      "Q1357640 -> 3247\n",
      "Q13475242 -> 3237\n",
      "Q11702 -> 3204\n",
      "Q173839 -> 3073\n",
      "Q45940 -> 3063\n",
      "Q1822266 -> 3032\n",
      "Q1857141 -> 3016\n",
      "Q862186 -> 2970\n",
      "Q881188 -> 2923\n",
      "Q971308 -> 2898\n",
      "Q16187041 -> 2870\n",
      "Q6388290 -> 2867\n",
      "Q1135774 -> 2744\n",
      "Q16215583 -> 2736\n",
      "Q16194125 -> 2707\n",
      "Q5725737 -> 2701\n",
      "Q4773428 -> 2698\n",
      "Q539444 -> 2603\n",
      "Q881196 -> 2596\n",
      "Q1525924 -> 2586\n",
      "Q331278 -> 2585\n",
      "Q6380211 -> 2535\n",
      "Q1431761 -> 2505\n",
      "Q16221742 -> 2473\n",
      "Q28113710 -> 2460\n",
      "Q6106781 -> 2414\n",
      "Q1415243 -> 2412\n",
      "Q11171 -> 2405\n",
      "Q23016975 -> 2354\n",
      "Q861999 -> 2353\n"
     ]
    }
   ],
   "source": [
    "for k in poli_quotes_combined.keys():\n",
    "    value = poli_quotes_combined[k]\n",
    "    print(f'{k} -> {len(value[\"quotations\"])}')"
   ]
  },
  {
   "cell_type": "code",
   "execution_count": 69,
   "id": "91c7abe9-a992-4c98-bf62-967a2d09c61b",
   "metadata": {},
   "outputs": [],
   "source": [
    "poli_quotes_concat = {}\n",
    "\n",
    "with open('politician-quotes-combined_1636336204264.json', 'r') as f:\n",
    "    poli_quotes_concat = json.load(f)"
   ]
  },
  {
   "cell_type": "code",
   "execution_count": 70,
   "id": "c4259e55-d77f-4e56-8e29-2fd1d41dd325",
   "metadata": {},
   "outputs": [],
   "source": [
    "for k in poli_quotes_concat.keys():\n",
    "    elem = poli_quotes_concat[k]\n",
    "    \n",
    "    elem['quotations'].sort(key = lambda x: len(x['quotation']), reverse = True)\n",
    "    concat = ''\n",
    "    for i in range(1000):\n",
    "        concat += elem['quotations'][i]['quotation']\n",
    "    \n",
    "    elem['quotations'] = concat"
   ]
  },
  {
   "cell_type": "code",
   "execution_count": 71,
   "id": "3986a006-ad1d-449b-a570-ba0ebfbfbbfd",
   "metadata": {},
   "outputs": [],
   "source": [
    "write_dict_to_file('politician-quotes-concatenated', poli_quotes_concat)"
   ]
  },
  {
   "cell_type": "code",
   "execution_count": null,
   "id": "f678811d-9f6c-4c9e-b124-72d209bad210",
   "metadata": {},
   "outputs": [],
   "source": [
    "test_dem_df.head()"
   ]
  },
  {
   "cell_type": "code",
   "execution_count": null,
   "id": "3aeb1050-afd6-4cd3-b03f-fc9569d50dc2",
   "metadata": {},
   "outputs": [],
   "source": [
    "test_rep_df.head()"
   ]
  },
  {
   "cell_type": "code",
   "execution_count": null,
   "id": "4e15d1cf-b4af-4ea8-bd2f-0576eb4220e7",
   "metadata": {},
   "outputs": [],
   "source": [
    "i = 0\n",
    "\n",
    "with bz2.open(PATH_TO_INPUT, 'rb') as in_file:\n",
    "#     with bz2.open(PATH_TO_OUT, 'wb') as out_file:\n",
    "    with open(PATH_TO_OUT, 'wb') as out_file:\n",
    "        out_file.write('[\\n'.encode('utf-8'))\n",
    "        for row in in_file:\n",
    "            row = json.loads(row)\n",
    "#             print(row)\n",
    "            \n",
    "            out_row = json.dumps(row)\n",
    "#             out_row = '{\"hello\": \"world\"}'\n",
    "            out_row = out_row + (',\\n' if i < 9 else '\\n')\n",
    "            out_file.write(out_row.encode('utf-8'))\n",
    "            \n",
    "            i+=1\n",
    "            if (i == 10):\n",
    "                out_file.write(']'.encode('utf-8'))\n",
    "                break"
   ]
  },
  {
   "cell_type": "code",
   "execution_count": null,
   "id": "b4b1145c-9e34-4142-84d4-7bf7a97897b0",
   "metadata": {},
   "outputs": [],
   "source": []
  }
 ],
 "metadata": {
  "kernelspec": {
   "display_name": "Python 3",
   "language": "python",
   "name": "python3"
  },
  "language_info": {
   "codemirror_mode": {
    "name": "ipython",
    "version": 3
   },
   "file_extension": ".py",
   "mimetype": "text/x-python",
   "name": "python",
   "nbconvert_exporter": "python",
   "pygments_lexer": "ipython3",
   "version": "3.8.8"
  }
 },
 "nbformat": 4,
 "nbformat_minor": 5
}
