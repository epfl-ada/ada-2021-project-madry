{
 "cells": [
  {
   "cell_type": "code",
   "execution_count": 1,
   "metadata": {},
   "outputs": [],
   "source": [
    "%load_ext autoreload\n",
    "%autoreload 2"
   ]
  },
  {
   "cell_type": "code",
   "execution_count": 5,
   "metadata": {},
   "outputs": [],
   "source": [
    "import pandas as pd\n",
    "import numpy as np"
   ]
  },
  {
   "cell_type": "code",
   "execution_count": 30,
   "metadata": {},
   "outputs": [],
   "source": [
    "from helpers import predict_personality\n",
    "\n",
    "sample_data = pd.read_csv('data/sample-liwc.csv')\n",
    "personality_data = predict_personality(sample_data, sig_level=1)"
   ]
  },
  {
   "cell_type": "code",
   "execution_count": 31,
   "metadata": {},
   "outputs": [
    {
     "data": {
      "text/html": [
       "<div>\n",
       "<style scoped>\n",
       "    .dataframe tbody tr th:only-of-type {\n",
       "        vertical-align: middle;\n",
       "    }\n",
       "\n",
       "    .dataframe tbody tr th {\n",
       "        vertical-align: top;\n",
       "    }\n",
       "\n",
       "    .dataframe thead th {\n",
       "        text-align: right;\n",
       "    }\n",
       "</style>\n",
       "<table border=\"1\" class=\"dataframe\">\n",
       "  <thead>\n",
       "    <tr style=\"text-align: right;\">\n",
       "      <th></th>\n",
       "      <th>neuroticism</th>\n",
       "      <th>anxiety</th>\n",
       "      <th>hostility</th>\n",
       "      <th>depression</th>\n",
       "      <th>self_consciousness</th>\n",
       "      <th>immoderation</th>\n",
       "      <th>vulnerability</th>\n",
       "      <th>extraversion</th>\n",
       "      <th>friendliness</th>\n",
       "      <th>gregariousness</th>\n",
       "      <th>...</th>\n",
       "      <th>cooperation</th>\n",
       "      <th>modesty</th>\n",
       "      <th>sympathy</th>\n",
       "      <th>conscientiousness</th>\n",
       "      <th>self_efficacy</th>\n",
       "      <th>orderliness</th>\n",
       "      <th>dutifulness</th>\n",
       "      <th>achievement_striving</th>\n",
       "      <th>self_discipline</th>\n",
       "      <th>cautiousness</th>\n",
       "    </tr>\n",
       "  </thead>\n",
       "  <tbody>\n",
       "    <tr>\n",
       "      <th>0</th>\n",
       "      <td>0.992489</td>\n",
       "      <td>0.750799</td>\n",
       "      <td>1.974492</td>\n",
       "      <td>-0.350115</td>\n",
       "      <td>-0.532238</td>\n",
       "      <td>-0.25225</td>\n",
       "      <td>0.299695</td>\n",
       "      <td>3.370045</td>\n",
       "      <td>5.045215</td>\n",
       "      <td>4.919536</td>\n",
       "      <td>...</td>\n",
       "      <td>2.6803</td>\n",
       "      <td>1.184576</td>\n",
       "      <td>2.04752</td>\n",
       "      <td>-0.799955</td>\n",
       "      <td>2.166654</td>\n",
       "      <td>0.873801</td>\n",
       "      <td>1.072284</td>\n",
       "      <td>-1.016212</td>\n",
       "      <td>-0.793337</td>\n",
       "      <td>0.108128</td>\n",
       "    </tr>\n",
       "  </tbody>\n",
       "</table>\n",
       "<p>1 rows × 35 columns</p>\n",
       "</div>"
      ],
      "text/plain": [
       "   neuroticism   anxiety  hostility  depression  self_consciousness  \\\n",
       "0     0.992489  0.750799   1.974492   -0.350115           -0.532238   \n",
       "\n",
       "   immoderation  vulnerability  extraversion  friendliness  gregariousness  \\\n",
       "0      -0.25225       0.299695      3.370045      5.045215        4.919536   \n",
       "\n",
       "   ...  cooperation   modesty  sympathy  conscientiousness  self_efficacy  \\\n",
       "0  ...       2.6803  1.184576   2.04752          -0.799955       2.166654   \n",
       "\n",
       "   orderliness  dutifulness  achievement_striving  self_discipline  \\\n",
       "0     0.873801     1.072284             -1.016212        -0.793337   \n",
       "\n",
       "   cautiousness  \n",
       "0      0.108128  \n",
       "\n",
       "[1 rows x 35 columns]"
      ]
     },
     "execution_count": 31,
     "metadata": {},
     "output_type": "execute_result"
    }
   ],
   "source": [
    "personality_data"
   ]
  },
  {
   "cell_type": "code",
   "execution_count": 6,
   "metadata": {},
   "outputs": [],
   "source": [
    "speakers = pd.read_parquet('data/speaker_attributes.parquet')"
   ]
  },
  {
   "cell_type": "code",
   "execution_count": 6,
   "metadata": {},
   "outputs": [
    {
     "data": {
      "text/plain": [
       "(9055981, 15)"
      ]
     },
     "execution_count": 6,
     "metadata": {},
     "output_type": "execute_result"
    }
   ],
   "source": [
    "speakers.shape"
   ]
  },
  {
   "cell_type": "code",
   "execution_count": 21,
   "metadata": {},
   "outputs": [],
   "source": [
    "from helpers import to_datetime\n",
    "DEMOCRATIC_PARTY_QID = 'Q29552'\n",
    "REPUBLICAN_PARTY_QID = 'Q29468'\n",
    "POLITICIAN_QID = 'Q82955'\n",
    "party_match = speakers.party.apply(lambda p: DEMOCRATIC_PARTY_QID in p or REPUBLICAN_PARTY_QID in p if p is not None else False)\n",
    "occupation_match = speakers.occupation.apply(lambda o: POLITICIAN_QID in o if o is not None else False)\n",
    "dob_match = speakers.date_of_birth.apply(lambda d: to_datetime(d[0]) > datetime.date(1900, 1, 1) if d is not None else False)\n",
    "american_politicians = speakers[party_match & occupation_match & dob_match]\n"
   ]
  },
  {
   "cell_type": "code",
   "execution_count": 24,
   "metadata": {},
   "outputs": [],
   "source": [
    "american_politicians.to_json('data/american_politicans.json', orient='records')"
   ]
  }
 ],
 "metadata": {
  "interpreter": {
   "hash": "f6a042026b0d43fbad8d0b7067c0734de16ecabdfc65158b395d6da2054a1561"
  },
  "kernelspec": {
   "display_name": "Python 3.8.11 64-bit ('ada': conda)",
   "name": "python3"
  },
  "language_info": {
   "codemirror_mode": {
    "name": "ipython",
    "version": 3
   },
   "file_extension": ".py",
   "mimetype": "text/x-python",
   "name": "python",
   "nbconvert_exporter": "python",
   "pygments_lexer": "ipython3",
   "version": "3.8.11"
  },
  "orig_nbformat": 4
 },
 "nbformat": 4,
 "nbformat_minor": 2
}
