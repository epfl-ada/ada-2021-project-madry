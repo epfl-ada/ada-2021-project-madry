{
 "cells": [
  {
   "cell_type": "code",
   "execution_count": null,
   "metadata": {},
   "outputs": [],
   "source": [
    "import pandas as pd\n",
    "import numpy as np"
   ]
  },
  {
   "cell_type": "code",
   "execution_count": null,
   "metadata": {},
   "outputs": [],
   "source": [
    "liwc_ocean = pd.read_csv('data/LIWC_OCEAN.csv', index_col=0)"
   ]
  },
  {
   "cell_type": "code",
   "execution_count": null,
   "metadata": {},
   "outputs": [],
   "source": [
    "liwc_ocean_sig_data = pd.read_csv('data/LIWC_OCEAN_Significance.csv', index_col=0)"
   ]
  },
  {
   "cell_type": "code",
   "execution_count": null,
   "metadata": {},
   "outputs": [],
   "source": [
    "liwc_ocean * (liwc_ocean_sig_data >= 0).astype(int)"
   ]
  },
  {
   "cell_type": "code",
   "execution_count": null,
   "metadata": {},
   "outputs": [],
   "source": [
    "liwc_ocean"
   ]
  },
  {
   "cell_type": "code",
   "execution_count": null,
   "metadata": {},
   "outputs": [],
   "source": [
    "liwc_ocean.columns"
   ]
  },
  {
   "cell_type": "code",
   "execution_count": null,
   "metadata": {},
   "outputs": [],
   "source": [
    "liwc_ocean.index"
   ]
  },
  {
   "cell_type": "code",
   "execution_count": null,
   "metadata": {},
   "outputs": [],
   "source": [
    "quotes_liwc = pd.read_csv('data/sample-liwc.csv')"
   ]
  },
  {
   "cell_type": "code",
   "execution_count": null,
   "metadata": {},
   "outputs": [],
   "source": [
    "quotes_liwc"
   ]
  },
  {
   "cell_type": "code",
   "execution_count": null,
   "metadata": {},
   "outputs": [],
   "source": [
    "liwc_ocean.index"
   ]
  },
  {
   "cell_type": "code",
   "execution_count": null,
   "metadata": {},
   "outputs": [],
   "source": [
    "quotes_liwc.columns"
   ]
  },
  {
   "cell_type": "code",
   "execution_count": null,
   "metadata": {},
   "outputs": [],
   "source": [
    "liwc_ocean_mapping = {\n",
    "    'Pronoun': 'pronouns', \n",
    "    'I': 'first_person_sing',\n",
    "    'We': 'first_person_pl',\n",
    "    'Self': 'first_person',\n",
    "    'You': 'second_person',\n",
    "    'Other': 'third_person',\n",
    "    'Negate': 'negation',\n",
    "    'Assent': 'assent',\n",
    "    'Article': 'articles',\n",
    "    'Preps': 'prepositions',\n",
    "    'Number': 'numbers',\n",
    "    'Affect': 'affect',\n",
    "    'Posemo': 'positive_emotion',\n",
    "    'Posfeel': 'positive_feeling',\n",
    "    'Optim': 'optimism',\n",
    "    'Negemo': 'negative_emotion',\n",
    "    'Anx': 'anxiety_fear',\n",
    "    'Anger': 'anger',\n",
    "    'Sad': 'sadness',\n",
    "    'Cogmech': 'cognitive_proc',\n",
    "    'Cause': 'causation',\n",
    "    'Insight': 'insight',\n",
    "    'Discrep': 'discrepancy',\n",
    "    'Inhib': 'inhibition',\n",
    "    'Tentat': 'tentative',\n",
    "    'Certain': 'certainty',\n",
    "    'Senses': 'sensory_proc',\n",
    "    'See': 'seeing',\n",
    "    'Hear': 'hearing',\n",
    "    'Feel': 'feeling',\n",
    "    'Social': 'social_proc',\n",
    "    'Comm': 'communication',\n",
    "    'Othref': 'other_refs',\n",
    "    'Friends': 'friends',\n",
    "    'Family': 'family',\n",
    "    'Humans': 'humans',\n",
    "    'Time': 'time',\n",
    "    'Past': 'past_tense',\n",
    "    'Present': 'present_tense',\n",
    "    'Future': 'future_tense',\n",
    "    'Space': 'space',\n",
    "    'Up': 'up',\n",
    "    'Down': 'down',\n",
    "    'Incl': 'inclusive',\n",
    "    'Excl': 'exclusive',\n",
    "    'Motion': 'motion',\n",
    "    'Occup': 'occupation',\n",
    "    'School': 'school',\n",
    "    'Job': 'job',\n",
    "    'Achieve': 'achievement',\n",
    "    'Leisure': 'leisure',\n",
    "    'Home': 'home',\n",
    "    'Sports': 'sports',\n",
    "    'TV': 'tv_movies',\n",
    "    'Music': 'music',\n",
    "    'Money': 'money',\n",
    "    'Metaph': 'metaphysical',\n",
    "    'Relig': 'religion',\n",
    "    'Death': 'death',\n",
    "    'Physcal': 'physical_states',\n",
    "    'Body': 'body_states',\n",
    "    'Sexual': 'sexuality',\n",
    "    'Eating': 'eat_drink',\n",
    "    'Sleep': 'sleeping',\n",
    "    'Groom': 'grooming',\n",
    "    'Swear': 'swear_words'\n",
    "}"
   ]
  },
  {
   "cell_type": "code",
   "execution_count": null,
   "metadata": {},
   "outputs": [],
   "source": [
    "liwc_features = quotes_liwc[list(liwc_ocean_mapping.keys())].rename(columns=liwc_ocean_mapping)"
   ]
  },
  {
   "cell_type": "code",
   "execution_count": null,
   "metadata": {},
   "outputs": [],
   "source": [
    "liwc_features"
   ]
  },
  {
   "cell_type": "code",
   "execution_count": null,
   "metadata": {},
   "outputs": [],
   "source": [
    "(liwc_ocean.index == liwc_features.columns).all()"
   ]
  },
  {
   "cell_type": "code",
   "execution_count": null,
   "metadata": {},
   "outputs": [],
   "source": [
    "liwc_features_norm = liwc_features.div(liwc_features.sum(axis=1), axis=0)"
   ]
  },
  {
   "cell_type": "code",
   "execution_count": null,
   "metadata": {},
   "outputs": [],
   "source": [
    "liwc_features_norm"
   ]
  },
  {
   "cell_type": "markdown",
   "metadata": {},
   "source": []
  },
  {
   "cell_type": "code",
   "execution_count": null,
   "metadata": {},
   "outputs": [],
   "source": [
    "data = liwc_features_norm.dot(liwc_ocean)"
   ]
  },
  {
   "cell_type": "code",
   "execution_count": null,
   "metadata": {},
   "outputs": [],
   "source": [
    "data"
   ]
  },
  {
   "cell_type": "code",
   "execution_count": null,
   "metadata": {},
   "outputs": [],
   "source": [
    "liwc_features_norm.dot(liwc_ocean * (liwc_ocean_sig_data >= 0).astype(int))"
   ]
  },
  {
   "cell_type": "code",
   "execution_count": null,
   "metadata": {},
   "outputs": [],
   "source": [
    "liwc_ocean"
   ]
  },
  {
   "cell_type": "code",
   "execution_count": null,
   "metadata": {},
   "outputs": [],
   "source": [
    "liwc_features"
   ]
  },
  {
   "cell_type": "code",
   "execution_count": 30,
   "metadata": {},
   "outputs": [],
   "source": [
    "from helpers import predict_personality\n",
    "\n",
    "liwc_data = pd.read_csv('data/sample-liwc.csv')\n",
    "personality_data = predict_personality(liwc_data, sig_level=1)"
   ]
  },
  {
   "cell_type": "code",
   "execution_count": 31,
   "metadata": {},
   "outputs": [
    {
     "data": {
      "text/html": [
       "<div>\n",
       "<style scoped>\n",
       "    .dataframe tbody tr th:only-of-type {\n",
       "        vertical-align: middle;\n",
       "    }\n",
       "\n",
       "    .dataframe tbody tr th {\n",
       "        vertical-align: top;\n",
       "    }\n",
       "\n",
       "    .dataframe thead th {\n",
       "        text-align: right;\n",
       "    }\n",
       "</style>\n",
       "<table border=\"1\" class=\"dataframe\">\n",
       "  <thead>\n",
       "    <tr style=\"text-align: right;\">\n",
       "      <th></th>\n",
       "      <th>neuroticism</th>\n",
       "      <th>anxiety</th>\n",
       "      <th>hostility</th>\n",
       "      <th>depression</th>\n",
       "      <th>self_consciousness</th>\n",
       "      <th>immoderation</th>\n",
       "      <th>vulnerability</th>\n",
       "      <th>extraversion</th>\n",
       "      <th>friendliness</th>\n",
       "      <th>gregariousness</th>\n",
       "      <th>...</th>\n",
       "      <th>cooperation</th>\n",
       "      <th>modesty</th>\n",
       "      <th>sympathy</th>\n",
       "      <th>conscientiousness</th>\n",
       "      <th>self_efficacy</th>\n",
       "      <th>orderliness</th>\n",
       "      <th>dutifulness</th>\n",
       "      <th>achievement_striving</th>\n",
       "      <th>self_discipline</th>\n",
       "      <th>cautiousness</th>\n",
       "    </tr>\n",
       "  </thead>\n",
       "  <tbody>\n",
       "    <tr>\n",
       "      <th>0</th>\n",
       "      <td>0.992489</td>\n",
       "      <td>0.750799</td>\n",
       "      <td>1.974492</td>\n",
       "      <td>-0.350115</td>\n",
       "      <td>-0.532238</td>\n",
       "      <td>-0.25225</td>\n",
       "      <td>0.299695</td>\n",
       "      <td>3.370045</td>\n",
       "      <td>5.045215</td>\n",
       "      <td>4.919536</td>\n",
       "      <td>...</td>\n",
       "      <td>2.6803</td>\n",
       "      <td>1.184576</td>\n",
       "      <td>2.04752</td>\n",
       "      <td>-0.799955</td>\n",
       "      <td>2.166654</td>\n",
       "      <td>0.873801</td>\n",
       "      <td>1.072284</td>\n",
       "      <td>-1.016212</td>\n",
       "      <td>-0.793337</td>\n",
       "      <td>0.108128</td>\n",
       "    </tr>\n",
       "  </tbody>\n",
       "</table>\n",
       "<p>1 rows × 35 columns</p>\n",
       "</div>"
      ],
      "text/plain": [
       "   neuroticism   anxiety  hostility  depression  self_consciousness  \\\n",
       "0     0.992489  0.750799   1.974492   -0.350115           -0.532238   \n",
       "\n",
       "   immoderation  vulnerability  extraversion  friendliness  gregariousness  \\\n",
       "0      -0.25225       0.299695      3.370045      5.045215        4.919536   \n",
       "\n",
       "   ...  cooperation   modesty  sympathy  conscientiousness  self_efficacy  \\\n",
       "0  ...       2.6803  1.184576   2.04752          -0.799955       2.166654   \n",
       "\n",
       "   orderliness  dutifulness  achievement_striving  self_discipline  \\\n",
       "0     0.873801     1.072284             -1.016212        -0.793337   \n",
       "\n",
       "   cautiousness  \n",
       "0      0.108128  \n",
       "\n",
       "[1 rows x 35 columns]"
      ]
     },
     "execution_count": 31,
     "metadata": {},
     "output_type": "execute_result"
    }
   ],
   "source": [
    "personality_data"
   ]
  }
 ],
 "metadata": {
  "interpreter": {
   "hash": "f6a042026b0d43fbad8d0b7067c0734de16ecabdfc65158b395d6da2054a1561"
  },
  "kernelspec": {
   "display_name": "Python 3.8.11 64-bit ('ada': conda)",
   "name": "python3"
  },
  "language_info": {
   "codemirror_mode": {
    "name": "ipython",
    "version": 3
   },
   "file_extension": ".py",
   "mimetype": "text/x-python",
   "name": "python",
   "nbconvert_exporter": "python",
   "pygments_lexer": "ipython3",
   "version": "3.8.11"
  },
  "orig_nbformat": 4
 },
 "nbformat": 4,
 "nbformat_minor": 2
}
