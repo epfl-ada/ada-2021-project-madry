{
 "cells": [
  {
   "cell_type": "code",
   "execution_count": 1,
   "metadata": {},
   "outputs": [],
   "source": [
    "import pandas as pd\n",
    "import numpy as np"
   ]
  },
  {
   "cell_type": "code",
   "execution_count": 4,
   "metadata": {},
   "outputs": [],
   "source": [
    "liwc_ocean = pd.read_csv('data/LIWC_OCEAN.csv', index_col=0)"
   ]
  },
  {
   "cell_type": "code",
   "execution_count": 6,
   "metadata": {},
   "outputs": [
    {
     "data": {
      "text/plain": [
       "Index(['pronouns', 'first_person_sing', 'first_person_pl', 'first_person',\n",
       "       'second_person', 'third_person', 'negation', 'assent', 'articles',\n",
       "       'prepositions', 'numbers', 'affect', 'positive_emotion',\n",
       "       'positive_feeling', 'optimism', 'negative_emotion', 'anxiety_fear',\n",
       "       'anger', 'sadness', 'cognitive_proc', 'causation', 'insight',\n",
       "       'discrepancy', 'inhibition', 'tentative', 'certainty', 'sensory_proc',\n",
       "       'seeing', 'hearing', 'feeling', 'social_proc', 'communication',\n",
       "       'other_refs', 'friends', 'family', 'humans', 'time', 'past_tense',\n",
       "       'present_tense', 'future_tense', 'space', 'up', 'down', 'inclusive',\n",
       "       'exclusive', 'motion', 'occupation', 'school', 'job', 'achievement',\n",
       "       'leisure', 'home', 'sports', 'tv_movies', 'music', 'money',\n",
       "       'metaphysical', 'religion', 'death', 'physical_states', 'body_states',\n",
       "       'sexuality', 'eat_drink', 'sleeping', 'grooming', 'swear_words'],\n",
       "      dtype='object')"
      ]
     },
     "execution_count": 6,
     "metadata": {},
     "output_type": "execute_result"
    }
   ],
   "source": [
    "liwc_ocean.index"
   ]
  },
  {
   "cell_type": "code",
   "execution_count": 12,
   "metadata": {},
   "outputs": [],
   "source": [
    "quotes_liwc = pd.read_csv('data/quotes-liwc.csv')"
   ]
  },
  {
   "cell_type": "code",
   "execution_count": 13,
   "metadata": {},
   "outputs": [
    {
     "data": {
      "text/html": [
       "<div>\n",
       "<style scoped>\n",
       "    .dataframe tbody tr th:only-of-type {\n",
       "        vertical-align: middle;\n",
       "    }\n",
       "\n",
       "    .dataframe tbody tr th {\n",
       "        vertical-align: top;\n",
       "    }\n",
       "\n",
       "    .dataframe thead th {\n",
       "        text-align: right;\n",
       "    }\n",
       "</style>\n",
       "<table border=\"1\" class=\"dataframe\">\n",
       "  <thead>\n",
       "    <tr style=\"text-align: right;\">\n",
       "      <th></th>\n",
       "      <th>Filename</th>\n",
       "      <th>Segment</th>\n",
       "      <th>WC</th>\n",
       "      <th>WPS</th>\n",
       "      <th>Sixltr</th>\n",
       "      <th>Dic</th>\n",
       "      <th>Pronoun</th>\n",
       "      <th>I</th>\n",
       "      <th>We</th>\n",
       "      <th>Self</th>\n",
       "      <th>...</th>\n",
       "      <th>Comma</th>\n",
       "      <th>Colon</th>\n",
       "      <th>SemiC</th>\n",
       "      <th>QMark</th>\n",
       "      <th>Exclam</th>\n",
       "      <th>Dash</th>\n",
       "      <th>Quote</th>\n",
       "      <th>Apostro</th>\n",
       "      <th>Parenth</th>\n",
       "      <th>OtherP</th>\n",
       "    </tr>\n",
       "  </thead>\n",
       "  <tbody>\n",
       "    <tr>\n",
       "      <th>0</th>\n",
       "      <td>quotes.txt</td>\n",
       "      <td>1</td>\n",
       "      <td>296</td>\n",
       "      <td>18.5</td>\n",
       "      <td>22.97</td>\n",
       "      <td>71.28</td>\n",
       "      <td>7.43</td>\n",
       "      <td>2.7</td>\n",
       "      <td>3.38</td>\n",
       "      <td>6.08</td>\n",
       "      <td>...</td>\n",
       "      <td>4.73</td>\n",
       "      <td>0.0</td>\n",
       "      <td>0.0</td>\n",
       "      <td>0.34</td>\n",
       "      <td>0.0</td>\n",
       "      <td>0.34</td>\n",
       "      <td>0.0</td>\n",
       "      <td>3.04</td>\n",
       "      <td>0.68</td>\n",
       "      <td>0.68</td>\n",
       "    </tr>\n",
       "  </tbody>\n",
       "</table>\n",
       "<p>1 rows × 86 columns</p>\n",
       "</div>"
      ],
      "text/plain": [
       "     Filename  Segment   WC   WPS  Sixltr    Dic  Pronoun    I    We  Self  \\\n",
       "0  quotes.txt        1  296  18.5   22.97  71.28     7.43  2.7  3.38  6.08   \n",
       "\n",
       "   ...  Comma  Colon  SemiC  QMark  Exclam  Dash  Quote  Apostro  Parenth  \\\n",
       "0  ...   4.73    0.0    0.0   0.34     0.0  0.34    0.0     3.04     0.68   \n",
       "\n",
       "   OtherP  \n",
       "0    0.68  \n",
       "\n",
       "[1 rows x 86 columns]"
      ]
     },
     "execution_count": 13,
     "metadata": {},
     "output_type": "execute_result"
    }
   ],
   "source": [
    "quotes_liwc"
   ]
  },
  {
   "cell_type": "code",
   "execution_count": 14,
   "metadata": {},
   "outputs": [
    {
     "data": {
      "text/plain": [
       "Index(['pronouns', 'first_person_sing', 'first_person_pl', 'first_person',\n",
       "       'second_person', 'third_person', 'negation', 'assent', 'articles',\n",
       "       'prepositions', 'numbers', 'affect', 'positive_emotion',\n",
       "       'positive_feeling', 'optimism', 'negative_emotion', 'anxiety_fear',\n",
       "       'anger', 'sadness', 'cognitive_proc', 'causation', 'insight',\n",
       "       'discrepancy', 'inhibition', 'tentative', 'certainty', 'sensory_proc',\n",
       "       'seeing', 'hearing', 'feeling', 'social_proc', 'communication',\n",
       "       'other_refs', 'friends', 'family', 'humans', 'time', 'past_tense',\n",
       "       'present_tense', 'future_tense', 'space', 'up', 'down', 'inclusive',\n",
       "       'exclusive', 'motion', 'occupation', 'school', 'job', 'achievement',\n",
       "       'leisure', 'home', 'sports', 'tv_movies', 'music', 'money',\n",
       "       'metaphysical', 'religion', 'death', 'physical_states', 'body_states',\n",
       "       'sexuality', 'eat_drink', 'sleeping', 'grooming', 'swear_words'],\n",
       "      dtype='object')"
      ]
     },
     "execution_count": 14,
     "metadata": {},
     "output_type": "execute_result"
    }
   ],
   "source": [
    "liwc_ocean.index"
   ]
  },
  {
   "cell_type": "code",
   "execution_count": 15,
   "metadata": {},
   "outputs": [
    {
     "data": {
      "text/plain": [
       "Index(['Filename', 'Segment', 'WC', 'WPS', 'Sixltr', 'Dic', 'Pronoun', 'I',\n",
       "       'We', 'Self', 'You', 'Other', 'Negate', 'Assent', 'Article', 'Preps',\n",
       "       'Number', 'Affect', 'Posemo', 'Posfeel', 'Optim', 'Negemo', 'Anx',\n",
       "       'Anger', 'Sad', 'Cogmech', 'Cause', 'Insight', 'Discrep', 'Inhib',\n",
       "       'Tentat', 'Certain', 'Senses', 'See', 'Hear', 'Feel', 'Social', 'Comm',\n",
       "       'Othref', 'Friends', 'Family', 'Humans', 'Time', 'Past', 'Present',\n",
       "       'Future', 'Space', 'Up', 'Down', 'Incl', 'Excl', 'Motion', 'Occup',\n",
       "       'School', 'Job', 'Achieve', 'Leisure', 'Home', 'Sports', 'TV', 'Music',\n",
       "       'Money', 'Metaph', 'Relig', 'Death', 'Physcal', 'Body', 'Sexual',\n",
       "       'Eating', 'Sleep', 'Groom', 'Swear', 'Nonfl', 'Fillers', 'AllPunc',\n",
       "       'Period', 'Comma', 'Colon', 'SemiC', 'QMark', 'Exclam', 'Dash', 'Quote',\n",
       "       'Apostro', 'Parenth', 'OtherP'],\n",
       "      dtype='object')"
      ]
     },
     "execution_count": 15,
     "metadata": {},
     "output_type": "execute_result"
    }
   ],
   "source": [
    "quotes_liwc.columns"
   ]
  },
  {
   "cell_type": "code",
   "execution_count": 31,
   "metadata": {},
   "outputs": [],
   "source": [
    "liwc_ocean_mapping = {\n",
    "    'Pronoun': 'pronouns', \n",
    "    'I': 'first_person_sing',\n",
    "    'We': 'first_person_pl',\n",
    "    'Self': 'first_person',\n",
    "    'You': 'second_person',\n",
    "    'Other': 'third_person',\n",
    "    'Negate': 'negation',\n",
    "    'Assent': 'assent',\n",
    "    'Article': 'articles',\n",
    "    'Preps': 'prepositions',\n",
    "    'Number': 'numbers',\n",
    "    'Affect': 'affect',\n",
    "    'Posemo': 'positive_emotion',\n",
    "    'Posfeel': 'positive_feeling',\n",
    "    'Optim': 'optimism',\n",
    "    'Negemo': 'negative_emotion',\n",
    "    'Anx': 'anxiety_fear',\n",
    "    'Anger': 'anger',\n",
    "    'Sad': 'sadness',\n",
    "    'Cogmech': 'cognitive_proc',\n",
    "    'Cause': 'causation',\n",
    "    'Insight': 'insight',\n",
    "    'Discrep': 'discrepancy',\n",
    "    'Inhib': 'inhibition',\n",
    "    'Tentat': 'tentative',\n",
    "    'Certain': 'certainty',\n",
    "    'Senses': 'sensory_proc',\n",
    "    'See': 'seeing',\n",
    "    'Hear': 'hearing',\n",
    "    'Feel': 'feeling',\n",
    "    'Social': 'social_proc',\n",
    "    'Comm': 'communication',\n",
    "    'Othref': 'other_refs',\n",
    "    'Friends': 'friends',\n",
    "    'Family': 'family',\n",
    "    'Humans': 'humans',\n",
    "    'Time': 'time',\n",
    "    'Past': 'past_tense',\n",
    "    'Present': 'present_tense',\n",
    "    'Future': 'future_tense',\n",
    "    'Space': 'space',\n",
    "    'Up': 'up',\n",
    "    'Down': 'down',\n",
    "    'Incl': 'inclusive',\n",
    "    'Excl': 'exclusive',\n",
    "    'Motion': 'motion',\n",
    "    'Occup': 'occupation',\n",
    "    'School': 'school',\n",
    "    'Job': 'job',\n",
    "    'Achieve': 'achievement',\n",
    "    'Leisure': 'leisure',\n",
    "    'Home': 'home',\n",
    "    'Sports': 'sports',\n",
    "    'TV': 'tv_movies',\n",
    "    'Music': 'music',\n",
    "    'Money': 'money',\n",
    "    'Metaph': 'metaphysical',\n",
    "    'Relig': 'religion',\n",
    "    'Death': 'death',\n",
    "    'Physcal': 'physical_states',\n",
    "    'Body': 'body_states',\n",
    "    'Sexual': 'sexuality',\n",
    "    'Eating': 'eat_drink',\n",
    "    'Sleep': 'sleeping',\n",
    "    'Groom': 'grooming',\n",
    "    'Swear': 'swear_words'\n",
    "}"
   ]
  },
  {
   "cell_type": "code",
   "execution_count": 32,
   "metadata": {},
   "outputs": [],
   "source": [
    "\n",
    "liwc_features = quotes_liwc[list(liwc_ocean_mapping.keys())].rename(columns=liwc_ocean_mapping)"
   ]
  },
  {
   "cell_type": "code",
   "execution_count": 33,
   "metadata": {},
   "outputs": [
    {
     "data": {
      "text/html": [
       "<div>\n",
       "<style scoped>\n",
       "    .dataframe tbody tr th:only-of-type {\n",
       "        vertical-align: middle;\n",
       "    }\n",
       "\n",
       "    .dataframe tbody tr th {\n",
       "        vertical-align: top;\n",
       "    }\n",
       "\n",
       "    .dataframe thead th {\n",
       "        text-align: right;\n",
       "    }\n",
       "</style>\n",
       "<table border=\"1\" class=\"dataframe\">\n",
       "  <thead>\n",
       "    <tr style=\"text-align: right;\">\n",
       "      <th></th>\n",
       "      <th>pronouns</th>\n",
       "      <th>first_person_sing</th>\n",
       "      <th>first_person_pl</th>\n",
       "      <th>first_person</th>\n",
       "      <th>second_person</th>\n",
       "      <th>third_person</th>\n",
       "      <th>negation</th>\n",
       "      <th>assent</th>\n",
       "      <th>articles</th>\n",
       "      <th>prepositions</th>\n",
       "      <th>...</th>\n",
       "      <th>metaphysical</th>\n",
       "      <th>religion</th>\n",
       "      <th>death</th>\n",
       "      <th>physical_states</th>\n",
       "      <th>body_states</th>\n",
       "      <th>sexuality</th>\n",
       "      <th>eat_drink</th>\n",
       "      <th>sleeping</th>\n",
       "      <th>grooming</th>\n",
       "      <th>swear_words</th>\n",
       "    </tr>\n",
       "  </thead>\n",
       "  <tbody>\n",
       "    <tr>\n",
       "      <th>0</th>\n",
       "      <td>7.43</td>\n",
       "      <td>2.7</td>\n",
       "      <td>3.38</td>\n",
       "      <td>6.08</td>\n",
       "      <td>0.0</td>\n",
       "      <td>0.68</td>\n",
       "      <td>1.01</td>\n",
       "      <td>0.34</td>\n",
       "      <td>9.46</td>\n",
       "      <td>15.2</td>\n",
       "      <td>...</td>\n",
       "      <td>0.0</td>\n",
       "      <td>0.0</td>\n",
       "      <td>0.0</td>\n",
       "      <td>1.01</td>\n",
       "      <td>0.34</td>\n",
       "      <td>0.34</td>\n",
       "      <td>0.0</td>\n",
       "      <td>0.0</td>\n",
       "      <td>0.34</td>\n",
       "      <td>0.0</td>\n",
       "    </tr>\n",
       "  </tbody>\n",
       "</table>\n",
       "<p>1 rows × 66 columns</p>\n",
       "</div>"
      ],
      "text/plain": [
       "   pronouns  first_person_sing  first_person_pl  first_person  second_person  \\\n",
       "0      7.43                2.7             3.38          6.08            0.0   \n",
       "\n",
       "   third_person  negation  assent  articles  prepositions  ...  metaphysical  \\\n",
       "0          0.68      1.01    0.34      9.46          15.2  ...           0.0   \n",
       "\n",
       "   religion  death  physical_states  body_states  sexuality  eat_drink  \\\n",
       "0       0.0    0.0             1.01         0.34       0.34        0.0   \n",
       "\n",
       "   sleeping  grooming  swear_words  \n",
       "0       0.0      0.34          0.0  \n",
       "\n",
       "[1 rows x 66 columns]"
      ]
     },
     "execution_count": 33,
     "metadata": {},
     "output_type": "execute_result"
    }
   ],
   "source": [
    "liwc_features"
   ]
  },
  {
   "cell_type": "code",
   "execution_count": 37,
   "metadata": {},
   "outputs": [
    {
     "data": {
      "text/plain": [
       "array([ True,  True,  True,  True,  True,  True,  True,  True,  True,\n",
       "        True,  True,  True,  True,  True,  True,  True,  True,  True,\n",
       "        True,  True,  True,  True,  True,  True,  True,  True,  True,\n",
       "        True,  True,  True,  True,  True,  True,  True,  True,  True,\n",
       "        True,  True,  True,  True,  True,  True,  True,  True,  True,\n",
       "        True,  True,  True,  True,  True,  True,  True,  True,  True,\n",
       "        True,  True,  True,  True,  True,  True,  True,  True,  True,\n",
       "        True,  True,  True])"
      ]
     },
     "execution_count": 37,
     "metadata": {},
     "output_type": "execute_result"
    }
   ],
   "source": [
    "liwc_ocean.index == liwc_features.columns"
   ]
  },
  {
   "cell_type": "code",
   "execution_count": 40,
   "metadata": {},
   "outputs": [],
   "source": [
    "liwc_features_norm = liwc_features.div(liwc_features.sum(axis=1), axis=0)"
   ]
  },
  {
   "cell_type": "code",
   "execution_count": 41,
   "metadata": {},
   "outputs": [
    {
     "data": {
      "text/html": [
       "<div>\n",
       "<style scoped>\n",
       "    .dataframe tbody tr th:only-of-type {\n",
       "        vertical-align: middle;\n",
       "    }\n",
       "\n",
       "    .dataframe tbody tr th {\n",
       "        vertical-align: top;\n",
       "    }\n",
       "\n",
       "    .dataframe thead th {\n",
       "        text-align: right;\n",
       "    }\n",
       "</style>\n",
       "<table border=\"1\" class=\"dataframe\">\n",
       "  <thead>\n",
       "    <tr style=\"text-align: right;\">\n",
       "      <th></th>\n",
       "      <th>pronouns</th>\n",
       "      <th>first_person_sing</th>\n",
       "      <th>first_person_pl</th>\n",
       "      <th>first_person</th>\n",
       "      <th>second_person</th>\n",
       "      <th>third_person</th>\n",
       "      <th>negation</th>\n",
       "      <th>assent</th>\n",
       "      <th>articles</th>\n",
       "      <th>prepositions</th>\n",
       "      <th>...</th>\n",
       "      <th>metaphysical</th>\n",
       "      <th>religion</th>\n",
       "      <th>death</th>\n",
       "      <th>physical_states</th>\n",
       "      <th>body_states</th>\n",
       "      <th>sexuality</th>\n",
       "      <th>eat_drink</th>\n",
       "      <th>sleeping</th>\n",
       "      <th>grooming</th>\n",
       "      <th>swear_words</th>\n",
       "    </tr>\n",
       "  </thead>\n",
       "  <tbody>\n",
       "    <tr>\n",
       "      <th>0</th>\n",
       "      <td>0.055254</td>\n",
       "      <td>0.020079</td>\n",
       "      <td>0.025136</td>\n",
       "      <td>0.045215</td>\n",
       "      <td>0.0</td>\n",
       "      <td>0.005057</td>\n",
       "      <td>0.007511</td>\n",
       "      <td>0.002528</td>\n",
       "      <td>0.07035</td>\n",
       "      <td>0.113036</td>\n",
       "      <td>...</td>\n",
       "      <td>0.0</td>\n",
       "      <td>0.0</td>\n",
       "      <td>0.0</td>\n",
       "      <td>0.007511</td>\n",
       "      <td>0.002528</td>\n",
       "      <td>0.002528</td>\n",
       "      <td>0.0</td>\n",
       "      <td>0.0</td>\n",
       "      <td>0.002528</td>\n",
       "      <td>0.0</td>\n",
       "    </tr>\n",
       "  </tbody>\n",
       "</table>\n",
       "<p>1 rows × 66 columns</p>\n",
       "</div>"
      ],
      "text/plain": [
       "   pronouns  first_person_sing  first_person_pl  first_person  second_person  \\\n",
       "0  0.055254           0.020079         0.025136      0.045215            0.0   \n",
       "\n",
       "   third_person  negation    assent  articles  prepositions  ...  \\\n",
       "0      0.005057  0.007511  0.002528   0.07035      0.113036  ...   \n",
       "\n",
       "   metaphysical  religion  death  physical_states  body_states  sexuality  \\\n",
       "0           0.0       0.0    0.0         0.007511     0.002528   0.002528   \n",
       "\n",
       "   eat_drink  sleeping  grooming  swear_words  \n",
       "0        0.0       0.0  0.002528          0.0  \n",
       "\n",
       "[1 rows x 66 columns]"
      ]
     },
     "execution_count": 41,
     "metadata": {},
     "output_type": "execute_result"
    }
   ],
   "source": [
    "liwc_features_norm"
   ]
  },
  {
   "cell_type": "markdown",
   "metadata": {},
   "source": []
  },
  {
   "cell_type": "code",
   "execution_count": 42,
   "metadata": {},
   "outputs": [],
   "source": [
    "data = liwc_features_norm.dot(liwc_ocean)"
   ]
  },
  {
   "cell_type": "code",
   "execution_count": 43,
   "metadata": {},
   "outputs": [
    {
     "data": {
      "text/html": [
       "<div>\n",
       "<style scoped>\n",
       "    .dataframe tbody tr th:only-of-type {\n",
       "        vertical-align: middle;\n",
       "    }\n",
       "\n",
       "    .dataframe tbody tr th {\n",
       "        vertical-align: top;\n",
       "    }\n",
       "\n",
       "    .dataframe thead th {\n",
       "        text-align: right;\n",
       "    }\n",
       "</style>\n",
       "<table border=\"1\" class=\"dataframe\">\n",
       "  <thead>\n",
       "    <tr style=\"text-align: right;\">\n",
       "      <th></th>\n",
       "      <th>neuroticism</th>\n",
       "      <th>anxiety</th>\n",
       "      <th>hostility</th>\n",
       "      <th>depression</th>\n",
       "      <th>self_consciousness</th>\n",
       "      <th>immoderation</th>\n",
       "      <th>vulnerability</th>\n",
       "      <th>extraversion</th>\n",
       "      <th>friendliness</th>\n",
       "      <th>gregariousness</th>\n",
       "      <th>...</th>\n",
       "      <th>cooperation</th>\n",
       "      <th>modesty</th>\n",
       "      <th>sympathy</th>\n",
       "      <th>conscientiousness</th>\n",
       "      <th>self_efficacy</th>\n",
       "      <th>orderliness</th>\n",
       "      <th>dutifulness</th>\n",
       "      <th>achievement_striving</th>\n",
       "      <th>self_discipline</th>\n",
       "      <th>cautiousness</th>\n",
       "    </tr>\n",
       "  </thead>\n",
       "  <tbody>\n",
       "    <tr>\n",
       "      <th>0</th>\n",
       "      <td>1.124861</td>\n",
       "      <td>1.170447</td>\n",
       "      <td>2.218041</td>\n",
       "      <td>0.100692</td>\n",
       "      <td>1.021343</td>\n",
       "      <td>0.577527</td>\n",
       "      <td>1.584814</td>\n",
       "      <td>2.847996</td>\n",
       "      <td>5.39771</td>\n",
       "      <td>5.14836</td>\n",
       "      <td>...</td>\n",
       "      <td>2.938945</td>\n",
       "      <td>2.923031</td>\n",
       "      <td>2.879973</td>\n",
       "      <td>-0.634342</td>\n",
       "      <td>1.982301</td>\n",
       "      <td>0.843236</td>\n",
       "      <td>2.019186</td>\n",
       "      <td>-1.033688</td>\n",
       "      <td>0.185469</td>\n",
       "      <td>0.255373</td>\n",
       "    </tr>\n",
       "  </tbody>\n",
       "</table>\n",
       "<p>1 rows × 35 columns</p>\n",
       "</div>"
      ],
      "text/plain": [
       "   neuroticism   anxiety  hostility  depression  self_consciousness  \\\n",
       "0     1.124861  1.170447   2.218041    0.100692            1.021343   \n",
       "\n",
       "   immoderation  vulnerability  extraversion  friendliness  gregariousness  \\\n",
       "0      0.577527       1.584814      2.847996       5.39771         5.14836   \n",
       "\n",
       "   ...  cooperation   modesty  sympathy  conscientiousness  self_efficacy  \\\n",
       "0  ...     2.938945  2.923031  2.879973          -0.634342       1.982301   \n",
       "\n",
       "   orderliness  dutifulness  achievement_striving  self_discipline  \\\n",
       "0     0.843236     2.019186             -1.033688         0.185469   \n",
       "\n",
       "   cautiousness  \n",
       "0      0.255373  \n",
       "\n",
       "[1 rows x 35 columns]"
      ]
     },
     "execution_count": 43,
     "metadata": {},
     "output_type": "execute_result"
    }
   ],
   "source": [
    "data"
   ]
  },
  {
   "cell_type": "code",
   "execution_count": null,
   "metadata": {},
   "outputs": [],
   "source": []
  }
 ],
 "metadata": {
  "interpreter": {
   "hash": "f6a042026b0d43fbad8d0b7067c0734de16ecabdfc65158b395d6da2054a1561"
  },
  "kernelspec": {
   "display_name": "Python 3.8.11 64-bit ('ada': conda)",
   "name": "python3"
  },
  "language_info": {
   "codemirror_mode": {
    "name": "ipython",
    "version": 3
   },
   "file_extension": ".py",
   "mimetype": "text/x-python",
   "name": "python",
   "nbconvert_exporter": "python",
   "pygments_lexer": "ipython3",
   "version": "3.8.11"
  },
  "orig_nbformat": 4
 },
 "nbformat": 4,
 "nbformat_minor": 2
}
