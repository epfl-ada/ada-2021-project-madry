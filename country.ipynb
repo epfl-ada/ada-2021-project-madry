{
 "cells": [
  {
   "cell_type": "code",
   "execution_count": 3,
   "metadata": {},
   "outputs": [],
   "source": [
    "%load_ext autoreload\n",
    "%autoreload 2\n",
    "import pandas as pd\n",
    "import numpy as np\n",
    "import json\n",
    "from helpers import *\n",
    "import seaborn as sns\n",
    "import matplotlib.pyplot as plt\n",
    "plt.style.use('ggplot')"
   ]
  },
  {
   "cell_type": "code",
   "execution_count": 3,
   "metadata": {},
   "outputs": [],
   "source": [
    "# Load speakers\n",
    "speakers = pd.read_parquet('data/speaker_attributes.parquet')"
   ]
  },
  {
   "cell_type": "code",
   "execution_count": 4,
   "metadata": {},
   "outputs": [
    {
     "data": {
      "text/html": [
       "<div>\n",
       "<style scoped>\n",
       "    .dataframe tbody tr th:only-of-type {\n",
       "        vertical-align: middle;\n",
       "    }\n",
       "\n",
       "    .dataframe tbody tr th {\n",
       "        vertical-align: top;\n",
       "    }\n",
       "\n",
       "    .dataframe thead th {\n",
       "        text-align: right;\n",
       "    }\n",
       "</style>\n",
       "<table border=\"1\" class=\"dataframe\">\n",
       "  <thead>\n",
       "    <tr style=\"text-align: right;\">\n",
       "      <th></th>\n",
       "      <th>aliases</th>\n",
       "      <th>date_of_birth</th>\n",
       "      <th>nationality</th>\n",
       "      <th>gender</th>\n",
       "      <th>lastrevid</th>\n",
       "      <th>ethnic_group</th>\n",
       "      <th>US_congress_bio_ID</th>\n",
       "      <th>occupation</th>\n",
       "      <th>party</th>\n",
       "      <th>academic_degree</th>\n",
       "      <th>id</th>\n",
       "      <th>label</th>\n",
       "      <th>candidacy</th>\n",
       "      <th>type</th>\n",
       "      <th>religion</th>\n",
       "    </tr>\n",
       "  </thead>\n",
       "  <tbody>\n",
       "    <tr>\n",
       "      <th>0</th>\n",
       "      <td>[Washington, President Washington, G. Washingt...</td>\n",
       "      <td>[+1732-02-22T00:00:00Z]</td>\n",
       "      <td>[Q161885, Q30]</td>\n",
       "      <td>[Q6581097]</td>\n",
       "      <td>1395141751</td>\n",
       "      <td>None</td>\n",
       "      <td>W000178</td>\n",
       "      <td>[Q82955, Q189290, Q131512, Q1734662, Q294126, ...</td>\n",
       "      <td>[Q327591]</td>\n",
       "      <td>None</td>\n",
       "      <td>Q23</td>\n",
       "      <td>George Washington</td>\n",
       "      <td>[Q698073, Q697949]</td>\n",
       "      <td>item</td>\n",
       "      <td>[Q682443]</td>\n",
       "    </tr>\n",
       "    <tr>\n",
       "      <th>1</th>\n",
       "      <td>[Douglas Noel Adams, Douglas Noël Adams, Dougl...</td>\n",
       "      <td>[+1952-03-11T00:00:00Z]</td>\n",
       "      <td>[Q145]</td>\n",
       "      <td>[Q6581097]</td>\n",
       "      <td>1395737157</td>\n",
       "      <td>[Q7994501]</td>\n",
       "      <td>None</td>\n",
       "      <td>[Q214917, Q28389, Q6625963, Q4853732, Q1884422...</td>\n",
       "      <td>None</td>\n",
       "      <td>None</td>\n",
       "      <td>Q42</td>\n",
       "      <td>Douglas Adams</td>\n",
       "      <td>None</td>\n",
       "      <td>item</td>\n",
       "      <td>None</td>\n",
       "    </tr>\n",
       "    <tr>\n",
       "      <th>2</th>\n",
       "      <td>[Paul Marie Ghislain Otlet, Paul Marie Otlet]</td>\n",
       "      <td>[+1868-08-23T00:00:00Z]</td>\n",
       "      <td>[Q31]</td>\n",
       "      <td>[Q6581097]</td>\n",
       "      <td>1380367296</td>\n",
       "      <td>None</td>\n",
       "      <td>None</td>\n",
       "      <td>[Q36180, Q40348, Q182436, Q1265807, Q205375, Q...</td>\n",
       "      <td>None</td>\n",
       "      <td>None</td>\n",
       "      <td>Q1868</td>\n",
       "      <td>Paul Otlet</td>\n",
       "      <td>None</td>\n",
       "      <td>item</td>\n",
       "      <td>None</td>\n",
       "    </tr>\n",
       "    <tr>\n",
       "      <th>3</th>\n",
       "      <td>[George Walker Bush, Bush Jr., Dubya, GWB, Bus...</td>\n",
       "      <td>[+1946-07-06T00:00:00Z]</td>\n",
       "      <td>[Q30]</td>\n",
       "      <td>[Q6581097]</td>\n",
       "      <td>1395142029</td>\n",
       "      <td>None</td>\n",
       "      <td>None</td>\n",
       "      <td>[Q82955, Q15982858, Q18814623, Q1028181, Q1408...</td>\n",
       "      <td>[Q29468]</td>\n",
       "      <td>None</td>\n",
       "      <td>Q207</td>\n",
       "      <td>George W. Bush</td>\n",
       "      <td>[Q327959, Q464075, Q3586276, Q4450587]</td>\n",
       "      <td>item</td>\n",
       "      <td>[Q329646, Q682443, Q33203]</td>\n",
       "    </tr>\n",
       "    <tr>\n",
       "      <th>4</th>\n",
       "      <td>[Velázquez, Diego Rodríguez de Silva y Velázqu...</td>\n",
       "      <td>[+1599-06-06T00:00:00Z]</td>\n",
       "      <td>[Q29]</td>\n",
       "      <td>[Q6581097]</td>\n",
       "      <td>1391704596</td>\n",
       "      <td>None</td>\n",
       "      <td>None</td>\n",
       "      <td>[Q1028181]</td>\n",
       "      <td>None</td>\n",
       "      <td>None</td>\n",
       "      <td>Q297</td>\n",
       "      <td>Diego Velázquez</td>\n",
       "      <td>None</td>\n",
       "      <td>item</td>\n",
       "      <td>None</td>\n",
       "    </tr>\n",
       "  </tbody>\n",
       "</table>\n",
       "</div>"
      ],
      "text/plain": [
       "                                             aliases            date_of_birth  \\\n",
       "0  [Washington, President Washington, G. Washingt...  [+1732-02-22T00:00:00Z]   \n",
       "1  [Douglas Noel Adams, Douglas Noël Adams, Dougl...  [+1952-03-11T00:00:00Z]   \n",
       "2      [Paul Marie Ghislain Otlet, Paul Marie Otlet]  [+1868-08-23T00:00:00Z]   \n",
       "3  [George Walker Bush, Bush Jr., Dubya, GWB, Bus...  [+1946-07-06T00:00:00Z]   \n",
       "4  [Velázquez, Diego Rodríguez de Silva y Velázqu...  [+1599-06-06T00:00:00Z]   \n",
       "\n",
       "      nationality      gender   lastrevid ethnic_group US_congress_bio_ID  \\\n",
       "0  [Q161885, Q30]  [Q6581097]  1395141751         None            W000178   \n",
       "1          [Q145]  [Q6581097]  1395737157   [Q7994501]               None   \n",
       "2           [Q31]  [Q6581097]  1380367296         None               None   \n",
       "3           [Q30]  [Q6581097]  1395142029         None               None   \n",
       "4           [Q29]  [Q6581097]  1391704596         None               None   \n",
       "\n",
       "                                          occupation      party  \\\n",
       "0  [Q82955, Q189290, Q131512, Q1734662, Q294126, ...  [Q327591]   \n",
       "1  [Q214917, Q28389, Q6625963, Q4853732, Q1884422...       None   \n",
       "2  [Q36180, Q40348, Q182436, Q1265807, Q205375, Q...       None   \n",
       "3  [Q82955, Q15982858, Q18814623, Q1028181, Q1408...   [Q29468]   \n",
       "4                                         [Q1028181]       None   \n",
       "\n",
       "  academic_degree     id              label  \\\n",
       "0            None    Q23  George Washington   \n",
       "1            None    Q42      Douglas Adams   \n",
       "2            None  Q1868         Paul Otlet   \n",
       "3            None   Q207     George W. Bush   \n",
       "4            None   Q297    Diego Velázquez   \n",
       "\n",
       "                                candidacy  type                    religion  \n",
       "0                      [Q698073, Q697949]  item                   [Q682443]  \n",
       "1                                    None  item                        None  \n",
       "2                                    None  item                        None  \n",
       "3  [Q327959, Q464075, Q3586276, Q4450587]  item  [Q329646, Q682443, Q33203]  \n",
       "4                                    None  item                        None  "
      ]
     },
     "execution_count": 4,
     "metadata": {},
     "output_type": "execute_result"
    }
   ],
   "source": [
    "speakers.head()"
   ]
  },
  {
   "cell_type": "code",
   "execution_count": 5,
   "metadata": {},
   "outputs": [],
   "source": [
    "# Get nationalities (first one)\n",
    "nationalities = speakers.nationality.apply(lambda nt: nt[0] if nt is not None else None)"
   ]
  },
  {
   "cell_type": "code",
   "execution_count": 6,
   "metadata": {},
   "outputs": [],
   "source": [
    "# Find unique ones excluding None\n",
    "unique_nat_qids = np.unique(nationalities[nationalities.values != None])"
   ]
  },
  {
   "cell_type": "code",
   "execution_count": 7,
   "metadata": {},
   "outputs": [
    {
     "data": {
      "text/plain": [
       "2704"
      ]
     },
     "execution_count": 7,
     "metadata": {},
     "output_type": "execute_result"
    }
   ],
   "source": [
    "len(unique_nat_qids)"
   ]
  },
  {
   "cell_type": "code",
   "execution_count": 8,
   "metadata": {},
   "outputs": [
    {
     "data": {
      "text/plain": [
       "9055981"
      ]
     },
     "execution_count": 8,
     "metadata": {},
     "output_type": "execute_result"
    }
   ],
   "source": [
    "len(nationalities.values)"
   ]
  },
  {
   "cell_type": "code",
   "execution_count": 67,
   "metadata": {},
   "outputs": [],
   "source": [
    "# Get all existing country entities\n",
    "countries = {}\n",
    "entity_instanceof = get_wiki_entity('P31')\n",
    "entity_country = get_wiki_entity('Q6256')\n",
    "\n",
    "for qid in unique_nat_qids:\n",
    "    entity = get_wiki_entity(qid)\n",
    "    for instance in entity.getlist(entity_instanceof):\n",
    "        if instance == entity_country:\n",
    "            countries[qid] = entity\n",
    "            break"
   ]
  },
  {
   "cell_type": "code",
   "execution_count": 69,
   "metadata": {},
   "outputs": [
    {
     "data": {
      "text/plain": [
       "[m'Gabon',\n",
       " m'The Gambia',\n",
       " m'Guinea',\n",
       " m'Guinea-Bissau',\n",
       " m\"Côte d'Ivoire\",\n",
       " m'Cameroon',\n",
       " m'Cape Verde',\n",
       " m'Lesotho',\n",
       " m'Liberia',\n",
       " m'Libya',\n",
       " m'Madagascar',\n",
       " m'Malawi',\n",
       " m'Mauritania',\n",
       " m'Mauritius',\n",
       " m'Morocco',\n",
       " m'Mozambique',\n",
       " m'Namibia',\n",
       " m'Niger',\n",
       " m'Nigeria',\n",
       " m'Uganda',\n",
       " m'Rwanda',\n",
       " m'São Tomé and Príncipe',\n",
       " m'Senegal',\n",
       " m'Seychelles',\n",
       " m'Sierra Leone',\n",
       " m'Somalia',\n",
       " m'Sudan',\n",
       " m'Kenya',\n",
       " m'Ethiopia',\n",
       " m'Ghana',\n",
       " m'Imperial China',\n",
       " m'Kosovo',\n",
       " m'Holy Roman Empire',\n",
       " m'Kingdom of Aksum',\n",
       " m'France',\n",
       " m'United Kingdom',\n",
       " m\"People's Republic of China\",\n",
       " m'Brazil',\n",
       " m'Russia',\n",
       " m'Canada',\n",
       " m'Great Britain',\n",
       " m'American Samoa',\n",
       " m'Northern Mariana Islands',\n",
       " m'Japan',\n",
       " m'North Vietnam',\n",
       " m'South Vietnam',\n",
       " m'Germany',\n",
       " m'Belarus',\n",
       " m'Trucial States',\n",
       " m'Iceland',\n",
       " m'Central African Empire',\n",
       " m'Estonia',\n",
       " m'Norway',\n",
       " m'Pahlavi Dynasty',\n",
       " m'England',\n",
       " m'Latvia',\n",
       " m'Ukraine',\n",
       " m'Aruba',\n",
       " m'Czech Republic',\n",
       " m'Cisalpine Republic',\n",
       " m'Slovakia',\n",
       " m'Slovenia',\n",
       " m'Moldova',\n",
       " m'Romania',\n",
       " m'Bulgaria',\n",
       " m'North Macedonia',\n",
       " m'Albania',\n",
       " m'Croatia',\n",
       " m'Bosnia and Herzegovina',\n",
       " m'Azerbaijan',\n",
       " m'Andorra',\n",
       " m'Electoral Palatinate',\n",
       " m'Cyprus',\n",
       " m'Georgia',\n",
       " m'Kazakhstan',\n",
       " m'Malta',\n",
       " m'Monaco',\n",
       " m'Montenegro',\n",
       " m'Vatican City',\n",
       " m'San Marino',\n",
       " m'Cuba',\n",
       " m'Belize',\n",
       " m'Barbados',\n",
       " m'Republic of Artsakh',\n",
       " m'Tibet',\n",
       " m'Wales',\n",
       " m'Indonesia',\n",
       " m'Curaçao',\n",
       " m'South Africa',\n",
       " m'Algeria',\n",
       " m'Sint Maarten',\n",
       " m'Uzbekistan',\n",
       " m'Cook Islands',\n",
       " m'Ireland',\n",
       " m'Hungary',\n",
       " m'Spain',\n",
       " m'Chile',\n",
       " m'Kingdom of the Netherlands',\n",
       " m'United States of America',\n",
       " m'Belgium',\n",
       " m'Irish Free State',\n",
       " m'Luxembourg',\n",
       " m'Finland',\n",
       " m'Singapore',\n",
       " m'Sweden',\n",
       " m'Niue',\n",
       " m'Liechtenstein',\n",
       " m'Somaliland',\n",
       " m'Denmark',\n",
       " m'Poland',\n",
       " m'Lithuania',\n",
       " m'Italy',\n",
       " m'Switzerland',\n",
       " m'Galicia',\n",
       " m'Bahrain',\n",
       " m'Armenia',\n",
       " m'Austria',\n",
       " m'Mataram Sultanate',\n",
       " m'Serbia',\n",
       " m'Sahrawi Arab Democratic Republic',\n",
       " m'Australia',\n",
       " m'Greece',\n",
       " m'Argentina',\n",
       " m'Peru',\n",
       " m'North Korea',\n",
       " m'Cambodia',\n",
       " m'Turkey',\n",
       " m'German Empire',\n",
       " m'Old Swiss Confederacy',\n",
       " m'Portugal',\n",
       " m'Netherlands',\n",
       " m'Timor-Leste',\n",
       " m'Zaire',\n",
       " m'Chad',\n",
       " m'New Zealand',\n",
       " m'India',\n",
       " m'Tuvalu',\n",
       " m'Tonga',\n",
       " m'Samoa',\n",
       " m'Solomon Islands',\n",
       " m'Vanuatu',\n",
       " m'Papua New Guinea',\n",
       " m'Palau',\n",
       " m'Nauru',\n",
       " m'Federated States of Micronesia',\n",
       " m'Marshall Islands',\n",
       " m'Kiribati',\n",
       " m'Mongolia',\n",
       " m'Fiji',\n",
       " m'Venezuela',\n",
       " m'Suriname',\n",
       " m'Paraguay',\n",
       " m'Guyana',\n",
       " m'Ecuador',\n",
       " m'Colombia',\n",
       " m'Bolivia',\n",
       " m'Trinidad and Tobago',\n",
       " m'Danish Realm',\n",
       " m'Saint Vincent and the Grenadines',\n",
       " m'Saint Lucia',\n",
       " m'Saint Kitts and Nevis',\n",
       " m'Jamaica',\n",
       " m'Grenada',\n",
       " m'Uruguay',\n",
       " m'Guatemala',\n",
       " m'The Bahamas',\n",
       " m'Antigua and Barbuda',\n",
       " m'Honduras',\n",
       " m'Dominica',\n",
       " m'Dominican Republic',\n",
       " m'Egypt',\n",
       " m'Haiti',\n",
       " m'El Salvador',\n",
       " m'Iran',\n",
       " m'Iraq',\n",
       " m'Republic of Upper Volta',\n",
       " m'Costa Rica',\n",
       " m'Israel',\n",
       " m'Panama',\n",
       " m'Yemen',\n",
       " m'Jordan',\n",
       " m'Nicaragua',\n",
       " m'Kyrgyzstan',\n",
       " m'Kuwait',\n",
       " m'Laos',\n",
       " m'Lebanon',\n",
       " m'Maldives',\n",
       " m'Malaysia',\n",
       " m'Persian Empire',\n",
       " m'Myanmar',\n",
       " m'Nepal',\n",
       " m'Oman',\n",
       " m'Pakistan',\n",
       " m'Qatar',\n",
       " m'Saudi Arabia',\n",
       " m'Sri Lanka',\n",
       " m'Syria',\n",
       " m'Tajikistan',\n",
       " m'Taiwan',\n",
       " m'Thailand',\n",
       " m'Turkmenistan',\n",
       " m'United Arab Emirates',\n",
       " m'Vietnam',\n",
       " m'South Korea',\n",
       " m'Afghanistan',\n",
       " m'Bangladesh',\n",
       " m'Transnistria',\n",
       " m'Mali',\n",
       " m'Angola',\n",
       " m'Bhutan',\n",
       " m'Brunei',\n",
       " m'Tanzania',\n",
       " m'Philippines',\n",
       " m'Central African Republic',\n",
       " m'Togo',\n",
       " m'Tunisia',\n",
       " m'Zambia',\n",
       " m'Zimbabwe',\n",
       " m'South Sudan',\n",
       " m'Mexico',\n",
       " m'Benin',\n",
       " m'Botswana',\n",
       " m'Burkina Faso',\n",
       " m'Burundi',\n",
       " m'Comoros',\n",
       " m'Republic of the Congo',\n",
       " m'Democratic Republic of the Congo',\n",
       " m'Djibouti',\n",
       " m'Equatorial Guinea',\n",
       " m'Eritrea']"
      ]
     },
     "execution_count": 69,
     "metadata": {},
     "output_type": "execute_result"
    }
   ],
   "source": [
    "[country.label for country in countries.values()]"
   ]
  },
  {
   "cell_type": "code",
   "execution_count": 72,
   "metadata": {},
   "outputs": [],
   "source": [
    "country_qids = list(countries.keys())"
   ]
  },
  {
   "cell_type": "code",
   "execution_count": 75,
   "metadata": {},
   "outputs": [],
   "source": [
    "with open('data/country_qids.json', 'w') as f:\n",
    "    f.write(json.dumps({'qids': country_qids}))"
   ]
  },
  {
   "cell_type": "markdown",
   "metadata": {},
   "source": [
    "<font color='red'>WARNING: LONG EXECUTION!</font>"
   ]
  },
  {
   "cell_type": "code",
   "execution_count": 73,
   "metadata": {},
   "outputs": [],
   "source": [
    "# Find speakers for those countries\n",
    "country_speakers = speakers[speakers.nationality.apply(lambda nt: any([cid in nt for cid in country_qids]) if nt is not None else False)]"
   ]
  },
  {
   "cell_type": "code",
   "execution_count": 78,
   "metadata": {},
   "outputs": [],
   "source": [
    "country_speakers.id.to_csv('data/country_speaker_qids.csv')"
   ]
  },
  {
   "cell_type": "code",
   "execution_count": 22,
   "metadata": {},
   "outputs": [],
   "source": [
    "# Load data from saved files\n",
    "country_speaker_qids = pd.read_csv('data/country_speaker_qids.csv')\n",
    "country_speakers = speakers[speakers.id.isin(country_speaker_qids)]"
   ]
  },
  {
   "cell_type": "code",
   "execution_count": 41,
   "metadata": {},
   "outputs": [],
   "source": [
    "with open('data/country_qids.json') as f:\n",
    "    country_qids = json.load(f)['qids']\n",
    "\n",
    "countries = {qid: get_wiki_entity(qid) for qid in country_qids}"
   ]
  },
  {
   "cell_type": "code",
   "execution_count": 32,
   "metadata": {},
   "outputs": [
    {
     "data": {
      "text/plain": [
       "230"
      ]
     },
     "execution_count": 32,
     "metadata": {},
     "output_type": "execute_result"
    }
   ],
   "source": [
    "len(country_qids)"
   ]
  },
  {
   "cell_type": "code",
   "execution_count": 28,
   "metadata": {},
   "outputs": [
    {
     "data": {
      "text/plain": [
       "3164693"
      ]
     },
     "execution_count": 28,
     "metadata": {},
     "output_type": "execute_result"
    }
   ],
   "source": [
    "len(country_speakers)"
   ]
  },
  {
   "cell_type": "code",
   "execution_count": 12,
   "metadata": {},
   "outputs": [],
   "source": [
    "with open('data/signi-quote-count-combined_1636253317430.json') as f:\n",
    "    signi_quote_count_dict = json.load(f)"
   ]
  },
  {
   "cell_type": "code",
   "execution_count": 13,
   "metadata": {},
   "outputs": [],
   "source": [
    "signi_quote_count_df = pd.Series(signi_quote_count_dict, name='signi_quote_count')"
   ]
  },
  {
   "cell_type": "code",
   "execution_count": 14,
   "metadata": {},
   "outputs": [],
   "source": [
    "# Merge these country speakers with speakers who have significant number of quotes\n",
    "signi_country_speakers = country_speakers.merge(signi_quote_count_df, left_on='id', right_index=True, how='inner')"
   ]
  },
  {
   "cell_type": "code",
   "execution_count": 15,
   "metadata": {},
   "outputs": [
    {
     "data": {
      "text/plain": [
       "436152"
      ]
     },
     "execution_count": 15,
     "metadata": {},
     "output_type": "execute_result"
    }
   ],
   "source": [
    "len(signi_country_speakers)"
   ]
  },
  {
   "cell_type": "code",
   "execution_count": 16,
   "metadata": {},
   "outputs": [
    {
     "data": {
      "text/plain": [
       "19083"
      ]
     },
     "execution_count": 16,
     "metadata": {},
     "output_type": "execute_result"
    }
   ],
   "source": [
    "# Number of speakers who have more than 1 nationality\n",
    "(signi_country_speakers.nationality.apply(lambda nt: len(nt)) > 1).sum()"
   ]
  },
  {
   "cell_type": "code",
   "execution_count": 29,
   "metadata": {},
   "outputs": [],
   "source": [
    "# Filter out those nationalities that are not legitimate countries\n",
    "signi_country_speakers['country'] = signi_country_speakers.nationality.apply(lambda nt: [n for n in nt if n in country_qids])"
   ]
  },
  {
   "cell_type": "code",
   "execution_count": 30,
   "metadata": {},
   "outputs": [
    {
     "data": {
      "text/plain": [
       "10291"
      ]
     },
     "execution_count": 30,
     "metadata": {},
     "output_type": "execute_result"
    }
   ],
   "source": [
    "# Number of speakers with more nationalities after filtering\n",
    "(signi_country_speakers.country.apply(lambda nt: len(nt)) > 1).sum()"
   ]
  },
  {
   "cell_type": "code",
   "execution_count": 31,
   "metadata": {},
   "outputs": [],
   "source": [
    "# Take the first nationality as a country\n",
    "signi_country_speakers['country'] = signi_country_speakers.country.apply(lambda c: c[0])"
   ]
  },
  {
   "cell_type": "code",
   "execution_count": 33,
   "metadata": {},
   "outputs": [],
   "source": [
    "# Speakers grouped by country\n",
    "speakers_by_country = signi_country_speakers.groupby('country')"
   ]
  },
  {
   "cell_type": "code",
   "execution_count": 34,
   "metadata": {},
   "outputs": [
    {
     "data": {
      "text/plain": [
       "country\n",
       "Q1000     35\n",
       "Q1005    113\n",
       "Q1006     91\n",
       "Q1007     24\n",
       "Q1008    174\n",
       "        ... \n",
       "Q971      48\n",
       "Q974     179\n",
       "Q977      11\n",
       "Q983      12\n",
       "Q986      49\n",
       "Length: 219, dtype: int64"
      ]
     },
     "execution_count": 34,
     "metadata": {},
     "output_type": "execute_result"
    }
   ],
   "source": [
    "speakers_by_country.size()"
   ]
  },
  {
   "cell_type": "code",
   "execution_count": 35,
   "metadata": {},
   "outputs": [
    {
     "data": {
      "text/plain": [
       "(1, 146486)"
      ]
     },
     "execution_count": 35,
     "metadata": {},
     "output_type": "execute_result"
    }
   ],
   "source": [
    "speakers_by_country.size().min(), speakers_by_country.size().max()"
   ]
  },
  {
   "cell_type": "code",
   "execution_count": 36,
   "metadata": {},
   "outputs": [
    {
     "data": {
      "text/html": [
       "<div>\n",
       "<style scoped>\n",
       "    .dataframe tbody tr th:only-of-type {\n",
       "        vertical-align: middle;\n",
       "    }\n",
       "\n",
       "    .dataframe tbody tr th {\n",
       "        vertical-align: top;\n",
       "    }\n",
       "\n",
       "    .dataframe thead th {\n",
       "        text-align: right;\n",
       "    }\n",
       "</style>\n",
       "<table border=\"1\" class=\"dataframe\">\n",
       "  <thead>\n",
       "    <tr style=\"text-align: right;\">\n",
       "      <th></th>\n",
       "      <th>aliases</th>\n",
       "      <th>date_of_birth</th>\n",
       "      <th>nationality</th>\n",
       "      <th>gender</th>\n",
       "      <th>lastrevid</th>\n",
       "      <th>ethnic_group</th>\n",
       "      <th>US_congress_bio_ID</th>\n",
       "      <th>occupation</th>\n",
       "      <th>party</th>\n",
       "      <th>academic_degree</th>\n",
       "      <th>id</th>\n",
       "      <th>label</th>\n",
       "      <th>candidacy</th>\n",
       "      <th>type</th>\n",
       "      <th>religion</th>\n",
       "      <th>signi_quote_count</th>\n",
       "    </tr>\n",
       "    <tr>\n",
       "      <th>country</th>\n",
       "      <th></th>\n",
       "      <th></th>\n",
       "      <th></th>\n",
       "      <th></th>\n",
       "      <th></th>\n",
       "      <th></th>\n",
       "      <th></th>\n",
       "      <th></th>\n",
       "      <th></th>\n",
       "      <th></th>\n",
       "      <th></th>\n",
       "      <th></th>\n",
       "      <th></th>\n",
       "      <th></th>\n",
       "      <th></th>\n",
       "      <th></th>\n",
       "    </tr>\n",
       "  </thead>\n",
       "  <tbody>\n",
       "    <tr>\n",
       "      <th>Q30</th>\n",
       "      <td>33081</td>\n",
       "      <td>133039</td>\n",
       "      <td>146486</td>\n",
       "      <td>146344</td>\n",
       "      <td>146486</td>\n",
       "      <td>9646</td>\n",
       "      <td>1488</td>\n",
       "      <td>143867</td>\n",
       "      <td>15668</td>\n",
       "      <td>1285</td>\n",
       "      <td>146486</td>\n",
       "      <td>146486</td>\n",
       "      <td>157</td>\n",
       "      <td>146486</td>\n",
       "      <td>4579</td>\n",
       "      <td>146486</td>\n",
       "    </tr>\n",
       "    <tr>\n",
       "      <th>Q145</th>\n",
       "      <td>11741</td>\n",
       "      <td>45831</td>\n",
       "      <td>48328</td>\n",
       "      <td>48247</td>\n",
       "      <td>48328</td>\n",
       "      <td>484</td>\n",
       "      <td>0</td>\n",
       "      <td>47576</td>\n",
       "      <td>2626</td>\n",
       "      <td>273</td>\n",
       "      <td>48328</td>\n",
       "      <td>48328</td>\n",
       "      <td>1681</td>\n",
       "      <td>48328</td>\n",
       "      <td>1130</td>\n",
       "      <td>48328</td>\n",
       "    </tr>\n",
       "    <tr>\n",
       "      <th>Q16</th>\n",
       "      <td>3366</td>\n",
       "      <td>21215</td>\n",
       "      <td>23987</td>\n",
       "      <td>23963</td>\n",
       "      <td>23987</td>\n",
       "      <td>220</td>\n",
       "      <td>0</td>\n",
       "      <td>23046</td>\n",
       "      <td>3106</td>\n",
       "      <td>121</td>\n",
       "      <td>23987</td>\n",
       "      <td>23987</td>\n",
       "      <td>800</td>\n",
       "      <td>23987</td>\n",
       "      <td>401</td>\n",
       "      <td>23987</td>\n",
       "    </tr>\n",
       "    <tr>\n",
       "      <th>Q408</th>\n",
       "      <td>3888</td>\n",
       "      <td>16578</td>\n",
       "      <td>18281</td>\n",
       "      <td>18248</td>\n",
       "      <td>18281</td>\n",
       "      <td>123</td>\n",
       "      <td>0</td>\n",
       "      <td>17978</td>\n",
       "      <td>2100</td>\n",
       "      <td>64</td>\n",
       "      <td>18281</td>\n",
       "      <td>18281</td>\n",
       "      <td>389</td>\n",
       "      <td>18281</td>\n",
       "      <td>318</td>\n",
       "      <td>18281</td>\n",
       "    </tr>\n",
       "    <tr>\n",
       "      <th>Q183</th>\n",
       "      <td>1777</td>\n",
       "      <td>16875</td>\n",
       "      <td>17158</td>\n",
       "      <td>17157</td>\n",
       "      <td>17158</td>\n",
       "      <td>106</td>\n",
       "      <td>0</td>\n",
       "      <td>16795</td>\n",
       "      <td>2626</td>\n",
       "      <td>1338</td>\n",
       "      <td>17158</td>\n",
       "      <td>17158</td>\n",
       "      <td>465</td>\n",
       "      <td>17158</td>\n",
       "      <td>698</td>\n",
       "      <td>17158</td>\n",
       "    </tr>\n",
       "    <tr>\n",
       "      <th>...</th>\n",
       "      <td>...</td>\n",
       "      <td>...</td>\n",
       "      <td>...</td>\n",
       "      <td>...</td>\n",
       "      <td>...</td>\n",
       "      <td>...</td>\n",
       "      <td>...</td>\n",
       "      <td>...</td>\n",
       "      <td>...</td>\n",
       "      <td>...</td>\n",
       "      <td>...</td>\n",
       "      <td>...</td>\n",
       "      <td>...</td>\n",
       "      <td>...</td>\n",
       "      <td>...</td>\n",
       "      <td>...</td>\n",
       "    </tr>\n",
       "    <tr>\n",
       "      <th>Q237</th>\n",
       "      <td>1</td>\n",
       "      <td>2</td>\n",
       "      <td>2</td>\n",
       "      <td>2</td>\n",
       "      <td>2</td>\n",
       "      <td>2</td>\n",
       "      <td>0</td>\n",
       "      <td>2</td>\n",
       "      <td>0</td>\n",
       "      <td>1</td>\n",
       "      <td>2</td>\n",
       "      <td>2</td>\n",
       "      <td>0</td>\n",
       "      <td>2</td>\n",
       "      <td>2</td>\n",
       "      <td>2</td>\n",
       "    </tr>\n",
       "    <tr>\n",
       "      <th>Q180573</th>\n",
       "      <td>0</td>\n",
       "      <td>2</td>\n",
       "      <td>2</td>\n",
       "      <td>2</td>\n",
       "      <td>2</td>\n",
       "      <td>1</td>\n",
       "      <td>0</td>\n",
       "      <td>2</td>\n",
       "      <td>2</td>\n",
       "      <td>0</td>\n",
       "      <td>2</td>\n",
       "      <td>2</td>\n",
       "      <td>0</td>\n",
       "      <td>2</td>\n",
       "      <td>2</td>\n",
       "      <td>2</td>\n",
       "    </tr>\n",
       "    <tr>\n",
       "      <th>Q172640</th>\n",
       "      <td>0</td>\n",
       "      <td>1</td>\n",
       "      <td>1</td>\n",
       "      <td>1</td>\n",
       "      <td>1</td>\n",
       "      <td>0</td>\n",
       "      <td>0</td>\n",
       "      <td>1</td>\n",
       "      <td>0</td>\n",
       "      <td>0</td>\n",
       "      <td>1</td>\n",
       "      <td>1</td>\n",
       "      <td>0</td>\n",
       "      <td>1</td>\n",
       "      <td>0</td>\n",
       "      <td>1</td>\n",
       "    </tr>\n",
       "    <tr>\n",
       "      <th>Q12060881</th>\n",
       "      <td>0</td>\n",
       "      <td>1</td>\n",
       "      <td>1</td>\n",
       "      <td>1</td>\n",
       "      <td>1</td>\n",
       "      <td>0</td>\n",
       "      <td>0</td>\n",
       "      <td>1</td>\n",
       "      <td>0</td>\n",
       "      <td>0</td>\n",
       "      <td>1</td>\n",
       "      <td>1</td>\n",
       "      <td>0</td>\n",
       "      <td>1</td>\n",
       "      <td>0</td>\n",
       "      <td>1</td>\n",
       "    </tr>\n",
       "    <tr>\n",
       "      <th>Q6500954</th>\n",
       "      <td>0</td>\n",
       "      <td>1</td>\n",
       "      <td>1</td>\n",
       "      <td>1</td>\n",
       "      <td>1</td>\n",
       "      <td>0</td>\n",
       "      <td>0</td>\n",
       "      <td>1</td>\n",
       "      <td>0</td>\n",
       "      <td>0</td>\n",
       "      <td>1</td>\n",
       "      <td>1</td>\n",
       "      <td>0</td>\n",
       "      <td>1</td>\n",
       "      <td>0</td>\n",
       "      <td>1</td>\n",
       "    </tr>\n",
       "  </tbody>\n",
       "</table>\n",
       "<p>219 rows × 16 columns</p>\n",
       "</div>"
      ],
      "text/plain": [
       "           aliases  date_of_birth  nationality  gender  lastrevid  \\\n",
       "country                                                             \n",
       "Q30          33081         133039       146486  146344     146486   \n",
       "Q145         11741          45831        48328   48247      48328   \n",
       "Q16           3366          21215        23987   23963      23987   \n",
       "Q408          3888          16578        18281   18248      18281   \n",
       "Q183          1777          16875        17158   17157      17158   \n",
       "...            ...            ...          ...     ...        ...   \n",
       "Q237             1              2            2       2          2   \n",
       "Q180573          0              2            2       2          2   \n",
       "Q172640          0              1            1       1          1   \n",
       "Q12060881        0              1            1       1          1   \n",
       "Q6500954         0              1            1       1          1   \n",
       "\n",
       "           ethnic_group  US_congress_bio_ID  occupation  party  \\\n",
       "country                                                          \n",
       "Q30                9646                1488      143867  15668   \n",
       "Q145                484                   0       47576   2626   \n",
       "Q16                 220                   0       23046   3106   \n",
       "Q408                123                   0       17978   2100   \n",
       "Q183                106                   0       16795   2626   \n",
       "...                 ...                 ...         ...    ...   \n",
       "Q237                  2                   0           2      0   \n",
       "Q180573               1                   0           2      2   \n",
       "Q172640               0                   0           1      0   \n",
       "Q12060881             0                   0           1      0   \n",
       "Q6500954              0                   0           1      0   \n",
       "\n",
       "           academic_degree      id   label  candidacy    type  religion  \\\n",
       "country                                                                   \n",
       "Q30                   1285  146486  146486        157  146486      4579   \n",
       "Q145                   273   48328   48328       1681   48328      1130   \n",
       "Q16                    121   23987   23987        800   23987       401   \n",
       "Q408                    64   18281   18281        389   18281       318   \n",
       "Q183                  1338   17158   17158        465   17158       698   \n",
       "...                    ...     ...     ...        ...     ...       ...   \n",
       "Q237                     1       2       2          0       2         2   \n",
       "Q180573                  0       2       2          0       2         2   \n",
       "Q172640                  0       1       1          0       1         0   \n",
       "Q12060881                0       1       1          0       1         0   \n",
       "Q6500954                 0       1       1          0       1         0   \n",
       "\n",
       "           signi_quote_count  \n",
       "country                       \n",
       "Q30                   146486  \n",
       "Q145                   48328  \n",
       "Q16                    23987  \n",
       "Q408                   18281  \n",
       "Q183                   17158  \n",
       "...                      ...  \n",
       "Q237                       2  \n",
       "Q180573                    2  \n",
       "Q172640                    1  \n",
       "Q12060881                  1  \n",
       "Q6500954                   1  \n",
       "\n",
       "[219 rows x 16 columns]"
      ]
     },
     "execution_count": 36,
     "metadata": {},
     "output_type": "execute_result"
    }
   ],
   "source": [
    "speakers_by_country.count().sort_values(by=['id'], ascending=False)"
   ]
  },
  {
   "cell_type": "code",
   "execution_count": 37,
   "metadata": {},
   "outputs": [],
   "source": [
    "country_agg = speakers_by_country.agg({'id': 'count', 'signi_quote_count': 'sum'})"
   ]
  },
  {
   "cell_type": "code",
   "execution_count": 38,
   "metadata": {},
   "outputs": [
    {
     "data": {
      "text/plain": [
       "20"
      ]
     },
     "execution_count": 38,
     "metadata": {},
     "output_type": "execute_result"
    }
   ],
   "source": [
    "# Number of countries who have less number of speakers in the dataset\n",
    "(country_agg.id < 10).sum()"
   ]
  },
  {
   "cell_type": "code",
   "execution_count": 39,
   "metadata": {},
   "outputs": [
    {
     "data": {
      "text/plain": [
       "4"
      ]
     },
     "execution_count": 39,
     "metadata": {},
     "output_type": "execute_result"
    }
   ],
   "source": [
    "(country_agg.signi_quote_count < 10).sum()"
   ]
  },
  {
   "cell_type": "code",
   "execution_count": 42,
   "metadata": {},
   "outputs": [
    {
     "data": {
      "text/plain": [
       "[m'Imperial China',\n",
       " m'North Vietnam',\n",
       " m'South Vietnam',\n",
       " m'Vatican City',\n",
       " m'Republic of Artsakh',\n",
       " m'Tibet',\n",
       " m'Curaçao',\n",
       " m'Niue',\n",
       " m'Sahrawi Arab Democratic Republic',\n",
       " m'German Empire',\n",
       " m'Zaire',\n",
       " m'Danish Realm',\n",
       " m'Republic of Upper Volta']"
      ]
     },
     "execution_count": 42,
     "metadata": {},
     "output_type": "execute_result"
    }
   ],
   "source": [
    "underrep_countries = list(country_agg[country_agg.id < 5].index)\n",
    "[countries[c].label for c in underrep_countries]"
   ]
  },
  {
   "cell_type": "code",
   "execution_count": 43,
   "metadata": {},
   "outputs": [
    {
     "data": {
      "text/plain": [
       "[m'Imperial China',\n",
       " m'North Vietnam',\n",
       " m'South Vietnam',\n",
       " m'Republic of Artsakh',\n",
       " m'Tibet',\n",
       " m'Zaire',\n",
       " m'Danish Realm',\n",
       " m'Republic of Upper Volta']"
      ]
     },
     "execution_count": 43,
     "metadata": {},
     "output_type": "execute_result"
    }
   ],
   "source": [
    "underrep_countries_by_quote = list(country_agg[country_agg.signi_quote_count < 30].index)\n",
    "[countries[c].label for c in underrep_countries_by_quote]"
   ]
  },
  {
   "cell_type": "code",
   "execution_count": 44,
   "metadata": {},
   "outputs": [
    {
     "data": {
      "text/html": [
       "<div>\n",
       "<style scoped>\n",
       "    .dataframe tbody tr th:only-of-type {\n",
       "        vertical-align: middle;\n",
       "    }\n",
       "\n",
       "    .dataframe tbody tr th {\n",
       "        vertical-align: top;\n",
       "    }\n",
       "\n",
       "    .dataframe thead th {\n",
       "        text-align: right;\n",
       "    }\n",
       "</style>\n",
       "<table border=\"1\" class=\"dataframe\">\n",
       "  <thead>\n",
       "    <tr style=\"text-align: right;\">\n",
       "      <th></th>\n",
       "      <th>id</th>\n",
       "      <th>signi_quote_count</th>\n",
       "    </tr>\n",
       "    <tr>\n",
       "      <th>country</th>\n",
       "      <th></th>\n",
       "      <th></th>\n",
       "    </tr>\n",
       "  </thead>\n",
       "  <tbody>\n",
       "    <tr>\n",
       "      <th>Q12060881</th>\n",
       "      <td>1</td>\n",
       "      <td>1</td>\n",
       "    </tr>\n",
       "    <tr>\n",
       "      <th>Q172640</th>\n",
       "      <td>1</td>\n",
       "      <td>1</td>\n",
       "    </tr>\n",
       "    <tr>\n",
       "      <th>Q180573</th>\n",
       "      <td>2</td>\n",
       "      <td>10</td>\n",
       "    </tr>\n",
       "    <tr>\n",
       "      <th>Q237</th>\n",
       "      <td>2</td>\n",
       "      <td>37501</td>\n",
       "    </tr>\n",
       "    <tr>\n",
       "      <th>Q244165</th>\n",
       "      <td>2</td>\n",
       "      <td>17</td>\n",
       "    </tr>\n",
       "    <tr>\n",
       "      <th>Q2444884</th>\n",
       "      <td>2</td>\n",
       "      <td>24</td>\n",
       "    </tr>\n",
       "    <tr>\n",
       "      <th>Q25279</th>\n",
       "      <td>3</td>\n",
       "      <td>48</td>\n",
       "    </tr>\n",
       "    <tr>\n",
       "      <th>Q34020</th>\n",
       "      <td>3</td>\n",
       "      <td>46</td>\n",
       "    </tr>\n",
       "    <tr>\n",
       "      <th>Q40362</th>\n",
       "      <td>4</td>\n",
       "      <td>60</td>\n",
       "    </tr>\n",
       "    <tr>\n",
       "      <th>Q43287</th>\n",
       "      <td>4</td>\n",
       "      <td>74</td>\n",
       "    </tr>\n",
       "    <tr>\n",
       "      <th>Q6500954</th>\n",
       "      <td>1</td>\n",
       "      <td>5</td>\n",
       "    </tr>\n",
       "    <tr>\n",
       "      <th>Q756617</th>\n",
       "      <td>4</td>\n",
       "      <td>26</td>\n",
       "    </tr>\n",
       "    <tr>\n",
       "      <th>Q797422</th>\n",
       "      <td>2</td>\n",
       "      <td>3</td>\n",
       "    </tr>\n",
       "  </tbody>\n",
       "</table>\n",
       "</div>"
      ],
      "text/plain": [
       "           id  signi_quote_count\n",
       "country                         \n",
       "Q12060881   1                  1\n",
       "Q172640     1                  1\n",
       "Q180573     2                 10\n",
       "Q237        2              37501\n",
       "Q244165     2                 17\n",
       "Q2444884    2                 24\n",
       "Q25279      3                 48\n",
       "Q34020      3                 46\n",
       "Q40362      4                 60\n",
       "Q43287      4                 74\n",
       "Q6500954    1                  5\n",
       "Q756617     4                 26\n",
       "Q797422     2                  3"
      ]
     },
     "execution_count": 44,
     "metadata": {},
     "output_type": "execute_result"
    }
   ],
   "source": [
    "country_agg[country_agg.index.isin(underrep_countries)]"
   ]
  },
  {
   "cell_type": "code",
   "execution_count": 47,
   "metadata": {},
   "outputs": [
    {
     "data": {
      "text/plain": [
       "(121075, 17)"
      ]
     },
     "execution_count": 47,
     "metadata": {},
     "output_type": "execute_result"
    }
   ],
   "source": [
    "signi_country_speakers[signi_country_speakers.signi_quote_count > 30].shape"
   ]
  },
  {
   "cell_type": "code",
   "execution_count": 55,
   "metadata": {},
   "outputs": [
    {
     "data": {
      "text/html": [
       "<div>\n",
       "<style scoped>\n",
       "    .dataframe tbody tr th:only-of-type {\n",
       "        vertical-align: middle;\n",
       "    }\n",
       "\n",
       "    .dataframe tbody tr th {\n",
       "        vertical-align: top;\n",
       "    }\n",
       "\n",
       "    .dataframe thead th {\n",
       "        text-align: right;\n",
       "    }\n",
       "</style>\n",
       "<table border=\"1\" class=\"dataframe\">\n",
       "  <thead>\n",
       "    <tr style=\"text-align: right;\">\n",
       "      <th></th>\n",
       "      <th>id</th>\n",
       "      <th>signi_quote_count</th>\n",
       "    </tr>\n",
       "    <tr>\n",
       "      <th>country</th>\n",
       "      <th></th>\n",
       "      <th></th>\n",
       "    </tr>\n",
       "  </thead>\n",
       "  <tbody>\n",
       "    <tr>\n",
       "      <th>Q986</th>\n",
       "      <td>49</td>\n",
       "      <td>472</td>\n",
       "    </tr>\n",
       "  </tbody>\n",
       "</table>\n",
       "</div>"
      ],
      "text/plain": [
       "         id  signi_quote_count\n",
       "country                       \n",
       "Q986     49                472"
      ]
     },
     "execution_count": 55,
     "metadata": {},
     "output_type": "execute_result"
    }
   ],
   "source": [
    "country_agg[country_agg.index == 'Q986']"
   ]
  },
  {
   "cell_type": "code",
   "execution_count": 69,
   "metadata": {},
   "outputs": [],
   "source": [
    "def select_top_speakers(speaker_group, top_k=50):\n",
    "    speaker_group = speaker_group.sort_values(by=['signi_quote_count'], ascending=False)\n",
    "    return speaker_group.iloc[:top_k]\n",
    "\n",
    "selected_country_speakers = speakers_by_country.apply(select_top_speakers).reset_index(drop=True)"
   ]
  },
  {
   "cell_type": "code",
   "execution_count": 70,
   "metadata": {},
   "outputs": [
    {
     "data": {
      "text/html": [
       "<div>\n",
       "<style scoped>\n",
       "    .dataframe tbody tr th:only-of-type {\n",
       "        vertical-align: middle;\n",
       "    }\n",
       "\n",
       "    .dataframe tbody tr th {\n",
       "        vertical-align: top;\n",
       "    }\n",
       "\n",
       "    .dataframe thead th {\n",
       "        text-align: right;\n",
       "    }\n",
       "</style>\n",
       "<table border=\"1\" class=\"dataframe\">\n",
       "  <thead>\n",
       "    <tr style=\"text-align: right;\">\n",
       "      <th></th>\n",
       "      <th>aliases</th>\n",
       "      <th>date_of_birth</th>\n",
       "      <th>nationality</th>\n",
       "      <th>gender</th>\n",
       "      <th>lastrevid</th>\n",
       "      <th>ethnic_group</th>\n",
       "      <th>US_congress_bio_ID</th>\n",
       "      <th>occupation</th>\n",
       "      <th>party</th>\n",
       "      <th>academic_degree</th>\n",
       "      <th>id</th>\n",
       "      <th>label</th>\n",
       "      <th>candidacy</th>\n",
       "      <th>type</th>\n",
       "      <th>religion</th>\n",
       "      <th>signi_quote_count</th>\n",
       "      <th>country</th>\n",
       "    </tr>\n",
       "  </thead>\n",
       "  <tbody>\n",
       "    <tr>\n",
       "      <th>3795</th>\n",
       "      <td>[Donald John Trump, Donald J. Trump, Trump, Th...</td>\n",
       "      <td>[+1946-06-14T00:00:00Z]</td>\n",
       "      <td>[Q30]</td>\n",
       "      <td>[Q6581097]</td>\n",
       "      <td>1395141850</td>\n",
       "      <td>None</td>\n",
       "      <td>None</td>\n",
       "      <td>[Q911554, Q557880, Q3427922, Q15980158, Q13152...</td>\n",
       "      <td>[Q29468, Q1897793, Q29552, Q29468, Q29468]</td>\n",
       "      <td>[Q787674]</td>\n",
       "      <td>Q22686</td>\n",
       "      <td>Donald Trump</td>\n",
       "      <td>[Q699872, Q22923830, Q38051523]</td>\n",
       "      <td>item</td>\n",
       "      <td>[Q178169]</td>\n",
       "      <td>201293</td>\n",
       "      <td>Q30</td>\n",
       "    </tr>\n",
       "    <tr>\n",
       "      <th>5136</th>\n",
       "      <td>[Namo, Modi, Narendra Bhai, Narendra Damodarda...</td>\n",
       "      <td>[+1950-09-17T00:00:00Z]</td>\n",
       "      <td>[Q668]</td>\n",
       "      <td>[Q6581097]</td>\n",
       "      <td>1395415052</td>\n",
       "      <td>[Q1282294, Q6889284]</td>\n",
       "      <td>None</td>\n",
       "      <td>[Q82955, Q36180, Q7019111, Q10429346]</td>\n",
       "      <td>[Q10230]</td>\n",
       "      <td>None</td>\n",
       "      <td>Q1058</td>\n",
       "      <td>Narendra Modi</td>\n",
       "      <td>[Q63988227, Q63988919, Q16841231, Q16251961, Q...</td>\n",
       "      <td>item</td>\n",
       "      <td>[Q9089]</td>\n",
       "      <td>76404</td>\n",
       "      <td>Q668</td>\n",
       "    </tr>\n",
       "    <tr>\n",
       "      <th>3796</th>\n",
       "      <td>[Barack Hussein Obama II, Barack Obama II, Bar...</td>\n",
       "      <td>[+1961-08-04T00:00:00Z]</td>\n",
       "      <td>[Q30]</td>\n",
       "      <td>[Q6581097]</td>\n",
       "      <td>1395141963</td>\n",
       "      <td>[Q49085, Q6935055, Q12826303, Q6392846]</td>\n",
       "      <td>O000167</td>\n",
       "      <td>[Q82955, Q40348, Q15958642, Q28532974, Q372436]</td>\n",
       "      <td>[Q29552]</td>\n",
       "      <td>[Q1765120, Q1540185]</td>\n",
       "      <td>Q76</td>\n",
       "      <td>Barack Obama</td>\n",
       "      <td>[Q3586671, Q45578, Q4226, Q4791768, Q17067714,...</td>\n",
       "      <td>item</td>\n",
       "      <td>[Q23540, Q1062789, Q960252, Q426316]</td>\n",
       "      <td>59650</td>\n",
       "      <td>Q30</td>\n",
       "    </tr>\n",
       "    <tr>\n",
       "      <th>3097</th>\n",
       "      <td>[Jorge Mario Bergoglio, Francisco, Pope Franci...</td>\n",
       "      <td>[+1936-12-17T00:00:00Z]</td>\n",
       "      <td>[Q237, Q414]</td>\n",
       "      <td>[Q6581097]</td>\n",
       "      <td>1396054797</td>\n",
       "      <td>[Q1056744]</td>\n",
       "      <td>None</td>\n",
       "      <td>[Q63173086, Q593644, Q104050302, Q36180, Q1234...</td>\n",
       "      <td>None</td>\n",
       "      <td>[Q1233889]</td>\n",
       "      <td>Q450675</td>\n",
       "      <td>Francis</td>\n",
       "      <td>None</td>\n",
       "      <td>item</td>\n",
       "      <td>[Q9592]</td>\n",
       "      <td>37218</td>\n",
       "      <td>Q237</td>\n",
       "    </tr>\n",
       "    <tr>\n",
       "      <th>1812</th>\n",
       "      <td>[Jürgen Norbert Klopp, Jurgen Klopp, Juergen K...</td>\n",
       "      <td>[+1967-06-16T00:00:00Z]</td>\n",
       "      <td>[Q183]</td>\n",
       "      <td>[Q6581097]</td>\n",
       "      <td>1389758184</td>\n",
       "      <td>None</td>\n",
       "      <td>None</td>\n",
       "      <td>[Q937857, Q628099]</td>\n",
       "      <td>None</td>\n",
       "      <td>None</td>\n",
       "      <td>Q83106</td>\n",
       "      <td>Jürgen Klopp</td>\n",
       "      <td>None</td>\n",
       "      <td>item</td>\n",
       "      <td>[Q75809]</td>\n",
       "      <td>33025</td>\n",
       "      <td>Q183</td>\n",
       "    </tr>\n",
       "    <tr>\n",
       "      <th>...</th>\n",
       "      <td>...</td>\n",
       "      <td>...</td>\n",
       "      <td>...</td>\n",
       "      <td>...</td>\n",
       "      <td>...</td>\n",
       "      <td>...</td>\n",
       "      <td>...</td>\n",
       "      <td>...</td>\n",
       "      <td>...</td>\n",
       "      <td>...</td>\n",
       "      <td>...</td>\n",
       "      <td>...</td>\n",
       "      <td>...</td>\n",
       "      <td>...</td>\n",
       "      <td>...</td>\n",
       "      <td>...</td>\n",
       "      <td>...</td>\n",
       "    </tr>\n",
       "    <tr>\n",
       "      <th>5450</th>\n",
       "      <td>None</td>\n",
       "      <td>[+1994-03-02T00:00:00Z]</td>\n",
       "      <td>[Q697]</td>\n",
       "      <td>[Q6581097]</td>\n",
       "      <td>1363345621</td>\n",
       "      <td>None</td>\n",
       "      <td>None</td>\n",
       "      <td>[Q13381376]</td>\n",
       "      <td>None</td>\n",
       "      <td>None</td>\n",
       "      <td>Q26217954</td>\n",
       "      <td>Elson Brechtefeld</td>\n",
       "      <td>None</td>\n",
       "      <td>item</td>\n",
       "      <td>None</td>\n",
       "      <td>1</td>\n",
       "      <td>Q697</td>\n",
       "    </tr>\n",
       "    <tr>\n",
       "      <th>5451</th>\n",
       "      <td>None</td>\n",
       "      <td>[+1983-03-31T00:00:00Z]</td>\n",
       "      <td>[Q697]</td>\n",
       "      <td>[Q6581097]</td>\n",
       "      <td>1308221285</td>\n",
       "      <td>None</td>\n",
       "      <td>None</td>\n",
       "      <td>[Q6665249]</td>\n",
       "      <td>None</td>\n",
       "      <td>None</td>\n",
       "      <td>Q2105454</td>\n",
       "      <td>Sled Dowabobo</td>\n",
       "      <td>None</td>\n",
       "      <td>item</td>\n",
       "      <td>None</td>\n",
       "      <td>1</td>\n",
       "      <td>Q697</td>\n",
       "    </tr>\n",
       "    <tr>\n",
       "      <th>5459</th>\n",
       "      <td>[John Richard Haglelgam]</td>\n",
       "      <td>[+1949-08-10T00:00:00Z]</td>\n",
       "      <td>[Q702]</td>\n",
       "      <td>[Q6581097]</td>\n",
       "      <td>1176463720</td>\n",
       "      <td>None</td>\n",
       "      <td>None</td>\n",
       "      <td>[Q82955]</td>\n",
       "      <td>None</td>\n",
       "      <td>None</td>\n",
       "      <td>Q448251</td>\n",
       "      <td>John Haglelgam</td>\n",
       "      <td>None</td>\n",
       "      <td>item</td>\n",
       "      <td>None</td>\n",
       "      <td>1</td>\n",
       "      <td>Q702</td>\n",
       "    </tr>\n",
       "    <tr>\n",
       "      <th>5460</th>\n",
       "      <td>[Leo Amy Falcam]</td>\n",
       "      <td>[+1935-11-20T00:00:00Z]</td>\n",
       "      <td>[Q702]</td>\n",
       "      <td>[Q6581097]</td>\n",
       "      <td>1263701987</td>\n",
       "      <td>None</td>\n",
       "      <td>None</td>\n",
       "      <td>[Q82955]</td>\n",
       "      <td>None</td>\n",
       "      <td>None</td>\n",
       "      <td>Q448296</td>\n",
       "      <td>Leo Falcam</td>\n",
       "      <td>None</td>\n",
       "      <td>item</td>\n",
       "      <td>None</td>\n",
       "      <td>1</td>\n",
       "      <td>Q702</td>\n",
       "    </tr>\n",
       "    <tr>\n",
       "      <th>9043</th>\n",
       "      <td>None</td>\n",
       "      <td>None</td>\n",
       "      <td>[Q986]</td>\n",
       "      <td>[Q6581072]</td>\n",
       "      <td>1066631578</td>\n",
       "      <td>None</td>\n",
       "      <td>None</td>\n",
       "      <td>None</td>\n",
       "      <td>None</td>\n",
       "      <td>None</td>\n",
       "      <td>Q54928778</td>\n",
       "      <td>Hermon Berhane</td>\n",
       "      <td>None</td>\n",
       "      <td>item</td>\n",
       "      <td>None</td>\n",
       "      <td>1</td>\n",
       "      <td>Q986</td>\n",
       "    </tr>\n",
       "  </tbody>\n",
       "</table>\n",
       "<p>9044 rows × 17 columns</p>\n",
       "</div>"
      ],
      "text/plain": [
       "                                                aliases  \\\n",
       "3795  [Donald John Trump, Donald J. Trump, Trump, Th...   \n",
       "5136  [Namo, Modi, Narendra Bhai, Narendra Damodarda...   \n",
       "3796  [Barack Hussein Obama II, Barack Obama II, Bar...   \n",
       "3097  [Jorge Mario Bergoglio, Francisco, Pope Franci...   \n",
       "1812  [Jürgen Norbert Klopp, Jurgen Klopp, Juergen K...   \n",
       "...                                                 ...   \n",
       "5450                                               None   \n",
       "5451                                               None   \n",
       "5459                           [John Richard Haglelgam]   \n",
       "5460                                   [Leo Amy Falcam]   \n",
       "9043                                               None   \n",
       "\n",
       "                date_of_birth   nationality      gender   lastrevid  \\\n",
       "3795  [+1946-06-14T00:00:00Z]         [Q30]  [Q6581097]  1395141850   \n",
       "5136  [+1950-09-17T00:00:00Z]        [Q668]  [Q6581097]  1395415052   \n",
       "3796  [+1961-08-04T00:00:00Z]         [Q30]  [Q6581097]  1395141963   \n",
       "3097  [+1936-12-17T00:00:00Z]  [Q237, Q414]  [Q6581097]  1396054797   \n",
       "1812  [+1967-06-16T00:00:00Z]        [Q183]  [Q6581097]  1389758184   \n",
       "...                       ...           ...         ...         ...   \n",
       "5450  [+1994-03-02T00:00:00Z]        [Q697]  [Q6581097]  1363345621   \n",
       "5451  [+1983-03-31T00:00:00Z]        [Q697]  [Q6581097]  1308221285   \n",
       "5459  [+1949-08-10T00:00:00Z]        [Q702]  [Q6581097]  1176463720   \n",
       "5460  [+1935-11-20T00:00:00Z]        [Q702]  [Q6581097]  1263701987   \n",
       "9043                     None        [Q986]  [Q6581072]  1066631578   \n",
       "\n",
       "                                 ethnic_group US_congress_bio_ID  \\\n",
       "3795                                     None               None   \n",
       "5136                     [Q1282294, Q6889284]               None   \n",
       "3796  [Q49085, Q6935055, Q12826303, Q6392846]            O000167   \n",
       "3097                               [Q1056744]               None   \n",
       "1812                                     None               None   \n",
       "...                                       ...                ...   \n",
       "5450                                     None               None   \n",
       "5451                                     None               None   \n",
       "5459                                     None               None   \n",
       "5460                                     None               None   \n",
       "9043                                     None               None   \n",
       "\n",
       "                                             occupation  \\\n",
       "3795  [Q911554, Q557880, Q3427922, Q15980158, Q13152...   \n",
       "5136              [Q82955, Q36180, Q7019111, Q10429346]   \n",
       "3796    [Q82955, Q40348, Q15958642, Q28532974, Q372436]   \n",
       "3097  [Q63173086, Q593644, Q104050302, Q36180, Q1234...   \n",
       "1812                                 [Q937857, Q628099]   \n",
       "...                                                 ...   \n",
       "5450                                        [Q13381376]   \n",
       "5451                                         [Q6665249]   \n",
       "5459                                           [Q82955]   \n",
       "5460                                           [Q82955]   \n",
       "9043                                               None   \n",
       "\n",
       "                                           party       academic_degree  \\\n",
       "3795  [Q29468, Q1897793, Q29552, Q29468, Q29468]             [Q787674]   \n",
       "5136                                    [Q10230]                  None   \n",
       "3796                                    [Q29552]  [Q1765120, Q1540185]   \n",
       "3097                                        None            [Q1233889]   \n",
       "1812                                        None                  None   \n",
       "...                                          ...                   ...   \n",
       "5450                                        None                  None   \n",
       "5451                                        None                  None   \n",
       "5459                                        None                  None   \n",
       "5460                                        None                  None   \n",
       "9043                                        None                  None   \n",
       "\n",
       "             id              label  \\\n",
       "3795     Q22686       Donald Trump   \n",
       "5136      Q1058      Narendra Modi   \n",
       "3796        Q76       Barack Obama   \n",
       "3097    Q450675            Francis   \n",
       "1812     Q83106       Jürgen Klopp   \n",
       "...         ...                ...   \n",
       "5450  Q26217954  Elson Brechtefeld   \n",
       "5451   Q2105454      Sled Dowabobo   \n",
       "5459    Q448251     John Haglelgam   \n",
       "5460    Q448296         Leo Falcam   \n",
       "9043  Q54928778     Hermon Berhane   \n",
       "\n",
       "                                              candidacy  type  \\\n",
       "3795                    [Q699872, Q22923830, Q38051523]  item   \n",
       "5136  [Q63988227, Q63988919, Q16841231, Q16251961, Q...  item   \n",
       "3796  [Q3586671, Q45578, Q4226, Q4791768, Q17067714,...  item   \n",
       "3097                                               None  item   \n",
       "1812                                               None  item   \n",
       "...                                                 ...   ...   \n",
       "5450                                               None  item   \n",
       "5451                                               None  item   \n",
       "5459                                               None  item   \n",
       "5460                                               None  item   \n",
       "9043                                               None  item   \n",
       "\n",
       "                                  religion  signi_quote_count country  \n",
       "3795                             [Q178169]             201293     Q30  \n",
       "5136                               [Q9089]              76404    Q668  \n",
       "3796  [Q23540, Q1062789, Q960252, Q426316]              59650     Q30  \n",
       "3097                               [Q9592]              37218    Q237  \n",
       "1812                              [Q75809]              33025    Q183  \n",
       "...                                    ...                ...     ...  \n",
       "5450                                  None                  1    Q697  \n",
       "5451                                  None                  1    Q697  \n",
       "5459                                  None                  1    Q702  \n",
       "5460                                  None                  1    Q702  \n",
       "9043                                  None                  1    Q986  \n",
       "\n",
       "[9044 rows x 17 columns]"
      ]
     },
     "execution_count": 70,
     "metadata": {},
     "output_type": "execute_result"
    }
   ],
   "source": [
    "selected_country_speakers.sort_values(by=['signi_quote_count'], ascending=False)"
   ]
  },
  {
   "cell_type": "code",
   "execution_count": 71,
   "metadata": {},
   "outputs": [
    {
     "data": {
      "text/html": [
       "<div>\n",
       "<style scoped>\n",
       "    .dataframe tbody tr th:only-of-type {\n",
       "        vertical-align: middle;\n",
       "    }\n",
       "\n",
       "    .dataframe tbody tr th {\n",
       "        vertical-align: top;\n",
       "    }\n",
       "\n",
       "    .dataframe thead th {\n",
       "        text-align: right;\n",
       "    }\n",
       "</style>\n",
       "<table border=\"1\" class=\"dataframe\">\n",
       "  <thead>\n",
       "    <tr style=\"text-align: right;\">\n",
       "      <th></th>\n",
       "      <th>aliases</th>\n",
       "      <th>date_of_birth</th>\n",
       "      <th>nationality</th>\n",
       "      <th>gender</th>\n",
       "      <th>lastrevid</th>\n",
       "      <th>ethnic_group</th>\n",
       "      <th>US_congress_bio_ID</th>\n",
       "      <th>occupation</th>\n",
       "      <th>party</th>\n",
       "      <th>academic_degree</th>\n",
       "      <th>id</th>\n",
       "      <th>label</th>\n",
       "      <th>candidacy</th>\n",
       "      <th>type</th>\n",
       "      <th>religion</th>\n",
       "      <th>signi_quote_count</th>\n",
       "    </tr>\n",
       "    <tr>\n",
       "      <th>country</th>\n",
       "      <th></th>\n",
       "      <th></th>\n",
       "      <th></th>\n",
       "      <th></th>\n",
       "      <th></th>\n",
       "      <th></th>\n",
       "      <th></th>\n",
       "      <th></th>\n",
       "      <th></th>\n",
       "      <th></th>\n",
       "      <th></th>\n",
       "      <th></th>\n",
       "      <th></th>\n",
       "      <th></th>\n",
       "      <th></th>\n",
       "      <th></th>\n",
       "    </tr>\n",
       "  </thead>\n",
       "  <tbody>\n",
       "    <tr>\n",
       "      <th>Q1000</th>\n",
       "      <td>11</td>\n",
       "      <td>33</td>\n",
       "      <td>35</td>\n",
       "      <td>35</td>\n",
       "      <td>35</td>\n",
       "      <td>1</td>\n",
       "      <td>0</td>\n",
       "      <td>35</td>\n",
       "      <td>14</td>\n",
       "      <td>0</td>\n",
       "      <td>35</td>\n",
       "      <td>35</td>\n",
       "      <td>1</td>\n",
       "      <td>35</td>\n",
       "      <td>1</td>\n",
       "      <td>35</td>\n",
       "    </tr>\n",
       "    <tr>\n",
       "      <th>Q1005</th>\n",
       "      <td>8</td>\n",
       "      <td>50</td>\n",
       "      <td>50</td>\n",
       "      <td>50</td>\n",
       "      <td>50</td>\n",
       "      <td>1</td>\n",
       "      <td>0</td>\n",
       "      <td>50</td>\n",
       "      <td>11</td>\n",
       "      <td>0</td>\n",
       "      <td>50</td>\n",
       "      <td>50</td>\n",
       "      <td>2</td>\n",
       "      <td>50</td>\n",
       "      <td>5</td>\n",
       "      <td>50</td>\n",
       "    </tr>\n",
       "    <tr>\n",
       "      <th>Q1006</th>\n",
       "      <td>18</td>\n",
       "      <td>46</td>\n",
       "      <td>50</td>\n",
       "      <td>50</td>\n",
       "      <td>50</td>\n",
       "      <td>1</td>\n",
       "      <td>0</td>\n",
       "      <td>50</td>\n",
       "      <td>5</td>\n",
       "      <td>0</td>\n",
       "      <td>50</td>\n",
       "      <td>50</td>\n",
       "      <td>1</td>\n",
       "      <td>50</td>\n",
       "      <td>4</td>\n",
       "      <td>50</td>\n",
       "    </tr>\n",
       "    <tr>\n",
       "      <th>Q1007</th>\n",
       "      <td>16</td>\n",
       "      <td>24</td>\n",
       "      <td>24</td>\n",
       "      <td>24</td>\n",
       "      <td>24</td>\n",
       "      <td>0</td>\n",
       "      <td>0</td>\n",
       "      <td>24</td>\n",
       "      <td>9</td>\n",
       "      <td>0</td>\n",
       "      <td>24</td>\n",
       "      <td>24</td>\n",
       "      <td>1</td>\n",
       "      <td>24</td>\n",
       "      <td>2</td>\n",
       "      <td>24</td>\n",
       "    </tr>\n",
       "    <tr>\n",
       "      <th>Q1008</th>\n",
       "      <td>23</td>\n",
       "      <td>50</td>\n",
       "      <td>50</td>\n",
       "      <td>50</td>\n",
       "      <td>50</td>\n",
       "      <td>0</td>\n",
       "      <td>0</td>\n",
       "      <td>50</td>\n",
       "      <td>8</td>\n",
       "      <td>1</td>\n",
       "      <td>50</td>\n",
       "      <td>50</td>\n",
       "      <td>0</td>\n",
       "      <td>50</td>\n",
       "      <td>9</td>\n",
       "      <td>50</td>\n",
       "    </tr>\n",
       "    <tr>\n",
       "      <th>...</th>\n",
       "      <td>...</td>\n",
       "      <td>...</td>\n",
       "      <td>...</td>\n",
       "      <td>...</td>\n",
       "      <td>...</td>\n",
       "      <td>...</td>\n",
       "      <td>...</td>\n",
       "      <td>...</td>\n",
       "      <td>...</td>\n",
       "      <td>...</td>\n",
       "      <td>...</td>\n",
       "      <td>...</td>\n",
       "      <td>...</td>\n",
       "      <td>...</td>\n",
       "      <td>...</td>\n",
       "      <td>...</td>\n",
       "    </tr>\n",
       "    <tr>\n",
       "      <th>Q971</th>\n",
       "      <td>20</td>\n",
       "      <td>46</td>\n",
       "      <td>48</td>\n",
       "      <td>48</td>\n",
       "      <td>48</td>\n",
       "      <td>0</td>\n",
       "      <td>0</td>\n",
       "      <td>46</td>\n",
       "      <td>21</td>\n",
       "      <td>0</td>\n",
       "      <td>48</td>\n",
       "      <td>48</td>\n",
       "      <td>5</td>\n",
       "      <td>48</td>\n",
       "      <td>1</td>\n",
       "      <td>48</td>\n",
       "    </tr>\n",
       "    <tr>\n",
       "      <th>Q974</th>\n",
       "      <td>23</td>\n",
       "      <td>50</td>\n",
       "      <td>50</td>\n",
       "      <td>50</td>\n",
       "      <td>50</td>\n",
       "      <td>2</td>\n",
       "      <td>0</td>\n",
       "      <td>50</td>\n",
       "      <td>14</td>\n",
       "      <td>1</td>\n",
       "      <td>50</td>\n",
       "      <td>50</td>\n",
       "      <td>2</td>\n",
       "      <td>50</td>\n",
       "      <td>6</td>\n",
       "      <td>50</td>\n",
       "    </tr>\n",
       "    <tr>\n",
       "      <th>Q977</th>\n",
       "      <td>2</td>\n",
       "      <td>10</td>\n",
       "      <td>11</td>\n",
       "      <td>11</td>\n",
       "      <td>11</td>\n",
       "      <td>0</td>\n",
       "      <td>0</td>\n",
       "      <td>10</td>\n",
       "      <td>4</td>\n",
       "      <td>1</td>\n",
       "      <td>11</td>\n",
       "      <td>11</td>\n",
       "      <td>0</td>\n",
       "      <td>11</td>\n",
       "      <td>1</td>\n",
       "      <td>11</td>\n",
       "    </tr>\n",
       "    <tr>\n",
       "      <th>Q983</th>\n",
       "      <td>5</td>\n",
       "      <td>12</td>\n",
       "      <td>12</td>\n",
       "      <td>12</td>\n",
       "      <td>12</td>\n",
       "      <td>0</td>\n",
       "      <td>0</td>\n",
       "      <td>12</td>\n",
       "      <td>5</td>\n",
       "      <td>0</td>\n",
       "      <td>12</td>\n",
       "      <td>12</td>\n",
       "      <td>1</td>\n",
       "      <td>12</td>\n",
       "      <td>0</td>\n",
       "      <td>12</td>\n",
       "    </tr>\n",
       "    <tr>\n",
       "      <th>Q986</th>\n",
       "      <td>6</td>\n",
       "      <td>37</td>\n",
       "      <td>49</td>\n",
       "      <td>49</td>\n",
       "      <td>49</td>\n",
       "      <td>0</td>\n",
       "      <td>0</td>\n",
       "      <td>41</td>\n",
       "      <td>9</td>\n",
       "      <td>0</td>\n",
       "      <td>49</td>\n",
       "      <td>49</td>\n",
       "      <td>1</td>\n",
       "      <td>49</td>\n",
       "      <td>5</td>\n",
       "      <td>49</td>\n",
       "    </tr>\n",
       "  </tbody>\n",
       "</table>\n",
       "<p>219 rows × 16 columns</p>\n",
       "</div>"
      ],
      "text/plain": [
       "         aliases  date_of_birth  nationality  gender  lastrevid  ethnic_group  \\\n",
       "country                                                                         \n",
       "Q1000         11             33           35      35         35             1   \n",
       "Q1005          8             50           50      50         50             1   \n",
       "Q1006         18             46           50      50         50             1   \n",
       "Q1007         16             24           24      24         24             0   \n",
       "Q1008         23             50           50      50         50             0   \n",
       "...          ...            ...          ...     ...        ...           ...   \n",
       "Q971          20             46           48      48         48             0   \n",
       "Q974          23             50           50      50         50             2   \n",
       "Q977           2             10           11      11         11             0   \n",
       "Q983           5             12           12      12         12             0   \n",
       "Q986           6             37           49      49         49             0   \n",
       "\n",
       "         US_congress_bio_ID  occupation  party  academic_degree  id  label  \\\n",
       "country                                                                      \n",
       "Q1000                     0          35     14                0  35     35   \n",
       "Q1005                     0          50     11                0  50     50   \n",
       "Q1006                     0          50      5                0  50     50   \n",
       "Q1007                     0          24      9                0  24     24   \n",
       "Q1008                     0          50      8                1  50     50   \n",
       "...                     ...         ...    ...              ...  ..    ...   \n",
       "Q971                      0          46     21                0  48     48   \n",
       "Q974                      0          50     14                1  50     50   \n",
       "Q977                      0          10      4                1  11     11   \n",
       "Q983                      0          12      5                0  12     12   \n",
       "Q986                      0          41      9                0  49     49   \n",
       "\n",
       "         candidacy  type  religion  signi_quote_count  \n",
       "country                                                \n",
       "Q1000            1    35         1                 35  \n",
       "Q1005            2    50         5                 50  \n",
       "Q1006            1    50         4                 50  \n",
       "Q1007            1    24         2                 24  \n",
       "Q1008            0    50         9                 50  \n",
       "...            ...   ...       ...                ...  \n",
       "Q971             5    48         1                 48  \n",
       "Q974             2    50         6                 50  \n",
       "Q977             0    11         1                 11  \n",
       "Q983             1    12         0                 12  \n",
       "Q986             1    49         5                 49  \n",
       "\n",
       "[219 rows x 16 columns]"
      ]
     },
     "execution_count": 71,
     "metadata": {},
     "output_type": "execute_result"
    }
   ],
   "source": [
    "selected_country_speakers.groupby('country').count()"
   ]
  },
  {
   "cell_type": "code",
   "execution_count": 72,
   "metadata": {},
   "outputs": [],
   "source": [
    "selected_country_speakers.to_parquet('data/rep_country_speakers.parquet')"
   ]
  },
  {
   "cell_type": "markdown",
   "metadata": {},
   "source": [
    "<font color='red'>WARNING: LONG EXECUTION!</font>"
   ]
  },
  {
   "cell_type": "code",
   "execution_count": 76,
   "metadata": {},
   "outputs": [
    {
     "name": "stderr",
     "output_type": "stream",
     "text": [
      "Processing year 2019: 3397it [1:02:02,  1.10s/it]\n"
     ]
    },
    {
     "name": "stdout",
     "output_type": "stream",
     "text": [
      "\n",
      "File data/quotebank/quotes-2019.json.bz2 processed in 3725.7s\n",
      "\n"
     ]
    },
    {
     "name": "stderr",
     "output_type": "stream",
     "text": [
      "Processing year 2020: 793it [15:52,  1.20s/it]\n"
     ]
    },
    {
     "name": "stdout",
     "output_type": "stream",
     "text": [
      "\n",
      "File data/quotebank/quotes-2020.json.bz2 processed in 953.4s\n",
      "\n",
      "\n",
      "\n",
      "Output file names:\n",
      "data/country-speaker-quotes-2019_1639059907080.json\n",
      "data/country-speaker-quotes-2020_1639060864568.json\n"
     ]
    }
   ],
   "source": [
    "from functools import partial\n",
    "\n",
    "# years = [2015, 2016, 2017, 2018, 2019, 2020]\n",
    "years = [2019, 2020]\n",
    "speaker_qids = selected_country_speakers.id.to_list() \n",
    "output_list = []\n",
    "\n",
    "for year in years:\n",
    "    path_to_input = PATTERN_INPUT.format(year)\n",
    "    \n",
    "    # Process quote file\n",
    "    output_name = process_compressed_json_file(path_to_input, 'data/country-speaker-quotes', year, partial(check_if_speaker_quote, speakers=speaker_qids))\n",
    "    \n",
    "    output_list.append(output_name)\n",
    "\n",
    "print('\\n\\nOutput file names:')\n",
    "for file_name in output_list:\n",
    "    print(file_name)"
   ]
  },
  {
   "cell_type": "code",
   "execution_count": 4,
   "metadata": {},
   "outputs": [],
   "source": [
    "country_sp_quotes_2015 = read_json('data/country-speaker-quotes-2015_1639002396480.json')\n",
    "country_sp_quotes_2016 = read_json('data/country-speaker-quotes-2016_1639004467042.json')\n",
    "country_sp_quotes_2017 = read_json('data/country-speaker-quotes-2017_1639008783813.json')\n",
    "country_sp_quotes_2018 = read_json('data/country-speaker-quotes-2018_1639050881392.json')\n",
    "country_sp_quotes_2019 = read_json('data/country-speaker-quotes-2019_1639059907080.json')\n",
    "country_sp_quotes_2020 = read_json('data/country-speaker-quotes-2020_1639060864568.json')"
   ]
  },
  {
   "cell_type": "code",
   "execution_count": 5,
   "metadata": {},
   "outputs": [],
   "source": [
    "country_sp_quotes_2015, _ = filter_quotes(country_sp_quotes_2015)\n",
    "country_sp_quotes_2016, _ = filter_quotes(country_sp_quotes_2016)\n",
    "country_sp_quotes_2017, _ = filter_quotes(country_sp_quotes_2017)\n",
    "country_sp_quotes_2018, _ = filter_quotes(country_sp_quotes_2018)\n",
    "country_sp_quotes_2019, _ = filter_quotes(country_sp_quotes_2019)\n",
    "country_sp_quotes_2020, _ = filter_quotes(country_sp_quotes_2020)"
   ]
  },
  {
   "cell_type": "code",
   "execution_count": 6,
   "metadata": {},
   "outputs": [],
   "source": [
    "country_sp_quotes_2015_concat = concatenate_quotes(country_sp_quotes_2015)\n",
    "country_sp_quotes_2016_concat = concatenate_quotes(country_sp_quotes_2016)\n",
    "country_sp_quotes_2017_concat = concatenate_quotes(country_sp_quotes_2017)\n",
    "country_sp_quotes_2018_concat = concatenate_quotes(country_sp_quotes_2018)\n",
    "country_sp_quotes_2019_concat = concatenate_quotes(country_sp_quotes_2019)\n",
    "country_sp_quotes_2020_concat = concatenate_quotes(country_sp_quotes_2020)"
   ]
  },
  {
   "cell_type": "code",
   "execution_count": 7,
   "metadata": {},
   "outputs": [],
   "source": [
    "country_sp_quotes_2015_df = pd.Series(country_sp_quotes_2015_concat, name='quotations')\n",
    "country_sp_quotes_2016_df = pd.Series(country_sp_quotes_2016_concat, name='quotations')\n",
    "country_sp_quotes_2017_df = pd.Series(country_sp_quotes_2017_concat, name='quotations')\n",
    "country_sp_quotes_2018_df = pd.Series(country_sp_quotes_2018_concat, name='quotations')\n",
    "country_sp_quotes_2019_df = pd.Series(country_sp_quotes_2019_concat, name='quotations')\n",
    "country_sp_quotes_2020_df = pd.Series(country_sp_quotes_2020_concat, name='quotations')\n"
   ]
  },
  {
   "cell_type": "code",
   "execution_count": 8,
   "metadata": {},
   "outputs": [],
   "source": [
    "selected_country_speakers = pd.read_parquet('data/rep_country_speakers.parquet')"
   ]
  },
  {
   "cell_type": "code",
   "execution_count": 9,
   "metadata": {},
   "outputs": [],
   "source": [
    "country_quotes_2015_df = selected_country_speakers.merge(country_sp_quotes_2015_df, left_on='id', right_index=True, how='inner')\n",
    "country_quotes_2016_df = selected_country_speakers.merge(country_sp_quotes_2016_df, left_on='id', right_index=True, how='inner')\n",
    "country_quotes_2017_df = selected_country_speakers.merge(country_sp_quotes_2017_df, left_on='id', right_index=True, how='inner')\n",
    "country_quotes_2018_df = selected_country_speakers.merge(country_sp_quotes_2018_df, left_on='id', right_index=True, how='inner')\n",
    "country_quotes_2019_df = selected_country_speakers.merge(country_sp_quotes_2019_df, left_on='id', right_index=True, how='inner')\n",
    "country_quotes_2020_df = selected_country_speakers.merge(country_sp_quotes_2020_df, left_on='id', right_index=True, how='inner')"
   ]
  },
  {
   "cell_type": "code",
   "execution_count": 107,
   "metadata": {},
   "outputs": [
    {
     "data": {
      "text/html": [
       "<div>\n",
       "<style scoped>\n",
       "    .dataframe tbody tr th:only-of-type {\n",
       "        vertical-align: middle;\n",
       "    }\n",
       "\n",
       "    .dataframe tbody tr th {\n",
       "        vertical-align: top;\n",
       "    }\n",
       "\n",
       "    .dataframe thead th {\n",
       "        text-align: right;\n",
       "    }\n",
       "</style>\n",
       "<table border=\"1\" class=\"dataframe\">\n",
       "  <thead>\n",
       "    <tr style=\"text-align: right;\">\n",
       "      <th></th>\n",
       "      <th>aliases</th>\n",
       "      <th>date_of_birth</th>\n",
       "      <th>nationality</th>\n",
       "      <th>gender</th>\n",
       "      <th>lastrevid</th>\n",
       "      <th>ethnic_group</th>\n",
       "      <th>US_congress_bio_ID</th>\n",
       "      <th>occupation</th>\n",
       "      <th>party</th>\n",
       "      <th>academic_degree</th>\n",
       "      <th>id</th>\n",
       "      <th>label</th>\n",
       "      <th>candidacy</th>\n",
       "      <th>type</th>\n",
       "      <th>religion</th>\n",
       "      <th>signi_quote_count</th>\n",
       "      <th>country</th>\n",
       "      <th>quotations</th>\n",
       "    </tr>\n",
       "  </thead>\n",
       "  <tbody>\n",
       "    <tr>\n",
       "      <th>0</th>\n",
       "      <td>None</td>\n",
       "      <td>[+1996-09-19T00:00:00Z]</td>\n",
       "      <td>[Q1000]</td>\n",
       "      <td>[Q6581097]</td>\n",
       "      <td>1367630304</td>\n",
       "      <td>None</td>\n",
       "      <td>None</td>\n",
       "      <td>[Q3665646]</td>\n",
       "      <td>None</td>\n",
       "      <td>None</td>\n",
       "      <td>Q20880774</td>\n",
       "      <td>Chris Silva</td>\n",
       "      <td>None</td>\n",
       "      <td>item</td>\n",
       "      <td>None</td>\n",
       "      <td>218</td>\n",
       "      <td>Q1000</td>\n",
       "      <td>Since becoming a public company one year ago,...</td>\n",
       "    </tr>\n",
       "    <tr>\n",
       "      <th>1</th>\n",
       "      <td>[Mario René Junior Lemina]</td>\n",
       "      <td>[+1993-09-01T00:00:00Z]</td>\n",
       "      <td>[Q1000]</td>\n",
       "      <td>[Q6581097]</td>\n",
       "      <td>1349199504</td>\n",
       "      <td>None</td>\n",
       "      <td>None</td>\n",
       "      <td>[Q937857]</td>\n",
       "      <td>None</td>\n",
       "      <td>None</td>\n",
       "      <td>Q13780454</td>\n",
       "      <td>Mario Lemina</td>\n",
       "      <td>None</td>\n",
       "      <td>item</td>\n",
       "      <td>None</td>\n",
       "      <td>104</td>\n",
       "      <td>Q1000</td>\n",
       "      <td>brings physical strength to Juventus `central...</td>\n",
       "    </tr>\n",
       "    <tr>\n",
       "      <th>2</th>\n",
       "      <td>None</td>\n",
       "      <td>[+1942-11-24T00:00:00Z]</td>\n",
       "      <td>[Q1000]</td>\n",
       "      <td>[Q6581097]</td>\n",
       "      <td>1320314694</td>\n",
       "      <td>None</td>\n",
       "      <td>None</td>\n",
       "      <td>[Q193391, Q82955]</td>\n",
       "      <td>[Q1762536]</td>\n",
       "      <td>None</td>\n",
       "      <td>Q58286</td>\n",
       "      <td>Jean Ping</td>\n",
       "      <td>None</td>\n",
       "      <td>item</td>\n",
       "      <td>None</td>\n",
       "      <td>88</td>\n",
       "      <td>Q1000</td>\n",
       "      <td>We did not say anything serious except the tr...</td>\n",
       "    </tr>\n",
       "    <tr>\n",
       "      <th>3</th>\n",
       "      <td>None</td>\n",
       "      <td>[+1959-02-09T00:00:00Z]</td>\n",
       "      <td>[Q1000]</td>\n",
       "      <td>[Q6581097]</td>\n",
       "      <td>1356040176</td>\n",
       "      <td>[Q810747]</td>\n",
       "      <td>None</td>\n",
       "      <td>[Q193391, Q82955, Q40348]</td>\n",
       "      <td>[Q1762536]</td>\n",
       "      <td>None</td>\n",
       "      <td>Q57521</td>\n",
       "      <td>Ali Bongo Ondimba</td>\n",
       "      <td>[Q22227440, Q3031394]</td>\n",
       "      <td>item</td>\n",
       "      <td>[Q432]</td>\n",
       "      <td>36</td>\n",
       "      <td>Q1000</td>\n",
       "      <td>We were delighted to be chosen as the host na...</td>\n",
       "    </tr>\n",
       "    <tr>\n",
       "      <th>4</th>\n",
       "      <td>None</td>\n",
       "      <td>[+1986-01-30T00:00:00Z]</td>\n",
       "      <td>[Q1000]</td>\n",
       "      <td>[Q6581097]</td>\n",
       "      <td>1367638687</td>\n",
       "      <td>None</td>\n",
       "      <td>None</td>\n",
       "      <td>[Q19204627, Q19841381]</td>\n",
       "      <td>None</td>\n",
       "      <td>None</td>\n",
       "      <td>Q7361376</td>\n",
       "      <td>Rolly Lumbala</td>\n",
       "      <td>None</td>\n",
       "      <td>item</td>\n",
       "      <td>None</td>\n",
       "      <td>26</td>\n",
       "      <td>Q1000</td>\n",
       "      <td>Watching him grow over the years, just when y...</td>\n",
       "    </tr>\n",
       "    <tr>\n",
       "      <th>...</th>\n",
       "      <td>...</td>\n",
       "      <td>...</td>\n",
       "      <td>...</td>\n",
       "      <td>...</td>\n",
       "      <td>...</td>\n",
       "      <td>...</td>\n",
       "      <td>...</td>\n",
       "      <td>...</td>\n",
       "      <td>...</td>\n",
       "      <td>...</td>\n",
       "      <td>...</td>\n",
       "      <td>...</td>\n",
       "      <td>...</td>\n",
       "      <td>...</td>\n",
       "      <td>...</td>\n",
       "      <td>...</td>\n",
       "      <td>...</td>\n",
       "      <td>...</td>\n",
       "    </tr>\n",
       "    <tr>\n",
       "      <th>9016</th>\n",
       "      <td>None</td>\n",
       "      <td>[+1974-00-00T00:00:00Z]</td>\n",
       "      <td>[Q986]</td>\n",
       "      <td>[Q6581097]</td>\n",
       "      <td>1273008360</td>\n",
       "      <td>None</td>\n",
       "      <td>None</td>\n",
       "      <td>None</td>\n",
       "      <td>None</td>\n",
       "      <td>None</td>\n",
       "      <td>Q7635953</td>\n",
       "      <td>Sulaiman Addonia</td>\n",
       "      <td>None</td>\n",
       "      <td>item</td>\n",
       "      <td>None</td>\n",
       "      <td>4</td>\n",
       "      <td>Q986</td>\n",
       "      <td>Is it worth risking my life for?</td>\n",
       "    </tr>\n",
       "    <tr>\n",
       "      <th>9032</th>\n",
       "      <td>None</td>\n",
       "      <td>[+1978-00-00T00:00:00Z]</td>\n",
       "      <td>[Q986]</td>\n",
       "      <td>[Q6581072]</td>\n",
       "      <td>1311043977</td>\n",
       "      <td>None</td>\n",
       "      <td>None</td>\n",
       "      <td>[Q1930187, Q49757]</td>\n",
       "      <td>None</td>\n",
       "      <td>None</td>\n",
       "      <td>Q17318884</td>\n",
       "      <td>Saba Kidane</td>\n",
       "      <td>None</td>\n",
       "      <td>item</td>\n",
       "      <td>None</td>\n",
       "      <td>1</td>\n",
       "      <td>Q986</td>\n",
       "      <td>We are in a country governed by the rule of l...</td>\n",
       "    </tr>\n",
       "    <tr>\n",
       "      <th>9034</th>\n",
       "      <td>[Berehet Selassie, Bereket Habte Selassie]</td>\n",
       "      <td>None</td>\n",
       "      <td>[Q986]</td>\n",
       "      <td>[Q6581097]</td>\n",
       "      <td>1313140678</td>\n",
       "      <td>None</td>\n",
       "      <td>None</td>\n",
       "      <td>None</td>\n",
       "      <td>None</td>\n",
       "      <td>None</td>\n",
       "      <td>Q4891228</td>\n",
       "      <td>Bereket Selassie</td>\n",
       "      <td>None</td>\n",
       "      <td>item</td>\n",
       "      <td>None</td>\n",
       "      <td>1</td>\n",
       "      <td>Q986</td>\n",
       "      <td>It's just comforting to know I can track it a...</td>\n",
       "    </tr>\n",
       "    <tr>\n",
       "      <th>9036</th>\n",
       "      <td>None</td>\n",
       "      <td>[+1989-10-24T00:00:00Z]</td>\n",
       "      <td>[Q986]</td>\n",
       "      <td>[Q6581097]</td>\n",
       "      <td>1315780675</td>\n",
       "      <td>None</td>\n",
       "      <td>None</td>\n",
       "      <td>[Q13381753, Q4439155]</td>\n",
       "      <td>None</td>\n",
       "      <td>None</td>\n",
       "      <td>Q5639644</td>\n",
       "      <td>Hais Welday</td>\n",
       "      <td>None</td>\n",
       "      <td>item</td>\n",
       "      <td>None</td>\n",
       "      <td>1</td>\n",
       "      <td>Q986</td>\n",
       "      <td>After that I am going alone.</td>\n",
       "    </tr>\n",
       "    <tr>\n",
       "      <th>9042</th>\n",
       "      <td>None</td>\n",
       "      <td>[+1947-00-00T00:00:00Z]</td>\n",
       "      <td>[Q986]</td>\n",
       "      <td>[Q6581097]</td>\n",
       "      <td>1316622696</td>\n",
       "      <td>None</td>\n",
       "      <td>None</td>\n",
       "      <td>[Q82955]</td>\n",
       "      <td>[Q863376]</td>\n",
       "      <td>None</td>\n",
       "      <td>Q6821230</td>\n",
       "      <td>Mesfin Hagos</td>\n",
       "      <td>None</td>\n",
       "      <td>item</td>\n",
       "      <td>None</td>\n",
       "      <td>1</td>\n",
       "      <td>Q986</td>\n",
       "      <td>It is not acceptable to itemize unacceptable ...</td>\n",
       "    </tr>\n",
       "  </tbody>\n",
       "</table>\n",
       "<p>6902 rows × 18 columns</p>\n",
       "</div>"
      ],
      "text/plain": [
       "                                         aliases            date_of_birth  \\\n",
       "0                                           None  [+1996-09-19T00:00:00Z]   \n",
       "1                     [Mario René Junior Lemina]  [+1993-09-01T00:00:00Z]   \n",
       "2                                           None  [+1942-11-24T00:00:00Z]   \n",
       "3                                           None  [+1959-02-09T00:00:00Z]   \n",
       "4                                           None  [+1986-01-30T00:00:00Z]   \n",
       "...                                          ...                      ...   \n",
       "9016                                        None  [+1974-00-00T00:00:00Z]   \n",
       "9032                                        None  [+1978-00-00T00:00:00Z]   \n",
       "9034  [Berehet Selassie, Bereket Habte Selassie]                     None   \n",
       "9036                                        None  [+1989-10-24T00:00:00Z]   \n",
       "9042                                        None  [+1947-00-00T00:00:00Z]   \n",
       "\n",
       "     nationality      gender   lastrevid ethnic_group US_congress_bio_ID  \\\n",
       "0        [Q1000]  [Q6581097]  1367630304         None               None   \n",
       "1        [Q1000]  [Q6581097]  1349199504         None               None   \n",
       "2        [Q1000]  [Q6581097]  1320314694         None               None   \n",
       "3        [Q1000]  [Q6581097]  1356040176    [Q810747]               None   \n",
       "4        [Q1000]  [Q6581097]  1367638687         None               None   \n",
       "...          ...         ...         ...          ...                ...   \n",
       "9016      [Q986]  [Q6581097]  1273008360         None               None   \n",
       "9032      [Q986]  [Q6581072]  1311043977         None               None   \n",
       "9034      [Q986]  [Q6581097]  1313140678         None               None   \n",
       "9036      [Q986]  [Q6581097]  1315780675         None               None   \n",
       "9042      [Q986]  [Q6581097]  1316622696         None               None   \n",
       "\n",
       "                     occupation       party academic_degree         id  \\\n",
       "0                    [Q3665646]        None            None  Q20880774   \n",
       "1                     [Q937857]        None            None  Q13780454   \n",
       "2             [Q193391, Q82955]  [Q1762536]            None     Q58286   \n",
       "3     [Q193391, Q82955, Q40348]  [Q1762536]            None     Q57521   \n",
       "4        [Q19204627, Q19841381]        None            None   Q7361376   \n",
       "...                         ...         ...             ...        ...   \n",
       "9016                       None        None            None   Q7635953   \n",
       "9032         [Q1930187, Q49757]        None            None  Q17318884   \n",
       "9034                       None        None            None   Q4891228   \n",
       "9036      [Q13381753, Q4439155]        None            None   Q5639644   \n",
       "9042                   [Q82955]   [Q863376]            None   Q6821230   \n",
       "\n",
       "                  label              candidacy  type religion  \\\n",
       "0           Chris Silva                   None  item     None   \n",
       "1          Mario Lemina                   None  item     None   \n",
       "2             Jean Ping                   None  item     None   \n",
       "3     Ali Bongo Ondimba  [Q22227440, Q3031394]  item   [Q432]   \n",
       "4         Rolly Lumbala                   None  item     None   \n",
       "...                 ...                    ...   ...      ...   \n",
       "9016   Sulaiman Addonia                   None  item     None   \n",
       "9032        Saba Kidane                   None  item     None   \n",
       "9034   Bereket Selassie                   None  item     None   \n",
       "9036        Hais Welday                   None  item     None   \n",
       "9042       Mesfin Hagos                   None  item     None   \n",
       "\n",
       "      signi_quote_count country  \\\n",
       "0                   218   Q1000   \n",
       "1                   104   Q1000   \n",
       "2                    88   Q1000   \n",
       "3                    36   Q1000   \n",
       "4                    26   Q1000   \n",
       "...                 ...     ...   \n",
       "9016                  4    Q986   \n",
       "9032                  1    Q986   \n",
       "9034                  1    Q986   \n",
       "9036                  1    Q986   \n",
       "9042                  1    Q986   \n",
       "\n",
       "                                             quotations  \n",
       "0      Since becoming a public company one year ago,...  \n",
       "1      brings physical strength to Juventus `central...  \n",
       "2      We did not say anything serious except the tr...  \n",
       "3      We were delighted to be chosen as the host na...  \n",
       "4      Watching him grow over the years, just when y...  \n",
       "...                                                 ...  \n",
       "9016                   Is it worth risking my life for?  \n",
       "9032   We are in a country governed by the rule of l...  \n",
       "9034   It's just comforting to know I can track it a...  \n",
       "9036                       After that I am going alone.  \n",
       "9042   It is not acceptable to itemize unacceptable ...  \n",
       "\n",
       "[6902 rows x 18 columns]"
      ]
     },
     "execution_count": 107,
     "metadata": {},
     "output_type": "execute_result"
    }
   ],
   "source": [
    "country_quotes_2015_df"
   ]
  },
  {
   "cell_type": "code",
   "execution_count": 22,
   "metadata": {},
   "outputs": [],
   "source": [
    "country_quotes_2015_df[['id', 'quotations']].to_csv('data/country_quotes_2015.csv', index=False)\n",
    "country_quotes_2016_df[['id', 'quotations']].to_csv('data/country_quotes_2016.csv', index=False)\n",
    "country_quotes_2017_df[['id', 'quotations']].to_csv('data/country_quotes_2017.csv', index=False)\n",
    "country_quotes_2018_df[['id', 'quotations']].to_csv('data/country_quotes_2018.csv', index=False)\n",
    "country_quotes_2019_df[['id', 'quotations']].to_csv('data/country_quotes_2019.csv', index=False)\n",
    "country_quotes_2020_df[['id', 'quotations']].to_csv('data/country_quotes_2020.csv', index=False)"
   ]
  },
  {
   "cell_type": "code",
   "execution_count": 11,
   "metadata": {},
   "outputs": [],
   "source": [
    "country_quotes_2015_liwc = pd.read_csv('data/country_quotes_2015_liwc.csv')\n",
    "country_quotes_2016_liwc = pd.read_csv('data/country_quotes_2016_liwc.csv')\n",
    "country_quotes_2017_liwc = pd.read_csv('data/country_quotes_2017_liwc.csv')\n",
    "country_quotes_2018_liwc = pd.read_csv('data/country_quotes_2018_liwc.csv')\n",
    "country_quotes_2019_liwc = pd.read_csv('data/country_quotes_2019_liwc.csv')\n",
    "country_quotes_2020_liwc = pd.read_csv('data/country_quotes_2020_liwc.csv')"
   ]
  },
  {
   "cell_type": "code",
   "execution_count": 12,
   "metadata": {},
   "outputs": [],
   "source": [
    "country_personality_2015 = predict_personality(country_quotes_2015_liwc)\n",
    "country_personality_2016 = predict_personality(country_quotes_2016_liwc)\n",
    "country_personality_2017 = predict_personality(country_quotes_2017_liwc)\n",
    "country_personality_2018 = predict_personality(country_quotes_2018_liwc)\n",
    "country_personality_2019 = predict_personality(country_quotes_2019_liwc)\n",
    "country_personality_2020 = predict_personality(country_quotes_2020_liwc)\n"
   ]
  },
  {
   "cell_type": "code",
   "execution_count": 13,
   "metadata": {},
   "outputs": [],
   "source": [
    "country_personality_2015.set_index(country_quotes_2015_liwc.A, inplace=True)\n",
    "country_personality_2016.set_index(country_quotes_2016_liwc.A, inplace=True)\n",
    "country_personality_2017.set_index(country_quotes_2017_liwc.A, inplace=True)\n",
    "country_personality_2018.set_index(country_quotes_2018_liwc.A, inplace=True)\n",
    "country_personality_2019.set_index(country_quotes_2019_liwc.A, inplace=True)\n",
    "country_personality_2020.set_index(country_quotes_2020_liwc['Source (A)'], inplace=True)"
   ]
  },
  {
   "cell_type": "code",
   "execution_count": 14,
   "metadata": {},
   "outputs": [],
   "source": [
    "country_personality_2015 = country_personality_2015.merge(country_quotes_2015_df[['id', 'label', 'country']], left_index=True, right_on='id', how='inner')\n",
    "country_personality_2016 = country_personality_2016.merge(country_quotes_2016_df[['id', 'label', 'country']], left_index=True, right_on='id', how='inner')\n",
    "country_personality_2017 = country_personality_2017.merge(country_quotes_2017_df[['id', 'label', 'country']], left_index=True, right_on='id', how='inner')\n",
    "country_personality_2018 = country_personality_2018.merge(country_quotes_2018_df[['id', 'label', 'country']], left_index=True, right_on='id', how='inner')\n",
    "country_personality_2019 = country_personality_2019.merge(country_quotes_2019_df[['id', 'label', 'country']], left_index=True, right_on='id', how='inner')\n",
    "country_personality_2020 = country_personality_2020.merge(country_quotes_2020_df[['id', 'label', 'country']], left_index=True, right_on='id', how='inner')"
   ]
  },
  {
   "cell_type": "code",
   "execution_count": 15,
   "metadata": {},
   "outputs": [
    {
     "data": {
      "text/html": [
       "<div>\n",
       "<style scoped>\n",
       "    .dataframe tbody tr th:only-of-type {\n",
       "        vertical-align: middle;\n",
       "    }\n",
       "\n",
       "    .dataframe tbody tr th {\n",
       "        vertical-align: top;\n",
       "    }\n",
       "\n",
       "    .dataframe thead th {\n",
       "        text-align: right;\n",
       "    }\n",
       "</style>\n",
       "<table border=\"1\" class=\"dataframe\">\n",
       "  <thead>\n",
       "    <tr style=\"text-align: right;\">\n",
       "      <th></th>\n",
       "      <th>neuroticism</th>\n",
       "      <th>anxiety</th>\n",
       "      <th>hostility</th>\n",
       "      <th>depression</th>\n",
       "      <th>self_consciousness</th>\n",
       "      <th>immoderation</th>\n",
       "      <th>vulnerability</th>\n",
       "      <th>extraversion</th>\n",
       "      <th>friendliness</th>\n",
       "      <th>gregariousness</th>\n",
       "      <th>...</th>\n",
       "      <th>conscientiousness</th>\n",
       "      <th>self_efficacy</th>\n",
       "      <th>orderliness</th>\n",
       "      <th>dutifulness</th>\n",
       "      <th>achievement_striving</th>\n",
       "      <th>self_discipline</th>\n",
       "      <th>cautiousness</th>\n",
       "      <th>id</th>\n",
       "      <th>label</th>\n",
       "      <th>country</th>\n",
       "    </tr>\n",
       "  </thead>\n",
       "  <tbody>\n",
       "    <tr>\n",
       "      <th>0</th>\n",
       "      <td>0.742246</td>\n",
       "      <td>0.670736</td>\n",
       "      <td>1.594222</td>\n",
       "      <td>-0.532646</td>\n",
       "      <td>0.819898</td>\n",
       "      <td>-0.432471</td>\n",
       "      <td>0.911807</td>\n",
       "      <td>1.979829</td>\n",
       "      <td>4.932964</td>\n",
       "      <td>4.834686</td>\n",
       "      <td>...</td>\n",
       "      <td>-0.341397</td>\n",
       "      <td>1.916964</td>\n",
       "      <td>1.073785</td>\n",
       "      <td>2.048684</td>\n",
       "      <td>0.429590</td>\n",
       "      <td>-0.463638</td>\n",
       "      <td>0.957231</td>\n",
       "      <td>Q20880774</td>\n",
       "      <td>Chris Silva</td>\n",
       "      <td>Q1000</td>\n",
       "    </tr>\n",
       "    <tr>\n",
       "      <th>1</th>\n",
       "      <td>1.851480</td>\n",
       "      <td>2.235034</td>\n",
       "      <td>2.576738</td>\n",
       "      <td>0.152739</td>\n",
       "      <td>1.381947</td>\n",
       "      <td>0.133521</td>\n",
       "      <td>2.065153</td>\n",
       "      <td>2.836347</td>\n",
       "      <td>4.169948</td>\n",
       "      <td>5.858243</td>\n",
       "      <td>...</td>\n",
       "      <td>-0.721307</td>\n",
       "      <td>1.544998</td>\n",
       "      <td>1.637070</td>\n",
       "      <td>1.479108</td>\n",
       "      <td>-0.314852</td>\n",
       "      <td>-0.827575</td>\n",
       "      <td>0.762087</td>\n",
       "      <td>Q13780454</td>\n",
       "      <td>Mario Lemina</td>\n",
       "      <td>Q1000</td>\n",
       "    </tr>\n",
       "    <tr>\n",
       "      <th>2</th>\n",
       "      <td>1.808717</td>\n",
       "      <td>1.823402</td>\n",
       "      <td>2.985127</td>\n",
       "      <td>0.925727</td>\n",
       "      <td>-2.413395</td>\n",
       "      <td>0.352584</td>\n",
       "      <td>0.602560</td>\n",
       "      <td>5.266027</td>\n",
       "      <td>5.868540</td>\n",
       "      <td>10.016238</td>\n",
       "      <td>...</td>\n",
       "      <td>-2.823779</td>\n",
       "      <td>0.014685</td>\n",
       "      <td>0.500424</td>\n",
       "      <td>0.456086</td>\n",
       "      <td>-2.250588</td>\n",
       "      <td>-2.176880</td>\n",
       "      <td>-1.691283</td>\n",
       "      <td>Q58286</td>\n",
       "      <td>Jean Ping</td>\n",
       "      <td>Q1000</td>\n",
       "    </tr>\n",
       "    <tr>\n",
       "      <th>3</th>\n",
       "      <td>-0.804748</td>\n",
       "      <td>-0.647020</td>\n",
       "      <td>0.510958</td>\n",
       "      <td>-1.747883</td>\n",
       "      <td>-1.448697</td>\n",
       "      <td>-1.055537</td>\n",
       "      <td>-0.519675</td>\n",
       "      <td>2.932343</td>\n",
       "      <td>5.942803</td>\n",
       "      <td>5.113399</td>\n",
       "      <td>...</td>\n",
       "      <td>0.846173</td>\n",
       "      <td>3.330483</td>\n",
       "      <td>1.043334</td>\n",
       "      <td>2.030965</td>\n",
       "      <td>0.385356</td>\n",
       "      <td>0.559771</td>\n",
       "      <td>1.169268</td>\n",
       "      <td>Q57521</td>\n",
       "      <td>Ali Bongo Ondimba</td>\n",
       "      <td>Q1000</td>\n",
       "    </tr>\n",
       "    <tr>\n",
       "      <th>4</th>\n",
       "      <td>-0.770521</td>\n",
       "      <td>-0.468869</td>\n",
       "      <td>1.052351</td>\n",
       "      <td>-0.468869</td>\n",
       "      <td>-1.989136</td>\n",
       "      <td>0.052097</td>\n",
       "      <td>-1.104447</td>\n",
       "      <td>4.311690</td>\n",
       "      <td>6.436912</td>\n",
       "      <td>7.332084</td>\n",
       "      <td>...</td>\n",
       "      <td>-0.593901</td>\n",
       "      <td>1.260737</td>\n",
       "      <td>0.145870</td>\n",
       "      <td>1.114867</td>\n",
       "      <td>-1.281576</td>\n",
       "      <td>-0.125032</td>\n",
       "      <td>0.083355</td>\n",
       "      <td>Q7361376</td>\n",
       "      <td>Rolly Lumbala</td>\n",
       "      <td>Q1000</td>\n",
       "    </tr>\n",
       "    <tr>\n",
       "      <th>...</th>\n",
       "      <td>...</td>\n",
       "      <td>...</td>\n",
       "      <td>...</td>\n",
       "      <td>...</td>\n",
       "      <td>...</td>\n",
       "      <td>...</td>\n",
       "      <td>...</td>\n",
       "      <td>...</td>\n",
       "      <td>...</td>\n",
       "      <td>...</td>\n",
       "      <td>...</td>\n",
       "      <td>...</td>\n",
       "      <td>...</td>\n",
       "      <td>...</td>\n",
       "      <td>...</td>\n",
       "      <td>...</td>\n",
       "      <td>...</td>\n",
       "      <td>...</td>\n",
       "      <td>...</td>\n",
       "      <td>...</td>\n",
       "      <td>...</td>\n",
       "    </tr>\n",
       "    <tr>\n",
       "      <th>9016</th>\n",
       "      <td>3.143171</td>\n",
       "      <td>4.000400</td>\n",
       "      <td>3.000300</td>\n",
       "      <td>0.000000</td>\n",
       "      <td>3.428914</td>\n",
       "      <td>1.714457</td>\n",
       "      <td>4.000400</td>\n",
       "      <td>0.000000</td>\n",
       "      <td>0.000000</td>\n",
       "      <td>5.284943</td>\n",
       "      <td>...</td>\n",
       "      <td>0.000000</td>\n",
       "      <td>1.857329</td>\n",
       "      <td>3.143171</td>\n",
       "      <td>0.000000</td>\n",
       "      <td>0.000000</td>\n",
       "      <td>0.000000</td>\n",
       "      <td>0.000000</td>\n",
       "      <td>Q7635953</td>\n",
       "      <td>Sulaiman Addonia</td>\n",
       "      <td>Q986</td>\n",
       "    </tr>\n",
       "    <tr>\n",
       "      <th>9032</th>\n",
       "      <td>0.732788</td>\n",
       "      <td>1.196146</td>\n",
       "      <td>2.098390</td>\n",
       "      <td>-0.340117</td>\n",
       "      <td>-3.023139</td>\n",
       "      <td>-0.999303</td>\n",
       "      <td>0.415113</td>\n",
       "      <td>5.072588</td>\n",
       "      <td>5.705718</td>\n",
       "      <td>6.585013</td>\n",
       "      <td>...</td>\n",
       "      <td>-1.001268</td>\n",
       "      <td>2.754913</td>\n",
       "      <td>0.877900</td>\n",
       "      <td>0.560669</td>\n",
       "      <td>-0.976290</td>\n",
       "      <td>-0.658996</td>\n",
       "      <td>-0.464435</td>\n",
       "      <td>Q17318884</td>\n",
       "      <td>Saba Kidane</td>\n",
       "      <td>Q986</td>\n",
       "    </tr>\n",
       "    <tr>\n",
       "      <th>9034</th>\n",
       "      <td>3.644711</td>\n",
       "      <td>3.222024</td>\n",
       "      <td>3.533623</td>\n",
       "      <td>2.511139</td>\n",
       "      <td>3.399387</td>\n",
       "      <td>1.133623</td>\n",
       "      <td>2.044456</td>\n",
       "      <td>1.599949</td>\n",
       "      <td>1.245273</td>\n",
       "      <td>4.888656</td>\n",
       "      <td>...</td>\n",
       "      <td>-3.089116</td>\n",
       "      <td>-1.000409</td>\n",
       "      <td>0.533470</td>\n",
       "      <td>0.200051</td>\n",
       "      <td>-2.067195</td>\n",
       "      <td>-2.977823</td>\n",
       "      <td>-0.755749</td>\n",
       "      <td>Q4891228</td>\n",
       "      <td>Bereket Selassie</td>\n",
       "      <td>Q986</td>\n",
       "    </tr>\n",
       "    <tr>\n",
       "      <th>9036</th>\n",
       "      <td>5.272727</td>\n",
       "      <td>4.545455</td>\n",
       "      <td>4.545455</td>\n",
       "      <td>1.363636</td>\n",
       "      <td>3.181818</td>\n",
       "      <td>2.363636</td>\n",
       "      <td>2.545455</td>\n",
       "      <td>0.818182</td>\n",
       "      <td>2.454545</td>\n",
       "      <td>6.000000</td>\n",
       "      <td>...</td>\n",
       "      <td>-3.272727</td>\n",
       "      <td>0.181818</td>\n",
       "      <td>3.272727</td>\n",
       "      <td>1.545455</td>\n",
       "      <td>-3.818182</td>\n",
       "      <td>-0.272727</td>\n",
       "      <td>-1.545455</td>\n",
       "      <td>Q5639644</td>\n",
       "      <td>Hais Welday</td>\n",
       "      <td>Q986</td>\n",
       "    </tr>\n",
       "    <tr>\n",
       "      <th>9042</th>\n",
       "      <td>1.583016</td>\n",
       "      <td>1.415860</td>\n",
       "      <td>2.208273</td>\n",
       "      <td>1.041242</td>\n",
       "      <td>2.375617</td>\n",
       "      <td>-0.500156</td>\n",
       "      <td>0.624570</td>\n",
       "      <td>2.123539</td>\n",
       "      <td>2.415922</td>\n",
       "      <td>5.956758</td>\n",
       "      <td>...</td>\n",
       "      <td>-1.374742</td>\n",
       "      <td>1.625320</td>\n",
       "      <td>0.000000</td>\n",
       "      <td>1.458164</td>\n",
       "      <td>0.625195</td>\n",
       "      <td>-0.916078</td>\n",
       "      <td>0.333437</td>\n",
       "      <td>Q6821230</td>\n",
       "      <td>Mesfin Hagos</td>\n",
       "      <td>Q986</td>\n",
       "    </tr>\n",
       "  </tbody>\n",
       "</table>\n",
       "<p>6902 rows × 38 columns</p>\n",
       "</div>"
      ],
      "text/plain": [
       "      neuroticism   anxiety  hostility  depression  self_consciousness  \\\n",
       "0        0.742246  0.670736   1.594222   -0.532646            0.819898   \n",
       "1        1.851480  2.235034   2.576738    0.152739            1.381947   \n",
       "2        1.808717  1.823402   2.985127    0.925727           -2.413395   \n",
       "3       -0.804748 -0.647020   0.510958   -1.747883           -1.448697   \n",
       "4       -0.770521 -0.468869   1.052351   -0.468869           -1.989136   \n",
       "...           ...       ...        ...         ...                 ...   \n",
       "9016     3.143171  4.000400   3.000300    0.000000            3.428914   \n",
       "9032     0.732788  1.196146   2.098390   -0.340117           -3.023139   \n",
       "9034     3.644711  3.222024   3.533623    2.511139            3.399387   \n",
       "9036     5.272727  4.545455   4.545455    1.363636            3.181818   \n",
       "9042     1.583016  1.415860   2.208273    1.041242            2.375617   \n",
       "\n",
       "      immoderation  vulnerability  extraversion  friendliness  gregariousness  \\\n",
       "0        -0.432471       0.911807      1.979829      4.932964        4.834686   \n",
       "1         0.133521       2.065153      2.836347      4.169948        5.858243   \n",
       "2         0.352584       0.602560      5.266027      5.868540       10.016238   \n",
       "3        -1.055537      -0.519675      2.932343      5.942803        5.113399   \n",
       "4         0.052097      -1.104447      4.311690      6.436912        7.332084   \n",
       "...            ...            ...           ...           ...             ...   \n",
       "9016      1.714457       4.000400      0.000000      0.000000        5.284943   \n",
       "9032     -0.999303       0.415113      5.072588      5.705718        6.585013   \n",
       "9034      1.133623       2.044456      1.599949      1.245273        4.888656   \n",
       "9036      2.363636       2.545455      0.818182      2.454545        6.000000   \n",
       "9042     -0.500156       0.624570      2.123539      2.415922        5.956758   \n",
       "\n",
       "      ...  conscientiousness  self_efficacy  orderliness  dutifulness  \\\n",
       "0     ...          -0.341397       1.916964     1.073785     2.048684   \n",
       "1     ...          -0.721307       1.544998     1.637070     1.479108   \n",
       "2     ...          -2.823779       0.014685     0.500424     0.456086   \n",
       "3     ...           0.846173       3.330483     1.043334     2.030965   \n",
       "4     ...          -0.593901       1.260737     0.145870     1.114867   \n",
       "...   ...                ...            ...          ...          ...   \n",
       "9016  ...           0.000000       1.857329     3.143171     0.000000   \n",
       "9032  ...          -1.001268       2.754913     0.877900     0.560669   \n",
       "9034  ...          -3.089116      -1.000409     0.533470     0.200051   \n",
       "9036  ...          -3.272727       0.181818     3.272727     1.545455   \n",
       "9042  ...          -1.374742       1.625320     0.000000     1.458164   \n",
       "\n",
       "      achievement_striving  self_discipline  cautiousness         id  \\\n",
       "0                 0.429590        -0.463638      0.957231  Q20880774   \n",
       "1                -0.314852        -0.827575      0.762087  Q13780454   \n",
       "2                -2.250588        -2.176880     -1.691283     Q58286   \n",
       "3                 0.385356         0.559771      1.169268     Q57521   \n",
       "4                -1.281576        -0.125032      0.083355   Q7361376   \n",
       "...                    ...              ...           ...        ...   \n",
       "9016              0.000000         0.000000      0.000000   Q7635953   \n",
       "9032             -0.976290        -0.658996     -0.464435  Q17318884   \n",
       "9034             -2.067195        -2.977823     -0.755749   Q4891228   \n",
       "9036             -3.818182        -0.272727     -1.545455   Q5639644   \n",
       "9042              0.625195        -0.916078      0.333437   Q6821230   \n",
       "\n",
       "                  label  country  \n",
       "0           Chris Silva    Q1000  \n",
       "1          Mario Lemina    Q1000  \n",
       "2             Jean Ping    Q1000  \n",
       "3     Ali Bongo Ondimba    Q1000  \n",
       "4         Rolly Lumbala    Q1000  \n",
       "...                 ...      ...  \n",
       "9016   Sulaiman Addonia     Q986  \n",
       "9032        Saba Kidane     Q986  \n",
       "9034   Bereket Selassie     Q986  \n",
       "9036        Hais Welday     Q986  \n",
       "9042       Mesfin Hagos     Q986  \n",
       "\n",
       "[6902 rows x 38 columns]"
      ]
     },
     "execution_count": 15,
     "metadata": {},
     "output_type": "execute_result"
    }
   ],
   "source": [
    "country_personality_2015"
   ]
  },
  {
   "cell_type": "code",
   "execution_count": 97,
   "metadata": {},
   "outputs": [],
   "source": [
    "def group_personality_by_country(personality):\n",
    "    return personality.groupby('country').agg({'id': 'count', 'label': lambda ls: ','.join([l for l in ls if l]), **{attr: 'median' for attr in PERSONALITY_ATTRS}})\n",
    "\n",
    "country_personality_grouped_2015 = group_personality_by_country(country_personality_2015)\n",
    "country_personality_grouped_2016 = group_personality_by_country(country_personality_2016)\n",
    "country_personality_grouped_2017 = group_personality_by_country(country_personality_2017)\n",
    "country_personality_grouped_2018 = group_personality_by_country(country_personality_2018)\n",
    "country_personality_grouped_2019 = group_personality_by_country(country_personality_2019)\n",
    "country_personality_grouped_2020 = group_personality_by_country(country_personality_2020)"
   ]
  },
  {
   "cell_type": "code",
   "execution_count": 16,
   "metadata": {},
   "outputs": [],
   "source": [
    "with open('data/country_qids.json') as f:\n",
    "    country_qids = json.load(f)['qids']"
   ]
  },
  {
   "cell_type": "code",
   "execution_count": null,
   "metadata": {},
   "outputs": [],
   "source": [
    "country_info = {qid: get_country_info(qid) for qid in country_qids}"
   ]
  },
  {
   "cell_type": "code",
   "execution_count": 65,
   "metadata": {},
   "outputs": [],
   "source": [
    "with open('data/country_info.json', 'w') as f:\n",
    "    json.dump(country_info, f)"
   ]
  },
  {
   "cell_type": "code",
   "execution_count": 18,
   "metadata": {},
   "outputs": [],
   "source": [
    "with open('data/country_info.json') as f:\n",
    "    country_info = json.load(f)"
   ]
  },
  {
   "cell_type": "code",
   "execution_count": 98,
   "metadata": {},
   "outputs": [],
   "source": [
    "personality_dfs = [country_personality_grouped_2015,\n",
    "                   country_personality_grouped_2016,\n",
    "                   country_personality_grouped_2017,\n",
    "                   country_personality_grouped_2018,\n",
    "                   country_personality_grouped_2019,\n",
    "                   country_personality_grouped_2020]"
   ]
  },
  {
   "cell_type": "code",
   "execution_count": 83,
   "metadata": {},
   "outputs": [],
   "source": [
    "for i, df in enumerate(personality_dfs):\n",
    "    df.to_csv(f'data/country_personality_grouped_{2015+i}.csv')"
   ]
  },
  {
   "cell_type": "code",
   "execution_count": 99,
   "metadata": {},
   "outputs": [],
   "source": [
    "for df in personality_dfs:\n",
    "    df['country_iso'] = df.index.map(lambda cid: country_info[cid]['iso'])\n",
    "    df['country_name'] = df.index.map(lambda cid: country_info[cid]['name'])"
   ]
  },
  {
   "cell_type": "code",
   "execution_count": 100,
   "metadata": {},
   "outputs": [],
   "source": [
    "for df in personality_dfs:\n",
    "    for attr in PERSONALITY_ATTRS:\n",
    "        df[attr] = (df[attr] - df[attr].min()) / (df[attr].max() - df[attr].min())"
   ]
  },
  {
   "cell_type": "code",
   "execution_count": 22,
   "metadata": {},
   "outputs": [],
   "source": [
    "import plotly.express as px\n",
    "def visualize_country_personality(df, location_col, color_col, hover_col, color_scale=px.colors.sequential.turbid):\n",
    "    fig = px.choropleth(df, locations=location_col,\n",
    "                        color=color_col,\n",
    "                        hover_name=hover_col,\n",
    "                        color_continuous_scale=color_scale)\n",
    "    fig.show()"
   ]
  },
  {
   "cell_type": "code",
   "execution_count": 101,
   "metadata": {},
   "outputs": [
    {
     "data": {
      "application/vnd.plotly.v1+json": {
       "config": {
        "plotlyServerURL": "https://plot.ly"
       },
       "data": [
        {
         "coloraxis": "coloraxis",
         "geo": "geo",
         "hovertemplate": "<b>%{hovertext}</b><br><br>country_iso=%{location}<br>depression=%{z}<extra></extra>",
         "hovertext": [
          "Gabon",
          "The Gambia",
          "Guinea",
          "Guinea-Bissau",
          "Côte d'Ivoire",
          "Cameroon",
          "Cape Verde",
          "Lesotho",
          "Liberia",
          "Libya",
          "Madagascar",
          "Malawi",
          "Mauritania",
          "Mauritius",
          "Morocco",
          "Mozambique",
          "Namibia",
          "Niger",
          "Nigeria",
          "Uganda",
          "Rwanda",
          "São Tomé and Príncipe",
          "Senegal",
          "Seychelles",
          "Sierra Leone",
          "Somalia",
          "Sudan",
          "Kenya",
          "Ethiopia",
          "Ghana",
          "Kosovo",
          "France",
          "United Kingdom",
          "People's Republic of China",
          "Brazil",
          "Russia",
          "Canada",
          "Great Britain",
          "American Samoa",
          "Northern Mariana Islands",
          "Japan",
          "South Vietnam",
          "Germany",
          "Belarus",
          "Iceland",
          "Estonia",
          "Norway",
          "Pahlavi Dynasty",
          "England",
          "Latvia",
          "Ukraine",
          "Aruba",
          "Czech Republic",
          "Slovakia",
          "Slovenia",
          "Moldova",
          "Romania",
          "Bulgaria",
          "North Macedonia",
          "Albania",
          "Croatia",
          "Bosnia and Herzegovina",
          "Azerbaijan",
          "Andorra",
          "Cyprus",
          "Georgia",
          "Kazakhstan",
          "Malta",
          "Monaco",
          "Montenegro",
          "Vatican City",
          "San Marino",
          "Cuba",
          "Belize",
          "Barbados",
          "Republic of Artsakh",
          "Tibet",
          "Wales",
          "Indonesia",
          "Curaçao",
          "South Africa",
          "Algeria",
          "Uzbekistan",
          "Cook Islands",
          "Ireland",
          "Hungary",
          "Spain",
          "Chile",
          "Kingdom of the Netherlands",
          "United States of America",
          "Belgium",
          "Irish Free State",
          "Luxembourg",
          "Finland",
          "Singapore",
          "Sweden",
          "Niue",
          "Liechtenstein",
          "Somaliland",
          "Denmark",
          "Poland",
          "Lithuania",
          "Italy",
          "Switzerland",
          "Bahrain",
          "Armenia",
          "Austria",
          "Serbia",
          "Sahrawi Arab Democratic Republic",
          "Australia",
          "Greece",
          "Argentina",
          "Peru",
          "North Korea",
          "Cambodia",
          "Turkey",
          "German Empire",
          "Portugal",
          "Netherlands",
          "Timor-Leste",
          "Chad",
          "New Zealand",
          "India",
          "Tuvalu",
          "Tonga",
          "Samoa",
          "Solomon Islands",
          "Vanuatu",
          "Papua New Guinea",
          "Palau",
          "Nauru",
          "Federated States of Micronesia",
          "Marshall Islands",
          "Kiribati",
          "Mongolia",
          "Fiji",
          "Venezuela",
          "Suriname",
          "Paraguay",
          "Guyana",
          "Ecuador",
          "Colombia",
          "Bolivia",
          "Trinidad and Tobago",
          "Danish Realm",
          "Saint Vincent and the Grenadines",
          "Saint Lucia",
          "Saint Kitts and Nevis",
          "Jamaica",
          "Grenada",
          "Uruguay",
          "Guatemala",
          "The Bahamas",
          "Antigua and Barbuda",
          "Honduras",
          "Dominica",
          "Dominican Republic",
          "Egypt",
          "Haiti",
          "El Salvador",
          "Iran",
          "Iraq",
          "Costa Rica",
          "Israel",
          "Panama",
          "Yemen",
          "Jordan",
          "Nicaragua",
          "Kyrgyzstan",
          "Kuwait",
          "Laos",
          "Lebanon",
          "Maldives",
          "Malaysia",
          "Myanmar",
          "Nepal",
          "Oman",
          "Pakistan",
          "Qatar",
          "Saudi Arabia",
          "Sri Lanka",
          "Syria",
          "Tajikistan",
          "Taiwan",
          "Thailand",
          "Turkmenistan",
          "United Arab Emirates",
          "Vietnam",
          "South Korea",
          "Afghanistan",
          "Bangladesh",
          "Transnistria",
          "Mali",
          "Angola",
          "Bhutan",
          "Brunei",
          "Tanzania",
          "Philippines",
          "Central African Republic",
          "Togo",
          "Tunisia",
          "Zambia",
          "Zimbabwe",
          "South Sudan",
          "Mexico",
          "Benin",
          "Botswana",
          "Burkina Faso",
          "Burundi",
          "Comoros",
          "Republic of the Congo",
          "Democratic Republic of the Congo",
          "Djibouti",
          "Equatorial Guinea",
          "Eritrea"
         ],
         "locations": [
          "GAB",
          "GMB",
          "GIN",
          "GNB",
          "CIV",
          "CMR",
          "CPV",
          "LSO",
          "LBR",
          "LBY",
          "MDG",
          "MWI",
          "MRT",
          "MUS",
          "MAR",
          "MOZ",
          "NAM",
          "NER",
          "NGA",
          "UGA",
          "RWA",
          "STP",
          "SEN",
          "SYC",
          "SLE",
          "SOM",
          "SDN",
          "KEN",
          "ETH",
          "GHA",
          "XKS",
          "FRA",
          "GBR",
          "CHN",
          "BRA",
          "RUS",
          "CAN",
          null,
          "ASM",
          "MNP",
          "JPN",
          null,
          "DEU",
          "BLR",
          "ISL",
          "EST",
          "NOR",
          null,
          null,
          "LVA",
          "UKR",
          "ABW",
          "CZE",
          "SVK",
          "SVN",
          "MDA",
          "ROU",
          "BGR",
          "MKD",
          "ALB",
          "HRV",
          "BIH",
          "AZE",
          "AND",
          "CYP",
          "GEO",
          "KAZ",
          "MLT",
          "MCO",
          "MNE",
          "VAT",
          "SMR",
          "CUB",
          "BLZ",
          "BRB",
          null,
          null,
          null,
          "IDN",
          "CUW",
          "ZAF",
          "DZA",
          "UZB",
          "COK",
          "IRL",
          "HUN",
          "ESP",
          "CHL",
          "NLD",
          "USA",
          "BEL",
          null,
          "LUX",
          "FIN",
          "SGP",
          "SWE",
          "NIU",
          "LIE",
          null,
          "DNK",
          "POL",
          "LTU",
          "ITA",
          "CHE",
          "BHR",
          "ARM",
          "AUT",
          "SRB",
          "ESH",
          "AUS",
          "GRC",
          "ARG",
          "PER",
          "PRK",
          "KHM",
          "TUR",
          null,
          "PRT",
          "NLD",
          "TLS",
          "TCD",
          "NZL",
          "IND",
          "TUV",
          "TON",
          "WSM",
          "SLB",
          "VUT",
          "PNG",
          "PLW",
          "NRU",
          "FSM",
          "MHL",
          "KIR",
          "MNG",
          "FJI",
          "VEN",
          "SUR",
          "PRY",
          "GUY",
          "ECU",
          "COL",
          "BOL",
          "TTO",
          "DNK",
          "VCT",
          "LCA",
          "KNA",
          "JAM",
          "GRD",
          "URY",
          "GTM",
          "BHS",
          "ATG",
          "HND",
          "DMA",
          "DOM",
          "EGY",
          "HTI",
          "SLV",
          "IRN",
          "IRQ",
          "CRI",
          "ISR",
          "PAN",
          "YEM",
          "JOR",
          "NIC",
          "KGZ",
          "KWT",
          "LAO",
          "LBN",
          "MDV",
          "MYS",
          "MMR",
          "NPL",
          "OMN",
          "PAK",
          "QAT",
          "SAU",
          "LKA",
          "SYR",
          "TJK",
          "TWN",
          "THA",
          "TKM",
          "ARE",
          "VNM",
          "KOR",
          "AFG",
          "BGD",
          null,
          "MLI",
          "AGO",
          "BTN",
          "BRN",
          "TZA",
          "PHL",
          "CAF",
          "TGO",
          "TUN",
          "ZMB",
          "ZWE",
          "SSD",
          "MEX",
          "BEN",
          "BWA",
          "BFA",
          "BDI",
          "COM",
          "COG",
          "COD",
          "DJI",
          "GNQ",
          "ERI"
         ],
         "name": "",
         "type": "choropleth",
         "z": [
          0.37949930924770947,
          0.2467997553971196,
          0.17685202172387973,
          0.31524613579623195,
          0.2310257636727347,
          0.31624819167049123,
          0.1684782835216043,
          0.20191684065228993,
          0.23780591217223557,
          0.2686268233771682,
          0.1747924243871766,
          0.27119942406985265,
          0.3129941794070333,
          0.27140683647680947,
          0.22225688439948826,
          0.23691257534073312,
          0.2066977165429966,
          0.2100124455496892,
          0.19506361699229888,
          0.2731225619303372,
          0.19788620091140086,
          0.24360486439067064,
          0.25324068593442794,
          0.1919458987548224,
          0.2395115277645049,
          0.315989074648086,
          0.14208832858835355,
          0.20499158177521573,
          0.2503512910494873,
          0.2163510885319255,
          0.3005121942283157,
          0.2596473090494113,
          0.24365979210738667,
          0.1995483913879953,
          0.26062494732967684,
          0.22702765536031752,
          0.22037591760621203,
          0.2160671584330116,
          0.17283062090493584,
          0.1688906889317862,
          0.24157394087783973,
          0.07490182143744849,
          0.23534161575357254,
          0.25694278880822874,
          0.23949936811677444,
          0.2732574977789362,
          0.2236567423235959,
          0.32447634344371157,
          0.20895108235046775,
          0.28994407561429575,
          0.2077222321482729,
          0.18141960793741874,
          0.31635647745095824,
          0.26187186116176053,
          0.24148908910830535,
          0.27783841020315025,
          0.2829588862771621,
          0.2071424106843999,
          0.25586161344088015,
          0.2465749850810541,
          0.25578203614586986,
          0.2639786039163268,
          0.23247020201491372,
          0.2781479499699776,
          0.16350536858878373,
          0.22365518549992136,
          0.23522481944301699,
          0.22665422032599197,
          0.31168282922716367,
          0.2933891495461822,
          0.351012335650777,
          0.09143638562718243,
          0.29721097822946274,
          0.22237030886929993,
          0.19584102665763525,
          0.28695754279924557,
          0.7540339905531929,
          0.21399934025827427,
          0.2348200140718294,
          0.2535416767242417,
          0.21333101691970177,
          0.22306812809290186,
          0.2527335484692453,
          0.2472055035209987,
          0.19396198475734883,
          0.24973863446974065,
          0.28488276811528135,
          0.26884122031541663,
          0.26510696707097997,
          0.2557227597066999,
          0.2715321431356671,
          0.24940951937368167,
          0.1763166831698763,
          0.2510374519090759,
          0.2238537942567134,
          0.2351441221251749,
          0.3202928093371863,
          0.20756852813302928,
          0.31406759725659883,
          0.20847981720806263,
          0.2766139619272592,
          0.2633853677831956,
          0.221723626956264,
          0.184012635892627,
          0.20700642278175949,
          0.23116307449234044,
          0.25647533535352535,
          0.3000876850333452,
          0,
          0.2359858181471785,
          0.2064057469314315,
          0.27360803248145243,
          0.2750788818769459,
          0.21681581107550926,
          0.2804139578827938,
          0.2681822274648084,
          1,
          0.24016931657295112,
          0.24098261038364235,
          0.25099433815402983,
          0.3267957145367854,
          0.17237024973326653,
          0.1911340500116348,
          0.02138401638224228,
          0.2317166153596397,
          0.16261939171526407,
          0.19387028704349607,
          0.19831387167110873,
          0.20880583383435677,
          0.2628976652770589,
          0.15416722279484193,
          0.15761270777306632,
          0.25018606855839387,
          0.24535946155500868,
          0.14889806750902734,
          0.17792853052503757,
          0.2841152286210859,
          0.23761064996719555,
          0.22488160457512688,
          0.25664704791690596,
          0.2754200834689524,
          0.26818073599045605,
          0.23837373653386554,
          0.27606534676965194,
          0.21764644096805383,
          0.2043436902567861,
          0.22999524390107365,
          0.226303124611379,
          0.20975525099390643,
          0.1521313609110119,
          0.25378001536524436,
          0.2763480017154365,
          0.20429547299720213,
          0.2474972650249463,
          0.24879094880633057,
          0.25584893890199234,
          0.29362401233804797,
          0.24219862101886078,
          0.25388099048233687,
          0.2500724022275106,
          0.26328998092796885,
          0.24385548045623395,
          0.23377140596594392,
          0.23315035612216212,
          0.2054749773861108,
          0.1820019556412889,
          0.24184269426054594,
          0.30357256564514457,
          0.33023142519085724,
          0.16019785996166327,
          0.39724241743768307,
          0.2676072007435247,
          0.19324683874276186,
          0.213143263872208,
          0.28720930243816467,
          0.1901117895768404,
          0.10580192562716194,
          0.24042719687350647,
          0.11034212519569268,
          0.2752516822998476,
          0.19573164326494502,
          0.2607650422431814,
          0.3020524963483986,
          0.25755831320054406,
          0.2813762929130831,
          0.3596217840622707,
          0.09798771208742568,
          0.275340558434772,
          0.21020829613556705,
          0.2538074225141501,
          0.21046851426031501,
          0.040651793396523576,
          0.2705971512829634,
          0.2293204909179554,
          0.22515154058046735,
          0.25408050378119673,
          0.22309184023523995,
          0.2744285551141788,
          0.27240826111049204,
          0.36189537520053,
          0.22612325422493673,
          0.2356776251685195,
          0.2459112557107839,
          0.28262336342438055,
          0.26238785118906177,
          0.28001794983758965,
          0.2003785050558848,
          0.28213107270548626,
          0.21346696137406826,
          0.18136346650635854,
          0.13431832231443333,
          0.2601261117693376,
          0.3317748191593404,
          0.09465674175326795,
          0.21530864563556737
         ]
        }
       ],
       "layout": {
        "coloraxis": {
         "colorbar": {
          "title": {
           "text": "depression"
          }
         },
         "colorscale": [
          [
           0,
           "rgb(232, 245, 171)"
          ],
          [
           0.09090909090909091,
           "rgb(220, 219, 137)"
          ],
          [
           0.18181818181818182,
           "rgb(209, 193, 107)"
          ],
          [
           0.2727272727272727,
           "rgb(199, 168, 83)"
          ],
          [
           0.36363636363636365,
           "rgb(186, 143, 66)"
          ],
          [
           0.45454545454545453,
           "rgb(170, 121, 60)"
          ],
          [
           0.5454545454545454,
           "rgb(151, 103, 58)"
          ],
          [
           0.6363636363636364,
           "rgb(129, 87, 56)"
          ],
          [
           0.7272727272727273,
           "rgb(104, 72, 53)"
          ],
          [
           0.8181818181818182,
           "rgb(80, 59, 46)"
          ],
          [
           0.9090909090909091,
           "rgb(57, 45, 37)"
          ],
          [
           1,
           "rgb(34, 30, 27)"
          ]
         ]
        },
        "geo": {
         "center": {},
         "domain": {
          "x": [
           0,
           1
          ],
          "y": [
           0,
           1
          ]
         }
        },
        "legend": {
         "tracegroupgap": 0
        },
        "margin": {
         "t": 60
        },
        "template": {
         "data": {
          "bar": [
           {
            "error_x": {
             "color": "#2a3f5f"
            },
            "error_y": {
             "color": "#2a3f5f"
            },
            "marker": {
             "line": {
              "color": "#E5ECF6",
              "width": 0.5
             },
             "pattern": {
              "fillmode": "overlay",
              "size": 10,
              "solidity": 0.2
             }
            },
            "type": "bar"
           }
          ],
          "barpolar": [
           {
            "marker": {
             "line": {
              "color": "#E5ECF6",
              "width": 0.5
             },
             "pattern": {
              "fillmode": "overlay",
              "size": 10,
              "solidity": 0.2
             }
            },
            "type": "barpolar"
           }
          ],
          "carpet": [
           {
            "aaxis": {
             "endlinecolor": "#2a3f5f",
             "gridcolor": "white",
             "linecolor": "white",
             "minorgridcolor": "white",
             "startlinecolor": "#2a3f5f"
            },
            "baxis": {
             "endlinecolor": "#2a3f5f",
             "gridcolor": "white",
             "linecolor": "white",
             "minorgridcolor": "white",
             "startlinecolor": "#2a3f5f"
            },
            "type": "carpet"
           }
          ],
          "choropleth": [
           {
            "colorbar": {
             "outlinewidth": 0,
             "ticks": ""
            },
            "type": "choropleth"
           }
          ],
          "contour": [
           {
            "colorbar": {
             "outlinewidth": 0,
             "ticks": ""
            },
            "colorscale": [
             [
              0,
              "#0d0887"
             ],
             [
              0.1111111111111111,
              "#46039f"
             ],
             [
              0.2222222222222222,
              "#7201a8"
             ],
             [
              0.3333333333333333,
              "#9c179e"
             ],
             [
              0.4444444444444444,
              "#bd3786"
             ],
             [
              0.5555555555555556,
              "#d8576b"
             ],
             [
              0.6666666666666666,
              "#ed7953"
             ],
             [
              0.7777777777777778,
              "#fb9f3a"
             ],
             [
              0.8888888888888888,
              "#fdca26"
             ],
             [
              1,
              "#f0f921"
             ]
            ],
            "type": "contour"
           }
          ],
          "contourcarpet": [
           {
            "colorbar": {
             "outlinewidth": 0,
             "ticks": ""
            },
            "type": "contourcarpet"
           }
          ],
          "heatmap": [
           {
            "colorbar": {
             "outlinewidth": 0,
             "ticks": ""
            },
            "colorscale": [
             [
              0,
              "#0d0887"
             ],
             [
              0.1111111111111111,
              "#46039f"
             ],
             [
              0.2222222222222222,
              "#7201a8"
             ],
             [
              0.3333333333333333,
              "#9c179e"
             ],
             [
              0.4444444444444444,
              "#bd3786"
             ],
             [
              0.5555555555555556,
              "#d8576b"
             ],
             [
              0.6666666666666666,
              "#ed7953"
             ],
             [
              0.7777777777777778,
              "#fb9f3a"
             ],
             [
              0.8888888888888888,
              "#fdca26"
             ],
             [
              1,
              "#f0f921"
             ]
            ],
            "type": "heatmap"
           }
          ],
          "heatmapgl": [
           {
            "colorbar": {
             "outlinewidth": 0,
             "ticks": ""
            },
            "colorscale": [
             [
              0,
              "#0d0887"
             ],
             [
              0.1111111111111111,
              "#46039f"
             ],
             [
              0.2222222222222222,
              "#7201a8"
             ],
             [
              0.3333333333333333,
              "#9c179e"
             ],
             [
              0.4444444444444444,
              "#bd3786"
             ],
             [
              0.5555555555555556,
              "#d8576b"
             ],
             [
              0.6666666666666666,
              "#ed7953"
             ],
             [
              0.7777777777777778,
              "#fb9f3a"
             ],
             [
              0.8888888888888888,
              "#fdca26"
             ],
             [
              1,
              "#f0f921"
             ]
            ],
            "type": "heatmapgl"
           }
          ],
          "histogram": [
           {
            "marker": {
             "pattern": {
              "fillmode": "overlay",
              "size": 10,
              "solidity": 0.2
             }
            },
            "type": "histogram"
           }
          ],
          "histogram2d": [
           {
            "colorbar": {
             "outlinewidth": 0,
             "ticks": ""
            },
            "colorscale": [
             [
              0,
              "#0d0887"
             ],
             [
              0.1111111111111111,
              "#46039f"
             ],
             [
              0.2222222222222222,
              "#7201a8"
             ],
             [
              0.3333333333333333,
              "#9c179e"
             ],
             [
              0.4444444444444444,
              "#bd3786"
             ],
             [
              0.5555555555555556,
              "#d8576b"
             ],
             [
              0.6666666666666666,
              "#ed7953"
             ],
             [
              0.7777777777777778,
              "#fb9f3a"
             ],
             [
              0.8888888888888888,
              "#fdca26"
             ],
             [
              1,
              "#f0f921"
             ]
            ],
            "type": "histogram2d"
           }
          ],
          "histogram2dcontour": [
           {
            "colorbar": {
             "outlinewidth": 0,
             "ticks": ""
            },
            "colorscale": [
             [
              0,
              "#0d0887"
             ],
             [
              0.1111111111111111,
              "#46039f"
             ],
             [
              0.2222222222222222,
              "#7201a8"
             ],
             [
              0.3333333333333333,
              "#9c179e"
             ],
             [
              0.4444444444444444,
              "#bd3786"
             ],
             [
              0.5555555555555556,
              "#d8576b"
             ],
             [
              0.6666666666666666,
              "#ed7953"
             ],
             [
              0.7777777777777778,
              "#fb9f3a"
             ],
             [
              0.8888888888888888,
              "#fdca26"
             ],
             [
              1,
              "#f0f921"
             ]
            ],
            "type": "histogram2dcontour"
           }
          ],
          "mesh3d": [
           {
            "colorbar": {
             "outlinewidth": 0,
             "ticks": ""
            },
            "type": "mesh3d"
           }
          ],
          "parcoords": [
           {
            "line": {
             "colorbar": {
              "outlinewidth": 0,
              "ticks": ""
             }
            },
            "type": "parcoords"
           }
          ],
          "pie": [
           {
            "automargin": true,
            "type": "pie"
           }
          ],
          "scatter": [
           {
            "marker": {
             "colorbar": {
              "outlinewidth": 0,
              "ticks": ""
             }
            },
            "type": "scatter"
           }
          ],
          "scatter3d": [
           {
            "line": {
             "colorbar": {
              "outlinewidth": 0,
              "ticks": ""
             }
            },
            "marker": {
             "colorbar": {
              "outlinewidth": 0,
              "ticks": ""
             }
            },
            "type": "scatter3d"
           }
          ],
          "scattercarpet": [
           {
            "marker": {
             "colorbar": {
              "outlinewidth": 0,
              "ticks": ""
             }
            },
            "type": "scattercarpet"
           }
          ],
          "scattergeo": [
           {
            "marker": {
             "colorbar": {
              "outlinewidth": 0,
              "ticks": ""
             }
            },
            "type": "scattergeo"
           }
          ],
          "scattergl": [
           {
            "marker": {
             "colorbar": {
              "outlinewidth": 0,
              "ticks": ""
             }
            },
            "type": "scattergl"
           }
          ],
          "scattermapbox": [
           {
            "marker": {
             "colorbar": {
              "outlinewidth": 0,
              "ticks": ""
             }
            },
            "type": "scattermapbox"
           }
          ],
          "scatterpolar": [
           {
            "marker": {
             "colorbar": {
              "outlinewidth": 0,
              "ticks": ""
             }
            },
            "type": "scatterpolar"
           }
          ],
          "scatterpolargl": [
           {
            "marker": {
             "colorbar": {
              "outlinewidth": 0,
              "ticks": ""
             }
            },
            "type": "scatterpolargl"
           }
          ],
          "scatterternary": [
           {
            "marker": {
             "colorbar": {
              "outlinewidth": 0,
              "ticks": ""
             }
            },
            "type": "scatterternary"
           }
          ],
          "surface": [
           {
            "colorbar": {
             "outlinewidth": 0,
             "ticks": ""
            },
            "colorscale": [
             [
              0,
              "#0d0887"
             ],
             [
              0.1111111111111111,
              "#46039f"
             ],
             [
              0.2222222222222222,
              "#7201a8"
             ],
             [
              0.3333333333333333,
              "#9c179e"
             ],
             [
              0.4444444444444444,
              "#bd3786"
             ],
             [
              0.5555555555555556,
              "#d8576b"
             ],
             [
              0.6666666666666666,
              "#ed7953"
             ],
             [
              0.7777777777777778,
              "#fb9f3a"
             ],
             [
              0.8888888888888888,
              "#fdca26"
             ],
             [
              1,
              "#f0f921"
             ]
            ],
            "type": "surface"
           }
          ],
          "table": [
           {
            "cells": {
             "fill": {
              "color": "#EBF0F8"
             },
             "line": {
              "color": "white"
             }
            },
            "header": {
             "fill": {
              "color": "#C8D4E3"
             },
             "line": {
              "color": "white"
             }
            },
            "type": "table"
           }
          ]
         },
         "layout": {
          "annotationdefaults": {
           "arrowcolor": "#2a3f5f",
           "arrowhead": 0,
           "arrowwidth": 1
          },
          "autotypenumbers": "strict",
          "coloraxis": {
           "colorbar": {
            "outlinewidth": 0,
            "ticks": ""
           }
          },
          "colorscale": {
           "diverging": [
            [
             0,
             "#8e0152"
            ],
            [
             0.1,
             "#c51b7d"
            ],
            [
             0.2,
             "#de77ae"
            ],
            [
             0.3,
             "#f1b6da"
            ],
            [
             0.4,
             "#fde0ef"
            ],
            [
             0.5,
             "#f7f7f7"
            ],
            [
             0.6,
             "#e6f5d0"
            ],
            [
             0.7,
             "#b8e186"
            ],
            [
             0.8,
             "#7fbc41"
            ],
            [
             0.9,
             "#4d9221"
            ],
            [
             1,
             "#276419"
            ]
           ],
           "sequential": [
            [
             0,
             "#0d0887"
            ],
            [
             0.1111111111111111,
             "#46039f"
            ],
            [
             0.2222222222222222,
             "#7201a8"
            ],
            [
             0.3333333333333333,
             "#9c179e"
            ],
            [
             0.4444444444444444,
             "#bd3786"
            ],
            [
             0.5555555555555556,
             "#d8576b"
            ],
            [
             0.6666666666666666,
             "#ed7953"
            ],
            [
             0.7777777777777778,
             "#fb9f3a"
            ],
            [
             0.8888888888888888,
             "#fdca26"
            ],
            [
             1,
             "#f0f921"
            ]
           ],
           "sequentialminus": [
            [
             0,
             "#0d0887"
            ],
            [
             0.1111111111111111,
             "#46039f"
            ],
            [
             0.2222222222222222,
             "#7201a8"
            ],
            [
             0.3333333333333333,
             "#9c179e"
            ],
            [
             0.4444444444444444,
             "#bd3786"
            ],
            [
             0.5555555555555556,
             "#d8576b"
            ],
            [
             0.6666666666666666,
             "#ed7953"
            ],
            [
             0.7777777777777778,
             "#fb9f3a"
            ],
            [
             0.8888888888888888,
             "#fdca26"
            ],
            [
             1,
             "#f0f921"
            ]
           ]
          },
          "colorway": [
           "#636efa",
           "#EF553B",
           "#00cc96",
           "#ab63fa",
           "#FFA15A",
           "#19d3f3",
           "#FF6692",
           "#B6E880",
           "#FF97FF",
           "#FECB52"
          ],
          "font": {
           "color": "#2a3f5f"
          },
          "geo": {
           "bgcolor": "white",
           "lakecolor": "white",
           "landcolor": "#E5ECF6",
           "showlakes": true,
           "showland": true,
           "subunitcolor": "white"
          },
          "hoverlabel": {
           "align": "left"
          },
          "hovermode": "closest",
          "mapbox": {
           "style": "light"
          },
          "paper_bgcolor": "white",
          "plot_bgcolor": "#E5ECF6",
          "polar": {
           "angularaxis": {
            "gridcolor": "white",
            "linecolor": "white",
            "ticks": ""
           },
           "bgcolor": "#E5ECF6",
           "radialaxis": {
            "gridcolor": "white",
            "linecolor": "white",
            "ticks": ""
           }
          },
          "scene": {
           "xaxis": {
            "backgroundcolor": "#E5ECF6",
            "gridcolor": "white",
            "gridwidth": 2,
            "linecolor": "white",
            "showbackground": true,
            "ticks": "",
            "zerolinecolor": "white"
           },
           "yaxis": {
            "backgroundcolor": "#E5ECF6",
            "gridcolor": "white",
            "gridwidth": 2,
            "linecolor": "white",
            "showbackground": true,
            "ticks": "",
            "zerolinecolor": "white"
           },
           "zaxis": {
            "backgroundcolor": "#E5ECF6",
            "gridcolor": "white",
            "gridwidth": 2,
            "linecolor": "white",
            "showbackground": true,
            "ticks": "",
            "zerolinecolor": "white"
           }
          },
          "shapedefaults": {
           "line": {
            "color": "#2a3f5f"
           }
          },
          "ternary": {
           "aaxis": {
            "gridcolor": "white",
            "linecolor": "white",
            "ticks": ""
           },
           "baxis": {
            "gridcolor": "white",
            "linecolor": "white",
            "ticks": ""
           },
           "bgcolor": "#E5ECF6",
           "caxis": {
            "gridcolor": "white",
            "linecolor": "white",
            "ticks": ""
           }
          },
          "title": {
           "x": 0.05
          },
          "xaxis": {
           "automargin": true,
           "gridcolor": "white",
           "linecolor": "white",
           "ticks": "",
           "title": {
            "standoff": 15
           },
           "zerolinecolor": "white",
           "zerolinewidth": 2
          },
          "yaxis": {
           "automargin": true,
           "gridcolor": "white",
           "linecolor": "white",
           "ticks": "",
           "title": {
            "standoff": 15
           },
           "zerolinecolor": "white",
           "zerolinewidth": 2
          }
         }
        }
       }
      }
     },
     "metadata": {},
     "output_type": "display_data"
    }
   ],
   "source": [
    "visualize_country_personality(country_personality_grouped_2018, location_col='country_iso', color_col='depression', hover_col='country_name', color_scale=px.colors.sequential.turbid)"
   ]
  },
  {
   "cell_type": "code",
   "execution_count": 102,
   "metadata": {},
   "outputs": [
    {
     "data": {
      "application/vnd.plotly.v1+json": {
       "config": {
        "plotlyServerURL": "https://plot.ly"
       },
       "data": [
        {
         "coloraxis": "coloraxis",
         "geo": "geo",
         "hovertemplate": "<b>%{hovertext}</b><br><br>country_iso=%{location}<br>depression=%{z}<extra></extra>",
         "hovertext": [
          "Gabon",
          "The Gambia",
          "Guinea",
          "Guinea-Bissau",
          "Côte d'Ivoire",
          "Cameroon",
          "Cape Verde",
          "Lesotho",
          "Liberia",
          "Libya",
          "Madagascar",
          "Malawi",
          "Mauritania",
          "Mauritius",
          "Morocco",
          "Mozambique",
          "Namibia",
          "Niger",
          "Nigeria",
          "Uganda",
          "Rwanda",
          "São Tomé and Príncipe",
          "Senegal",
          "Seychelles",
          "Sierra Leone",
          "Somalia",
          "Sudan",
          "Kenya",
          "Ethiopia",
          "Ghana",
          "Imperial China",
          "Kosovo",
          "France",
          "United Kingdom",
          "People's Republic of China",
          "Brazil",
          "Russia",
          "Canada",
          "Great Britain",
          "American Samoa",
          "Northern Mariana Islands",
          "Japan",
          "Germany",
          "Belarus",
          "Iceland",
          "Estonia",
          "Norway",
          "Pahlavi Dynasty",
          "England",
          "Latvia",
          "Ukraine",
          "Aruba",
          "Czech Republic",
          "Slovakia",
          "Slovenia",
          "Moldova",
          "Romania",
          "Bulgaria",
          "North Macedonia",
          "Albania",
          "Croatia",
          "Bosnia and Herzegovina",
          "Azerbaijan",
          "Andorra",
          "Cyprus",
          "Georgia",
          "Kazakhstan",
          "Malta",
          "Monaco",
          "Montenegro",
          "Vatican City",
          "San Marino",
          "Cuba",
          "Belize",
          "Barbados",
          "Republic of Artsakh",
          "Tibet",
          "Wales",
          "Indonesia",
          "Curaçao",
          "South Africa",
          "Algeria",
          "Uzbekistan",
          "Cook Islands",
          "Ireland",
          "Hungary",
          "Spain",
          "Chile",
          "Kingdom of the Netherlands",
          "United States of America",
          "Belgium",
          "Irish Free State",
          "Luxembourg",
          "Finland",
          "Singapore",
          "Sweden",
          "Liechtenstein",
          "Somaliland",
          "Denmark",
          "Poland",
          "Lithuania",
          "Italy",
          "Switzerland",
          "Bahrain",
          "Armenia",
          "Austria",
          "Serbia",
          "Sahrawi Arab Democratic Republic",
          "Australia",
          "Greece",
          "Argentina",
          "Peru",
          "North Korea",
          "Cambodia",
          "Turkey",
          "German Empire",
          "Portugal",
          "Netherlands",
          "Timor-Leste",
          "Chad",
          "New Zealand",
          "India",
          "Tuvalu",
          "Tonga",
          "Samoa",
          "Solomon Islands",
          "Vanuatu",
          "Papua New Guinea",
          "Palau",
          "Nauru",
          "Federated States of Micronesia",
          "Marshall Islands",
          "Kiribati",
          "Mongolia",
          "Fiji",
          "Venezuela",
          "Suriname",
          "Paraguay",
          "Guyana",
          "Ecuador",
          "Colombia",
          "Bolivia",
          "Trinidad and Tobago",
          "Danish Realm",
          "Saint Vincent and the Grenadines",
          "Saint Lucia",
          "Saint Kitts and Nevis",
          "Jamaica",
          "Grenada",
          "Uruguay",
          "Guatemala",
          "The Bahamas",
          "Antigua and Barbuda",
          "Honduras",
          "Dominica",
          "Dominican Republic",
          "Egypt",
          "Haiti",
          "El Salvador",
          "Iran",
          "Iraq",
          "Costa Rica",
          "Israel",
          "Panama",
          "Yemen",
          "Jordan",
          "Nicaragua",
          "Kyrgyzstan",
          "Kuwait",
          "Laos",
          "Lebanon",
          "Maldives",
          "Malaysia",
          "Myanmar",
          "Nepal",
          "Oman",
          "Pakistan",
          "Qatar",
          "Saudi Arabia",
          "Sri Lanka",
          "Syria",
          "Tajikistan",
          "Taiwan",
          "Thailand",
          "Turkmenistan",
          "United Arab Emirates",
          "Vietnam",
          "South Korea",
          "Afghanistan",
          "Bangladesh",
          "Transnistria",
          "Mali",
          "Angola",
          "Bhutan",
          "Brunei",
          "Tanzania",
          "Philippines",
          "Central African Republic",
          "Togo",
          "Tunisia",
          "Zambia",
          "Zimbabwe",
          "South Sudan",
          "Mexico",
          "Benin",
          "Botswana",
          "Burkina Faso",
          "Burundi",
          "Comoros",
          "Republic of the Congo",
          "Democratic Republic of the Congo",
          "Djibouti",
          "Equatorial Guinea",
          "Eritrea"
         ],
         "locations": [
          "GAB",
          "GMB",
          "GIN",
          "GNB",
          "CIV",
          "CMR",
          "CPV",
          "LSO",
          "LBR",
          "LBY",
          "MDG",
          "MWI",
          "MRT",
          "MUS",
          "MAR",
          "MOZ",
          "NAM",
          "NER",
          "NGA",
          "UGA",
          "RWA",
          "STP",
          "SEN",
          "SYC",
          "SLE",
          "SOM",
          "SDN",
          "KEN",
          "ETH",
          "GHA",
          null,
          "XKS",
          "FRA",
          "GBR",
          "CHN",
          "BRA",
          "RUS",
          "CAN",
          null,
          "ASM",
          "MNP",
          "JPN",
          "DEU",
          "BLR",
          "ISL",
          "EST",
          "NOR",
          null,
          null,
          "LVA",
          "UKR",
          "ABW",
          "CZE",
          "SVK",
          "SVN",
          "MDA",
          "ROU",
          "BGR",
          "MKD",
          "ALB",
          "HRV",
          "BIH",
          "AZE",
          "AND",
          "CYP",
          "GEO",
          "KAZ",
          "MLT",
          "MCO",
          "MNE",
          "VAT",
          "SMR",
          "CUB",
          "BLZ",
          "BRB",
          null,
          null,
          null,
          "IDN",
          "CUW",
          "ZAF",
          "DZA",
          "UZB",
          "COK",
          "IRL",
          "HUN",
          "ESP",
          "CHL",
          "NLD",
          "USA",
          "BEL",
          null,
          "LUX",
          "FIN",
          "SGP",
          "SWE",
          "LIE",
          null,
          "DNK",
          "POL",
          "LTU",
          "ITA",
          "CHE",
          "BHR",
          "ARM",
          "AUT",
          "SRB",
          "ESH",
          "AUS",
          "GRC",
          "ARG",
          "PER",
          "PRK",
          "KHM",
          "TUR",
          null,
          "PRT",
          "NLD",
          "TLS",
          "TCD",
          "NZL",
          "IND",
          "TUV",
          "TON",
          "WSM",
          "SLB",
          "VUT",
          "PNG",
          "PLW",
          "NRU",
          "FSM",
          "MHL",
          "KIR",
          "MNG",
          "FJI",
          "VEN",
          "SUR",
          "PRY",
          "GUY",
          "ECU",
          "COL",
          "BOL",
          "TTO",
          "DNK",
          "VCT",
          "LCA",
          "KNA",
          "JAM",
          "GRD",
          "URY",
          "GTM",
          "BHS",
          "ATG",
          "HND",
          "DMA",
          "DOM",
          "EGY",
          "HTI",
          "SLV",
          "IRN",
          "IRQ",
          "CRI",
          "ISR",
          "PAN",
          "YEM",
          "JOR",
          "NIC",
          "KGZ",
          "KWT",
          "LAO",
          "LBN",
          "MDV",
          "MYS",
          "MMR",
          "NPL",
          "OMN",
          "PAK",
          "QAT",
          "SAU",
          "LKA",
          "SYR",
          "TJK",
          "TWN",
          "THA",
          "TKM",
          "ARE",
          "VNM",
          "KOR",
          "AFG",
          "BGD",
          null,
          "MLI",
          "AGO",
          "BTN",
          "BRN",
          "TZA",
          "PHL",
          "CAF",
          "TGO",
          "TUN",
          "ZMB",
          "ZWE",
          "SSD",
          "MEX",
          "BEN",
          "BWA",
          "BFA",
          "BDI",
          "COM",
          "COG",
          "COD",
          "DJI",
          "GNQ",
          "ERI"
         ],
         "name": "",
         "type": "choropleth",
         "z": [
          0.8553963940967262,
          0.7537283627119535,
          0.8719812534963941,
          0.7797829944243196,
          0.8329556236946373,
          0.8132795027408752,
          0.7198233857280152,
          0.8284980476945294,
          0.8061378591531785,
          0.8279706530654051,
          0.6471082077946566,
          0.7983026858009094,
          0.6735554771311021,
          0.7389355487311319,
          0.7805423059463081,
          0.8553113445842753,
          0.7472213968886298,
          0.8475635211628311,
          0.7128489300151643,
          0.7382715392451064,
          0.8039209377579891,
          0.6045598948352414,
          0.8336949842126163,
          0.7143338639533536,
          0.7656679535354668,
          0.8223291224935891,
          0.8997875501352097,
          0.7435241317892857,
          0.7972540499283479,
          0.7964673726901983,
          0,
          0.8067272969249649,
          0.8264289447690106,
          0.7628391900349468,
          0.7278941512728146,
          0.8224713593260132,
          0.7682849161838423,
          0.7604880711254408,
          0.648789470166731,
          0.9773271261870198,
          0.6505355561923933,
          0.7923576445829296,
          0.7840266491265344,
          0.8868503750190501,
          0.7092192095566369,
          0.772510201030575,
          0.7776411761008217,
          0.9573016920359553,
          0.7353380659978153,
          0.8231418875511692,
          0.7604723748704633,
          0.8727605564545504,
          0.8293481300464212,
          0.8318570088567934,
          0.831158301124017,
          0.771683991654405,
          0.8437667026841756,
          0.7655703624381648,
          0.7796316889262632,
          0.8623806381480194,
          0.8015693686770002,
          0.919668916564009,
          0.7530975549800277,
          0.7785973770554917,
          0.7387469567595664,
          0.8482884051080772,
          0.764547622055858,
          0.7771029107321431,
          0.6918202327485042,
          0.7673450749172563,
          0.8200498898985517,
          0.8201705252734436,
          0.8589455799531514,
          0.8487307889344403,
          0.7332710527535641,
          0.7087623870801629,
          0.9888065661977528,
          0.7349991428788948,
          0.7273749797504261,
          0.761270719487449,
          0.7542993438815038,
          0.7576087855485786,
          0.7583969525592819,
          0.8686845367958124,
          0.7105175799150343,
          0.7622355875819711,
          0.8255684788072077,
          0.8119422059366527,
          0.8574571127932901,
          0.8075154245417353,
          0.8108899884715071,
          0.7478566102043688,
          0.7128200663525579,
          0.8395301912308917,
          0.7590724524142046,
          0.7323686505126293,
          0.680908865022416,
          0.5476184928318227,
          0.755486656369358,
          0.809701661454633,
          0.7985831059223271,
          0.7943034050364485,
          0.745700302914264,
          0.6914977095684445,
          0.7422812677511071,
          0.7400700352005379,
          0.8016921287184536,
          0.8224415772072824,
          0.7612772813116973,
          0.7576392216072565,
          0.8254906419498024,
          0.7969794910737271,
          0.6905400926778634,
          0.8176557356340933,
          0.8180264320318904,
          1,
          0.798018806172715,
          0.7603971775323477,
          0.6085073518604537,
          0.6900483588732083,
          0.7277127409143914,
          0.7405213586132204,
          0.767849512631073,
          0.8304483773874248,
          0.794170433926027,
          0.7540796681878461,
          0.7334425689300647,
          0.7803145452613974,
          0.8555724096546206,
          0.6561315121126834,
          0.7175007955567883,
          0.6972774078946686,
          0.8160418139485509,
          0.8356132986494158,
          0.777566877020991,
          0.8544545685563073,
          0.8043787676349478,
          0.7128856377099758,
          0.7526285823152489,
          0.8138550114130962,
          0.7838207541880198,
          0.7760215331593732,
          0.7687487117613696,
          0.7544947745788639,
          0.7841302487445093,
          0.8088169728381557,
          0.821838346095111,
          0.7401526922914863,
          0.8036231233581198,
          0.7957814690662571,
          0.8060730774639682,
          0.7989576936102056,
          0.7854509523158798,
          0.7497805770164717,
          0.7064863974026954,
          0.8971129581425122,
          0.7590800693618638,
          0.79108072733134,
          0.822687649313925,
          0.8429762696880357,
          0.7980943681588328,
          0.7786264442720281,
          0.7788007675606035,
          0.7537394819494136,
          0.7824795236480299,
          0.7400149903950104,
          0.8614817975231378,
          0.7135427691115338,
          0.6894815513085173,
          0.6029714384144497,
          0.8068940435770555,
          0.7106277161765784,
          0.7761833395039,
          0.8072362089356021,
          0.7759678784437214,
          0.7715740409073585,
          0.7898248471069332,
          0.6404823776722924,
          0.7508377247128375,
          0.7455133683464367,
          0.8838341823015989,
          0.8291843402342908,
          0.7930704786190446,
          0.8520702843627436,
          0.6311776764998511,
          0.5709144924541207,
          0.73455118874607,
          0.809919683911765,
          0.8337963488859772,
          0.7604501571489864,
          0.5114410080966911,
          0.7121038077225308,
          0.8403523305277215,
          0.7806227332108757,
          0.6975379021665754,
          0.7098420122802078,
          0.8006644197060429,
          0.640873886843449,
          0.7514764305006507,
          0.7478372446248793,
          0.7841818262486023,
          0.7713229819531492,
          0.7070402928931476,
          0.8367744622732871,
          0.6885559416583744,
          0.8176698537990056,
          0.7806742041829374,
          0.730081958396029,
          0.779822628337952,
          0.508499703911252,
          0.7948453497902312,
          0.6845289737485929,
          0.8142315403066706,
          0.6524321818476945
         ]
        }
       ],
       "layout": {
        "coloraxis": {
         "colorbar": {
          "title": {
           "text": "depression"
          }
         },
         "colorscale": [
          [
           0,
           "rgb(232, 245, 171)"
          ],
          [
           0.09090909090909091,
           "rgb(220, 219, 137)"
          ],
          [
           0.18181818181818182,
           "rgb(209, 193, 107)"
          ],
          [
           0.2727272727272727,
           "rgb(199, 168, 83)"
          ],
          [
           0.36363636363636365,
           "rgb(186, 143, 66)"
          ],
          [
           0.45454545454545453,
           "rgb(170, 121, 60)"
          ],
          [
           0.5454545454545454,
           "rgb(151, 103, 58)"
          ],
          [
           0.6363636363636364,
           "rgb(129, 87, 56)"
          ],
          [
           0.7272727272727273,
           "rgb(104, 72, 53)"
          ],
          [
           0.8181818181818182,
           "rgb(80, 59, 46)"
          ],
          [
           0.9090909090909091,
           "rgb(57, 45, 37)"
          ],
          [
           1,
           "rgb(34, 30, 27)"
          ]
         ]
        },
        "geo": {
         "center": {},
         "domain": {
          "x": [
           0,
           1
          ],
          "y": [
           0,
           1
          ]
         }
        },
        "legend": {
         "tracegroupgap": 0
        },
        "margin": {
         "t": 60
        },
        "template": {
         "data": {
          "bar": [
           {
            "error_x": {
             "color": "#2a3f5f"
            },
            "error_y": {
             "color": "#2a3f5f"
            },
            "marker": {
             "line": {
              "color": "#E5ECF6",
              "width": 0.5
             },
             "pattern": {
              "fillmode": "overlay",
              "size": 10,
              "solidity": 0.2
             }
            },
            "type": "bar"
           }
          ],
          "barpolar": [
           {
            "marker": {
             "line": {
              "color": "#E5ECF6",
              "width": 0.5
             },
             "pattern": {
              "fillmode": "overlay",
              "size": 10,
              "solidity": 0.2
             }
            },
            "type": "barpolar"
           }
          ],
          "carpet": [
           {
            "aaxis": {
             "endlinecolor": "#2a3f5f",
             "gridcolor": "white",
             "linecolor": "white",
             "minorgridcolor": "white",
             "startlinecolor": "#2a3f5f"
            },
            "baxis": {
             "endlinecolor": "#2a3f5f",
             "gridcolor": "white",
             "linecolor": "white",
             "minorgridcolor": "white",
             "startlinecolor": "#2a3f5f"
            },
            "type": "carpet"
           }
          ],
          "choropleth": [
           {
            "colorbar": {
             "outlinewidth": 0,
             "ticks": ""
            },
            "type": "choropleth"
           }
          ],
          "contour": [
           {
            "colorbar": {
             "outlinewidth": 0,
             "ticks": ""
            },
            "colorscale": [
             [
              0,
              "#0d0887"
             ],
             [
              0.1111111111111111,
              "#46039f"
             ],
             [
              0.2222222222222222,
              "#7201a8"
             ],
             [
              0.3333333333333333,
              "#9c179e"
             ],
             [
              0.4444444444444444,
              "#bd3786"
             ],
             [
              0.5555555555555556,
              "#d8576b"
             ],
             [
              0.6666666666666666,
              "#ed7953"
             ],
             [
              0.7777777777777778,
              "#fb9f3a"
             ],
             [
              0.8888888888888888,
              "#fdca26"
             ],
             [
              1,
              "#f0f921"
             ]
            ],
            "type": "contour"
           }
          ],
          "contourcarpet": [
           {
            "colorbar": {
             "outlinewidth": 0,
             "ticks": ""
            },
            "type": "contourcarpet"
           }
          ],
          "heatmap": [
           {
            "colorbar": {
             "outlinewidth": 0,
             "ticks": ""
            },
            "colorscale": [
             [
              0,
              "#0d0887"
             ],
             [
              0.1111111111111111,
              "#46039f"
             ],
             [
              0.2222222222222222,
              "#7201a8"
             ],
             [
              0.3333333333333333,
              "#9c179e"
             ],
             [
              0.4444444444444444,
              "#bd3786"
             ],
             [
              0.5555555555555556,
              "#d8576b"
             ],
             [
              0.6666666666666666,
              "#ed7953"
             ],
             [
              0.7777777777777778,
              "#fb9f3a"
             ],
             [
              0.8888888888888888,
              "#fdca26"
             ],
             [
              1,
              "#f0f921"
             ]
            ],
            "type": "heatmap"
           }
          ],
          "heatmapgl": [
           {
            "colorbar": {
             "outlinewidth": 0,
             "ticks": ""
            },
            "colorscale": [
             [
              0,
              "#0d0887"
             ],
             [
              0.1111111111111111,
              "#46039f"
             ],
             [
              0.2222222222222222,
              "#7201a8"
             ],
             [
              0.3333333333333333,
              "#9c179e"
             ],
             [
              0.4444444444444444,
              "#bd3786"
             ],
             [
              0.5555555555555556,
              "#d8576b"
             ],
             [
              0.6666666666666666,
              "#ed7953"
             ],
             [
              0.7777777777777778,
              "#fb9f3a"
             ],
             [
              0.8888888888888888,
              "#fdca26"
             ],
             [
              1,
              "#f0f921"
             ]
            ],
            "type": "heatmapgl"
           }
          ],
          "histogram": [
           {
            "marker": {
             "pattern": {
              "fillmode": "overlay",
              "size": 10,
              "solidity": 0.2
             }
            },
            "type": "histogram"
           }
          ],
          "histogram2d": [
           {
            "colorbar": {
             "outlinewidth": 0,
             "ticks": ""
            },
            "colorscale": [
             [
              0,
              "#0d0887"
             ],
             [
              0.1111111111111111,
              "#46039f"
             ],
             [
              0.2222222222222222,
              "#7201a8"
             ],
             [
              0.3333333333333333,
              "#9c179e"
             ],
             [
              0.4444444444444444,
              "#bd3786"
             ],
             [
              0.5555555555555556,
              "#d8576b"
             ],
             [
              0.6666666666666666,
              "#ed7953"
             ],
             [
              0.7777777777777778,
              "#fb9f3a"
             ],
             [
              0.8888888888888888,
              "#fdca26"
             ],
             [
              1,
              "#f0f921"
             ]
            ],
            "type": "histogram2d"
           }
          ],
          "histogram2dcontour": [
           {
            "colorbar": {
             "outlinewidth": 0,
             "ticks": ""
            },
            "colorscale": [
             [
              0,
              "#0d0887"
             ],
             [
              0.1111111111111111,
              "#46039f"
             ],
             [
              0.2222222222222222,
              "#7201a8"
             ],
             [
              0.3333333333333333,
              "#9c179e"
             ],
             [
              0.4444444444444444,
              "#bd3786"
             ],
             [
              0.5555555555555556,
              "#d8576b"
             ],
             [
              0.6666666666666666,
              "#ed7953"
             ],
             [
              0.7777777777777778,
              "#fb9f3a"
             ],
             [
              0.8888888888888888,
              "#fdca26"
             ],
             [
              1,
              "#f0f921"
             ]
            ],
            "type": "histogram2dcontour"
           }
          ],
          "mesh3d": [
           {
            "colorbar": {
             "outlinewidth": 0,
             "ticks": ""
            },
            "type": "mesh3d"
           }
          ],
          "parcoords": [
           {
            "line": {
             "colorbar": {
              "outlinewidth": 0,
              "ticks": ""
             }
            },
            "type": "parcoords"
           }
          ],
          "pie": [
           {
            "automargin": true,
            "type": "pie"
           }
          ],
          "scatter": [
           {
            "marker": {
             "colorbar": {
              "outlinewidth": 0,
              "ticks": ""
             }
            },
            "type": "scatter"
           }
          ],
          "scatter3d": [
           {
            "line": {
             "colorbar": {
              "outlinewidth": 0,
              "ticks": ""
             }
            },
            "marker": {
             "colorbar": {
              "outlinewidth": 0,
              "ticks": ""
             }
            },
            "type": "scatter3d"
           }
          ],
          "scattercarpet": [
           {
            "marker": {
             "colorbar": {
              "outlinewidth": 0,
              "ticks": ""
             }
            },
            "type": "scattercarpet"
           }
          ],
          "scattergeo": [
           {
            "marker": {
             "colorbar": {
              "outlinewidth": 0,
              "ticks": ""
             }
            },
            "type": "scattergeo"
           }
          ],
          "scattergl": [
           {
            "marker": {
             "colorbar": {
              "outlinewidth": 0,
              "ticks": ""
             }
            },
            "type": "scattergl"
           }
          ],
          "scattermapbox": [
           {
            "marker": {
             "colorbar": {
              "outlinewidth": 0,
              "ticks": ""
             }
            },
            "type": "scattermapbox"
           }
          ],
          "scatterpolar": [
           {
            "marker": {
             "colorbar": {
              "outlinewidth": 0,
              "ticks": ""
             }
            },
            "type": "scatterpolar"
           }
          ],
          "scatterpolargl": [
           {
            "marker": {
             "colorbar": {
              "outlinewidth": 0,
              "ticks": ""
             }
            },
            "type": "scatterpolargl"
           }
          ],
          "scatterternary": [
           {
            "marker": {
             "colorbar": {
              "outlinewidth": 0,
              "ticks": ""
             }
            },
            "type": "scatterternary"
           }
          ],
          "surface": [
           {
            "colorbar": {
             "outlinewidth": 0,
             "ticks": ""
            },
            "colorscale": [
             [
              0,
              "#0d0887"
             ],
             [
              0.1111111111111111,
              "#46039f"
             ],
             [
              0.2222222222222222,
              "#7201a8"
             ],
             [
              0.3333333333333333,
              "#9c179e"
             ],
             [
              0.4444444444444444,
              "#bd3786"
             ],
             [
              0.5555555555555556,
              "#d8576b"
             ],
             [
              0.6666666666666666,
              "#ed7953"
             ],
             [
              0.7777777777777778,
              "#fb9f3a"
             ],
             [
              0.8888888888888888,
              "#fdca26"
             ],
             [
              1,
              "#f0f921"
             ]
            ],
            "type": "surface"
           }
          ],
          "table": [
           {
            "cells": {
             "fill": {
              "color": "#EBF0F8"
             },
             "line": {
              "color": "white"
             }
            },
            "header": {
             "fill": {
              "color": "#C8D4E3"
             },
             "line": {
              "color": "white"
             }
            },
            "type": "table"
           }
          ]
         },
         "layout": {
          "annotationdefaults": {
           "arrowcolor": "#2a3f5f",
           "arrowhead": 0,
           "arrowwidth": 1
          },
          "autotypenumbers": "strict",
          "coloraxis": {
           "colorbar": {
            "outlinewidth": 0,
            "ticks": ""
           }
          },
          "colorscale": {
           "diverging": [
            [
             0,
             "#8e0152"
            ],
            [
             0.1,
             "#c51b7d"
            ],
            [
             0.2,
             "#de77ae"
            ],
            [
             0.3,
             "#f1b6da"
            ],
            [
             0.4,
             "#fde0ef"
            ],
            [
             0.5,
             "#f7f7f7"
            ],
            [
             0.6,
             "#e6f5d0"
            ],
            [
             0.7,
             "#b8e186"
            ],
            [
             0.8,
             "#7fbc41"
            ],
            [
             0.9,
             "#4d9221"
            ],
            [
             1,
             "#276419"
            ]
           ],
           "sequential": [
            [
             0,
             "#0d0887"
            ],
            [
             0.1111111111111111,
             "#46039f"
            ],
            [
             0.2222222222222222,
             "#7201a8"
            ],
            [
             0.3333333333333333,
             "#9c179e"
            ],
            [
             0.4444444444444444,
             "#bd3786"
            ],
            [
             0.5555555555555556,
             "#d8576b"
            ],
            [
             0.6666666666666666,
             "#ed7953"
            ],
            [
             0.7777777777777778,
             "#fb9f3a"
            ],
            [
             0.8888888888888888,
             "#fdca26"
            ],
            [
             1,
             "#f0f921"
            ]
           ],
           "sequentialminus": [
            [
             0,
             "#0d0887"
            ],
            [
             0.1111111111111111,
             "#46039f"
            ],
            [
             0.2222222222222222,
             "#7201a8"
            ],
            [
             0.3333333333333333,
             "#9c179e"
            ],
            [
             0.4444444444444444,
             "#bd3786"
            ],
            [
             0.5555555555555556,
             "#d8576b"
            ],
            [
             0.6666666666666666,
             "#ed7953"
            ],
            [
             0.7777777777777778,
             "#fb9f3a"
            ],
            [
             0.8888888888888888,
             "#fdca26"
            ],
            [
             1,
             "#f0f921"
            ]
           ]
          },
          "colorway": [
           "#636efa",
           "#EF553B",
           "#00cc96",
           "#ab63fa",
           "#FFA15A",
           "#19d3f3",
           "#FF6692",
           "#B6E880",
           "#FF97FF",
           "#FECB52"
          ],
          "font": {
           "color": "#2a3f5f"
          },
          "geo": {
           "bgcolor": "white",
           "lakecolor": "white",
           "landcolor": "#E5ECF6",
           "showlakes": true,
           "showland": true,
           "subunitcolor": "white"
          },
          "hoverlabel": {
           "align": "left"
          },
          "hovermode": "closest",
          "mapbox": {
           "style": "light"
          },
          "paper_bgcolor": "white",
          "plot_bgcolor": "#E5ECF6",
          "polar": {
           "angularaxis": {
            "gridcolor": "white",
            "linecolor": "white",
            "ticks": ""
           },
           "bgcolor": "#E5ECF6",
           "radialaxis": {
            "gridcolor": "white",
            "linecolor": "white",
            "ticks": ""
           }
          },
          "scene": {
           "xaxis": {
            "backgroundcolor": "#E5ECF6",
            "gridcolor": "white",
            "gridwidth": 2,
            "linecolor": "white",
            "showbackground": true,
            "ticks": "",
            "zerolinecolor": "white"
           },
           "yaxis": {
            "backgroundcolor": "#E5ECF6",
            "gridcolor": "white",
            "gridwidth": 2,
            "linecolor": "white",
            "showbackground": true,
            "ticks": "",
            "zerolinecolor": "white"
           },
           "zaxis": {
            "backgroundcolor": "#E5ECF6",
            "gridcolor": "white",
            "gridwidth": 2,
            "linecolor": "white",
            "showbackground": true,
            "ticks": "",
            "zerolinecolor": "white"
           }
          },
          "shapedefaults": {
           "line": {
            "color": "#2a3f5f"
           }
          },
          "ternary": {
           "aaxis": {
            "gridcolor": "white",
            "linecolor": "white",
            "ticks": ""
           },
           "baxis": {
            "gridcolor": "white",
            "linecolor": "white",
            "ticks": ""
           },
           "bgcolor": "#E5ECF6",
           "caxis": {
            "gridcolor": "white",
            "linecolor": "white",
            "ticks": ""
           }
          },
          "title": {
           "x": 0.05
          },
          "xaxis": {
           "automargin": true,
           "gridcolor": "white",
           "linecolor": "white",
           "ticks": "",
           "title": {
            "standoff": 15
           },
           "zerolinecolor": "white",
           "zerolinewidth": 2
          },
          "yaxis": {
           "automargin": true,
           "gridcolor": "white",
           "linecolor": "white",
           "ticks": "",
           "title": {
            "standoff": 15
           },
           "zerolinecolor": "white",
           "zerolinewidth": 2
          }
         }
        }
       }
      }
     },
     "metadata": {},
     "output_type": "display_data"
    }
   ],
   "source": [
    "visualize_country_personality(country_personality_grouped_2019, location_col='country_iso', color_col='depression', hover_col='country_name', color_scale=px.colors.sequential.turbid)"
   ]
  },
  {
   "cell_type": "code",
   "execution_count": 103,
   "metadata": {},
   "outputs": [
    {
     "data": {
      "application/vnd.plotly.v1+json": {
       "config": {
        "plotlyServerURL": "https://plot.ly"
       },
       "data": [
        {
         "coloraxis": "coloraxis",
         "geo": "geo",
         "hovertemplate": "<b>%{hovertext}</b><br><br>country_iso=%{location}<br>anxiety=%{z}<extra></extra>",
         "hovertext": [
          "Gabon",
          "The Gambia",
          "Guinea",
          "Guinea-Bissau",
          "Côte d'Ivoire",
          "Cameroon",
          "Cape Verde",
          "Lesotho",
          "Liberia",
          "Libya",
          "Madagascar",
          "Malawi",
          "Mauritania",
          "Mauritius",
          "Morocco",
          "Mozambique",
          "Namibia",
          "Niger",
          "Nigeria",
          "Uganda",
          "Rwanda",
          "São Tomé and Príncipe",
          "Senegal",
          "Seychelles",
          "Sierra Leone",
          "Somalia",
          "Sudan",
          "Kenya",
          "Ethiopia",
          "Ghana",
          "Imperial China",
          "Kosovo",
          "France",
          "United Kingdom",
          "People's Republic of China",
          "Brazil",
          "Russia",
          "Canada",
          "Great Britain",
          "American Samoa",
          "Northern Mariana Islands",
          "Japan",
          "Germany",
          "Belarus",
          "Iceland",
          "Estonia",
          "Norway",
          "Pahlavi Dynasty",
          "England",
          "Latvia",
          "Ukraine",
          "Aruba",
          "Czech Republic",
          "Slovakia",
          "Slovenia",
          "Moldova",
          "Romania",
          "Bulgaria",
          "North Macedonia",
          "Albania",
          "Croatia",
          "Bosnia and Herzegovina",
          "Azerbaijan",
          "Andorra",
          "Cyprus",
          "Georgia",
          "Kazakhstan",
          "Malta",
          "Monaco",
          "Montenegro",
          "Vatican City",
          "San Marino",
          "Cuba",
          "Belize",
          "Barbados",
          "Republic of Artsakh",
          "Tibet",
          "Wales",
          "Indonesia",
          "Curaçao",
          "South Africa",
          "Algeria",
          "Uzbekistan",
          "Cook Islands",
          "Ireland",
          "Hungary",
          "Spain",
          "Chile",
          "Kingdom of the Netherlands",
          "United States of America",
          "Belgium",
          "Irish Free State",
          "Luxembourg",
          "Finland",
          "Singapore",
          "Sweden",
          "Liechtenstein",
          "Somaliland",
          "Denmark",
          "Poland",
          "Lithuania",
          "Italy",
          "Switzerland",
          "Bahrain",
          "Armenia",
          "Austria",
          "Serbia",
          "Sahrawi Arab Democratic Republic",
          "Australia",
          "Greece",
          "Argentina",
          "Peru",
          "North Korea",
          "Cambodia",
          "Turkey",
          "German Empire",
          "Portugal",
          "Netherlands",
          "Timor-Leste",
          "Chad",
          "New Zealand",
          "India",
          "Tuvalu",
          "Tonga",
          "Samoa",
          "Solomon Islands",
          "Vanuatu",
          "Papua New Guinea",
          "Palau",
          "Nauru",
          "Federated States of Micronesia",
          "Marshall Islands",
          "Kiribati",
          "Mongolia",
          "Fiji",
          "Venezuela",
          "Suriname",
          "Paraguay",
          "Guyana",
          "Ecuador",
          "Colombia",
          "Bolivia",
          "Trinidad and Tobago",
          "Danish Realm",
          "Saint Vincent and the Grenadines",
          "Saint Lucia",
          "Saint Kitts and Nevis",
          "Jamaica",
          "Grenada",
          "Uruguay",
          "Guatemala",
          "The Bahamas",
          "Antigua and Barbuda",
          "Honduras",
          "Dominica",
          "Dominican Republic",
          "Egypt",
          "Haiti",
          "El Salvador",
          "Iran",
          "Iraq",
          "Costa Rica",
          "Israel",
          "Panama",
          "Yemen",
          "Jordan",
          "Nicaragua",
          "Kyrgyzstan",
          "Kuwait",
          "Laos",
          "Lebanon",
          "Maldives",
          "Malaysia",
          "Myanmar",
          "Nepal",
          "Oman",
          "Pakistan",
          "Qatar",
          "Saudi Arabia",
          "Sri Lanka",
          "Syria",
          "Tajikistan",
          "Taiwan",
          "Thailand",
          "Turkmenistan",
          "United Arab Emirates",
          "Vietnam",
          "South Korea",
          "Afghanistan",
          "Bangladesh",
          "Transnistria",
          "Mali",
          "Angola",
          "Bhutan",
          "Brunei",
          "Tanzania",
          "Philippines",
          "Central African Republic",
          "Togo",
          "Tunisia",
          "Zambia",
          "Zimbabwe",
          "South Sudan",
          "Mexico",
          "Benin",
          "Botswana",
          "Burkina Faso",
          "Burundi",
          "Comoros",
          "Republic of the Congo",
          "Democratic Republic of the Congo",
          "Djibouti",
          "Equatorial Guinea",
          "Eritrea"
         ],
         "locations": [
          "GAB",
          "GMB",
          "GIN",
          "GNB",
          "CIV",
          "CMR",
          "CPV",
          "LSO",
          "LBR",
          "LBY",
          "MDG",
          "MWI",
          "MRT",
          "MUS",
          "MAR",
          "MOZ",
          "NAM",
          "NER",
          "NGA",
          "UGA",
          "RWA",
          "STP",
          "SEN",
          "SYC",
          "SLE",
          "SOM",
          "SDN",
          "KEN",
          "ETH",
          "GHA",
          null,
          "XKS",
          "FRA",
          "GBR",
          "CHN",
          "BRA",
          "RUS",
          "CAN",
          null,
          "ASM",
          "MNP",
          "JPN",
          "DEU",
          "BLR",
          "ISL",
          "EST",
          "NOR",
          null,
          null,
          "LVA",
          "UKR",
          "ABW",
          "CZE",
          "SVK",
          "SVN",
          "MDA",
          "ROU",
          "BGR",
          "MKD",
          "ALB",
          "HRV",
          "BIH",
          "AZE",
          "AND",
          "CYP",
          "GEO",
          "KAZ",
          "MLT",
          "MCO",
          "MNE",
          "VAT",
          "SMR",
          "CUB",
          "BLZ",
          "BRB",
          null,
          null,
          null,
          "IDN",
          "CUW",
          "ZAF",
          "DZA",
          "UZB",
          "COK",
          "IRL",
          "HUN",
          "ESP",
          "CHL",
          "NLD",
          "USA",
          "BEL",
          null,
          "LUX",
          "FIN",
          "SGP",
          "SWE",
          "LIE",
          null,
          "DNK",
          "POL",
          "LTU",
          "ITA",
          "CHE",
          "BHR",
          "ARM",
          "AUT",
          "SRB",
          "ESH",
          "AUS",
          "GRC",
          "ARG",
          "PER",
          "PRK",
          "KHM",
          "TUR",
          null,
          "PRT",
          "NLD",
          "TLS",
          "TCD",
          "NZL",
          "IND",
          "TUV",
          "TON",
          "WSM",
          "SLB",
          "VUT",
          "PNG",
          "PLW",
          "NRU",
          "FSM",
          "MHL",
          "KIR",
          "MNG",
          "FJI",
          "VEN",
          "SUR",
          "PRY",
          "GUY",
          "ECU",
          "COL",
          "BOL",
          "TTO",
          "DNK",
          "VCT",
          "LCA",
          "KNA",
          "JAM",
          "GRD",
          "URY",
          "GTM",
          "BHS",
          "ATG",
          "HND",
          "DMA",
          "DOM",
          "EGY",
          "HTI",
          "SLV",
          "IRN",
          "IRQ",
          "CRI",
          "ISR",
          "PAN",
          "YEM",
          "JOR",
          "NIC",
          "KGZ",
          "KWT",
          "LAO",
          "LBN",
          "MDV",
          "MYS",
          "MMR",
          "NPL",
          "OMN",
          "PAK",
          "QAT",
          "SAU",
          "LKA",
          "SYR",
          "TJK",
          "TWN",
          "THA",
          "TKM",
          "ARE",
          "VNM",
          "KOR",
          "AFG",
          "BGD",
          null,
          "MLI",
          "AGO",
          "BTN",
          "BRN",
          "TZA",
          "PHL",
          "CAF",
          "TGO",
          "TUN",
          "ZMB",
          "ZWE",
          "SSD",
          "MEX",
          "BEN",
          "BWA",
          "BFA",
          "BDI",
          "COM",
          "COG",
          "COD",
          "DJI",
          "GNQ",
          "ERI"
         ],
         "name": "",
         "type": "choropleth",
         "z": [
          0.5921870338071329,
          0.5758942612041712,
          0.7590644095833865,
          0.757959560362363,
          0.8723677832511391,
          0.7541119212926848,
          0.5257546855750015,
          0.7677299888340056,
          0.6962915408969733,
          0.9268738537565835,
          0.5337051047086907,
          0.6422678915168815,
          0.3517843143205788,
          0.5583310266169318,
          0.5224867645314527,
          0.5902717190487656,
          0.5886272348998558,
          0.7040728600090571,
          0.5300315073723435,
          0.5517668205342104,
          0.589749955463989,
          0.27546727015768285,
          0.6746153427571078,
          0.5898001120461163,
          0.6260757517130281,
          0.7618838732367701,
          0.6481830064687563,
          0.5362335305571237,
          0.5926920947432504,
          0.5664491401614187,
          0.046979662353936566,
          0.6894625651559625,
          0.6636810399250217,
          0.5730693800975332,
          0.46637404658882353,
          0.716361769623975,
          0.46182739923516714,
          0.5488284773133336,
          0.4877771202850607,
          0.8220436822368493,
          0.5796274236480651,
          0.6248322239780737,
          0.6198248914401954,
          0.6382085111601302,
          0.5539055932976021,
          0.5308842639859352,
          0.6029726192410557,
          0.5446289588523825,
          0.5605757610308859,
          0.6951331615633216,
          0.4780813258117683,
          0.9868856985045676,
          0.8143517570424428,
          0.7062725923516063,
          0.6436632297942912,
          0.4801384959000295,
          0.6919872623594631,
          0.5695917509006464,
          0.6291129531969101,
          0.5811495091739748,
          0.7649650474096165,
          0.8323431713178723,
          0.5983022214346017,
          0.6348602175651843,
          0.4856122558515603,
          0.7357646403979393,
          0.5280096808144605,
          0.5235415879558345,
          0.6178519781748191,
          0.677054731348308,
          0.4849659622177552,
          0.6304902577861313,
          0.6847719250228949,
          0.5747992881405762,
          0.5581234953178473,
          0.39412016850415765,
          1,
          0.5422118023859266,
          0.4987213926585469,
          0.770521795556178,
          0.5237941549641412,
          0.4702180908400076,
          0.5460390351115049,
          0.5440459632356802,
          0.49052208294279276,
          0.5838721636006647,
          0.7612486831656441,
          0.573603374707566,
          0.6874243695528658,
          0.6032714788181545,
          0.6949021010251006,
          0.4366917138434301,
          0.4931189395124329,
          0.6528186434750796,
          0.505219504514693,
          0.6425362881470399,
          0.4850728935352544,
          0.5604822180177472,
          0.5208561292717684,
          0.6078980626750891,
          0.7216612802385904,
          0.7022543767335434,
          0.5710989356964208,
          0.5693654625036588,
          0.5426500503945499,
          0.5680110113752307,
          0.8032802628720281,
          0.3531907669920559,
          0.5270857612929584,
          0.5822230509577059,
          0.6844593903645129,
          0.6364587392821859,
          0.33095888965795806,
          0.5579102802004365,
          0.5830500661800887,
          0.9902809407631205,
          0.6474390684657501,
          0.3389397854526601,
          0.4501656260265888,
          0.5404193606945437,
          0.5378240654963725,
          0.4301474987223114,
          0.7308476997966386,
          0.710549118376523,
          0.5512858322870995,
          0.6012051702429947,
          0.6746737538009244,
          0.5138711301770866,
          0.5790933449389019,
          0.30501438175830015,
          0.5564418012149351,
          0.5930811245078124,
          0.771254301144769,
          0.6509422515840705,
          0.5486310088844107,
          0.7370984747469776,
          0.6092866467631614,
          0.5860976001083387,
          0.5962998312458424,
          0.5829417986513248,
          0.744765270195516,
          0.5426826301137511,
          0.6094818842003086,
          0.6557485257104655,
          0.625108363538929,
          0.5794084559245168,
          0.7878869391813028,
          0.556994049560301,
          0.6516948012663331,
          0.6744800721687264,
          0.5402610345163185,
          0.6092546771556612,
          0.6334085846779921,
          0.576897445813824,
          0.5577715038897197,
          0.843422116646489,
          0.5362973236654988,
          0.6811157319806213,
          0.620050235125436,
          0.5651870806933669,
          0.4976153169341567,
          0.521713032243465,
          0.5387734442514547,
          0.666729664784994,
          0.5393307705236,
          0.6099697249027533,
          0.7400723039158297,
          0.28744962303255717,
          0.4975814422000601,
          0.5080865609853583,
          0.5107700189577005,
          0.5217135215026326,
          0.5050690858742827,
          0.5755062781650485,
          0.544093490733338,
          0.7775065832968154,
          0.5584297839706654,
          0.5229626251501184,
          0.5060857084730017,
          0.5186000934341178,
          0.7372550586506589,
          0.6105878631595882,
          0.6008904647194004,
          0.6504931962179066,
          0.4769799326647719,
          0.4495264397241619,
          0.5170619949174128,
          0.554547300334174,
          0.5990881414394771,
          0.4626880941959048,
          0,
          0.5689120500337669,
          0.8053221026806138,
          0.4410416007923086,
          0.6152648227263985,
          0.5229000957122496,
          0.5968183166130674,
          0.6748690174866027,
          0.5792669996514254,
          0.5430397896235497,
          0.6132933712356475,
          0.5774685602298855,
          0.621538087651657,
          0.6643231237161822,
          0.5745188968078226,
          0.5449354422637656,
          0.5264639031027302,
          0.4116516384207684,
          0.4499107927552796,
          0.19785430267270213,
          0.7216726742929888,
          0.5853314605616474,
          0.5834350608242038,
          0.5127095490418218
         ]
        }
       ],
       "layout": {
        "coloraxis": {
         "colorbar": {
          "title": {
           "text": "anxiety"
          }
         },
         "colorscale": [
          [
           0,
           "rgb(232, 245, 171)"
          ],
          [
           0.09090909090909091,
           "rgb(220, 219, 137)"
          ],
          [
           0.18181818181818182,
           "rgb(209, 193, 107)"
          ],
          [
           0.2727272727272727,
           "rgb(199, 168, 83)"
          ],
          [
           0.36363636363636365,
           "rgb(186, 143, 66)"
          ],
          [
           0.45454545454545453,
           "rgb(170, 121, 60)"
          ],
          [
           0.5454545454545454,
           "rgb(151, 103, 58)"
          ],
          [
           0.6363636363636364,
           "rgb(129, 87, 56)"
          ],
          [
           0.7272727272727273,
           "rgb(104, 72, 53)"
          ],
          [
           0.8181818181818182,
           "rgb(80, 59, 46)"
          ],
          [
           0.9090909090909091,
           "rgb(57, 45, 37)"
          ],
          [
           1,
           "rgb(34, 30, 27)"
          ]
         ]
        },
        "geo": {
         "center": {},
         "domain": {
          "x": [
           0,
           1
          ],
          "y": [
           0,
           1
          ]
         }
        },
        "legend": {
         "tracegroupgap": 0
        },
        "margin": {
         "t": 60
        },
        "template": {
         "data": {
          "bar": [
           {
            "error_x": {
             "color": "#2a3f5f"
            },
            "error_y": {
             "color": "#2a3f5f"
            },
            "marker": {
             "line": {
              "color": "#E5ECF6",
              "width": 0.5
             },
             "pattern": {
              "fillmode": "overlay",
              "size": 10,
              "solidity": 0.2
             }
            },
            "type": "bar"
           }
          ],
          "barpolar": [
           {
            "marker": {
             "line": {
              "color": "#E5ECF6",
              "width": 0.5
             },
             "pattern": {
              "fillmode": "overlay",
              "size": 10,
              "solidity": 0.2
             }
            },
            "type": "barpolar"
           }
          ],
          "carpet": [
           {
            "aaxis": {
             "endlinecolor": "#2a3f5f",
             "gridcolor": "white",
             "linecolor": "white",
             "minorgridcolor": "white",
             "startlinecolor": "#2a3f5f"
            },
            "baxis": {
             "endlinecolor": "#2a3f5f",
             "gridcolor": "white",
             "linecolor": "white",
             "minorgridcolor": "white",
             "startlinecolor": "#2a3f5f"
            },
            "type": "carpet"
           }
          ],
          "choropleth": [
           {
            "colorbar": {
             "outlinewidth": 0,
             "ticks": ""
            },
            "type": "choropleth"
           }
          ],
          "contour": [
           {
            "colorbar": {
             "outlinewidth": 0,
             "ticks": ""
            },
            "colorscale": [
             [
              0,
              "#0d0887"
             ],
             [
              0.1111111111111111,
              "#46039f"
             ],
             [
              0.2222222222222222,
              "#7201a8"
             ],
             [
              0.3333333333333333,
              "#9c179e"
             ],
             [
              0.4444444444444444,
              "#bd3786"
             ],
             [
              0.5555555555555556,
              "#d8576b"
             ],
             [
              0.6666666666666666,
              "#ed7953"
             ],
             [
              0.7777777777777778,
              "#fb9f3a"
             ],
             [
              0.8888888888888888,
              "#fdca26"
             ],
             [
              1,
              "#f0f921"
             ]
            ],
            "type": "contour"
           }
          ],
          "contourcarpet": [
           {
            "colorbar": {
             "outlinewidth": 0,
             "ticks": ""
            },
            "type": "contourcarpet"
           }
          ],
          "heatmap": [
           {
            "colorbar": {
             "outlinewidth": 0,
             "ticks": ""
            },
            "colorscale": [
             [
              0,
              "#0d0887"
             ],
             [
              0.1111111111111111,
              "#46039f"
             ],
             [
              0.2222222222222222,
              "#7201a8"
             ],
             [
              0.3333333333333333,
              "#9c179e"
             ],
             [
              0.4444444444444444,
              "#bd3786"
             ],
             [
              0.5555555555555556,
              "#d8576b"
             ],
             [
              0.6666666666666666,
              "#ed7953"
             ],
             [
              0.7777777777777778,
              "#fb9f3a"
             ],
             [
              0.8888888888888888,
              "#fdca26"
             ],
             [
              1,
              "#f0f921"
             ]
            ],
            "type": "heatmap"
           }
          ],
          "heatmapgl": [
           {
            "colorbar": {
             "outlinewidth": 0,
             "ticks": ""
            },
            "colorscale": [
             [
              0,
              "#0d0887"
             ],
             [
              0.1111111111111111,
              "#46039f"
             ],
             [
              0.2222222222222222,
              "#7201a8"
             ],
             [
              0.3333333333333333,
              "#9c179e"
             ],
             [
              0.4444444444444444,
              "#bd3786"
             ],
             [
              0.5555555555555556,
              "#d8576b"
             ],
             [
              0.6666666666666666,
              "#ed7953"
             ],
             [
              0.7777777777777778,
              "#fb9f3a"
             ],
             [
              0.8888888888888888,
              "#fdca26"
             ],
             [
              1,
              "#f0f921"
             ]
            ],
            "type": "heatmapgl"
           }
          ],
          "histogram": [
           {
            "marker": {
             "pattern": {
              "fillmode": "overlay",
              "size": 10,
              "solidity": 0.2
             }
            },
            "type": "histogram"
           }
          ],
          "histogram2d": [
           {
            "colorbar": {
             "outlinewidth": 0,
             "ticks": ""
            },
            "colorscale": [
             [
              0,
              "#0d0887"
             ],
             [
              0.1111111111111111,
              "#46039f"
             ],
             [
              0.2222222222222222,
              "#7201a8"
             ],
             [
              0.3333333333333333,
              "#9c179e"
             ],
             [
              0.4444444444444444,
              "#bd3786"
             ],
             [
              0.5555555555555556,
              "#d8576b"
             ],
             [
              0.6666666666666666,
              "#ed7953"
             ],
             [
              0.7777777777777778,
              "#fb9f3a"
             ],
             [
              0.8888888888888888,
              "#fdca26"
             ],
             [
              1,
              "#f0f921"
             ]
            ],
            "type": "histogram2d"
           }
          ],
          "histogram2dcontour": [
           {
            "colorbar": {
             "outlinewidth": 0,
             "ticks": ""
            },
            "colorscale": [
             [
              0,
              "#0d0887"
             ],
             [
              0.1111111111111111,
              "#46039f"
             ],
             [
              0.2222222222222222,
              "#7201a8"
             ],
             [
              0.3333333333333333,
              "#9c179e"
             ],
             [
              0.4444444444444444,
              "#bd3786"
             ],
             [
              0.5555555555555556,
              "#d8576b"
             ],
             [
              0.6666666666666666,
              "#ed7953"
             ],
             [
              0.7777777777777778,
              "#fb9f3a"
             ],
             [
              0.8888888888888888,
              "#fdca26"
             ],
             [
              1,
              "#f0f921"
             ]
            ],
            "type": "histogram2dcontour"
           }
          ],
          "mesh3d": [
           {
            "colorbar": {
             "outlinewidth": 0,
             "ticks": ""
            },
            "type": "mesh3d"
           }
          ],
          "parcoords": [
           {
            "line": {
             "colorbar": {
              "outlinewidth": 0,
              "ticks": ""
             }
            },
            "type": "parcoords"
           }
          ],
          "pie": [
           {
            "automargin": true,
            "type": "pie"
           }
          ],
          "scatter": [
           {
            "marker": {
             "colorbar": {
              "outlinewidth": 0,
              "ticks": ""
             }
            },
            "type": "scatter"
           }
          ],
          "scatter3d": [
           {
            "line": {
             "colorbar": {
              "outlinewidth": 0,
              "ticks": ""
             }
            },
            "marker": {
             "colorbar": {
              "outlinewidth": 0,
              "ticks": ""
             }
            },
            "type": "scatter3d"
           }
          ],
          "scattercarpet": [
           {
            "marker": {
             "colorbar": {
              "outlinewidth": 0,
              "ticks": ""
             }
            },
            "type": "scattercarpet"
           }
          ],
          "scattergeo": [
           {
            "marker": {
             "colorbar": {
              "outlinewidth": 0,
              "ticks": ""
             }
            },
            "type": "scattergeo"
           }
          ],
          "scattergl": [
           {
            "marker": {
             "colorbar": {
              "outlinewidth": 0,
              "ticks": ""
             }
            },
            "type": "scattergl"
           }
          ],
          "scattermapbox": [
           {
            "marker": {
             "colorbar": {
              "outlinewidth": 0,
              "ticks": ""
             }
            },
            "type": "scattermapbox"
           }
          ],
          "scatterpolar": [
           {
            "marker": {
             "colorbar": {
              "outlinewidth": 0,
              "ticks": ""
             }
            },
            "type": "scatterpolar"
           }
          ],
          "scatterpolargl": [
           {
            "marker": {
             "colorbar": {
              "outlinewidth": 0,
              "ticks": ""
             }
            },
            "type": "scatterpolargl"
           }
          ],
          "scatterternary": [
           {
            "marker": {
             "colorbar": {
              "outlinewidth": 0,
              "ticks": ""
             }
            },
            "type": "scatterternary"
           }
          ],
          "surface": [
           {
            "colorbar": {
             "outlinewidth": 0,
             "ticks": ""
            },
            "colorscale": [
             [
              0,
              "#0d0887"
             ],
             [
              0.1111111111111111,
              "#46039f"
             ],
             [
              0.2222222222222222,
              "#7201a8"
             ],
             [
              0.3333333333333333,
              "#9c179e"
             ],
             [
              0.4444444444444444,
              "#bd3786"
             ],
             [
              0.5555555555555556,
              "#d8576b"
             ],
             [
              0.6666666666666666,
              "#ed7953"
             ],
             [
              0.7777777777777778,
              "#fb9f3a"
             ],
             [
              0.8888888888888888,
              "#fdca26"
             ],
             [
              1,
              "#f0f921"
             ]
            ],
            "type": "surface"
           }
          ],
          "table": [
           {
            "cells": {
             "fill": {
              "color": "#EBF0F8"
             },
             "line": {
              "color": "white"
             }
            },
            "header": {
             "fill": {
              "color": "#C8D4E3"
             },
             "line": {
              "color": "white"
             }
            },
            "type": "table"
           }
          ]
         },
         "layout": {
          "annotationdefaults": {
           "arrowcolor": "#2a3f5f",
           "arrowhead": 0,
           "arrowwidth": 1
          },
          "autotypenumbers": "strict",
          "coloraxis": {
           "colorbar": {
            "outlinewidth": 0,
            "ticks": ""
           }
          },
          "colorscale": {
           "diverging": [
            [
             0,
             "#8e0152"
            ],
            [
             0.1,
             "#c51b7d"
            ],
            [
             0.2,
             "#de77ae"
            ],
            [
             0.3,
             "#f1b6da"
            ],
            [
             0.4,
             "#fde0ef"
            ],
            [
             0.5,
             "#f7f7f7"
            ],
            [
             0.6,
             "#e6f5d0"
            ],
            [
             0.7,
             "#b8e186"
            ],
            [
             0.8,
             "#7fbc41"
            ],
            [
             0.9,
             "#4d9221"
            ],
            [
             1,
             "#276419"
            ]
           ],
           "sequential": [
            [
             0,
             "#0d0887"
            ],
            [
             0.1111111111111111,
             "#46039f"
            ],
            [
             0.2222222222222222,
             "#7201a8"
            ],
            [
             0.3333333333333333,
             "#9c179e"
            ],
            [
             0.4444444444444444,
             "#bd3786"
            ],
            [
             0.5555555555555556,
             "#d8576b"
            ],
            [
             0.6666666666666666,
             "#ed7953"
            ],
            [
             0.7777777777777778,
             "#fb9f3a"
            ],
            [
             0.8888888888888888,
             "#fdca26"
            ],
            [
             1,
             "#f0f921"
            ]
           ],
           "sequentialminus": [
            [
             0,
             "#0d0887"
            ],
            [
             0.1111111111111111,
             "#46039f"
            ],
            [
             0.2222222222222222,
             "#7201a8"
            ],
            [
             0.3333333333333333,
             "#9c179e"
            ],
            [
             0.4444444444444444,
             "#bd3786"
            ],
            [
             0.5555555555555556,
             "#d8576b"
            ],
            [
             0.6666666666666666,
             "#ed7953"
            ],
            [
             0.7777777777777778,
             "#fb9f3a"
            ],
            [
             0.8888888888888888,
             "#fdca26"
            ],
            [
             1,
             "#f0f921"
            ]
           ]
          },
          "colorway": [
           "#636efa",
           "#EF553B",
           "#00cc96",
           "#ab63fa",
           "#FFA15A",
           "#19d3f3",
           "#FF6692",
           "#B6E880",
           "#FF97FF",
           "#FECB52"
          ],
          "font": {
           "color": "#2a3f5f"
          },
          "geo": {
           "bgcolor": "white",
           "lakecolor": "white",
           "landcolor": "#E5ECF6",
           "showlakes": true,
           "showland": true,
           "subunitcolor": "white"
          },
          "hoverlabel": {
           "align": "left"
          },
          "hovermode": "closest",
          "mapbox": {
           "style": "light"
          },
          "paper_bgcolor": "white",
          "plot_bgcolor": "#E5ECF6",
          "polar": {
           "angularaxis": {
            "gridcolor": "white",
            "linecolor": "white",
            "ticks": ""
           },
           "bgcolor": "#E5ECF6",
           "radialaxis": {
            "gridcolor": "white",
            "linecolor": "white",
            "ticks": ""
           }
          },
          "scene": {
           "xaxis": {
            "backgroundcolor": "#E5ECF6",
            "gridcolor": "white",
            "gridwidth": 2,
            "linecolor": "white",
            "showbackground": true,
            "ticks": "",
            "zerolinecolor": "white"
           },
           "yaxis": {
            "backgroundcolor": "#E5ECF6",
            "gridcolor": "white",
            "gridwidth": 2,
            "linecolor": "white",
            "showbackground": true,
            "ticks": "",
            "zerolinecolor": "white"
           },
           "zaxis": {
            "backgroundcolor": "#E5ECF6",
            "gridcolor": "white",
            "gridwidth": 2,
            "linecolor": "white",
            "showbackground": true,
            "ticks": "",
            "zerolinecolor": "white"
           }
          },
          "shapedefaults": {
           "line": {
            "color": "#2a3f5f"
           }
          },
          "ternary": {
           "aaxis": {
            "gridcolor": "white",
            "linecolor": "white",
            "ticks": ""
           },
           "baxis": {
            "gridcolor": "white",
            "linecolor": "white",
            "ticks": ""
           },
           "bgcolor": "#E5ECF6",
           "caxis": {
            "gridcolor": "white",
            "linecolor": "white",
            "ticks": ""
           }
          },
          "title": {
           "x": 0.05
          },
          "xaxis": {
           "automargin": true,
           "gridcolor": "white",
           "linecolor": "white",
           "ticks": "",
           "title": {
            "standoff": 15
           },
           "zerolinecolor": "white",
           "zerolinewidth": 2
          },
          "yaxis": {
           "automargin": true,
           "gridcolor": "white",
           "linecolor": "white",
           "ticks": "",
           "title": {
            "standoff": 15
           },
           "zerolinecolor": "white",
           "zerolinewidth": 2
          }
         }
        }
       }
      }
     },
     "metadata": {},
     "output_type": "display_data"
    }
   ],
   "source": [
    "visualize_country_personality(country_personality_grouped_2019, location_col='country_iso', color_col='anxiety', hover_col='country_name', color_scale=px.colors.sequential.turbid)"
   ]
  },
  {
   "cell_type": "code",
   "execution_count": 104,
   "metadata": {},
   "outputs": [
    {
     "data": {
      "application/vnd.plotly.v1+json": {
       "config": {
        "plotlyServerURL": "https://plot.ly"
       },
       "data": [
        {
         "coloraxis": "coloraxis",
         "geo": "geo",
         "hovertemplate": "<b>%{hovertext}</b><br><br>country_iso=%{location}<br>cheerfulness=%{z}<extra></extra>",
         "hovertext": [
          "Gabon",
          "The Gambia",
          "Guinea",
          "Guinea-Bissau",
          "Côte d'Ivoire",
          "Cameroon",
          "Cape Verde",
          "Lesotho",
          "Liberia",
          "Libya",
          "Madagascar",
          "Malawi",
          "Mauritania",
          "Mauritius",
          "Morocco",
          "Mozambique",
          "Namibia",
          "Niger",
          "Nigeria",
          "Uganda",
          "Rwanda",
          "São Tomé and Príncipe",
          "Senegal",
          "Seychelles",
          "Sierra Leone",
          "Somalia",
          "Sudan",
          "Kenya",
          "Ethiopia",
          "Ghana",
          "Kosovo",
          "France",
          "United Kingdom",
          "People's Republic of China",
          "Brazil",
          "Russia",
          "Canada",
          "Great Britain",
          "American Samoa",
          "Northern Mariana Islands",
          "Japan",
          "South Vietnam",
          "Germany",
          "Belarus",
          "Iceland",
          "Estonia",
          "Norway",
          "Pahlavi Dynasty",
          "England",
          "Latvia",
          "Ukraine",
          "Aruba",
          "Czech Republic",
          "Slovakia",
          "Slovenia",
          "Moldova",
          "Romania",
          "Bulgaria",
          "North Macedonia",
          "Albania",
          "Croatia",
          "Bosnia and Herzegovina",
          "Azerbaijan",
          "Andorra",
          "Cyprus",
          "Georgia",
          "Kazakhstan",
          "Malta",
          "Monaco",
          "Montenegro",
          "Vatican City",
          "San Marino",
          "Cuba",
          "Belize",
          "Barbados",
          "Republic of Artsakh",
          "Tibet",
          "Wales",
          "Indonesia",
          "Curaçao",
          "South Africa",
          "Algeria",
          "Uzbekistan",
          "Cook Islands",
          "Ireland",
          "Hungary",
          "Spain",
          "Chile",
          "Kingdom of the Netherlands",
          "United States of America",
          "Belgium",
          "Irish Free State",
          "Luxembourg",
          "Finland",
          "Singapore",
          "Sweden",
          "Liechtenstein",
          "Denmark",
          "Poland",
          "Lithuania",
          "Italy",
          "Switzerland",
          "Bahrain",
          "Armenia",
          "Austria",
          "Serbia",
          "Sahrawi Arab Democratic Republic",
          "Australia",
          "Greece",
          "Argentina",
          "Peru",
          "North Korea",
          "Cambodia",
          "Turkey",
          "German Empire",
          "Portugal",
          "Netherlands",
          "Timor-Leste",
          "Zaire",
          "Chad",
          "New Zealand",
          "India",
          "Tuvalu",
          "Tonga",
          "Samoa",
          "Solomon Islands",
          "Vanuatu",
          "Papua New Guinea",
          "Palau",
          "Nauru",
          "Federated States of Micronesia",
          "Marshall Islands",
          "Kiribati",
          "Mongolia",
          "Fiji",
          "Venezuela",
          "Suriname",
          "Paraguay",
          "Guyana",
          "Ecuador",
          "Colombia",
          "Bolivia",
          "Trinidad and Tobago",
          "Saint Vincent and the Grenadines",
          "Saint Lucia",
          "Saint Kitts and Nevis",
          "Jamaica",
          "Grenada",
          "Uruguay",
          "Guatemala",
          "The Bahamas",
          "Antigua and Barbuda",
          "Honduras",
          "Dominica",
          "Dominican Republic",
          "Egypt",
          "Haiti",
          "El Salvador",
          "Iran",
          "Iraq",
          "Costa Rica",
          "Israel",
          "Panama",
          "Yemen",
          "Jordan",
          "Nicaragua",
          "Kyrgyzstan",
          "Kuwait",
          "Laos",
          "Lebanon",
          "Maldives",
          "Malaysia",
          "Myanmar",
          "Nepal",
          "Oman",
          "Pakistan",
          "Qatar",
          "Saudi Arabia",
          "Sri Lanka",
          "Syria",
          "Tajikistan",
          "Taiwan",
          "Thailand",
          "Turkmenistan",
          "United Arab Emirates",
          "Vietnam",
          "South Korea",
          "Afghanistan",
          "Bangladesh",
          "Transnistria",
          "Mali",
          "Angola",
          "Bhutan",
          "Brunei",
          "Tanzania",
          "Philippines",
          "Central African Republic",
          "Togo",
          "Tunisia",
          "Zambia",
          "Zimbabwe",
          "South Sudan",
          "Mexico",
          "Benin",
          "Botswana",
          "Burkina Faso",
          "Burundi",
          "Comoros",
          "Republic of the Congo",
          "Democratic Republic of the Congo",
          "Djibouti",
          "Equatorial Guinea",
          "Eritrea"
         ],
         "locations": [
          "GAB",
          "GMB",
          "GIN",
          "GNB",
          "CIV",
          "CMR",
          "CPV",
          "LSO",
          "LBR",
          "LBY",
          "MDG",
          "MWI",
          "MRT",
          "MUS",
          "MAR",
          "MOZ",
          "NAM",
          "NER",
          "NGA",
          "UGA",
          "RWA",
          "STP",
          "SEN",
          "SYC",
          "SLE",
          "SOM",
          "SDN",
          "KEN",
          "ETH",
          "GHA",
          "XKS",
          "FRA",
          "GBR",
          "CHN",
          "BRA",
          "RUS",
          "CAN",
          null,
          "ASM",
          "MNP",
          "JPN",
          null,
          "DEU",
          "BLR",
          "ISL",
          "EST",
          "NOR",
          null,
          null,
          "LVA",
          "UKR",
          "ABW",
          "CZE",
          "SVK",
          "SVN",
          "MDA",
          "ROU",
          "BGR",
          "MKD",
          "ALB",
          "HRV",
          "BIH",
          "AZE",
          "AND",
          "CYP",
          "GEO",
          "KAZ",
          "MLT",
          "MCO",
          "MNE",
          "VAT",
          "SMR",
          "CUB",
          "BLZ",
          "BRB",
          null,
          null,
          null,
          "IDN",
          "CUW",
          "ZAF",
          "DZA",
          "UZB",
          "COK",
          "IRL",
          "HUN",
          "ESP",
          "CHL",
          "NLD",
          "USA",
          "BEL",
          null,
          "LUX",
          "FIN",
          "SGP",
          "SWE",
          "LIE",
          "DNK",
          "POL",
          "LTU",
          "ITA",
          "CHE",
          "BHR",
          "ARM",
          "AUT",
          "SRB",
          "ESH",
          "AUS",
          "GRC",
          "ARG",
          "PER",
          "PRK",
          "KHM",
          "TUR",
          null,
          "PRT",
          "NLD",
          "TLS",
          null,
          "TCD",
          "NZL",
          "IND",
          "TUV",
          "TON",
          "WSM",
          "SLB",
          "VUT",
          "PNG",
          "PLW",
          "NRU",
          "FSM",
          "MHL",
          "KIR",
          "MNG",
          "FJI",
          "VEN",
          "SUR",
          "PRY",
          "GUY",
          "ECU",
          "COL",
          "BOL",
          "TTO",
          "VCT",
          "LCA",
          "KNA",
          "JAM",
          "GRD",
          "URY",
          "GTM",
          "BHS",
          "ATG",
          "HND",
          "DMA",
          "DOM",
          "EGY",
          "HTI",
          "SLV",
          "IRN",
          "IRQ",
          "CRI",
          "ISR",
          "PAN",
          "YEM",
          "JOR",
          "NIC",
          "KGZ",
          "KWT",
          "LAO",
          "LBN",
          "MDV",
          "MYS",
          "MMR",
          "NPL",
          "OMN",
          "PAK",
          "QAT",
          "SAU",
          "LKA",
          "SYR",
          "TJK",
          "TWN",
          "THA",
          "TKM",
          "ARE",
          "VNM",
          "KOR",
          "AFG",
          "BGD",
          null,
          "MLI",
          "AGO",
          "BTN",
          "BRN",
          "TZA",
          "PHL",
          "CAF",
          "TGO",
          "TUN",
          "ZMB",
          "ZWE",
          "SSD",
          "MEX",
          "BEN",
          "BWA",
          "BFA",
          "BDI",
          "COM",
          "COG",
          "COD",
          "DJI",
          "GNQ",
          "ERI"
         ],
         "name": "",
         "type": "choropleth",
         "z": [
          0.7200506858666419,
          0.6732817278990252,
          0.8165116359414307,
          0.7879639061249859,
          0.7470684074950198,
          0.7317904413033705,
          0.7606818390876384,
          0.7495199905835452,
          0.8107431640224984,
          0.6171883810629861,
          0,
          0.6508003208055548,
          0.739682763831716,
          0.7695094533375663,
          0.732572533147436,
          0.7706786417899665,
          0.663510818507705,
          0.5805526982688761,
          0.6423529152827901,
          0.656822607788048,
          0.7390714427024541,
          0.6674144364227449,
          0.7754876759391963,
          0.7666107394466596,
          0.7487040927729645,
          0.6941919685894551,
          0.7229639489869352,
          0.6463958791951827,
          0.7517268620778708,
          0.6746518871889639,
          0.6650068286145718,
          0.7480073467700746,
          0.7508742263658774,
          0.6568919840847646,
          0.7773064749672902,
          0.5904981434691907,
          0.7501726866098515,
          0.708529950984265,
          0.8779090916771585,
          0.8783380585651321,
          0.7361014867181613,
          1,
          0.7431685785033133,
          0.7792401087056672,
          0.8081048653107296,
          0.6713779920647623,
          0.7427745471083681,
          0.6446292467466225,
          0.7260444941385894,
          0.7471565613041857,
          0.6449849580482664,
          0.9848601445554548,
          0.8521901968858813,
          0.7466280467738341,
          0.7194752600119125,
          0.7056445127310321,
          0.7550280871631851,
          0.6222216940054437,
          0.6442584710521176,
          0.7188772418541437,
          0.7869772909496443,
          0.7229429253668388,
          0.6050169497227671,
          0.7091129443683033,
          0.6178645697651102,
          0.7251799315312605,
          0.6552173854944658,
          0.6189936119286491,
          0.6860558257834904,
          0.7429553195862293,
          0.686496028413742,
          0.8671216833573531,
          0.779264500923134,
          0.722459310193884,
          0.7629115430828542,
          0.9169517669345245,
          0.7095397664834516,
          0.7312130198864779,
          0.6502089107648725,
          0.812700766888672,
          0.7311090146032324,
          0.6479870050786368,
          0.7801863388813526,
          0.7256031351691595,
          0.7007669713461384,
          0.6656120957117507,
          0.805407702362317,
          0.7806630619975613,
          0.7616817843783072,
          0.7085513250841637,
          0.7639702025839313,
          0.7308926873556807,
          0.7540530723521782,
          0.7801700503646288,
          0.6915178840328082,
          0.7948673518572013,
          0.6745745985835132,
          0.7071296265637032,
          0.6680239088226749,
          0.7187750595842558,
          0.7378845839768817,
          0.7512811203781873,
          0.6371252713032471,
          0.6079423134736907,
          0.7057131330725034,
          0.8016242377449402,
          0.5226762885080078,
          0.6818469134320899,
          0.6512826449906784,
          0.7663673640905554,
          0.7560437794980973,
          0.5960639124196401,
          0.5834250801709951,
          0.6458242628161022,
          0.8303389315199646,
          0.7994219685011581,
          0.6176925718611181,
          0.49095558465087247,
          0.07409971945541464,
          0.7133063568107806,
          0.7216671809926875,
          0.5989386565600757,
          0.6112769353118214,
          0.8755313621202939,
          0.7433008255139912,
          0.6451510275365455,
          0.7541481232561238,
          0.6653153418714681,
          0.6530467677914029,
          0.7365351332870063,
          0.7912372326554251,
          0.753488505824498,
          0.7272189772385246,
          0.5139584010636247,
          0.6790187886985122,
          0.8096023992316634,
          0.7835386728336416,
          0.7311338716836818,
          0.6979801128259984,
          0.7915064772819153,
          0.8045586420341581,
          0.7174474581615353,
          0.7575030049396894,
          0.7689765398201992,
          0.7588961755506708,
          0.6769694850995956,
          0.7354951832490897,
          0.7008484954558312,
          0.767005640282752,
          0.6880435604237224,
          0.7557355171703136,
          0.7258404337564479,
          0.7496019189577549,
          0.7511256629061653,
          0.8339260039975528,
          0.6780059557688396,
          0.7515913274899693,
          0.7444703543537667,
          0.71035731958852,
          0.6551677708845399,
          0.7815251631742364,
          0.5988227585379821,
          0.7568599976646821,
          0.7119065900891263,
          0.6604470302769306,
          0.7360307389734627,
          0.4621484417262231,
          0.6510869562902175,
          0.6292160836711203,
          0.6638490612636756,
          0.6789898816141763,
          0.5777617283956523,
          0.6702405644061304,
          0.6761052923390286,
          0.6794003469304933,
          0.6562667599646705,
          0.7195245212478479,
          0.720352657098744,
          0.6111503371576651,
          0.6847467855169038,
          0.7485446839589402,
          0.6637877694790115,
          0.6554251620510912,
          0.8303230565670492,
          0.6729000655498816,
          0.7456254217833775,
          0.6426138519447756,
          0.7086802010515377,
          0.6542354646207558,
          0.35955204781206873,
          0.7545063692668017,
          0.6802921681362207,
          0.5733654306193997,
          0.618315752807171,
          0.6039533648248103,
          0.6800217725394367,
          0.5893911315841992,
          0.7256943276608306,
          0.7886767912118529,
          0.7131549960399074,
          0.7390741289732833,
          0.859046631882,
          0.7790971247220998,
          0.7389277454007152,
          0.7161158932175218,
          0.7277243865964904,
          0.7486198929670241,
          0.6035554860702457,
          0.503400548650274,
          0.7234472609989165,
          0.761642376766507,
          0.7025632103996795,
          0.7265916235957879
         ]
        }
       ],
       "layout": {
        "coloraxis": {
         "colorbar": {
          "title": {
           "text": "cheerfulness"
          }
         },
         "colorscale": [
          [
           0,
           "rgb(150,0,90)"
          ],
          [
           0.125,
           "rgb(0,0,200)"
          ],
          [
           0.25,
           "rgb(0,25,255)"
          ],
          [
           0.375,
           "rgb(0,152,255)"
          ],
          [
           0.5,
           "rgb(44,255,150)"
          ],
          [
           0.625,
           "rgb(151,255,0)"
          ],
          [
           0.75,
           "rgb(255,234,0)"
          ],
          [
           0.875,
           "rgb(255,111,0)"
          ],
          [
           1,
           "rgb(255,0,0)"
          ]
         ]
        },
        "geo": {
         "center": {},
         "domain": {
          "x": [
           0,
           1
          ],
          "y": [
           0,
           1
          ]
         }
        },
        "legend": {
         "tracegroupgap": 0
        },
        "margin": {
         "t": 60
        },
        "template": {
         "data": {
          "bar": [
           {
            "error_x": {
             "color": "#2a3f5f"
            },
            "error_y": {
             "color": "#2a3f5f"
            },
            "marker": {
             "line": {
              "color": "#E5ECF6",
              "width": 0.5
             },
             "pattern": {
              "fillmode": "overlay",
              "size": 10,
              "solidity": 0.2
             }
            },
            "type": "bar"
           }
          ],
          "barpolar": [
           {
            "marker": {
             "line": {
              "color": "#E5ECF6",
              "width": 0.5
             },
             "pattern": {
              "fillmode": "overlay",
              "size": 10,
              "solidity": 0.2
             }
            },
            "type": "barpolar"
           }
          ],
          "carpet": [
           {
            "aaxis": {
             "endlinecolor": "#2a3f5f",
             "gridcolor": "white",
             "linecolor": "white",
             "minorgridcolor": "white",
             "startlinecolor": "#2a3f5f"
            },
            "baxis": {
             "endlinecolor": "#2a3f5f",
             "gridcolor": "white",
             "linecolor": "white",
             "minorgridcolor": "white",
             "startlinecolor": "#2a3f5f"
            },
            "type": "carpet"
           }
          ],
          "choropleth": [
           {
            "colorbar": {
             "outlinewidth": 0,
             "ticks": ""
            },
            "type": "choropleth"
           }
          ],
          "contour": [
           {
            "colorbar": {
             "outlinewidth": 0,
             "ticks": ""
            },
            "colorscale": [
             [
              0,
              "#0d0887"
             ],
             [
              0.1111111111111111,
              "#46039f"
             ],
             [
              0.2222222222222222,
              "#7201a8"
             ],
             [
              0.3333333333333333,
              "#9c179e"
             ],
             [
              0.4444444444444444,
              "#bd3786"
             ],
             [
              0.5555555555555556,
              "#d8576b"
             ],
             [
              0.6666666666666666,
              "#ed7953"
             ],
             [
              0.7777777777777778,
              "#fb9f3a"
             ],
             [
              0.8888888888888888,
              "#fdca26"
             ],
             [
              1,
              "#f0f921"
             ]
            ],
            "type": "contour"
           }
          ],
          "contourcarpet": [
           {
            "colorbar": {
             "outlinewidth": 0,
             "ticks": ""
            },
            "type": "contourcarpet"
           }
          ],
          "heatmap": [
           {
            "colorbar": {
             "outlinewidth": 0,
             "ticks": ""
            },
            "colorscale": [
             [
              0,
              "#0d0887"
             ],
             [
              0.1111111111111111,
              "#46039f"
             ],
             [
              0.2222222222222222,
              "#7201a8"
             ],
             [
              0.3333333333333333,
              "#9c179e"
             ],
             [
              0.4444444444444444,
              "#bd3786"
             ],
             [
              0.5555555555555556,
              "#d8576b"
             ],
             [
              0.6666666666666666,
              "#ed7953"
             ],
             [
              0.7777777777777778,
              "#fb9f3a"
             ],
             [
              0.8888888888888888,
              "#fdca26"
             ],
             [
              1,
              "#f0f921"
             ]
            ],
            "type": "heatmap"
           }
          ],
          "heatmapgl": [
           {
            "colorbar": {
             "outlinewidth": 0,
             "ticks": ""
            },
            "colorscale": [
             [
              0,
              "#0d0887"
             ],
             [
              0.1111111111111111,
              "#46039f"
             ],
             [
              0.2222222222222222,
              "#7201a8"
             ],
             [
              0.3333333333333333,
              "#9c179e"
             ],
             [
              0.4444444444444444,
              "#bd3786"
             ],
             [
              0.5555555555555556,
              "#d8576b"
             ],
             [
              0.6666666666666666,
              "#ed7953"
             ],
             [
              0.7777777777777778,
              "#fb9f3a"
             ],
             [
              0.8888888888888888,
              "#fdca26"
             ],
             [
              1,
              "#f0f921"
             ]
            ],
            "type": "heatmapgl"
           }
          ],
          "histogram": [
           {
            "marker": {
             "pattern": {
              "fillmode": "overlay",
              "size": 10,
              "solidity": 0.2
             }
            },
            "type": "histogram"
           }
          ],
          "histogram2d": [
           {
            "colorbar": {
             "outlinewidth": 0,
             "ticks": ""
            },
            "colorscale": [
             [
              0,
              "#0d0887"
             ],
             [
              0.1111111111111111,
              "#46039f"
             ],
             [
              0.2222222222222222,
              "#7201a8"
             ],
             [
              0.3333333333333333,
              "#9c179e"
             ],
             [
              0.4444444444444444,
              "#bd3786"
             ],
             [
              0.5555555555555556,
              "#d8576b"
             ],
             [
              0.6666666666666666,
              "#ed7953"
             ],
             [
              0.7777777777777778,
              "#fb9f3a"
             ],
             [
              0.8888888888888888,
              "#fdca26"
             ],
             [
              1,
              "#f0f921"
             ]
            ],
            "type": "histogram2d"
           }
          ],
          "histogram2dcontour": [
           {
            "colorbar": {
             "outlinewidth": 0,
             "ticks": ""
            },
            "colorscale": [
             [
              0,
              "#0d0887"
             ],
             [
              0.1111111111111111,
              "#46039f"
             ],
             [
              0.2222222222222222,
              "#7201a8"
             ],
             [
              0.3333333333333333,
              "#9c179e"
             ],
             [
              0.4444444444444444,
              "#bd3786"
             ],
             [
              0.5555555555555556,
              "#d8576b"
             ],
             [
              0.6666666666666666,
              "#ed7953"
             ],
             [
              0.7777777777777778,
              "#fb9f3a"
             ],
             [
              0.8888888888888888,
              "#fdca26"
             ],
             [
              1,
              "#f0f921"
             ]
            ],
            "type": "histogram2dcontour"
           }
          ],
          "mesh3d": [
           {
            "colorbar": {
             "outlinewidth": 0,
             "ticks": ""
            },
            "type": "mesh3d"
           }
          ],
          "parcoords": [
           {
            "line": {
             "colorbar": {
              "outlinewidth": 0,
              "ticks": ""
             }
            },
            "type": "parcoords"
           }
          ],
          "pie": [
           {
            "automargin": true,
            "type": "pie"
           }
          ],
          "scatter": [
           {
            "marker": {
             "colorbar": {
              "outlinewidth": 0,
              "ticks": ""
             }
            },
            "type": "scatter"
           }
          ],
          "scatter3d": [
           {
            "line": {
             "colorbar": {
              "outlinewidth": 0,
              "ticks": ""
             }
            },
            "marker": {
             "colorbar": {
              "outlinewidth": 0,
              "ticks": ""
             }
            },
            "type": "scatter3d"
           }
          ],
          "scattercarpet": [
           {
            "marker": {
             "colorbar": {
              "outlinewidth": 0,
              "ticks": ""
             }
            },
            "type": "scattercarpet"
           }
          ],
          "scattergeo": [
           {
            "marker": {
             "colorbar": {
              "outlinewidth": 0,
              "ticks": ""
             }
            },
            "type": "scattergeo"
           }
          ],
          "scattergl": [
           {
            "marker": {
             "colorbar": {
              "outlinewidth": 0,
              "ticks": ""
             }
            },
            "type": "scattergl"
           }
          ],
          "scattermapbox": [
           {
            "marker": {
             "colorbar": {
              "outlinewidth": 0,
              "ticks": ""
             }
            },
            "type": "scattermapbox"
           }
          ],
          "scatterpolar": [
           {
            "marker": {
             "colorbar": {
              "outlinewidth": 0,
              "ticks": ""
             }
            },
            "type": "scatterpolar"
           }
          ],
          "scatterpolargl": [
           {
            "marker": {
             "colorbar": {
              "outlinewidth": 0,
              "ticks": ""
             }
            },
            "type": "scatterpolargl"
           }
          ],
          "scatterternary": [
           {
            "marker": {
             "colorbar": {
              "outlinewidth": 0,
              "ticks": ""
             }
            },
            "type": "scatterternary"
           }
          ],
          "surface": [
           {
            "colorbar": {
             "outlinewidth": 0,
             "ticks": ""
            },
            "colorscale": [
             [
              0,
              "#0d0887"
             ],
             [
              0.1111111111111111,
              "#46039f"
             ],
             [
              0.2222222222222222,
              "#7201a8"
             ],
             [
              0.3333333333333333,
              "#9c179e"
             ],
             [
              0.4444444444444444,
              "#bd3786"
             ],
             [
              0.5555555555555556,
              "#d8576b"
             ],
             [
              0.6666666666666666,
              "#ed7953"
             ],
             [
              0.7777777777777778,
              "#fb9f3a"
             ],
             [
              0.8888888888888888,
              "#fdca26"
             ],
             [
              1,
              "#f0f921"
             ]
            ],
            "type": "surface"
           }
          ],
          "table": [
           {
            "cells": {
             "fill": {
              "color": "#EBF0F8"
             },
             "line": {
              "color": "white"
             }
            },
            "header": {
             "fill": {
              "color": "#C8D4E3"
             },
             "line": {
              "color": "white"
             }
            },
            "type": "table"
           }
          ]
         },
         "layout": {
          "annotationdefaults": {
           "arrowcolor": "#2a3f5f",
           "arrowhead": 0,
           "arrowwidth": 1
          },
          "autotypenumbers": "strict",
          "coloraxis": {
           "colorbar": {
            "outlinewidth": 0,
            "ticks": ""
           }
          },
          "colorscale": {
           "diverging": [
            [
             0,
             "#8e0152"
            ],
            [
             0.1,
             "#c51b7d"
            ],
            [
             0.2,
             "#de77ae"
            ],
            [
             0.3,
             "#f1b6da"
            ],
            [
             0.4,
             "#fde0ef"
            ],
            [
             0.5,
             "#f7f7f7"
            ],
            [
             0.6,
             "#e6f5d0"
            ],
            [
             0.7,
             "#b8e186"
            ],
            [
             0.8,
             "#7fbc41"
            ],
            [
             0.9,
             "#4d9221"
            ],
            [
             1,
             "#276419"
            ]
           ],
           "sequential": [
            [
             0,
             "#0d0887"
            ],
            [
             0.1111111111111111,
             "#46039f"
            ],
            [
             0.2222222222222222,
             "#7201a8"
            ],
            [
             0.3333333333333333,
             "#9c179e"
            ],
            [
             0.4444444444444444,
             "#bd3786"
            ],
            [
             0.5555555555555556,
             "#d8576b"
            ],
            [
             0.6666666666666666,
             "#ed7953"
            ],
            [
             0.7777777777777778,
             "#fb9f3a"
            ],
            [
             0.8888888888888888,
             "#fdca26"
            ],
            [
             1,
             "#f0f921"
            ]
           ],
           "sequentialminus": [
            [
             0,
             "#0d0887"
            ],
            [
             0.1111111111111111,
             "#46039f"
            ],
            [
             0.2222222222222222,
             "#7201a8"
            ],
            [
             0.3333333333333333,
             "#9c179e"
            ],
            [
             0.4444444444444444,
             "#bd3786"
            ],
            [
             0.5555555555555556,
             "#d8576b"
            ],
            [
             0.6666666666666666,
             "#ed7953"
            ],
            [
             0.7777777777777778,
             "#fb9f3a"
            ],
            [
             0.8888888888888888,
             "#fdca26"
            ],
            [
             1,
             "#f0f921"
            ]
           ]
          },
          "colorway": [
           "#636efa",
           "#EF553B",
           "#00cc96",
           "#ab63fa",
           "#FFA15A",
           "#19d3f3",
           "#FF6692",
           "#B6E880",
           "#FF97FF",
           "#FECB52"
          ],
          "font": {
           "color": "#2a3f5f"
          },
          "geo": {
           "bgcolor": "white",
           "lakecolor": "white",
           "landcolor": "#E5ECF6",
           "showlakes": true,
           "showland": true,
           "subunitcolor": "white"
          },
          "hoverlabel": {
           "align": "left"
          },
          "hovermode": "closest",
          "mapbox": {
           "style": "light"
          },
          "paper_bgcolor": "white",
          "plot_bgcolor": "#E5ECF6",
          "polar": {
           "angularaxis": {
            "gridcolor": "white",
            "linecolor": "white",
            "ticks": ""
           },
           "bgcolor": "#E5ECF6",
           "radialaxis": {
            "gridcolor": "white",
            "linecolor": "white",
            "ticks": ""
           }
          },
          "scene": {
           "xaxis": {
            "backgroundcolor": "#E5ECF6",
            "gridcolor": "white",
            "gridwidth": 2,
            "linecolor": "white",
            "showbackground": true,
            "ticks": "",
            "zerolinecolor": "white"
           },
           "yaxis": {
            "backgroundcolor": "#E5ECF6",
            "gridcolor": "white",
            "gridwidth": 2,
            "linecolor": "white",
            "showbackground": true,
            "ticks": "",
            "zerolinecolor": "white"
           },
           "zaxis": {
            "backgroundcolor": "#E5ECF6",
            "gridcolor": "white",
            "gridwidth": 2,
            "linecolor": "white",
            "showbackground": true,
            "ticks": "",
            "zerolinecolor": "white"
           }
          },
          "shapedefaults": {
           "line": {
            "color": "#2a3f5f"
           }
          },
          "ternary": {
           "aaxis": {
            "gridcolor": "white",
            "linecolor": "white",
            "ticks": ""
           },
           "baxis": {
            "gridcolor": "white",
            "linecolor": "white",
            "ticks": ""
           },
           "bgcolor": "#E5ECF6",
           "caxis": {
            "gridcolor": "white",
            "linecolor": "white",
            "ticks": ""
           }
          },
          "title": {
           "x": 0.05
          },
          "xaxis": {
           "automargin": true,
           "gridcolor": "white",
           "linecolor": "white",
           "ticks": "",
           "title": {
            "standoff": 15
           },
           "zerolinecolor": "white",
           "zerolinewidth": 2
          },
          "yaxis": {
           "automargin": true,
           "gridcolor": "white",
           "linecolor": "white",
           "ticks": "",
           "title": {
            "standoff": 15
           },
           "zerolinecolor": "white",
           "zerolinewidth": 2
          }
         }
        }
       }
      }
     },
     "metadata": {},
     "output_type": "display_data"
    }
   ],
   "source": [
    "visualize_country_personality(country_personality_grouped_2016, location_col='country_iso', color_col='cheerfulness', hover_col='country_name', color_scale=px.colors.sequential.Rainbow)"
   ]
  },
  {
   "cell_type": "code",
   "execution_count": 105,
   "metadata": {},
   "outputs": [
    {
     "data": {
      "application/vnd.plotly.v1+json": {
       "config": {
        "plotlyServerURL": "https://plot.ly"
       },
       "data": [
        {
         "coloraxis": "coloraxis",
         "geo": "geo",
         "hovertemplate": "<b>%{hovertext}</b><br><br>country_iso=%{location}<br>cheerfulness=%{z}<extra></extra>",
         "hovertext": [
          "Gabon",
          "The Gambia",
          "Guinea",
          "Guinea-Bissau",
          "Côte d'Ivoire",
          "Cameroon",
          "Cape Verde",
          "Lesotho",
          "Liberia",
          "Libya",
          "Madagascar",
          "Malawi",
          "Mauritania",
          "Mauritius",
          "Morocco",
          "Mozambique",
          "Namibia",
          "Niger",
          "Nigeria",
          "Uganda",
          "Rwanda",
          "São Tomé and Príncipe",
          "Senegal",
          "Seychelles",
          "Sierra Leone",
          "Somalia",
          "Sudan",
          "Kenya",
          "Ethiopia",
          "Ghana",
          "Kosovo",
          "France",
          "United Kingdom",
          "People's Republic of China",
          "Brazil",
          "Russia",
          "Canada",
          "Great Britain",
          "American Samoa",
          "Northern Mariana Islands",
          "Japan",
          "North Vietnam",
          "South Vietnam",
          "Germany",
          "Belarus",
          "Iceland",
          "Estonia",
          "Norway",
          "Pahlavi Dynasty",
          "England",
          "Latvia",
          "Ukraine",
          "Aruba",
          "Czech Republic",
          "Slovakia",
          "Slovenia",
          "Moldova",
          "Romania",
          "Bulgaria",
          "North Macedonia",
          "Albania",
          "Croatia",
          "Bosnia and Herzegovina",
          "Azerbaijan",
          "Andorra",
          "Cyprus",
          "Georgia",
          "Kazakhstan",
          "Malta",
          "Monaco",
          "Montenegro",
          "Vatican City",
          "San Marino",
          "Cuba",
          "Belize",
          "Barbados",
          "Republic of Artsakh",
          "Tibet",
          "Wales",
          "Indonesia",
          "Curaçao",
          "South Africa",
          "Algeria",
          "Uzbekistan",
          "Cook Islands",
          "Ireland",
          "Hungary",
          "Spain",
          "Chile",
          "Kingdom of the Netherlands",
          "United States of America",
          "Belgium",
          "Irish Free State",
          "Luxembourg",
          "Finland",
          "Singapore",
          "Sweden",
          "Niue",
          "Liechtenstein",
          "Somaliland",
          "Denmark",
          "Poland",
          "Lithuania",
          "Italy",
          "Switzerland",
          "Bahrain",
          "Armenia",
          "Austria",
          "Serbia",
          "Sahrawi Arab Democratic Republic",
          "Australia",
          "Greece",
          "Argentina",
          "Peru",
          "North Korea",
          "Cambodia",
          "Turkey",
          "German Empire",
          "Portugal",
          "Netherlands",
          "Timor-Leste",
          "Chad",
          "New Zealand",
          "India",
          "Tuvalu",
          "Tonga",
          "Samoa",
          "Solomon Islands",
          "Vanuatu",
          "Papua New Guinea",
          "Palau",
          "Nauru",
          "Federated States of Micronesia",
          "Marshall Islands",
          "Kiribati",
          "Mongolia",
          "Fiji",
          "Venezuela",
          "Suriname",
          "Paraguay",
          "Guyana",
          "Ecuador",
          "Colombia",
          "Bolivia",
          "Trinidad and Tobago",
          "Danish Realm",
          "Saint Vincent and the Grenadines",
          "Saint Lucia",
          "Saint Kitts and Nevis",
          "Jamaica",
          "Grenada",
          "Uruguay",
          "Guatemala",
          "The Bahamas",
          "Antigua and Barbuda",
          "Honduras",
          "Dominica",
          "Dominican Republic",
          "Egypt",
          "Haiti",
          "El Salvador",
          "Iran",
          "Iraq",
          "Republic of Upper Volta",
          "Costa Rica",
          "Israel",
          "Panama",
          "Yemen",
          "Jordan",
          "Nicaragua",
          "Kyrgyzstan",
          "Kuwait",
          "Laos",
          "Lebanon",
          "Maldives",
          "Malaysia",
          "Myanmar",
          "Nepal",
          "Oman",
          "Pakistan",
          "Qatar",
          "Saudi Arabia",
          "Sri Lanka",
          "Syria",
          "Tajikistan",
          "Taiwan",
          "Thailand",
          "Turkmenistan",
          "United Arab Emirates",
          "Vietnam",
          "South Korea",
          "Afghanistan",
          "Bangladesh",
          "Transnistria",
          "Mali",
          "Angola",
          "Bhutan",
          "Brunei",
          "Tanzania",
          "Philippines",
          "Central African Republic",
          "Togo",
          "Tunisia",
          "Zambia",
          "Zimbabwe",
          "South Sudan",
          "Mexico",
          "Benin",
          "Botswana",
          "Burkina Faso",
          "Burundi",
          "Comoros",
          "Republic of the Congo",
          "Democratic Republic of the Congo",
          "Djibouti",
          "Equatorial Guinea",
          "Eritrea"
         ],
         "locations": [
          "GAB",
          "GMB",
          "GIN",
          "GNB",
          "CIV",
          "CMR",
          "CPV",
          "LSO",
          "LBR",
          "LBY",
          "MDG",
          "MWI",
          "MRT",
          "MUS",
          "MAR",
          "MOZ",
          "NAM",
          "NER",
          "NGA",
          "UGA",
          "RWA",
          "STP",
          "SEN",
          "SYC",
          "SLE",
          "SOM",
          "SDN",
          "KEN",
          "ETH",
          "GHA",
          "XKS",
          "FRA",
          "GBR",
          "CHN",
          "BRA",
          "RUS",
          "CAN",
          null,
          "ASM",
          "MNP",
          "JPN",
          null,
          null,
          "DEU",
          "BLR",
          "ISL",
          "EST",
          "NOR",
          null,
          null,
          "LVA",
          "UKR",
          "ABW",
          "CZE",
          "SVK",
          "SVN",
          "MDA",
          "ROU",
          "BGR",
          "MKD",
          "ALB",
          "HRV",
          "BIH",
          "AZE",
          "AND",
          "CYP",
          "GEO",
          "KAZ",
          "MLT",
          "MCO",
          "MNE",
          "VAT",
          "SMR",
          "CUB",
          "BLZ",
          "BRB",
          null,
          null,
          null,
          "IDN",
          "CUW",
          "ZAF",
          "DZA",
          "UZB",
          "COK",
          "IRL",
          "HUN",
          "ESP",
          "CHL",
          "NLD",
          "USA",
          "BEL",
          null,
          "LUX",
          "FIN",
          "SGP",
          "SWE",
          "NIU",
          "LIE",
          null,
          "DNK",
          "POL",
          "LTU",
          "ITA",
          "CHE",
          "BHR",
          "ARM",
          "AUT",
          "SRB",
          "ESH",
          "AUS",
          "GRC",
          "ARG",
          "PER",
          "PRK",
          "KHM",
          "TUR",
          null,
          "PRT",
          "NLD",
          "TLS",
          "TCD",
          "NZL",
          "IND",
          "TUV",
          "TON",
          "WSM",
          "SLB",
          "VUT",
          "PNG",
          "PLW",
          "NRU",
          "FSM",
          "MHL",
          "KIR",
          "MNG",
          "FJI",
          "VEN",
          "SUR",
          "PRY",
          "GUY",
          "ECU",
          "COL",
          "BOL",
          "TTO",
          "DNK",
          "VCT",
          "LCA",
          "KNA",
          "JAM",
          "GRD",
          "URY",
          "GTM",
          "BHS",
          "ATG",
          "HND",
          "DMA",
          "DOM",
          "EGY",
          "HTI",
          "SLV",
          "IRN",
          "IRQ",
          "HVO",
          "CRI",
          "ISR",
          "PAN",
          "YEM",
          "JOR",
          "NIC",
          "KGZ",
          "KWT",
          "LAO",
          "LBN",
          "MDV",
          "MYS",
          "MMR",
          "NPL",
          "OMN",
          "PAK",
          "QAT",
          "SAU",
          "LKA",
          "SYR",
          "TJK",
          "TWN",
          "THA",
          "TKM",
          "ARE",
          "VNM",
          "KOR",
          "AFG",
          "BGD",
          null,
          "MLI",
          "AGO",
          "BTN",
          "BRN",
          "TZA",
          "PHL",
          "CAF",
          "TGO",
          "TUN",
          "ZMB",
          "ZWE",
          "SSD",
          "MEX",
          "BEN",
          "BWA",
          "BFA",
          "BDI",
          "COM",
          "COG",
          "COD",
          "DJI",
          "GNQ",
          "ERI"
         ],
         "name": "",
         "type": "choropleth",
         "z": [
          0.362165610340974,
          0.38333321408133253,
          0.39627169703850496,
          0.323351287327809,
          0.3943635167263654,
          0.3910361031331615,
          0.3347355073044495,
          0.38727272095790705,
          0.37844559874872524,
          0.24747728302575642,
          0.314805010191585,
          0.3313537139470031,
          0.37243459956818864,
          0.2436779369535133,
          0.34850223548034787,
          0.347259469639811,
          0.3403832535363711,
          0.2623440586733339,
          0.3109675860184509,
          0.3128172655566238,
          0.37747065613197833,
          0.2858973487526588,
          0.44205639074388053,
          0.3600379015699954,
          0.3891314367286222,
          0.37457763285859114,
          0.32118277404119117,
          0.3000957620787417,
          0.33953383401220294,
          0.3329305082334889,
          0.31073790226445386,
          0.3762611507759684,
          0.3888002357649954,
          0.30332921243593136,
          0.4056159929431689,
          0.273509228256696,
          0.39939589973879525,
          0.34736454696020147,
          0.5741015230461802,
          0.3578275712496971,
          0.3570139305115323,
          1,
          0.20227901606798013,
          0.3782470785567627,
          0.34720886563908904,
          0.41448545080599686,
          0.3239770376172977,
          0.3763452975838052,
          0.32583356054127416,
          0.395138482714469,
          0.36960053855862746,
          0.2510785084883732,
          0.39695063931420577,
          0.4536267630610421,
          0.3816466904979931,
          0.37123714671578034,
          0.2921269326081735,
          0.39307129847842837,
          0.24732556328305777,
          0.3068500718261752,
          0.2954681790914544,
          0.41122436647574145,
          0.36892732137162404,
          0.24827970592568294,
          0.38130708855396245,
          0.25948271923127547,
          0.3343136601672736,
          0.30740160283570955,
          0.3038606829746837,
          0.39493506866696476,
          0.3512925047858418,
          0.3450951093441843,
          0.34620600494295467,
          0.4075347375036521,
          0.34457338752945205,
          0.39495269374704445,
          0.10686684150153747,
          0.14631489464670958,
          0.3737007567161716,
          0.29646033668492866,
          0.492182959602062,
          0.3468854286725709,
          0.29047479325014897,
          0.41198071229370986,
          0.42638849797778644,
          0.32956162430586805,
          0.34714339369438046,
          0.42343227496661817,
          0.3743885516810406,
          0.4102750428515828,
          0.343803279605264,
          0.4215508181791625,
          0.3741419977324835,
          0.3662659565382527,
          0.4151835470973988,
          0.31096715859949786,
          0.4001148748437936,
          0.5594720594121606,
          0.37212607542184273,
          0.3985610652607695,
          0.35457636546216786,
          0.3508823457652774,
          0.3739568276808108,
          0.408210396978016,
          0.3885460536653413,
          0.3630753531819094,
          0.35836524962611915,
          0.34213669748785436,
          0.442681426475062,
          0.29469676748308277,
          0.30987788470342975,
          0.29932859887898966,
          0.41034209249059284,
          0.38447963541693597,
          0.29568743408078146,
          0.2957178205889098,
          0.3098784332834001,
          0.49294933252281736,
          0.40408527271697803,
          0.33629839010598206,
          0.3500986734648471,
          0.27946328347218,
          0.35722547966527485,
          0.2698679506255496,
          0.3320152502187125,
          0.4233012764680526,
          0.3772096456385646,
          0.3427571722730063,
          0.4309486164356349,
          0.36327951978179013,
          0.4208104665909941,
          0.31199578740585965,
          0.27627092161884376,
          0.32782845185228726,
          0.3198448569904921,
          0.41216997240890735,
          0.38237995054543367,
          0.43864425718353783,
          0.4269784820549229,
          0.3903697273084675,
          0.3508430621850979,
          0.3956306181085965,
          0.4201068498861377,
          0.33855182692030505,
          0.37429255091845004,
          0.5567833386478717,
          0.39938553139321437,
          0.27956311463638883,
          0.3732602343167729,
          0.3636486095594937,
          0.4358454461066532,
          0.3986736344123648,
          0.37719352230735875,
          0.399520803299267,
          0.37110751122024255,
          0.3773086453424124,
          0.4049347288293657,
          0.45530661783264637,
          0.345828492224927,
          0.38828541407894734,
          0.37908191092751087,
          0.29251423151181316,
          0.31236485456261076,
          0,
          0.40672375879853634,
          0.25319233911964995,
          0.40954364148096817,
          0.3463332048455835,
          0.3134426363860204,
          0.39590469826950614,
          0.29158267850342834,
          0.3602552471364502,
          0.41586411943809304,
          0.2771670936195256,
          0.3385908848799109,
          0.23312795364961694,
          0.36202158990713823,
          0.26946367103215535,
          0.36030123662631014,
          0.28008062825560565,
          0.3843920329233117,
          0.32317850685521615,
          0.2638005136732289,
          0.3501597324273911,
          0.38768070205362526,
          0.3168678783347032,
          0.33273877354316417,
          0.4373433699142536,
          0.31797414798499296,
          0.36094449313843424,
          0.32265353467420627,
          0.31347056732795564,
          0.28503353233423806,
          0.2736156986537167,
          0.35098078318723064,
          0.37355884120153116,
          0.299663118079555,
          0.26919449093034853,
          0.2593814656212103,
          0.3249638479784215,
          0.37745346467284707,
          0.3813397986710413,
          0.42224719555829615,
          0.36178070116113886,
          0.3577044615026206,
          0.35135401473118644,
          0.3787645271286579,
          0.41414824178021525,
          0.29547218612019266,
          0.4128033417924149,
          0.2863642358454619,
          0.3056467705513312,
          0.27787991934786055,
          0.4063521842871829,
          0.27908431035454795,
          0.3293953236742397,
          0.3436365220509744
         ]
        }
       ],
       "layout": {
        "coloraxis": {
         "colorbar": {
          "title": {
           "text": "cheerfulness"
          }
         },
         "colorscale": [
          [
           0,
           "rgb(150,0,90)"
          ],
          [
           0.125,
           "rgb(0,0,200)"
          ],
          [
           0.25,
           "rgb(0,25,255)"
          ],
          [
           0.375,
           "rgb(0,152,255)"
          ],
          [
           0.5,
           "rgb(44,255,150)"
          ],
          [
           0.625,
           "rgb(151,255,0)"
          ],
          [
           0.75,
           "rgb(255,234,0)"
          ],
          [
           0.875,
           "rgb(255,111,0)"
          ],
          [
           1,
           "rgb(255,0,0)"
          ]
         ]
        },
        "geo": {
         "center": {},
         "domain": {
          "x": [
           0,
           1
          ],
          "y": [
           0,
           1
          ]
         }
        },
        "legend": {
         "tracegroupgap": 0
        },
        "margin": {
         "t": 60
        },
        "template": {
         "data": {
          "bar": [
           {
            "error_x": {
             "color": "#2a3f5f"
            },
            "error_y": {
             "color": "#2a3f5f"
            },
            "marker": {
             "line": {
              "color": "#E5ECF6",
              "width": 0.5
             },
             "pattern": {
              "fillmode": "overlay",
              "size": 10,
              "solidity": 0.2
             }
            },
            "type": "bar"
           }
          ],
          "barpolar": [
           {
            "marker": {
             "line": {
              "color": "#E5ECF6",
              "width": 0.5
             },
             "pattern": {
              "fillmode": "overlay",
              "size": 10,
              "solidity": 0.2
             }
            },
            "type": "barpolar"
           }
          ],
          "carpet": [
           {
            "aaxis": {
             "endlinecolor": "#2a3f5f",
             "gridcolor": "white",
             "linecolor": "white",
             "minorgridcolor": "white",
             "startlinecolor": "#2a3f5f"
            },
            "baxis": {
             "endlinecolor": "#2a3f5f",
             "gridcolor": "white",
             "linecolor": "white",
             "minorgridcolor": "white",
             "startlinecolor": "#2a3f5f"
            },
            "type": "carpet"
           }
          ],
          "choropleth": [
           {
            "colorbar": {
             "outlinewidth": 0,
             "ticks": ""
            },
            "type": "choropleth"
           }
          ],
          "contour": [
           {
            "colorbar": {
             "outlinewidth": 0,
             "ticks": ""
            },
            "colorscale": [
             [
              0,
              "#0d0887"
             ],
             [
              0.1111111111111111,
              "#46039f"
             ],
             [
              0.2222222222222222,
              "#7201a8"
             ],
             [
              0.3333333333333333,
              "#9c179e"
             ],
             [
              0.4444444444444444,
              "#bd3786"
             ],
             [
              0.5555555555555556,
              "#d8576b"
             ],
             [
              0.6666666666666666,
              "#ed7953"
             ],
             [
              0.7777777777777778,
              "#fb9f3a"
             ],
             [
              0.8888888888888888,
              "#fdca26"
             ],
             [
              1,
              "#f0f921"
             ]
            ],
            "type": "contour"
           }
          ],
          "contourcarpet": [
           {
            "colorbar": {
             "outlinewidth": 0,
             "ticks": ""
            },
            "type": "contourcarpet"
           }
          ],
          "heatmap": [
           {
            "colorbar": {
             "outlinewidth": 0,
             "ticks": ""
            },
            "colorscale": [
             [
              0,
              "#0d0887"
             ],
             [
              0.1111111111111111,
              "#46039f"
             ],
             [
              0.2222222222222222,
              "#7201a8"
             ],
             [
              0.3333333333333333,
              "#9c179e"
             ],
             [
              0.4444444444444444,
              "#bd3786"
             ],
             [
              0.5555555555555556,
              "#d8576b"
             ],
             [
              0.6666666666666666,
              "#ed7953"
             ],
             [
              0.7777777777777778,
              "#fb9f3a"
             ],
             [
              0.8888888888888888,
              "#fdca26"
             ],
             [
              1,
              "#f0f921"
             ]
            ],
            "type": "heatmap"
           }
          ],
          "heatmapgl": [
           {
            "colorbar": {
             "outlinewidth": 0,
             "ticks": ""
            },
            "colorscale": [
             [
              0,
              "#0d0887"
             ],
             [
              0.1111111111111111,
              "#46039f"
             ],
             [
              0.2222222222222222,
              "#7201a8"
             ],
             [
              0.3333333333333333,
              "#9c179e"
             ],
             [
              0.4444444444444444,
              "#bd3786"
             ],
             [
              0.5555555555555556,
              "#d8576b"
             ],
             [
              0.6666666666666666,
              "#ed7953"
             ],
             [
              0.7777777777777778,
              "#fb9f3a"
             ],
             [
              0.8888888888888888,
              "#fdca26"
             ],
             [
              1,
              "#f0f921"
             ]
            ],
            "type": "heatmapgl"
           }
          ],
          "histogram": [
           {
            "marker": {
             "pattern": {
              "fillmode": "overlay",
              "size": 10,
              "solidity": 0.2
             }
            },
            "type": "histogram"
           }
          ],
          "histogram2d": [
           {
            "colorbar": {
             "outlinewidth": 0,
             "ticks": ""
            },
            "colorscale": [
             [
              0,
              "#0d0887"
             ],
             [
              0.1111111111111111,
              "#46039f"
             ],
             [
              0.2222222222222222,
              "#7201a8"
             ],
             [
              0.3333333333333333,
              "#9c179e"
             ],
             [
              0.4444444444444444,
              "#bd3786"
             ],
             [
              0.5555555555555556,
              "#d8576b"
             ],
             [
              0.6666666666666666,
              "#ed7953"
             ],
             [
              0.7777777777777778,
              "#fb9f3a"
             ],
             [
              0.8888888888888888,
              "#fdca26"
             ],
             [
              1,
              "#f0f921"
             ]
            ],
            "type": "histogram2d"
           }
          ],
          "histogram2dcontour": [
           {
            "colorbar": {
             "outlinewidth": 0,
             "ticks": ""
            },
            "colorscale": [
             [
              0,
              "#0d0887"
             ],
             [
              0.1111111111111111,
              "#46039f"
             ],
             [
              0.2222222222222222,
              "#7201a8"
             ],
             [
              0.3333333333333333,
              "#9c179e"
             ],
             [
              0.4444444444444444,
              "#bd3786"
             ],
             [
              0.5555555555555556,
              "#d8576b"
             ],
             [
              0.6666666666666666,
              "#ed7953"
             ],
             [
              0.7777777777777778,
              "#fb9f3a"
             ],
             [
              0.8888888888888888,
              "#fdca26"
             ],
             [
              1,
              "#f0f921"
             ]
            ],
            "type": "histogram2dcontour"
           }
          ],
          "mesh3d": [
           {
            "colorbar": {
             "outlinewidth": 0,
             "ticks": ""
            },
            "type": "mesh3d"
           }
          ],
          "parcoords": [
           {
            "line": {
             "colorbar": {
              "outlinewidth": 0,
              "ticks": ""
             }
            },
            "type": "parcoords"
           }
          ],
          "pie": [
           {
            "automargin": true,
            "type": "pie"
           }
          ],
          "scatter": [
           {
            "marker": {
             "colorbar": {
              "outlinewidth": 0,
              "ticks": ""
             }
            },
            "type": "scatter"
           }
          ],
          "scatter3d": [
           {
            "line": {
             "colorbar": {
              "outlinewidth": 0,
              "ticks": ""
             }
            },
            "marker": {
             "colorbar": {
              "outlinewidth": 0,
              "ticks": ""
             }
            },
            "type": "scatter3d"
           }
          ],
          "scattercarpet": [
           {
            "marker": {
             "colorbar": {
              "outlinewidth": 0,
              "ticks": ""
             }
            },
            "type": "scattercarpet"
           }
          ],
          "scattergeo": [
           {
            "marker": {
             "colorbar": {
              "outlinewidth": 0,
              "ticks": ""
             }
            },
            "type": "scattergeo"
           }
          ],
          "scattergl": [
           {
            "marker": {
             "colorbar": {
              "outlinewidth": 0,
              "ticks": ""
             }
            },
            "type": "scattergl"
           }
          ],
          "scattermapbox": [
           {
            "marker": {
             "colorbar": {
              "outlinewidth": 0,
              "ticks": ""
             }
            },
            "type": "scattermapbox"
           }
          ],
          "scatterpolar": [
           {
            "marker": {
             "colorbar": {
              "outlinewidth": 0,
              "ticks": ""
             }
            },
            "type": "scatterpolar"
           }
          ],
          "scatterpolargl": [
           {
            "marker": {
             "colorbar": {
              "outlinewidth": 0,
              "ticks": ""
             }
            },
            "type": "scatterpolargl"
           }
          ],
          "scatterternary": [
           {
            "marker": {
             "colorbar": {
              "outlinewidth": 0,
              "ticks": ""
             }
            },
            "type": "scatterternary"
           }
          ],
          "surface": [
           {
            "colorbar": {
             "outlinewidth": 0,
             "ticks": ""
            },
            "colorscale": [
             [
              0,
              "#0d0887"
             ],
             [
              0.1111111111111111,
              "#46039f"
             ],
             [
              0.2222222222222222,
              "#7201a8"
             ],
             [
              0.3333333333333333,
              "#9c179e"
             ],
             [
              0.4444444444444444,
              "#bd3786"
             ],
             [
              0.5555555555555556,
              "#d8576b"
             ],
             [
              0.6666666666666666,
              "#ed7953"
             ],
             [
              0.7777777777777778,
              "#fb9f3a"
             ],
             [
              0.8888888888888888,
              "#fdca26"
             ],
             [
              1,
              "#f0f921"
             ]
            ],
            "type": "surface"
           }
          ],
          "table": [
           {
            "cells": {
             "fill": {
              "color": "#EBF0F8"
             },
             "line": {
              "color": "white"
             }
            },
            "header": {
             "fill": {
              "color": "#C8D4E3"
             },
             "line": {
              "color": "white"
             }
            },
            "type": "table"
           }
          ]
         },
         "layout": {
          "annotationdefaults": {
           "arrowcolor": "#2a3f5f",
           "arrowhead": 0,
           "arrowwidth": 1
          },
          "autotypenumbers": "strict",
          "coloraxis": {
           "colorbar": {
            "outlinewidth": 0,
            "ticks": ""
           }
          },
          "colorscale": {
           "diverging": [
            [
             0,
             "#8e0152"
            ],
            [
             0.1,
             "#c51b7d"
            ],
            [
             0.2,
             "#de77ae"
            ],
            [
             0.3,
             "#f1b6da"
            ],
            [
             0.4,
             "#fde0ef"
            ],
            [
             0.5,
             "#f7f7f7"
            ],
            [
             0.6,
             "#e6f5d0"
            ],
            [
             0.7,
             "#b8e186"
            ],
            [
             0.8,
             "#7fbc41"
            ],
            [
             0.9,
             "#4d9221"
            ],
            [
             1,
             "#276419"
            ]
           ],
           "sequential": [
            [
             0,
             "#0d0887"
            ],
            [
             0.1111111111111111,
             "#46039f"
            ],
            [
             0.2222222222222222,
             "#7201a8"
            ],
            [
             0.3333333333333333,
             "#9c179e"
            ],
            [
             0.4444444444444444,
             "#bd3786"
            ],
            [
             0.5555555555555556,
             "#d8576b"
            ],
            [
             0.6666666666666666,
             "#ed7953"
            ],
            [
             0.7777777777777778,
             "#fb9f3a"
            ],
            [
             0.8888888888888888,
             "#fdca26"
            ],
            [
             1,
             "#f0f921"
            ]
           ],
           "sequentialminus": [
            [
             0,
             "#0d0887"
            ],
            [
             0.1111111111111111,
             "#46039f"
            ],
            [
             0.2222222222222222,
             "#7201a8"
            ],
            [
             0.3333333333333333,
             "#9c179e"
            ],
            [
             0.4444444444444444,
             "#bd3786"
            ],
            [
             0.5555555555555556,
             "#d8576b"
            ],
            [
             0.6666666666666666,
             "#ed7953"
            ],
            [
             0.7777777777777778,
             "#fb9f3a"
            ],
            [
             0.8888888888888888,
             "#fdca26"
            ],
            [
             1,
             "#f0f921"
            ]
           ]
          },
          "colorway": [
           "#636efa",
           "#EF553B",
           "#00cc96",
           "#ab63fa",
           "#FFA15A",
           "#19d3f3",
           "#FF6692",
           "#B6E880",
           "#FF97FF",
           "#FECB52"
          ],
          "font": {
           "color": "#2a3f5f"
          },
          "geo": {
           "bgcolor": "white",
           "lakecolor": "white",
           "landcolor": "#E5ECF6",
           "showlakes": true,
           "showland": true,
           "subunitcolor": "white"
          },
          "hoverlabel": {
           "align": "left"
          },
          "hovermode": "closest",
          "mapbox": {
           "style": "light"
          },
          "paper_bgcolor": "white",
          "plot_bgcolor": "#E5ECF6",
          "polar": {
           "angularaxis": {
            "gridcolor": "white",
            "linecolor": "white",
            "ticks": ""
           },
           "bgcolor": "#E5ECF6",
           "radialaxis": {
            "gridcolor": "white",
            "linecolor": "white",
            "ticks": ""
           }
          },
          "scene": {
           "xaxis": {
            "backgroundcolor": "#E5ECF6",
            "gridcolor": "white",
            "gridwidth": 2,
            "linecolor": "white",
            "showbackground": true,
            "ticks": "",
            "zerolinecolor": "white"
           },
           "yaxis": {
            "backgroundcolor": "#E5ECF6",
            "gridcolor": "white",
            "gridwidth": 2,
            "linecolor": "white",
            "showbackground": true,
            "ticks": "",
            "zerolinecolor": "white"
           },
           "zaxis": {
            "backgroundcolor": "#E5ECF6",
            "gridcolor": "white",
            "gridwidth": 2,
            "linecolor": "white",
            "showbackground": true,
            "ticks": "",
            "zerolinecolor": "white"
           }
          },
          "shapedefaults": {
           "line": {
            "color": "#2a3f5f"
           }
          },
          "ternary": {
           "aaxis": {
            "gridcolor": "white",
            "linecolor": "white",
            "ticks": ""
           },
           "baxis": {
            "gridcolor": "white",
            "linecolor": "white",
            "ticks": ""
           },
           "bgcolor": "#E5ECF6",
           "caxis": {
            "gridcolor": "white",
            "linecolor": "white",
            "ticks": ""
           }
          },
          "title": {
           "x": 0.05
          },
          "xaxis": {
           "automargin": true,
           "gridcolor": "white",
           "linecolor": "white",
           "ticks": "",
           "title": {
            "standoff": 15
           },
           "zerolinecolor": "white",
           "zerolinewidth": 2
          },
          "yaxis": {
           "automargin": true,
           "gridcolor": "white",
           "linecolor": "white",
           "ticks": "",
           "title": {
            "standoff": 15
           },
           "zerolinecolor": "white",
           "zerolinewidth": 2
          }
         }
        }
       }
      }
     },
     "metadata": {},
     "output_type": "display_data"
    }
   ],
   "source": [
    "visualize_country_personality(country_personality_grouped_2017, location_col='country_iso', color_col='cheerfulness', hover_col='country_name', color_scale=px.colors.sequential.Rainbow)"
   ]
  },
  {
   "cell_type": "code",
   "execution_count": 106,
   "metadata": {},
   "outputs": [
    {
     "data": {
      "application/vnd.plotly.v1+json": {
       "config": {
        "plotlyServerURL": "https://plot.ly"
       },
       "data": [
        {
         "coloraxis": "coloraxis",
         "geo": "geo",
         "hovertemplate": "<b>%{hovertext}</b><br><br>country_iso=%{location}<br>cheerfulness=%{z}<extra></extra>",
         "hovertext": [
          "Gabon",
          "The Gambia",
          "Guinea",
          "Guinea-Bissau",
          "Côte d'Ivoire",
          "Cameroon",
          "Cape Verde",
          "Lesotho",
          "Liberia",
          "Libya",
          "Madagascar",
          "Malawi",
          "Mauritania",
          "Mauritius",
          "Morocco",
          "Mozambique",
          "Namibia",
          "Niger",
          "Nigeria",
          "Uganda",
          "Rwanda",
          "São Tomé and Príncipe",
          "Senegal",
          "Seychelles",
          "Sierra Leone",
          "Somalia",
          "Sudan",
          "Kenya",
          "Ethiopia",
          "Ghana",
          "Kosovo",
          "France",
          "United Kingdom",
          "People's Republic of China",
          "Brazil",
          "Russia",
          "Canada",
          "Great Britain",
          "American Samoa",
          "Northern Mariana Islands",
          "Japan",
          "South Vietnam",
          "Germany",
          "Belarus",
          "Iceland",
          "Estonia",
          "Norway",
          "Pahlavi Dynasty",
          "England",
          "Latvia",
          "Ukraine",
          "Aruba",
          "Czech Republic",
          "Slovakia",
          "Slovenia",
          "Moldova",
          "Romania",
          "Bulgaria",
          "North Macedonia",
          "Albania",
          "Croatia",
          "Bosnia and Herzegovina",
          "Azerbaijan",
          "Andorra",
          "Cyprus",
          "Georgia",
          "Kazakhstan",
          "Malta",
          "Monaco",
          "Montenegro",
          "Vatican City",
          "San Marino",
          "Cuba",
          "Belize",
          "Barbados",
          "Republic of Artsakh",
          "Tibet",
          "Wales",
          "Indonesia",
          "Curaçao",
          "South Africa",
          "Algeria",
          "Uzbekistan",
          "Cook Islands",
          "Ireland",
          "Hungary",
          "Spain",
          "Chile",
          "Kingdom of the Netherlands",
          "United States of America",
          "Belgium",
          "Irish Free State",
          "Luxembourg",
          "Finland",
          "Singapore",
          "Sweden",
          "Niue",
          "Liechtenstein",
          "Somaliland",
          "Denmark",
          "Poland",
          "Lithuania",
          "Italy",
          "Switzerland",
          "Bahrain",
          "Armenia",
          "Austria",
          "Serbia",
          "Sahrawi Arab Democratic Republic",
          "Australia",
          "Greece",
          "Argentina",
          "Peru",
          "North Korea",
          "Cambodia",
          "Turkey",
          "German Empire",
          "Portugal",
          "Netherlands",
          "Timor-Leste",
          "Chad",
          "New Zealand",
          "India",
          "Tuvalu",
          "Tonga",
          "Samoa",
          "Solomon Islands",
          "Vanuatu",
          "Papua New Guinea",
          "Palau",
          "Nauru",
          "Federated States of Micronesia",
          "Marshall Islands",
          "Kiribati",
          "Mongolia",
          "Fiji",
          "Venezuela",
          "Suriname",
          "Paraguay",
          "Guyana",
          "Ecuador",
          "Colombia",
          "Bolivia",
          "Trinidad and Tobago",
          "Danish Realm",
          "Saint Vincent and the Grenadines",
          "Saint Lucia",
          "Saint Kitts and Nevis",
          "Jamaica",
          "Grenada",
          "Uruguay",
          "Guatemala",
          "The Bahamas",
          "Antigua and Barbuda",
          "Honduras",
          "Dominica",
          "Dominican Republic",
          "Egypt",
          "Haiti",
          "El Salvador",
          "Iran",
          "Iraq",
          "Costa Rica",
          "Israel",
          "Panama",
          "Yemen",
          "Jordan",
          "Nicaragua",
          "Kyrgyzstan",
          "Kuwait",
          "Laos",
          "Lebanon",
          "Maldives",
          "Malaysia",
          "Myanmar",
          "Nepal",
          "Oman",
          "Pakistan",
          "Qatar",
          "Saudi Arabia",
          "Sri Lanka",
          "Syria",
          "Tajikistan",
          "Taiwan",
          "Thailand",
          "Turkmenistan",
          "United Arab Emirates",
          "Vietnam",
          "South Korea",
          "Afghanistan",
          "Bangladesh",
          "Transnistria",
          "Mali",
          "Angola",
          "Bhutan",
          "Brunei",
          "Tanzania",
          "Philippines",
          "Central African Republic",
          "Togo",
          "Tunisia",
          "Zambia",
          "Zimbabwe",
          "South Sudan",
          "Mexico",
          "Benin",
          "Botswana",
          "Burkina Faso",
          "Burundi",
          "Comoros",
          "Republic of the Congo",
          "Democratic Republic of the Congo",
          "Djibouti",
          "Equatorial Guinea",
          "Eritrea"
         ],
         "locations": [
          "GAB",
          "GMB",
          "GIN",
          "GNB",
          "CIV",
          "CMR",
          "CPV",
          "LSO",
          "LBR",
          "LBY",
          "MDG",
          "MWI",
          "MRT",
          "MUS",
          "MAR",
          "MOZ",
          "NAM",
          "NER",
          "NGA",
          "UGA",
          "RWA",
          "STP",
          "SEN",
          "SYC",
          "SLE",
          "SOM",
          "SDN",
          "KEN",
          "ETH",
          "GHA",
          "XKS",
          "FRA",
          "GBR",
          "CHN",
          "BRA",
          "RUS",
          "CAN",
          null,
          "ASM",
          "MNP",
          "JPN",
          null,
          "DEU",
          "BLR",
          "ISL",
          "EST",
          "NOR",
          null,
          null,
          "LVA",
          "UKR",
          "ABW",
          "CZE",
          "SVK",
          "SVN",
          "MDA",
          "ROU",
          "BGR",
          "MKD",
          "ALB",
          "HRV",
          "BIH",
          "AZE",
          "AND",
          "CYP",
          "GEO",
          "KAZ",
          "MLT",
          "MCO",
          "MNE",
          "VAT",
          "SMR",
          "CUB",
          "BLZ",
          "BRB",
          null,
          null,
          null,
          "IDN",
          "CUW",
          "ZAF",
          "DZA",
          "UZB",
          "COK",
          "IRL",
          "HUN",
          "ESP",
          "CHL",
          "NLD",
          "USA",
          "BEL",
          null,
          "LUX",
          "FIN",
          "SGP",
          "SWE",
          "NIU",
          "LIE",
          null,
          "DNK",
          "POL",
          "LTU",
          "ITA",
          "CHE",
          "BHR",
          "ARM",
          "AUT",
          "SRB",
          "ESH",
          "AUS",
          "GRC",
          "ARG",
          "PER",
          "PRK",
          "KHM",
          "TUR",
          null,
          "PRT",
          "NLD",
          "TLS",
          "TCD",
          "NZL",
          "IND",
          "TUV",
          "TON",
          "WSM",
          "SLB",
          "VUT",
          "PNG",
          "PLW",
          "NRU",
          "FSM",
          "MHL",
          "KIR",
          "MNG",
          "FJI",
          "VEN",
          "SUR",
          "PRY",
          "GUY",
          "ECU",
          "COL",
          "BOL",
          "TTO",
          "DNK",
          "VCT",
          "LCA",
          "KNA",
          "JAM",
          "GRD",
          "URY",
          "GTM",
          "BHS",
          "ATG",
          "HND",
          "DMA",
          "DOM",
          "EGY",
          "HTI",
          "SLV",
          "IRN",
          "IRQ",
          "CRI",
          "ISR",
          "PAN",
          "YEM",
          "JOR",
          "NIC",
          "KGZ",
          "KWT",
          "LAO",
          "LBN",
          "MDV",
          "MYS",
          "MMR",
          "NPL",
          "OMN",
          "PAK",
          "QAT",
          "SAU",
          "LKA",
          "SYR",
          "TJK",
          "TWN",
          "THA",
          "TKM",
          "ARE",
          "VNM",
          "KOR",
          "AFG",
          "BGD",
          null,
          "MLI",
          "AGO",
          "BTN",
          "BRN",
          "TZA",
          "PHL",
          "CAF",
          "TGO",
          "TUN",
          "ZMB",
          "ZWE",
          "SSD",
          "MEX",
          "BEN",
          "BWA",
          "BFA",
          "BDI",
          "COM",
          "COG",
          "COD",
          "DJI",
          "GNQ",
          "ERI"
         ],
         "name": "",
         "type": "choropleth",
         "z": [
          0.5907127475847394,
          0.46920474170900944,
          0.39361205651442466,
          0.5612987493604407,
          0.5673366065635366,
          0.4178048838397622,
          0.41182138601743973,
          0.5438551233035043,
          0.5588237511933141,
          0.506192177440714,
          0.3777601357894492,
          0.39174184896255226,
          0.2026003720863623,
          0.3668250814579776,
          0.4302056560266516,
          0.28293078630817253,
          0.4211601675610382,
          0.235437804374854,
          0.2993451995421602,
          0.3263649050957726,
          0.41284788957832547,
          0.21228301286643694,
          0.5027615913341146,
          0.3576271148750338,
          0.4283338539645911,
          0.32337125903875763,
          0.42537204451124905,
          0.26140937805010045,
          0.3136749552023566,
          0.3237205636748053,
          0.33916943041562353,
          0.4521365458508066,
          0.4652091026493575,
          0.2122145088629225,
          0.503879044633256,
          0.15058827916618522,
          0.5248015001814618,
          0.4383943291691354,
          0.5839449927142878,
          0.6620594199916756,
          0.37900426552926997,
          0.4412620286276225,
          0.3903575747339482,
          0.4992005657881184,
          0.5559639482593978,
          0.3130869181051775,
          0.48998649432751495,
          0.06125267104924839,
          0.44897498115264506,
          0.5469135358549189,
          0.17076568418772517,
          1,
          0.6319670601254884,
          0.4020381265958805,
          0.5219955662810899,
          0.059041208502366736,
          0.3301293934665248,
          0.15744214433303988,
          0.185946617583153,
          0.3559986690389382,
          0.6555612896076507,
          0.597976906255147,
          0.1555138383059454,
          0.568486664188392,
          0.22948374368960706,
          0.32983591285515745,
          0.3415566476052393,
          0.29249904299383805,
          0.29548201144919933,
          0.3200439221692549,
          0.2843668504371178,
          0.3426076056585061,
          0.5673454623249402,
          0.3949245062585645,
          0.4594009555312292,
          0.09818219269782952,
          0.07940655326337015,
          0.3811070699636111,
          0.30346373420484296,
          0.5402482803035838,
          0.3655802249326656,
          0.2987398171346647,
          0.3904251586642134,
          0.47915207330118065,
          0.28135723542767965,
          0.3292280571296101,
          0.5321962816900438,
          0.46981279765307804,
          0.5611391357974055,
          0.4021675858757394,
          0.5503480083826203,
          0.1510645355746549,
          0.379349827085771,
          0.5510185000377426,
          0.29227084940822046,
          0.5068375833644921,
          0.36048843362537714,
          0.2841834853749061,
          0.555922280311833,
          0.34659554383796365,
          0.36308847894970653,
          0.37238684478457507,
          0.4866039803772237,
          0.42738948090879525,
          0.2991101583477139,
          0.44350225594077836,
          0.3664467621848077,
          0.5981187913191338,
          0.009467883911232272,
          0.29259332050989806,
          0.34089907794022556,
          0.5694382768210372,
          0.5081652478478634,
          0.4658073965451209,
          0.2815024235409302,
          0.20808494568608302,
          0.2587311809680943,
          0.49520319708936933,
          0.26670462695320296,
          0.3704172529077257,
          0.24565932765053425,
          0.3781957207084125,
          0.10818846350421611,
          0.4840858922405512,
          0.6388696829379726,
          0.4968893032927015,
          0.6752049057571079,
          0.36783862236526216,
          0.4042824728123544,
          0.5199254347202592,
          0.12226227293966885,
          0.34972949957479244,
          0.44944149932073785,
          0.577086826946907,
          0.2910100058194452,
          0.42591837997584714,
          0.6053551133723238,
          0.6004043892669834,
          0.5402723519871251,
          0.4434362345053025,
          0.5643764249249247,
          0.5435886603954914,
          0.5006826921075207,
          0.49624770524787526,
          0.5322771930880268,
          0.5880370070218723,
          0.45943146376448185,
          0.5468096086427359,
          0.3973423227652536,
          0.4154409012525833,
          0.5227628538764062,
          0.42255105376795876,
          0.4684131219921541,
          0.4290588322945496,
          0.5452393463283732,
          0.4523790350137209,
          0.6327370348435692,
          0.3474244392264994,
          0.4303180541667661,
          0.39945804222432424,
          0.26417073208831804,
          0.2514994371764326,
          0.4417120732542173,
          0.12484041378037428,
          0.5575468237226836,
          0.2015133600585385,
          0.24123425220727476,
          0.38727040774184446,
          0.4800369483833892,
          0.2992184407320278,
          0.6614747086031055,
          0.24104405118484942,
          0.34860517815824,
          0.054613234139973404,
          0.2680174377297465,
          0.18709477454880455,
          0.4231612094341526,
          0.2505993485848659,
          0.5448854003462913,
          0.2845860150534486,
          0.14987373082851313,
          0.1828265766486343,
          0.2743779344958448,
          0.23789225149680795,
          0.4404922918466436,
          0.69363094442147,
          0.36532691811912377,
          0.28184515346780675,
          0.3260373647109673,
          0.26543225512481167,
          0.2069225103487961,
          0,
          0.34925185570839323,
          0.39512357227129796,
          0.14365300901214476,
          0.5966088249654319,
          0.15465461826674182,
          0.3498570886405845,
          0.4045453185862221,
          0.33909486714962506,
          0.3331816414425287,
          0.40736351868542053,
          0.4223403651091226,
          0.6886384191737894,
          0.44577586452228357,
          0.31336839615160644,
          0.29621675578734913,
          0.49998486499034744,
          0.3200946185579275,
          0.2817086285001197,
          0.5102151061319992,
          0.4399551073771463,
          0.28700767566575097,
          0.39062549336907504,
          0.36305628805693757
         ]
        }
       ],
       "layout": {
        "coloraxis": {
         "colorbar": {
          "title": {
           "text": "cheerfulness"
          }
         },
         "colorscale": [
          [
           0,
           "rgb(150,0,90)"
          ],
          [
           0.125,
           "rgb(0,0,200)"
          ],
          [
           0.25,
           "rgb(0,25,255)"
          ],
          [
           0.375,
           "rgb(0,152,255)"
          ],
          [
           0.5,
           "rgb(44,255,150)"
          ],
          [
           0.625,
           "rgb(151,255,0)"
          ],
          [
           0.75,
           "rgb(255,234,0)"
          ],
          [
           0.875,
           "rgb(255,111,0)"
          ],
          [
           1,
           "rgb(255,0,0)"
          ]
         ]
        },
        "geo": {
         "center": {},
         "domain": {
          "x": [
           0,
           1
          ],
          "y": [
           0,
           1
          ]
         }
        },
        "legend": {
         "tracegroupgap": 0
        },
        "margin": {
         "t": 60
        },
        "template": {
         "data": {
          "bar": [
           {
            "error_x": {
             "color": "#2a3f5f"
            },
            "error_y": {
             "color": "#2a3f5f"
            },
            "marker": {
             "line": {
              "color": "#E5ECF6",
              "width": 0.5
             },
             "pattern": {
              "fillmode": "overlay",
              "size": 10,
              "solidity": 0.2
             }
            },
            "type": "bar"
           }
          ],
          "barpolar": [
           {
            "marker": {
             "line": {
              "color": "#E5ECF6",
              "width": 0.5
             },
             "pattern": {
              "fillmode": "overlay",
              "size": 10,
              "solidity": 0.2
             }
            },
            "type": "barpolar"
           }
          ],
          "carpet": [
           {
            "aaxis": {
             "endlinecolor": "#2a3f5f",
             "gridcolor": "white",
             "linecolor": "white",
             "minorgridcolor": "white",
             "startlinecolor": "#2a3f5f"
            },
            "baxis": {
             "endlinecolor": "#2a3f5f",
             "gridcolor": "white",
             "linecolor": "white",
             "minorgridcolor": "white",
             "startlinecolor": "#2a3f5f"
            },
            "type": "carpet"
           }
          ],
          "choropleth": [
           {
            "colorbar": {
             "outlinewidth": 0,
             "ticks": ""
            },
            "type": "choropleth"
           }
          ],
          "contour": [
           {
            "colorbar": {
             "outlinewidth": 0,
             "ticks": ""
            },
            "colorscale": [
             [
              0,
              "#0d0887"
             ],
             [
              0.1111111111111111,
              "#46039f"
             ],
             [
              0.2222222222222222,
              "#7201a8"
             ],
             [
              0.3333333333333333,
              "#9c179e"
             ],
             [
              0.4444444444444444,
              "#bd3786"
             ],
             [
              0.5555555555555556,
              "#d8576b"
             ],
             [
              0.6666666666666666,
              "#ed7953"
             ],
             [
              0.7777777777777778,
              "#fb9f3a"
             ],
             [
              0.8888888888888888,
              "#fdca26"
             ],
             [
              1,
              "#f0f921"
             ]
            ],
            "type": "contour"
           }
          ],
          "contourcarpet": [
           {
            "colorbar": {
             "outlinewidth": 0,
             "ticks": ""
            },
            "type": "contourcarpet"
           }
          ],
          "heatmap": [
           {
            "colorbar": {
             "outlinewidth": 0,
             "ticks": ""
            },
            "colorscale": [
             [
              0,
              "#0d0887"
             ],
             [
              0.1111111111111111,
              "#46039f"
             ],
             [
              0.2222222222222222,
              "#7201a8"
             ],
             [
              0.3333333333333333,
              "#9c179e"
             ],
             [
              0.4444444444444444,
              "#bd3786"
             ],
             [
              0.5555555555555556,
              "#d8576b"
             ],
             [
              0.6666666666666666,
              "#ed7953"
             ],
             [
              0.7777777777777778,
              "#fb9f3a"
             ],
             [
              0.8888888888888888,
              "#fdca26"
             ],
             [
              1,
              "#f0f921"
             ]
            ],
            "type": "heatmap"
           }
          ],
          "heatmapgl": [
           {
            "colorbar": {
             "outlinewidth": 0,
             "ticks": ""
            },
            "colorscale": [
             [
              0,
              "#0d0887"
             ],
             [
              0.1111111111111111,
              "#46039f"
             ],
             [
              0.2222222222222222,
              "#7201a8"
             ],
             [
              0.3333333333333333,
              "#9c179e"
             ],
             [
              0.4444444444444444,
              "#bd3786"
             ],
             [
              0.5555555555555556,
              "#d8576b"
             ],
             [
              0.6666666666666666,
              "#ed7953"
             ],
             [
              0.7777777777777778,
              "#fb9f3a"
             ],
             [
              0.8888888888888888,
              "#fdca26"
             ],
             [
              1,
              "#f0f921"
             ]
            ],
            "type": "heatmapgl"
           }
          ],
          "histogram": [
           {
            "marker": {
             "pattern": {
              "fillmode": "overlay",
              "size": 10,
              "solidity": 0.2
             }
            },
            "type": "histogram"
           }
          ],
          "histogram2d": [
           {
            "colorbar": {
             "outlinewidth": 0,
             "ticks": ""
            },
            "colorscale": [
             [
              0,
              "#0d0887"
             ],
             [
              0.1111111111111111,
              "#46039f"
             ],
             [
              0.2222222222222222,
              "#7201a8"
             ],
             [
              0.3333333333333333,
              "#9c179e"
             ],
             [
              0.4444444444444444,
              "#bd3786"
             ],
             [
              0.5555555555555556,
              "#d8576b"
             ],
             [
              0.6666666666666666,
              "#ed7953"
             ],
             [
              0.7777777777777778,
              "#fb9f3a"
             ],
             [
              0.8888888888888888,
              "#fdca26"
             ],
             [
              1,
              "#f0f921"
             ]
            ],
            "type": "histogram2d"
           }
          ],
          "histogram2dcontour": [
           {
            "colorbar": {
             "outlinewidth": 0,
             "ticks": ""
            },
            "colorscale": [
             [
              0,
              "#0d0887"
             ],
             [
              0.1111111111111111,
              "#46039f"
             ],
             [
              0.2222222222222222,
              "#7201a8"
             ],
             [
              0.3333333333333333,
              "#9c179e"
             ],
             [
              0.4444444444444444,
              "#bd3786"
             ],
             [
              0.5555555555555556,
              "#d8576b"
             ],
             [
              0.6666666666666666,
              "#ed7953"
             ],
             [
              0.7777777777777778,
              "#fb9f3a"
             ],
             [
              0.8888888888888888,
              "#fdca26"
             ],
             [
              1,
              "#f0f921"
             ]
            ],
            "type": "histogram2dcontour"
           }
          ],
          "mesh3d": [
           {
            "colorbar": {
             "outlinewidth": 0,
             "ticks": ""
            },
            "type": "mesh3d"
           }
          ],
          "parcoords": [
           {
            "line": {
             "colorbar": {
              "outlinewidth": 0,
              "ticks": ""
             }
            },
            "type": "parcoords"
           }
          ],
          "pie": [
           {
            "automargin": true,
            "type": "pie"
           }
          ],
          "scatter": [
           {
            "marker": {
             "colorbar": {
              "outlinewidth": 0,
              "ticks": ""
             }
            },
            "type": "scatter"
           }
          ],
          "scatter3d": [
           {
            "line": {
             "colorbar": {
              "outlinewidth": 0,
              "ticks": ""
             }
            },
            "marker": {
             "colorbar": {
              "outlinewidth": 0,
              "ticks": ""
             }
            },
            "type": "scatter3d"
           }
          ],
          "scattercarpet": [
           {
            "marker": {
             "colorbar": {
              "outlinewidth": 0,
              "ticks": ""
             }
            },
            "type": "scattercarpet"
           }
          ],
          "scattergeo": [
           {
            "marker": {
             "colorbar": {
              "outlinewidth": 0,
              "ticks": ""
             }
            },
            "type": "scattergeo"
           }
          ],
          "scattergl": [
           {
            "marker": {
             "colorbar": {
              "outlinewidth": 0,
              "ticks": ""
             }
            },
            "type": "scattergl"
           }
          ],
          "scattermapbox": [
           {
            "marker": {
             "colorbar": {
              "outlinewidth": 0,
              "ticks": ""
             }
            },
            "type": "scattermapbox"
           }
          ],
          "scatterpolar": [
           {
            "marker": {
             "colorbar": {
              "outlinewidth": 0,
              "ticks": ""
             }
            },
            "type": "scatterpolar"
           }
          ],
          "scatterpolargl": [
           {
            "marker": {
             "colorbar": {
              "outlinewidth": 0,
              "ticks": ""
             }
            },
            "type": "scatterpolargl"
           }
          ],
          "scatterternary": [
           {
            "marker": {
             "colorbar": {
              "outlinewidth": 0,
              "ticks": ""
             }
            },
            "type": "scatterternary"
           }
          ],
          "surface": [
           {
            "colorbar": {
             "outlinewidth": 0,
             "ticks": ""
            },
            "colorscale": [
             [
              0,
              "#0d0887"
             ],
             [
              0.1111111111111111,
              "#46039f"
             ],
             [
              0.2222222222222222,
              "#7201a8"
             ],
             [
              0.3333333333333333,
              "#9c179e"
             ],
             [
              0.4444444444444444,
              "#bd3786"
             ],
             [
              0.5555555555555556,
              "#d8576b"
             ],
             [
              0.6666666666666666,
              "#ed7953"
             ],
             [
              0.7777777777777778,
              "#fb9f3a"
             ],
             [
              0.8888888888888888,
              "#fdca26"
             ],
             [
              1,
              "#f0f921"
             ]
            ],
            "type": "surface"
           }
          ],
          "table": [
           {
            "cells": {
             "fill": {
              "color": "#EBF0F8"
             },
             "line": {
              "color": "white"
             }
            },
            "header": {
             "fill": {
              "color": "#C8D4E3"
             },
             "line": {
              "color": "white"
             }
            },
            "type": "table"
           }
          ]
         },
         "layout": {
          "annotationdefaults": {
           "arrowcolor": "#2a3f5f",
           "arrowhead": 0,
           "arrowwidth": 1
          },
          "autotypenumbers": "strict",
          "coloraxis": {
           "colorbar": {
            "outlinewidth": 0,
            "ticks": ""
           }
          },
          "colorscale": {
           "diverging": [
            [
             0,
             "#8e0152"
            ],
            [
             0.1,
             "#c51b7d"
            ],
            [
             0.2,
             "#de77ae"
            ],
            [
             0.3,
             "#f1b6da"
            ],
            [
             0.4,
             "#fde0ef"
            ],
            [
             0.5,
             "#f7f7f7"
            ],
            [
             0.6,
             "#e6f5d0"
            ],
            [
             0.7,
             "#b8e186"
            ],
            [
             0.8,
             "#7fbc41"
            ],
            [
             0.9,
             "#4d9221"
            ],
            [
             1,
             "#276419"
            ]
           ],
           "sequential": [
            [
             0,
             "#0d0887"
            ],
            [
             0.1111111111111111,
             "#46039f"
            ],
            [
             0.2222222222222222,
             "#7201a8"
            ],
            [
             0.3333333333333333,
             "#9c179e"
            ],
            [
             0.4444444444444444,
             "#bd3786"
            ],
            [
             0.5555555555555556,
             "#d8576b"
            ],
            [
             0.6666666666666666,
             "#ed7953"
            ],
            [
             0.7777777777777778,
             "#fb9f3a"
            ],
            [
             0.8888888888888888,
             "#fdca26"
            ],
            [
             1,
             "#f0f921"
            ]
           ],
           "sequentialminus": [
            [
             0,
             "#0d0887"
            ],
            [
             0.1111111111111111,
             "#46039f"
            ],
            [
             0.2222222222222222,
             "#7201a8"
            ],
            [
             0.3333333333333333,
             "#9c179e"
            ],
            [
             0.4444444444444444,
             "#bd3786"
            ],
            [
             0.5555555555555556,
             "#d8576b"
            ],
            [
             0.6666666666666666,
             "#ed7953"
            ],
            [
             0.7777777777777778,
             "#fb9f3a"
            ],
            [
             0.8888888888888888,
             "#fdca26"
            ],
            [
             1,
             "#f0f921"
            ]
           ]
          },
          "colorway": [
           "#636efa",
           "#EF553B",
           "#00cc96",
           "#ab63fa",
           "#FFA15A",
           "#19d3f3",
           "#FF6692",
           "#B6E880",
           "#FF97FF",
           "#FECB52"
          ],
          "font": {
           "color": "#2a3f5f"
          },
          "geo": {
           "bgcolor": "white",
           "lakecolor": "white",
           "landcolor": "#E5ECF6",
           "showlakes": true,
           "showland": true,
           "subunitcolor": "white"
          },
          "hoverlabel": {
           "align": "left"
          },
          "hovermode": "closest",
          "mapbox": {
           "style": "light"
          },
          "paper_bgcolor": "white",
          "plot_bgcolor": "#E5ECF6",
          "polar": {
           "angularaxis": {
            "gridcolor": "white",
            "linecolor": "white",
            "ticks": ""
           },
           "bgcolor": "#E5ECF6",
           "radialaxis": {
            "gridcolor": "white",
            "linecolor": "white",
            "ticks": ""
           }
          },
          "scene": {
           "xaxis": {
            "backgroundcolor": "#E5ECF6",
            "gridcolor": "white",
            "gridwidth": 2,
            "linecolor": "white",
            "showbackground": true,
            "ticks": "",
            "zerolinecolor": "white"
           },
           "yaxis": {
            "backgroundcolor": "#E5ECF6",
            "gridcolor": "white",
            "gridwidth": 2,
            "linecolor": "white",
            "showbackground": true,
            "ticks": "",
            "zerolinecolor": "white"
           },
           "zaxis": {
            "backgroundcolor": "#E5ECF6",
            "gridcolor": "white",
            "gridwidth": 2,
            "linecolor": "white",
            "showbackground": true,
            "ticks": "",
            "zerolinecolor": "white"
           }
          },
          "shapedefaults": {
           "line": {
            "color": "#2a3f5f"
           }
          },
          "ternary": {
           "aaxis": {
            "gridcolor": "white",
            "linecolor": "white",
            "ticks": ""
           },
           "baxis": {
            "gridcolor": "white",
            "linecolor": "white",
            "ticks": ""
           },
           "bgcolor": "#E5ECF6",
           "caxis": {
            "gridcolor": "white",
            "linecolor": "white",
            "ticks": ""
           }
          },
          "title": {
           "x": 0.05
          },
          "xaxis": {
           "automargin": true,
           "gridcolor": "white",
           "linecolor": "white",
           "ticks": "",
           "title": {
            "standoff": 15
           },
           "zerolinecolor": "white",
           "zerolinewidth": 2
          },
          "yaxis": {
           "automargin": true,
           "gridcolor": "white",
           "linecolor": "white",
           "ticks": "",
           "title": {
            "standoff": 15
           },
           "zerolinecolor": "white",
           "zerolinewidth": 2
          }
         }
        }
       }
      }
     },
     "metadata": {},
     "output_type": "display_data"
    }
   ],
   "source": [
    "visualize_country_personality(country_personality_grouped_2018, location_col='country_iso', color_col='cheerfulness', hover_col='country_name', color_scale=px.colors.sequential.Rainbow)"
   ]
  },
  {
   "cell_type": "code",
   "execution_count": 118,
   "metadata": {},
   "outputs": [],
   "source": [
    "from wordcloud import WordCloud\n",
    "\n",
    "def plot_wordcloud(df, country=None):\n",
    "    df_grouped = df.groupby('country').agg({'quotations': lambda q: ' '.join(q)})\n",
    "    if country:\n",
    "        quotes = df_grouped.loc[country, 'quotations']\n",
    "    else:\n",
    "        quotes = ' '.join(df_grouped['quotations'])\n",
    "    word_cloud = WordCloud(collocations = False, background_color = 'white').generate(quotes)\n",
    "    plt.imshow(word_cloud, interpolation='bilinear')\n",
    "    plt.axis(\"off\")\n",
    "    plt.show()"
   ]
  },
  {
   "cell_type": "code",
   "execution_count": 125,
   "metadata": {},
   "outputs": [
    {
     "data": {
      "image/png": "[encoded data removed]",
      "text/plain": [
       "<Figure size 432x288 with 1 Axes>"
      ]
     },
     "metadata": {},
     "output_type": "display_data"
    }
   ],
   "source": [
    "plot_wordcloud(country_quotes_2019_df)"
   ]
  }
 ],
 "metadata": {
  "interpreter": {
   "hash": "f6a042026b0d43fbad8d0b7067c0734de16ecabdfc65158b395d6da2054a1561"
  },
  "kernelspec": {
   "display_name": "Python 3.8.11 64-bit ('ada': conda)",
   "language": "python",
   "name": "python3"
  },
  "language_info": {
   "codemirror_mode": {
    "name": "ipython",
    "version": 3
   },
   "file_extension": ".py",
   "mimetype": "text/x-python",
   "name": "python",
   "nbconvert_exporter": "python",
   "pygments_lexer": "ipython3",
   "version": "3.8.11"
  },
  "orig_nbformat": 4
 },
 "nbformat": 4,
 "nbformat_minor": 2
}
