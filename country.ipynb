{
 "cells": [
  {
   "cell_type": "code",
   "execution_count": 40,
   "metadata": {},
   "outputs": [
    {
     "name": "stdout",
     "output_type": "stream",
     "text": [
      "The autoreload extension is already loaded. To reload it, use:\n",
      "  %reload_ext autoreload\n"
     ]
    }
   ],
   "source": [
    "%load_ext autoreload\n",
    "%autoreload 2\n",
    "import pandas as pd\n",
    "import numpy as np\n",
    "import json\n",
    "from helpers import *\n",
    "import seaborn as sns\n",
    "import matplotlib.pyplot as plt\n",
    "plt.style.use('ggplot')"
   ]
  },
  {
   "cell_type": "code",
   "execution_count": 2,
   "metadata": {},
   "outputs": [],
   "source": [
    "# Load speakers\n",
    "speakers = pd.read_parquet('data/speaker_attributes.parquet')"
   ]
  },
  {
   "cell_type": "code",
   "execution_count": 3,
   "metadata": {},
   "outputs": [
    {
     "data": {
      "text/html": [
       "<div>\n",
       "<style scoped>\n",
       "    .dataframe tbody tr th:only-of-type {\n",
       "        vertical-align: middle;\n",
       "    }\n",
       "\n",
       "    .dataframe tbody tr th {\n",
       "        vertical-align: top;\n",
       "    }\n",
       "\n",
       "    .dataframe thead th {\n",
       "        text-align: right;\n",
       "    }\n",
       "</style>\n",
       "<table border=\"1\" class=\"dataframe\">\n",
       "  <thead>\n",
       "    <tr style=\"text-align: right;\">\n",
       "      <th></th>\n",
       "      <th>aliases</th>\n",
       "      <th>date_of_birth</th>\n",
       "      <th>nationality</th>\n",
       "      <th>gender</th>\n",
       "      <th>lastrevid</th>\n",
       "      <th>ethnic_group</th>\n",
       "      <th>US_congress_bio_ID</th>\n",
       "      <th>occupation</th>\n",
       "      <th>party</th>\n",
       "      <th>academic_degree</th>\n",
       "      <th>id</th>\n",
       "      <th>label</th>\n",
       "      <th>candidacy</th>\n",
       "      <th>type</th>\n",
       "      <th>religion</th>\n",
       "    </tr>\n",
       "  </thead>\n",
       "  <tbody>\n",
       "    <tr>\n",
       "      <th>0</th>\n",
       "      <td>[Washington, President Washington, G. Washingt...</td>\n",
       "      <td>[+1732-02-22T00:00:00Z]</td>\n",
       "      <td>[Q161885, Q30]</td>\n",
       "      <td>[Q6581097]</td>\n",
       "      <td>1395141751</td>\n",
       "      <td>None</td>\n",
       "      <td>W000178</td>\n",
       "      <td>[Q82955, Q189290, Q131512, Q1734662, Q294126, ...</td>\n",
       "      <td>[Q327591]</td>\n",
       "      <td>None</td>\n",
       "      <td>Q23</td>\n",
       "      <td>George Washington</td>\n",
       "      <td>[Q698073, Q697949]</td>\n",
       "      <td>item</td>\n",
       "      <td>[Q682443]</td>\n",
       "    </tr>\n",
       "    <tr>\n",
       "      <th>1</th>\n",
       "      <td>[Douglas Noel Adams, Douglas Noël Adams, Dougl...</td>\n",
       "      <td>[+1952-03-11T00:00:00Z]</td>\n",
       "      <td>[Q145]</td>\n",
       "      <td>[Q6581097]</td>\n",
       "      <td>1395737157</td>\n",
       "      <td>[Q7994501]</td>\n",
       "      <td>None</td>\n",
       "      <td>[Q214917, Q28389, Q6625963, Q4853732, Q1884422...</td>\n",
       "      <td>None</td>\n",
       "      <td>None</td>\n",
       "      <td>Q42</td>\n",
       "      <td>Douglas Adams</td>\n",
       "      <td>None</td>\n",
       "      <td>item</td>\n",
       "      <td>None</td>\n",
       "    </tr>\n",
       "    <tr>\n",
       "      <th>2</th>\n",
       "      <td>[Paul Marie Ghislain Otlet, Paul Marie Otlet]</td>\n",
       "      <td>[+1868-08-23T00:00:00Z]</td>\n",
       "      <td>[Q31]</td>\n",
       "      <td>[Q6581097]</td>\n",
       "      <td>1380367296</td>\n",
       "      <td>None</td>\n",
       "      <td>None</td>\n",
       "      <td>[Q36180, Q40348, Q182436, Q1265807, Q205375, Q...</td>\n",
       "      <td>None</td>\n",
       "      <td>None</td>\n",
       "      <td>Q1868</td>\n",
       "      <td>Paul Otlet</td>\n",
       "      <td>None</td>\n",
       "      <td>item</td>\n",
       "      <td>None</td>\n",
       "    </tr>\n",
       "    <tr>\n",
       "      <th>3</th>\n",
       "      <td>[George Walker Bush, Bush Jr., Dubya, GWB, Bus...</td>\n",
       "      <td>[+1946-07-06T00:00:00Z]</td>\n",
       "      <td>[Q30]</td>\n",
       "      <td>[Q6581097]</td>\n",
       "      <td>1395142029</td>\n",
       "      <td>None</td>\n",
       "      <td>None</td>\n",
       "      <td>[Q82955, Q15982858, Q18814623, Q1028181, Q1408...</td>\n",
       "      <td>[Q29468]</td>\n",
       "      <td>None</td>\n",
       "      <td>Q207</td>\n",
       "      <td>George W. Bush</td>\n",
       "      <td>[Q327959, Q464075, Q3586276, Q4450587]</td>\n",
       "      <td>item</td>\n",
       "      <td>[Q329646, Q682443, Q33203]</td>\n",
       "    </tr>\n",
       "    <tr>\n",
       "      <th>4</th>\n",
       "      <td>[Velázquez, Diego Rodríguez de Silva y Velázqu...</td>\n",
       "      <td>[+1599-06-06T00:00:00Z]</td>\n",
       "      <td>[Q29]</td>\n",
       "      <td>[Q6581097]</td>\n",
       "      <td>1391704596</td>\n",
       "      <td>None</td>\n",
       "      <td>None</td>\n",
       "      <td>[Q1028181]</td>\n",
       "      <td>None</td>\n",
       "      <td>None</td>\n",
       "      <td>Q297</td>\n",
       "      <td>Diego Velázquez</td>\n",
       "      <td>None</td>\n",
       "      <td>item</td>\n",
       "      <td>None</td>\n",
       "    </tr>\n",
       "  </tbody>\n",
       "</table>\n",
       "</div>"
      ],
      "text/plain": [
       "                                             aliases            date_of_birth  \\\n",
       "0  [Washington, President Washington, G. Washingt...  [+1732-02-22T00:00:00Z]   \n",
       "1  [Douglas Noel Adams, Douglas Noël Adams, Dougl...  [+1952-03-11T00:00:00Z]   \n",
       "2      [Paul Marie Ghislain Otlet, Paul Marie Otlet]  [+1868-08-23T00:00:00Z]   \n",
       "3  [George Walker Bush, Bush Jr., Dubya, GWB, Bus...  [+1946-07-06T00:00:00Z]   \n",
       "4  [Velázquez, Diego Rodríguez de Silva y Velázqu...  [+1599-06-06T00:00:00Z]   \n",
       "\n",
       "      nationality      gender   lastrevid ethnic_group US_congress_bio_ID  \\\n",
       "0  [Q161885, Q30]  [Q6581097]  1395141751         None            W000178   \n",
       "1          [Q145]  [Q6581097]  1395737157   [Q7994501]               None   \n",
       "2           [Q31]  [Q6581097]  1380367296         None               None   \n",
       "3           [Q30]  [Q6581097]  1395142029         None               None   \n",
       "4           [Q29]  [Q6581097]  1391704596         None               None   \n",
       "\n",
       "                                          occupation      party  \\\n",
       "0  [Q82955, Q189290, Q131512, Q1734662, Q294126, ...  [Q327591]   \n",
       "1  [Q214917, Q28389, Q6625963, Q4853732, Q1884422...       None   \n",
       "2  [Q36180, Q40348, Q182436, Q1265807, Q205375, Q...       None   \n",
       "3  [Q82955, Q15982858, Q18814623, Q1028181, Q1408...   [Q29468]   \n",
       "4                                         [Q1028181]       None   \n",
       "\n",
       "  academic_degree     id              label  \\\n",
       "0            None    Q23  George Washington   \n",
       "1            None    Q42      Douglas Adams   \n",
       "2            None  Q1868         Paul Otlet   \n",
       "3            None   Q207     George W. Bush   \n",
       "4            None   Q297    Diego Velázquez   \n",
       "\n",
       "                                candidacy  type                    religion  \n",
       "0                      [Q698073, Q697949]  item                   [Q682443]  \n",
       "1                                    None  item                        None  \n",
       "2                                    None  item                        None  \n",
       "3  [Q327959, Q464075, Q3586276, Q4450587]  item  [Q329646, Q682443, Q33203]  \n",
       "4                                    None  item                        None  "
      ]
     },
     "execution_count": 3,
     "metadata": {},
     "output_type": "execute_result"
    }
   ],
   "source": [
    "speakers.head()"
   ]
  },
  {
   "cell_type": "code",
   "execution_count": 7,
   "metadata": {},
   "outputs": [],
   "source": [
    "# Get nationalities (first one)\n",
    "nationalities = speakers.nationality.apply(lambda nt: nt[0] if nt is not None else None)"
   ]
  },
  {
   "cell_type": "code",
   "execution_count": 34,
   "metadata": {},
   "outputs": [],
   "source": [
    "# Find unique ones excluding None\n",
    "unique_nat_qids = np.unique(nationalities[nationalities.values != None])"
   ]
  },
  {
   "cell_type": "code",
   "execution_count": 35,
   "metadata": {},
   "outputs": [
    {
     "data": {
      "text/plain": [
       "2704"
      ]
     },
     "execution_count": 35,
     "metadata": {},
     "output_type": "execute_result"
    }
   ],
   "source": [
    "len(unique_nat_qids)"
   ]
  },
  {
   "cell_type": "code",
   "execution_count": 18,
   "metadata": {},
   "outputs": [
    {
     "data": {
      "text/plain": [
       "9055981"
      ]
     },
     "execution_count": 18,
     "metadata": {},
     "output_type": "execute_result"
    }
   ],
   "source": [
    "len(nationalities.values)"
   ]
  },
  {
   "cell_type": "code",
   "execution_count": 67,
   "metadata": {},
   "outputs": [],
   "source": [
    "# Get all existing country entities\n",
    "countries = {}\n",
    "entity_instanceof = get_wiki_entity('P31')\n",
    "entity_country = get_wiki_entity('Q6256')\n",
    "\n",
    "for qid in unique_nat_qids:\n",
    "    entity = get_wiki_entity(qid)\n",
    "    for instance in entity.getlist(entity_instanceof):\n",
    "        if instance == entity_country:\n",
    "            countries[qid] = entity\n",
    "            break"
   ]
  },
  {
   "cell_type": "code",
   "execution_count": 69,
   "metadata": {},
   "outputs": [
    {
     "data": {
      "text/plain": [
       "[m'Gabon',\n",
       " m'The Gambia',\n",
       " m'Guinea',\n",
       " m'Guinea-Bissau',\n",
       " m\"Côte d'Ivoire\",\n",
       " m'Cameroon',\n",
       " m'Cape Verde',\n",
       " m'Lesotho',\n",
       " m'Liberia',\n",
       " m'Libya',\n",
       " m'Madagascar',\n",
       " m'Malawi',\n",
       " m'Mauritania',\n",
       " m'Mauritius',\n",
       " m'Morocco',\n",
       " m'Mozambique',\n",
       " m'Namibia',\n",
       " m'Niger',\n",
       " m'Nigeria',\n",
       " m'Uganda',\n",
       " m'Rwanda',\n",
       " m'São Tomé and Príncipe',\n",
       " m'Senegal',\n",
       " m'Seychelles',\n",
       " m'Sierra Leone',\n",
       " m'Somalia',\n",
       " m'Sudan',\n",
       " m'Kenya',\n",
       " m'Ethiopia',\n",
       " m'Ghana',\n",
       " m'Imperial China',\n",
       " m'Kosovo',\n",
       " m'Holy Roman Empire',\n",
       " m'Kingdom of Aksum',\n",
       " m'France',\n",
       " m'United Kingdom',\n",
       " m\"People's Republic of China\",\n",
       " m'Brazil',\n",
       " m'Russia',\n",
       " m'Canada',\n",
       " m'Great Britain',\n",
       " m'American Samoa',\n",
       " m'Northern Mariana Islands',\n",
       " m'Japan',\n",
       " m'North Vietnam',\n",
       " m'South Vietnam',\n",
       " m'Germany',\n",
       " m'Belarus',\n",
       " m'Trucial States',\n",
       " m'Iceland',\n",
       " m'Central African Empire',\n",
       " m'Estonia',\n",
       " m'Norway',\n",
       " m'Pahlavi Dynasty',\n",
       " m'England',\n",
       " m'Latvia',\n",
       " m'Ukraine',\n",
       " m'Aruba',\n",
       " m'Czech Republic',\n",
       " m'Cisalpine Republic',\n",
       " m'Slovakia',\n",
       " m'Slovenia',\n",
       " m'Moldova',\n",
       " m'Romania',\n",
       " m'Bulgaria',\n",
       " m'North Macedonia',\n",
       " m'Albania',\n",
       " m'Croatia',\n",
       " m'Bosnia and Herzegovina',\n",
       " m'Azerbaijan',\n",
       " m'Andorra',\n",
       " m'Electoral Palatinate',\n",
       " m'Cyprus',\n",
       " m'Georgia',\n",
       " m'Kazakhstan',\n",
       " m'Malta',\n",
       " m'Monaco',\n",
       " m'Montenegro',\n",
       " m'Vatican City',\n",
       " m'San Marino',\n",
       " m'Cuba',\n",
       " m'Belize',\n",
       " m'Barbados',\n",
       " m'Republic of Artsakh',\n",
       " m'Tibet',\n",
       " m'Wales',\n",
       " m'Indonesia',\n",
       " m'Curaçao',\n",
       " m'South Africa',\n",
       " m'Algeria',\n",
       " m'Sint Maarten',\n",
       " m'Uzbekistan',\n",
       " m'Cook Islands',\n",
       " m'Ireland',\n",
       " m'Hungary',\n",
       " m'Spain',\n",
       " m'Chile',\n",
       " m'Kingdom of the Netherlands',\n",
       " m'United States of America',\n",
       " m'Belgium',\n",
       " m'Irish Free State',\n",
       " m'Luxembourg',\n",
       " m'Finland',\n",
       " m'Singapore',\n",
       " m'Sweden',\n",
       " m'Niue',\n",
       " m'Liechtenstein',\n",
       " m'Somaliland',\n",
       " m'Denmark',\n",
       " m'Poland',\n",
       " m'Lithuania',\n",
       " m'Italy',\n",
       " m'Switzerland',\n",
       " m'Galicia',\n",
       " m'Bahrain',\n",
       " m'Armenia',\n",
       " m'Austria',\n",
       " m'Mataram Sultanate',\n",
       " m'Serbia',\n",
       " m'Sahrawi Arab Democratic Republic',\n",
       " m'Australia',\n",
       " m'Greece',\n",
       " m'Argentina',\n",
       " m'Peru',\n",
       " m'North Korea',\n",
       " m'Cambodia',\n",
       " m'Turkey',\n",
       " m'German Empire',\n",
       " m'Old Swiss Confederacy',\n",
       " m'Portugal',\n",
       " m'Netherlands',\n",
       " m'Timor-Leste',\n",
       " m'Zaire',\n",
       " m'Chad',\n",
       " m'New Zealand',\n",
       " m'India',\n",
       " m'Tuvalu',\n",
       " m'Tonga',\n",
       " m'Samoa',\n",
       " m'Solomon Islands',\n",
       " m'Vanuatu',\n",
       " m'Papua New Guinea',\n",
       " m'Palau',\n",
       " m'Nauru',\n",
       " m'Federated States of Micronesia',\n",
       " m'Marshall Islands',\n",
       " m'Kiribati',\n",
       " m'Mongolia',\n",
       " m'Fiji',\n",
       " m'Venezuela',\n",
       " m'Suriname',\n",
       " m'Paraguay',\n",
       " m'Guyana',\n",
       " m'Ecuador',\n",
       " m'Colombia',\n",
       " m'Bolivia',\n",
       " m'Trinidad and Tobago',\n",
       " m'Danish Realm',\n",
       " m'Saint Vincent and the Grenadines',\n",
       " m'Saint Lucia',\n",
       " m'Saint Kitts and Nevis',\n",
       " m'Jamaica',\n",
       " m'Grenada',\n",
       " m'Uruguay',\n",
       " m'Guatemala',\n",
       " m'The Bahamas',\n",
       " m'Antigua and Barbuda',\n",
       " m'Honduras',\n",
       " m'Dominica',\n",
       " m'Dominican Republic',\n",
       " m'Egypt',\n",
       " m'Haiti',\n",
       " m'El Salvador',\n",
       " m'Iran',\n",
       " m'Iraq',\n",
       " m'Republic of Upper Volta',\n",
       " m'Costa Rica',\n",
       " m'Israel',\n",
       " m'Panama',\n",
       " m'Yemen',\n",
       " m'Jordan',\n",
       " m'Nicaragua',\n",
       " m'Kyrgyzstan',\n",
       " m'Kuwait',\n",
       " m'Laos',\n",
       " m'Lebanon',\n",
       " m'Maldives',\n",
       " m'Malaysia',\n",
       " m'Persian Empire',\n",
       " m'Myanmar',\n",
       " m'Nepal',\n",
       " m'Oman',\n",
       " m'Pakistan',\n",
       " m'Qatar',\n",
       " m'Saudi Arabia',\n",
       " m'Sri Lanka',\n",
       " m'Syria',\n",
       " m'Tajikistan',\n",
       " m'Taiwan',\n",
       " m'Thailand',\n",
       " m'Turkmenistan',\n",
       " m'United Arab Emirates',\n",
       " m'Vietnam',\n",
       " m'South Korea',\n",
       " m'Afghanistan',\n",
       " m'Bangladesh',\n",
       " m'Transnistria',\n",
       " m'Mali',\n",
       " m'Angola',\n",
       " m'Bhutan',\n",
       " m'Brunei',\n",
       " m'Tanzania',\n",
       " m'Philippines',\n",
       " m'Central African Republic',\n",
       " m'Togo',\n",
       " m'Tunisia',\n",
       " m'Zambia',\n",
       " m'Zimbabwe',\n",
       " m'South Sudan',\n",
       " m'Mexico',\n",
       " m'Benin',\n",
       " m'Botswana',\n",
       " m'Burkina Faso',\n",
       " m'Burundi',\n",
       " m'Comoros',\n",
       " m'Republic of the Congo',\n",
       " m'Democratic Republic of the Congo',\n",
       " m'Djibouti',\n",
       " m'Equatorial Guinea',\n",
       " m'Eritrea']"
      ]
     },
     "execution_count": 69,
     "metadata": {},
     "output_type": "execute_result"
    }
   ],
   "source": [
    "[country.label for country in countries.values()]"
   ]
  },
  {
   "cell_type": "code",
   "execution_count": 72,
   "metadata": {},
   "outputs": [],
   "source": [
    "country_qids = list(countries.keys())"
   ]
  },
  {
   "cell_type": "code",
   "execution_count": 75,
   "metadata": {},
   "outputs": [],
   "source": [
    "with open('data/country_qids.json', 'w') as f:\n",
    "    f.write(json.dumps({'qids': country_qids}))"
   ]
  },
  {
   "cell_type": "code",
   "execution_count": 73,
   "metadata": {},
   "outputs": [],
   "source": [
    "# Find speakers for those countries\n",
    "country_speakers = speakers[speakers.nationality.apply(lambda nt: any([cid in nt for cid in country_qids]) if nt is not None else False)]"
   ]
  },
  {
   "cell_type": "code",
   "execution_count": 74,
   "metadata": {},
   "outputs": [
    {
     "data": {
      "text/plain": [
       "3164693"
      ]
     },
     "execution_count": 74,
     "metadata": {},
     "output_type": "execute_result"
    }
   ],
   "source": [
    "len(country_speakers)"
   ]
  },
  {
   "cell_type": "code",
   "execution_count": 78,
   "metadata": {},
   "outputs": [],
   "source": [
    "country_speakers.id.to_csv('data/country_speaker_qids.csv')"
   ]
  },
  {
   "cell_type": "code",
   "execution_count": 79,
   "metadata": {},
   "outputs": [],
   "source": [
    "with open('data/signi-quote-count-combined_1636253317430.json') as f:\n",
    "    signi_quote_count_dict = json.load(f)"
   ]
  },
  {
   "cell_type": "code",
   "execution_count": 80,
   "metadata": {},
   "outputs": [],
   "source": [
    "signi_quote_count_df = pd.Series(signi_quote_count_dict, name='signi_quote_count')"
   ]
  },
  {
   "cell_type": "code",
   "execution_count": 81,
   "metadata": {},
   "outputs": [],
   "source": [
    "# Merge these country speakers with speakers who have significant number of quotes\n",
    "signi_country_speakers = country_speakers.merge(signi_quote_count_df, left_on='id', right_index=True, how='inner')"
   ]
  },
  {
   "cell_type": "code",
   "execution_count": 83,
   "metadata": {},
   "outputs": [
    {
     "data": {
      "text/plain": [
       "436152"
      ]
     },
     "execution_count": 83,
     "metadata": {},
     "output_type": "execute_result"
    }
   ],
   "source": [
    "len(signi_country_speakers)"
   ]
  },
  {
   "cell_type": "code",
   "execution_count": 87,
   "metadata": {},
   "outputs": [
    {
     "data": {
      "text/plain": [
       "19083"
      ]
     },
     "execution_count": 87,
     "metadata": {},
     "output_type": "execute_result"
    }
   ],
   "source": [
    "# Number of speakers who have more than 1 nationality\n",
    "(signi_country_speakers.nationality.apply(lambda nt: len(nt)) > 1).sum()"
   ]
  },
  {
   "cell_type": "code",
   "execution_count": 92,
   "metadata": {},
   "outputs": [],
   "source": [
    "# Filter out those nationalities that are not legitimate countries\n",
    "signi_country_speakers['country'] = signi_country_speakers.nationality.apply(lambda nt: [n for n in nt if n in country_qids])"
   ]
  },
  {
   "cell_type": "code",
   "execution_count": 96,
   "metadata": {},
   "outputs": [
    {
     "data": {
      "text/plain": [
       "10291"
      ]
     },
     "execution_count": 96,
     "metadata": {},
     "output_type": "execute_result"
    }
   ],
   "source": [
    "# Number of speakers with more nationalities after filtering\n",
    "(signi_country_speakers.country.apply(lambda nt: len(nt)) > 1).sum()"
   ]
  },
  {
   "cell_type": "code",
   "execution_count": 97,
   "metadata": {},
   "outputs": [],
   "source": [
    "# Take the first nationality as a country\n",
    "signi_country_speakers['country'] = signi_country_speakers.country.apply(lambda c: c[0])"
   ]
  },
  {
   "cell_type": "code",
   "execution_count": 102,
   "metadata": {},
   "outputs": [],
   "source": [
    "# Speakers grouped by country\n",
    "speakers_by_country = signi_country_speakers.groupby('country')"
   ]
  },
  {
   "cell_type": "code",
   "execution_count": 103,
   "metadata": {},
   "outputs": [
    {
     "data": {
      "text/plain": [
       "country\n",
       "Q1000     35\n",
       "Q1005    113\n",
       "Q1006     91\n",
       "Q1007     24\n",
       "Q1008    174\n",
       "        ... \n",
       "Q971      48\n",
       "Q974     179\n",
       "Q977      11\n",
       "Q983      12\n",
       "Q986      49\n",
       "Length: 219, dtype: int64"
      ]
     },
     "execution_count": 103,
     "metadata": {},
     "output_type": "execute_result"
    }
   ],
   "source": [
    "speakers_by_country.size()"
   ]
  },
  {
   "cell_type": "code",
   "execution_count": 104,
   "metadata": {},
   "outputs": [
    {
     "data": {
      "text/plain": [
       "(1, 146486)"
      ]
     },
     "execution_count": 104,
     "metadata": {},
     "output_type": "execute_result"
    }
   ],
   "source": [
    "speakers_by_country.size().min(), speakers_by_country.size().max()"
   ]
  },
  {
   "cell_type": "code",
   "execution_count": 110,
   "metadata": {},
   "outputs": [
    {
     "data": {
      "text/html": [
       "<div>\n",
       "<style scoped>\n",
       "    .dataframe tbody tr th:only-of-type {\n",
       "        vertical-align: middle;\n",
       "    }\n",
       "\n",
       "    .dataframe tbody tr th {\n",
       "        vertical-align: top;\n",
       "    }\n",
       "\n",
       "    .dataframe thead th {\n",
       "        text-align: right;\n",
       "    }\n",
       "</style>\n",
       "<table border=\"1\" class=\"dataframe\">\n",
       "  <thead>\n",
       "    <tr style=\"text-align: right;\">\n",
       "      <th></th>\n",
       "      <th>aliases</th>\n",
       "      <th>date_of_birth</th>\n",
       "      <th>nationality</th>\n",
       "      <th>gender</th>\n",
       "      <th>lastrevid</th>\n",
       "      <th>ethnic_group</th>\n",
       "      <th>US_congress_bio_ID</th>\n",
       "      <th>occupation</th>\n",
       "      <th>party</th>\n",
       "      <th>academic_degree</th>\n",
       "      <th>id</th>\n",
       "      <th>label</th>\n",
       "      <th>candidacy</th>\n",
       "      <th>type</th>\n",
       "      <th>religion</th>\n",
       "      <th>signi_quote_count</th>\n",
       "    </tr>\n",
       "    <tr>\n",
       "      <th>country</th>\n",
       "      <th></th>\n",
       "      <th></th>\n",
       "      <th></th>\n",
       "      <th></th>\n",
       "      <th></th>\n",
       "      <th></th>\n",
       "      <th></th>\n",
       "      <th></th>\n",
       "      <th></th>\n",
       "      <th></th>\n",
       "      <th></th>\n",
       "      <th></th>\n",
       "      <th></th>\n",
       "      <th></th>\n",
       "      <th></th>\n",
       "      <th></th>\n",
       "    </tr>\n",
       "  </thead>\n",
       "  <tbody>\n",
       "    <tr>\n",
       "      <th>Q30</th>\n",
       "      <td>33081</td>\n",
       "      <td>133039</td>\n",
       "      <td>146486</td>\n",
       "      <td>146344</td>\n",
       "      <td>146486</td>\n",
       "      <td>9646</td>\n",
       "      <td>1488</td>\n",
       "      <td>143867</td>\n",
       "      <td>15668</td>\n",
       "      <td>1285</td>\n",
       "      <td>146486</td>\n",
       "      <td>146486</td>\n",
       "      <td>157</td>\n",
       "      <td>146486</td>\n",
       "      <td>4579</td>\n",
       "      <td>146486</td>\n",
       "    </tr>\n",
       "    <tr>\n",
       "      <th>Q145</th>\n",
       "      <td>11741</td>\n",
       "      <td>45831</td>\n",
       "      <td>48328</td>\n",
       "      <td>48247</td>\n",
       "      <td>48328</td>\n",
       "      <td>484</td>\n",
       "      <td>0</td>\n",
       "      <td>47576</td>\n",
       "      <td>2626</td>\n",
       "      <td>273</td>\n",
       "      <td>48328</td>\n",
       "      <td>48328</td>\n",
       "      <td>1681</td>\n",
       "      <td>48328</td>\n",
       "      <td>1130</td>\n",
       "      <td>48328</td>\n",
       "    </tr>\n",
       "    <tr>\n",
       "      <th>Q16</th>\n",
       "      <td>3366</td>\n",
       "      <td>21215</td>\n",
       "      <td>23987</td>\n",
       "      <td>23963</td>\n",
       "      <td>23987</td>\n",
       "      <td>220</td>\n",
       "      <td>0</td>\n",
       "      <td>23046</td>\n",
       "      <td>3106</td>\n",
       "      <td>121</td>\n",
       "      <td>23987</td>\n",
       "      <td>23987</td>\n",
       "      <td>800</td>\n",
       "      <td>23987</td>\n",
       "      <td>401</td>\n",
       "      <td>23987</td>\n",
       "    </tr>\n",
       "    <tr>\n",
       "      <th>Q408</th>\n",
       "      <td>3888</td>\n",
       "      <td>16578</td>\n",
       "      <td>18281</td>\n",
       "      <td>18248</td>\n",
       "      <td>18281</td>\n",
       "      <td>123</td>\n",
       "      <td>0</td>\n",
       "      <td>17978</td>\n",
       "      <td>2100</td>\n",
       "      <td>64</td>\n",
       "      <td>18281</td>\n",
       "      <td>18281</td>\n",
       "      <td>389</td>\n",
       "      <td>18281</td>\n",
       "      <td>318</td>\n",
       "      <td>18281</td>\n",
       "    </tr>\n",
       "    <tr>\n",
       "      <th>Q183</th>\n",
       "      <td>1777</td>\n",
       "      <td>16875</td>\n",
       "      <td>17158</td>\n",
       "      <td>17157</td>\n",
       "      <td>17158</td>\n",
       "      <td>106</td>\n",
       "      <td>0</td>\n",
       "      <td>16795</td>\n",
       "      <td>2626</td>\n",
       "      <td>1338</td>\n",
       "      <td>17158</td>\n",
       "      <td>17158</td>\n",
       "      <td>465</td>\n",
       "      <td>17158</td>\n",
       "      <td>698</td>\n",
       "      <td>17158</td>\n",
       "    </tr>\n",
       "    <tr>\n",
       "      <th>...</th>\n",
       "      <td>...</td>\n",
       "      <td>...</td>\n",
       "      <td>...</td>\n",
       "      <td>...</td>\n",
       "      <td>...</td>\n",
       "      <td>...</td>\n",
       "      <td>...</td>\n",
       "      <td>...</td>\n",
       "      <td>...</td>\n",
       "      <td>...</td>\n",
       "      <td>...</td>\n",
       "      <td>...</td>\n",
       "      <td>...</td>\n",
       "      <td>...</td>\n",
       "      <td>...</td>\n",
       "      <td>...</td>\n",
       "    </tr>\n",
       "    <tr>\n",
       "      <th>Q237</th>\n",
       "      <td>1</td>\n",
       "      <td>2</td>\n",
       "      <td>2</td>\n",
       "      <td>2</td>\n",
       "      <td>2</td>\n",
       "      <td>2</td>\n",
       "      <td>0</td>\n",
       "      <td>2</td>\n",
       "      <td>0</td>\n",
       "      <td>1</td>\n",
       "      <td>2</td>\n",
       "      <td>2</td>\n",
       "      <td>0</td>\n",
       "      <td>2</td>\n",
       "      <td>2</td>\n",
       "      <td>2</td>\n",
       "    </tr>\n",
       "    <tr>\n",
       "      <th>Q180573</th>\n",
       "      <td>0</td>\n",
       "      <td>2</td>\n",
       "      <td>2</td>\n",
       "      <td>2</td>\n",
       "      <td>2</td>\n",
       "      <td>1</td>\n",
       "      <td>0</td>\n",
       "      <td>2</td>\n",
       "      <td>2</td>\n",
       "      <td>0</td>\n",
       "      <td>2</td>\n",
       "      <td>2</td>\n",
       "      <td>0</td>\n",
       "      <td>2</td>\n",
       "      <td>2</td>\n",
       "      <td>2</td>\n",
       "    </tr>\n",
       "    <tr>\n",
       "      <th>Q172640</th>\n",
       "      <td>0</td>\n",
       "      <td>1</td>\n",
       "      <td>1</td>\n",
       "      <td>1</td>\n",
       "      <td>1</td>\n",
       "      <td>0</td>\n",
       "      <td>0</td>\n",
       "      <td>1</td>\n",
       "      <td>0</td>\n",
       "      <td>0</td>\n",
       "      <td>1</td>\n",
       "      <td>1</td>\n",
       "      <td>0</td>\n",
       "      <td>1</td>\n",
       "      <td>0</td>\n",
       "      <td>1</td>\n",
       "    </tr>\n",
       "    <tr>\n",
       "      <th>Q12060881</th>\n",
       "      <td>0</td>\n",
       "      <td>1</td>\n",
       "      <td>1</td>\n",
       "      <td>1</td>\n",
       "      <td>1</td>\n",
       "      <td>0</td>\n",
       "      <td>0</td>\n",
       "      <td>1</td>\n",
       "      <td>0</td>\n",
       "      <td>0</td>\n",
       "      <td>1</td>\n",
       "      <td>1</td>\n",
       "      <td>0</td>\n",
       "      <td>1</td>\n",
       "      <td>0</td>\n",
       "      <td>1</td>\n",
       "    </tr>\n",
       "    <tr>\n",
       "      <th>Q6500954</th>\n",
       "      <td>0</td>\n",
       "      <td>1</td>\n",
       "      <td>1</td>\n",
       "      <td>1</td>\n",
       "      <td>1</td>\n",
       "      <td>0</td>\n",
       "      <td>0</td>\n",
       "      <td>1</td>\n",
       "      <td>0</td>\n",
       "      <td>0</td>\n",
       "      <td>1</td>\n",
       "      <td>1</td>\n",
       "      <td>0</td>\n",
       "      <td>1</td>\n",
       "      <td>0</td>\n",
       "      <td>1</td>\n",
       "    </tr>\n",
       "  </tbody>\n",
       "</table>\n",
       "<p>219 rows × 16 columns</p>\n",
       "</div>"
      ],
      "text/plain": [
       "           aliases  date_of_birth  nationality  gender  lastrevid  \\\n",
       "country                                                             \n",
       "Q30          33081         133039       146486  146344     146486   \n",
       "Q145         11741          45831        48328   48247      48328   \n",
       "Q16           3366          21215        23987   23963      23987   \n",
       "Q408          3888          16578        18281   18248      18281   \n",
       "Q183          1777          16875        17158   17157      17158   \n",
       "...            ...            ...          ...     ...        ...   \n",
       "Q237             1              2            2       2          2   \n",
       "Q180573          0              2            2       2          2   \n",
       "Q172640          0              1            1       1          1   \n",
       "Q12060881        0              1            1       1          1   \n",
       "Q6500954         0              1            1       1          1   \n",
       "\n",
       "           ethnic_group  US_congress_bio_ID  occupation  party  \\\n",
       "country                                                          \n",
       "Q30                9646                1488      143867  15668   \n",
       "Q145                484                   0       47576   2626   \n",
       "Q16                 220                   0       23046   3106   \n",
       "Q408                123                   0       17978   2100   \n",
       "Q183                106                   0       16795   2626   \n",
       "...                 ...                 ...         ...    ...   \n",
       "Q237                  2                   0           2      0   \n",
       "Q180573               1                   0           2      2   \n",
       "Q172640               0                   0           1      0   \n",
       "Q12060881             0                   0           1      0   \n",
       "Q6500954              0                   0           1      0   \n",
       "\n",
       "           academic_degree      id   label  candidacy    type  religion  \\\n",
       "country                                                                   \n",
       "Q30                   1285  146486  146486        157  146486      4579   \n",
       "Q145                   273   48328   48328       1681   48328      1130   \n",
       "Q16                    121   23987   23987        800   23987       401   \n",
       "Q408                    64   18281   18281        389   18281       318   \n",
       "Q183                  1338   17158   17158        465   17158       698   \n",
       "...                    ...     ...     ...        ...     ...       ...   \n",
       "Q237                     1       2       2          0       2         2   \n",
       "Q180573                  0       2       2          0       2         2   \n",
       "Q172640                  0       1       1          0       1         0   \n",
       "Q12060881                0       1       1          0       1         0   \n",
       "Q6500954                 0       1       1          0       1         0   \n",
       "\n",
       "           signi_quote_count  \n",
       "country                       \n",
       "Q30                   146486  \n",
       "Q145                   48328  \n",
       "Q16                    23987  \n",
       "Q408                   18281  \n",
       "Q183                   17158  \n",
       "...                      ...  \n",
       "Q237                       2  \n",
       "Q180573                    2  \n",
       "Q172640                    1  \n",
       "Q12060881                  1  \n",
       "Q6500954                   1  \n",
       "\n",
       "[219 rows x 16 columns]"
      ]
     },
     "execution_count": 110,
     "metadata": {},
     "output_type": "execute_result"
    }
   ],
   "source": [
    "speakers_by_country.count().sort_values(by=['id'], ascending=False)"
   ]
  },
  {
   "cell_type": "code",
   "execution_count": 138,
   "metadata": {},
   "outputs": [],
   "source": [
    "country_agg = speakers_by_country.agg({'id': 'count', 'signi_quote_count': 'sum'})"
   ]
  },
  {
   "cell_type": "code",
   "execution_count": 139,
   "metadata": {},
   "outputs": [
    {
     "data": {
      "text/plain": [
       "20"
      ]
     },
     "execution_count": 139,
     "metadata": {},
     "output_type": "execute_result"
    }
   ],
   "source": [
    "# Number of countries who have less number of speakers in the dataset\n",
    "(country_agg.id < 10).sum()"
   ]
  },
  {
   "cell_type": "code",
   "execution_count": 140,
   "metadata": {},
   "outputs": [
    {
     "data": {
      "text/plain": [
       "4"
      ]
     },
     "execution_count": 140,
     "metadata": {},
     "output_type": "execute_result"
    }
   ],
   "source": [
    "(country_agg.signi_quote_count < 10).sum()"
   ]
  },
  {
   "cell_type": "code",
   "execution_count": 149,
   "metadata": {},
   "outputs": [
    {
     "data": {
      "text/plain": [
       "[m'Imperial China',\n",
       " m'North Vietnam',\n",
       " m'South Vietnam',\n",
       " m'Vatican City',\n",
       " m'Republic of Artsakh',\n",
       " m'Tibet',\n",
       " m'Curaçao',\n",
       " m'Niue',\n",
       " m'Sahrawi Arab Democratic Republic',\n",
       " m'German Empire',\n",
       " m'Zaire',\n",
       " m'Danish Realm',\n",
       " m'Republic of Upper Volta']"
      ]
     },
     "execution_count": 149,
     "metadata": {},
     "output_type": "execute_result"
    }
   ],
   "source": [
    "underrep_countries = list(country_agg[country_agg.id < 5].index)\n",
    "[countries[c].label for c in underrep_countries]"
   ]
  },
  {
   "cell_type": "code",
   "execution_count": 155,
   "metadata": {},
   "outputs": [
    {
     "data": {
      "text/plain": [
       "[m'Imperial China',\n",
       " m'North Vietnam',\n",
       " m'South Vietnam',\n",
       " m'Aruba',\n",
       " m'Republic of Artsakh',\n",
       " m'Tibet',\n",
       " m'Zaire',\n",
       " m'Danish Realm',\n",
       " m'Republic of Upper Volta',\n",
       " m'Turkmenistan',\n",
       " m'Transnistria']"
      ]
     },
     "execution_count": 155,
     "metadata": {},
     "output_type": "execute_result"
    }
   ],
   "source": [
    "underrep_countries_by_quote = list(country_agg[country_agg.signi_quote_count < 30].index)\n",
    "[countries[c].label for c in underrep_countries_by_quote]"
   ]
  },
  {
   "cell_type": "code",
   "execution_count": 150,
   "metadata": {},
   "outputs": [
    {
     "data": {
      "text/html": [
       "<div>\n",
       "<style scoped>\n",
       "    .dataframe tbody tr th:only-of-type {\n",
       "        vertical-align: middle;\n",
       "    }\n",
       "\n",
       "    .dataframe tbody tr th {\n",
       "        vertical-align: top;\n",
       "    }\n",
       "\n",
       "    .dataframe thead th {\n",
       "        text-align: right;\n",
       "    }\n",
       "</style>\n",
       "<table border=\"1\" class=\"dataframe\">\n",
       "  <thead>\n",
       "    <tr style=\"text-align: right;\">\n",
       "      <th></th>\n",
       "      <th>id</th>\n",
       "      <th>signi_quote_count</th>\n",
       "    </tr>\n",
       "    <tr>\n",
       "      <th>country</th>\n",
       "      <th></th>\n",
       "      <th></th>\n",
       "    </tr>\n",
       "  </thead>\n",
       "  <tbody>\n",
       "    <tr>\n",
       "      <th>Q12060881</th>\n",
       "      <td>1</td>\n",
       "      <td>1</td>\n",
       "    </tr>\n",
       "    <tr>\n",
       "      <th>Q172640</th>\n",
       "      <td>1</td>\n",
       "      <td>1</td>\n",
       "    </tr>\n",
       "    <tr>\n",
       "      <th>Q180573</th>\n",
       "      <td>2</td>\n",
       "      <td>10</td>\n",
       "    </tr>\n",
       "    <tr>\n",
       "      <th>Q237</th>\n",
       "      <td>2</td>\n",
       "      <td>37501</td>\n",
       "    </tr>\n",
       "    <tr>\n",
       "      <th>Q244165</th>\n",
       "      <td>2</td>\n",
       "      <td>17</td>\n",
       "    </tr>\n",
       "    <tr>\n",
       "      <th>Q2444884</th>\n",
       "      <td>2</td>\n",
       "      <td>24</td>\n",
       "    </tr>\n",
       "    <tr>\n",
       "      <th>Q25279</th>\n",
       "      <td>3</td>\n",
       "      <td>48</td>\n",
       "    </tr>\n",
       "    <tr>\n",
       "      <th>Q34020</th>\n",
       "      <td>3</td>\n",
       "      <td>46</td>\n",
       "    </tr>\n",
       "    <tr>\n",
       "      <th>Q40362</th>\n",
       "      <td>4</td>\n",
       "      <td>60</td>\n",
       "    </tr>\n",
       "    <tr>\n",
       "      <th>Q43287</th>\n",
       "      <td>4</td>\n",
       "      <td>74</td>\n",
       "    </tr>\n",
       "    <tr>\n",
       "      <th>Q6500954</th>\n",
       "      <td>1</td>\n",
       "      <td>5</td>\n",
       "    </tr>\n",
       "    <tr>\n",
       "      <th>Q756617</th>\n",
       "      <td>4</td>\n",
       "      <td>26</td>\n",
       "    </tr>\n",
       "    <tr>\n",
       "      <th>Q797422</th>\n",
       "      <td>2</td>\n",
       "      <td>3</td>\n",
       "    </tr>\n",
       "  </tbody>\n",
       "</table>\n",
       "</div>"
      ],
      "text/plain": [
       "           id  signi_quote_count\n",
       "country                         \n",
       "Q12060881   1                  1\n",
       "Q172640     1                  1\n",
       "Q180573     2                 10\n",
       "Q237        2              37501\n",
       "Q244165     2                 17\n",
       "Q2444884    2                 24\n",
       "Q25279      3                 48\n",
       "Q34020      3                 46\n",
       "Q40362      4                 60\n",
       "Q43287      4                 74\n",
       "Q6500954    1                  5\n",
       "Q756617     4                 26\n",
       "Q797422     2                  3"
      ]
     },
     "execution_count": 150,
     "metadata": {},
     "output_type": "execute_result"
    }
   ],
   "source": [
    "country_agg[country_agg.index.isin(underrep_countries)]"
   ]
  },
  {
   "cell_type": "code",
   "execution_count": null,
   "metadata": {},
   "outputs": [],
   "source": []
  }
 ],
 "metadata": {
  "interpreter": {
   "hash": "f6a042026b0d43fbad8d0b7067c0734de16ecabdfc65158b395d6da2054a1561"
  },
  "kernelspec": {
   "display_name": "Python 3.8.11 64-bit ('ada': conda)",
   "language": "python",
   "name": "python3"
  },
  "language_info": {
   "codemirror_mode": {
    "name": "ipython",
    "version": 3
   },
   "file_extension": ".py",
   "mimetype": "text/x-python",
   "name": "python",
   "nbconvert_exporter": "python",
   "pygments_lexer": "ipython3",
   "version": "3.8.11"
  },
  "orig_nbformat": 4
 },
 "nbformat": 4,
 "nbformat_minor": 2
}
